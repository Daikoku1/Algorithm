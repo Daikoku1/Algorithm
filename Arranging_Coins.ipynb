{
  "nbformat": 4,
  "nbformat_minor": 0,
  "metadata": {
    "colab": {
      "name": "Arranging Coins.ipynb",
      "provenance": [],
      "authorship_tag": "ABX9TyM4fYyU1SKziLVuZQu0DLjs"
    },
    "kernelspec": {
      "name": "python3",
      "display_name": "Python 3"
    }
  },
  "cells": [
    {
      "cell_type": "code",
      "metadata": {
        "id": "vr0S7J5v0H6t",
        "colab_type": "code",
        "colab": {}
      },
      "source": [
        "# 기본코드\n",
        "# 속도 느림 (40%만 이겼다..)\n",
        "class Solution:\n",
        "    def arrangeCoins(self, n: int) -> int:\n",
        "        sum_num = 0\n",
        "        idx = 1\n",
        "        while True:\n",
        "            sum_num += idx\n",
        "            if sum_num > n:\n",
        "                return idx - 1\n",
        "            idx += 1"
      ],
      "execution_count": null,
      "outputs": []
    },
    {
      "cell_type": "markdown",
      "metadata": {
        "id": "zfcbg75W1Irn",
        "colab_type": "text"
      },
      "source": [
        "# 중학교 수학\n",
        "k * (k+1) / 2 = n\n",
        "\n",
        "k**2 + k -2*n = 0\n",
        "\n",
        "k = (-b +-root(b**2 -4*a*c) ) / 2 * a\n",
        "\n",
        "---\n",
        "\n",
        "\n",
        "> 들여쓴 블록\n",
        "\n"
      ]
    },
    {
      "cell_type": "code",
      "metadata": {
        "id": "Rgei83b30Y_u",
        "colab_type": "code",
        "colab": {}
      },
      "source": [
        "# 역시 알고리즘은 수학이다!\n",
        "from math import sqrt\n",
        "class Solution:\n",
        "    def arrangeCoins(self, n: int) -> int:\n",
        "        return int(((-1 + sqrt(1 + 8*n))/2))"
      ],
      "execution_count": null,
      "outputs": []
    }
  ]
}