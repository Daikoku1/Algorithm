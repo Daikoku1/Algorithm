{
  "nbformat": 4,
  "nbformat_minor": 0,
  "metadata": {
    "colab": {
      "name": "Rotting Oranges.ipynb",
      "provenance": [],
      "collapsed_sections": [],
      "include_colab_link": true
    },
    "kernelspec": {
      "name": "python3",
      "display_name": "Python 3"
    }
  },
  "cells": [
    {
      "cell_type": "markdown",
      "metadata": {
        "id": "view-in-github",
        "colab_type": "text"
      },
      "source": [
        "<a href=\"https://colab.research.google.com/github/Daikoku1/Algorithm_LeetCode/blob/master/Rotting_Oranges.ipynb\" target=\"_parent\"><img src=\"https://colab.research.google.com/assets/colab-badge.svg\" alt=\"Open In Colab\"/></a>"
      ]
    },
    {
      "cell_type": "code",
      "metadata": {
        "id": "22a866q_Q1Pp",
        "colab_type": "code",
        "colab": {}
      },
      "source": [
        "# 44 ms(97%)\n",
        "class Solution:\n",
        "    def orangesRotting(self, grid: List[List[int]]) -> int:\n",
        "        def check(x, y):\n",
        "            for d in [(1,0), (-1,0), (0,1), (0,-1)]:\n",
        "                new_x, new_y = x+d[0], y+d[1]\n",
        "                if -1<new_x<M and -1<new_y<N and grid[new_x][new_y] ==2:\n",
        "                    return False\n",
        "            return True\n",
        "        \n",
        "        rotten = False\n",
        "        M = len(grid)\n",
        "        N = len(grid[0])\n",
        "        fresh = []\n",
        "        for i in range(M):\n",
        "            for j in range(N):\n",
        "                if grid[i][j] == 1:\n",
        "                    fresh.append((i,j))\n",
        "                elif grid[i][j] == 2:\n",
        "                    rotten = True\n",
        "        if not fresh:\n",
        "            return 0\n",
        "        elif not rotten:\n",
        "            return -1\n",
        "        \n",
        "        day = 0\n",
        "        while fresh:\n",
        "            new_fresh = []\n",
        "            new_rotten = []\n",
        "            for idx, (x, y) in enumerate(fresh):\n",
        "                if check(x,y):\n",
        "                    new_fresh.append((x,y))\n",
        "                else:\n",
        "                    new_rotten.append((x,y))\n",
        "            if len(new_fresh) == idx+1:\n",
        "                return -1\n",
        "            for x2,y2 in new_rotten:\n",
        "                grid[x2][y2] = 2\n",
        "            fresh a= new_fresh.copy()\n",
        "            day +=1\n",
        "        return day"
      ],
      "execution_count": null,
      "outputs": []
    },
    {
      "cell_type": "code",
      "metadata": {
        "id": "VKACuoMYQ3dA",
        "colab_type": "code",
        "colab": {}
      },
      "source": [
        "# 44 ms(97%)\n",
        "from collections import deque\n",
        "class Solution:\n",
        "    def orangesRotting(self, grid: List[List[int]]) -> int:\n",
        "        M, N = len(grid), len(grid[0])\n",
        "        fresh, rotten  = 0, deque()\n",
        "        for i in range(M):\n",
        "            for j in range(N):\n",
        "                if grid[i][j] == 1:\n",
        "                    fresh += 1\n",
        "                elif grid[i][j] == 2:\n",
        "                    rotten.append((i,j))\n",
        "        \n",
        "        day = 0\n",
        "        while rotten:\n",
        "            day += 1\n",
        "            for _ in range(len(rotten)):\n",
        "                x, y = rotten.popleft()\n",
        "                for d in [(1,0), (-1,0), (0,1), (0,-1)]:\n",
        "                    new_x, new_y = x+d[0], y+d[1]\n",
        "                    if -1<new_x<M and -1<new_y<N and grid[new_x][new_y] == 1:\n",
        "                        grid[new_x][new_y] = 2\n",
        "                        rotten.append((new_x, new_y))\n",
        "                        fresh -= 1\n",
        "        return -1 if fresh != 0 else max(day -1, 0)"
      ],
      "execution_count": null,
      "outputs": []
    }
  ]
}