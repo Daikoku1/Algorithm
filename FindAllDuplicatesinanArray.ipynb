{
  "nbformat": 4,
  "nbformat_minor": 0,
  "metadata": {
    "colab": {
      "name": "FindAllDuplicatesinanArray.ipynb",
      "provenance": [],
      "authorship_tag": "ABX9TyOaw/naFL/dQKOkfg9SpRXP"
    },
    "kernelspec": {
      "name": "python3",
      "display_name": "Python 3"
    }
  },
  "cells": [
    {
      "cell_type": "code",
      "metadata": {
        "id": "HLForskrfroT",
        "colab_type": "code",
        "colab": {}
      },
      "source": [
        "# 512 ms(30%)\n",
        "class Solution:\n",
        "    def findDuplicates(self, nums: List[int]) -> List[int]:\n",
        "        dic = {}\n",
        "        result = []\n",
        "        for num in nums:\n",
        "            if num in dic:\n",
        "                result.append(num)\n",
        "            else:\n",
        "                dic[num] = 1\n",
        "        return result"
      ],
      "execution_count": null,
      "outputs": []
    },
    {
      "cell_type": "code",
      "metadata": {
        "id": "tf39t0sWg1xq",
        "colab_type": "code",
        "colab": {}
      },
      "source": [
        "# 452 ms(42%)\n",
        "from collections import defaultdict\n",
        "class Solution:\n",
        "    def findDuplicates(self, nums: List[int]) -> List[int]:\n",
        "        dic = defaultdict(int)\n",
        "        result = []\n",
        "        for num in nums:\n",
        "            if dic[num]:\n",
        "                result.append(num)\n",
        "            else:\n",
        "                dic[num] = 1\n",
        "        return result"
      ],
      "execution_count": null,
      "outputs": []
    },
    {
      "cell_type": "code",
      "metadata": {
        "id": "YRwY83T-cTTd",
        "colab_type": "code",
        "colab": {
          "base_uri": "https://localhost:8080/",
          "height": 167
        },
        "outputId": "7f46edcc-c1ff-4e14-aba4-91e0e8a1f13d"
      },
      "source": [
        "# 388 ms(81%)\n",
        "class Solution:\n",
        "    def findDuplicates(self, nums: List[int]) -> List[int]:\n",
        "        answer = []\n",
        "        for num in nums:\n",
        "            num = abs(num)\n",
        "            if nums[num-1] < 0:\n",
        "                answer.append(num)\n",
        "            else:\n",
        "                nums[num-1] *= -1\n",
        "        return answer"
      ],
      "execution_count": 4,
      "outputs": [
        {
          "output_type": "stream",
          "text": [
            "[4, 3, 2, 7, 8, 2, 3, 1]\n",
            "[7, 3, 2, 4, 8, 2, 3, 1]\n",
            "[7, 2, 3, 4, 8, 2, 3, 1]\n",
            "[7, 2, 3, 4, 8, 2, 3, 1]\n",
            "[7, 2, 3, 4, 8, 2, 3, 1]\n",
            "[7, 2, 3, 4, 1, 2, 3, 8]\n",
            "[7, 2, 3, 4, 1, 2, 3, 8]\n",
            "[7, 2, 3, 4, 1, 2, 3, 8]\n",
            "[7, 2, 3, 4, 1, 2, 3, 8]\n"
          ],
          "name": "stdout"
        }
      ]
    }
  ]
}