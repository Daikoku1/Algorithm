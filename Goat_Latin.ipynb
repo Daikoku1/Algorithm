{
  "nbformat": 4,
  "nbformat_minor": 0,
  "metadata": {
    "colab": {
      "name": "Goat Latin.ipynb",
      "provenance": [],
      "authorship_tag": "ABX9TyOrBPxDDwXCE3kwrNuRjK6d"
    },
    "kernelspec": {
      "name": "python3",
      "display_name": "Python 3"
    }
  },
  "cells": [
    {
      "cell_type": "markdown",
      "metadata": {
        "id": "MfjnZT1zVbIx",
        "colab_type": "text"
      },
      "source": [
        "- If a word begins with a vowel (a, e, i, o, or u), append \"ma\" to the end of the word.\n",
        "    - For example, the word 'apple' becomes 'applema'.\n",
        " \n",
        "- If a word begins with a consonant (i.e. not a vowel), remove the first letter and append it to the end, then add \"ma\".\n",
        "    - For example, the word \"goat\" becomes \"oatgma\".\n",
        " \n",
        "- Add one letter 'a' to the end of each word per its word index in the sentence, starting with 1.\n",
        "    - For example, the first word gets \"a\" added to the end, the second word gets \"aa\" added to the end and so on.\n"
      ]
    },
    {
      "cell_type": "code",
      "metadata": {
        "id": "qgcNii5xW-U1",
        "colab_type": "code",
        "colab": {}
      },
      "source": [
        "# 32 ms(61%)\n",
        "def toGoatLatin(S):\n",
        "    answer = ''\n",
        "    for idx, val in enumerate(S.split(' ')):\n",
        "        if val[0].lower() in ['a', 'e', 'i', 'o', 'u']:\n",
        "            val += 'ma'\n",
        "        else:\n",
        "            val = val[1:] + val[0] + 'ma'\n",
        "        val += 'a' * (idx+1)\n",
        "        answer = answer + ' ' + val\n",
        "    return answer[1:]"
      ],
      "execution_count": 16,
      "outputs": []
    },
    {
      "cell_type": "code",
      "metadata": {
        "id": "fZePTbMqZX4Y",
        "colab_type": "code",
        "colab": {}
      },
      "source": [
        "# 24 ms(94%)\n",
        "def toGoatLatin(S):\n",
        "    result = []\n",
        "    for idx, val in enumerate(S.split(' ')):\n",
        "        if val[0].lower() in ['a', 'e', 'i', 'o', 'u']:\n",
        "            val += 'ma'\n",
        "        else:\n",
        "            val = val[1:] + val[0] + 'ma'\n",
        "        val += 'a' * (idx+1)\n",
        "        result.append(val)\n",
        "    return ' '.join(result)"
      ],
      "execution_count": 19,
      "outputs": []
    },
    {
      "cell_type": "code",
      "metadata": {
        "id": "oV0u0ZmgXPAM",
        "colab_type": "code",
        "colab": {
          "base_uri": "https://localhost:8080/",
          "height": 35
        },
        "outputId": "cb8cc40f-4d5c-47d6-aaec-bc9ecb99d0f5"
      },
      "source": [
        "s = \"I speak Goat Latin\"\n",
        "toGoatLatin(s)\n",
        "# Output: \"Imaa peaksmaaa oatGmaaaa atinLmaaaaa\""
      ],
      "execution_count": 17,
      "outputs": [
        {
          "output_type": "execute_result",
          "data": {
            "application/vnd.google.colaboratory.intrinsic+json": {
              "type": "string"
            },
            "text/plain": [
              "'Imaa peaksmaaa oatGmaaaa atinLmaaaaa'"
            ]
          },
          "metadata": {
            "tags": []
          },
          "execution_count": 17
        }
      ]
    },
    {
      "cell_type": "code",
      "metadata": {
        "id": "FswozgG1VWXi",
        "colab_type": "code",
        "colab": {}
      },
      "source": [
        "s = \"The quick brown fox jumped over the lazy dog\"\n",
        "toGoatLatin(s)\n",
        "# Output: \"heTmaa uickqmaaa rownbmaaaa oxfmaaaaa umpedjmaaaaaa overmaaaaaaa hetmaaaaaaaa azylmaaaaaaaaa ogdmaaaaaaaaaa\""
      ],
      "execution_count": 1,
      "outputs": []
    }
  ]
}