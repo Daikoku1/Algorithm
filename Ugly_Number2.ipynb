{
  "nbformat": 4,
  "nbformat_minor": 0,
  "metadata": {
    "colab": {
      "name": "Ugly Number2.ipynb",
      "provenance": [],
      "authorship_tag": "ABX9TyNy8mBM7ACiKR1H8ly0TKeg",
      "include_colab_link": true
    },
    "kernelspec": {
      "name": "python3",
      "display_name": "Python 3"
    }
  },
  "cells": [
    {
      "cell_type": "markdown",
      "metadata": {
        "id": "view-in-github",
        "colab_type": "text"
      },
      "source": [
        "<a href=\"https://colab.research.google.com/github/Daikoku1/Algorithm_LeetCode/blob/master/Ugly_Number2.ipynb\" target=\"_parent\"><img src=\"https://colab.research.google.com/assets/colab-badge.svg\" alt=\"Open In Colab\"/></a>"
      ]
    },
    {
      "cell_type": "code",
      "metadata": {
        "id": "rW4qE6Q6IVRa",
        "colab_type": "code",
        "colab": {}
      },
      "source": [
        "class Solution:\n",
        "    def nthUglyNumber(self, n: int) -> int:\n",
        "        ugly = [1] * n\n",
        "        i2, i3, i5 = 0, 0, 0\n",
        "        idx = 1\n",
        "        while idx < n:\n",
        "            ugly[idx] = min(2 * ugly[i2], 3 * ugly[i3], 5 * ugly[i5])\n",
        "            if ugly[idx] == 2 * ugly[i2]:\n",
        "                i2 += 1\n",
        "            if ugly[idx] == 3 * ugly[i3]:\n",
        "                i3 += 1\n",
        "            if ugly[idx] == 5 * ugly[i5]:\n",
        "                i5 += 1\n",
        "            idx += 1\n",
        "        return ugly[-1]"
      ],
      "execution_count": 23,
      "outputs": []
    },
    {
      "cell_type": "code",
      "metadata": {
        "id": "e8LY1GFXONYo",
        "colab_type": "code",
        "colab": {}
      },
      "source": [
        "def nthUglyNumber(n):\n",
        "    ugly = [1] * n\n",
        "    i2, i3, i5 = 0, 0, 0\n",
        "    idx = 1\n",
        "    while idx < n:\n",
        "        ugly[idx] = min(2 * ugly[i2], 3 * ugly[i3], 5 * ugly[i5])\n",
        "        if ugly[idx] == 2 * ugly[i2]:\n",
        "            i2 += 1\n",
        "        if ugly[idx] == 3 * ugly[i3]:\n",
        "            i3 += 1\n",
        "        if ugly[idx] == 5 * ugly[i5]:\n",
        "            i5 += 1\n",
        "        idx += 1\n",
        "    return ugly[-1]"
      ],
      "execution_count": 24,
      "outputs": []
    },
    {
      "cell_type": "code",
      "metadata": {
        "id": "jAnpHcmmOR6o",
        "colab_type": "code",
        "colab": {
          "base_uri": "https://localhost:8080/",
          "height": 34
        },
        "outputId": "eba5945a-d10c-4e0e-c834-88db23a1129e"
      },
      "source": [
        "num = nthUglyNumber(1690)\n",
        "num"
      ],
      "execution_count": 26,
      "outputs": [
        {
          "output_type": "execute_result",
          "data": {
            "text/plain": [
              "2123366400"
            ]
          },
          "metadata": {
            "tags": []
          },
          "execution_count": 26
        }
      ]
    },
    {
      "cell_type": "code",
      "metadata": {
        "id": "uLdOJavxOV7c",
        "colab_type": "code",
        "colab": {
          "base_uri": "https://localhost:8080/",
          "height": 70
        },
        "outputId": "d9393406-651d-423d-e05c-b70300b1af1a"
      },
      "source": [
        "# num = 2123366400\n",
        "for i in range(50):\n",
        "    if 2**i > num:\n",
        "        print('2', i)\n",
        "        break\n",
        "for i in range(50):\n",
        "    if 3**i > num:\n",
        "        print('3', i)\n",
        "        break\n",
        "for i in range(50):\n",
        "    if 5**i > num:\n",
        "        print('5', i)\n",
        "        break"
      ],
      "execution_count": 27,
      "outputs": [
        {
          "output_type": "stream",
          "text": [
            "2 31\n",
            "3 20\n",
            "5 14\n"
          ],
          "name": "stdout"
        }
      ]
    },
    {
      "cell_type": "code",
      "metadata": {
        "id": "nTcDiFClOnWV",
        "colab_type": "code",
        "colab": {}
      },
      "source": [
        "class Solution:\n",
        "    ugly = sorted([2**x * 3**y * 5**z for x in range(31) for y in range(20) for z in range(14)])\n",
        "    def nthUglyNumber(self, n):\n",
        "        return self.ugly[n-1]"
      ],
      "execution_count": null,
      "outputs": []
    },
    {
      "cell_type": "code",
      "metadata": {
        "id": "mOtZnsCpSnBs",
        "colab_type": "code",
        "colab": {}
      },
      "source": [
        ""
      ],
      "execution_count": null,
      "outputs": []
    }
  ]
}