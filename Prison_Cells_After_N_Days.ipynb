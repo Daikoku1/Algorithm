{
  "nbformat": 4,
  "nbformat_minor": 0,
  "metadata": {
    "colab": {
      "name": "Prison Cells After N Days.ipynb",
      "provenance": [],
      "authorship_tag": "ABX9TyPtHDXTbCzBuT8BMGUstocQ",
      "include_colab_link": true
    },
    "kernelspec": {
      "name": "python3",
      "display_name": "Python 3"
    }
  },
  "cells": [
    {
      "cell_type": "markdown",
      "metadata": {
        "id": "view-in-github",
        "colab_type": "text"
      },
      "source": [
        "<a href=\"https://colab.research.google.com/github/Daikoku1/Algorithm_LeetCode/blob/master/Prison_Cells_After_N_Days.ipynb\" target=\"_parent\"><img src=\"https://colab.research.google.com/assets/colab-badge.svg\" alt=\"Open In Colab\"/></a>"
      ]
    },
    {
      "cell_type": "code",
      "metadata": {
        "id": "vPM46_yWQbiw",
        "colab_type": "code",
        "colab": {}
      },
      "source": [
        "# 시간초과가 걸릴거야\n",
        "# 음 역시 걸렸다\n",
        "def prisonAfterNDays(cells, N):\n",
        "    idx = 0\n",
        "    while idx < N:\n",
        "        print(idx, cells)\n",
        "        idx += 1\n",
        "        result = [0] * 8\n",
        "        for i in range(1, 7):\n",
        "            if cells[i-1] == cells[i+1]:\n",
        "                result[i] = 1\n",
        "        cells = result.copy()\n",
        "\n",
        "    return cells"
      ],
      "execution_count": 1,
      "outputs": []
    },
    {
      "cell_type": "code",
      "metadata": {
        "id": "-5o2CjgaQitn",
        "colab_type": "code",
        "colab": {
          "base_uri": "https://localhost:8080/",
          "height": 160
        },
        "outputId": "579e629c-85c0-4dad-f792-9292e4bc51c8"
      },
      "source": [
        "cells = [0,1,0,1,1,0,0,1]\n",
        "N = 7\n",
        "# output = [0,0,1,1,0,0,0,0]\n",
        "prisonAfterNDays(cells, N)"
      ],
      "execution_count": 2,
      "outputs": [
        {
          "output_type": "stream",
          "text": [
            "0 [0, 1, 0, 1, 1, 0, 0, 1]\n",
            "1 [0, 1, 1, 0, 0, 0, 0, 0]\n",
            "2 [0, 0, 0, 0, 1, 1, 1, 0]\n",
            "3 [0, 1, 1, 0, 0, 1, 0, 0]\n",
            "4 [0, 0, 0, 0, 0, 1, 0, 0]\n",
            "5 [0, 1, 1, 1, 0, 1, 0, 0]\n",
            "6 [0, 0, 1, 0, 1, 1, 0, 0]\n"
          ],
          "name": "stdout"
        },
        {
          "output_type": "execute_result",
          "data": {
            "text/plain": [
              "[0, 0, 1, 1, 0, 0, 0, 0]"
            ]
          },
          "metadata": {
            "tags": []
          },
          "execution_count": 2
        }
      ]
    },
    {
      "cell_type": "code",
      "metadata": {
        "id": "mI5aSrX2RLzM",
        "colab_type": "code",
        "colab": {
          "base_uri": "https://localhost:8080/",
          "height": 34
        },
        "outputId": "3871e790-317a-46f4-9dee-9108c6d24ac5"
      },
      "source": [
        "2**6"
      ],
      "execution_count": 3,
      "outputs": [
        {
          "output_type": "execute_result",
          "data": {
            "text/plain": [
              "64"
            ]
          },
          "metadata": {
            "tags": []
          },
          "execution_count": 3
        }
      ]
    },
    {
      "cell_type": "code",
      "metadata": {
        "id": "a6cD4rDqQpT-",
        "colab_type": "code",
        "colab": {}
      },
      "source": [
        "# 첫번째랑 마지막은 무조건 0 (한쪽만 존재하니까)\n",
        "# 어차피 2**6 = 64개니까\n",
        "# 64개가 돌아가는 거다\n",
        "# 따라서 반복된다\n",
        "# 요거 찾아서 N빵하면 해결\n",
        "# 근데 요런 방법 말고 다른 거 확인!"
      ],
      "execution_count": 4,
      "outputs": []
    },
    {
      "cell_type": "code",
      "metadata": {
        "id": "WxjrypnUUjLH",
        "colab_type": "code",
        "colab": {}
      },
      "source": [
        "# 일단 코드하나.\n",
        "def prisonAfterNDays(cells, N):\n",
        "    cell_list = []\n",
        "    idx = 0\n",
        "    while idx < N:\n",
        "        idx += 1\n",
        "        result = [0] * 8\n",
        "        for i in range(1, 7):\n",
        "            if cells[i-1] == cells[i+1]:\n",
        "                result[i] = 1\n",
        "        cells = result.copy()\n",
        "        if not cells in cell_list:\n",
        "            cell_list.append(cells)\n",
        "        else:\n",
        "            for i, val in enumerate(cell_list):\n",
        "                if val == cells:\n",
        "                    r = (N - idx) % (idx - i -1)\n",
        "\n",
        "                    return cell_list[r+i]\n",
        "\n",
        "    return cells"
      ],
      "execution_count": 5,
      "outputs": []
    },
    {
      "cell_type": "code",
      "metadata": {
        "id": "ao2tuI_ovngH",
        "colab_type": "code",
        "colab": {}
      },
      "source": [
        ""
      ],
      "execution_count": null,
      "outputs": []
    },
    {
      "cell_type": "code",
      "metadata": {
        "id": "ym7p1I5hlW5w",
        "colab_type": "code",
        "colab": {
          "base_uri": "https://localhost:8080/",
          "height": 34
        },
        "outputId": "fe55834f-d5de-4b7f-a7fd-c23c27c5e91e"
      },
      "source": [
        "cells = [0,1,0,1,1,0,0,1]\n",
        "N = 7\n",
        "# output = [0,0,1,1,0,0,0,0]\n",
        "prisonAfterNDays(cells, N)"
      ],
      "execution_count": 6,
      "outputs": [
        {
          "output_type": "execute_result",
          "data": {
            "text/plain": [
              "[0, 0, 1, 1, 0, 0, 0, 0]"
            ]
          },
          "metadata": {
            "tags": []
          },
          "execution_count": 6
        }
      ]
    },
    {
      "cell_type": "code",
      "metadata": {
        "id": "PBUugxSDV-v5",
        "colab_type": "code",
        "colab": {}
      },
      "source": [
        ""
      ],
      "execution_count": null,
      "outputs": []
    }
  ]
}