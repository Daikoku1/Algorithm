{
  "nbformat": 4,
  "nbformat_minor": 0,
  "metadata": {
    "colab": {
      "name": "SortCharactersByFrequency.ipynb",
      "provenance": [],
      "collapsed_sections": [],
      "authorship_tag": "ABX9TyPiqk47J3/XQ589+/WgCDqu"
    },
    "kernelspec": {
      "name": "python3",
      "display_name": "Python 3"
    }
  },
  "cells": [
    {
      "cell_type": "code",
      "metadata": {
        "id": "jeCphmNU4jwd",
        "colab_type": "code",
        "colab": {
          "base_uri": "https://localhost:8080/",
          "height": 51
        },
        "outputId": "8bd10f7d-68c7-49f9-b2c5-a39c633cfd81"
      },
      "source": [
        "# 92 ms(15%)\n",
        "from collections import defaultdict\n",
        "import operator\n",
        "class Solution:\n",
        "    def frequencySort(self, s: str) -> str:\n",
        "        dic = defaultdict(int)\n",
        "        for char in s:\n",
        "            dic[char] += 1\n",
        "\n",
        "        new_dic = sorted(dic.items(), key = operator.itemgetter(1), reverse = True)\n",
        "        return ''.join([c*n for c, n in new_dic])"
      ],
      "execution_count": null,
      "outputs": [
        {
          "output_type": "stream",
          "text": [
            "[('e', 2), ('t', 1), ('r', 1)]\n"
          ],
          "name": "stdout"
        },
        {
          "output_type": "execute_result",
          "data": {
            "application/vnd.google.colaboratory.intrinsic+json": {
              "type": "string"
            },
            "text/plain": [
              "'eetr'"
            ]
          },
          "metadata": {
            "tags": []
          },
          "execution_count": 3
        }
      ]
    },
    {
      "cell_type": "code",
      "metadata": {
        "id": "yCRvOibxOGjJ",
        "colab_type": "code",
        "colab": {}
      },
      "source": [
        "# 76 ms(25%)\n",
        "from collections import Counter\n",
        "import operator\n",
        "class Solution:\n",
        "    def frequencySort(self, s: str) -> str:\n",
        "        dic = Counter(s)\n",
        "        new_dic = sorted(dic.items(), key = operator.itemgetter(1), reverse = True)\n",
        "        \n",
        "        answer = ''.join([c*n for c, n in new_dic])\n",
        "        return answer"
      ],
      "execution_count": null,
      "outputs": []
    },
    {
      "cell_type": "code",
      "metadata": {
        "id": "6GZ0yAKH5OwP",
        "colab_type": "code",
        "colab": {}
      },
      "source": [
        "# 28 ms (99%)\n",
        "from collections import Counter\n",
        "import operator\n",
        "class Solution:\n",
        "    def frequencySort(self, s: str) -> str:\n",
        "        dic = Counter(s)\n",
        "        new_dic = sorted(dic.items(), key = operator.itemgetter(1), reverse = True)\n",
        "        \n",
        "        answer = ''\n",
        "        for k, v in new_dic:\n",
        "            answer += k*v\n",
        "        return answer"
      ],
      "execution_count": null,
      "outputs": []
    },
    {
      "cell_type": "code",
      "metadata": {
        "id": "2o06sQOa7Cwa",
        "colab_type": "code",
        "colab": {}
      },
      "source": [
        "import time\n",
        "from collections import Counter, defaultdict\n",
        "import operator"
      ],
      "execution_count": 1,
      "outputs": []
    },
    {
      "cell_type": "code",
      "metadata": {
        "id": "WNMO8rvV7EI_",
        "colab_type": "code",
        "colab": {}
      },
      "source": [
        "data = [i for i in range(10000000)]"
      ],
      "execution_count": 2,
      "outputs": []
    },
    {
      "cell_type": "code",
      "metadata": {
        "id": "Tcp5tAFf7UjB",
        "colab_type": "code",
        "colab": {
          "base_uri": "https://localhost:8080/",
          "height": 106
        },
        "outputId": "37082c0d-4439-4f80-97a5-aca9945fe764"
      },
      "source": [
        "for i in range(5):\n",
        "    prev = time.time()\n",
        "    dic = defaultdict(int)\n",
        "    for i in data:\n",
        "        dic[i] += 1\n",
        "    print(time.time() - prev)"
      ],
      "execution_count": 3,
      "outputs": [
        {
          "output_type": "stream",
          "text": [
            "2.86790132522583\n",
            "2.5908827781677246\n",
            "2.5246365070343018\n",
            "2.6511294841766357\n",
            "2.618516206741333\n"
          ],
          "name": "stdout"
        }
      ]
    },
    {
      "cell_type": "code",
      "metadata": {
        "id": "wMWsPDV67vyA",
        "colab_type": "code",
        "colab": {
          "base_uri": "https://localhost:8080/",
          "height": 106
        },
        "outputId": "3138dd9a-0400-495a-80b6-1b78d9492dcf"
      },
      "source": [
        "for i in range(5):\n",
        "    prev = time.time()\n",
        "    dic = Counter(data)\n",
        "    print(time.time() - prev)"
      ],
      "execution_count": 4,
      "outputs": [
        {
          "output_type": "stream",
          "text": [
            "0.8274405002593994\n",
            "0.6667804718017578\n",
            "0.7035260200500488\n",
            "0.7164337635040283\n",
            "0.6437468528747559\n"
          ],
          "name": "stdout"
        }
      ]
    },
    {
      "cell_type": "code",
      "metadata": {
        "id": "j54_C7tYOnY-",
        "colab_type": "code",
        "colab": {}
      },
      "source": [
        "import time\n",
        "from collections import Counter, defaultdict\n",
        "import operator"
      ],
      "execution_count": null,
      "outputs": []
    },
    {
      "cell_type": "code",
      "metadata": {
        "id": "PsSr9PHH724w",
        "colab_type": "code",
        "colab": {}
      },
      "source": [
        "data = [str(i) for i in range(10000000)]\n",
        "dic = Counter(data)\n",
        "new_dic = sorted(dic.items(), key = operator.itemgetter(1), reverse = True)"
      ],
      "execution_count": 5,
      "outputs": []
    },
    {
      "cell_type": "code",
      "metadata": {
        "id": "fdIiFgu1OkdV",
        "colab_type": "code",
        "colab": {
          "base_uri": "https://localhost:8080/",
          "height": 106
        },
        "outputId": "7727b34a-7363-4aff-9d6e-148f63584539"
      },
      "source": [
        "for i in range(5):\n",
        "    prev = time.time()\n",
        "    answer = ''\n",
        "    for k, v in new_dic:\n",
        "        answer += k*v\n",
        "    print(time.time() - prev)"
      ],
      "execution_count": 6,
      "outputs": [
        {
          "output_type": "stream",
          "text": [
            "2.308290719985962\n",
            "2.2672524452209473\n",
            "2.3178131580352783\n",
            "2.31012225151062\n",
            "2.2999675273895264\n"
          ],
          "name": "stdout"
        }
      ]
    },
    {
      "cell_type": "code",
      "metadata": {
        "id": "ogWqAB52PK-w",
        "colab_type": "code",
        "colab": {
          "base_uri": "https://localhost:8080/",
          "height": 106
        },
        "outputId": "ecf8f421-6748-4814-9a18-22dcc236b414"
      },
      "source": [
        "for i in range(5):\n",
        "    prev = time.time()\n",
        "    answer = ''.join([c*n for c, n in new_dic])\n",
        "    print(time.time() - prev)"
      ],
      "execution_count": 7,
      "outputs": [
        {
          "output_type": "stream",
          "text": [
            "0.9940130710601807\n",
            "1.002708911895752\n",
            "0.9774625301361084\n",
            "0.9955518245697021\n",
            "0.972813606262207\n"
          ],
          "name": "stdout"
        }
      ]
    },
    {
      "cell_type": "code",
      "metadata": {
        "id": "kEdVnkCqPQeU",
        "colab_type": "code",
        "colab": {}
      },
      "source": [
        ""
      ],
      "execution_count": null,
      "outputs": []
    }
  ]
}