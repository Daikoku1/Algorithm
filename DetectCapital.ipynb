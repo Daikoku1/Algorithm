{
  "nbformat": 4,
  "nbformat_minor": 0,
  "metadata": {
    "colab": {
      "name": "DetectCapital.ipynb",
      "provenance": [],
      "authorship_tag": "ABX9TyO0uxSdIU499oTRM0/REHGO",
      "include_colab_link": true
    },
    "kernelspec": {
      "name": "python3",
      "display_name": "Python 3"
    }
  },
  "cells": [
    {
      "cell_type": "markdown",
      "metadata": {
        "id": "view-in-github",
        "colab_type": "text"
      },
      "source": [
        "<a href=\"https://colab.research.google.com/github/Daikoku1/Algorithm_LeetCode/blob/master/DetectCapital.ipynb\" target=\"_parent\"><img src=\"https://colab.research.google.com/assets/colab-badge.svg\" alt=\"Open In Colab\"/></a>"
      ]
    },
    {
      "cell_type": "code",
      "metadata": {
        "id": "hyuyODVm1Zfp",
        "colab_type": "code",
        "colab": {
          "base_uri": "https://localhost:8080/",
          "height": 34
        },
        "outputId": "9392c819-3868-47ea-8e21-ea48d517c956"
      },
      "source": [
        "# 44 ms(28%)\n",
        "class Solution:\n",
        "    def detectCapitalUse(self, word: str) -> bool:\n",
        "        if word.upper() == word:\n",
        "            return True\n",
        "        elif word.lower() == word:\n",
        "            return True\n",
        "        \n",
        "        if len(word) > 1:\n",
        "            if word[0].upper() + word[1:].lower() == word:\n",
        "                return True\n",
        "        \n",
        "        return False"
      ],
      "execution_count": 1,
      "outputs": [
        {
          "output_type": "execute_result",
          "data": {
            "application/vnd.google.colaboratory.intrinsic+json": {
              "type": "string"
            },
            "text/plain": [
              "'AAA'"
            ]
          },
          "metadata": {
            "tags": []
          },
          "execution_count": 1
        }
      ]
    },
    {
      "cell_type": "code",
      "metadata": {
        "id": "pFl671Pw4rI_",
        "colab_type": "code",
        "colab": {}
      },
      "source": [
        "# 32 ms(70%)\n",
        "class Solution:\n",
        "    def detectCapitalUse(self, word: str) -> bool:\n",
        "        if len(word) < 2:\n",
        "            return True\n",
        "        elif word.islower():\n",
        "            return True\n",
        "\n",
        "        if word[0].upper() == word[0]:\n",
        "            print('a')\n",
        "            if word[1:].lower() == word[1:]:\n",
        "                return True\n",
        "            if word[1:].upper() == word[1:]:\n",
        "                return True\n",
        "        return False"
      ],
      "execution_count": null,
      "outputs": []
    },
    {
      "cell_type": "code",
      "metadata": {
        "id": "5uDvEBYT7W08",
        "colab_type": "code",
        "colab": {}
      },
      "source": [
        "# 28 ms(86%)\n",
        "class Solution:\n",
        "    def detectCapitalUse(self, word: str) -> bool:\n",
        "        if len(word) < 2:\n",
        "            return True\n",
        "        elif word[1:].lower() == word[1:]:\n",
        "            return True\n",
        "        \n",
        "        if word.isupper():\n",
        "            return True\n",
        "        \n",
        "        return False"
      ],
      "execution_count": null,
      "outputs": []
    },
    {
      "cell_type": "code",
      "metadata": {
        "id": "jZn6gvI_4ju8",
        "colab_type": "code",
        "colab": {}
      },
      "source": [
        "# 다른 살람의 코드\n",
        "# 신기하넹\n",
        "def detectCapitalUse(self, word):\n",
        "    return word.isupper() or word.islower() or word.istitle()"
      ],
      "execution_count": 9,
      "outputs": []
    }
  ]
}