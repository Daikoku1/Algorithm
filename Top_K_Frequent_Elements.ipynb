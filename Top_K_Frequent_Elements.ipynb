{
  "nbformat": 4,
  "nbformat_minor": 0,
  "metadata": {
    "colab": {
      "name": "Top K Frequent Elements.ipynb",
      "provenance": [],
      "authorship_tag": "ABX9TyNgtQ3UMbT0Z+Z75TZ2mr7S",
      "include_colab_link": true
    },
    "kernelspec": {
      "name": "python3",
      "display_name": "Python 3"
    }
  },
  "cells": [
    {
      "cell_type": "markdown",
      "metadata": {
        "id": "view-in-github",
        "colab_type": "text"
      },
      "source": [
        "<a href=\"https://colab.research.google.com/github/Daikoku1/Algorithm_LeetCode/blob/master/Top_K_Frequent_Elements.ipynb\" target=\"_parent\"><img src=\"https://colab.research.google.com/assets/colab-badge.svg\" alt=\"Open In Colab\"/></a>"
      ]
    },
    {
      "cell_type": "code",
      "metadata": {
        "id": "IIuzOsk9oxsk",
        "colab_type": "code",
        "colab": {}
      },
      "source": [
        "# 내거\n",
        "# 120 ms(43%)\n",
        "from collections import defaultdict\n",
        "import operator\n",
        "class Solution:\n",
        "    def topKFrequent(self, nums: List[int], k: int) -> List[int]:\n",
        "        dic = defaultdict(int)\n",
        "        for num in nums:\n",
        "            dic[num] += 1\n",
        "        dic = sorted(dic.items(), key = operator.itemgetter(1), reverse = True)\n",
        "        \n",
        "        return [dic[x][0] for x in range(k)]"
      ],
      "execution_count": null,
      "outputs": []
    },
    {
      "cell_type": "code",
      "metadata": {
        "id": "MGP9jCLXow54",
        "colab_type": "code",
        "colab": {}
      },
      "source": [
        "def topKFrequent(self, nums: List[int], k: int) -> List[int]:\n",
        "        if k == len(nums): return nums\n",
        "        \n",
        "        counts = Counter(nums)   \n",
        "\n",
        "        return heapq.nlargest(k, counts.keys(), key = counts.get) "
      ],
      "execution_count": null,
      "outputs": []
    }
  ]
}