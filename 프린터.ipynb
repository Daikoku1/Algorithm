{
  "nbformat": 4,
  "nbformat_minor": 0,
  "metadata": {
    "colab": {
      "name": "프린터.ipynb",
      "provenance": [],
      "collapsed_sections": [],
      "authorship_tag": "ABX9TyNbpRBynDJ6LFKnyX90efk8"
    },
    "kernelspec": {
      "name": "python3",
      "display_name": "Python 3"
    }
  },
  "cells": [
    {
      "cell_type": "code",
      "metadata": {
        "id": "a3hX41lxG7S-",
        "colab_type": "code",
        "colab": {}
      },
      "source": [
        "# 예전 코드\n",
        "# max_time = 0.09 ms\n",
        "def solution(priorities, location):\n",
        "    val = priorities[location]\n",
        "    priorities[location] = 0\n",
        "    \n",
        "    cnt = 0\n",
        "    for i in range(9, val, -1):\n",
        "        if i in priorities:\n",
        "            num = priorities.count(i)\n",
        "            idx = len(priorities) - 1 - priorities[::-1].index(i)\n",
        "            priorities = priorities[idx:] + priorities[:idx]\n",
        "            cnt += num\n",
        "            for j in range(num):\n",
        "                priorities.remove(i)\n",
        "    \n",
        "    for x in priorities:\n",
        "        if (x == 0) | (x == val):\n",
        "            cnt += 1\n",
        "            if x == 0:\n",
        "                break\n",
        "    \n",
        "    return cnt"
      ],
      "execution_count": null,
      "outputs": []
    },
    {
      "cell_type": "code",
      "metadata": {
        "id": "JaSruvL3f7oF",
        "colab_type": "code",
        "colab": {}
      },
      "source": [
        "# 큐에 어울리는 코드이지만, 속도가 느리다.\n",
        "# max_time = 1.27 ms\n",
        "from collections import deque\n",
        "def solution(priorities, location):\n",
        "    que = deque([(v,i) for i, v in enumerate(priorities)])\n",
        "    \n",
        "    cnt = 0\n",
        "    while True:\n",
        "        max_num = max(que)[0]\n",
        "        val, idx = que.popleft()\n",
        "        if val < max_num:\n",
        "            que.append((val, idx))\n",
        "        else:\n",
        "            cnt += 1\n",
        "            if idx == location:\n",
        "                return cnt"
      ],
      "execution_count": 5,
      "outputs": []
    }
  ]
}