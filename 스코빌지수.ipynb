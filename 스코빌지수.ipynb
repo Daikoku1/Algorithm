{
  "nbformat": 4,
  "nbformat_minor": 0,
  "metadata": {
    "colab": {
      "name": "스코빌지수.ipynb",
      "provenance": [],
      "collapsed_sections": [],
      "authorship_tag": "ABX9TyNADbISuMVIum+eu2AxcCU3",
      "include_colab_link": true
    },
    "kernelspec": {
      "name": "python3",
      "display_name": "Python 3"
    }
  },
  "cells": [
    {
      "cell_type": "markdown",
      "metadata": {
        "id": "view-in-github",
        "colab_type": "text"
      },
      "source": [
        "<a href=\"https://colab.research.google.com/github/Daikoku1/Algorithm_Programmers/blob/master/%EC%8A%A4%EC%BD%94%EB%B9%8C%EC%A7%80%EC%88%98.ipynb\" target=\"_parent\"><img src=\"https://colab.research.google.com/assets/colab-badge.svg\" alt=\"Open In Colab\"/></a>"
      ]
    },
    {
      "cell_type": "code",
      "metadata": {
        "id": "yUPsQw3DFtlh",
        "colab_type": "code",
        "colab": {}
      },
      "source": [
        "# max_time = 2065.92ms\n",
        "import heapq\n",
        "def solution(scoville, K):\n",
        "    big = 0\n",
        "    heap = []\n",
        "    for i in scoville:\n",
        "        if i < K:\n",
        "            heapq.heappush(heap, i)\n",
        "        else:\n",
        "            big += 1\n",
        "            \n",
        "    cnt = 0\n",
        "    while heap:\n",
        "        if len(heap) == 1:\n",
        "            if big == 0:\n",
        "                return -1\n",
        "            else:  \n",
        "                cnt += 1\n",
        "                break\n",
        "        else:\n",
        "            cnt += 1\n",
        "            num1 = heapq.heappop(heap)\n",
        "            num2 = heapq.heappop(heap)\n",
        "            num3 = num1 + num2*2\n",
        "            if num3 < K:\n",
        "                heapq.heappush(heap, num3)\n",
        "            else:\n",
        "                big += 1\n",
        "                \n",
        "    return cnt"
      ],
      "execution_count": null,
      "outputs": []
    },
    {
      "cell_type": "code",
      "metadata": {
        "id": "vJWGA9ugF5Bi",
        "colab_type": "code",
        "colab": {}
      },
      "source": [
        "# max_time = 2005 ms\n",
        "import heapq\n",
        "def solution(scoville, K):\n",
        "    heapq.heapify(scoville) # 리스트 to heap\n",
        "    cnt = 0\n",
        "    while True:\n",
        "        num = heapq.heappop(scoville)\n",
        "        if num >= K:\n",
        "            return cnt\n",
        "        elif scoville:\n",
        "            num += 2*heapq.heappop(scoville)\n",
        "            heapq.heappush(scoville, num)\n",
        "            cnt += 1\n",
        "        else:\n",
        "            return -1"
      ],
      "execution_count": null,
      "outputs": []
    },
    {
      "cell_type": "code",
      "metadata": {
        "id": "7Dc1g5byGkLZ",
        "colab_type": "code",
        "colab": {
          "base_uri": "https://localhost:8080/",
          "height": 34
        },
        "outputId": "0eb0242a-64e0-41e8-d75c-bad8f0995798"
      },
      "source": [
        "s = [10, 1, 2, 3, 9, 12]\n",
        "K = 7\n",
        "solution(s, K)"
      ],
      "execution_count": null,
      "outputs": [
        {
          "output_type": "execute_result",
          "data": {
            "text/plain": [
              "2"
            ]
          },
          "metadata": {
            "tags": []
          },
          "execution_count": 7
        }
      ]
    }
  ]
}