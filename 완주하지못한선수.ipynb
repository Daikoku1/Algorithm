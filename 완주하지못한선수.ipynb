{
  "nbformat": 4,
  "nbformat_minor": 0,
  "metadata": {
    "colab": {
      "name": "완주하지못한선수.ipynb",
      "provenance": [],
      "authorship_tag": "ABX9TyPX619ks53+OOsdKVg0YfV6"
    },
    "kernelspec": {
      "name": "python3",
      "display_name": "Python 3"
    }
  },
  "cells": [
    {
      "cell_type": "code",
      "metadata": {
        "id": "Md3utN9D-gV3",
        "colab_type": "code",
        "colab": {}
      },
      "source": [
        "# max_time = 84 ms\n",
        "def solution(participant, completion):\n",
        "    participant.sort()\n",
        "    completion.sort()\n",
        "    for idx, val in enumerate(completion):\n",
        "        if participant[idx] != val:\n",
        "            return participant[idx]\n",
        "    \n",
        "    return participant[-1]"
      ],
      "execution_count": null,
      "outputs": []
    },
    {
      "cell_type": "code",
      "metadata": {
        "id": "6EaIJ8DIDFwv",
        "colab_type": "code",
        "colab": {
          "base_uri": "https://localhost:8080/",
          "height": 33
        },
        "outputId": "c76f0340-a489-49da-8174-872855ca951d"
      },
      "source": [
        "# max_time = 66.39 ms\n",
        "from collections import Counter\n",
        "def solution(participant, completion):\n",
        "    dic = (Counter(participant) - Counter(completion))\n",
        "    return list(dic.keys())[0]"
      ],
      "execution_count": null,
      "outputs": [
        {
          "output_type": "execute_result",
          "data": {
            "text/plain": [
              "['eden', 'kiki', 'leo']"
            ]
          },
          "metadata": {
            "tags": []
          },
          "execution_count": 6
        }
      ]
    },
    {
      "cell_type": "code",
      "metadata": {
        "id": "oewcSs5nVNly",
        "colab_type": "code",
        "colab": {}
      },
      "source": [
        "# max_time = 70.04 ms\n",
        "from collections import defaultdict\n",
        "def solution(participant, completion):\n",
        "    dic = defaultdict(int)\n",
        "    for i in participant:\n",
        "        dic[i] += 1\n",
        "    for j in completion:\n",
        "        dic[j] -= 1\n",
        "        \n",
        "    answer = sorted(dic.items(), key = lambda x : x[1])\n",
        "    return answer[-1][0]"
      ],
      "execution_count": null,
      "outputs": []
    }
  ]
}