{
  "nbformat": 4,
  "nbformat_minor": 0,
  "metadata": {
    "colab": {
      "name": "수식 최대화.ipynb",
      "provenance": [],
      "authorship_tag": "ABX9TyPcwKLENU6k7eeqL2j4HVNN",
      "include_colab_link": true
    },
    "kernelspec": {
      "name": "python3",
      "display_name": "Python 3"
    }
  },
  "cells": [
    {
      "cell_type": "markdown",
      "metadata": {
        "id": "view-in-github",
        "colab_type": "text"
      },
      "source": [
        "<a href=\"https://colab.research.google.com/github/Daikoku1/Algorithm_Programmers/blob/master/%EC%88%98%EC%8B%9D_%EC%B5%9C%EB%8C%80%ED%99%94.ipynb\" target=\"_parent\"><img src=\"https://colab.research.google.com/assets/colab-badge.svg\" alt=\"Open In Colab\"/></a>"
      ]
    },
    {
      "cell_type": "code",
      "metadata": {
        "id": "TrouIcE5UXdF",
        "colab_type": "code",
        "colab": {}
      },
      "source": [
        "expression = \"100-200*300-500+20\"\n",
        "# 60420"
      ],
      "execution_count": 12,
      "outputs": []
    },
    {
      "cell_type": "code",
      "metadata": {
        "id": "s49BI_4NUbyg",
        "colab_type": "code",
        "colab": {}
      },
      "source": [
        "import re\n",
        "from itertools import permutations\n",
        "expression = \"100-200*300-500+20\"\n",
        "def solution(expression):\n",
        "    sign_list = re.findall('\\D', expression)\n",
        "    num_list = re.split('\\D', expression)\n",
        "    max_num = 0\n",
        "    for permutation in list(permutations(set(sign_list))):\n",
        "        sign_li = sign_list.copy()\n",
        "        num_li = num_list.copy()\n",
        "        for idx in range(len(permutation)):\n",
        "            sign = permutation[idx]\n",
        "            idx_list = []\n",
        "            idx_ch = 0\n",
        "            for i in range(len(sign_li)):\n",
        "                if sign_li[i] == sign:\n",
        "                    idx_list.append(i)\n",
        "                    num_li2 = num_li[:i-idx_ch] + [str(eval(num_li[i-idx_ch] + sign + num_li[i+1-idx_ch]))]\n",
        "                    if i - idx_ch < len(num_li) - 2:\n",
        "                        num_li2 += num_li[i+2-idx_ch:]\n",
        "                    num_li = num_li2.copy()\n",
        "                    idx_ch += 1\n",
        "            for j in idx_list[::-1]:\n",
        "                sign_li.pop(j)\n",
        "        max_num = max(max_num, abs(int(num_li[0])))\n",
        "    return max_num"
      ],
      "execution_count": 15,
      "outputs": []
    },
    {
      "cell_type": "code",
      "metadata": {
        "id": "NquzEVVSUjRY",
        "colab_type": "code",
        "colab": {
          "base_uri": "https://localhost:8080/",
          "height": 35
        },
        "outputId": "73804857-ab29-4555-b1cc-fbbacd8d82ac"
      },
      "source": [
        "solution(expression)"
      ],
      "execution_count": 16,
      "outputs": [
        {
          "output_type": "execute_result",
          "data": {
            "text/plain": [
              "60420"
            ]
          },
          "metadata": {
            "tags": []
          },
          "execution_count": 16
        }
      ]
    }
  ]
}