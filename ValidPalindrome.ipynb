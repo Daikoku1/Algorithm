{
  "nbformat": 4,
  "nbformat_minor": 0,
  "metadata": {
    "colab": {
      "name": "ValidPalindrome.ipynb",
      "provenance": [],
      "collapsed_sections": [],
      "authorship_tag": "ABX9TyOSIE2CwwzBiSxwatJqo/b2",
      "include_colab_link": true
    },
    "kernelspec": {
      "name": "python3",
      "display_name": "Python 3"
    }
  },
  "cells": [
    {
      "cell_type": "markdown",
      "metadata": {
        "id": "view-in-github",
        "colab_type": "text"
      },
      "source": [
        "<a href=\"https://colab.research.google.com/github/Daikoku1/Algorithm_LeetCode/blob/master/ValidPalindrome.ipynb\" target=\"_parent\"><img src=\"https://colab.research.google.com/assets/colab-badge.svg\" alt=\"Open In Colab\"/></a>"
      ]
    },
    {
      "cell_type": "code",
      "metadata": {
        "id": "eBZsONl6DjHN",
        "colab_type": "code",
        "colab": {}
      },
      "source": [
        "# 36 ms(97%)\n",
        "import re\n",
        "class Solution:\n",
        "    def isPalindrome(self, s: str) -> bool:\n",
        "        s = re.sub('[^a-zA-Z0-9]','',s).lower()\n",
        "        return s == s[::-1]"
      ],
      "execution_count": null,
      "outputs": []
    },
    {
      "cell_type": "code",
      "metadata": {
        "id": "HDxj3wgyEfcL",
        "colab_type": "code",
        "colab": {
          "base_uri": "https://localhost:8080/",
          "height": 34
        },
        "outputId": "3f03e719-c947-436a-b834-6820400dd658"
      },
      "source": [
        "# 다른사람 코드\n",
        "# 36 ms(97%)\n",
        "def isPalindrome(self, s: str) -> bool:\n",
        "    s = ''.join(c for c in s if c.isalnum()).lower()\n",
        "    return s == s[::-1]"
      ],
      "execution_count": null,
      "outputs": [
        {
          "output_type": "execute_result",
          "data": {
            "application/vnd.google.colaboratory.intrinsic+json": {
              "type": "string"
            },
            "text/plain": [
              "'0p'"
            ]
          },
          "metadata": {
            "tags": []
          },
          "execution_count": 8
        }
      ]
    },
    {
      "cell_type": "code",
      "metadata": {
        "id": "h0SXnrFDIMdX",
        "colab_type": "code",
        "colab": {}
      },
      "source": [
        ""
      ],
      "execution_count": null,
      "outputs": []
    }
  ]
}