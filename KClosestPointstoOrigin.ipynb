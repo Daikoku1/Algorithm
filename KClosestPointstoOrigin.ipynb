{
  "nbformat": 4,
  "nbformat_minor": 0,
  "metadata": {
    "colab": {
      "name": "KClosestPointstoOrigin.ipynb",
      "provenance": [],
      "authorship_tag": "ABX9TyONUwVMws4aYbCQaIsVT7PA",
      "include_colab_link": true
    },
    "kernelspec": {
      "name": "python3",
      "display_name": "Python 3"
    }
  },
  "cells": [
    {
      "cell_type": "markdown",
      "metadata": {
        "id": "view-in-github",
        "colab_type": "text"
      },
      "source": [
        "<a href=\"https://colab.research.google.com/github/Daikoku1/Algorithm_LeetCode/blob/master/KClosestPointstoOrigin.ipynb\" target=\"_parent\"><img src=\"https://colab.research.google.com/assets/colab-badge.svg\" alt=\"Open In Colab\"/></a>"
      ]
    },
    {
      "cell_type": "code",
      "metadata": {
        "id": "aIjWnBZ12zb2",
        "colab_type": "code",
        "colab": {}
      },
      "source": [
        "# 684 ms(88%)\n",
        "class Solution:\n",
        "    def kClosest(self, points: List[List[int]], K: int) -> List[List[int]]:\n",
        "        points.sort(key = lambda x:x[0]**2+x[1]**2)\n",
        "        return points[:K]"
      ],
      "execution_count": null,
      "outputs": []
    }
  ]
}