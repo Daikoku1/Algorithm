{
  "nbformat": 4,
  "nbformat_minor": 0,
  "metadata": {
    "colab": {
      "name": "DesignHashSet.ipynb",
      "provenance": [],
      "collapsed_sections": [],
      "authorship_tag": "ABX9TyNfR9l8iTS3oG96xJzYrbyB"
    },
    "kernelspec": {
      "name": "python3",
      "display_name": "Python 3"
    }
  },
  "cells": [
    {
      "cell_type": "code",
      "metadata": {
        "id": "8vcOfX_NPq5c",
        "colab_type": "code",
        "colab": {
          "base_uri": "https://localhost:8080/",
          "height": 34
        },
        "outputId": "68f2be27-b118-4ed3-ceea-c45cedbfa201"
      },
      "source": [
        "# 152 ms (96%)\n",
        "class MyHashSet:\n",
        "\n",
        "    def __init__(self):\n",
        "        self.Hash_set = set()\n",
        "        \n",
        "\n",
        "    def add(self, key: int) -> None:\n",
        "        self.Hash_set.add(key)\n",
        "\n",
        "    def remove(self, key: int) -> None:\n",
        "        if key in self.Hash_set:\n",
        "            self.Hash_set.remove(key)\n",
        "\n",
        "    def contains(self, key: int) -> bool:\n",
        "        return bool(key in self.Hash_set)"
      ],
      "execution_count": 1,
      "outputs": [
        {
          "output_type": "execute_result",
          "data": {
            "text/plain": [
              "set()"
            ]
          },
          "metadata": {
            "tags": []
          },
          "execution_count": 1
        }
      ]
    }
  ]
}