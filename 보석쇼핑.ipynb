{
  "nbformat": 4,
  "nbformat_minor": 0,
  "metadata": {
    "colab": {
      "name": "보석쇼핑.ipynb",
      "provenance": [],
      "authorship_tag": "ABX9TyOqXbB08WLDZMfYVRP6gWpa",
      "include_colab_link": true
    },
    "kernelspec": {
      "name": "python3",
      "display_name": "Python 3"
    }
  },
  "cells": [
    {
      "cell_type": "markdown",
      "metadata": {
        "id": "view-in-github",
        "colab_type": "text"
      },
      "source": [
        "<a href=\"https://colab.research.google.com/github/Daikoku1/Algorithm_Programmers/blob/master/%EB%B3%B4%EC%84%9D%EC%87%BC%ED%95%91.ipynb\" target=\"_parent\"><img src=\"https://colab.research.google.com/assets/colab-badge.svg\" alt=\"Open In Colab\"/></a>"
      ]
    },
    {
      "cell_type": "code",
      "metadata": {
        "id": "lt0dKJyL9w_B",
        "colab_type": "code",
        "colab": {}
      },
      "source": [
        "# 시간초과(효율성 0점)\n",
        "def solution(gems):\n",
        "    gems_list = set(gems)\n",
        "    gem_len = len(gems_list)\n",
        "\n",
        "    min_len = float('inf')\n",
        "    section = [0, 0]\n",
        "    \n",
        "    for i in range(len(gems)):\n",
        "        n = 1\n",
        "        gem_li = [gems[i]]\n",
        "        \n",
        "        while len(gem_li) < gem_len:\n",
        "            if i + n == len(gems):\n",
        "                break\n",
        "            if not gems[i+n] in gem_li:\n",
        "                gem_li += [gems[i+n]]\n",
        "            n += 1\n",
        "        if len(gem_li) == gem_len:\n",
        "            if n < min_len:\n",
        "                section = [i+1, i+n]\n",
        "                min_len = n\n",
        "    return section"
      ],
      "execution_count": null,
      "outputs": []
    },
    {
      "cell_type": "code",
      "metadata": {
        "id": "VpT71frJ9zKS",
        "colab_type": "code",
        "colab": {
          "base_uri": "https://localhost:8080/",
          "height": 34
        },
        "outputId": "1fb89cd5-fde4-4b50-bf22-fd25de256907"
      },
      "source": [
        "gems = [\"DIA\", \"RUBY\", \"RUBY\", \"DIA\", \"DIA\", \"EMERALD\", \"SAPPHIRE\", \"DIA\"]\n",
        "# answer = [3, 7]\n",
        "solution(gems)"
      ],
      "execution_count": null,
      "outputs": [
        {
          "output_type": "execute_result",
          "data": {
            "text/plain": [
              "[3, 7]"
            ]
          },
          "metadata": {
            "tags": []
          },
          "execution_count": 13
        }
      ]
    },
    {
      "cell_type": "code",
      "metadata": {
        "id": "pKPJqErO-MFS",
        "colab_type": "code",
        "colab": {
          "base_uri": "https://localhost:8080/",
          "height": 34
        },
        "outputId": "5d19ba00-df9f-4cb0-f75b-a67d19b1b6c0"
      },
      "source": [
        "gems = [\"AA\", \"AB\", \"AC\", \"AA\", \"AC\"]\n",
        "# answer = [1,3]\n",
        "solution(gems)"
      ],
      "execution_count": null,
      "outputs": [
        {
          "output_type": "execute_result",
          "data": {
            "text/plain": [
              "[1, 3]"
            ]
          },
          "metadata": {
            "tags": []
          },
          "execution_count": 14
        }
      ]
    },
    {
      "cell_type": "code",
      "metadata": {
        "id": "DWcn-svQADnP",
        "colab_type": "code",
        "colab": {
          "base_uri": "https://localhost:8080/",
          "height": 34
        },
        "outputId": "09aebc95-b7eb-4085-8ebd-f138e225291b"
      },
      "source": [
        "gems = [\"XYZ\", \"XYZ\", \"XYZ\"]\n",
        "# answer = [1,1]\n",
        "solution(gems)"
      ],
      "execution_count": null,
      "outputs": [
        {
          "output_type": "execute_result",
          "data": {
            "text/plain": [
              "[1, 1]"
            ]
          },
          "metadata": {
            "tags": []
          },
          "execution_count": 16
        }
      ]
    },
    {
      "cell_type": "code",
      "metadata": {
        "id": "qA-zVeSVAH1V",
        "colab_type": "code",
        "colab": {
          "base_uri": "https://localhost:8080/",
          "height": 34
        },
        "outputId": "fba30a86-f796-49f6-8b15-9257f610466c"
      },
      "source": [
        "gems = [\"ZZZ\", \"YYY\", \"NNNN\", \"YYY\", \"BBB\"]\n",
        "# answer = [1,5]\n",
        "solution(gems)"
      ],
      "execution_count": null,
      "outputs": [
        {
          "output_type": "execute_result",
          "data": {
            "text/plain": [
              "[1, 5]"
            ]
          },
          "metadata": {
            "tags": []
          },
          "execution_count": 17
        }
      ]
    },
    {
      "cell_type": "code",
      "metadata": {
        "id": "kzQb2_jqAL39",
        "colab_type": "code",
        "colab": {}
      },
      "source": [
        "from collections import defaultdict\n",
        "import heapq\n",
        "def solution(gems):\n",
        "    gems_list = set(gems)\n",
        "    a_dict = defaultdict(list)\n",
        "    for idx, val in enumerate(gems):\n",
        "        a_dict[val] += [idx]\n",
        "    \n",
        "    idx_heap = []\n",
        "    max_idx = 0\n",
        "    for gem in gems_list:\n",
        "        gem_idx = a_dict[gem].pop(0)\n",
        "        heapq.heappush(idx_heap, [gem_idx, gem])\n",
        "        if gem_idx > max_idx:\n",
        "            max_idx = gem_idx\n",
        "        \n",
        "    result = [1, len(gems)]\n",
        "    while True:\n",
        "        idx, gem = heapq.heappop(idx_heap)\n",
        "        if result[1] - result[0] > max_idx - idx :\n",
        "            result = [idx + 1, max_idx + 1]\n",
        "\n",
        "        if a_dict[gem]:\n",
        "            new_idx = a_dict[gem].pop(0)\n",
        "        else:\n",
        "            return result\n",
        "        \n",
        "        heapq.heappush(idx_heap, [new_idx, gem])\n",
        "        if new_idx > max_idx:\n",
        "            max_idx = new_idx"
      ],
      "execution_count": 5,
      "outputs": []
    },
    {
      "cell_type": "code",
      "metadata": {
        "id": "gUQWeuCEEXWv",
        "colab_type": "code",
        "colab": {
          "base_uri": "https://localhost:8080/",
          "height": 35
        },
        "outputId": "23d82265-09f8-4462-d65c-fbc55b183fd0"
      },
      "source": [
        "gems = [\"DIA\", \"RUBY\", \"RUBY\", \"DIA\", \"DIA\", \"EMERALD\", \"SAPPHIRE\", \"DIA\"]\n",
        "# answer = [3, 7]\n",
        "solution(gems)"
      ],
      "execution_count": 6,
      "outputs": [
        {
          "output_type": "execute_result",
          "data": {
            "text/plain": [
              "[3, 7]"
            ]
          },
          "metadata": {
            "tags": []
          },
          "execution_count": 6
        }
      ]
    },
    {
      "cell_type": "code",
      "metadata": {
        "id": "98BHHAzt-GQS",
        "colab_type": "code",
        "colab": {
          "base_uri": "https://localhost:8080/",
          "height": 35
        },
        "outputId": "20480a6e-70f1-4acc-de14-192893ebc48f"
      },
      "source": [
        "gems = [\"AA\", \"AB\", \"AC\", \"AA\", \"AC\"]\n",
        "# answer = [1,3]\n",
        "solution(gems)"
      ],
      "execution_count": 7,
      "outputs": [
        {
          "output_type": "execute_result",
          "data": {
            "text/plain": [
              "[1, 3]"
            ]
          },
          "metadata": {
            "tags": []
          },
          "execution_count": 7
        }
      ]
    },
    {
      "cell_type": "code",
      "metadata": {
        "id": "1g1JJH1Y-9a4",
        "colab_type": "code",
        "colab": {
          "base_uri": "https://localhost:8080/",
          "height": 35
        },
        "outputId": "e3d90615-f587-4b56-8fa3-b7edbad23a2e"
      },
      "source": [
        "gems = [\"XYZ\", \"XYZ\", \"XYZ\"]\n",
        "# answer = [1,1]\n",
        "solution(gems)"
      ],
      "execution_count": 8,
      "outputs": [
        {
          "output_type": "execute_result",
          "data": {
            "text/plain": [
              "[1, 1]"
            ]
          },
          "metadata": {
            "tags": []
          },
          "execution_count": 8
        }
      ]
    },
    {
      "cell_type": "code",
      "metadata": {
        "id": "zGLSLI94--vR",
        "colab_type": "code",
        "colab": {
          "base_uri": "https://localhost:8080/",
          "height": 35
        },
        "outputId": "6451be6d-c544-47c0-9d85-2f96e1b7b46a"
      },
      "source": [
        "gems = [\"ZZZ\", \"YYY\", \"NNNN\", \"YYY\", \"BBB\"]\n",
        "# answer = [1,5]\n",
        "solution(gems)"
      ],
      "execution_count": 9,
      "outputs": [
        {
          "output_type": "execute_result",
          "data": {
            "text/plain": [
              "[1, 5]"
            ]
          },
          "metadata": {
            "tags": []
          },
          "execution_count": 9
        }
      ]
    },
    {
      "cell_type": "code",
      "metadata": {
        "id": "1TW_7mWi-_zN",
        "colab_type": "code",
        "colab": {}
      },
      "source": [
        ""
      ],
      "execution_count": null,
      "outputs": []
    }
  ]
}