{
  "nbformat": 4,
  "nbformat_minor": 0,
  "metadata": {
    "colab": {
      "name": "AddandSearchWord.ipynb",
      "provenance": [],
      "authorship_tag": "ABX9TyMKb4rbGtYKCd+yl71V1SnU",
      "include_colab_link": true
    },
    "kernelspec": {
      "name": "python3",
      "display_name": "Python 3"
    }
  },
  "cells": [
    {
      "cell_type": "markdown",
      "metadata": {
        "id": "view-in-github",
        "colab_type": "text"
      },
      "source": [
        "<a href=\"https://colab.research.google.com/github/Daikoku1/Algorithm_LeetCode/blob/master/AddandSearchWord.ipynb\" target=\"_parent\"><img src=\"https://colab.research.google.com/assets/colab-badge.svg\" alt=\"Open In Colab\"/></a>"
      ]
    },
    {
      "cell_type": "code",
      "metadata": {
        "id": "1BPbEwNXMNfm",
        "colab_type": "code",
        "colab": {}
      },
      "source": [
        "# addWord(\"bad\")\n",
        "# addWord(\"dad\")\n",
        "# addWord(\"mad\")"
      ],
      "execution_count": null,
      "outputs": []
    },
    {
      "cell_type": "code",
      "metadata": {
        "id": "dKj3BxIfMPUB",
        "colab_type": "code",
        "colab": {
          "base_uri": "https://localhost:8080/",
          "height": 33
        },
        "outputId": "0c325316-ebbb-4653-9f01-a569783a2cf9"
      },
      "source": [
        "# 560 ms (15%)\n",
        "import re\n",
        "from collections import defaultdict\n",
        "class WordDictionary:\n",
        "\n",
        "    def __init__(self):\n",
        "        self.dic = {}\n",
        "        self.len_dic = defaultdict(list)\n",
        "        \n",
        "    def addWord(self, word: str) -> None:\n",
        "        if word in self.dic:\n",
        "            pass\n",
        "        else:\n",
        "            self.dic[word] = 1\n",
        "            self.len_dic[len(word)] += [word]\n",
        "\n",
        "    def search(self, word: str) -> bool:\n",
        "        for w in self.len_dic[len(word)]:\n",
        "            if re.match(word, w):\n",
        "                return True\n",
        "        return False"
      ],
      "execution_count": 1,
      "outputs": [
        {
          "output_type": "execute_result",
          "data": {
            "text/plain": [
              "{'bad': 1, 'dad': 1, 'mad': 1}"
            ]
          },
          "metadata": {
            "tags": []
          },
          "execution_count": 1
        }
      ]
    },
    {
      "cell_type": "code",
      "metadata": {
        "id": "es4Yzw1IMeu2",
        "colab_type": "code",
        "colab": {
          "base_uri": "https://localhost:8080/",
          "height": 83
        },
        "outputId": "45ee646b-8c9a-4a0a-8fa6-baede8b44606"
      },
      "source": [
        "# 144 ms (97%)\n",
        "from collections import defaultdict\n",
        "class WordDictionary:\n",
        "    def __init__(self):\n",
        "        self.dic = defaultdict(set)\n",
        "        \n",
        "    def addWord(self, word: str) -> None:\n",
        "        self.dic[len(word)].add(word)\n",
        "    \n",
        "    def check_same(self, w1, w2, l):\n",
        "        idx = 0\n",
        "        while idx < l:\n",
        "            if w1[idx] == '.':\n",
        "                pass\n",
        "            elif w1[idx] == w2[idx]:\n",
        "                pass\n",
        "            else:\n",
        "                return False\n",
        "            idx += 1\n",
        "            \n",
        "        return True\n",
        "    \n",
        "    def search(self, word: str) -> bool:\n",
        "        l = len(word)\n",
        "        for w in self.dic[l]:\n",
        "            if self.check_same(word, w, l):\n",
        "                return True\n",
        "        return False"
      ],
      "execution_count": 2,
      "outputs": [
        {
          "output_type": "stream",
          "text": [
            "a\n",
            "a\n",
            "a\n"
          ],
          "name": "stdout"
        },
        {
          "output_type": "execute_result",
          "data": {
            "text/plain": [
              "{'bad': 1, 'dad': 1, 'mad': 1}"
            ]
          },
          "metadata": {
            "tags": []
          },
          "execution_count": 2
        }
      ]
    },
    {
      "cell_type": "code",
      "metadata": {
        "id": "gCbW-lNhNgCq",
        "colab_type": "code",
        "colab": {}
      },
      "source": [
        "class WordDictionary:\n",
        "    def __init__(self):\n",
        "        self.index = {}\n",
        "        self.words = defaultdict(list)\n",
        "        \n",
        "    def compare(self, w1: str, w2: str) -> bool:\n",
        "        w1 = list(w1)\n",
        "        w2 = list(w2)\n",
        "        \n",
        "        while w1:\n",
        "            c1 = w1.pop(0)\n",
        "            c2 = w2.pop(0)\n",
        "            \n",
        "            if c1 == '.':\n",
        "                continue\n",
        "                \n",
        "            if c1 != c2:\n",
        "                return False\n",
        "            \n",
        "        \n",
        "        return True\n",
        "        \n",
        "    def addWord(self, word: str) -> None:\n",
        "        self.index[word] = True\n",
        "        self.words[len(word)].append(word)\n",
        "        \n",
        "\n",
        "    def search(self, word: str) -> bool:\n",
        "        if word in self.index:\n",
        "            return True\n",
        "        \n",
        "        word_len = len(word)\n",
        "        \n",
        "        if word_len not in self.words:\n",
        "            return False\n",
        "        \n",
        "        if word == '.' * word_len:\n",
        "            return True\n",
        "        \n",
        "        words = self.words[word_len]\n",
        "        for w in words:\n",
        "            if self.compare(word, w):\n",
        "                return True\n",
        "            \n",
        "        return False"
      ],
      "execution_count": null,
      "outputs": []
    }
  ]
}