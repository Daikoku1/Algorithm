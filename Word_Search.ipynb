{
  "nbformat": 4,
  "nbformat_minor": 0,
  "metadata": {
    "colab": {
      "name": "Word Search.ipynb",
      "provenance": [],
      "collapsed_sections": [],
      "authorship_tag": "ABX9TyODhP34h0vxjP6+bxr6HuGq",
      "include_colab_link": true
    },
    "kernelspec": {
      "name": "python3",
      "display_name": "Python 3"
    }
  },
  "cells": [
    {
      "cell_type": "markdown",
      "metadata": {
        "id": "view-in-github",
        "colab_type": "text"
      },
      "source": [
        "<a href=\"https://colab.research.google.com/github/Daikoku1/Algorithm_LeetCode/blob/master/Word_Search.ipynb\" target=\"_parent\"><img src=\"https://colab.research.google.com/assets/colab-badge.svg\" alt=\"Open In Colab\"/></a>"
      ]
    },
    {
      "cell_type": "code",
      "metadata": {
        "id": "oahsBJkdiqRG",
        "colab_type": "code",
        "colab": {}
      },
      "source": [
        "def exist(board, word):\n",
        "    M = len(board)\n",
        "    N = len(board[0])\n",
        "\n",
        "    to_do = []\n",
        "    for i in range(M):\n",
        "        for j in range(N):\n",
        "            if board[i][j] == word[0]:\n",
        "                to_do.append([i,j,0,[[i,j]]])\n",
        "    \n",
        "    while to_do:\n",
        "        x, y, idx, path = to_do.pop()\n",
        "        if idx == len(word)-1:\n",
        "            return True\n",
        "        if x != 0:\n",
        "            if (board[x-1][y] == word[idx+1]) & ([x-1,y] not in path):\n",
        "                path1 = path.copy()\n",
        "                path1.append([x-1,y])\n",
        "                to_do.append([x-1,y,idx+1, path1])\n",
        "        if x < M - 1:\n",
        "            if (board[x+1][y] == word[idx+1]) & ([x+1,y] not in path):\n",
        "                path2 = path.copy()\n",
        "                path2.append([x+1,y])\n",
        "                to_do.append([x+1,y,idx+1, path2])\n",
        "        if y != 0:\n",
        "            if (board[x][y-1] == word[idx+1]) & ([x,y-1] not in path):\n",
        "                path3 = path.copy()\n",
        "                path3.append([x,y-1])\n",
        "                to_do.append([x,y-1,idx+1, path3])\n",
        "        if y < N - 1:\n",
        "            if (board[x][y+1] == word[idx+1]) & ([x,y+1] not in path):\n",
        "                path4 = path.copy()\n",
        "                path4.append([x,y+1])\n",
        "                to_do.append([x,y+1,idx+1, path4])\n",
        "    return False"
      ],
      "execution_count": null,
      "outputs": []
    },
    {
      "cell_type": "code",
      "metadata": {
        "id": "c6Jh8EpXkLie",
        "colab_type": "code",
        "colab": {}
      },
      "source": [
        "# Given word = \"ABCCED\", return true.\n",
        "# Given word = \"SEE\", return true.\n",
        "# Given word = \"ABCB\", return false."
      ],
      "execution_count": null,
      "outputs": []
    },
    {
      "cell_type": "code",
      "metadata": {
        "id": "pw7wB83oiwB3",
        "colab_type": "code",
        "colab": {
          "base_uri": "https://localhost:8080/",
          "height": 177
        },
        "outputId": "a81398e7-8876-402d-c895-0ac84b18c09b"
      },
      "source": [
        "board = [[\"A\",\"B\",\"C\",\"E\"],[\"S\",\"F\",\"C\",\"S\"],[\"A\",\"D\",\"E\",\"E\"]]\n",
        "word = \"ABCCED\"\n",
        "exist(board, word)"
      ],
      "execution_count": null,
      "outputs": [
        {
          "output_type": "stream",
          "text": [
            "[[0, 0, 0, [[0, 0]]], [2, 0, 0, [[2, 0]]]]\n",
            "[[0, 0, 0, [[0, 0]]]]\n",
            "[[0, 1, 1, [[0, 0], [0, 1]]]]\n",
            "[[0, 2, 2, [[0, 0], [0, 1], [0, 2]]]]\n",
            "[[1, 2, 3, [[0, 0], [0, 1], [0, 2], [1, 2]]]]\n",
            "[[2, 2, 4, [[0, 0], [0, 1], [0, 2], [1, 2], [2, 2]]]]\n",
            "[[2, 1, 5, [[0, 0], [0, 1], [0, 2], [1, 2], [2, 2], [2, 1]]]]\n",
            "[[0, 0], [0, 1], [0, 2], [1, 2], [2, 2], [2, 1]]\n"
          ],
          "name": "stdout"
        },
        {
          "output_type": "execute_result",
          "data": {
            "text/plain": [
              "True"
            ]
          },
          "metadata": {
            "tags": []
          },
          "execution_count": 22
        }
      ]
    },
    {
      "cell_type": "code",
      "metadata": {
        "id": "vI9lya84i431",
        "colab_type": "code",
        "colab": {
          "base_uri": "https://localhost:8080/",
          "height": 106
        },
        "outputId": "a85af627-0ac0-472e-f8b8-9906c0ac15c6"
      },
      "source": [
        "word = \"SEE\"\n",
        "exist(board, word)"
      ],
      "execution_count": null,
      "outputs": [
        {
          "output_type": "stream",
          "text": [
            "[[1, 0, 0, [[1, 0]]], [1, 3, 0, [[1, 3]]]]\n",
            "[[1, 0, 0, [[1, 0]]], [0, 3, 1, [[1, 3], [0, 3]]], [2, 3, 1, [[1, 3], [2, 3]]]]\n",
            "[[1, 0, 0, [[1, 0]]], [0, 3, 1, [[1, 3], [0, 3]]], [2, 2, 2, [[1, 3], [2, 3], [2, 2]]]]\n",
            "[[1, 3], [2, 3], [2, 2]]\n"
          ],
          "name": "stdout"
        },
        {
          "output_type": "execute_result",
          "data": {
            "text/plain": [
              "True"
            ]
          },
          "metadata": {
            "tags": []
          },
          "execution_count": 23
        }
      ]
    },
    {
      "cell_type": "code",
      "metadata": {
        "id": "cUr5cbEvkS_F",
        "colab_type": "code",
        "colab": {
          "base_uri": "https://localhost:8080/",
          "height": 106
        },
        "outputId": "0fa7e413-0596-4b32-d5e2-95b7b976b1e4"
      },
      "source": [
        "word = \"ABCB\"\n",
        "exist(board, word)"
      ],
      "execution_count": null,
      "outputs": [
        {
          "output_type": "stream",
          "text": [
            "[[0, 0, 0, [[0, 0]]], [2, 0, 0, [[2, 0]]]]\n",
            "[[0, 0, 0, [[0, 0]]]]\n",
            "[[0, 1, 1, [[0, 0], [0, 1]]]]\n",
            "[[0, 2, 2, [[0, 0], [0, 1], [0, 2]]]]\n"
          ],
          "name": "stdout"
        },
        {
          "output_type": "execute_result",
          "data": {
            "text/plain": [
              "False"
            ]
          },
          "metadata": {
            "tags": []
          },
          "execution_count": 24
        }
      ]
    },
    {
      "cell_type": "code",
      "metadata": {
        "id": "yGbRWEfRkV-h",
        "colab_type": "code",
        "colab": {
          "base_uri": "https://localhost:8080/",
          "height": 321
        },
        "outputId": "8a0699ef-e4e1-4017-bf86-86244a4131c5"
      },
      "source": [
        "board = [[\"A\",\"B\",\"C\",\"E\"],[\"S\",\"F\",\"E\",\"S\"],[\"A\",\"D\",\"E\",\"E\"]]\n",
        "word = \"ABCESEEEFS\"\n",
        "print(len(word))\n",
        "exist(board, word)"
      ],
      "execution_count": null,
      "outputs": [
        {
          "output_type": "stream",
          "text": [
            "10\n",
            "[[0, 0, 0, [[0, 0]]], [2, 0, 0, [[2, 0]]]]\n",
            "[[0, 0, 0, [[0, 0]]]]\n",
            "[[0, 1, 1, [[0, 0], [0, 1]]]]\n",
            "[[0, 2, 2, [[0, 0], [0, 1], [0, 2]]]]\n",
            "[[1, 2, 3, [[0, 0], [0, 1], [0, 2], [1, 2]]], [0, 3, 3, [[0, 0], [0, 1], [0, 2], [0, 3]]]]\n",
            "[[1, 2, 3, [[0, 0], [0, 1], [0, 2], [1, 2]]], [1, 3, 4, [[0, 0], [0, 1], [0, 2], [0, 3], [1, 3]]]]\n",
            "[[1, 2, 3, [[0, 0], [0, 1], [0, 2], [1, 2]]], [2, 3, 5, [[0, 0], [0, 1], [0, 2], [0, 3], [1, 3], [2, 3]]], [1, 2, 5, [[0, 0], [0, 1], [0, 2], [0, 3], [1, 3], [1, 2]]]]\n",
            "[[1, 2, 3, [[0, 0], [0, 1], [0, 2], [1, 2]]], [2, 3, 5, [[0, 0], [0, 1], [0, 2], [0, 3], [1, 3], [2, 3]]], [2, 2, 6, [[0, 0], [0, 1], [0, 2], [0, 3], [1, 3], [1, 2], [2, 2]]]]\n",
            "[[1, 2, 3, [[0, 0], [0, 1], [0, 2], [1, 2]]], [2, 3, 5, [[0, 0], [0, 1], [0, 2], [0, 3], [1, 3], [2, 3]]], [2, 3, 7, [[0, 0], [0, 1], [0, 2], [0, 3], [1, 3], [1, 2], [2, 2], [2, 3]]]]\n",
            "[[1, 2, 3, [[0, 0], [0, 1], [0, 2], [1, 2]]], [2, 3, 5, [[0, 0], [0, 1], [0, 2], [0, 3], [1, 3], [2, 3]]]]\n",
            "[[1, 2, 3, [[0, 0], [0, 1], [0, 2], [1, 2]]], [2, 2, 6, [[0, 0], [0, 1], [0, 2], [0, 3], [1, 3], [2, 3], [2, 2]]]]\n",
            "[[1, 2, 3, [[0, 0], [0, 1], [0, 2], [1, 2]]], [1, 2, 7, [[0, 0], [0, 1], [0, 2], [0, 3], [1, 3], [2, 3], [2, 2], [1, 2]]]]\n",
            "[[1, 2, 3, [[0, 0], [0, 1], [0, 2], [1, 2]]], [1, 1, 8, [[0, 0], [0, 1], [0, 2], [0, 3], [1, 3], [2, 3], [2, 2], [1, 2], [1, 1]]]]\n",
            "[[1, 2, 3, [[0, 0], [0, 1], [0, 2], [1, 2]]], [1, 0, 9, [[0, 0], [0, 1], [0, 2], [0, 3], [1, 3], [2, 3], [2, 2], [1, 2], [1, 1], [1, 0]]]]\n",
            "[[0, 0], [0, 1], [0, 2], [0, 3], [1, 3], [2, 3], [2, 2], [1, 2], [1, 1], [1, 0]]\n"
          ],
          "name": "stdout"
        },
        {
          "output_type": "execute_result",
          "data": {
            "text/plain": [
              "True"
            ]
          },
          "metadata": {
            "tags": []
          },
          "execution_count": 25
        }
      ]
    }
  ]
}