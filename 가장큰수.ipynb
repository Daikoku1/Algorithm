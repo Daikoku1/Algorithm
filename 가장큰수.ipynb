{
  "nbformat": 4,
  "nbformat_minor": 0,
  "metadata": {
    "colab": {
      "name": "가장큰수.ipynb",
      "provenance": [],
      "collapsed_sections": [],
      "authorship_tag": "ABX9TyNYfxTWmNWjnJFPJ0cDvAk/",
      "include_colab_link": true
    },
    "kernelspec": {
      "name": "python3",
      "display_name": "Python 3"
    }
  },
  "cells": [
    {
      "cell_type": "markdown",
      "metadata": {
        "id": "view-in-github",
        "colab_type": "text"
      },
      "source": [
        "<a href=\"https://colab.research.google.com/github/Daikoku1/Algorithm_Programmers/blob/master/%EA%B0%80%EC%9E%A5%ED%81%B0%EC%88%98.ipynb\" target=\"_parent\"><img src=\"https://colab.research.google.com/assets/colab-badge.svg\" alt=\"Open In Colab\"/></a>"
      ]
    },
    {
      "cell_type": "code",
      "metadata": {
        "id": "_DnAkeFT4O9d",
        "colab_type": "code",
        "colab": {}
      },
      "source": [
        "def solution(numbers):\n",
        "    if len(numbers) == numbers.count(0):\n",
        "        return '0'\n",
        "    else:\n",
        "        a_list = []\n",
        "        for num in numbers:\n",
        "            if num < 10:\n",
        "                a_list.append((num, str(num) * 4))\n",
        "            elif num < 100:\n",
        "                a_list.append((num, str(num) * 2))\n",
        "            elif num < 1000:\n",
        "                a_list.append((num, str(num) + str(num)[0]))\n",
        "            else:\n",
        "                a_list.append((num, str(num)))\n",
        "\n",
        "\n",
        "        b = sorted(a_list, key = lambda x : int(x[1]), reverse = True)\n",
        "        answer = ''\n",
        "        for i in range(len(b)):\n",
        "            answer += str(b[i][0])\n",
        "\n",
        "        return answer"
      ],
      "execution_count": null,
      "outputs": []
    }
  ]
}