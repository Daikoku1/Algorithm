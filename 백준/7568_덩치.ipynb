{
 "cells": [
  {
   "cell_type": "code",
   "execution_count": null,
   "metadata": {},
   "outputs": [],
   "source": [
    "# Time = 68 ms\n",
    "# Memory = 29076 KB\n",
    "import sys\n",
    "input = sys.stdin.readline\n",
    "N = int(input())\n",
    "li = []\n",
    "for idx in range(N):\n",
    "    w, h = map(int, input().split())\n",
    "    li.append([w,h])\n",
    "\n",
    "for w1,h1 in li:\n",
    "    rank = 1\n",
    "    for w2,h2 in li:\n",
    "        if w1 < w2 and h1 < h2:\n",
    "            rank += 1\n",
    "    print(rank, end = \" \")"
   ]
  },
  {
   "cell_type": "code",
   "execution_count": null,
   "metadata": {},
   "outputs": [],
   "source": []
  },
  {
   "cell_type": "markdown",
   "metadata": {},
   "source": [
    "# 코드\n",
    "- 21.10 다시 풂"
   ]
  },
  {
   "cell_type": "code",
   "execution_count": null,
   "metadata": {},
   "outputs": [],
   "source": [
    "# 29200 KB, 68 ms\n",
    "import sys\n",
    "input = sys.stdin.readline\n",
    "T = int(input())\n",
    "arr = [list(map(int, input().split())) for _ in range(T)]\n",
    "\n",
    "for idx, (x, y) in enumerate(arr):\n",
    "    now = 1\n",
    "    for j in range(T):\n",
    "        if idx == j: pass\n",
    "        else:\n",
    "            if x < arr[j][0] and y < arr[j][1]: now += 1\n",
    "    print(now)"
   ]
  }
 ],
 "metadata": {
  "kernelspec": {
   "display_name": "Python 3",
   "language": "python",
   "name": "python3"
  },
  "language_info": {
   "codemirror_mode": {
    "name": "ipython",
    "version": 3
   },
   "file_extension": ".py",
   "mimetype": "text/x-python",
   "name": "python",
   "nbconvert_exporter": "python",
   "pygments_lexer": "ipython3",
   "version": "3.8.8"
  },
  "toc": {
   "base_numbering": 1,
   "nav_menu": {},
   "number_sections": true,
   "sideBar": true,
   "skip_h1_title": false,
   "title_cell": "Table of Contents",
   "title_sidebar": "Contents",
   "toc_cell": false,
   "toc_position": {},
   "toc_section_display": true,
   "toc_window_display": true
  }
 },
 "nbformat": 4,
 "nbformat_minor": 4
}
