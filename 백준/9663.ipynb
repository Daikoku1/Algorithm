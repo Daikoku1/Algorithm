{
 "cells": [
  {
   "cell_type": "code",
   "execution_count": 28,
   "metadata": {},
   "outputs": [
    {
     "name": "stdout",
     "output_type": "stream",
     "text": [
      "92\n"
     ]
    }
   ],
   "source": [
    "# 146220 KB, 16152 ms\n",
    "# [a1,a2,a3] == (a1,0), (a2,1), (a3,2)\n",
    "def check(queens, n):\n",
    "    global answer\n",
    "    for x in range(n):\n",
    "        if x in queens: continue\n",
    "        for idx, y in enumerate(queens):\n",
    "            if abs(y - x) == len(queens) - idx : \n",
    "                break\n",
    "        else : check(queens + [x], n)\n",
    "    if len(queens) == n: answer += 1\n",
    "    return\n",
    "N = int(input())\n",
    "answer = 0\n",
    "for i in range(N):\n",
    "    check([i], N)\n",
    "print(answer)"
   ]
  }
 ],
 "metadata": {
  "interpreter": {
   "hash": "9652531e86fbc99dfe7fc5092eb81081a97fad237de3d1fd3b3a0d1c69c61538"
  },
  "kernelspec": {
   "display_name": "Python 3.9.7 64-bit ('ox': conda)",
   "language": "python",
   "name": "python3"
  },
  "language_info": {
   "codemirror_mode": {
    "name": "ipython",
    "version": 3
   },
   "file_extension": ".py",
   "mimetype": "text/x-python",
   "name": "python",
   "nbconvert_exporter": "python",
   "pygments_lexer": "ipython3",
   "version": "3.9.7"
  },
  "orig_nbformat": 4
 },
 "nbformat": 4,
 "nbformat_minor": 2
}
