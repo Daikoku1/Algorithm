{
 "cells": [
  {
   "cell_type": "code",
   "execution_count": null,
   "metadata": {},
   "outputs": [],
   "source": [
    "# 시간 초과\n",
    "L, R = map(int, input().split())\n",
    "min_num = 0\n",
    "min_cnt = 10\n",
    "\n",
    "for x in range(L, R+1):\n",
    "    c = 0\n",
    "    idx = 1\n",
    "    while idx < x:\n",
    "        idx *= 10\n",
    "        if x % idx == 8:c += 1\n",
    "        x -= x%idx\n",
    "    if c < min_cnt:min_num = x\n",
    "    if min_cnt == 0: break\n",
    "print(min_num)"
   ]
  },
  {
   "cell_type": "code",
   "execution_count": null,
   "metadata": {},
   "outputs": [],
   "source": [
    "# Time = 64 ms\n",
    "# Memory = 28776 KB\n",
    "L, R = map(str, input().split())\n",
    "\n",
    "if len(L) != len(R):print(0)\n",
    "else:\n",
    "    cnt = 0\n",
    "    for l, r in zip(L, R):\n",
    "        if l == r:\n",
    "            if l == '8':\n",
    "            cnt += 1\n",
    "        else:break\n",
    "    print(cnt)"
   ]
  },
  {
   "cell_type": "code",
   "execution_count": null,
   "metadata": {},
   "outputs": [],
   "source": [
    "800 899"
   ]
  },
  {
   "cell_type": "code",
   "execution_count": null,
   "metadata": {},
   "outputs": [],
   "source": [
    "8808 8880"
   ]
  }
 ],
 "metadata": {
  "kernelspec": {
   "display_name": "Python 3",
   "language": "python",
   "name": "python3"
  },
  "language_info": {
   "codemirror_mode": {
    "name": "ipython",
    "version": 3
   },
   "file_extension": ".py",
   "mimetype": "text/x-python",
   "name": "python",
   "nbconvert_exporter": "python",
   "pygments_lexer": "ipython3",
   "version": "3.8.3"
  },
  "toc": {
   "base_numbering": 1,
   "nav_menu": {},
   "number_sections": true,
   "sideBar": true,
   "skip_h1_title": false,
   "title_cell": "Table of Contents",
   "title_sidebar": "Contents",
   "toc_cell": false,
   "toc_position": {},
   "toc_section_display": true,
   "toc_window_display": true
  }
 },
 "nbformat": 4,
 "nbformat_minor": 4
}
