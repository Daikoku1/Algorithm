{
 "cells": [
  {
   "cell_type": "code",
   "execution_count": 7,
   "metadata": {},
   "outputs": [
    {
     "name": "stdout",
     "output_type": "stream",
     "text": [
      "1\n",
      "13\n",
      "OOIOIOIOIIOII\n",
      "0\n",
      "1\n",
      "2\n",
      "9\n",
      "12\n",
      "4\n"
     ]
    }
   ],
   "source": [
    "# Time = 280 ms\n",
    "# Memory = 30732 KB\n",
    "import sys\n",
    "input = sys.stdin.readline\n",
    "N = int(input())\n",
    "M = int(input())\n",
    "s = input().strip()\n",
    "\n",
    "idx = 0\n",
    "res = []\n",
    "while idx < M:\n",
    "    if s[idx] == 'I':\n",
    "        num = 0\n",
    "        while idx < M - 2:\n",
    "            if s[idx+1:idx+3] == 'OI':\n",
    "                num += 1\n",
    "                idx += 2\n",
    "            else:break\n",
    "        if num:res.append(num)\n",
    "    idx += 1\n",
    "answer = 0\n",
    "for x in res:\n",
    "    if x >= N : answer += x + 1 - N\n",
    "print(answer)"
   ]
  },
  {
   "cell_type": "code",
   "execution_count": 5,
   "metadata": {},
   "outputs": [
    {
     "data": {
      "text/plain": [
       "['OOIOIOIOIIOII']"
      ]
     },
     "execution_count": 5,
     "metadata": {},
     "output_type": "execute_result"
    }
   ],
   "source": [
    "# Time = 160 ms\n",
    "# Memory = 35232 KB\n",
    "import sys, re\n",
    "input = sys.stdin.readline\n",
    "N = int(input())\n",
    "M = int(input())\n",
    "s = input().strip()\n",
    "\n",
    "s = re.sub('OO+', ' ', s)\n",
    "s = re.sub('II+', 'I I', s)\n",
    "\n",
    "answer = 0\n",
    "for x in map(lambda x : (len(x) -1)// 2, s.split(' ')):\n",
    "    if x >= N : answer += x + 1 - N\n",
    "print(answer)"
   ]
  },
  {
   "cell_type": "code",
   "execution_count": 9,
   "metadata": {},
   "outputs": [
    {
     "data": {
      "text/plain": [
       "['', 'IOIOIOI', 'IOI', 'I']"
      ]
     },
     "execution_count": 9,
     "metadata": {},
     "output_type": "execute_result"
    }
   ],
   "source": [
    "import re\n",
    "s = 'OOIOIOIOIIOII'\n",
    "s = re.sub('OO+', ' ', s)\n",
    "s = re.sub('II+', 'I I', s)\n",
    "s.split(' ')"
   ]
  },
  {
   "cell_type": "markdown",
   "metadata": {},
   "source": [
    "# 코드\n",
    "- 21.12 풀이"
   ]
  },
  {
   "cell_type": "code",
   "execution_count": 9,
   "metadata": {},
   "outputs": [
    {
     "name": "stdout",
     "output_type": "stream",
     "text": [
      "2\n"
     ]
    }
   ],
   "source": [
    "# 39596\tKB, 256 ms\n",
    "N = int(input())\n",
    "l = int(input())\n",
    "s = input().strip()\n",
    "answer = 0\n",
    "temp = []\n",
    "for x in s:\n",
    "    if temp:\n",
    "        if temp[-1] != x: temp.append(x)\n",
    "        else:\n",
    "            if x == 'I': \n",
    "                answer += max(0, len(temp)//2 - N + 1)\n",
    "                temp = [x]\n",
    "            else: \n",
    "                answer += max(0, len(temp)//2 - N )\n",
    "                temp = []\n",
    "    else:\n",
    "        if x == 'I' : temp.append(x)\n",
    "if temp:\n",
    "    if temp[-1] == 'I': answer += max(0, len(temp)//2 - N + 1)\n",
    "    else:  answer += max(0, len(temp)//2 - N)\n",
    "print(answer)"
   ]
  }
 ],
 "metadata": {
  "kernelspec": {
   "display_name": "Python 3",
   "language": "python",
   "name": "python3"
  },
  "language_info": {
   "codemirror_mode": {
    "name": "ipython",
    "version": 3
   },
   "file_extension": ".py",
   "mimetype": "text/x-python",
   "name": "python",
   "nbconvert_exporter": "python",
   "pygments_lexer": "ipython3",
   "version": "3.10.0"
  },
  "toc": {
   "base_numbering": 1,
   "nav_menu": {},
   "number_sections": true,
   "sideBar": true,
   "skip_h1_title": false,
   "title_cell": "Table of Contents",
   "title_sidebar": "Contents",
   "toc_cell": false,
   "toc_position": {},
   "toc_section_display": true,
   "toc_window_display": true
  }
 },
 "nbformat": 4,
 "nbformat_minor": 4
}
