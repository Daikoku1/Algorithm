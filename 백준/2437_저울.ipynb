{
 "cells": [
  {
   "cell_type": "code",
   "execution_count": null,
   "metadata": {},
   "outputs": [],
   "source": [
    "a = [3, 1, 6, 2, 7, 30, 1]\n",
    "1,1,2 = 4\n",
    "3\n",
    "7 까지는 모두 표현\n",
    "+6\n",
    "13 까지 모두 표현\n",
    "+7\n",
    "20까지 모두 표현\n",
    "21"
   ]
  },
  {
   "cell_type": "code",
   "execution_count": 13,
   "metadata": {},
   "outputs": [],
   "source": [
    "# Time = 80 ms\n",
    "# Memory = 29088 KB\n",
    "N = int(input())\n",
    "nums = list(map(int, input().split()))\n",
    "nums.sort(reverse = True)\n",
    "answer = 0\n",
    "while nums:\n",
    "    num = nums.pop()\n",
    "    if num <= answer + 1:\n",
    "        answer += num\n",
    "    else:\n",
    "        break\n",
    "print(answer +1)"
   ]
  },
  {
   "cell_type": "code",
   "execution_count": null,
   "metadata": {},
   "outputs": [],
   "source": [
    "# Time = 72 ms\n",
    "# Memory = 29088 KB\n",
    "N = int(input())\n",
    "nums = list(map(int, input().split()))\n",
    "nums.sort()\n",
    "answer = 1\n",
    "for n in nums:\n",
    "    if n > answer:\n",
    "        break\n",
    "    answer += n\n",
    "print(answer)"
   ]
  }
 ],
 "metadata": {
  "kernelspec": {
   "display_name": "Python 3",
   "language": "python",
   "name": "python3"
  },
  "language_info": {
   "codemirror_mode": {
    "name": "ipython",
    "version": 3
   },
   "file_extension": ".py",
   "mimetype": "text/x-python",
   "name": "python",
   "nbconvert_exporter": "python",
   "pygments_lexer": "ipython3",
   "version": "3.8.3"
  },
  "toc": {
   "base_numbering": 1,
   "nav_menu": {},
   "number_sections": true,
   "sideBar": true,
   "skip_h1_title": false,
   "title_cell": "Table of Contents",
   "title_sidebar": "Contents",
   "toc_cell": false,
   "toc_position": {},
   "toc_section_display": true,
   "toc_window_display": true
  }
 },
 "nbformat": 4,
 "nbformat_minor": 4
}
