{
 "cells": [
  {
   "cell_type": "code",
   "execution_count": null,
   "metadata": {},
   "outputs": [],
   "source": [
    "# Time = 296 ms\n",
    "# Memory = 59500 KB\n",
    "import sys\n",
    "input = sys.stdin.readline\n",
    "N, M = map(int, input().split())\n",
    "dic = {}\n",
    "for i in range(1, N+1):\n",
    "    s = input().strip()\n",
    "    dic[str(i)] = s\n",
    "    dic[s] = i\n",
    "\n",
    "for _ in range(M):\n",
    "    s = input().strip()\n",
    "    print(dic[s])"
   ]
  },
  {
   "cell_type": "markdown",
   "metadata": {},
   "source": [
    "# 코드\n",
    "- 21.11 풀이"
   ]
  },
  {
   "cell_type": "code",
   "execution_count": null,
   "metadata": {},
   "outputs": [],
   "source": [
    "# 51736 KB, 272 ms\n",
    "import sys\n",
    "input = sys.stdin.readline\n",
    "name = {}\n",
    "number = {}\n",
    "\n",
    "N, M = map(int, input().split())\n",
    "for i in range(1, N+1):\n",
    "    poketmon = input().strip()\n",
    "    name[poketmon] = i\n",
    "    number[i] = poketmon\n",
    "\n",
    "for _ in range(M):\n",
    "    com = input().strip()\n",
    "    if com.isnumeric() : print(number[int(com)])\n",
    "    else : print(name[com])\n"
   ]
  }
 ],
 "metadata": {
  "interpreter": {
   "hash": "19c4bd4a8c3153e8f6fe1d4aa29847b7593bdeb075f08f949f70b00c677d2ba0"
  },
  "kernelspec": {
   "display_name": "Python 3.10.0 64-bit",
   "name": "python3"
  },
  "language_info": {
   "codemirror_mode": {
    "name": "ipython",
    "version": 3
   },
   "file_extension": ".py",
   "mimetype": "text/x-python",
   "name": "python",
   "nbconvert_exporter": "python",
   "pygments_lexer": "ipython3",
   "version": "3.10.0"
  },
  "toc": {
   "base_numbering": 1,
   "nav_menu": {},
   "number_sections": true,
   "sideBar": true,
   "skip_h1_title": false,
   "title_cell": "Table of Contents",
   "title_sidebar": "Contents",
   "toc_cell": false,
   "toc_position": {},
   "toc_section_display": true,
   "toc_window_display": true
  }
 },
 "nbformat": 4,
 "nbformat_minor": 4
}
