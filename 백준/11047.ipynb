{
 "cells": [
  {
   "cell_type": "code",
   "execution_count": null,
   "metadata": {},
   "outputs": [],
   "source": [
    "# 29200 KB, 76 ms\n",
    "import sys\n",
    "input = sys.stdin.readline\n",
    "N, K = map(int, input().split())\n",
    "arr = [int(input()) for _ in range(N)] \n",
    "\n",
    "answer = 0\n",
    "# A1 = 1, Ai는 Ai-1의 배수\n",
    "# 모든 값이 배수 관계이므로 경우의 수 고려하지 않아도 됨\n",
    "for x in arr[::-1]:\n",
    "    q, K = divmod(K, x)\n",
    "    answer += q\n",
    "print(answer)"
   ]
  }
 ],
 "metadata": {
  "language_info": {
   "name": "python"
  },
  "orig_nbformat": 4
 },
 "nbformat": 4,
 "nbformat_minor": 2
}
