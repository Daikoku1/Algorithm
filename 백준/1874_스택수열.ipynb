{
 "cells": [
  {
   "cell_type": "code",
   "execution_count": null,
   "metadata": {},
   "outputs": [],
   "source": [
    "# Time = 136 ms\n",
    "# Memory = 31320 KB\n",
    "import sys\n",
    "input = sys.stdin.readline\n",
    "def BOJ_1874():\n",
    "    N = int(input())\n",
    "    stack, cnt = [], 1\n",
    "    answer = []\n",
    "    for _ in range(N):\n",
    "        num = int(input())\n",
    "        while cnt <= num:\n",
    "            stack.append(cnt)\n",
    "            answer.append('+')\n",
    "            cnt += 1\n",
    "        if stack.pop() != num:\n",
    "            return 'NO'\n",
    "        else:\n",
    "            answer.append('-')\n",
    "    return '\\n'.join(answer)\n",
    "print(BOJ_1874())"
   ]
  },
  {
   "cell_type": "code",
   "execution_count": 8,
   "metadata": {},
   "outputs": [
    {
     "name": "stdout",
     "output_type": "stream",
     "text": [
      "8\n",
      "4\n",
      "3\n",
      "6\n",
      "8\n",
      "7\n",
      "5\n",
      "2\n",
      "1\n",
      "[] 0 1\n",
      "[1] 0 2\n",
      "[1, 2] 0 3\n",
      "[1, 2, 3] 0 4\n",
      "[1, 2, 3] 1 5\n",
      "[1, 2] 2 5\n",
      "[1, 2, 5] 2 6\n",
      "[1, 2, 5] 3 7\n",
      "[1, 2, 5, 7] 3 8\n"
     ]
    },
    {
     "data": {
      "text/plain": [
       "['+', '+', '+', '+', '-', '-', '+', '+', '-', '+', '+', '-']"
      ]
     },
     "execution_count": 8,
     "metadata": {},
     "output_type": "execute_result"
    }
   ],
   "source": [
    "import sys\n",
    "input = sys.stdin.readline\n",
    "N = int(input())\n",
    "stack, cnt = [], 1\n",
    "answer = []\n",
    "ans = True\n",
    "for _ in range(N):\n",
    "    num = int(input())\n",
    "    while cnt <= num:\n",
    "        stack.append(cnt)\n",
    "        answer.append('+')\n",
    "        cnt += 1\n",
    "    if stack.pop() != num:\n",
    "        ans = False\n",
    "        break\n",
    "    else:\n",
    "        answer.append('-')\n",
    "if ans: print('\\n'.join(answer))\n",
    "else: print('NO')\n"
   ]
  }
 ],
 "metadata": {
  "kernelspec": {
   "display_name": "Python 3",
   "language": "python",
   "name": "python3"
  },
  "language_info": {
   "codemirror_mode": {
    "name": "ipython",
    "version": 3
   },
   "file_extension": ".py",
   "mimetype": "text/x-python",
   "name": "python",
   "nbconvert_exporter": "python",
   "pygments_lexer": "ipython3",
   "version": "3.8.8"
  },
  "toc": {
   "base_numbering": 1,
   "nav_menu": {},
   "number_sections": true,
   "sideBar": true,
   "skip_h1_title": false,
   "title_cell": "Table of Contents",
   "title_sidebar": "Contents",
   "toc_cell": false,
   "toc_position": {},
   "toc_section_display": true,
   "toc_window_display": true
  }
 },
 "nbformat": 4,
 "nbformat_minor": 4
}
