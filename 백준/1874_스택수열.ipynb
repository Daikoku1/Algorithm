{
 "cells": [
  {
   "cell_type": "code",
   "execution_count": null,
   "metadata": {},
   "outputs": [],
   "source": [
    "# Time = 136 ms\n",
    "# Memory = 31320 KB\n",
    "import sys\n",
    "input = sys.stdin.readline\n",
    "def BOJ_1874():\n",
    "    N = int(input())\n",
    "    stack, cnt = [], 1\n",
    "    answer = []\n",
    "    for _ in range(N):\n",
    "        num = int(input())\n",
    "        while cnt <= num:\n",
    "            stack.append(cnt)\n",
    "            answer.append('+')\n",
    "            cnt += 1\n",
    "        if stack.pop() != num:\n",
    "            return 'NO'\n",
    "        else:\n",
    "            answer.append('-')\n",
    "    return '\\n'.join(answer)\n",
    "print(BOJ_1874())"
   ]
  },
  {
   "cell_type": "code",
   "execution_count": null,
   "metadata": {},
   "outputs": [],
   "source": []
  }
 ],
 "metadata": {
  "kernelspec": {
   "display_name": "Python 3",
   "language": "python",
   "name": "python3"
  },
  "language_info": {
   "codemirror_mode": {
    "name": "ipython",
    "version": 3
   },
   "file_extension": ".py",
   "mimetype": "text/x-python",
   "name": "python",
   "nbconvert_exporter": "python",
   "pygments_lexer": "ipython3",
   "version": "3.8.5"
  },
  "toc": {
   "base_numbering": 1,
   "nav_menu": {},
   "number_sections": true,
   "sideBar": true,
   "skip_h1_title": false,
   "title_cell": "Table of Contents",
   "title_sidebar": "Contents",
   "toc_cell": false,
   "toc_position": {},
   "toc_section_display": true,
   "toc_window_display": true
  }
 },
 "nbformat": 4,
 "nbformat_minor": 4
}
