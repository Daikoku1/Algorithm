{
 "cells": [
  {
   "cell_type": "markdown",
   "metadata": {},
   "source": [
    "## 코드\n",
    "- 22.02 풀이\n",
    "- 최단경로는 BOJ보다 다익스트라가 조금 더 빠름"
   ]
  },
  {
   "cell_type": "code",
   "execution_count": null,
   "metadata": {},
   "outputs": [],
   "source": [
    "# 35564\tKB, 680 ms\n",
    "import sys\n",
    "input = sys.stdin.readline\n",
    "N, M = int(input()), int(input())\n",
    "dic = {i : {} for i in range(1, N+1)}\n",
    "for _ in range(M): \n",
    "    p1, p2, c = map(int, input().split())\n",
    "    dic[p1][p2] = min(dic[p1].get(p2, 100_000), c)\n",
    "\n",
    "s, e = map(int, input().split())\n",
    "def BOJ(N, s, e):\n",
    "    to_do = [(0, s)]\n",
    "    total_cost = [float('inf')] * (N+1)\n",
    "    total_cost[s] = 0\n",
    "    while to_do:\n",
    "        cost, point = to_do.pop()\n",
    "        for np, nc in dic[point].items():\n",
    "            new_cost = nc + cost\n",
    "            if new_cost >= total_cost[np] : continue\n",
    "            to_do.append((new_cost, np))\n",
    "            total_cost[np] = new_cost\n",
    "    return total_cost[e]\n",
    "\n",
    "print(BOJ(N,s,e))"
   ]
  },
  {
   "cell_type": "code",
   "execution_count": null,
   "metadata": {},
   "outputs": [],
   "source": [
    "# 37740\tKB, 236 ms\n",
    "import heapq, sys\n",
    "input = sys.stdin.readline\n",
    "N, M = int(input()), int(input())\n",
    "dic = {i : {} for i in range(1, N+1)}\n",
    "for _ in range(M): \n",
    "    p1, p2, c = map(int, input().split())\n",
    "    dic[p1][p2] = min(dic[p1].get(p2, 100_000), c)\n",
    "\n",
    "s, e = map(int, input().split())\n",
    "def dijkstra(N, s, e):\n",
    "    to_do = [(0, s)]\n",
    "    total_cost = [float('inf')] * (N+1)\n",
    "    total_cost[s] = 0\n",
    "    while to_do:\n",
    "        cost, point = heapq.heappop(to_do)\n",
    "        if point == e : return cost\n",
    "        for np, nc in dic[point].items():\n",
    "            new_cost = nc + cost\n",
    "            if new_cost >= total_cost[np] : continue\n",
    "            heapq.heappush(to_do, (new_cost, np))\n",
    "            total_cost[np] = new_cost\n",
    "print(dijkstra(N,s,e))"
   ]
  }
 ],
 "metadata": {
  "interpreter": {
   "hash": "9652531e86fbc99dfe7fc5092eb81081a97fad237de3d1fd3b3a0d1c69c61538"
  },
  "kernelspec": {
   "display_name": "Python 3.9.7 ('ox')",
   "language": "python",
   "name": "python3"
  },
  "language_info": {
   "codemirror_mode": {
    "name": "ipython",
    "version": 3
   },
   "file_extension": ".py",
   "mimetype": "text/x-python",
   "name": "python",
   "nbconvert_exporter": "python",
   "pygments_lexer": "ipython3",
   "version": "3.8.12"
  },
  "orig_nbformat": 4
 },
 "nbformat": 4,
 "nbformat_minor": 2
}
