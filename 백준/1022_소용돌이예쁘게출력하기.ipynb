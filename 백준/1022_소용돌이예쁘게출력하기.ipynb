{
 "cells": [
  {
   "cell_type": "code",
   "execution_count": 29,
   "metadata": {},
   "outputs": [
    {
     "name": "stdout",
     "output_type": "stream",
     "text": [
      "37 36 35 34 \n",
      "38 17 16 15 \n",
      "39 18  5  4 \n",
      "40 19  6  1 \n",
      "41 20  7  8 \n",
      "42 21 22 23 \n"
     ]
    }
   ],
   "source": [
    "# 29200 KB, 72 ms\n",
    "def check(x,y):\n",
    "    abs_x, abs_y = abs(x), abs(y)\n",
    "    if abs_x == abs_y :\n",
    "        number = (2*abs_x + 1)**2\n",
    "        if x > 0 and y > 0 : return number\n",
    "        elif x > 0 and y < 0 : return number - (2*abs_x)\n",
    "        elif x < 0 and y < 0 : return number - (2*abs_x)*2\n",
    "        else: return number - (2*abs_x)*3\n",
    "    elif abs_x > abs_y :\n",
    "        number = (2*abs_x + 1)**2\n",
    "        if x > 0 : return number - (abs_x - y)\n",
    "        else: return number - (2*abs_x)*3 + (abs_x - y)\n",
    "    else:\n",
    "        number = (2*abs_y + 1)**2\n",
    "        if y > 0 : return number - (2*abs_y)*3 - (x + abs_y)\n",
    "        else : return number - (2*abs_y) - (abs_y - x)\n",
    "\n",
    "r1,c1,r2,c2 = map(int, input().split())\n",
    "arr = [[0] * (c2 - c1 + 1) for _ in range(r2-r1+1)]\n",
    "max_num = 0\n",
    "for r in range(r1, r2+1):\n",
    "    for c in range(c1,c2+1):\n",
    "        now_n = check(r,c)\n",
    "        max_num = max(now_n, max_num)\n",
    "        arr[r-r1][c-c1] = now_n\n",
    "\n",
    "max_l = len(str(max_num))\n",
    "for i in range(r2-r1+1):\n",
    "    for j in range(c2-c1+1):\n",
    "        print(str(arr[i][j]).rjust(max_l), end = ' ')\n",
    "    print()"
   ]
  },
  {
   "cell_type": "code",
   "execution_count": null,
   "metadata": {},
   "outputs": [],
   "source": [
    "# -2 2 0 3\n",
    "13 30\n",
    "12 29\n",
    "11 28"
   ]
  },
  {
   "cell_type": "code",
   "execution_count": null,
   "metadata": {},
   "outputs": [],
   "source": [
    "1, 8 , 16, 25, \n",
    "7 , 8, 9, \n",
    "x**2 - y**2\n",
    "(x-y)(x+y)"
   ]
  }
 ],
 "metadata": {
  "interpreter": {
   "hash": "9652531e86fbc99dfe7fc5092eb81081a97fad237de3d1fd3b3a0d1c69c61538"
  },
  "kernelspec": {
   "display_name": "Python 3.9.7 64-bit ('ox': conda)",
   "language": "python",
   "name": "python3"
  },
  "language_info": {
   "codemirror_mode": {
    "name": "ipython",
    "version": 3
   },
   "file_extension": ".py",
   "mimetype": "text/x-python",
   "name": "python",
   "nbconvert_exporter": "python",
   "pygments_lexer": "ipython3",
   "version": "3.9.7"
  },
  "orig_nbformat": 4
 },
 "nbformat": 4,
 "nbformat_minor": 2
}
