{
 "cells": [
  {
   "cell_type": "code",
   "execution_count": 4,
   "metadata": {},
   "outputs": [
    {
     "name": "stdout",
     "output_type": "stream",
     "text": [
      "1\n"
     ]
    }
   ],
   "source": [
    "# 29200\tKB, 68 ms\n",
    "import sys\n",
    "input = sys.stdin.readline\n",
    "T = int(input())\n",
    "answer = T\n",
    "for _ in range(T):\n",
    "    prev = 0\n",
    "    # ord('a') == 97, ord('z') == 122\n",
    "    dic = {i : 0 for i in range(97, 123)}\n",
    "    for x in input().strip():\n",
    "        x = ord(x)\n",
    "        if prev == x : continue\n",
    "        if dic[x]: \n",
    "            answer -= 1\n",
    "            break\n",
    "        dic[x] = 1\n",
    "        prev = x\n",
    "print(answer)"
   ]
  }
 ],
 "metadata": {
  "interpreter": {
   "hash": "9652531e86fbc99dfe7fc5092eb81081a97fad237de3d1fd3b3a0d1c69c61538"
  },
  "kernelspec": {
   "display_name": "Python 3.9.7 64-bit ('ox': conda)",
   "language": "python",
   "name": "python3"
  },
  "language_info": {
   "codemirror_mode": {
    "name": "ipython",
    "version": 3
   },
   "file_extension": ".py",
   "mimetype": "text/x-python",
   "name": "python",
   "nbconvert_exporter": "python",
   "pygments_lexer": "ipython3",
   "version": "3.9.7"
  },
  "orig_nbformat": 4
 },
 "nbformat": 4,
 "nbformat_minor": 2
}
