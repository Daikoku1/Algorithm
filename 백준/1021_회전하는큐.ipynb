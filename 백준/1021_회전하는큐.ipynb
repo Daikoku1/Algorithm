{
 "cells": [
  {
   "cell_type": "code",
   "execution_count": 12,
   "metadata": {},
   "outputs": [
    {
     "name": "stdout",
     "output_type": "stream",
     "text": [
      "2 deque([3, 4, 5, 6, 7, 8, 9, 10, 1])\n",
      "1\n",
      "9 deque([10, 1, 3, 4, 5, 6, 7, 8])\n",
      "4\n",
      "5 deque([6, 7, 8, 10, 1, 3, 4])\n",
      "8\n",
      "8\n"
     ]
    }
   ],
   "source": [
    "# 32752 KB, 96 ms\n",
    "from collections import deque\n",
    "N, M = map(int, input().split())\n",
    "arr = deque([i for i in range(1, N+1)])\n",
    "ans = 0\n",
    "for x in map(int, input().split()):\n",
    "    cnt1, cnt2 = 0, 0\n",
    "    for i1  in range(len(arr)):\n",
    "        if arr[i1] != x: cnt1 += 1\n",
    "        else: break\n",
    "    for i2 in range(0, -len(arr), -1):\n",
    "        if arr[i2] != x: cnt2 += 1\n",
    "        else: break\n",
    "    if cnt1 > cnt2:\n",
    "        ans += cnt2\n",
    "        for _ in range(-i2): arr.appendleft(arr.pop())\n",
    "        arr.popleft()\n",
    "    else:\n",
    "        ans += cnt1\n",
    "        for _ in range(i1): arr.append(arr.popleft())\n",
    "        arr.popleft()\n",
    "\n",
    "print(ans)"
   ]
  },
  {
   "cell_type": "code",
   "execution_count": 14,
   "metadata": {},
   "outputs": [
    {
     "name": "stdout",
     "output_type": "stream",
     "text": [
      "[1, 2, 3, 4, 5, 6, 7, 8, 9, 10]\n",
      "[2, 3, 4, 5, 6, 7, 8, 9, 10]\n",
      "[7, 8, 9, 10, 2, 3, 4, 5]\n",
      "[4, 5, 7, 8, 9, 10, 2]\n",
      "[4, 5, 7, 8, 9, 10]\n",
      "[8, 9, 10, 4, 5]\n",
      "[10, 4, 5, 8]\n",
      "[10, 4, 5]\n",
      "[5, 10]\n",
      "[5]\n",
      "14\n"
     ]
    }
   ],
   "source": [
    "# 29200 KB, 84 ms\n",
    "from collections import deque\n",
    "N, M = map(int, input().split())\n",
    "# 리스트 생성안해도 deque 사용가능\n",
    "# deque는 슬라이싱 안됨 ㅠㅠ\n",
    "# arr = deque(i for i in range(1, N+1))\n",
    "arr = [i for i in range(1, N+1)]\n",
    "ans = 0\n",
    "for x in map(int, input().split()):\n",
    "    print(arr)\n",
    "    idx = arr.index(x)\n",
    "    ans += min(len(arr[idx:]), len(arr[:idx]))\n",
    "\n",
    "    arr = arr[idx+1:] + arr[:idx]\n",
    "print(ans)"
   ]
  },
  {
   "cell_type": "code",
   "execution_count": null,
   "metadata": {},
   "outputs": [],
   "source": []
  },
  {
   "cell_type": "markdown",
   "metadata": {},
   "source": [
    "# 코드\n",
    "- 21.12 풀이"
   ]
  },
  {
   "cell_type": "code",
   "execution_count": 18,
   "metadata": {},
   "outputs": [
    {
     "name": "stdout",
     "output_type": "stream",
     "text": [
      "14\n"
     ]
    }
   ],
   "source": [
    "# 29200 KB,\t68 ms\n",
    "N, M = map(int, input().split())\n",
    "arr = [i for i in range(1, N+1)]\n",
    "answer = 0\n",
    "for i in map(int, input().split()):\n",
    "    x1 = arr.index(i) \n",
    "    x2 = len(arr) - x1\n",
    "    if x1 < x2: \n",
    "        answer += x1\n",
    "        arr = arr[x1+1:] + arr[:x1]\n",
    "    else:\n",
    "        answer += x2\n",
    "        arr =  arr[x1+1:] + arr[:x1]\n",
    "print(answer)"
   ]
  }
 ],
 "metadata": {
  "interpreter": {
   "hash": "9652531e86fbc99dfe7fc5092eb81081a97fad237de3d1fd3b3a0d1c69c61538"
  },
  "kernelspec": {
   "display_name": "Python 3.9.7 64-bit ('ox': conda)",
   "name": "python3"
  },
  "language_info": {
   "codemirror_mode": {
    "name": "ipython",
    "version": 3
   },
   "file_extension": ".py",
   "mimetype": "text/x-python",
   "name": "python",
   "nbconvert_exporter": "python",
   "pygments_lexer": "ipython3",
   "version": "3.9.7"
  },
  "orig_nbformat": 4
 },
 "nbformat": 4,
 "nbformat_minor": 2
}
