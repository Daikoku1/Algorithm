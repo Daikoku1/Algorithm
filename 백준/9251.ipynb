{
 "cells": [
  {
   "cell_type": "code",
   "execution_count": 27,
   "metadata": {},
   "outputs": [
    {
     "name": "stdout",
     "output_type": "stream",
     "text": [
      "4\n"
     ]
    }
   ],
   "source": [
    "s1, s2= input().strip(), input().strip()\n",
    "dp = [[0] * (len(s1)+1) for _ in range(len(s2)+1)] # dp[i][j] = LCS(X[:i], Y[:j])\n",
    "# If Xi == Yi : dp[i+1][j+1] = dp[i][j] + 1\n",
    "# else: dp[i+1][j+1] = max(dp[i][j+1], dp[i+1][j])\n",
    "#   - dp[i][j]는 불가능 왜냐하면 Xi == Y(i-1) or X(i-1) == Yi 인 경우가 존재하므로\n",
    "for j in range(1, len(s2)+1):\n",
    "    for i in range(1, len(s1)+1):\n",
    "        if s2[j-1] == s1[i-1]: dp[j][i] = dp[j-1][i-1] + 1\n",
    "        else: dp[j][i] = max(dp[j-1][i], dp[j][i-1])\n",
    "print(dp[-1][-1])"
   ]
  }
 ],
 "metadata": {
  "interpreter": {
   "hash": "9652531e86fbc99dfe7fc5092eb81081a97fad237de3d1fd3b3a0d1c69c61538"
  },
  "kernelspec": {
   "display_name": "Python 3.9.7 64-bit ('ox': conda)",
   "language": "python",
   "name": "python3"
  },
  "language_info": {
   "name": "python",
   "version": "3.9.7"
  },
  "orig_nbformat": 4
 },
 "nbformat": 4,
 "nbformat_minor": 2
}
