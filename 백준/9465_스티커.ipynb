{
 "cells": [
  {
   "cell_type": "code",
   "execution_count": null,
   "metadata": {},
   "outputs": [],
   "source": [
    "5\n",
    "50 10 100 20 40\n",
    "30 50 70 10 60"
   ]
  },
  {
   "cell_type": "code",
   "execution_count": 3,
   "metadata": {},
   "outputs": [
    {
     "name": "stdout",
     "output_type": "stream",
     "text": [
      "2\n",
      "5\n",
      "50 10 100 20 40\n",
      "30 50 70 10 60\n",
      "260\n",
      "7\n",
      "10 30 10 50 100 20 40\n",
      "20 40 30 50 60 20 80\n",
      "290\n"
     ]
    }
   ],
   "source": [
    "# Time = 940 ms\n",
    "# Memory = 45356 KB\n",
    "import sys\n",
    "input = sys. stdin.readline\n",
    "T = int(input())\n",
    "for _ in range(T):\n",
    "    N = int(input())\n",
    "    arr = [list(map(int, input().split())) for _ in range(2)]\n",
    "    arr[0][1] += arr[1][0]\n",
    "    arr[1][1] += arr[0][0]\n",
    "    for idx in range(2, N):\n",
    "        arr[0][idx] += max(arr[1][idx-1], arr[1][idx-2])\n",
    "        arr[1][idx] += max(arr[0][idx-1], arr[0][idx-2])\n",
    "    print((max(arr[0][-1], arr[1][-1])))"
   ]
  },
  {
   "cell_type": "code",
   "execution_count": null,
   "metadata": {},
   "outputs": [],
   "source": [
    "2\n",
    "5\n",
    "50 10 100 20 40\n",
    "30 50 70 10 60\n",
    "7\n",
    "10 30 10 50 100 20 40\n",
    "20 40 30 50 60 20 80"
   ]
  }
 ],
 "metadata": {
  "kernelspec": {
   "display_name": "Python 3",
   "language": "python",
   "name": "python3"
  },
  "language_info": {
   "codemirror_mode": {
    "name": "ipython",
    "version": 3
   },
   "file_extension": ".py",
   "mimetype": "text/x-python",
   "name": "python",
   "nbconvert_exporter": "python",
   "pygments_lexer": "ipython3",
   "version": "3.8.3"
  },
  "toc": {
   "base_numbering": 1,
   "nav_menu": {},
   "number_sections": true,
   "sideBar": true,
   "skip_h1_title": false,
   "title_cell": "Table of Contents",
   "title_sidebar": "Contents",
   "toc_cell": false,
   "toc_position": {},
   "toc_section_display": true,
   "toc_window_display": true
  }
 },
 "nbformat": 4,
 "nbformat_minor": 4
}
