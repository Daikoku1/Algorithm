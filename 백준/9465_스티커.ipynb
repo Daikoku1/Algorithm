{
 "cells": [
  {
   "cell_type": "code",
   "execution_count": 3,
   "metadata": {},
   "outputs": [
    {
     "name": "stdout",
     "output_type": "stream",
     "text": [
      "2\n",
      "5\n",
      "50 10 100 20 40\n",
      "30 50 70 10 60\n",
      "260\n",
      "7\n",
      "10 30 10 50 100 20 40\n",
      "20 40 30 50 60 20 80\n",
      "290\n"
     ]
    }
   ],
   "source": [
    "# Time = 940 ms\n",
    "# Memory = 45356 KB\n",
    "import sys\n",
    "input = sys. stdin.readline\n",
    "T = int(input())\n",
    "for _ in range(T):\n",
    "    N = int(input())\n",
    "    arr = [list(map(int, input().split())) for _ in range(2)]\n",
    "    arr[0][1] += arr[1][0]\n",
    "    arr[1][1] += arr[0][0]\n",
    "    for idx in range(2, N):\n",
    "        arr[0][idx] += max(arr[1][idx-1], arr[1][idx-2])\n",
    "        arr[1][idx] += max(arr[0][idx-1], arr[0][idx-2])\n",
    "    print((max(arr[0][-1], arr[1][-1])))"
   ]
  },
  {
   "cell_type": "markdown",
   "metadata": {},
   "source": [
    "# 코드\n",
    "- 21.12 풀이"
   ]
  },
  {
   "cell_type": "code",
   "execution_count": 4,
   "metadata": {},
   "outputs": [
    {
     "name": "stdout",
     "output_type": "stream",
     "text": [
      "[[50, 40, 200, 140, 250], [30, 100, 120, 210, 260]]\n",
      "260\n",
      "[[10, 50, 60, 130, 210, 210, 270], [20, 50, 80, 110, 190, 230, 280]]\n",
      "280\n"
     ]
    }
   ],
   "source": [
    "# 46832\tKB, 972 ms\n",
    "import sys\n",
    "input = sys.stdin.readline\n",
    "T = int(input())\n",
    "for _ in range(T):\n",
    "    N = int(input())\n",
    "    arr1 = list(map(int, input().split()))\n",
    "    arr2 = list(map(int, input().split()))\n",
    "    if N == 1:\n",
    "        print(max(arr1[0], arr2[0]))\n",
    "        continue\n",
    "    dp = [[0] * N for _ in range(2)]\n",
    "    dp[0][0], dp[1][0] = arr1[0], arr2[0]\n",
    "    dp[0][1], dp[1][1] = dp[1][0] + arr1[1], dp[0][0] + arr2[1]\n",
    "\n",
    "    for x in range(2, N):\n",
    "        dp[0][x] = max(dp[1][x-1], dp[1][x-2]) + arr1[x]\n",
    "        dp[1][x] = max(dp[0][x-1], dp[0][x-2]) + arr2[x]\n",
    "    print(max(dp[0][-1], dp[1][-1], dp[0][-2], dp[1][-2]))"
   ]
  }
 ],
 "metadata": {
  "kernelspec": {
   "display_name": "Python 3",
   "language": "python",
   "name": "python3"
  },
  "language_info": {
   "codemirror_mode": {
    "name": "ipython",
    "version": 3
   },
   "file_extension": ".py",
   "mimetype": "text/x-python",
   "name": "python",
   "nbconvert_exporter": "python",
   "pygments_lexer": "ipython3",
   "version": "3.9.7"
  },
  "toc": {
   "base_numbering": 1,
   "nav_menu": {},
   "number_sections": true,
   "sideBar": true,
   "skip_h1_title": false,
   "title_cell": "Table of Contents",
   "title_sidebar": "Contents",
   "toc_cell": false,
   "toc_position": {},
   "toc_section_display": true,
   "toc_window_display": true
  }
 },
 "nbformat": 4,
 "nbformat_minor": 4
}
