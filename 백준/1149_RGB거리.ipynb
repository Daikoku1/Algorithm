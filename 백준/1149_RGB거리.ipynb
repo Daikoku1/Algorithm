{
 "cells": [
  {
   "cell_type": "code",
   "execution_count": 2,
   "metadata": {},
   "outputs": [
    {
     "name": "stdout",
     "output_type": "stream",
     "text": [
      "3\n",
      "26 40 83\n",
      "49 60 57\n",
      "13 89 99\n",
      "96 172 185\n"
     ]
    }
   ],
   "source": [
    "# Time = 64 ms\n",
    "# Memory = 28776 KB\n",
    "import sys\n",
    "input = sys.stdin.readline\n",
    "T = int(input())\n",
    "p_a, p_b, p_c = map(int, input().split())\n",
    "for _ in range(T-1):\n",
    "    n_a, n_b, n_c = map(int, input().split())\n",
    "    n_a += min(p_b, p_c)\n",
    "    n_b += min(p_a, p_c)\n",
    "    n_c += min(p_a, p_b)\n",
    "    \n",
    "    p_a, p_b, p_c = n_a, n_b, n_c\n",
    "print(min(p_a, p_b, p_c))"
   ]
  }
 ],
 "metadata": {
  "kernelspec": {
   "display_name": "Python 3",
   "language": "python",
   "name": "python3"
  },
  "language_info": {
   "codemirror_mode": {
    "name": "ipython",
    "version": 3
   },
   "file_extension": ".py",
   "mimetype": "text/x-python",
   "name": "python",
   "nbconvert_exporter": "python",
   "pygments_lexer": "ipython3",
   "version": "3.8.3"
  },
  "toc": {
   "base_numbering": 1,
   "nav_menu": {},
   "number_sections": true,
   "sideBar": true,
   "skip_h1_title": false,
   "title_cell": "Table of Contents",
   "title_sidebar": "Contents",
   "toc_cell": false,
   "toc_position": {},
   "toc_section_display": true,
   "toc_window_display": true
  }
 },
 "nbformat": 4,
 "nbformat_minor": 4
}
