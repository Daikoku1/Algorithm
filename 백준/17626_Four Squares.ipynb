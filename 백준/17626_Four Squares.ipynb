{
 "cells": [
  {
   "cell_type": "code",
   "execution_count": null,
   "metadata": {},
   "outputs": [],
   "source": [
    "# Time = 124 ms\n",
    "# Memory = 30888 KB\n",
    "import math\n",
    "N = int(input())\n",
    "result = [[N, 0, int(math.sqrt(N))]]\n",
    "answer = 4\n",
    "max_m = int(math.sqrt(N // 4))\n",
    "while result:\n",
    "    n, c, m = result.pop()    \n",
    "    if m > max_m : result.append([n, c, m-1])\n",
    "    if c < 4 :\n",
    "        new_n = n - m**2\n",
    "        if new_n > 0:\n",
    "            result.append([new_n, c + 1, int(math.sqrt(new_n))])\n",
    "        elif new_n == 0:answer = min(answer, c+1)\n",
    "print(answer)"
   ]
  },
  {
   "cell_type": "code",
   "execution_count": 27,
   "metadata": {},
   "outputs": [
    {
     "name": "stdout",
     "output_type": "stream",
     "text": [
      "11339\n",
      "[106, 10, 1, 1, 105, 17, 5]\n",
      "3\n"
     ]
    }
   ],
   "source": [
    "import math\n",
    "N = int(input())\n",
    "result = [[N, 0, int(math.sqrt(N)), []]]\n",
    "answer = 4\n",
    "max_m = int(math.sqrt(N // 4))\n",
    "while result:\n",
    "#     print(result)\n",
    "    n, c, m, p = result.pop()    \n",
    "    if m > max_m : result.append([n, c, m-1, p])\n",
    "    if c < 4 :\n",
    "        new_n = n - m**2\n",
    "        p += [m]\n",
    "        if new_n > 0:\n",
    "            new_m = int(math.sqrt(new_n))\n",
    "            result.append([new_n, c + 1, new_m, p])\n",
    "        elif new_n == 0:\n",
    "            if c+1 < answer:\n",
    "                answer = c + 1\n",
    "                print(p)\n",
    "                \n",
    "print(answer)"
   ]
  }
 ],
 "metadata": {
  "kernelspec": {
   "display_name": "Python 3",
   "language": "python",
   "name": "python3"
  },
  "toc": {
   "base_numbering": 1,
   "nav_menu": {},
   "number_sections": true,
   "sideBar": true,
   "skip_h1_title": false,
   "title_cell": "Table of Contents",
   "title_sidebar": "Contents",
   "toc_cell": false,
   "toc_position": {},
   "toc_section_display": true,
   "toc_window_display": true
  }
 },
 "nbformat": 4,
 "nbformat_minor": 4
}
