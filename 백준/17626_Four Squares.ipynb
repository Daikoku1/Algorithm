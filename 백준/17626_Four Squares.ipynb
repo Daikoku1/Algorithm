{
 "cells": [
  {
   "cell_type": "code",
   "execution_count": 13,
   "metadata": {},
   "outputs": [
    {
     "name": "stdout",
     "output_type": "stream",
     "text": [
      "[[101, 0, 10]]\n",
      "[[101, 0, 9], [1, 1, 1]]\n",
      "[[101, 0, 9]]\n",
      "[[101, 0, 8], [20, 1, 4]]\n",
      "[[101, 0, 8], [4, 2, 2]]\n",
      "[[101, 0, 8]]\n",
      "[[101, 0, 7], [37, 1, 6]]\n",
      "[[101, 0, 7], [37, 1, 5], [1, 2, 1]]\n",
      "[[101, 0, 7], [37, 1, 5]]\n",
      "[[101, 0, 7], [12, 2, 3]]\n",
      "[[101, 0, 7], [3, 3, 1]]\n",
      "[[101, 0, 7], [2, 4, 1]]\n",
      "[[101, 0, 7]]\n",
      "[[101, 0, 6], [52, 1, 7]]\n",
      "[[101, 0, 6], [52, 1, 6], [3, 2, 1]]\n",
      "[[101, 0, 6], [52, 1, 6], [2, 3, 1]]\n",
      "[[101, 0, 6], [52, 1, 6], [1, 4, 1]]\n",
      "[[101, 0, 6], [52, 1, 6]]\n",
      "[[101, 0, 6], [52, 1, 5], [16, 2, 4]]\n",
      "[[101, 0, 6], [52, 1, 5]]\n",
      "[[101, 0, 6], [27, 2, 5]]\n",
      "[[101, 0, 6], [2, 3, 1]]\n",
      "[[101, 0, 6], [1, 4, 1]]\n",
      "[[101, 0, 6]]\n",
      "[[101, 0, 5], [65, 1, 8]]\n",
      "[[101, 0, 5], [65, 1, 7], [1, 2, 1]]\n",
      "[[101, 0, 5], [65, 1, 7]]\n",
      "[[101, 0, 5], [65, 1, 6], [16, 2, 4]]\n",
      "[[101, 0, 5], [65, 1, 6]]\n",
      "[[101, 0, 5], [65, 1, 5], [29, 2, 5]]\n",
      "[[101, 0, 5], [65, 1, 5], [4, 3, 2]]\n",
      "[[101, 0, 5], [65, 1, 5]]\n",
      "[[101, 0, 5], [40, 2, 6]]\n",
      "[[101, 0, 5], [40, 2, 5], [4, 3, 2]]\n",
      "[[101, 0, 5], [40, 2, 5]]\n",
      "[[101, 0, 5], [15, 3, 3]]\n",
      "[[101, 0, 5], [6, 4, 2]]\n",
      "[[101, 0, 5]]\n",
      "[[76, 1, 8]]\n",
      "[[76, 1, 7], [12, 2, 3]]\n",
      "[[76, 1, 7], [3, 3, 1]]\n",
      "[[76, 1, 7], [2, 4, 1]]\n",
      "[[76, 1, 7]]\n",
      "[[76, 1, 6], [27, 2, 5]]\n",
      "[[76, 1, 6], [2, 3, 1]]\n",
      "[[76, 1, 6], [1, 4, 1]]\n",
      "[[76, 1, 6]]\n",
      "[[76, 1, 5], [40, 2, 6]]\n",
      "[[76, 1, 5], [40, 2, 5], [4, 3, 2]]\n",
      "[[76, 1, 5], [40, 2, 5]]\n",
      "[[76, 1, 5], [15, 3, 3]]\n",
      "[[76, 1, 5], [6, 4, 2]]\n",
      "[[76, 1, 5]]\n",
      "[[51, 2, 7]]\n",
      "[[51, 2, 6], [2, 3, 1]]\n",
      "[[51, 2, 6], [1, 4, 1]]\n",
      "[[51, 2, 6]]\n",
      "[[51, 2, 5], [15, 3, 3]]\n",
      "[[51, 2, 5], [6, 4, 2]]\n",
      "[[51, 2, 5]]\n",
      "[[26, 3, 5]]\n",
      "[[1, 4, 1]]\n",
      "2\n"
     ]
    }
   ],
   "source": [
    "# Time = 124 ms\n",
    "# Memory = 30888 KB\n",
    "import math\n",
    "N = int(input())\n",
    "result = [[N, 0, int(math.sqrt(N))]]\n",
    "answer = 4\n",
    "max_m = int(math.sqrt(N // 4))\n",
    "while result:\n",
    "    print(result)\n",
    "    n, c, m = result.pop()    \n",
    "    if m > max_m : result.append([n, c, m-1])\n",
    "    if c < 4 :\n",
    "        new_n = n - m**2\n",
    "        if new_n > 0:\n",
    "            result.append([new_n, c + 1, int(math.sqrt(new_n))])\n",
    "        elif new_n == 0:answer = min(answer, c+1)\n",
    "print(answer)"
   ]
  },
  {
   "cell_type": "code",
   "execution_count": 9,
   "metadata": {},
   "outputs": [
    {
     "name": "stdout",
     "output_type": "stream",
     "text": [
      "4\n"
     ]
    }
   ],
   "source": [
    "import math\n",
    "N = int(input())\n",
    "result = [[N, 0, int(math.sqrt(N)), []]]\n",
    "answer = 4\n",
    "max_m = int(math.sqrt(N // 4))\n",
    "while result:\n",
    "#     print(result)\n",
    "    n, c, m, p = result.pop()    \n",
    "    if m > max_m : result.append([n, c, m-1, p])\n",
    "    if c < 4 :\n",
    "        new_n = n - m**2\n",
    "        p += [m]\n",
    "        if new_n > 0:\n",
    "            new_m = int(math.sqrt(new_n))\n",
    "            result.append([new_n, c + 1, new_m, p])\n",
    "        elif new_n == 0:\n",
    "            if c+1 < answer:\n",
    "                answer = c + 1\n",
    "                print(p)\n",
    "                \n",
    "print(answer)"
   ]
  },
  {
   "cell_type": "code",
   "execution_count": null,
   "metadata": {},
   "outputs": [],
   "source": []
  },
  {
   "cell_type": "markdown",
   "metadata": {},
   "source": [
    "# 코드\n",
    "- 22.01 풀이"
   ]
  },
  {
   "cell_type": "code",
   "execution_count": 1,
   "metadata": {},
   "outputs": [
    {
     "data": {
      "text/plain": [
       "223.60679774997897"
      ]
     },
     "execution_count": 1,
     "metadata": {},
     "output_type": "execute_result"
    }
   ],
   "source": [
    "50_000 **(1/2)"
   ]
  },
  {
   "cell_type": "code",
   "execution_count": 3,
   "metadata": {},
   "outputs": [
    {
     "name": "stdout",
     "output_type": "stream",
     "text": [
      "3\n"
     ]
    }
   ],
   "source": [
    "### 시간초과\n",
    "from collections import deque\n",
    "N = int(input())\n",
    "answer = 5 \n",
    "to_do = deque([[N, 0]])\n",
    "for x in range(223, 0, -1):\n",
    "    # print(x, len(to_do))\n",
    "    for _ in range(len(to_do)):\n",
    "        left_n, cnt = to_do.popleft()\n",
    "        to_do.append([left_n, cnt])\n",
    "        if cnt < 4:\n",
    "            if left_n > x**2 : to_do.append([left_n - x**2 , cnt + 1])\n",
    "            elif left_n == x**2 : answer = min(cnt+1, answer)\n",
    "print(answer)"
   ]
  },
  {
   "cell_type": "code",
   "execution_count": 7,
   "metadata": {},
   "outputs": [
    {
     "name": "stdout",
     "output_type": "stream",
     "text": [
      "4\n"
     ]
    }
   ],
   "source": [
    "# 126240 KB, 144 ms\n",
    "N = int(input())\n",
    "dp = [i for i in range(N+1)]\n",
    "for x in range(2, 224):\n",
    "    x = x**2\n",
    "    for idx in range(x, N+1):\n",
    "        dp[idx] = min(dp[idx-x] + 1 , dp[idx])\n",
    "print(dp[-1])"
   ]
  },
  {
   "cell_type": "code",
   "execution_count": null,
   "metadata": {},
   "outputs": [],
   "source": [
    "# 32976\tKB, 136 ms\t\n",
    "import math\n",
    "N = int(input())\n",
    "to_do = [[N, 0, int(math.sqrt(N))]]\n",
    "answer = 5\n",
    "# math.sqrt(N//4) **2  * 4 = N\n",
    "# if m < math.sqrt(N//4) \n",
    "# then need more than 4 chance.\n",
    "max_m = int(math.sqrt(N // 4))  \n",
    "while to_do:\n",
    "    n, c, m = to_do.pop()    \n",
    "    if m > max_m : to_do.append([n, c, m-1])\n",
    "    if c < 4 :\n",
    "        n -= m**2\n",
    "        if n > 0 : to_do.append([n, c+1, int(math.sqrt(n))])\n",
    "        elif n == 0 : answer = min(answer, c+1)\n",
    "        \n",
    "print(answer)\n"
   ]
  }
 ],
 "metadata": {
  "kernelspec": {
   "display_name": "Python 3",
   "language": "python",
   "name": "python3"
  },
  "language_info": {
   "codemirror_mode": {
    "name": "ipython",
    "version": 3
   },
   "file_extension": ".py",
   "mimetype": "text/x-python",
   "name": "python",
   "nbconvert_exporter": "python",
   "pygments_lexer": "ipython3",
   "version": "3.9.7"
  },
  "toc": {
   "base_numbering": 1,
   "nav_menu": {},
   "number_sections": true,
   "sideBar": true,
   "skip_h1_title": false,
   "title_cell": "Table of Contents",
   "title_sidebar": "Contents",
   "toc_cell": false,
   "toc_position": {},
   "toc_section_display": true,
   "toc_window_display": true
  }
 },
 "nbformat": 4,
 "nbformat_minor": 4
}
