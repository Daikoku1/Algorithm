{
 "cells": [
  {
   "cell_type": "code",
   "execution_count": 1,
   "metadata": {},
   "outputs": [
    {
     "name": "stdout",
     "output_type": "stream",
     "text": [
      "0.8284271247461903\n"
     ]
    }
   ],
   "source": [
    "# 31312 KB, 72 ms\n",
    "import math\n",
    "x1,y1, x2,y2, x3,y3 = map(int, input().split())\n",
    "if (x1,y1) == (x2,y2) or (x1,y1) == (x3,y3) or (x3,y3) == (x2,y2): print(-1)\n",
    "elif y1 == y2 and y2 == y3: print(-1)\n",
    "elif y1 != y2 and y1 != y3 and (x2-x1) / (y2-y1) == (x3-x1) / (y3 - y1): print(-1)\n",
    "else:\n",
    "    len1, len2, len3 = math.sqrt((x1-x2)**2 + (y1-y2)**2), math.sqrt((x1-x3)**2 + (y1-y3)**2), math.sqrt((x3-x2)**2 + (y3-y2)**2)\n",
    "    print((max(len1,len2,len3) - min(len1,len2,len3))*2)"
   ]
  }
 ],
 "metadata": {
  "interpreter": {
   "hash": "9652531e86fbc99dfe7fc5092eb81081a97fad237de3d1fd3b3a0d1c69c61538"
  },
  "kernelspec": {
   "display_name": "Python 3.9.7 64-bit ('ox': conda)",
   "name": "python3"
  },
  "language_info": {
   "codemirror_mode": {
    "name": "ipython",
    "version": 3
   },
   "file_extension": ".py",
   "mimetype": "text/x-python",
   "name": "python",
   "nbconvert_exporter": "python",
   "pygments_lexer": "ipython3",
   "version": "3.9.7"
  },
  "orig_nbformat": 4
 },
 "nbformat": 4,
 "nbformat_minor": 2
}
