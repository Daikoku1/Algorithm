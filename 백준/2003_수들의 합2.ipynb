{
 "cells": [
  {
   "cell_type": "code",
   "execution_count": 9,
   "metadata": {},
   "outputs": [
    {
     "name": "stdout",
     "output_type": "stream",
     "text": [
      "10 5\n",
      "1 2 3 4 2 5 3 1 1 2\n",
      "3\n"
     ]
    }
   ],
   "source": [
    "# Time = 96 ms\n",
    "# Memory = 33464 KB\n",
    "from collections import deque\n",
    "import sys\n",
    "input = sys.stdin.readline\n",
    "N, M = map(int, input().split())\n",
    "cnt = 0\n",
    "arr = deque()\n",
    "for x in map(int, input().split()):\n",
    "    M -= x\n",
    "    arr.append(x)\n",
    "    if M > 0 : continue\n",
    "    else:\n",
    "        while M < 0:\n",
    "            M += arr.popleft()\n",
    "        \n",
    "        if M == 0 :\n",
    "            cnt += 1\n",
    "            M += arr.popleft()\n",
    "print(cnt)"
   ]
  },
  {
   "cell_type": "code",
   "execution_count": null,
   "metadata": {},
   "outputs": [],
   "source": [
    "# Time = 72 ms\n",
    "# Memory = 29540 KB\n",
    "import sys\n",
    "input = sys.stdin.readline\n",
    "N, M = map(int, input().split())\n",
    "arr = list(map(int, input().split()))\n",
    "idx, sum_n, cnt = 0, 0, 0\n",
    "for x in arr:\n",
    "    sum_n += x\n",
    "    while sum_n > M:\n",
    "        sum_n -= arr[idx]\n",
    "        idx += 1\n",
    "    \n",
    "    cnt += (sum_n == M)\n",
    "print(cnt)"
   ]
  }
 ],
 "metadata": {
  "kernelspec": {
   "display_name": "Python 3",
   "language": "python",
   "name": "python3"
  },
  "language_info": {
   "codemirror_mode": {
    "name": "ipython",
    "version": 3
   },
   "file_extension": ".py",
   "mimetype": "text/x-python",
   "name": "python",
   "nbconvert_exporter": "python",
   "pygments_lexer": "ipython3",
   "version": "3.8.3"
  },
  "toc": {
   "base_numbering": 1,
   "nav_menu": {},
   "number_sections": true,
   "sideBar": true,
   "skip_h1_title": false,
   "title_cell": "Table of Contents",
   "title_sidebar": "Contents",
   "toc_cell": false,
   "toc_position": {
    "height": "calc(100% - 180px)",
    "left": "10px",
    "top": "150px",
    "width": "228.305px"
   },
   "toc_section_display": true,
   "toc_window_display": true
  }
 },
 "nbformat": 4,
 "nbformat_minor": 4
}
