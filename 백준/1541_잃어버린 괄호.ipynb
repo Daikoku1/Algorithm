{
 "cells": [
  {
   "cell_type": "code",
   "execution_count": null,
   "metadata": {},
   "outputs": [],
   "source": [
    "# SyntaxError\n",
    "# eval('01')\n",
    "strings = input().strip().split('-')\n",
    "if len(strings) == 1: print(eval(strings[0]))\n",
    "else:\n",
    "    if strings[0] == '':\n",
    "        sum_n = 0\n",
    "        for s in strings[1:]:\n",
    "            sum_n -= eval(s)\n",
    "        print(sum_n)\n",
    "    else:\n",
    "        sum_n = eval(strings[0])\n",
    "        for s in strings[1:]:\n",
    "            sum_n -= eval(s)\n",
    "        print(sum_n)"
   ]
  },
  {
   "cell_type": "code",
   "execution_count": 2,
   "metadata": {},
   "outputs": [
    {
     "name": "stdout",
     "output_type": "stream",
     "text": [
      "55-50+40\n",
      "-35\n"
     ]
    }
   ],
   "source": [
    "# Time = 68 ms\n",
    "# Memory = 28776 KB\n",
    "strings = input().strip().split('-')\n",
    "if strings[0] == '':\n",
    "    sum_n = 0\n",
    "    for s in strings[1:]:\n",
    "        for j in s.split('+'):\n",
    "            sum_n -= int(j)\n",
    "    print(sum_n)\n",
    "else:\n",
    "    sum_n = 0\n",
    "    for i in strings[0].split('+'):\n",
    "        sum_n += int(i)\n",
    "    if len(strings) > 1:\n",
    "        for s in strings[1:]:\n",
    "            for j in s.split('+'):\n",
    "                sum_n -= int(j)\n",
    "    print(sum_n)"
   ]
  },
  {
   "cell_type": "code",
   "execution_count": 3,
   "metadata": {},
   "outputs": [
    {
     "name": "stdout",
     "output_type": "stream",
     "text": [
      "55-50+40\n",
      "-35\n"
     ]
    }
   ],
   "source": [
    "# Time = 64 ms\n",
    "# Memory = 28776 KB\n",
    "strings = input().strip().split('-')\n",
    "sum_n = 0\n",
    "for i in strings[0].split('+'):\n",
    "    sum_n += int(i)\n",
    "if len(strings) > 1:\n",
    "    for s in strings[1:]:\n",
    "        sum_n -= sum(map(int, s.split('+')))\n",
    "print(sum_n)"
   ]
  },
  {
   "cell_type": "code",
   "execution_count": null,
   "metadata": {},
   "outputs": [],
   "source": []
  },
  {
   "cell_type": "markdown",
   "metadata": {},
   "source": [
    "# 코드\n",
    "- 21.10 풀이"
   ]
  },
  {
   "cell_type": "code",
   "execution_count": 15,
   "metadata": {},
   "outputs": [
    {
     "name": "stdout",
     "output_type": "stream",
     "text": [
      "55\n",
      "50\n",
      "40\n",
      "-35\n"
     ]
    }
   ],
   "source": [
    "# 29200 KB, 72 ms\n",
    "strings = input().split('-')\n",
    "ans = 0\n",
    "for idx, string in enumerate(strings):\n",
    "    for s in string.split('+'):\n",
    "        if s == '': pass\n",
    "        elif idx == 0: ans += int(s)\n",
    "        else: ans -= int(s)\n",
    " \n",
    "print(ans)"
   ]
  },
  {
   "cell_type": "code",
   "execution_count": 22,
   "metadata": {},
   "outputs": [
    {
     "name": "stdout",
     "output_type": "stream",
     "text": [
      "\n",
      "55 + 50\n",
      "-105\n"
     ]
    }
   ],
   "source": [
    "# 29200 KB, 68 ms\n",
    "strings = input().split('-')\n",
    "ans = 0\n",
    "for idx, string in enumerate(strings):\n",
    "    print(string)\n",
    "    if idx == 0: \n",
    "        if string == '': pass\n",
    "        else: ans += sum(map(int, string.split('+')))\n",
    "    else: ans -= sum(map(int, string.split('+')))\n",
    " \n",
    "print(ans)"
   ]
  },
  {
   "cell_type": "markdown",
   "metadata": {},
   "source": [
    "# 코드\n",
    "- 21.11 풀이"
   ]
  },
  {
   "cell_type": "code",
   "execution_count": 16,
   "metadata": {},
   "outputs": [],
   "source": [
    "# 29200 KB, 84 ms\n",
    "for idx, s in enumerate(input().split('-')):\n",
    "    if idx == 0 : \n",
    "        if s == '' : answer = 0\n",
    "        else : answer = sum(map(int, s.split('+')))\n",
    "    else: answer -= sum(map(int, s.split('+')))\n",
    "print(answer)"
   ]
  }
 ],
 "metadata": {
  "interpreter": {
   "hash": "9652531e86fbc99dfe7fc5092eb81081a97fad237de3d1fd3b3a0d1c69c61538"
  },
  "kernelspec": {
   "display_name": "Python 3.9.7 64-bit ('ox': conda)",
   "name": "python3"
  },
  "language_info": {
   "codemirror_mode": {
    "name": "ipython",
    "version": 3
   },
   "file_extension": ".py",
   "mimetype": "text/x-python",
   "name": "python",
   "nbconvert_exporter": "python",
   "pygments_lexer": "ipython3",
   "version": "3.9.7"
  },
  "toc": {
   "base_numbering": 1,
   "nav_menu": {},
   "number_sections": true,
   "sideBar": true,
   "skip_h1_title": false,
   "title_cell": "Table of Contents",
   "title_sidebar": "Contents",
   "toc_cell": false,
   "toc_position": {},
   "toc_section_display": true,
   "toc_window_display": true
  }
 },
 "nbformat": 4,
 "nbformat_minor": 4
}
