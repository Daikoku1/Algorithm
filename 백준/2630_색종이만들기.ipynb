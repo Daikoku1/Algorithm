{
 "cells": [
  {
   "cell_type": "code",
   "execution_count": 11,
   "metadata": {},
   "outputs": [],
   "source": [
    "# Time = 144 ms\n",
    "# Memory = 33344 KB\n",
    "from collections import deque\n",
    "import sys\n",
    "input = sys.stdin.readline\n",
    "N = int(input())\n",
    "arr = [list(map(int, input().split())) for _ in range(N)]\n",
    "num0, num1 = 0, 0\n",
    "to_do = deque([[0, 0, N]])\n",
    "while to_do:\n",
    "    x,y,n = to_do.popleft()\n",
    "    sub = 0\n",
    "    for i in range(x, x+n):\n",
    "        for j in range(y, y+n):\n",
    "            sub += arr[i][j]\n",
    "    if sub == 0 : num0 += 1\n",
    "    elif sub == n**2 : num1 += 1\n",
    "    else:\n",
    "        to_do.append([x,y,n//2])\n",
    "        to_do.append([x+n//2,y,n//2])\n",
    "        to_do.append([x,y+n//2,n//2])\n",
    "        to_do.append([x+n//2,y+n//2,n//2])\n",
    "print(num0, num1)"
   ]
  },
  {
   "cell_type": "code",
   "execution_count": null,
   "metadata": {},
   "outputs": [],
   "source": [
    "import numpy as np\n",
    "def solution(arr):\n",
    "    li = [np.array(arr)]\n",
    "    n0, n1 = 0, 0\n",
    "    while li:\n",
    "        array = li.pop()\n",
    "        sum_n = np.sum(array)\n",
    "        if sum_n == 0 : n0 += 1\n",
    "        elif sum_n == len(array)**2 : n1 += 1\n",
    "        else:\n",
    "            sub = np.split(array, 2, axis = 0)\n",
    "            for i in sub:\n",
    "                li.extend(np.split(i, 2, axis = 1))\n",
    "    return [n0, n1]"
   ]
  },
  {
   "cell_type": "code",
   "execution_count": null,
   "metadata": {},
   "outputs": [],
   "source": [
    "# Time = 112 ms\n",
    "# Memory = 29076 KB\n",
    "from collections import deque\n",
    "import sys\n",
    "input = sys.stdin.readline\n",
    "N = int(input())\n",
    "arr = [list(map(int, input().split())) for _ in range(N)]\n",
    "num0, num1 = 0, 0\n",
    "to_do = deque([[0, 0, N]])\n",
    "while to_do:\n",
    "    x,y,n = to_do.popleft()\n",
    "    sub = 0\n",
    "    for i in range(x, x+n):\n",
    "        for j in range(y, y+n):\n",
    "            sub += arr[i][j]\n",
    "    if sub == 0 : num0 += 1\n",
    "    elif sub == n**2 : num1 += 1\n",
    "    else:\n",
    "        to_do.append([x,y,n//2])\n",
    "        to_do.append([x+n//2,y,n//2])\n",
    "        to_do.append([x,y+n//2,n//2])\n",
    "        to_do.append([x+n//2,y+n//2,n//2])\n",
    "print(num0, num1)"
   ]
  },
  {
   "cell_type": "code",
   "execution_count": 23,
   "metadata": {},
   "outputs": [],
   "source": [
    "import numpy as np\n",
    "li = [[1,1,0],[1,0,0],[0,1,1]]\n",
    "numpy = np.array(li)"
   ]
  },
  {
   "cell_type": "code",
   "execution_count": 24,
   "metadata": {},
   "outputs": [
    {
     "data": {
      "text/plain": [
       "array([[1, 1],\n",
       "       [1, 0]])"
      ]
     },
     "execution_count": 24,
     "metadata": {},
     "output_type": "execute_result"
    }
   ],
   "source": [
    "numpy[0:2, 0:2]"
   ]
  },
  {
   "cell_type": "code",
   "execution_count": 25,
   "metadata": {},
   "outputs": [
    {
     "data": {
      "text/plain": [
       "[[1, 1, 0], [1, 0, 0]]"
      ]
     },
     "execution_count": 25,
     "metadata": {},
     "output_type": "execute_result"
    }
   ],
   "source": [
    "li[0:2][0:2]"
   ]
  },
  {
   "cell_type": "code",
   "execution_count": null,
   "metadata": {},
   "outputs": [],
   "source": []
  }
 ],
 "metadata": {
  "kernelspec": {
   "display_name": "Python 3",
   "language": "python",
   "name": "python3"
  },
  "language_info": {
   "codemirror_mode": {
    "name": "ipython",
    "version": 3
   },
   "file_extension": ".py",
   "mimetype": "text/x-python",
   "name": "python",
   "nbconvert_exporter": "python",
   "pygments_lexer": "ipython3",
   "version": "3.8.3"
  },
  "toc": {
   "base_numbering": 1,
   "nav_menu": {},
   "number_sections": true,
   "sideBar": true,
   "skip_h1_title": false,
   "title_cell": "Table of Contents",
   "title_sidebar": "Contents",
   "toc_cell": false,
   "toc_position": {},
   "toc_section_display": true,
   "toc_window_display": true
  }
 },
 "nbformat": 4,
 "nbformat_minor": 4
}
