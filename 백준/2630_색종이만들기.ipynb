{
 "cells": [
  {
   "cell_type": "code",
   "execution_count": 11,
   "metadata": {},
   "outputs": [],
   "source": [
    "# Time = 144 ms\n",
    "# Memory = 33344 KB\n",
    "from collections import deque\n",
    "import sys\n",
    "input = sys.stdin.readline\n",
    "N = int(input())\n",
    "arr = [list(map(int, input().split())) for _ in range(N)]\n",
    "num0, num1 = 0, 0\n",
    "to_do = deque([[0, 0, N]])\n",
    "while to_do:\n",
    "    x,y,n = to_do.popleft()\n",
    "    sub = 0\n",
    "    for i in range(x, x+n):\n",
    "        for j in range(y, y+n):\n",
    "            sub += arr[i][j]\n",
    "    if sub == 0 : num0 += 1\n",
    "    elif sub == n**2 : num1 += 1\n",
    "    else:\n",
    "        to_do.append([x,y,n//2])\n",
    "        to_do.append([x+n//2,y,n//2])\n",
    "        to_do.append([x,y+n//2,n//2])\n",
    "        to_do.append([x+n//2,y+n//2,n//2])\n",
    "print(num0, num1)"
   ]
  },
  {
   "cell_type": "code",
   "execution_count": null,
   "metadata": {},
   "outputs": [],
   "source": [
    "import numpy as np\n",
    "def solution(arr):\n",
    "    li = [np.array(arr)]\n",
    "    n0, n1 = 0, 0\n",
    "    while li:\n",
    "        array = li.pop()\n",
    "        sum_n = np.sum(array)\n",
    "        if sum_n == 0 : n0 += 1\n",
    "        elif sum_n == len(array)**2 : n1 += 1\n",
    "        else:\n",
    "            sub = np.split(array, 2, axis = 0)\n",
    "            for i in sub:\n",
    "                li.extend(np.split(i, 2, axis = 1))\n",
    "    return [n0, n1]"
   ]
  },
  {
   "cell_type": "code",
   "execution_count": null,
   "metadata": {},
   "outputs": [],
   "source": [
    "# Time = 112 ms\n",
    "# Memory = 29076 KB\n",
    "from collections import deque\n",
    "import sys\n",
    "input = sys.stdin.readline\n",
    "N = int(input())\n",
    "arr = [list(map(int, input().split())) for _ in range(N)]\n",
    "num0, num1 = 0, 0\n",
    "to_do = deque([[0, 0, N]])\n",
    "while to_do:\n",
    "    x,y,n = to_do.popleft()\n",
    "    sub = 0\n",
    "    for i in range(x, x+n):\n",
    "        for j in range(y, y+n):\n",
    "            sub += arr[i][j]\n",
    "    if sub == 0 : num0 += 1\n",
    "    elif sub == n**2 : num1 += 1\n",
    "    else:\n",
    "        to_do.append([x,y,n//2])\n",
    "        to_do.append([x+n//2,y,n//2])\n",
    "        to_do.append([x,y+n//2,n//2])\n",
    "        to_do.append([x+n//2,y+n//2,n//2])\n",
    "print(num0, num1)"
   ]
  },
  {
   "cell_type": "code",
   "execution_count": null,
   "metadata": {},
   "outputs": [],
   "source": []
  },
  {
   "cell_type": "markdown",
   "metadata": {},
   "source": [
    "# 코드\n",
    "- 21.12 풀이"
   ]
  },
  {
   "cell_type": "code",
   "execution_count": 20,
   "metadata": {},
   "outputs": [
    {
     "name": "stdout",
     "output_type": "stream",
     "text": [
      "9\n",
      "7\n"
     ]
    }
   ],
   "source": [
    "# 29200\tKB, 80 ms\n",
    "def check_same(x, y, N):\n",
    "    t = arr[x][y]\n",
    "    for nx in range(x, x+N):\n",
    "        for ny in range(y, y+N):\n",
    "            if arr[nx][ny] != t:\n",
    "                return False\n",
    "    return True\n",
    "\n",
    "def BOJ(x, y, N):\n",
    "    boolen_same = check_same(x, y, N)\n",
    "    if boolen_same :\n",
    "        answer[arr[x][y]] += 1\n",
    "    elif N == 2 :\n",
    "        for i in range(2):\n",
    "            for j in range(2):\n",
    "                answer[arr[x+i][y+j]] += 1\n",
    "    else:\n",
    "        N //= 2\n",
    "        for i in range(2):\n",
    "            for j in range(2):\n",
    "                BOJ(x + i*N, y + j*N, N)\n",
    "\n",
    "N = int(input())\n",
    "arr = [list(map(int, input().split())) for _ in range(N)]\n",
    "answer = [0, 0]\n",
    "BOJ(0, 0, N)\n",
    "for ans in answer:\n",
    "    print(ans)\n"
   ]
  },
  {
   "cell_type": "code",
   "execution_count": null,
   "metadata": {},
   "outputs": [],
   "source": [
    "8\n",
    "1 1 0 0 0 0 1 1\n",
    "1 1 0 0 0 0 1 1\n",
    "0 0 0 0 1 1 0 0\n",
    "0 0 0 0 1 1 0 0\n",
    "1 0 0 0 1 1 1 1\n",
    "0 1 0 0 1 1 1 1\n",
    "0 0 1 1 1 1 1 1\n",
    "0 0 1 1 1 1 1 1"
   ]
  }
 ],
 "metadata": {
  "kernelspec": {
   "display_name": "Python 3",
   "language": "python",
   "name": "python3"
  },
  "language_info": {
   "codemirror_mode": {
    "name": "ipython",
    "version": 3
   },
   "file_extension": ".py",
   "mimetype": "text/x-python",
   "name": "python",
   "nbconvert_exporter": "python",
   "pygments_lexer": "ipython3",
   "version": "3.9.7"
  },
  "toc": {
   "base_numbering": 1,
   "nav_menu": {},
   "number_sections": true,
   "sideBar": true,
   "skip_h1_title": false,
   "title_cell": "Table of Contents",
   "title_sidebar": "Contents",
   "toc_cell": false,
   "toc_position": {},
   "toc_section_display": true,
   "toc_window_display": true
  }
 },
 "nbformat": 4,
 "nbformat_minor": 4
}
