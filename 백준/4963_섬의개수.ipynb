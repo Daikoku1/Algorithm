{
 "cells": [
  {
   "cell_type": "markdown",
   "metadata": {},
   "source": [
    "# 코드\n",
    "- 21.11 풀이"
   ]
  },
  {
   "cell_type": "code",
   "execution_count": 14,
   "metadata": {},
   "outputs": [
    {
     "name": "stdout",
     "output_type": "stream",
     "text": [
      "------------\n",
      "0 0\n",
      "[['1', '0', '1', '0', '0'], ['1', '0', '0', '0', '0'], ['1', '0', '1', '0', '1'], ['1', '0', '0', '1', '0']]\n",
      "1 0\n",
      "2 0\n",
      "3 0\n",
      "------------\n",
      "0 2\n",
      "[['0', '0', '1', '0', '0'], ['0', '0', '0', '0', '0'], ['0', '0', '1', '0', '1'], ['0', '0', '0', '1', '0']]\n",
      "------------\n",
      "2 2\n",
      "[['0', '0', '0', '0', '0'], ['0', '0', '0', '0', '0'], ['0', '0', '1', '0', '1'], ['0', '0', '0', '1', '0']]\n",
      "3 3\n",
      "2 4\n",
      "3\n"
     ]
    }
   ],
   "source": [
    "# 29200 KB, 100 ms\n",
    "import sys\n",
    "input = sys.stdin.readline\n",
    "dx = [-1,-1,-1,0,1,1, 1, 0]\n",
    "dy = [-1, 0, 1,1,1,0,-1,-1]\n",
    "while True:\n",
    "    N, M = map(int, input().split())\n",
    "    if N == M == 0: break\n",
    "\n",
    "    arr = []\n",
    "    for _ in range(M):\n",
    "        arr.append(input().split())\n",
    "    \n",
    "    island = 0\n",
    "    for x in range(M):\n",
    "        for y in range(N):\n",
    "            if arr[x][y] == '1':\n",
    "                island += 1\n",
    "                to_do = [[x,y]]\n",
    "                arr[x][y] = '0'\n",
    "                while to_do:\n",
    "                    a, b = to_do.pop()\n",
    "                    for i in range(8):\n",
    "                        nx, ny = a + dx[i], b + dy[i]\n",
    "                        if 0<= nx < M and 0 <= ny < N and arr[nx][ny] == '1':\n",
    "                            print(nx, ny)\n",
    "                            to_do.append([nx,ny])\n",
    "                            arr[nx][ny] = '0'\n",
    "\n",
    "    print(island)"
   ]
  },
  {
   "cell_type": "code",
   "execution_count": 4,
   "metadata": {},
   "outputs": [
    {
     "name": "stdout",
     "output_type": "stream",
     "text": [
      "[['0', '0', '0', '0', '0'], ['0', '0', '0', '0', '0'], ['0', '0', '0', '0', '0'], ['0', '0', '0', '0', '0']]\n"
     ]
    }
   ],
   "source": [
    "# 29200 KB, 92 ms\n",
    "import sys\n",
    "input = sys.stdin.readline\n",
    "def BFS(x, y):\n",
    "    global arr\n",
    "    to_do = [[x,y]]\n",
    "    arr[x][y] = '0'\n",
    "    while to_do:\n",
    "        a, b = to_do.pop()\n",
    "        for i in range(8):\n",
    "            nx, ny = a + dx[i], b + dy[i]\n",
    "            if 0<= nx < M and 0 <= ny < N and arr[nx][ny] == '1':\n",
    "                to_do.append([nx,ny])\n",
    "                arr[nx][ny] = '0'\n",
    "\n",
    "dx = [-1,-1,-1,0,1,1, 1, 0]\n",
    "dy = [-1, 0, 1,1,1,0,-1,-1]\n",
    "while True:\n",
    "    N, M = map(int, input().split())\n",
    "    if N == M == 0: break\n",
    "\n",
    "    arr = []\n",
    "    for _ in range(M):\n",
    "        arr.append(input().split())\n",
    "    \n",
    "    island = 0\n",
    "    for x in range(M):\n",
    "        for y in range(N):\n",
    "            if arr[x][y] == '1':\n",
    "                island += 1\n",
    "                BFS(x,y)\n",
    "\n",
    "    print(island)"
   ]
  }
 ],
 "metadata": {
  "interpreter": {
   "hash": "38d51dd8e8d25c2b4859ddf5fde4d8615b38902fd48d30a19bf46ddb81d406a6"
  },
  "kernelspec": {
   "display_name": "Python 3.9.7 64-bit (windows store)",
   "language": "python",
   "name": "python3"
  },
  "language_info": {
   "codemirror_mode": {
    "name": "ipython",
    "version": 3
   },
   "file_extension": ".py",
   "mimetype": "text/x-python",
   "name": "python",
   "nbconvert_exporter": "python",
   "pygments_lexer": "ipython3",
   "version": "3.9.7"
  },
  "orig_nbformat": 4
 },
 "nbformat": 4,
 "nbformat_minor": 2
}
