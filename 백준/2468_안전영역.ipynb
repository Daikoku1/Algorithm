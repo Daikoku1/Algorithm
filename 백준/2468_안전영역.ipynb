{
 "cells": [
  {
   "cell_type": "markdown",
   "metadata": {},
   "source": [
    "# 코드\n",
    "- 21.11 풀이"
   ]
  },
  {
   "cell_type": "code",
   "execution_count": null,
   "metadata": {},
   "outputs": [],
   "source": [
    "# 29900\tKB, 1644 ms\n",
    "import sys, copy\n",
    "input = sys.stdin.readline\n",
    "N = int(input())\n",
    "heights = []\n",
    "max_n = 0\n",
    "for _ in range(N):\n",
    "    heights.append(list(map(int, input().split())))\n",
    "    max_n = max(max_n, max(heights[-1]))\n",
    "\n",
    "def BOJ_2468(arr, H):\n",
    "    safe_area = 0\n",
    "    for i in range(N):\n",
    "        for j in range(N):\n",
    "            if arr[i][j] > H:\n",
    "                safe_area += 1\n",
    "                arr[i][j] = 0\n",
    "                to_do = [[i,j]]\n",
    "                while to_do:\n",
    "                    x, y = to_do.pop()\n",
    "                    for nx, ny in [[x+1,y], [x-1,y], [x,y+1], [x,y-1]]:\n",
    "                        if 0 <= nx < N and 0 <= ny < N and arr[nx][ny] > H:\n",
    "                            arr[nx][ny] = 0\n",
    "                            to_do.append([nx,ny])\n",
    "    return safe_area\n",
    "\n",
    "answer = 1\n",
    "for h in range(1, max_n): # max_n 일 경우 모두 잠겨있음\n",
    "    arr = copy.deepcopy(heights)\n",
    "    temp = BOJ_2468(arr, h)\n",
    "    if temp >= answer : answer = temp\n",
    "\n",
    "print(answer)"
   ]
  },
  {
   "cell_type": "markdown",
   "metadata": {},
   "source": [
    "# 코드\n",
    "- root를 활용한 신박한 코드"
   ]
  },
  {
   "cell_type": "code",
   "execution_count": 2,
   "metadata": {},
   "outputs": [
    {
     "name": "stdout",
     "output_type": "stream",
     "text": [
      "----------\n",
      "[37]\n",
      "{}\n",
      "{37: 37}\n",
      "----------\n",
      "[9, 36]\n",
      "{37: 37}\n",
      "{37: 36, 9: 9, 36: 36}\n",
      "----------\n",
      "[23, 29, 40]\n",
      "{37: 36, 9: 9, 36: 36}\n",
      "{37: 36, 9: 9, 36: 29, 23: 23, 29: 29, 40: 40}\n",
      "----------\n",
      "[8, 11, 19, 22, 33]\n",
      "{37: 36, 9: 9, 36: 29, 23: 23, 29: 29, 40: 40}\n",
      "{37: 36, 9: 8, 36: 29, 23: 22, 29: 22, 40: 33, 8: 8, 11: 11, 19: 19, 22: 22, 33: 33}\n",
      "----------\n",
      "[31, 38]\n",
      "{37: 36, 9: 8, 36: 29, 23: 22, 29: 22, 40: 33, 8: 8, 11: 11, 19: 19, 22: 22, 33: 33}\n",
      "{37: 22, 9: 8, 36: 22, 23: 22, 29: 22, 40: 33, 8: 8, 11: 11, 19: 19, 22: 31, 33: 33, 31: 31, 38: 31}\n",
      "----------\n",
      "[18]\n",
      "{37: 22, 9: 8, 36: 22, 23: 22, 29: 22, 40: 33, 8: 8, 11: 11, 19: 19, 22: 31, 33: 33, 31: 31, 38: 31}\n",
      "{37: 22, 9: 8, 36: 22, 23: 22, 29: 22, 40: 33, 8: 8, 11: 18, 19: 18, 22: 31, 33: 33, 31: 31, 38: 31, 18: 18}\n",
      "----------\n",
      "[15, 17, 24, 25, 32]\n",
      "{37: 22, 9: 8, 36: 22, 23: 22, 29: 22, 40: 33, 8: 8, 11: 18, 19: 18, 22: 31, 33: 33, 31: 31, 38: 31, 18: 18}\n",
      "{37: 22, 9: 8, 36: 22, 23: 15, 29: 22, 40: 33, 8: 15, 11: 18, 19: 18, 22: 15, 33: 17, 31: 17, 38: 31, 18: 17, 15: 17, 17: 17, 24: 17, 25: 17, 32: 17}\n",
      "5\n"
     ]
    }
   ],
   "source": [
    " # 32224 KB, 140 ms\n",
    "# import sys\n",
    "from collections import defaultdict\n",
    "# input = sys.stdin.readline\n",
    "# root 찾기\n",
    "def find(x):\n",
    "    if root[x] == x: return x\n",
    "    root[x] = root[find(root[x])]\n",
    "    return root[x]\n",
    "    \n",
    "# x2를 x1의 하위집합으로 \n",
    "def union(x1, x2):\n",
    "    root[find(x2)] = find(x1)\n",
    "\n",
    "N = int(input())\n",
    "P = N + 2\n",
    "root = {}\n",
    "dic = defaultdict(list)\n",
    "for i in range(1, N+1):\n",
    "    for j, k in zip(list(map(int, input().split())), range(P*i+1, P*(i+1) - 1)):\n",
    "        dic[j].append(k)\n",
    "\n",
    "heights = sorted(dic, reverse = True)[:-1]\n",
    "cnt = 1 # 물의 높이가 가장 낮은 지점보다 낮은 경우 : 전체 면적이 안전지역 --> 모두 이어져 있으므로 1이 최소값\n",
    "safe_area = [] # 안전지역\n",
    "for h in heights:\n",
    "    print('----------')\n",
    "    print(dic[h])\n",
    "    print(root)\n",
    "    # heights가 내림차순으로 되어있으므로 \n",
    "    # h값(=물의 높이)가 낮아지면서 새롭게 안전영역이 된 부분 확인하기 위함\n",
    "    for i in dic[h]:\n",
    "        root[i] = i\n",
    "\n",
    "    for i in dic[h]:\n",
    "        for j in [i - P, i - 1, i + 1, i + P]:\n",
    "            if j in root: # root 의 키값으로 j가 존재 == h보다 큰 값임\n",
    "                union(i,j)\n",
    "    \n",
    "    # root값 == 해당 구역의 대표값으로 지정\n",
    "    safe_area = [i for i in safe_area if root[i] == i]\n",
    "    for i in dic[h]:\n",
    "        if root[i] == i:\n",
    "            safe_area.append(i)\n",
    "        cnt = max(cnt, len(safe_area))\n",
    "    print(root)\n",
    "print(cnt)"
   ]
  },
  {
   "cell_type": "code",
   "execution_count": null,
   "metadata": {},
   "outputs": [],
   "source": [
    "5\n",
    "6 8 2 6 2\n",
    "3 2 3 4 6\n",
    "6 7 3 3 2\n",
    "7 2 5 3 6\n",
    "8 9 5 2 7"
   ]
  }
 ],
 "metadata": {
  "interpreter": {
   "hash": "9652531e86fbc99dfe7fc5092eb81081a97fad237de3d1fd3b3a0d1c69c61538"
  },
  "kernelspec": {
   "display_name": "Python 3.9.7 64-bit ('ox': conda)",
   "language": "python",
   "name": "python3"
  },
  "language_info": {
   "codemirror_mode": {
    "name": "ipython",
    "version": 3
   },
   "file_extension": ".py",
   "mimetype": "text/x-python",
   "name": "python",
   "nbconvert_exporter": "python",
   "pygments_lexer": "ipython3",
   "version": "3.9.7"
  },
  "orig_nbformat": 4
 },
 "nbformat": 4,
 "nbformat_minor": 2
}
