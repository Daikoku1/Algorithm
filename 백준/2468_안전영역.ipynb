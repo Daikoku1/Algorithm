{
 "cells": [
  {
   "cell_type": "markdown",
   "metadata": {},
   "source": [
    "# 코드\n",
    "- 21.11 풀이"
   ]
  },
  {
   "cell_type": "code",
   "execution_count": null,
   "metadata": {},
   "outputs": [],
   "source": [
    "# 29900\tKB, 1644 ms\n",
    "import sys, copy\n",
    "input = sys.stdin.readline\n",
    "N = int(input())\n",
    "heights = []\n",
    "max_n = 0\n",
    "for _ in range(N):\n",
    "    heights.append(list(map(int, input().split())))\n",
    "    max_n = max(max_n, max(heights[-1]))\n",
    "\n",
    "def BOJ_2468(arr, H):\n",
    "    safe_area = 0\n",
    "    for i in range(N):\n",
    "        for j in range(N):\n",
    "            if arr[i][j] > H:\n",
    "                safe_area += 1\n",
    "                arr[i][j] = 0\n",
    "                to_do = [[i,j]]\n",
    "                while to_do:\n",
    "                    x, y = to_do.pop()\n",
    "                    for nx, ny in [[x+1,y], [x-1,y], [x,y+1], [x,y-1]]:\n",
    "                        if 0 <= nx < N and 0 <= ny < N and arr[nx][ny] > H:\n",
    "                            arr[nx][ny] = 0\n",
    "                            to_do.append([nx,ny])\n",
    "    return safe_area\n",
    "\n",
    "answer = 1\n",
    "for h in range(1, max_n): # max_n 일 경우 모두 잠겨있음\n",
    "    arr = copy.deepcopy(heights)\n",
    "    temp = BOJ_2468(arr, h)\n",
    "    if temp >= answer : answer = temp\n",
    "\n",
    "print(answer)"
   ]
  },
  {
   "cell_type": "markdown",
   "metadata": {},
   "source": [
    "# 코드\n",
    "- root를 활용한 신박한 코드"
   ]
  },
  {
   "cell_type": "code",
   "execution_count": null,
   "metadata": {},
   "outputs": [],
   "source": [
    " "
   ]
  }
 ],
 "metadata": {
  "interpreter": {
   "hash": "9652531e86fbc99dfe7fc5092eb81081a97fad237de3d1fd3b3a0d1c69c61538"
  },
  "kernelspec": {
   "display_name": "Python 3.9.7 64-bit ('ox': conda)",
   "language": "python",
   "name": "python3"
  },
  "language_info": {
   "codemirror_mode": {
    "name": "ipython",
    "version": 3
   },
   "file_extension": ".py",
   "mimetype": "text/x-python",
   "name": "python",
   "nbconvert_exporter": "python",
   "pygments_lexer": "ipython3",
   "version": "3.9.7"
  },
  "orig_nbformat": 4
 },
 "nbformat": 4,
 "nbformat_minor": 2
}
