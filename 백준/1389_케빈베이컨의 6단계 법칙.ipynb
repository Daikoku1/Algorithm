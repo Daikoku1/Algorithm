{
 "cells": [
  {
   "cell_type": "code",
   "execution_count": null,
   "metadata": {},
   "outputs": [],
   "source": [
    "# Time = 88 ms\n",
    "# Memory = 33376 KB\n",
    "import sys, heapq\n",
    "from collections import deque\n",
    "input = sys.stdin.readline\n",
    "# N 유저의 수, M 친구 관계의 수\n",
    "N, M = map(int, input().split())\n",
    "dic = {i : [] for i in range(1, N+1)}\n",
    "for _ in range(M):\n",
    "    x, y = map(int, input().split())\n",
    "    dic[x].append(y)\n",
    "    dic[y].append(x)\n",
    "\n",
    "heap = []\n",
    "for i in range(1, N+1):\n",
    "    to_do = deque([i])\n",
    "    done = [0] * (N+1)\n",
    "    done[i] = 1\n",
    "    answer = 0\n",
    "    cnt = 0\n",
    "    while to_do:\n",
    "        cnt += 1\n",
    "        for _ in range(len(to_do)):\n",
    "            for j in dic[to_do.popleft()]:\n",
    "                if done[j] == 0:\n",
    "                    done[j] = 1\n",
    "                    answer += cnt\n",
    "                    to_do.append(j)\n",
    "    heapq.heappush(heap, [answer, i])\n",
    "print(heap[0][1])"
   ]
  },
  {
   "cell_type": "code",
   "execution_count": null,
   "metadata": {},
   "outputs": [],
   "source": [
    "# Time = 92 ms\n",
    "# Memory = 31784 KB\n",
    "import sys\n",
    "from collections import deque\n",
    "input = sys.stdin.readline\n",
    "# N 유저의 수, M 친구 관계의 수\n",
    "N, M = map(int, input().split())\n",
    "dic = {i : [] for i in range(1, N+1)}\n",
    "for _ in range(M):\n",
    "    x, y = map(int, input().split())\n",
    "    dic[x].append(y)\n",
    "    dic[y].append(x)\n",
    "\n",
    "heap = []\n",
    "for i in range(1, N+1):\n",
    "    to_do = deque([i])\n",
    "    done = [0] * (N+1)\n",
    "    done[i] = 1\n",
    "    answer = 0\n",
    "    cnt = 0\n",
    "    while to_do:\n",
    "        cnt += 1\n",
    "        for _ in range(len(to_do)):\n",
    "            for j in dic[to_do.popleft()]:\n",
    "                if done[j] == 0:\n",
    "                    done[j] = 1\n",
    "                    answer += cnt\n",
    "                    to_do.append(j)\n",
    "    heap.append([answer, i])\n",
    "heap.sort()\n",
    "print(heap[0][1])"
   ]
  }
 ],
 "metadata": {
  "kernelspec": {
   "display_name": "Python 3",
   "language": "python",
   "name": "python3"
  },
  "language_info": {
   "codemirror_mode": {
    "name": "ipython",
    "version": 3
   },
   "file_extension": ".py",
   "mimetype": "text/x-python",
   "name": "python",
   "nbconvert_exporter": "python",
   "pygments_lexer": "ipython3",
   "version": "3.8.3"
  },
  "toc": {
   "base_numbering": 1,
   "nav_menu": {},
   "number_sections": true,
   "sideBar": true,
   "skip_h1_title": false,
   "title_cell": "Table of Contents",
   "title_sidebar": "Contents",
   "toc_cell": false,
   "toc_position": {},
   "toc_section_display": true,
   "toc_window_display": true
  }
 },
 "nbformat": 4,
 "nbformat_minor": 4
}
