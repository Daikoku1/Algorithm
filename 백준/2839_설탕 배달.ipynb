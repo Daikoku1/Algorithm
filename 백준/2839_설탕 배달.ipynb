{
 "cells": [
  {
   "cell_type": "code",
   "execution_count": 11,
   "metadata": {},
   "outputs": [
    {
     "name": "stdout",
     "output_type": "stream",
     "text": [
      "19\n",
      "3 4\n",
      "2 9\n",
      "5\n"
     ]
    }
   ],
   "source": [
    "# Time = 76 ms\n",
    "# Memory = 29088 KB\n",
    "N = int(input())\n",
    "q, r = divmod(N, 5)\n",
    "while q != -1:\n",
    "    if r % 3 == 0:\n",
    "        print(q + r//3)\n",
    "        break\n",
    "    else:\n",
    "        q -= 1\n",
    "        r += 5\n",
    "else:print(-1)"
   ]
  },
  {
   "cell_type": "markdown",
   "metadata": {},
   "source": [
    "# 코드\n",
    "- 21.10 다시 풂"
   ]
  },
  {
   "cell_type": "code",
   "execution_count": null,
   "metadata": {},
   "outputs": [],
   "source": [
    "# 29200 KB, 72 ms\n",
    "N = int(input())\n",
    "q1, r1 = divmod(N, 5)\n",
    "q2, r2 = divmod(r1, 3)\n",
    "\n",
    "if r2 == 0: print(q1 + q2)\n",
    "elif r2 == 1:\n",
    "    if q1 and (r2+5)%3 == 0: print(q1 -1 + q2 + (r2+5)//3)\n",
    "    else: print(-1)\n",
    "elif r2 == 2:\n",
    "    if q1 > 1 and (r2+10)%3 == 0: print(q1 - 2 + q2 + (r2+10)//3)\n",
    "    else: print(-1)"
   ]
  },
  {
   "cell_type": "code",
   "execution_count": null,
   "metadata": {},
   "outputs": [],
   "source": []
  },
  {
   "cell_type": "code",
   "execution_count": 14,
   "metadata": {},
   "outputs": [
    {
     "name": "stdout",
     "output_type": "stream",
     "text": [
      "3\n"
     ]
    }
   ],
   "source": [
    "# 29200\tKB, 68 ms\n",
    "def BOJ_2839(x):\n",
    "    q1, r1 = divmod(x, 5)\n",
    "    q2, r2 = divmod(r1, 3)\n",
    "    if r2 == 0 : return q1 + q2\n",
    "    elif q1 and r2 == 1: return q1 + q2 + 1\n",
    "    elif q1 > 1 and r2 == 2 : return q1 + q2 + 2\n",
    "    return -1\n",
    "\n",
    "N = int(input())\n",
    "print(BOJ_2839(N))"
   ]
  }
 ],
 "metadata": {
  "kernelspec": {
   "display_name": "Python 3",
   "language": "python",
   "name": "python3"
  },
  "language_info": {
   "codemirror_mode": {
    "name": "ipython",
    "version": 3
   },
   "file_extension": ".py",
   "mimetype": "text/x-python",
   "name": "python",
   "nbconvert_exporter": "python",
   "pygments_lexer": "ipython3",
   "version": "3.9.7"
  },
  "toc": {
   "base_numbering": 1,
   "nav_menu": {},
   "number_sections": true,
   "sideBar": true,
   "skip_h1_title": false,
   "title_cell": "Table of Contents",
   "title_sidebar": "Contents",
   "toc_cell": false,
   "toc_position": {},
   "toc_section_display": true,
   "toc_window_display": true
  }
 },
 "nbformat": 4,
 "nbformat_minor": 4
}
