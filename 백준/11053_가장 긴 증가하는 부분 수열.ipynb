{
 "cells": [
  {
   "cell_type": "code",
   "execution_count": null,
   "metadata": {},
   "outputs": [],
   "source": [
    "# Time = 192 ms\n",
    "# Memory = 28776 KB\n",
    "import sys\n",
    "input = sys.stdin.readline\n",
    "T = int(input())\n",
    "arr = list(map(int, input().split()))\n",
    "dp = [1] * T\n",
    "for i, v in enumerate(arr[1:], 1):\n",
    "    for j in range(i):\n",
    "        if arr[j] < v:\n",
    "            dp[i] = max(dp[i], dp[j]+1)\n",
    "print(max(dp))"
   ]
  },
  {
   "cell_type": "code",
   "execution_count": 1,
   "metadata": {},
   "outputs": [
    {
     "name": "stdout",
     "output_type": "stream",
     "text": [
      "6\n",
      "10 20 10 30 20 50\n",
      "4\n"
     ]
    }
   ],
   "source": [
    "# Time = 68 ms\n",
    "# Memory = 28776 KB\n",
    "import sys\n",
    "input = sys.stdin.readline\n",
    "T = int(input())\n",
    "arr = list(map(int,input().split()))\n",
    "dp = [arr[0]]\n",
    "\n",
    "for v in arr[1:]:\n",
    "    if v > dp[-1]:\n",
    "        dp.append(v)\n",
    "    else:\n",
    "        j = len(dp)-1\n",
    "        while j:\n",
    "            if dp[j-1] < v:\n",
    "                break\n",
    "            j -= 1\n",
    "        dp[j] = v\n",
    "print(len(dp))"
   ]
  },
  {
   "cell_type": "code",
   "execution_count": null,
   "metadata": {},
   "outputs": [],
   "source": [
    "# Time = 68 ms\n",
    "# Memory = 28776 KB\n",
    "import sys\n",
    "input = sys.stdin.readline\n",
    "T = int(input())\n",
    "arr = list(map(int,input().split()))\n",
    "dp = [arr[0]]\n",
    "for v in arr[1:]:\n",
    "    if v > dp[-1] : dp.append(v)\n",
    "    else:\n",
    "        idx = len(dp) - 2\n",
    "        while idx >= 0: \n",
    "            if dp[idx] < v : break\n",
    "            idx -= 1\n",
    "        dp[idx] = v\n",
    "print(len(dp))"
   ]
  },
  {
   "cell_type": "code",
   "execution_count": null,
   "metadata": {},
   "outputs": [],
   "source": []
  },
  {
   "cell_type": "markdown",
   "metadata": {},
   "source": [
    "# 코드\n",
    "- 22.01 풀이"
   ]
  },
  {
   "cell_type": "code",
   "execution_count": 2,
   "metadata": {},
   "outputs": [
    {
     "name": "stdout",
     "output_type": "stream",
     "text": [
      "--------\n",
      "20 [10, 20]\n",
      "--------\n",
      "1\n",
      "5 [5, 20]\n",
      "--------\n",
      "30 [5, 20, 30]\n",
      "--------\n",
      "2\n",
      "15 [5, 15, 30]\n",
      "--------\n",
      "50 [5, 15, 30, 50]\n",
      "4\n"
     ]
    }
   ],
   "source": [
    "# 30864\tKB, 72 msdd\n",
    "N = map(int, input().split())\n",
    "arr = list(map(int, input().split()))\n",
    "ans_li = [arr[0]]\n",
    "for x in arr[1:]:\n",
    "    if x > ans_li[-1]: ans_li.append(x)\n",
    "    else:\n",
    "        idx = len(ans_li) - 1\n",
    "        while idx > 0:\n",
    "            if ans_li[idx-1] < x: break    \n",
    "            idx -= 1\n",
    "        \n",
    "        ans_li[idx] = x\n",
    "print(len(ans_li))"
   ]
  }
 ],
 "metadata": {
  "kernelspec": {
   "display_name": "Python 3",
   "language": "python",
   "name": "python3"
  },
  "language_info": {
   "codemirror_mode": {
    "name": "ipython",
    "version": 3
   },
   "file_extension": ".py",
   "mimetype": "text/x-python",
   "name": "python",
   "nbconvert_exporter": "python",
   "pygments_lexer": "ipython3",
   "version": "3.9.7"
  },
  "toc": {
   "base_numbering": 1,
   "nav_menu": {},
   "number_sections": true,
   "sideBar": true,
   "skip_h1_title": false,
   "title_cell": "Table of Contents",
   "title_sidebar": "Contents",
   "toc_cell": false,
   "toc_position": {},
   "toc_section_display": true,
   "toc_window_display": true
  }
 },
 "nbformat": 4,
 "nbformat_minor": 4
}
