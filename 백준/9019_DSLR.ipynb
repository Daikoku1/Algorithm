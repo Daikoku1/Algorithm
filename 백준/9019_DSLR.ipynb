{
 "cells": [
  {
   "cell_type": "code",
   "execution_count": 1,
   "metadata": {},
   "outputs": [
    {
     "name": "stdout",
     "output_type": "stream",
     "text": [
      "3\n",
      "1234 3412\n",
      "LL\n",
      "1000 1\n",
      "L\n",
      "1 16\n",
      "DDDD\n"
     ]
    }
   ],
   "source": [
    "# Time = 6816 ms\n",
    "# Memory = 230180 KB\n",
    "import sys\n",
    "from collections import deque\n",
    "def BOJ_9019(s, e):\n",
    "    dic = [0]*10001\n",
    "    to_do = deque([[s,'']])\n",
    "    while to_do:\n",
    "        now, path = to_do.popleft()\n",
    "        if now == e:return path\n",
    "        d_num = (now*2)%10000\n",
    "        if dic[d_num] == 0:\n",
    "            dic[d_num] = 1\n",
    "            to_do.append([d_num, path + 'D'])\n",
    "\n",
    "        s_num = (now -1)%10000\n",
    "        if dic[s_num] == 0:\n",
    "            dic[s_num] = 1\n",
    "            to_do.append([s_num, path + 'S'])\n",
    "\n",
    "        l_num = now % 1000 * 10 + now // 1000\n",
    "        r_num = now % 10 * 1000 + now // 10\n",
    "        if dic[l_num] == 0:\n",
    "            dic[l_num] = 1\n",
    "            to_do.append([l_num, path + 'L'])\n",
    "        if dic[r_num] == 0:\n",
    "            dic[r_num] = 1\n",
    "            to_do.append([r_num, path + 'R'])\n",
    "\n",
    "input = sys.stdin.readline\n",
    "T = int(input())\n",
    "for _ in range(T):\n",
    "    s, e = map(int, input().split())\n",
    "    print(BOJ_9019(s, e))"
   ]
  },
  {
   "cell_type": "code",
   "execution_count": 5,
   "metadata": {},
   "outputs": [
    {
     "name": "stdout",
     "output_type": "stream",
     "text": [
      "-1 9999\n"
     ]
    }
   ],
   "source": [
    "q, r = divmod(-1, 10000)\n",
    "print(q,r)"
   ]
  },
  {
   "cell_type": "code",
   "execution_count": 6,
   "metadata": {},
   "outputs": [
    {
     "data": {
      "text/plain": [
       "6785"
      ]
     },
     "execution_count": 6,
     "metadata": {},
     "output_type": "execute_result"
    }
   ],
   "source": [
    "a = 5678\n",
    "l_num = int(str(a)[1:] + str(a)[0])\n",
    "l_num"
   ]
  },
  {
   "cell_type": "code",
   "execution_count": null,
   "metadata": {},
   "outputs": [],
   "source": []
  }
 ],
 "metadata": {
  "kernelspec": {
   "display_name": "Python 3",
   "language": "python",
   "name": "python3"
  },
  "language_info": {
   "codemirror_mode": {
    "name": "ipython",
    "version": 3
   },
   "file_extension": ".py",
   "mimetype": "text/x-python",
   "name": "python",
   "nbconvert_exporter": "python",
   "pygments_lexer": "ipython3",
   "version": "3.8.3"
  },
  "toc": {
   "base_numbering": 1,
   "nav_menu": {},
   "number_sections": true,
   "sideBar": true,
   "skip_h1_title": false,
   "title_cell": "Table of Contents",
   "title_sidebar": "Contents",
   "toc_cell": false,
   "toc_position": {},
   "toc_section_display": true,
   "toc_window_display": true
  }
 },
 "nbformat": 4,
 "nbformat_minor": 4
}
