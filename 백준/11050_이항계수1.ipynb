{
 "cells": [
  {
   "cell_type": "code",
   "execution_count": null,
   "metadata": {},
   "outputs": [],
   "source": [
    "# Time = 76 ms\n",
    "# Memory = 29076 KB\n",
    "n, k = map(int, input().split())\n",
    "answer = 1\n",
    "min_k = min(k, n - k)\n",
    "for i in range(min_k):\n",
    "    answer *= (n-i)\n",
    "\n",
    "for j in range(1, min_k+1):\n",
    "    answer //= j\n",
    "print(answer)"
   ]
  },
  {
   "cell_type": "code",
   "execution_count": null,
   "metadata": {},
   "outputs": [],
   "source": [
    "n, k = map(int, input().split())\n",
    "min_k = min(k, n-k)\n",
    "a, b = 1, 1\n",
    "while min_k:\n",
    "    print(answer)\n",
    "    a *= n\n",
    "    n -= 1\n",
    "    \n",
    "    b *= min_k    \n",
    "    min_k -= 1\n",
    "print(a // b)"
   ]
  },
  {
   "cell_type": "code",
   "execution_count": 5,
   "metadata": {},
   "outputs": [],
   "source": [
    "import math\n",
    "def solution(n, k):\n",
    "    return math.factorial(n) // (math.factorial(k) * math.factorial(n-k))"
   ]
  },
  {
   "cell_type": "code",
   "execution_count": 6,
   "metadata": {},
   "outputs": [],
   "source": [
    "def solution2(n, k):\n",
    "    answer = 1\n",
    "    min_k = min(k, n - k)\n",
    "    for i in range(min_k):\n",
    "        answer *= (n-i)\n",
    "\n",
    "    for j in range(1, min_k+1):\n",
    "        answer //= j\n",
    "    return answer"
   ]
  },
  {
   "cell_type": "code",
   "execution_count": 11,
   "metadata": {},
   "outputs": [],
   "source": [
    "def solution3(n, k):\n",
    "    min_k = min(k, n-k)\n",
    "    a, b = 1, 1\n",
    "    while min_k:\n",
    "        a *= n\n",
    "        n -= 1\n",
    "\n",
    "        b *= min_k    \n",
    "        min_k -= 1\n",
    "    return a // b"
   ]
  },
  {
   "cell_type": "code",
   "execution_count": 13,
   "metadata": {},
   "outputs": [
    {
     "name": "stdout",
     "output_type": "stream",
     "text": [
      "5.45 ms ± 27.3 µs per loop (mean ± std. dev. of 7 runs, 100 loops each)\n"
     ]
    }
   ],
   "source": [
    "%timeit solution(10000, 400)"
   ]
  },
  {
   "cell_type": "code",
   "execution_count": 14,
   "metadata": {},
   "outputs": [
    {
     "name": "stdout",
     "output_type": "stream",
     "text": [
      "567 µs ± 3.94 µs per loop (mean ± std. dev. of 7 runs, 1000 loops each)\n"
     ]
    }
   ],
   "source": [
    "%timeit solution2(10000, 400)"
   ]
  },
  {
   "cell_type": "code",
   "execution_count": 15,
   "metadata": {},
   "outputs": [
    {
     "name": "stdout",
     "output_type": "stream",
     "text": [
      "113 µs ± 1.07 µs per loop (mean ± std. dev. of 7 runs, 10000 loops each)\n"
     ]
    }
   ],
   "source": [
    "%timeit solution3(10000, 400)"
   ]
  }
 ],
 "metadata": {
  "kernelspec": {
   "display_name": "Python 3",
   "language": "python",
   "name": "python3"
  },
  "language_info": {
   "codemirror_mode": {
    "name": "ipython",
    "version": 3
   },
   "file_extension": ".py",
   "mimetype": "text/x-python",
   "name": "python",
   "nbconvert_exporter": "python",
   "pygments_lexer": "ipython3",
   "version": "3.8.5"
  },
  "toc": {
   "base_numbering": 1,
   "nav_menu": {},
   "number_sections": true,
   "sideBar": true,
   "skip_h1_title": false,
   "title_cell": "Table of Contents",
   "title_sidebar": "Contents",
   "toc_cell": false,
   "toc_position": {},
   "toc_section_display": true,
   "toc_window_display": true
  }
 },
 "nbformat": 4,
 "nbformat_minor": 4
}
