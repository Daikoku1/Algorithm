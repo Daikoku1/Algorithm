{
 "cells": [
  {
   "cell_type": "code",
   "execution_count": null,
   "metadata": {},
   "outputs": [],
   "source": [
    "# Time = 80 ms\n",
    "# Memory = 29088 KB\n",
    "def BOJ_1966(priorities, location):\n",
    "    oper = sorted(list(set(priorities)), reverse = True)\n",
    "    target, priorities[location] = priorities[location], 0\n",
    "    answer = 0\n",
    "    for o in oper:                              # 가능한 모든 위험도\n",
    "        if o == target:\n",
    "            break\n",
    "        pop_list = []                       # 삭제할 인덱스 설정\n",
    "        for i, v in enumerate(priorities):\n",
    "            if v == o:\n",
    "                pop_list.append(i)\n",
    "        cnt = 0                             # 삭제 개수\n",
    "        for i in pop_list[::-1]:            # 인덱스 편의성을 위해 거꾸로 입력\n",
    "            priorities.pop(i)\n",
    "            cnt += 1\n",
    "        r_idx = pop_list[-1] - cnt + 1      # 가장 마지막 값의 +1을 새로운 리스트의 시작 점으로 설정\n",
    "        if r_idx != len(priorities):                # 해당하는 마지막 값이 리스트의 마지막 값인 경우 리스트 유지\n",
    "            priorities = priorities[r_idx:] + priorities[:r_idx]\n",
    "        answer += cnt\n",
    "    for i in priorities:\n",
    "        if i == target:\n",
    "            answer += 1\n",
    "        elif i == 0:\n",
    "            return answer +1\n",
    "\n",
    "import sys\n",
    "K = int(input())\n",
    "for _ in range(K):\n",
    "    n, m = map(int, input().split())\n",
    "    li = list(map(int, input().split()))\n",
    "    print(BOJ_1966(li, m))"
   ]
  }
 ],
 "metadata": {
  "kernelspec": {
   "display_name": "Python 3",
   "language": "python",
   "name": "python3"
  },
  "language_info": {
   "codemirror_mode": {
    "name": "ipython",
    "version": 3
   },
   "file_extension": ".py",
   "mimetype": "text/x-python",
   "name": "python",
   "nbconvert_exporter": "python",
   "pygments_lexer": "ipython3",
   "version": "3.8.3"
  },
  "toc": {
   "base_numbering": 1,
   "nav_menu": {},
   "number_sections": true,
   "sideBar": true,
   "skip_h1_title": false,
   "title_cell": "Table of Contents",
   "title_sidebar": "Contents",
   "toc_cell": false,
   "toc_position": {},
   "toc_section_display": true,
   "toc_window_display": true
  }
 },
 "nbformat": 4,
 "nbformat_minor": 4
}
