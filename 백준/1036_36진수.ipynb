{
 "cells": [
  {
   "cell_type": "code",
   "execution_count": 6,
   "metadata": {},
   "outputs": [
    {
     "name": "stdout",
     "output_type": "stream",
     "text": [
      "5\n",
      "GOOD\n",
      "LUCK\n",
      "AND\n",
      "HAVE\n",
      "FUN\n",
      "[['G', 'H', 'L'], ['A', 'F', 'O', 'U'], ['C', 'N', 'O', 'U', 'V'], ['D', 'E', 'K', 'N']]\n",
      "7\n",
      "G\n",
      "H\n",
      "L\n",
      "A\n",
      "F\n",
      "O\n",
      "U\n",
      "31YUB\n"
     ]
    }
   ],
   "source": [
    "from collections import defaultdict\n",
    "T = int(input())\n",
    "numbers = '0123456789ABCDEFGHIJKLMNOPQRSTUVWXYZ'\n",
    "dic = defaultdict(set)\n",
    "s_list = []\n",
    "for _ in range(T):\n",
    "    s = input().strip()[::-1]\n",
    "    s_list.append(s)\n",
    "    for idx, val in enumerate(s):\n",
    "        dic[idx].add(val)\n",
    "arr = [sorted(v) for k, v in sorted(dic.items(), reverse = True)]\n",
    "print(arr)\n",
    "c_list = {i : 0 for i in numbers}\n",
    "c_list['Z'] = 1\n",
    "K = int(input())\n",
    "for x in sum(arr, []):\n",
    "    if K == 0:break\n",
    "    if c_list[x] == 0:\n",
    "        print(x)\n",
    "        c_list[x] = 1\n",
    "        K -=1\n",
    "\n",
    "ans = 0\n",
    "for s in s_list:\n",
    "    for idx, c in enumerate(s):\n",
    "        if c_list[c] == 1:num = 35\n",
    "        elif c.isdigit():num = int(c)            \n",
    "        else:num = 10+ ord(c) - ord('A')\n",
    "        \n",
    "        ans += num*(36**idx)\n",
    "\n",
    "result = []\n",
    "while ans >= 36:\n",
    "    ans, r = divmod(ans, 36)\n",
    "    result.append(numbers[r])\n",
    "result.append(numbers[ans])\n",
    "\n",
    "print(''.join(result[::-1]))"
   ]
  },
  {
   "cell_type": "code",
   "execution_count": 4,
   "metadata": {},
   "outputs": [
    {
     "name": "stdout",
     "output_type": "stream",
     "text": [
      "10\n"
     ]
    }
   ],
   "source": [
    "ans = 36\n",
    "result = []\n",
    "while ans >= 36:\n",
    "    ans, r = divmod(ans, 36)\n",
    "    result.append(numbers[r])\n",
    "result.append(numbers[ans])\n",
    "print(''.join(result[::-1]))"
   ]
  },
  {
   "cell_type": "code",
   "execution_count": null,
   "metadata": {},
   "outputs": [],
   "source": [
    "5\n",
    "GOOD\n",
    "LUCK\n",
    "AND\n",
    "HAVE\n",
    "FUN\n",
    "7"
   ]
  },
  {
   "cell_type": "code",
   "execution_count": null,
   "metadata": {},
   "outputs": [],
   "source": [
    "ord('Z') - ord('A') + 11"
   ]
  },
  {
   "cell_type": "code",
   "execution_count": null,
   "metadata": {},
   "outputs": [],
   "source": [
    "g, l, h, \n",
    "a, f, o, u"
   ]
  },
  {
   "cell_type": "code",
   "execution_count": null,
   "metadata": {},
   "outputs": [],
   "source": [
    "c_list"
   ]
  },
  {
   "cell_type": "code",
   "execution_count": null,
   "metadata": {},
   "outputs": [],
   "source": []
  },
  {
   "cell_type": "code",
   "execution_count": null,
   "metadata": {},
   "outputs": [],
   "source": [
    "a = 5130659"
   ]
  },
  {
   "cell_type": "code",
   "execution_count": null,
   "metadata": {},
   "outputs": [],
   "source": [
    "\n"
   ]
  },
  {
   "cell_type": "code",
   "execution_count": null,
   "metadata": {},
   "outputs": [],
   "source": [
    "31YUB"
   ]
  },
  {
   "cell_type": "code",
   "execution_count": null,
   "metadata": {},
   "outputs": [],
   "source": [
    "sum([sorted(v) for k, v in sorted(dic.items(), reverse = True)], [])"
   ]
  },
  {
   "cell_type": "code",
   "execution_count": null,
   "metadata": {},
   "outputs": [],
   "source": []
  }
 ],
 "metadata": {
  "kernelspec": {
   "display_name": "Python 3",
   "language": "python",
   "name": "python3"
  },
  "language_info": {
   "codemirror_mode": {
    "name": "ipython",
    "version": 3
   },
   "file_extension": ".py",
   "mimetype": "text/x-python",
   "name": "python",
   "nbconvert_exporter": "python",
   "pygments_lexer": "ipython3",
   "version": "3.8.3"
  },
  "toc": {
   "base_numbering": 1,
   "nav_menu": {},
   "number_sections": true,
   "sideBar": true,
   "skip_h1_title": false,
   "title_cell": "Table of Contents",
   "title_sidebar": "Contents",
   "toc_cell": false,
   "toc_position": {},
   "toc_section_display": true,
   "toc_window_display": true
  }
 },
 "nbformat": 4,
 "nbformat_minor": 4
}
