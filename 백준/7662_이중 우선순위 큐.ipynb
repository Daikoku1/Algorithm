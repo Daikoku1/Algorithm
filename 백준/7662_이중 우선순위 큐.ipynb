{
 "cells": [
  {
   "cell_type": "markdown",
   "metadata": {},
   "source": [
    "# 실패\n",
    "- 시간초과"
   ]
  },
  {
   "cell_type": "code",
   "execution_count": 1,
   "metadata": {},
   "outputs": [
    {
     "ename": "TypeError",
     "evalue": "int() argument must be a string, a bytes-like object or a number, not 'builtin_function_or_method'",
     "output_type": "error",
     "traceback": [
      "\u001b[0;31m---------------------------------------------------------------------------\u001b[0m",
      "\u001b[0;31mTypeError\u001b[0m                                 Traceback (most recent call last)",
      "\u001b[0;32m<ipython-input-1-b5d68c790df0>\u001b[0m in \u001b[0;36m<module>\u001b[0;34m\u001b[0m\n\u001b[1;32m      3\u001b[0m \u001b[0;32mimport\u001b[0m \u001b[0msys\u001b[0m\u001b[0;34m\u001b[0m\u001b[0;34m\u001b[0m\u001b[0m\n\u001b[1;32m      4\u001b[0m \u001b[0minput\u001b[0m \u001b[0;34m=\u001b[0m \u001b[0msys\u001b[0m\u001b[0;34m.\u001b[0m\u001b[0mstdin\u001b[0m\u001b[0;34m.\u001b[0m\u001b[0mreadline\u001b[0m\u001b[0;34m\u001b[0m\u001b[0;34m\u001b[0m\u001b[0m\n\u001b[0;32m----> 5\u001b[0;31m \u001b[0mN\u001b[0m \u001b[0;34m=\u001b[0m \u001b[0mint\u001b[0m\u001b[0;34m(\u001b[0m\u001b[0minput\u001b[0m\u001b[0;34m)\u001b[0m\u001b[0;34m\u001b[0m\u001b[0;34m\u001b[0m\u001b[0m\n\u001b[0m\u001b[1;32m      6\u001b[0m \u001b[0;32mfor\u001b[0m \u001b[0m_\u001b[0m \u001b[0;32min\u001b[0m \u001b[0mrange\u001b[0m\u001b[0;34m(\u001b[0m\u001b[0mN\u001b[0m\u001b[0;34m)\u001b[0m\u001b[0;34m:\u001b[0m\u001b[0;34m\u001b[0m\u001b[0;34m\u001b[0m\u001b[0m\n\u001b[1;32m      7\u001b[0m     \u001b[0mdq\u001b[0m \u001b[0;34m=\u001b[0m \u001b[0;34m[\u001b[0m\u001b[0;34m]\u001b[0m\u001b[0;34m\u001b[0m\u001b[0;34m\u001b[0m\u001b[0m\n",
      "\u001b[0;31mTypeError\u001b[0m: int() argument must be a string, a bytes-like object or a number, not 'builtin_function_or_method'"
     ]
    }
   ],
   "source": [
    "from bisect import insort # dq에 숫자를 입력할 때 정렬하기 위함\n",
    "from collections import deque\n",
    "import sys\n",
    "input = sys.stdin.readline\n",
    "N = int(input())\n",
    "for _ in range(N):\n",
    "    k = int(input())\n",
    "    dq = deque([])\n",
    "    for _ in range(k):\n",
    "        order, num = input().split()\n",
    "        num = int(num)\n",
    "        if order == 'I' : insort(dq, num)\n",
    "        elif dq:\n",
    "            if num < 0 : dq.popleft()\n",
    "            else : dq.pop()\n",
    "    if dq : print(dq[-1], dq[0])\n",
    "    else: print('EMPTY')"
   ]
  },
  {
   "cell_type": "code",
   "execution_count": null,
   "metadata": {},
   "outputs": [],
   "source": []
  },
  {
   "cell_type": "markdown",
   "metadata": {},
   "source": [
    "# 코드\n",
    "- 21.12 풀이"
   ]
  },
  {
   "cell_type": "code",
   "execution_count": null,
   "metadata": {},
   "outputs": [],
   "source": [
    "# 364828 KB, 3720 ms (pypy3)\n",
    "import sys, heapq\n",
    "input = sys.stdin.readline\n",
    "T = int(input())\n",
    "for _ in range(T):\n",
    "    N = int(input())\n",
    "    visited=[False] * N\n",
    "    minH, maxH = [], []\n",
    "    for i in range(N):\n",
    "        order, num = input().split()\n",
    "        num = int(num)\n",
    "        if order == 'I':\n",
    "            heapq.heappush(minH,(num, i))\n",
    "            heapq.heappush(maxH,(-num, i))\n",
    "            visited[i]=True\n",
    "        elif num == 1:\n",
    "            while maxH and not visited[maxH[0][1]] : heapq.heappop(maxH)\n",
    "            if maxH:\n",
    "                visited[maxH[0][1]] = False\n",
    "                heapq.heappop(maxH)\n",
    "        else:\n",
    "            while minH and not visited[minH[0][1]] : heapq.heappop(minH)\n",
    "            if minH:\n",
    "                visited[minH[0][1]] = False\n",
    "                heapq.heappop(minH)\n",
    "\n",
    "    while minH and not visited[minH[0][1]] : heapq.heappop(minH)\n",
    "    while maxH and not visited[maxH[0][1]] : heapq.heappop(maxH)\n",
    "\n",
    "    if maxH and minH : print(-maxH[0][0], minH[0][0])\n",
    "    else: print('EMPTY')"
   ]
  },
  {
   "cell_type": "code",
   "execution_count": 6,
   "metadata": {},
   "outputs": [
    {
     "name": "stdout",
     "output_type": "stream",
     "text": [
      "=================\n",
      "defaultdict(<class 'int'>, {16: 1})\n",
      "[16] [-16]\n",
      "=================\n",
      "defaultdict(<class 'int'>, {16: 1, -5643: 1})\n",
      "[-5643, 16] [-16, 5643]\n",
      "=================\n",
      "defaultdict(<class 'int'>, {16: 1, -5643: 0})\n",
      "[16] [-16, 5643]\n",
      "=================\n",
      "defaultdict(<class 'int'>, {16: 0, -5643: 0})\n",
      "[16] [5643]\n",
      "=================\n",
      "defaultdict(<class 'int'>, {16: 0, -5643: 0})\n",
      "[16] []\n",
      "=================\n",
      "defaultdict(<class 'int'>, {16: 0, -5643: 0, 123: 1})\n",
      "[16, 123] [-123]\n",
      "=================\n",
      "defaultdict(<class 'int'>, {16: 0, -5643: 0, 123: 0})\n",
      "[] [-123]\n",
      "[] []\n",
      "EMPTY\n",
      "=================\n",
      "defaultdict(<class 'int'>, {-45: 1})\n",
      "[-45] [45]\n",
      "=================\n",
      "defaultdict(<class 'int'>, {-45: 1, 653: 1})\n",
      "[-45, 653] [-653, 45]\n",
      "=================\n",
      "defaultdict(<class 'int'>, {-45: 1, 653: 0})\n",
      "[-45, 653] [45]\n",
      "=================\n",
      "defaultdict(<class 'int'>, {-45: 1, 653: 0, -642: 1})\n",
      "[-642, 653, -45] [45, 642]\n",
      "=================\n",
      "defaultdict(<class 'int'>, {-45: 1, 653: 0, -642: 1, 45: 1})\n",
      "[-642, 45, -45, 653] [-45, 642, 45]\n",
      "=================\n",
      "defaultdict(<class 'int'>, {-45: 1, 653: 0, -642: 1, 45: 1, 97: 1})\n",
      "[-642, 45, -45, 653, 97] [-97, -45, 45, 642]\n",
      "=================\n",
      "defaultdict(<class 'int'>, {-45: 1, 653: 0, -642: 1, 45: 1, 97: 0})\n",
      "[-642, 45, -45, 653, 97] [-45, 642, 45]\n",
      "=================\n",
      "defaultdict(<class 'int'>, {-45: 1, 653: 0, -642: 0, 45: 1, 97: 0})\n",
      "[-45, 45, 97, 653] [-45, 642, 45]\n",
      "=================\n",
      "defaultdict(<class 'int'>, {-45: 1, 653: 0, -642: 0, 45: 1, 97: 0, 333: 1})\n",
      "[-45, 45, 97, 653, 333] [-333, -45, 45, 642]\n",
      "[-45, 45, 97, 653, 333] [-45, 642, 45]\n",
      "45 -45\n"
     ]
    }
   ],
   "source": [
    "# 179720 KB, 5880 ms\n",
    "import sys, heapq\n",
    "from collections import defaultdict\n",
    "# input = sys.stdin.readline\n",
    "T = int(input())\n",
    "for _ in range(T):\n",
    "    N = int(input())\n",
    "    dic = defaultdict(int)\n",
    "    minH, maxH = [], []\n",
    "    for _ in range(N):\n",
    "        order, num = input().split()\n",
    "        num = int(num)\n",
    "        if order == 'I':\n",
    "            heapq.heappush(minH, num)\n",
    "            heapq.heappush(maxH, -num)\n",
    "            dic[num] += 1\n",
    "        elif num == 1:\n",
    "            while maxH and dic[-maxH[0]] == 0:\n",
    "                heapq.heappop(maxH)\n",
    "            if maxH:\n",
    "                dic[-maxH[0]] -= 1\n",
    "                heapq.heappop(maxH)\n",
    "        else:\n",
    "            while minH and dic[minH[0]] == 0:\n",
    "                heapq.heappop(minH)\n",
    "            if minH:\n",
    "                dic[minH[0]] -= 1\n",
    "                heapq.heappop(minH)\n",
    "\n",
    "        print('=================')\n",
    "        print(dic)\n",
    "        print(minH, maxH)\n",
    "    while minH and dic[minH[0]] == 0 : heapq.heappop(minH)\n",
    "    while maxH and dic[-maxH[0]] == 0 : heapq.heappop(maxH)\n",
    "    print(minH, maxH)\n",
    "    if maxH and minH : print(-maxH[0], minH[0])\n",
    "    else: print('EMPTY')"
   ]
  }
 ],
 "metadata": {
  "kernelspec": {
   "display_name": "Python 3",
   "language": "python",
   "name": "python3"
  },
  "language_info": {
   "codemirror_mode": {
    "name": "ipython",
    "version": 3
   },
   "file_extension": ".py",
   "mimetype": "text/x-python",
   "name": "python",
   "nbconvert_exporter": "python",
   "pygments_lexer": "ipython3",
   "version": "3.9.7"
  },
  "toc": {
   "base_numbering": 1,
   "nav_menu": {},
   "number_sections": true,
   "sideBar": true,
   "skip_h1_title": false,
   "title_cell": "Table of Contents",
   "title_sidebar": "Contents",
   "toc_cell": false,
   "toc_position": {},
   "toc_section_display": true,
   "toc_window_display": true
  }
 },
 "nbformat": 4,
 "nbformat_minor": 4
}
