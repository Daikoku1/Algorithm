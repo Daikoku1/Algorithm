{
 "cells": [
  {
   "cell_type": "markdown",
   "metadata": {},
   "source": [
    "# 실패\n",
    "- 둘다 시간초과"
   ]
  },
  {
   "cell_type": "code",
   "execution_count": 1,
   "metadata": {},
   "outputs": [
    {
     "ename": "TypeError",
     "evalue": "int() argument must be a string, a bytes-like object or a number, not 'builtin_function_or_method'",
     "output_type": "error",
     "traceback": [
      "\u001b[0;31m---------------------------------------------------------------------------\u001b[0m",
      "\u001b[0;31mTypeError\u001b[0m                                 Traceback (most recent call last)",
      "\u001b[0;32m<ipython-input-1-b5d68c790df0>\u001b[0m in \u001b[0;36m<module>\u001b[0;34m\u001b[0m\n\u001b[1;32m      3\u001b[0m \u001b[0;32mimport\u001b[0m \u001b[0msys\u001b[0m\u001b[0;34m\u001b[0m\u001b[0;34m\u001b[0m\u001b[0m\n\u001b[1;32m      4\u001b[0m \u001b[0minput\u001b[0m \u001b[0;34m=\u001b[0m \u001b[0msys\u001b[0m\u001b[0;34m.\u001b[0m\u001b[0mstdin\u001b[0m\u001b[0;34m.\u001b[0m\u001b[0mreadline\u001b[0m\u001b[0;34m\u001b[0m\u001b[0;34m\u001b[0m\u001b[0m\n\u001b[0;32m----> 5\u001b[0;31m \u001b[0mN\u001b[0m \u001b[0;34m=\u001b[0m \u001b[0mint\u001b[0m\u001b[0;34m(\u001b[0m\u001b[0minput\u001b[0m\u001b[0;34m)\u001b[0m\u001b[0;34m\u001b[0m\u001b[0;34m\u001b[0m\u001b[0m\n\u001b[0m\u001b[1;32m      6\u001b[0m \u001b[0;32mfor\u001b[0m \u001b[0m_\u001b[0m \u001b[0;32min\u001b[0m \u001b[0mrange\u001b[0m\u001b[0;34m(\u001b[0m\u001b[0mN\u001b[0m\u001b[0;34m)\u001b[0m\u001b[0;34m:\u001b[0m\u001b[0;34m\u001b[0m\u001b[0;34m\u001b[0m\u001b[0m\n\u001b[1;32m      7\u001b[0m     \u001b[0mdq\u001b[0m \u001b[0;34m=\u001b[0m \u001b[0;34m[\u001b[0m\u001b[0;34m]\u001b[0m\u001b[0;34m\u001b[0m\u001b[0;34m\u001b[0m\u001b[0m\n",
      "\u001b[0;31mTypeError\u001b[0m: int() argument must be a string, a bytes-like object or a number, not 'builtin_function_or_method'"
     ]
    }
   ],
   "source": [
    "from bisect import insort # dq에 숫자를 입력할 때 정렬하기 위함\n",
    "from collections import deque\n",
    "import sys\n",
    "input = sys.stdin.readline\n",
    "N = int(input())\n",
    "for _ in range(N):\n",
    "    k = int(input())\n",
    "    dq = deque([])\n",
    "    for _ in range(k):\n",
    "        order, num = input().split()\n",
    "        num = int(num)\n",
    "        if order == 'I' : insort(dq, num)\n",
    "        elif dq:\n",
    "            if num < 0 : dq.popleft()\n",
    "            else : dq.pop()\n",
    "    if dq : print(dq[-1], dq[0])\n",
    "    else: print('EMPTY')"
   ]
  },
  {
   "cell_type": "code",
   "execution_count": null,
   "metadata": {},
   "outputs": [],
   "source": [
    "import sys, heapq\n",
    "input = sys.stdin.readline\n",
    "N = int(input())\n",
    "for _ in range(N):\n",
    "    K = int(input())\n",
    "    max_h = []\n",
    "    min_h = []\n",
    "    for _ in range(K):\n",
    "        order, num = input().split()\n",
    "        num = int(num)\n",
    "        if order == 'I':\n",
    "            heapq.heappush(max_h, -num)\n",
    "            heapq.heappush(min_h, num)\n",
    "        elif max_h:\n",
    "            if num < 0:\n",
    "                max_h.remove(-heapq.heappop(min_h))\n",
    "            else:\n",
    "                min_h.remove(-heapq.heappop(max_h))\n",
    "\n",
    "    if max_h:print(-heapq.heappop(max_h), heapq.heappop(min_h))\n",
    "    else:print('EMPTY')"
   ]
  },
  {
   "cell_type": "code",
   "execution_count": null,
   "metadata": {},
   "outputs": [],
   "source": []
  },
  {
   "cell_type": "markdown",
   "metadata": {},
   "source": [
    "# 성공"
   ]
  },
  {
   "cell_type": "code",
   "execution_count": null,
   "metadata": {},
   "outputs": [],
   "source": [
    "# Time = 4436 ms\n",
    "# Memory = 33916 KB\n",
    "import bisect, sys\n",
    "from collections import deque\n",
    "input = sys.stdin.readline\n",
    "N = int(input())\n",
    "for _ in range(N):\n",
    "    K = int(input())\n",
    "    dq = deque()\n",
    "    dic = dict()  # 같은 값이 존재할 수 있기에 hash로 구현된 dict 생성\n",
    "    for _ in range(K):\n",
    "        order, num = input().split()\n",
    "        num = int(num)\n",
    "        if order == 'I':\n",
    "            try:\n",
    "                dic[num] += 1\n",
    "            except:\n",
    "                dic[num] = 1\n",
    "                bisect.insort_left(dq, num)\n",
    "        else:\n",
    "            if not dq:\n",
    "                continue\n",
    "            if num < 0:\n",
    "                if dic[dq[0]] == 1:\n",
    "                    dic.pop(dq.popleft())\n",
    "                else:\n",
    "                    dic[dq[0]] -= 1\n",
    "            else:\n",
    "                if dic[dq[-1]] == 1:\n",
    "                    dic.pop(dq.pop())\n",
    "                else:\n",
    "                    dic[dq[-1]] -= 1\n",
    "    if dq : print(dq[-1], dq[0])\n",
    "    else : print(\"EMPTY\")"
   ]
  },
  {
   "cell_type": "code",
   "execution_count": 2,
   "metadata": {},
   "outputs": [
    {
     "ename": "ValueError",
     "evalue": "invalid literal for int() with base 10: ''",
     "output_type": "error",
     "traceback": [
      "\u001b[0;31m---------------------------------------------------------------------------\u001b[0m",
      "\u001b[0;31mValueError\u001b[0m                                Traceback (most recent call last)",
      "\u001b[0;32m<ipython-input-2-9ac5e899f8b6>\u001b[0m in \u001b[0;36m<module>\u001b[0;34m\u001b[0m\n\u001b[1;32m      1\u001b[0m \u001b[0;32mimport\u001b[0m \u001b[0msys\u001b[0m\u001b[0;34m\u001b[0m\u001b[0;34m\u001b[0m\u001b[0m\n\u001b[1;32m      2\u001b[0m \u001b[0minput\u001b[0m \u001b[0;34m=\u001b[0m \u001b[0msys\u001b[0m\u001b[0;34m.\u001b[0m\u001b[0mstdin\u001b[0m\u001b[0;34m.\u001b[0m\u001b[0mreadline\u001b[0m\u001b[0;34m\u001b[0m\u001b[0;34m\u001b[0m\u001b[0m\n\u001b[0;32m----> 3\u001b[0;31m \u001b[0mN\u001b[0m \u001b[0;34m=\u001b[0m \u001b[0mint\u001b[0m\u001b[0;34m(\u001b[0m\u001b[0minput\u001b[0m\u001b[0;34m(\u001b[0m\u001b[0;34m)\u001b[0m\u001b[0;34m)\u001b[0m\u001b[0;34m\u001b[0m\u001b[0;34m\u001b[0m\u001b[0m\n\u001b[0m\u001b[1;32m      4\u001b[0m \u001b[0;32mfor\u001b[0m \u001b[0m_\u001b[0m \u001b[0;32min\u001b[0m \u001b[0mrange\u001b[0m\u001b[0;34m(\u001b[0m\u001b[0mN\u001b[0m\u001b[0;34m)\u001b[0m\u001b[0;34m:\u001b[0m\u001b[0;34m\u001b[0m\u001b[0;34m\u001b[0m\u001b[0m\n\u001b[1;32m      5\u001b[0m     \u001b[0mK\u001b[0m \u001b[0;34m=\u001b[0m \u001b[0mint\u001b[0m\u001b[0;34m(\u001b[0m\u001b[0minput\u001b[0m\u001b[0;34m(\u001b[0m\u001b[0;34m)\u001b[0m\u001b[0;34m)\u001b[0m\u001b[0;34m\u001b[0m\u001b[0;34m\u001b[0m\u001b[0m\n",
      "\u001b[0;31mValueError\u001b[0m: invalid literal for int() with base 10: ''"
     ]
    }
   ],
   "source": [
    "import sys, heapq\n",
    "input = sys.stdin.readline\n",
    "N = int(input())\n",
    "for _ in range(N):\n",
    "    K = int(input())\n",
    "    dic = {i:True for i in range(K)}\n",
    "    max_h = []\n",
    "    min_h = []\n",
    "    for i in range(K):\n",
    "        order, num = input().split()\n",
    "        num = int(num)\n",
    "        if order == 'I':\n",
    "            heapq.heappush(max_h, [-num, i])\n",
    "            heapq.heappush(min_h, [num, i])\n",
    "        elif max_h and min_h:\n",
    "            if num < 0:\n",
    "                _ , idx = heapq.heappop(min_h)\n",
    "                dic[idx] = False\n",
    "            else:\n",
    "                _ , idx = heapq.heappop(max_h)\n",
    "                dic[idx] = False\n",
    "    answer = []\n",
    "    while max_h:\n",
    "        x, y = heapq.heappop(max_h)\n",
    "        if dic[y] == True:\n",
    "            answer.append(-x)\n",
    "            break\n",
    "    while min_h:\n",
    "        x, y = heapq.heappop(min_h)\n",
    "        if dic[y] == True:\n",
    "            answer.append(x)\n",
    "            break\n",
    "    if len(answer) == 2:print(*answer)\n",
    "    else : print('EMPTY')"
   ]
  },
  {
   "cell_type": "code",
   "execution_count": null,
   "metadata": {},
   "outputs": [],
   "source": []
  }
 ],
 "metadata": {
  "kernelspec": {
   "display_name": "Python 3",
   "language": "python",
   "name": "python3"
  },
  "language_info": {
   "codemirror_mode": {
    "name": "ipython",
    "version": 3
   },
   "file_extension": ".py",
   "mimetype": "text/x-python",
   "name": "python",
   "nbconvert_exporter": "python",
   "pygments_lexer": "ipython3",
   "version": "3.8.5"
  },
  "toc": {
   "base_numbering": 1,
   "nav_menu": {},
   "number_sections": true,
   "sideBar": true,
   "skip_h1_title": false,
   "title_cell": "Table of Contents",
   "title_sidebar": "Contents",
   "toc_cell": false,
   "toc_position": {},
   "toc_section_display": true,
   "toc_window_display": true
  }
 },
 "nbformat": 4,
 "nbformat_minor": 4
}
