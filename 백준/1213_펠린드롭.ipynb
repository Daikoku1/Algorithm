{
 "cells": [
  {
   "cell_type": "code",
   "execution_count": 18,
   "metadata": {},
   "outputs": [
    {
     "name": "stdout",
     "output_type": "stream",
     "text": [
      "['A', 'B', 'A', 'B', 'A']\n",
      "ABABA\n"
     ]
    }
   ],
   "source": [
    "# 29200 KB, 72 ms\n",
    "def BOJ_1213(s):\n",
    "    dic = {chr(n) : 0 for n in range(65, 91)}\n",
    "    for c in s : dic[c] += 1\n",
    "    \n",
    "    if len(s) % 2: cnt = 1\n",
    "    else: cnt = 1\n",
    "\n",
    "    ans = ['' for _ in range(len(s))]\n",
    "    left, right = 0, len(s)-1\n",
    "    for char, v in dic.items():\n",
    "        q, r = divmod(v, 2)\n",
    "        for i in range(q):\n",
    "            ans[left+i] = char\n",
    "            ans[right-i] = char\n",
    "        left, right = left + q, right - q\n",
    "\n",
    "        if r :\n",
    "            ans[len(s)//2] = char\n",
    "            cnt -= 1\n",
    "        if cnt < 0 : return \"I'm Sorry Hansoo\"\n",
    "\n",
    "    return ans\n",
    "    \n",
    "s = input().strip()\n",
    "print(''.join(BOJ_1213(s)))"
   ]
  },
  {
   "cell_type": "code",
   "execution_count": null,
   "metadata": {},
   "outputs": [],
   "source": []
  }
 ],
 "metadata": {
  "interpreter": {
   "hash": "9652531e86fbc99dfe7fc5092eb81081a97fad237de3d1fd3b3a0d1c69c61538"
  },
  "kernelspec": {
   "display_name": "Python 3.9.7 64-bit ('ox': conda)",
   "name": "python3"
  },
  "language_info": {
   "codemirror_mode": {
    "name": "ipython",
    "version": 3
   },
   "file_extension": ".py",
   "mimetype": "text/x-python",
   "name": "python",
   "nbconvert_exporter": "python",
   "pygments_lexer": "ipython3",
   "version": "3.9.7"
  },
  "orig_nbformat": 4
 },
 "nbformat": 4,
 "nbformat_minor": 2
}
