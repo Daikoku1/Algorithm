{
 "cells": [
  {
   "cell_type": "markdown",
   "metadata": {},
   "source": [
    "# 코드\n",
    "- 문제는 해결했는데, 너무 느림.. "
   ]
  },
  {
   "cell_type": "code",
   "execution_count": 23,
   "metadata": {},
   "outputs": [
    {
     "name": "stdout",
     "output_type": "stream",
     "text": [
      "1 2 4 3\n",
      "1 2 3 4\n"
     ]
    }
   ],
   "source": [
    "# 32444 KB, 516 ms\n",
    "from collections import deque\n",
    "def DFS(n, v, dic):\n",
    "    visited = [1] * (n+1)\n",
    "    to_do = [v]\n",
    "    ans = []\n",
    "    while to_do:\n",
    "        x = to_do.pop()\n",
    "        if visited[x]:\n",
    "            visited[x] = 0\n",
    "            ans.append(x)\n",
    "            to_do.extend(sorted(dic[x], reverse = True))\n",
    "    return ans\n",
    "\n",
    "def BFS(n, v, dic):\n",
    "    visited = [1] * (n+1)\n",
    "    to_do = deque([v])\n",
    "    ans = []\n",
    "    while to_do:\n",
    "        x = to_do.popleft()\n",
    "        if visited[x]:\n",
    "            visited[x] = 0\n",
    "            ans.append(x)\n",
    "            to_do.extend(sorted(dic[x]))\n",
    "    return ans\n",
    "\n",
    "n, m, v = map(int, input().split())\n",
    "dic = {i : [] for i in range(1, n+1)}\n",
    "for _ in range(m):\n",
    "    a, b = map(int, input().split())\n",
    "    dic[a].append(b)\n",
    "    dic[b].append(a)\n",
    "\n",
    "print(*DFS(n, v, dic))\n",
    "print(*BFS(n, v, dic))"
   ]
  },
  {
   "cell_type": "markdown",
   "metadata": {},
   "source": [
    "# 코드\n",
    "- 속도의 비밀 == sys.stdin.readline"
   ]
  },
  {
   "cell_type": "code",
   "execution_count": 26,
   "metadata": {},
   "outputs": [
    {
     "name": "stdout",
     "output_type": "stream",
     "text": [
      "1 2 4 3\n",
      "1 2 3 4\n"
     ]
    }
   ],
   "source": [
    "# 32664 KB, 104 ms\n",
    "import sys\n",
    "from collections import deque\n",
    "input = sys.stdin.readline\n",
    "def DFS(n, v, dic):\n",
    "    visited = [1] * (n+1)\n",
    "    to_do = [v]\n",
    "    ans = []\n",
    "    while to_do:\n",
    "        x = to_do.pop()\n",
    "        if visited[x]:\n",
    "            visited[x] = 0\n",
    "            ans.append(x)\n",
    "            to_do.extend(dic[x])\n",
    "    return ans\n",
    "\n",
    "def BFS(n, v, dic):\n",
    "    visited = [1] * (n+1)\n",
    "    to_do = deque([v])\n",
    "    ans = []\n",
    "    while to_do:\n",
    "        x = to_do.popleft()\n",
    "        if visited[x]:\n",
    "            visited[x] = 0\n",
    "            ans.append(x)\n",
    "            to_do.extend(dic[x][::-1])\n",
    "    return ans\n",
    "\n",
    "n, m, v = map(int, input().split())\n",
    "dic = {i : [] for i in range(1, n+1)}\n",
    "for _ in range(m):\n",
    "    a, b = map(int, input().split())\n",
    "    dic[a].append(b)\n",
    "    dic[b].append(a)\n",
    "for i in range(1, n+1):\n",
    "    dic[i].sort(reverse = True)\n",
    "\n",
    "print(*DFS(n, v, dic))\n",
    "print(*BFS(n, v, dic))"
   ]
  }
 ],
 "metadata": {
  "interpreter": {
   "hash": "9652531e86fbc99dfe7fc5092eb81081a97fad237de3d1fd3b3a0d1c69c61538"
  },
  "kernelspec": {
   "display_name": "Python 3.9.7 64-bit ('ox': conda)",
   "name": "python3"
  },
  "language_info": {
   "codemirror_mode": {
    "name": "ipython",
    "version": 3
   },
   "file_extension": ".py",
   "mimetype": "text/x-python",
   "name": "python",
   "nbconvert_exporter": "python",
   "pygments_lexer": "ipython3",
   "version": "3.9.7"
  },
  "orig_nbformat": 4
 },
 "nbformat": 4,
 "nbformat_minor": 2
}
