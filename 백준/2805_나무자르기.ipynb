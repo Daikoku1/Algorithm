{
 "cells": [
  {
   "cell_type": "markdown",
   "metadata": {},
   "source": [
    "# 실패 코드1\n",
    "- 기본적인 이진분류 코드\n",
    "- 시간초과"
   ]
  },
  {
   "cell_type": "code",
   "execution_count": 3,
   "metadata": {},
   "outputs": [
    {
     "ename": "ValueError",
     "evalue": "not enough values to unpack (expected 2, got 0)",
     "output_type": "error",
     "traceback": [
      "\u001b[0;31m---------------------------------------------------------------------------\u001b[0m",
      "\u001b[0;31mValueError\u001b[0m                                Traceback (most recent call last)",
      "\u001b[0;32m<ipython-input-3-5cd5989e76a1>\u001b[0m in \u001b[0;36m<module>\u001b[0;34m\u001b[0m\n\u001b[1;32m      2\u001b[0m \u001b[0;32mimport\u001b[0m \u001b[0msys\u001b[0m\u001b[0;34m\u001b[0m\u001b[0;34m\u001b[0m\u001b[0m\n\u001b[1;32m      3\u001b[0m \u001b[0minput\u001b[0m \u001b[0;34m=\u001b[0m \u001b[0msys\u001b[0m\u001b[0;34m.\u001b[0m\u001b[0mstdin\u001b[0m\u001b[0;34m.\u001b[0m\u001b[0mreadline\u001b[0m\u001b[0;34m\u001b[0m\u001b[0;34m\u001b[0m\u001b[0m\n\u001b[0;32m----> 4\u001b[0;31m \u001b[0mN\u001b[0m\u001b[0;34m,\u001b[0m \u001b[0mT\u001b[0m \u001b[0;34m=\u001b[0m \u001b[0mmap\u001b[0m\u001b[0;34m(\u001b[0m\u001b[0mint\u001b[0m\u001b[0;34m,\u001b[0m\u001b[0minput\u001b[0m\u001b[0;34m(\u001b[0m\u001b[0;34m)\u001b[0m\u001b[0;34m.\u001b[0m\u001b[0msplit\u001b[0m\u001b[0;34m(\u001b[0m\u001b[0;34m)\u001b[0m\u001b[0;34m)\u001b[0m\u001b[0;34m\u001b[0m\u001b[0;34m\u001b[0m\u001b[0m\n\u001b[0m\u001b[1;32m      5\u001b[0m \u001b[0mtrees\u001b[0m \u001b[0;34m=\u001b[0m \u001b[0mlist\u001b[0m\u001b[0;34m(\u001b[0m\u001b[0mmap\u001b[0m\u001b[0;34m(\u001b[0m\u001b[0mint\u001b[0m\u001b[0;34m,\u001b[0m \u001b[0minput\u001b[0m\u001b[0;34m(\u001b[0m\u001b[0;34m)\u001b[0m\u001b[0;34m.\u001b[0m\u001b[0msplit\u001b[0m\u001b[0;34m(\u001b[0m\u001b[0;34m)\u001b[0m\u001b[0;34m)\u001b[0m\u001b[0;34m)\u001b[0m\u001b[0;34m\u001b[0m\u001b[0;34m\u001b[0m\u001b[0m\n\u001b[1;32m      6\u001b[0m \u001b[0ms\u001b[0m\u001b[0;34m,\u001b[0m \u001b[0me\u001b[0m \u001b[0;34m=\u001b[0m \u001b[0;36m0\u001b[0m\u001b[0;34m,\u001b[0m \u001b[0mmax\u001b[0m\u001b[0;34m(\u001b[0m\u001b[0mtrees\u001b[0m\u001b[0;34m)\u001b[0m\u001b[0;34m\u001b[0m\u001b[0;34m\u001b[0m\u001b[0m\n",
      "\u001b[0;31mValueError\u001b[0m: not enough values to unpack (expected 2, got 0)"
     ]
    }
   ],
   "source": [
    "# 시간초과\n",
    "import sys\n",
    "input = sys.stdin.readline\n",
    "N, T = map(int,input().split())\n",
    "trees = list(map(int, input().split()))\n",
    "s, e = 0, max(trees)\n",
    "while s <= e:\n",
    "    m = (s+e) // 2\n",
    "    now = 0\n",
    "    for tree in trees:\n",
    "        if tree > m:\n",
    "            now += tree - m\n",
    "    if now >= T:s = m + 1\n",
    "    else: e = m - 1\n",
    "print(s-1)"
   ]
  },
  {
   "cell_type": "markdown",
   "metadata": {},
   "source": [
    "# 실패 코드2\n",
    "- 정렬을 통해 now를 계산하는 과정에서 모든 값을 확인하지 않아도 되도록 수정\n",
    "- 여전히 시간초과"
   ]
  },
  {
   "cell_type": "code",
   "execution_count": null,
   "metadata": {},
   "outputs": [],
   "source": [
    "import sys\n",
    "input = sys.stdin.readline\n",
    "N, T = map(int,input().split())\n",
    "trees = sorted(map(int, input().split()), reverse = True)\n",
    "s, e = 0, max(trees)\n",
    "while s <= e:\n",
    "    m = (s+e) // 2\n",
    "    now = 0\n",
    "    for tree in trees:\n",
    "        if tree > m:\n",
    "            now += tree - m\n",
    "        else:break\n",
    "    if now >= T:s = m + 1\n",
    "    else: e = m - 1\n",
    "print(s-1)"
   ]
  },
  {
   "cell_type": "markdown",
   "metadata": {},
   "source": [
    "# 시도 3 -> 성공 1\n",
    "- m보다 작은 녀석들(X), 큰 녀석들(Y)로 리스트를 나눔\n",
    "- s = m + 1인 경우에는 m값이 더 커지므로 m보다 작은 녀석들은 별도 계산할 필요없이 len(X) * (m_t - m_{t-1}) 로 구할 수 있음"
   ]
  },
  {
   "cell_type": "code",
   "execution_count": 12,
   "metadata": {},
   "outputs": [
    {
     "name": "stdout",
     "output_type": "stream",
     "text": [
      "4 7\n",
      "20 15 10 17\n",
      "[] [20, 17, 15, 10]\n",
      "[10, 15, 17, 20] []\n",
      "0 499999999 0\n",
      "---------------\n",
      "[10, 15, 17, 20] []\n",
      "0 249999998 0\n",
      "---------------\n",
      "[10, 15, 17, 20] []\n",
      "0 124999998 0\n",
      "---------------\n",
      "[10, 15, 17, 20] []\n",
      "0 62499998 0\n",
      "---------------\n",
      "[10, 15, 17, 20] []\n",
      "0 31249998 0\n",
      "---------------\n",
      "[10, 15, 17, 20] []\n",
      "0 15624998 0\n",
      "---------------\n",
      "[10, 15, 17, 20] []\n",
      "0 7812498 0\n",
      "---------------\n",
      "[10, 15, 17, 20] []\n",
      "0 3906248 0\n",
      "---------------\n",
      "[10, 15, 17, 20] []\n",
      "0 1953123 0\n",
      "---------------\n",
      "[10, 15, 17, 20] []\n",
      "0 976560 0\n",
      "---------------\n",
      "[10, 15, 17, 20] []\n",
      "0 488279 0\n",
      "---------------\n",
      "[10, 15, 17, 20] []\n",
      "0 244138 0\n",
      "---------------\n",
      "[10, 15, 17, 20] []\n",
      "0 122068 0\n",
      "---------------\n",
      "[10, 15, 17, 20] []\n",
      "0 61033 0\n",
      "---------------\n",
      "[10, 15, 17, 20] []\n",
      "0 30515 0\n",
      "---------------\n",
      "[10, 15, 17, 20] []\n",
      "0 15256 0\n",
      "---------------\n",
      "[10, 15, 17, 20] []\n",
      "0 7627 0\n",
      "---------------\n",
      "[10, 15, 17, 20] []\n",
      "0 3812 0\n",
      "---------------\n",
      "[10, 15, 17, 20] []\n",
      "0 1905 0\n",
      "---------------\n",
      "[10, 15, 17, 20] []\n",
      "0 951 0\n",
      "---------------\n",
      "[10, 15, 17, 20] []\n",
      "0 474 0\n",
      "---------------\n",
      "[10, 15, 17, 20] []\n",
      "0 236 0\n",
      "---------------\n",
      "[10, 15, 17, 20] []\n",
      "0 117 0\n",
      "---------------\n",
      "[10, 15, 17, 20] []\n",
      "0 57 0\n",
      "---------------\n",
      "[10, 15, 17, 20] []\n",
      "0 27 0\n",
      "---------------\n",
      "[10] [20, 17, 15]\n",
      "14 27 52\n",
      "---------------\n",
      "[10, 15, 17] [20]\n",
      "14 19 20\n",
      "---------------\n",
      "[10, 15] [20, 17]\n",
      "14 15 37\n",
      "---------------\n",
      "[10] [20, 17, 15]\n",
      "15 15 52\n",
      "---------------\n",
      "[10] [20, 17, 15]\n",
      "16 15 52\n",
      "---------------\n",
      "15\n"
     ]
    }
   ],
   "source": [
    "# Time = 1104 ms\n",
    "# Memory = 148168 KB\n",
    "import sys\n",
    "input = sys.stdin.readline\n",
    "N, T = map(int,input().split())\n",
    "# m보다 작은 나무 리스트\n",
    "X_tree = sorted(map(int, input().split()))\n",
    "# m보다 큰 나무 리스트\n",
    "Y_tree = []\n",
    "s, e, prev_m = 0, 1_000_000_000, 0\n",
    "sum_Y = 0\n",
    "while s <= e:\n",
    "    new_m = (s+e) // 2\n",
    "    while Y_tree and Y_tree[-1] < new_m:\n",
    "        num = Y_tree.pop()\n",
    "        sum_Y -= num\n",
    "        X_tree.append(num)\n",
    "    while X_tree and X_tree[-1] > new_m:\n",
    "        num = X_tree.pop()\n",
    "        sum_Y += num\n",
    "        Y_tree.append(num)\n",
    "    \n",
    "    len_tree = sum_Y - len(Y_tree) * new_m\n",
    "    prev_m = new_m\n",
    "    if len_tree >= T: s = new_m + 1\n",
    "    else: e = new_m - 1\n",
    "\n",
    "print(s-1)"
   ]
  },
  {
   "cell_type": "code",
   "execution_count": null,
   "metadata": {},
   "outputs": [],
   "source": [
    "4 7\n",
    "20 15 10 17"
   ]
  }
 ],
 "metadata": {
  "kernelspec": {
   "display_name": "Python 3",
   "language": "python",
   "name": "python3"
  },
  "language_info": {
   "codemirror_mode": {
    "name": "ipython",
    "version": 3
   },
   "file_extension": ".py",
   "mimetype": "text/x-python",
   "name": "python",
   "nbconvert_exporter": "python",
   "pygments_lexer": "ipython3",
   "version": "3.8.5"
  },
  "toc": {
   "base_numbering": 1,
   "nav_menu": {},
   "number_sections": true,
   "sideBar": true,
   "skip_h1_title": false,
   "title_cell": "Table of Contents",
   "title_sidebar": "Contents",
   "toc_cell": false,
   "toc_position": {},
   "toc_section_display": true,
   "toc_window_display": true
  }
 },
 "nbformat": 4,
 "nbformat_minor": 4
}
