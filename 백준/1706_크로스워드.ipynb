{
 "cells": [
  {
   "cell_type": "code",
   "execution_count": 1,
   "metadata": {},
   "outputs": [
    {
     "name": "stdout",
     "output_type": "stream",
     "text": [
      "5 5\n",
      "good#\n",
      "an##b\n",
      "messy\n",
      "e##it\n",
      "#late\n",
      "an\n"
     ]
    }
   ],
   "source": [
    "# Time = 132 ms\n",
    "# Memory = 33680 KB\n",
    "import heapq, re, sys\n",
    "input = sys.stdin.readline\n",
    "N, M = map(int, input().split())\n",
    "arr = {i : '' for i in range(M)}\n",
    "h = []\n",
    "for i in range(N):\n",
    "    s = input().strip()\n",
    "    for word in re.split('#+', s):\n",
    "        if len(word) > 1:\n",
    "            heapq.heappush(h, word)\n",
    "    for j in range(M):\n",
    "        arr[j] += s[j]\n",
    "        \n",
    "for j in range(M):\n",
    "    s = arr[j]\n",
    "    for word in re.split('#+', s):\n",
    "        if len(word) > 1:\n",
    "            heapq.heappush(h, word)\n",
    "            \n",
    "print(heapq.heappop(h))"
   ]
  },
  {
   "cell_type": "code",
   "execution_count": null,
   "metadata": {},
   "outputs": [],
   "source": [
    "# Time = 76 ms\n",
    "# Memory = 28776 KB\n",
    "import sys\n",
    "input = sys.stdin.readline\n",
    "N, M = map(int, input().split())\n",
    "arr = {i : '' for i in range(M)}\n",
    "h = []\n",
    "for i in range(N):\n",
    "    s = input().strip()\n",
    "    for word in s.split('#'):\n",
    "        if len(word) > 1:\n",
    "            h.append(word)\n",
    "    for j in range(M):\n",
    "        arr[j] += s[j]\n",
    "        \n",
    "for j in range(M):\n",
    "    s = arr[j]\n",
    "    for word in s.split('#'):\n",
    "        if len(word) > 1:\n",
    "            h.append(word)\n",
    "            \n",
    "print(sorted(h)[0])"
   ]
  },
  {
   "cell_type": "code",
   "execution_count": null,
   "metadata": {},
   "outputs": [],
   "source": [
    "# Time = 64 ms\n",
    "# Memory = 30844 KB\n",
    "import heapq, sys\n",
    "input = sys.stdin.readline\n",
    "N, M = map(int, input().split())\n",
    "arr = {i : '' for i in range(M)}\n",
    "h = []\n",
    "for i in range(N):\n",
    "    s = input().strip()\n",
    "    for word in s.split('#'):\n",
    "        if len(word) > 1:\n",
    "            h.append(word)\n",
    "    for j in range(M):\n",
    "        arr[j] += s[j]\n",
    "        \n",
    "for j in range(M):\n",
    "    s = arr[j]\n",
    "    for word in s.split('#'):\n",
    "        if len(word) > 1:\n",
    "            h.append(word)\n",
    "heapq.heapify(h)\n",
    "print(heapq.heappop(h))"
   ]
  }
 ],
 "metadata": {
  "kernelspec": {
   "display_name": "Python 3",
   "language": "python",
   "name": "python3"
  },
  "language_info": {
   "codemirror_mode": {
    "name": "ipython",
    "version": 3
   },
   "file_extension": ".py",
   "mimetype": "text/x-python",
   "name": "python",
   "nbconvert_exporter": "python",
   "pygments_lexer": "ipython3",
   "version": "3.8.3"
  },
  "toc": {
   "base_numbering": 1,
   "nav_menu": {},
   "number_sections": true,
   "sideBar": true,
   "skip_h1_title": false,
   "title_cell": "Table of Contents",
   "title_sidebar": "Contents",
   "toc_cell": false,
   "toc_position": {},
   "toc_section_display": true,
   "toc_window_display": true
  }
 },
 "nbformat": 4,
 "nbformat_minor": 4
}
