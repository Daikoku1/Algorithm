{
 "cells": [
  {
   "cell_type": "markdown",
   "metadata": {},
   "source": [
    "# 코드\n",
    "- 22.02 풀이\n",
    "- 속도 매우 느림"
   ]
  },
  {
   "cell_type": "code",
   "execution_count": 22,
   "metadata": {},
   "outputs": [
    {
     "name": "stdout",
     "output_type": "stream",
     "text": [
      "0 2 3 1 4\n",
      "12 0 15 2 5\n",
      "8 5 0 1 1\n",
      "10 7 13 0 3\n",
      "7 4 10 6 0\n"
     ]
    }
   ],
   "source": [
    "# 35008 KB, 2280 ms\n",
    "from collections import deque\n",
    "N = int(input())\n",
    "T = int(input())\n",
    "ans = [[0] * (N+1) for _ in range(N+1)]\n",
    "dic = {i : {} for i in range(1, N+1)}\n",
    "for _ in range(T):\n",
    "    a, b, c = map(int, input().split())\n",
    "    dic[a][b] = min(dic[a].get(b, 100001), c)\n",
    "\n",
    "def BOJ(N, dic, s):\n",
    "    costs = [0] * (N+1)\n",
    "    to_do = deque([(s, 0)])\n",
    "    while to_do:\n",
    "        point, cost = to_do.popleft()\n",
    "        if costs[point] != 0 and costs[point] < cost: continue\n",
    "        costs[point] = cost\n",
    "        for np, nc in dic[point].items():\n",
    "            to_do.append((np, cost + nc))\n",
    "    costs[s] = 0\n",
    "    return costs\n",
    "\n",
    "for x in range(1, N+1):\n",
    "    print(*BOJ(N, dic, x)[1:])"
   ]
  },
  {
   "cell_type": "code",
   "execution_count": 3,
   "metadata": {},
   "outputs": [
    {
     "name": "stdout",
     "output_type": "stream",
     "text": [
      "0 2 3 1 4\n",
      "12 0 15 2 5\n",
      "8 5 0 1 1\n",
      "10 7 13 0 3\n",
      "7 4 10 6 0\n"
     ]
    }
   ],
   "source": [
    "# 30864\tKB, 732 ms\n",
    "import sys\n",
    "input = sys.stdin.readline\n",
    "N = int(input())\n",
    "T = int(input())\n",
    "ans = [[float('inf')] * (N+1) for _ in range(N+1)]\n",
    "\n",
    "for i in range(1, N+1):\n",
    "    ans[i][i] = 0\n",
    "\n",
    "for _ in range(T):\n",
    "    a, b, c = map(int, input().split())\n",
    "    ans[a][b] = min(c, ans[a][b])\n",
    "\n",
    "for k in range(1, N+1):\n",
    "    for x in range(1, N+1):\n",
    "        for y in range(1, N+1):\n",
    "            temp = ans[x][k] + ans[k][y]\n",
    "            ans[x][y] = min(temp, ans[x][y])\n",
    "\n",
    "for i in range(1, N+1):\n",
    "    for j in range(1, N+1):\n",
    "        if ans[i][j] == float('inf'):\n",
    "            ans[i][j] = 0\n",
    "\n",
    "for i in range(1, N+1):\n",
    "    print(*ans[i][1:])"
   ]
  }
 ],
 "metadata": {
  "interpreter": {
   "hash": "9652531e86fbc99dfe7fc5092eb81081a97fad237de3d1fd3b3a0d1c69c61538"
  },
  "kernelspec": {
   "display_name": "Python 3.9.7 ('ox')",
   "language": "python",
   "name": "python3"
  },
  "language_info": {
   "codemirror_mode": {
    "name": "ipython",
    "version": 3
   },
   "file_extension": ".py",
   "mimetype": "text/x-python",
   "name": "python",
   "nbconvert_exporter": "python",
   "pygments_lexer": "ipython3",
   "version": "3.9.7"
  },
  "orig_nbformat": 4
 },
 "nbformat": 4,
 "nbformat_minor": 2
}
