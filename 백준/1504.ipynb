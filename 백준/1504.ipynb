{
 "cells": [
  {
   "cell_type": "code",
   "execution_count": null,
   "metadata": {},
   "outputs": [],
   "source": [
    "from heapq import heappush, heappop\n",
    "import sys\n",
    "input = sys.stdin.readline\n",
    "n, e = map(int, input().split())\n",
    "s = [[] for i in range(n + 1)]\n",
    "inf = sys.maxsize\n",
    "for i in range(e):\n",
    "    a, b, c = map(int, input().split())\n",
    "    s[a].append([b, c])\n",
    "    s[b].append([a, c])\n",
    "v1, v2 = map(int, input().split())\n",
    "def dijkstra(start):\n",
    "    dp = [inf for i in range(n + 1)]\n",
    "    dp[start] = 0\n",
    "    heap = []\n",
    "    heappush(heap, [0, start])\n",
    "    while heap:\n",
    "        w, c = heappop(heap)\n",
    "        for n_n, n_w in s[c]:\n",
    "            wei = n_w + w\n",
    "            if dp[n_n] > wei:\n",
    "                dp[n_n] = wei\n",
    "                heappush(heap, [wei, n_n])\n",
    "    return dp\n",
    "one = dijkstra(1)\n",
    "v1_ = dijkstra(v1)\n",
    "v2_ = dijkstra(v2)\n",
    "cnt = min(one[v1] + v1_[v2] + v2_[n], one[v2] + v2_[v1] + v1_[n])\n",
    "print(cnt if cnt < inf else -1)"
   ]
  }
 ],
 "metadata": {
  "language_info": {
   "name": "python"
  },
  "orig_nbformat": 4
 },
 "nbformat": 4,
 "nbformat_minor": 2
}
