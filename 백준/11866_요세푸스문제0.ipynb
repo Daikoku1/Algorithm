{
 "cells": [
  {
   "cell_type": "code",
   "execution_count": null,
   "id": "1d8e90a4",
   "metadata": {},
   "outputs": [],
   "source": [
    "# 31824 KB, 136 ms\n",
    "from collections import deque\n",
    "N, K = map(int, input().split())\n",
    "arr = deque([i for i in range(1, N+1)]) \n",
    "print('<', end = '')\n",
    "while arr:\n",
    "    for _ in range(K-1):\n",
    "        arr.append(arr.popleft())\n",
    "    print(arr.popleft(), end = '')\n",
    "    if arr:\n",
    "        print(', ', end = '')\n",
    "print('>')"
   ]
  }
 ],
 "metadata": {
  "kernelspec": {
   "display_name": "Python 3",
   "language": "python",
   "name": "python3"
  },
  "language_info": {
   "codemirror_mode": {
    "name": "ipython",
    "version": 3
   },
   "file_extension": ".py",
   "mimetype": "text/x-python",
   "name": "python",
   "nbconvert_exporter": "python",
   "pygments_lexer": "ipython3",
   "version": "3.8.8"
  }
 },
 "nbformat": 4,
 "nbformat_minor": 5
}
