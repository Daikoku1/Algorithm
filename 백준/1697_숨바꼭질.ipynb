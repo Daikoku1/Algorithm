{
 "cells": [
  {
   "cell_type": "code",
   "execution_count": 4,
   "metadata": {},
   "outputs": [],
   "source": [
    "# Time = 200 ms\n",
    "# Memory = 38072 KB\n",
    "from collections import deque\n",
    "def BOJ_1697(n):\n",
    "    day = 0\n",
    "    result = deque([[n, day]])\n",
    "    while result:\n",
    "        now, d = result.popleft()\n",
    "        if not visited[now]:\n",
    "            visited[now] = True\n",
    "            if now == k:\n",
    "                return d\n",
    "            d += 1\n",
    "            if (now * 2) <= 100000:\n",
    "                result.append([now * 2, d])\n",
    "            if (now + 1) <= 100000:\n",
    "                result.append([now + 1, d])\n",
    "            if (now - 1) >= 0:\n",
    "                result.append([now - 1, d])\n",
    "    return d\n",
    "                \n",
    "n, k = map(int, input().split())\n",
    "visited = [False] * 100001\n",
    "print(BOJ_1697(n))"
   ]
  },
  {
   "cell_type": "code",
   "execution_count": null,
   "metadata": {},
   "outputs": [],
   "source": [
    "# Time = 80 ms\n",
    "# Memory = 29076 KB\n",
    "def check(n,k):\n",
    "    if n>=k:\n",
    "        return n-k\n",
    "    elif k == 1:\n",
    "        return 1\n",
    "    elif k % 2:\n",
    "        return 1+min(check(n,k-1),check(n,k+1))\n",
    "    else:\n",
    "        return min(k-n, 1+check(n,k//2))\n",
    "    \n",
    "n, k = map(int,input().split())\n",
    "print(check(n,k))"
   ]
  },
  {
   "cell_type": "code",
   "execution_count": null,
   "metadata": {},
   "outputs": [],
   "source": []
  },
  {
   "cell_type": "markdown",
   "metadata": {},
   "source": [
    "# 코드\n",
    "- 21.11 풀이"
   ]
  },
  {
   "cell_type": "code",
   "execution_count": 7,
   "metadata": {},
   "outputs": [
    {
     "name": "stdout",
     "output_type": "stream",
     "text": [
      "4\n"
     ]
    }
   ],
   "source": [
    "# 38488 KB, 168 ms\n",
    "from collections import deque\n",
    "def BOJ_1697(n,m):\n",
    "    to_do = deque([[n, 0]])\n",
    "    visited = [False] * 100001\n",
    "    while True:\n",
    "        now, day = to_do.popleft()\n",
    "        if visited[now]: continue\n",
    "        else:\n",
    "            visited[now] = True\n",
    "            if now == m : return day\n",
    "            if now < 100000 : to_do.append([now - 1, day + 1])\n",
    "            if now > 0 : to_do.append([now + 1, day + 1])\n",
    "            if now < 50001 : to_do.append([now * 2, day + 1])\n",
    "n, m = map(int, input().split())\n",
    "print(BOJ_1697(n,m))\n"
   ]
  },
  {
   "cell_type": "code",
   "execution_count": 9,
   "metadata": {},
   "outputs": [
    {
     "name": "stdout",
     "output_type": "stream",
     "text": [
      "4\n"
     ]
    }
   ],
   "source": [
    "# 29200 KB, 80 ms\n",
    "def BOJ_1697(n,m):\n",
    "    if n >= m : return n - m\n",
    "    elif m == 1 : return 1\n",
    "    elif m % 2 :\n",
    "        return 1 + min(BOJ_1697(n,m-1), BOJ_1697(n,m+1))\n",
    "    else:\n",
    "        return min(m - n, 1 + BOJ_1697(n, m//2))\n",
    "\n",
    "n, m = map(int, input().split())\n",
    "print(BOJ_1697(n,m))\n"
   ]
  },
  {
   "cell_type": "code",
   "execution_count": null,
   "metadata": {},
   "outputs": [],
   "source": []
  }
 ],
 "metadata": {
  "kernelspec": {
   "display_name": "Python 3",
   "language": "python",
   "name": "python3"
  },
  "language_info": {
   "codemirror_mode": {
    "name": "ipython",
    "version": 3
   },
   "file_extension": ".py",
   "mimetype": "text/x-python",
   "name": "python",
   "nbconvert_exporter": "python",
   "pygments_lexer": "ipython3",
   "version": "3.9.7"
  },
  "toc": {
   "base_numbering": 1,
   "nav_menu": {},
   "number_sections": true,
   "sideBar": true,
   "skip_h1_title": false,
   "title_cell": "Table of Contents",
   "title_sidebar": "Contents",
   "toc_cell": false,
   "toc_position": {},
   "toc_section_display": true,
   "toc_window_display": true
  }
 },
 "nbformat": 4,
 "nbformat_minor": 4
}
