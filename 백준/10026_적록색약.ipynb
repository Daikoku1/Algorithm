{
 "cells": [
  {
   "cell_type": "code",
   "execution_count": 3,
   "metadata": {},
   "outputs": [
    {
     "name": "stdout",
     "output_type": "stream",
     "text": [
      "5\n",
      "RRRBB\n",
      "GGBBB\n",
      "BBBRR\n",
      "BBRRR\n",
      "RRRRR\n",
      "4 3\n"
     ]
    }
   ],
   "source": [
    "# Time = 84 ms\n",
    "# Memory = 28776 KB\n",
    "import sys\n",
    "input = sys.stdin.readline\n",
    "def BOJ_10026(N, arr):\n",
    "    cnt = 0\n",
    "    for x in range(N):\n",
    "        for y in range(N):\n",
    "            if arr[x][y] != '0':\n",
    "                cnt += 1\n",
    "                t = arr[x][y]\n",
    "                li = [[x,y]]\n",
    "                while li:\n",
    "                    a, b = li.pop()\n",
    "                    arr[a][b] = '0'\n",
    "                    if a > 0 and arr[a-1][b] == t:\n",
    "                        arr[a-1][b] = '0'\n",
    "                        li.append([a-1, b])\n",
    "                    if a < N -1 and arr[a+1][b] == t:\n",
    "                        arr[a+1][b] = '0'\n",
    "                        li.append([a+1, b])\n",
    "                    if b > 0 and arr[a][b-1] == t:\n",
    "                        arr[a][b-1] = '0'\n",
    "                        li.append([a, b-1])\n",
    "                    if b < N -1 and arr[a][b+1] == t:\n",
    "                        arr[a][b+1] = '0'\n",
    "                        li.append([a, b+1])\n",
    "    return cnt\n",
    "N = int(input())\n",
    "n_arr = [['0']*N for _ in range(N)]\n",
    "rg_arr = [['0']*N for _ in range(N)]\n",
    "for i in range(N):\n",
    "    for j, val in enumerate(input().strip()):\n",
    "        n_arr[i][j] = val\n",
    "        if val == 'G':\n",
    "            rg_arr[i][j] = 'R'\n",
    "        else:rg_arr[i][j] = val\n",
    "    \n",
    "normal = BOJ_10026(N, n_arr)\n",
    "rg = BOJ_10026(N, rg_arr)\n",
    "print(normal, rg)"
   ]
  }
 ],
 "metadata": {
  "kernelspec": {
   "display_name": "Python 3",
   "language": "python",
   "name": "python3"
  },
  "language_info": {
   "codemirror_mode": {
    "name": "ipython",
    "version": 3
   },
   "file_extension": ".py",
   "mimetype": "text/x-python",
   "name": "python",
   "nbconvert_exporter": "python",
   "pygments_lexer": "ipython3",
   "version": "3.8.3"
  },
  "toc": {
   "base_numbering": 1,
   "nav_menu": {},
   "number_sections": true,
   "sideBar": true,
   "skip_h1_title": false,
   "title_cell": "Table of Contents",
   "title_sidebar": "Contents",
   "toc_cell": false,
   "toc_position": {},
   "toc_section_display": true,
   "toc_window_display": true
  }
 },
 "nbformat": 4,
 "nbformat_minor": 4
}
