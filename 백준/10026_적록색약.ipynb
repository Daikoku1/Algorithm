{
 "cells": [
  {
   "cell_type": "code",
   "execution_count": 3,
   "metadata": {},
   "outputs": [
    {
     "name": "stdout",
     "output_type": "stream",
     "text": [
      "5\n",
      "RRRBB\n",
      "GGBBB\n",
      "BBBRR\n",
      "BBRRR\n",
      "RRRRR\n",
      "4 3\n"
     ]
    }
   ],
   "source": [
    "# Time = 84 ms\n",
    "# Memory = 28776 KB\n",
    "import sys\n",
    "input = sys.stdin.readline\n",
    "def BOJ_10026(N, arr):\n",
    "    cnt = 0\n",
    "    for x in range(N):\n",
    "        for y in range(N):\n",
    "            if arr[x][y] != '0':\n",
    "                cnt += 1\n",
    "                t = arr[x][y]\n",
    "                li = [[x,y]]\n",
    "                while li:\n",
    "                    a, b = li.pop()\n",
    "                    arr[a][b] = '0'\n",
    "                    if a > 0 and arr[a-1][b] == t:\n",
    "                        arr[a-1][b] = '0'\n",
    "                        li.append([a-1, b])\n",
    "                    if a < N -1 and arr[a+1][b] == t:\n",
    "                        arr[a+1][b] = '0'\n",
    "                        li.append([a+1, b])\n",
    "                    if b > 0 and arr[a][b-1] == t:\n",
    "                        arr[a][b-1] = '0'\n",
    "                        li.append([a, b-1])\n",
    "                    if b < N -1 and arr[a][b+1] == t:\n",
    "                        arr[a][b+1] = '0'\n",
    "                        li.append([a, b+1])\n",
    "    return cnt\n",
    "N = int(input())\n",
    "n_arr = [['0']*N for _ in range(N)]\n",
    "rg_arr = [['0']*N for _ in range(N)]\n",
    "for i in range(N):\n",
    "    for j, val in enumerate(input().strip()):\n",
    "        n_arr[i][j] = val\n",
    "        if val == 'G':\n",
    "            rg_arr[i][j] = 'R'\n",
    "        else:rg_arr[i][j] = val\n",
    "    \n",
    "normal = BOJ_10026(N, n_arr)\n",
    "rg = BOJ_10026(N, rg_arr)\n",
    "print(normal, rg)"
   ]
  },
  {
   "cell_type": "code",
   "execution_count": null,
   "metadata": {},
   "outputs": [],
   "source": []
  },
  {
   "cell_type": "markdown",
   "metadata": {},
   "source": [
    "# 코드\n",
    "- 21.11 풀이\n",
    "- 코드가 뭔가.."
   ]
  },
  {
   "cell_type": "code",
   "execution_count": 15,
   "metadata": {},
   "outputs": [
    {
     "name": "stdout",
     "output_type": "stream",
     "text": [
      "4 3\n"
     ]
    }
   ],
   "source": [
    "import copy,sys\n",
    "input = sys.stdin.readline\n",
    "N = int(input())\n",
    "arr = [list(input().strip()) for _ in range(N)]\n",
    "cnt1, cnt2 = 0, 0\n",
    "arr1, arr2 = copy.deepcopy(arr), copy.deepcopy(arr)\n",
    "for i in range(N):\n",
    "    for j in range(N):\n",
    "        if arr1[i][j] != 0:\n",
    "            to_do = [[i,j]]\n",
    "            val = arr1[i][j]\n",
    "            arr1[i][j] = 0\n",
    "            cnt1 += 1\n",
    "            while to_do:\n",
    "                x, y = to_do.pop()\n",
    "                for nx, ny in [[x+1,y], [x-1,y], [x,y+1], [x,y-1]]:\n",
    "                    if 0 <= nx < N and 0 <= ny < N and arr1[nx][ny] == val:\n",
    "                        to_do.append([nx,ny])\n",
    "                        arr1[nx][ny] = 0\n",
    "\n",
    "for i in range(N):\n",
    "    for j in range(N):\n",
    "        if arr2[i][j] != 0:\n",
    "            to_do = [[i,j]]\n",
    "            val = arr2[i][j]\n",
    "            arr2[i][j] = 0\n",
    "            cnt2 += 1\n",
    "            while to_do:\n",
    "                x, y = to_do.pop()\n",
    "                for nx, ny in [[x+1,y], [x-1,y], [x,y+1], [x,y-1]]:\n",
    "                    if 0 <= nx < N and 0 <= ny < N:\n",
    "                        if val == 'B' and arr2[nx][ny] == val:\n",
    "                            to_do.append([nx,ny])\n",
    "                            arr2[nx][ny] = 0\n",
    "                        elif (val in ['G','R']) and (arr2[nx][ny] in ['G', 'R']):\n",
    "                            to_do.append([nx,ny])\n",
    "                            arr2[nx][ny] = 0\n",
    "\n",
    "print(cnt1, cnt2)"
   ]
  },
  {
   "cell_type": "code",
   "execution_count": 14,
   "metadata": {},
   "outputs": [
    {
     "data": {
      "text/plain": [
       "[['R', 'R', 'R', 'B', 'B'],\n",
       " ['G', 'G', 'B', 'B', 'B'],\n",
       " ['B', 'B', 'B', 'R', 'R'],\n",
       " ['B', 'B', 'R', 'R', 'R'],\n",
       " ['R', 'R', 'R', 'R', 'R']]"
      ]
     },
     "execution_count": 14,
     "metadata": {},
     "output_type": "execute_result"
    }
   ],
   "source": [
    "arr"
   ]
  },
  {
   "cell_type": "code",
   "execution_count": null,
   "metadata": {},
   "outputs": [],
   "source": []
  }
 ],
 "metadata": {
  "kernelspec": {
   "display_name": "Python 3",
   "language": "python",
   "name": "python3"
  },
  "language_info": {
   "codemirror_mode": {
    "name": "ipython",
    "version": 3
   },
   "file_extension": ".py",
   "mimetype": "text/x-python",
   "name": "python",
   "nbconvert_exporter": "python",
   "pygments_lexer": "ipython3",
   "version": "3.9.7"
  },
  "toc": {
   "base_numbering": 1,
   "nav_menu": {},
   "number_sections": true,
   "sideBar": true,
   "skip_h1_title": false,
   "title_cell": "Table of Contents",
   "title_sidebar": "Contents",
   "toc_cell": false,
   "toc_position": {},
   "toc_section_display": true,
   "toc_window_display": true
  }
 },
 "nbformat": 4,
 "nbformat_minor": 4
}
