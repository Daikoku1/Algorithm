{
 "cells": [
  {
   "cell_type": "markdown",
   "metadata": {},
   "source": [
    "# 코드\n",
    "- 21.12 풀이"
   ]
  },
  {
   "cell_type": "code",
   "execution_count": 7,
   "metadata": {},
   "outputs": [
    {
     "name": "stdout",
     "output_type": "stream",
     "text": [
      "32\n"
     ]
    }
   ],
   "source": [
    "# 29200\tKB, 76 ms\n",
    "N = int(input())\n",
    "last_number = [0] + [1] * 9\n",
    "while N > 1:\n",
    "    temp = [0] * 10\n",
    "    for i1, v1 in enumerate(last_number[1:]):\n",
    "        temp[i1] += v1\n",
    "    for i2, v2 in enumerate(last_number[:-1], 1):\n",
    "        temp[i2] += v2\n",
    "    last_number = temp.copy()\n",
    "\n",
    "    N -= 1\n",
    "print(sum(last_number) % 1_000_000_000)"
   ]
  },
  {
   "cell_type": "code",
   "execution_count": 26,
   "metadata": {},
   "outputs": [
    {
     "name": "stdout",
     "output_type": "stream",
     "text": [
      "32\n"
     ]
    }
   ],
   "source": [
    "# 백준에서는 numpy 불가능\n",
    "import numpy as np\n",
    "N = int(input())\n",
    "last_number = np.array([0] + [1] * 9)\n",
    "while N > 1:\n",
    "    temp = np.zeros(10, dtype = 'int8')\n",
    "    temp[:-1] += last_number[1:]\n",
    "    temp[1:] += last_number[:-1]\n",
    "    last_number = temp\n",
    "\n",
    "    N -= 1\n",
    "print(sum(last_number) % 1_000_000_000)"
   ]
  },
  {
   "cell_type": "code",
   "execution_count": 27,
   "metadata": {},
   "outputs": [],
   "source": [
    "def sol1(N):\n",
    "    last_number = [0] + [1] * 9\n",
    "    while N > 1:\n",
    "        temp = [0] * 10\n",
    "        for i1, v1 in enumerate(last_number[1:]):\n",
    "            temp[i1] += v1\n",
    "        for i2, v2 in enumerate(last_number[:-1], 1):\n",
    "            temp[i2] += v2\n",
    "        last_number = temp.copy()\n",
    "\n",
    "        N -= 1\n",
    "    return sum(last_number) % 1_000_000_000\n",
    "\n",
    "def sol2(N):\n",
    "    last_number = np.array([0] + [1] * 9)\n",
    "    while N > 1:\n",
    "        temp = np.zeros(10, dtype = 'int8')\n",
    "        temp[:-1] += last_number[1:]\n",
    "        temp[1:] += last_number[:-1]\n",
    "        last_number = temp\n",
    "\n",
    "        N -= 1\n",
    "    return sum(last_number) % 1_000_000_000"
   ]
  },
  {
   "cell_type": "code",
   "execution_count": 28,
   "metadata": {},
   "outputs": [
    {
     "name": "stdout",
     "output_type": "stream",
     "text": [
      "223 µs ± 9.56 µs per loop (mean ± std. dev. of 7 runs, 1000 loops each)\n"
     ]
    }
   ],
   "source": [
    "%timeit sol1(100)"
   ]
  },
  {
   "cell_type": "code",
   "execution_count": 29,
   "metadata": {},
   "outputs": [
    {
     "name": "stdout",
     "output_type": "stream",
     "text": [
      "269 µs ± 10.8 µs per loop (mean ± std. dev. of 7 runs, 1000 loops each)\n"
     ]
    }
   ],
   "source": [
    "%timeit sol2(100)"
   ]
  },
  {
   "cell_type": "code",
   "execution_count": 30,
   "metadata": {},
   "outputs": [
    {
     "name": "stdout",
     "output_type": "stream",
     "text": [
      "2.46 ms ± 80.9 µs per loop (mean ± std. dev. of 7 runs, 100 loops each)\n"
     ]
    }
   ],
   "source": [
    "%timeit sol1(1000)"
   ]
  },
  {
   "cell_type": "code",
   "execution_count": 31,
   "metadata": {},
   "outputs": [
    {
     "name": "stdout",
     "output_type": "stream",
     "text": [
      "2.77 ms ± 174 µs per loop (mean ± std. dev. of 7 runs, 100 loops each)\n"
     ]
    }
   ],
   "source": [
    "%timeit sol2(1000)"
   ]
  },
  {
   "cell_type": "code",
   "execution_count": null,
   "metadata": {},
   "outputs": [],
   "source": []
  }
 ],
 "metadata": {
  "interpreter": {
   "hash": "9652531e86fbc99dfe7fc5092eb81081a97fad237de3d1fd3b3a0d1c69c61538"
  },
  "kernelspec": {
   "display_name": "Python 3.9.7 64-bit ('ox': conda)",
   "language": "python",
   "name": "python3"
  },
  "language_info": {
   "codemirror_mode": {
    "name": "ipython",
    "version": 3
   },
   "file_extension": ".py",
   "mimetype": "text/x-python",
   "name": "python",
   "nbconvert_exporter": "python",
   "pygments_lexer": "ipython3",
   "version": "3.9.7"
  },
  "orig_nbformat": 4
 },
 "nbformat": 4,
 "nbformat_minor": 2
}
