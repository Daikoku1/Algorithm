{
 "cells": [
  {
   "cell_type": "code",
   "execution_count": 28,
   "metadata": {},
   "outputs": [
    {
     "name": "stdout",
     "output_type": "stream",
     "text": [
      "502524\n",
      "1180102\n"
     ]
    }
   ],
   "source": [
    "# 29200\tKB, 68 ms\n",
    "ca, cb, ma, mb = map(int, input().split())\n",
    "if ca * cb * ma * mb == 0: print(min(ma, ca) + min(mb, cb)) # 어떤 값이라도 0이 포함되면 해당 값은 사용할 수 없음.\n",
    "else:\n",
    "    length = min(ca, cb)\n",
    "    # s1 = aba... , s2 = bab...\n",
    "    s1 = int((length + 1) * min(ma, ca / (length+1)) + (length) * min(mb, cb / (length)))\n",
    "    s2 = int((length) * min(ma, ca / (length)) + (length+1) * min(mb, cb / (length + 1)))\n",
    "    print(max(s1, s2))"
   ]
  }
 ],
 "metadata": {
  "interpreter": {
   "hash": "9652531e86fbc99dfe7fc5092eb81081a97fad237de3d1fd3b3a0d1c69c61538"
  },
  "kernelspec": {
   "display_name": "Python 3.9.7 64-bit ('ox': conda)",
   "language": "python",
   "name": "python3"
  },
  "language_info": {
   "codemirror_mode": {
    "name": "ipython",
    "version": 3
   },
   "file_extension": ".py",
   "mimetype": "text/x-python",
   "name": "python",
   "nbconvert_exporter": "python",
   "pygments_lexer": "ipython3",
   "version": "3.9.7"
  },
  "orig_nbformat": 4
 },
 "nbformat": 4,
 "nbformat_minor": 2
}
