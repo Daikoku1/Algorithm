{
 "cells": [
  {
   "cell_type": "code",
   "execution_count": 25,
   "metadata": {},
   "outputs": [
    {
     "name": "stdout",
     "output_type": "stream",
     "text": [
      "10 8 17\n",
      "0 0\n",
      "1 0\n",
      "1 1\n",
      "4 2\n",
      "4 3\n",
      "4 5\n",
      "2 4\n",
      "3 4\n",
      "7 4\n",
      "8 4\n",
      "9 4\n",
      "7 5\n",
      "8 5\n",
      "9 5\n",
      "7 6\n",
      "8 6\n",
      "9 6\n"
     ]
    }
   ],
   "source": [
    "# Time = 92 ms\n",
    "# Memory = 29584 KB\n",
    "import sys\n",
    "input = sys.stdin.readline\n",
    "T = int(input())\n",
    "for _ in range(T):\n",
    "    # 가로, 세로, 배추 개수\n",
    "    M, N, K = map(int, input().split())\n",
    "    result = [[0]*M for _ in range(N)]\n",
    "    for _ in range(K):\n",
    "        x, y = map(int, input().split())\n",
    "        result[y][x] = 1\n",
    "\n",
    "    cnt = 0\n",
    "    for i in range(N):\n",
    "        for j in range(M):\n",
    "            if result[i][j] == 1:\n",
    "                cnt += 1\n",
    "                result[i][j] = 0\n",
    "                sub = [[i-1,j],[i+1,j],[i,j-1],[i,j+1]]\n",
    "                while sub:\n",
    "                    x, y = sub.pop()\n",
    "                    if -1 < x < N and -1 < y < M:\n",
    "                        if result[x][y] == 1:\n",
    "                            result[x][y] = 0\n",
    "                            sub.append([x,y-1])\n",
    "                            sub.append([x,y+1])\n",
    "                            sub.append([x-1,y])\n",
    "                            sub.append([x+1,y])\n",
    "    print(cnt)"
   ]
  },
  {
   "cell_type": "code",
   "execution_count": 43,
   "metadata": {},
   "outputs": [
    {
     "data": {
      "text/plain": [
       "[[1, 1, 0, 0, 0, 0, 0, 0, 0, 0],\n",
       " [0, 1, 0, 0, 0, 0, 0, 0, 0, 0],\n",
       " [0, 0, 0, 0, 1, 0, 0, 0, 0, 0],\n",
       " [0, 0, 0, 0, 1, 0, 0, 0, 0, 0],\n",
       " [0, 0, 1, 1, 0, 0, 0, 1, 1, 1],\n",
       " [0, 0, 0, 0, 1, 0, 0, 1, 1, 1],\n",
       " [0, 0, 0, 0, 0, 0, 0, 1, 1, 1],\n",
       " [0, 0, 0, 0, 0, 0, 0, 0, 0, 0]]"
      ]
     },
     "execution_count": 43,
     "metadata": {},
     "output_type": "execute_result"
    }
   ],
   "source": [
    "result = a\n",
    "result"
   ]
  },
  {
   "cell_type": "code",
   "execution_count": 45,
   "metadata": {},
   "outputs": [
    {
     "name": "stdout",
     "output_type": "stream",
     "text": [
      "5\n"
     ]
    }
   ],
   "source": [
    "import sys\n",
    "input = sys.stdin.readline\n",
    "T = int(input())\n",
    "def check(li, n, m):\n",
    "    li[n][m]=0\n",
    "    if n+1 < N and li[n+1][m] == 1:\n",
    "        check(li,n+1,m)\n",
    "    if n-1 > -1 and li[n-1][m] == 1:\n",
    "        check(li, n-1,m)\n",
    "    if m+1 < M and li[n][m+1] == 1:\n",
    "        check(li, n, m+1)\n",
    "    if m-1 > -1 and li[n][m-1] == 1:\n",
    "        check(li, n, m-1)\n",
    "        \n",
    "for _ in range(T):\n",
    "    # 가로, 세로, 배추 개수\n",
    "    M, N, K = map(int, input().split())\n",
    "    result = [[0]*M for _ in range(N)]\n",
    "    for _ in range(K):\n",
    "        x, y = map(int, input().split())\n",
    "        result[y][x] = 1\n",
    "\n",
    "    cnt = 0\n",
    "    for i in range(N):\n",
    "        for j in range(M):\n",
    "            if result[i][j] == 1:\n",
    "                cnt += 1\n",
    "                check(result, i, j)\n",
    "    print(cnt)"
   ]
  },
  {
   "cell_type": "code",
   "execution_count": null,
   "metadata": {},
   "outputs": [],
   "source": [
    "q=int(p())\n",
    "def T(li, o, s):\n",
    "    li[s][o]=0\n",
    "    if o+1 < x and t[s][o+1]==1:\n",
    "        T(li,o+1,s)\n",
    "    if o-1>= 0 and t[s][o-1]==1:\n",
    "        T(li, o-1,s)\n",
    "    if s -1 >= 0 and t[s-1][o]==1:\n",
    "        T(li, o,s-1)\n",
    "    if s +1 < y and t[s+1][o]==1:\n",
    "        T(li,o,s+1)\n",
    "\n",
    "for _ in range(q):\n",
    "    x, y, c = map(int, p().split())\n",
    "    result = [[0] * x for _ in range(y)]\n",
    "    for i in range(0,c):\n",
    "        m,n=map(int,p().split())\n",
    "        result[n][m] = 1\n",
    "    v = 0\n",
    "    for i in range(0,x):\n",
    "        for j in range(0, y):\n",
    "            if result[j][i] == 1:\n",
    "                T(result, i, j);v+=1\n",
    "    print(v)\n"
   ]
  },
  {
   "cell_type": "code",
   "execution_count": null,
   "metadata": {},
   "outputs": [],
   "source": []
  },
  {
   "cell_type": "markdown",
   "metadata": {},
   "source": [
    "# 코드\n",
    "- 21.10 다시 풂"
   ]
  },
  {
   "cell_type": "code",
   "execution_count": null,
   "metadata": {},
   "outputs": [],
   "source": [
    "# 29452 KB, 92 ms\n",
    "import sys\n",
    "input = sys.stdin.readline\n",
    "def check(x, y):\n",
    "    if arr[x][y] == 0 : return False\n",
    "    to_do = [[x,y]]\n",
    "    while to_do:\n",
    "        a, b = to_do.pop()\n",
    "        arr[a][b] = 0\n",
    "        for na, nb in [(a+1,b), (a-1,b), (a,b+1), (a,b-1)]:\n",
    "            if 0<= na < M and 0 <= nb < N and arr[na][nb] == 1:\n",
    "                to_do.append([na,nb])\n",
    "    return True\n",
    "\n",
    "T = int(input())\n",
    "for _ in range(T):\n",
    "    M, N , num = map(int, input().split())\n",
    "    arr = [[0 for _ in range(N)] for _ in range(M)]\n",
    "    for _ in range(num):\n",
    "        x, y = map(int, input().split())\n",
    "        arr[x][y] = 1\n",
    "\n",
    "    cnt = 0\n",
    "    for n_x in range(M):\n",
    "        for n_y in range(N):\n",
    "            if check(n_x, n_y): cnt += 1\n",
    "    print(cnt)"
   ]
  }
 ],
 "metadata": {
  "kernelspec": {
   "display_name": "Python 3",
   "language": "python",
   "name": "python3"
  },
  "language_info": {
   "codemirror_mode": {
    "name": "ipython",
    "version": 3
   },
   "file_extension": ".py",
   "mimetype": "text/x-python",
   "name": "python",
   "nbconvert_exporter": "python",
   "pygments_lexer": "ipython3",
   "version": "3.8.8"
  },
  "toc": {
   "base_numbering": 1,
   "nav_menu": {},
   "number_sections": true,
   "sideBar": true,
   "skip_h1_title": false,
   "title_cell": "Table of Contents",
   "title_sidebar": "Contents",
   "toc_cell": false,
   "toc_position": {},
   "toc_section_display": true,
   "toc_window_display": true
  }
 },
 "nbformat": 4,
 "nbformat_minor": 4
}
