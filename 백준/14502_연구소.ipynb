{
 "cells": [
  {
   "cell_type": "code",
   "execution_count": 2,
   "metadata": {},
   "outputs": [],
   "source": [
    "# 31544 KB, 6192 ms\n",
    "from itertools import combinations\n",
    "import copy\n",
    "N, M = map(int, input().split())\n",
    "arr = []\n",
    "bin_list = []\n",
    "virus = []\n",
    "for i in range(N):\n",
    "    temp = []\n",
    "    for j, val in enumerate(map(int, input().split())):\n",
    "        temp.append(val)\n",
    "        if val == 0: bin_list.append([i,j])\n",
    "        elif val == 2 : virus.append([i,j])\n",
    "    arr.append(temp)\n",
    "\n",
    "answer = 0\n",
    "for new_walls in list(combinations(bin_list, 3)):\n",
    "    to_do = virus.copy()\n",
    "    visited = copy.deepcopy(arr)\n",
    "\n",
    "    safe_area = len(bin_list) - 3\n",
    "    while to_do:\n",
    "        x, y = to_do.pop()\n",
    "        for nx, ny in [[x+1,y], [x-1,y], [x,y+1], [x,y-1]]:\n",
    "            if 0 <= nx < N and 0 <= ny < M and visited[nx][ny] == 0 and [nx,ny] not in new_walls :\n",
    "                safe_area -= 1\n",
    "                to_do.append([nx,ny])\n",
    "                visited[nx][ny] = 2\n",
    "    answer = max(answer, safe_area)\n",
    "    "
   ]
  },
  {
   "cell_type": "code",
   "execution_count": null,
   "metadata": {},
   "outputs": [],
   "source": [
    "# 31544\tKB, 4040 ms\n",
    "from itertools import combinations\n",
    "import copy, sys\n",
    "# input = sys.stdin.readline\n",
    "def BOJ_14502(to_do, visited):\n",
    "    safe_area = len(bin_list) - 3\n",
    "    while to_do:\n",
    "        x, y = to_do.pop()\n",
    "        for nx, ny in [[x+1,y], [x-1,y], [x,y+1], [x,y-1]]:\n",
    "            if 0 <= nx < N and 0 <= ny < M and visited[nx][ny] == 0 :\n",
    "                safe_area -= 1\n",
    "                to_do.append([nx,ny])\n",
    "                visited[nx][ny] = 2\n",
    "    return safe_area\n",
    "\n",
    "N, M = map(int, input().split())\n",
    "arr = []\n",
    "bin_list = []\n",
    "virus = []\n",
    "for i in range(N):\n",
    "    temp = []\n",
    "    for j, val in enumerate(map(int, input().split())):\n",
    "        temp.append(val)\n",
    "        if val == 0: bin_list.append([i,j])\n",
    "        elif val == 2 : virus.append([i,j])\n",
    "    arr.append(temp)\n",
    "\n",
    "answer = 0\n",
    "for new_walls in list(combinations(bin_list, 3)):\n",
    "    to_do = virus.copy()\n",
    "    visited = copy.deepcopy(arr)\n",
    "    for a, b in new_walls:\n",
    "        visited[a][b] = 1\n",
    "    answer = max(answer, BOJ_14502(to_do, visited))\n",
    "print(answer)"
   ]
  }
 ],
 "metadata": {
  "interpreter": {
   "hash": "9652531e86fbc99dfe7fc5092eb81081a97fad237de3d1fd3b3a0d1c69c61538"
  },
  "kernelspec": {
   "display_name": "Python 3.9.7 64-bit ('ox': conda)",
   "language": "python",
   "name": "python3"
  },
  "language_info": {
   "codemirror_mode": {
    "name": "ipython",
    "version": 3
   },
   "file_extension": ".py",
   "mimetype": "text/x-python",
   "name": "python",
   "nbconvert_exporter": "python",
   "pygments_lexer": "ipython3",
   "version": "3.9.7"
  },
  "orig_nbformat": 4
 },
 "nbformat": 4,
 "nbformat_minor": 2
}
