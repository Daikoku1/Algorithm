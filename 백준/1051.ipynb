{
 "cells": [
  {
   "cell_type": "markdown",
   "metadata": {},
   "source": [
    "# 코드\n",
    "- 22.02 풀이"
   ]
  },
  {
   "cell_type": "code",
   "execution_count": 25,
   "metadata": {},
   "outputs": [
    {
     "name": "stdout",
     "output_type": "stream",
     "text": [
      "1\n"
     ]
    }
   ],
   "source": [
    "# 30864\tKB, 92 ms\n",
    "import sys\n",
    "input = sys.stdin.readline\n",
    "N, M = map(int, input().split())\n",
    "arr = []\n",
    "for _ in range(N):\n",
    "    arr.append(list(input().strip()))\n",
    "\n",
    "answer = 1\n",
    "for x in range(N):\n",
    "    for y in range(M):\n",
    "        nx, ny = x + 1, y + 1\n",
    "        temp = 1\n",
    "        while nx < N and ny < M:\n",
    "            if arr[nx][y] == arr[x][y] == arr[x][ny] == arr[nx][ny]:\n",
    "                temp = (nx-x+1)**2\n",
    "            nx += 1\n",
    "            ny += 1\n",
    "        answer = max(answer, temp)\n",
    "print(answer)"
   ]
  },
  {
   "cell_type": "code",
   "execution_count": null,
   "metadata": {},
   "outputs": [],
   "source": [
    "# 30864\tKB, 76 ms\n",
    "import sys\n",
    "input = sys.stdin.readline\n",
    "N, M = map(int, input().split())\n",
    "arr = []\n",
    "for _ in range(N):\n",
    "    arr.append(list(input().strip()))\n",
    "\n",
    "answer = 1\n",
    "for x in range(N):\n",
    "    for y in range(M):\n",
    "        for l in range(min(N-x-1, M-y-1), 0, -1):\n",
    "            if arr[x][y] == arr[x+l][y] == arr[x][y+l] == arr[x+l][y+l]:\n",
    "                answer = max((l+1)**2, answer)\n",
    "                break\n",
    "print(answer)"
   ]
  }
 ],
 "metadata": {
  "interpreter": {
   "hash": "9652531e86fbc99dfe7fc5092eb81081a97fad237de3d1fd3b3a0d1c69c61538"
  },
  "kernelspec": {
   "display_name": "Python 3.9.7 64-bit ('ox': conda)",
   "language": "python",
   "name": "python3"
  },
  "language_info": {
   "codemirror_mode": {
    "name": "ipython",
    "version": 3
   },
   "file_extension": ".py",
   "mimetype": "text/x-python",
   "name": "python",
   "nbconvert_exporter": "python",
   "pygments_lexer": "ipython3",
   "version": "3.9.7"
  },
  "orig_nbformat": 4
 },
 "nbformat": 4,
 "nbformat_minor": 2
}
