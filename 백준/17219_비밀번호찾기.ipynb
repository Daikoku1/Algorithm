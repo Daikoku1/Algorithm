{
 "cells": [
  {
   "cell_type": "code",
   "execution_count": 2,
   "metadata": {},
   "outputs": [
    {
     "name": "stdout",
     "output_type": "stream",
     "text": [
      "4 2\n",
      "noj.am IU\n",
      "acmicpc.net UAENA\n",
      "startlink.io THEKINGOD\n",
      "google.com ZEZE\n",
      "startlink.io\n",
      "THEKINGOD\n",
      "google.com\n",
      "ZEZE\n"
     ]
    }
   ],
   "source": [
    "# Time = 256 ms\n",
    "# Memory = 48748 KB\n",
    "import sys\n",
    "input = sys.stdin.readline\n",
    "N, M = map(int, input().split())\n",
    "dic = {}\n",
    "for _ in range(N):\n",
    "    s, p = input().split()\n",
    "    dic[s] = p\n",
    "for _ in range(M):\n",
    "    print(dic[input().strip()])"
   ]
  },
  {
   "cell_type": "code",
   "execution_count": null,
   "metadata": {},
   "outputs": [],
   "source": [
    "4 2\n",
    "noj.am IU\n",
    "acmicpc.net UAENA\n",
    "startlink.io THEKINGOD\n",
    "google.com ZEZE\n",
    "startlink.io\n",
    "google.com"
   ]
  }
 ],
 "metadata": {
  "kernelspec": {
   "display_name": "Python 3",
   "language": "python",
   "name": "python3"
  },
  "language_info": {
   "codemirror_mode": {
    "name": "ipython",
    "version": 3
   },
   "file_extension": ".py",
   "mimetype": "text/x-python",
   "name": "python",
   "nbconvert_exporter": "python",
   "pygments_lexer": "ipython3",
   "version": "3.8.3"
  },
  "toc": {
   "base_numbering": 1,
   "nav_menu": {},
   "number_sections": true,
   "sideBar": true,
   "skip_h1_title": false,
   "title_cell": "Table of Contents",
   "title_sidebar": "Contents",
   "toc_cell": false,
   "toc_position": {},
   "toc_section_display": true,
   "toc_window_display": true
  }
 },
 "nbformat": 4,
 "nbformat_minor": 4
}
