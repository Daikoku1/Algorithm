{
 "cells": [
  {
   "cell_type": "markdown",
   "id": "357c11f5",
   "metadata": {},
   "source": [
    "# 코드\n",
    "- 리스트 차원을 하나 줄이려고 시도함\n",
    "- 대체 왜 안될까....\n",
    "- 문제점 발견\n",
    "    - 점프 뛰는게 문제가 아니라 오히려 양옆으로 이동하는게 문제\n",
    "    - 양옆으로 움직일 때, 층이 나눠져 있음에도 층을 고려하지 않아서 옆으로 인식\n",
    "- 문제 해결. 근데 메모리 효율성이 왜 더 나빠지냐.."
   ]
  },
  {
   "cell_type": "code",
   "execution_count": 3,
   "id": "404f10b2",
   "metadata": {},
   "outputs": [
    {
     "name": "stdout",
     "output_type": "stream",
     "text": [
      "5 3 2\n",
      "-------\n",
      "0\n",
      "0 0 0 0 0\n",
      "-------\n",
      "1\n",
      "0 0 0 0 0\n",
      "-------\n",
      "2\n",
      "0 0 0 0 0\n",
      "-------\n",
      "3\n",
      "0 0 0 0 0\n",
      "-------\n",
      "4\n",
      "0 0 1 0 0\n",
      "-------\n",
      "5\n",
      "0 0 0 0 0\n",
      "[[0, 0, 0, 0, 0], [0, 0, 1, 0, 0], [0, 0, 0, 0, 0], [0, 0, 1, 0, 0], [0, 1, 1, 1, 0], [0, 0, 1, 0, 0]]\n",
      "[[0, 0, 1, 0, 0], [0, 1, 1, 1, 0], [0, 0, 1, 0, 0], [0, 1, 1, 1, 0], [1, 1, 1, 1, 1], [0, 1, 1, 1, 0]]\n",
      "[[0, 1, 1, 1, 0], [1, 1, 1, 1, 1], [0, 1, 1, 1, 0], [1, 1, 1, 1, 1], [1, 1, 1, 1, 1], [1, 1, 1, 1, 1]]\n",
      "[[1, 1, 1, 1, 1], [1, 1, 1, 1, 1], [1, 1, 1, 1, 1], [1, 1, 1, 1, 1], [1, 1, 1, 1, 1], [1, 1, 1, 1, 1]]\n",
      "4\n"
     ]
    }
   ],
   "source": [
    "# 52072 KB, 2640 ms\n",
    "import sys\n",
    "from collections import deque\n",
    "input = sys.stdin.readline\n",
    "\n",
    "def BOJ_7569(M,N,H):\n",
    "    arr = []\n",
    "    non_grow = 0\n",
    "    grown = deque()\n",
    "    for n in range(N*H):\n",
    "        arr.append(list(map(int, input().split())))\n",
    "        for m, val in enumerate(arr[-1]):\n",
    "            if val == 1: grown.append((n,m))\n",
    "            elif val == 0 : non_grow += 1\n",
    "    \n",
    "    day = 0\n",
    "    while non_grow:\n",
    "        if not grown : return -1\n",
    "        day += 1\n",
    "        for _ in range(len(grown)):\n",
    "            x, y = grown.popleft()\n",
    "            for n_x, n_y in [(x+1, y), (x-1, y)]:\n",
    "                if 0<= n_x < N*H and 0 <= n_y < M and n_x//N == x//N and arr[n_x][n_y] == 0:\n",
    "                    grown.append((n_x, n_y))\n",
    "                    arr[n_x][n_y] = 1\n",
    "                    non_grow -= 1\n",
    "            for n_x2, n_y2 in [(x, y+1), (x, y-1), (x+N, y), (x-N, y)]:\n",
    "                if 0<= n_x2 < N*H and 0 <= n_y2 < M and arr[n_x2][n_y2] == 0:\n",
    "                    grown.append((n_x2, n_y2))\n",
    "                    arr[n_x2][n_y2] = 1\n",
    "                    non_grow -= 1\n",
    "    return day\n",
    "\n",
    "M, N, H = map(int, input().split())\n",
    "print(BOJ_7569(M,N,H))\n",
    "               "
   ]
  },
  {
   "cell_type": "code",
   "execution_count": null,
   "id": "b00b4a6c",
   "metadata": {},
   "outputs": [],
   "source": [
    "5 3 2\n",
    "0 0 0 0 0\n",
    "0 0 0 0 0\n",
    "0 0 0 0 0\n",
    "0 0 0 0 0\n",
    "0 0 1 0 0\n",
    "0 0 0 0 0"
   ]
  },
  {
   "cell_type": "code",
   "execution_count": null,
   "id": "582aad0e",
   "metadata": {},
   "outputs": [],
   "source": [
    "M, N , H = map(int, input().split())\n",
    "print(BOJ_7569(M,N,H))"
   ]
  },
  {
   "cell_type": "code",
   "execution_count": null,
   "id": "bb032bc4",
   "metadata": {
    "scrolled": true
   },
   "outputs": [],
   "source": [
    "M, N , H = map(int, input().split())\n",
    "print(BOJ_7569(M,N,H))"
   ]
  },
  {
   "cell_type": "markdown",
   "id": "7721fb35",
   "metadata": {},
   "source": [
    "# 성공코드\n",
    "- 3중 리스트 만들어서 성공 - 기본코드\n",
    "- 48480 KB, 2524 ms"
   ]
  },
  {
   "cell_type": "code",
   "execution_count": null,
   "id": "813ac864",
   "metadata": {},
   "outputs": [],
   "source": [
    "# 48480 KB, 2524 ms\n",
    "import sys\n",
    "from collections import deque\n",
    "input = sys.stdin.readline\n",
    "def BOJ_7569(M,N,H):\n",
    "    arr = []\n",
    "    non_grow = 0\n",
    "    grown = deque()\n",
    "    for h in range(H):\n",
    "        temp = []\n",
    "        for n in range(N):\n",
    "            temp.append(list(map(int, input().split())))\n",
    "            for m, val in enumerate(temp[-1]):\n",
    "                if val == 1: grown.append((h,n,m))\n",
    "                elif val == 0 : non_grow += 1\n",
    "        arr.append(temp)\n",
    "    \n",
    "    day = 0\n",
    "    while non_grow:\n",
    "        if not grown : return -1\n",
    "        day += 1\n",
    "        for _ in range(len(grown)):\n",
    "            x, y, z = grown.popleft()\n",
    "            for n_x, n_y, n_z in [(x+1, y, z), (x-1, y, z), (x, y+1, z), (x, y-1, z), (x, y, z+1), (x, y, z-1)]:\n",
    "                if 0<= n_x < H and 0 <= n_y < N and 0<= n_z < M and arr[n_x][n_y][n_z] == 0:\n",
    "                    grown.append((n_x, n_y, n_z))\n",
    "                    arr[n_x][n_y][n_z] = 1\n",
    "                    non_grow -= 1\n",
    "        print(arr)\n",
    "    return day\n",
    "\n",
    "# input = sys.stdin.readline\n",
    "M, N, H = map(int, input().split())\n",
    "print(BOJ_7569(M,N,H))"
   ]
  },
  {
   "cell_type": "code",
   "execution_count": null,
   "id": "c4d4be24",
   "metadata": {},
   "outputs": [],
   "source": [
    "5 3 2\n",
    "0 0 0 0 0\n",
    "0 0 0 0 0\n",
    "0 0 0 0 0\n",
    "0 0 0 0 0\n",
    "0 0 1 0 0\n",
    "0 0 0 0 0"
   ]
  }
 ],
 "metadata": {
  "kernelspec": {
   "display_name": "Python 3",
   "language": "python",
   "name": "python3"
  }
 },
 "nbformat": 4,
 "nbformat_minor": 5
}
