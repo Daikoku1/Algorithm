{
 "cells": [
  {
   "cell_type": "code",
   "execution_count": 2,
   "metadata": {},
   "outputs": [
    {
     "name": "stdout",
     "output_type": "stream",
     "text": [
      "7\n",
      "0110100\n",
      "0110101\n",
      "1110101\n",
      "0000111\n",
      "0100000\n",
      "0111110\n",
      "0111000\n",
      "3\n",
      "8\n",
      "9\n",
      "10\n"
     ]
    }
   ],
   "source": [
    "# Time = 64 ms\n",
    "# Memory = 28776 KB\n",
    "import sys\n",
    "input = sys.stdin.readline\n",
    "T = int(input())\n",
    "arr = [list(input()) for _ in range(T)]\n",
    "\n",
    "result = []\n",
    "for x in range(T):\n",
    "    for y in range(T):\n",
    "        if arr[x][y] == '1':\n",
    "            arr[x][y] = '0'\n",
    "            cnt = 1\n",
    "            to_do = [[x,y]]\n",
    "            while to_do:\n",
    "                i,j = to_do.pop()\n",
    "                if i > 0 and arr[i-1][j] == '1':\n",
    "                    cnt += 1\n",
    "                    to_do.append([i-1,j])\n",
    "                    arr[i-1][j] = '0'\n",
    "                if i < T - 1 and arr[i+1][j] == '1':\n",
    "                    cnt += 1\n",
    "                    to_do.append([i+1,j])\n",
    "                    arr[i+1][j] = '0'\n",
    "                if j > 0 and arr[i][j-1] == '1':\n",
    "                    cnt += 1\n",
    "                    to_do.append([i,j-1])\n",
    "                    arr[i][j-1] = '0'\n",
    "                if j < T - 1 and arr[i][j+1] == '1':\n",
    "                    cnt += 1\n",
    "                    to_do.append([i,j+1])\n",
    "                    arr[i][j+1] = '0'\n",
    "            result.append(cnt)\n",
    "print(len(result))\n",
    "for k in sorted(result):\n",
    "    print(k)"
   ]
  }
 ],
 "metadata": {
  "kernelspec": {
   "display_name": "Python 3",
   "language": "python",
   "name": "python3"
  },
  "language_info": {
   "codemirror_mode": {
    "name": "ipython",
    "version": 3
   },
   "file_extension": ".py",
   "mimetype": "text/x-python",
   "name": "python",
   "nbconvert_exporter": "python",
   "pygments_lexer": "ipython3",
   "version": "3.8.3"
  },
  "toc": {
   "base_numbering": 1,
   "nav_menu": {},
   "number_sections": true,
   "sideBar": true,
   "skip_h1_title": false,
   "title_cell": "Table of Contents",
   "title_sidebar": "Contents",
   "toc_cell": false,
   "toc_position": {},
   "toc_section_display": true,
   "toc_window_display": true
  }
 },
 "nbformat": 4,
 "nbformat_minor": 4
}
