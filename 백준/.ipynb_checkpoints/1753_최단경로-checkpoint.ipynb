{
 "cells": [
  {
   "cell_type": "code",
   "execution_count": null,
   "metadata": {},
   "outputs": [],
   "source": [
    "5 6\n",
    "1\n",
    "5 1 1\n",
    "1 2 2\n",
    "1 3 3\n",
    "2 3 4\n",
    "2 4 5\n",
    "3 4 6"
   ]
  },
  {
   "cell_type": "code",
   "execution_count": null,
   "metadata": {},
   "outputs": [],
   "source": [
    "import sys\n",
    "from heapq import heappop, heappush\n",
    "# heap queue : w 순으로 queue 노드 정렬 (= priority queue)\n",
    "V, E = map(int, sys.stdin.readline().split())\n",
    "S = int(sys.stdin.readline())\n",
    "graph = [[] for _ in range(V+1)]\n",
    "dijk = [1e9] * (V+1)\n",
    "for _ in range(E):\n",
    "    u, v, w = map(int, sys.stdin.readline().split())\n",
    "    graph[u].append([w, v])\n",
    "\n",
    "def solve_dijk():\n",
    "    queue = []\n",
    "    dijk[S] = 0  # 시작 w = 0\n",
    "    queue.append((0, S))  # 시작 w = 0, v = S\n",
    "    while queue:\n",
    "        w, v = heappop(queue)  # w 기준 오름차순 heap queue\n",
    "        if dijk[v] < w:  # dijk[v]를 처음 진행 or 작은 값만 진행\n",
    "            continue\n",
    "        for nw, nv in graph[v]:\n",
    "            nw += w\n",
    "            if dijk[nv] > nw:  # 이전보다 짧은 경로이면\n",
    "                dijk[nv] = nw  # nv, nw를 채택\n",
    "                heappush(queue, (nw, nv))  # push 하고 이어서 진행\n",
    "\n",
    "solve_dijk()\n",
    "for i in range(1, V+1):\n",
    "    print('{}'.format(dijk[i] if dijk[i] != 1e9 else 'INF'))"
   ]
  }
 ],
 "metadata": {
  "kernelspec": {
   "display_name": "Python 3",
   "language": "python",
   "name": "python3"
  },
  "language_info": {
   "codemirror_mode": {
    "name": "ipython",
    "version": 3
   },
   "file_extension": ".py",
   "mimetype": "text/x-python",
   "name": "python",
   "nbconvert_exporter": "python",
   "pygments_lexer": "ipython3",
   "version": "3.8.3"
  },
  "toc": {
   "base_numbering": 1,
   "nav_menu": {},
   "number_sections": true,
   "sideBar": true,
   "skip_h1_title": false,
   "title_cell": "Table of Contents",
   "title_sidebar": "Contents",
   "toc_cell": false,
   "toc_position": {},
   "toc_section_display": true,
   "toc_window_display": true
  }
 },
 "nbformat": 4,
 "nbformat_minor": 4
}
