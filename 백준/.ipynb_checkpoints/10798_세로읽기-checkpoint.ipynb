{
 "cells": [
  {
   "cell_type": "code",
   "execution_count": 12,
   "metadata": {},
   "outputs": [
    {
     "name": "stdout",
     "output_type": "stream",
     "text": [
      "Aa0aP\n",
      "Af985\n",
      "Bz1Eh\n",
      "Cz2W3\n",
      "D1gk\n",
      "D6x\n"
     ]
    }
   ],
   "source": [
    "a = 'AABCDD'\n",
    "b = 'afzz' \n",
    "c = '09121'\n",
    "d = 'a8EWg6'\n",
    "e = 'P5h3kx'\n",
    "from itertools import zip_longest\n",
    "for q,w,e,r,t in zip_longest(a,b,c,d,e, fillvalue = ''):\n",
    "    print(q+w+e+r+t)"
   ]
  },
  {
   "cell_type": "code",
   "execution_count": null,
   "metadata": {},
   "outputs": [
    {
     "name": "stdout",
     "output_type": "stream",
     "text": [
      "Aa0aP\n",
      "Af985\n",
      "Bz1Eh\n",
      "D6x\n",
      "\n",
      "\n",
      "\n",
      "a\n",
      " \n",
      "                 \n"
     ]
    }
   ],
   "source": [
    "from itertools import zip_longest\n",
    "li = []\n",
    "while True:\n",
    "    try:\n",
    "        li.append(input())\n",
    "    except:\n",
    "        break\n",
    "for *args in zip_longest(*li, fillvalue = ''):\n",
    "    print(args)"
   ]
  },
  {
   "cell_type": "code",
   "execution_count": 11,
   "metadata": {},
   "outputs": [
    {
     "name": "stdout",
     "output_type": "stream",
     "text": [
      "Aa0aP\n",
      "Af985\n",
      "Bz1Eh\n",
      "Cz2W3\n",
      "D1gk\n",
      "D6x\n"
     ]
    }
   ],
   "source": [
    "for q,w,e,r,t in zip_longest(*li, fillvalue = ''):\n",
    "    print(q+w+e+r+t)"
   ]
  },
  {
   "cell_type": "code",
   "execution_count": null,
   "metadata": {},
   "outputs": [],
   "source": []
  }
 ],
 "metadata": {
  "kernelspec": {
   "display_name": "Python 3",
   "language": "python",
   "name": "python3"
  },
  "language_info": {
   "codemirror_mode": {
    "name": "ipython",
    "version": 3
   },
   "file_extension": ".py",
   "mimetype": "text/x-python",
   "name": "python",
   "nbconvert_exporter": "python",
   "pygments_lexer": "ipython3",
   "version": "3.8.5"
  }
 },
 "nbformat": 4,
 "nbformat_minor": 4
}
