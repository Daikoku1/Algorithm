{
 "cells": [
  {
   "cell_type": "code",
   "execution_count": 2,
   "metadata": {},
   "outputs": [
    {
     "name": "stdout",
     "output_type": "stream",
     "text": [
      "3\n",
      "2 2\n",
      "1\n",
      "1 5\n",
      "5.0\n",
      "13 29\n",
      "67863915.0\n"
     ]
    }
   ],
   "source": [
    "# Time = 64 ms\n",
    "# Memory = 28776 KB\n",
    "T = int(input())\n",
    "for _ in range(T):\n",
    "    x, y = map(int, input().split())\n",
    "    min_x, max_x = min(x, y-x), max(x, y-x)\n",
    "    answer = 1\n",
    "    for i in range(min_x):\n",
    "        answer *= (y-i)\n",
    "    for i in range(min_x):\n",
    "        answer /= (min_x -i)\n",
    "    print(int(answer))"
   ]
  }
 ],
 "metadata": {
  "kernelspec": {
   "display_name": "Python 3",
   "language": "python",
   "name": "python3"
  },
  "language_info": {
   "codemirror_mode": {
    "name": "ipython",
    "version": 3
   },
   "file_extension": ".py",
   "mimetype": "text/x-python",
   "name": "python",
   "nbconvert_exporter": "python",
   "pygments_lexer": "ipython3",
   "version": "3.8.3"
  },
  "toc": {
   "base_numbering": 1,
   "nav_menu": {},
   "number_sections": true,
   "sideBar": true,
   "skip_h1_title": false,
   "title_cell": "Table of Contents",
   "title_sidebar": "Contents",
   "toc_cell": false,
   "toc_position": {},
   "toc_section_display": true,
   "toc_window_display": true
  }
 },
 "nbformat": 4,
 "nbformat_minor": 4
}
