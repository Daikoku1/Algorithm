{
 "cells": [
  {
   "cell_type": "code",
   "execution_count": 3,
   "id": "363dfec0",
   "metadata": {},
   "outputs": [
    {
     "name": "stdout",
     "output_type": "stream",
     "text": [
      "5\n",
      "    *\n",
      "   **\n",
      "  ***\n",
      " ****\n",
      "*****\n"
     ]
    }
   ],
   "source": [
    "# 29200 KB, 72 ms\n",
    "N = int(input())\n",
    "s = ''\n",
    "for _ in range(N):\n",
    "    s += '*'\n",
    "    print(s.rjust(N))"
   ]
  },
  {
   "cell_type": "code",
   "execution_count": 2,
   "id": "9f9d5bd0",
   "metadata": {},
   "outputs": [
    {
     "data": {
      "text/plain": [
       "'    1'"
      ]
     },
     "execution_count": 2,
     "metadata": {},
     "output_type": "execute_result"
    }
   ],
   "source": [
    "a.rjust(5)"
   ]
  },
  {
   "cell_type": "code",
   "execution_count": null,
   "id": "61dc97dd",
   "metadata": {},
   "outputs": [],
   "source": []
  }
 ],
 "metadata": {
  "kernelspec": {
   "display_name": "Python 3",
   "language": "python",
   "name": "python3"
  },
  "language_info": {
   "codemirror_mode": {
    "name": "ipython",
    "version": 3
   },
   "file_extension": ".py",
   "mimetype": "text/x-python",
   "name": "python",
   "nbconvert_exporter": "python",
   "pygments_lexer": "ipython3",
   "version": "3.8.8"
  }
 },
 "nbformat": 4,
 "nbformat_minor": 5
}
