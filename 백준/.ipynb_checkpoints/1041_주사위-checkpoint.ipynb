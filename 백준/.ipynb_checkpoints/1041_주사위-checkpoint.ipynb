{
 "cells": [
  {
   "cell_type": "code",
   "execution_count": 5,
   "metadata": {},
   "outputs": [
    {
     "name": "stdout",
     "output_type": "stream",
     "text": [
      "1000000\n",
      "50 50 50 50 50 50\n",
      "50 100 150\n",
      "600\n",
      "799999400\n",
      "250000000000000\n"
     ]
    }
   ],
   "source": [
    "# Time = 64 ms\n",
    "# Memory = 28776 KB\n",
    "T = int(input())\n",
    "arr = list(map(int, input().split()))\n",
    "if T == 1:print(sum(arr) - max(arr))\n",
    "else:\n",
    "    h2 = [[0,1],[0,2],[0,3],[0,4],\n",
    "          [1,2],[1,3],[1,5],[2,4],\n",
    "          [2,5],[3,4],[3,5],[4,5]]\n",
    "    h3 = [[0,1,2],[0,1,3],[0,2,4],[0,3,4],\n",
    "          [1,2,5],[1,5,3],[2,4,5],[3,4,5]]\n",
    "    \n",
    "    min1 = min(arr)\n",
    "    min2, min3 = 150, 150\n",
    "    for x, y in h2:\n",
    "        min2 = min(min2, arr[x]+arr[y])\n",
    "    for x, y, z in h3:\n",
    "        min3 = min(min3, arr[x]+arr[y]+arr[z])\n",
    "    \n",
    "    print(min1, min2, min3)\n",
    "    # 3면이 나온 부분 == 4 꼭지점\n",
    "    ans = min3 * 4\n",
    "    print(ans)\n",
    "    # 두면만 나온 부분\n",
    "    #   사이드   +  탑\n",
    "    # (T-1) * 4 + (T - 2) * 4 = 8 * T - 12\n",
    "    ans += min2 * (8*T - 12)\n",
    "    print(ans)\n",
    "    # 한면만 나온 부분\n",
    "    #    사이드     +      탑\n",
    "    # (T-1)*(T-2)*4 + (T-2)*(T - 2) = (T-2) * (5*T - 6)\n",
    "    ans += min1 * (T-2)*(5*T - 6)\n",
    "    print(ans)"
   ]
  },
  {
   "cell_type": "code",
   "execution_count": 6,
   "metadata": {},
   "outputs": [
    {
     "data": {
      "text/plain": [
       "True"
      ]
     },
     "execution_count": 6,
     "metadata": {},
     "output_type": "execute_result"
    }
   ],
   "source": [
    "250000000000000 == 250000000000000"
   ]
  },
  {
   "cell_type": "code",
   "execution_count": null,
   "metadata": {},
   "outputs": [],
   "source": []
  }
 ],
 "metadata": {
  "kernelspec": {
   "display_name": "Python 3",
   "language": "python",
   "name": "python3"
  },
  "language_info": {
   "codemirror_mode": {
    "name": "ipython",
    "version": 3
   },
   "file_extension": ".py",
   "mimetype": "text/x-python",
   "name": "python",
   "nbconvert_exporter": "python",
   "pygments_lexer": "ipython3",
   "version": "3.8.3"
  },
  "toc": {
   "base_numbering": 1,
   "nav_menu": {},
   "number_sections": true,
   "sideBar": true,
   "skip_h1_title": false,
   "title_cell": "Table of Contents",
   "title_sidebar": "Contents",
   "toc_cell": false,
   "toc_position": {},
   "toc_section_display": true,
   "toc_window_display": true
  }
 },
 "nbformat": 4,
 "nbformat_minor": 4
}
