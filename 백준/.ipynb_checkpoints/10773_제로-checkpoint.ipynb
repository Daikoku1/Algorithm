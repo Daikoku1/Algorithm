{
 "cells": [
  {
   "cell_type": "code",
   "execution_count": null,
   "metadata": {},
   "outputs": [],
   "source": [
    "# Time = 112 ms\n",
    "# Memory = 29856 KB\n",
    "import sys\n",
    "input = sys.stdin.readline\n",
    "N = int(intput())\n",
    "array = []\n",
    "for _ in range(N):\n",
    "    num = int(input())\n",
    "    if num == 0:\n",
    "        array.pop()\n",
    "    else:\n",
    "        array.append(num)\n",
    "print(sum(array))"
   ]
  },
  {
   "cell_type": "markdown",
   "metadata": {},
   "source": [
    "# 코드\n",
    "- 21.10 다시 풂"
   ]
  },
  {
   "cell_type": "code",
   "execution_count": null,
   "metadata": {},
   "outputs": [],
   "source": [
    "# 29980 KB, 104 ms\n",
    "import sys\n",
    "input = sys.stdin.readline\n",
    "T = int(input())\n",
    "ans = []\n",
    "for _ in range(T):\n",
    "    num = int(input())\n",
    "    if num: ans.append(num)\n",
    "    elif ans : ans.pop()\n",
    "\n",
    "print(sum(ans))"
   ]
  }
 ],
 "metadata": {
  "kernelspec": {
   "display_name": "Python 3",
   "language": "python",
   "name": "python3"
  },
  "language_info": {
   "codemirror_mode": {
    "name": "ipython",
    "version": 3
   },
   "file_extension": ".py",
   "mimetype": "text/x-python",
   "name": "python",
   "nbconvert_exporter": "python",
   "pygments_lexer": "ipython3",
   "version": "3.8.3"
  },
  "toc": {
   "base_numbering": 1,
   "nav_menu": {},
   "number_sections": true,
   "sideBar": true,
   "skip_h1_title": false,
   "title_cell": "Table of Contents",
   "title_sidebar": "Contents",
   "toc_cell": false,
   "toc_position": {},
   "toc_section_display": true,
   "toc_window_display": true
  }
 },
 "nbformat": 4,
 "nbformat_minor": 4
}
