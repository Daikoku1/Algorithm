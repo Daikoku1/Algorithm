{
 "cells": [
  {
   "cell_type": "code",
   "execution_count": null,
   "metadata": {},
   "outputs": [],
   "source": [
    "# Time = 76 ms\n",
    "# Memory = 29088 KB\n",
    "N = input()\n",
    "l = len(N)\n",
    "dic = {i : 0 for i in range(0, 10)}\n",
    "dic[0] -= 10**(l - 1)\n",
    "for idx, val in enumerate(N):\n",
    "    back_n = int(N[idx+1:]) + 1 if idx != l-1 else 1\n",
    "    for i in range(int(val)):dic[i] += 10**(l - 1 - idx)\n",
    "    dic[int(val)] += back_n\n",
    "\n",
    "    if idx != 0:\n",
    "        prev_n = int(N[:idx])\n",
    "        for j in range(10) : dic[j] += prev_n * 10**(l-1-idx)\n",
    "        dic[0] -= 10**(l-1-idx)\n",
    "print(*dic.values())"
   ]
  }
 ],
 "metadata": {
  "kernelspec": {
   "display_name": "Python 3",
   "language": "python",
   "name": "python3"
  },
  "language_info": {
   "codemirror_mode": {
    "name": "ipython",
    "version": 3
   },
   "file_extension": ".py",
   "mimetype": "text/x-python",
   "name": "python",
   "nbconvert_exporter": "python",
   "pygments_lexer": "ipython3",
   "version": "3.8.3"
  },
  "toc": {
   "base_numbering": 1,
   "nav_menu": {},
   "number_sections": true,
   "sideBar": true,
   "skip_h1_title": false,
   "title_cell": "Table of Contents",
   "title_sidebar": "Contents",
   "toc_cell": false,
   "toc_position": {},
   "toc_section_display": true,
   "toc_window_display": true
  }
 },
 "nbformat": 4,
 "nbformat_minor": 4
}
