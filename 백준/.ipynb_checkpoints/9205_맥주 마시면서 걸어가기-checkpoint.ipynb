{
 "cells": [
  {
   "cell_type": "code",
   "execution_count": 3,
   "metadata": {},
   "outputs": [
    {
     "name": "stdout",
     "output_type": "stream",
     "text": [
      "2\n",
      "2\n",
      "0 0\n",
      "1000 0\n",
      "1000 1000\n",
      "2000 1000\n",
      "happy\n",
      "2\n",
      "0 0\n",
      "1000 0\n",
      "2000 1000\n",
      "2000 2000\n",
      "sad\n"
     ]
    }
   ],
   "source": [
    "# Time : 100 ms\n",
    "# Memory = 32716 KB\n",
    "from collections import deque\n",
    "T = int(input())\n",
    "for _ in range(T):\n",
    "    arrival = False\n",
    "    N = int(input())\n",
    "    s_x, s_y = map(int, input().split())\n",
    "    done = [0] * (N+1)\n",
    "    arr = []\n",
    "    for i in range(N+1):\n",
    "        x, y = map(int, input().split())\n",
    "        arr.append([x,y,i])\n",
    "    \n",
    "    to_do = [[s_x, s_y, -1]]\n",
    "    while to_do:\n",
    "        n_x, n_y, idx = to_do.pop()\n",
    "        if idx == N:\n",
    "            arrival = True\n",
    "            break\n",
    "        for a, b, jdx in arr:\n",
    "            if done[jdx] == 0 and abs(n_x - a) + abs(n_y - b) <= 1000:\n",
    "                done[jdx] = 1\n",
    "                to_do.append([a,b, jdx])\n",
    "    if arrival:print('happy')\n",
    "    else:print('sad')"
   ]
  },
  {
   "cell_type": "code",
   "execution_count": null,
   "metadata": {},
   "outputs": [],
   "source": [
    "# Time = 100 ms\n",
    "# Memory = 31784 KB\n",
    "from collections import deque\n",
    "import sys\n",
    "input = sys.stdin.readline\n",
    "T = int(input())\n",
    "for _ in range(T):\n",
    "    arrival = False\n",
    "    N = int(input())\n",
    "    s_x, s_y = map(int, input().split())\n",
    "    done = [0] * (N+1)\n",
    "    arr = []\n",
    "    for i in range(N+1):\n",
    "        x, y = map(int, input().split())\n",
    "        arr.append([x,y])\n",
    "    \n",
    "    to_do = [[s_x, s_y]]\n",
    "    e_x, e_y = arr[-1]\n",
    "    while to_do:\n",
    "        n_x, n_y = to_do.pop()\n",
    "        if n_x == e_x and n_y == e_y::\n",
    "            arrival = True\n",
    "            break\n",
    "        for idx, a, b in enumerate(arr):\n",
    "            if done[idx] == 0 and abs(n_x - a) + abs(n_y - b) <= 1000:\n",
    "                done[idx] = 1\n",
    "                to_do.append([a,b])\n",
    "    if arrival:print('happy')\n",
    "    else:print('sad')"
   ]
  }
 ],
 "metadata": {
  "kernelspec": {
   "display_name": "Python 3",
   "language": "python",
   "name": "python3"
  },
  "language_info": {
   "codemirror_mode": {
    "name": "ipython",
    "version": 3
   },
   "file_extension": ".py",
   "mimetype": "text/x-python",
   "name": "python",
   "nbconvert_exporter": "python",
   "pygments_lexer": "ipython3",
   "version": "3.8.3"
  },
  "toc": {
   "base_numbering": 1,
   "nav_menu": {},
   "number_sections": true,
   "sideBar": true,
   "skip_h1_title": false,
   "title_cell": "Table of Contents",
   "title_sidebar": "Contents",
   "toc_cell": false,
   "toc_position": {},
   "toc_section_display": true,
   "toc_window_display": true
  }
 },
 "nbformat": 4,
 "nbformat_minor": 4
}
