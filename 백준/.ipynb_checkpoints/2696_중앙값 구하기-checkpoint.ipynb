{
 "cells": [
  {
   "cell_type": "markdown",
   "metadata": {},
   "source": [
    "# Sol1"
   ]
  },
  {
   "cell_type": "code",
   "execution_count": 18,
   "metadata": {},
   "outputs": [
    {
     "ename": "SyntaxError",
     "evalue": "invalid syntax (<ipython-input-18-63b956989fab>, line 1)",
     "output_type": "error",
     "traceback": [
      "\u001b[0;36m  File \u001b[0;32m\"<ipython-input-18-63b956989fab>\"\u001b[0;36m, line \u001b[0;32m1\u001b[0m\n\u001b[0;31m    1 2 3 4 5\u001b[0m\n\u001b[0m      ^\u001b[0m\n\u001b[0;31mSyntaxError\u001b[0m\u001b[0;31m:\u001b[0m invalid syntax\n"
     ]
    }
   ],
   "source": [
    "# Time = 84 ms\n",
    "# Memory = 31404 KB\n",
    "import sys\n",
    "import bisect\n",
    "input = sys.stdin.readline\n",
    "def check(li):\n",
    "    answer = [li[0]]\n",
    "    now = [li[0]]\n",
    "    for idx, val in enumerate(li[1:], 1):\n",
    "        bisect.insort(now, val)\n",
    "        if idx % 2 == 0:\n",
    "            answer.append(now[idx//2])\n",
    "    print(len(answer))\n",
    "    idx = 0\n",
    "    for _ in range(len(answer) // 10):\n",
    "        print(*answer[idx:idx+10])\n",
    "        idx += 10\n",
    "    print(*answer[idx:])\n",
    "\n",
    "N = int(input())\n",
    "for _ in range(N):\n",
    "    q, r = divmod(int(input()), 10)\n",
    "    li = []\n",
    "    if r == 0:\n",
    "        for _ in range(q):\n",
    "            li.extend(list(map(int, input().split())))\n",
    "    else:\n",
    "        for _ in range(q+1):\n",
    "            li.extend(list(map(int, input().split())))\n",
    "    check(li)"
   ]
  },
  {
   "cell_type": "markdown",
   "metadata": {},
   "source": [
    "# Sol2"
   ]
  },
  {
   "cell_type": "code",
   "execution_count": null,
   "metadata": {},
   "outputs": [],
   "source": [
    "# Time = 76 ms\n",
    "# Memory = 31668 KB\n",
    "import sys\n",
    "import heapq\n",
    "input = sys.stdin.readline\n",
    "def check(li):\n",
    "    l, r = [], []\n",
    "    m = li[0]\n",
    "    answer = [li[0]]\n",
    "    r_cnt = 0\n",
    "    for idx, val in enumerate(li[1:], 1):\n",
    "        if val > m:\n",
    "            heapq.heappush(r, val)\n",
    "            r_cnt += 1\n",
    "        else : heapq.heappush(l, -val)\n",
    "        \n",
    "        if idx % 2 == 0:\n",
    "            if r_cnt == 1:pass\n",
    "            elif r_cnt == 2:\n",
    "                heapq.heappush(l, -m)\n",
    "                m = heapq.heappop(r)\n",
    "            else:\n",
    "                heapq.heappush(r, m)\n",
    "                m = -heapq.heappop(l)\n",
    "            answer.append(m)\n",
    "            r_cnt = 0\n",
    "    print(len(answer))\n",
    "    idx = 0\n",
    "    for _ in range(len(answer) // 10):\n",
    "        print(*answer[idx:idx+10])\n",
    "        idx += 10\n",
    "    print(*answer[idx:])\n",
    "\n",
    "N = int(input())\n",
    "for _ in range(N):\n",
    "    q, r = divmod(int(input()), 10)\n",
    "    li = []\n",
    "    if r == 0:\n",
    "        for _ in range(q):\n",
    "            li.extend(list(map(int, input().split())))\n",
    "    else:\n",
    "        for _ in range(q+1):\n",
    "            li.extend(list(map(int, input().split())))\n",
    "    check(li)"
   ]
  },
  {
   "cell_type": "markdown",
   "metadata": {},
   "source": [
    "# Sol3"
   ]
  },
  {
   "cell_type": "code",
   "execution_count": null,
   "metadata": {},
   "outputs": [],
   "source": [
    "import sys\n",
    "import heapq\n",
    "input = sys.stdin.readline\n",
    "def check(li):\n",
    "    l, r = [], []\n",
    "    m = li[0]\n",
    "    answer = [m]\n",
    "    for idx, val in enumerate(li[1:], 1):\n",
    "        if val > m:heapq.heappush(r, val)\n",
    "        else : heapq.heappush(l, -val)\n",
    "        if idx % 2 == 0:\n",
    "            if len(r) > len(l):\n",
    "                heapq.heappush(l, -m)\n",
    "                m = heapq.heappop(r)\n",
    "            elif len(r) < len(l):\n",
    "                heapq.heappush(r, m)\n",
    "                m = -heapq.heappop(l)\n",
    "            answer.append(m)\n",
    "\n",
    "    print(len(answer))\n",
    "    idx = 0\n",
    "    for _ in range(len(answer) // 10):\n",
    "        print(*answer[idx:idx+10])\n",
    "        idx += 10\n",
    "    print(*answer[idx:])\n",
    "\n",
    "N = int(input())\n",
    "for _ in range(N):\n",
    "    q, r = divmod(int(input()), 10)\n",
    "    li = []\n",
    "    if r == 0:\n",
    "        for _ in range(q):\n",
    "            li.extend(list(map(int, input().split())))\n",
    "    else:\n",
    "        for _ in range(q+1):\n",
    "            li.extend(list(map(int, input().split())))\n",
    "    check(li)"
   ]
  },
  {
   "cell_type": "code",
   "execution_count": 26,
   "metadata": {},
   "outputs": [],
   "source": [
    "import sys\n",
    "import heapq\n",
    "input = sys.stdin.readline\n",
    "def check(li):\n",
    "    l, r = [], []\n",
    "    m = li[0]\n",
    "    print((len(li) // 2) + 1)\n",
    "    print(m, end = ' ')\n",
    "    for idx, val in enumerate(li[1:], 1):\n",
    "        if val > m:heapq.heappush(r, val)\n",
    "        else : heapq.heappush(l, -val)\n",
    "        if idx % 2 == 0:\n",
    "            if len(r) > len(l):\n",
    "                heapq.heappush(l, -m)\n",
    "                m = heapq.heappop(r)\n",
    "            elif len(r) < len(l):\n",
    "                heapq.heappush(r, m)\n",
    "                m = -heapq.heappop(l)\n",
    "            if (idx - 18) % 20 == 0:print(m)\n",
    "            else:print(m, end = ' ')\n",
    "\n",
    "N = int(input())\n",
    "for _ in range(N):\n",
    "    q, r = divmod(int(input()), 10)\n",
    "    li = []\n",
    "    if r == 0:\n",
    "        for _ in range(q):\n",
    "            li.extend(list(map(int, input().split())))\n",
    "    else:\n",
    "        for _ in range(q+1):\n",
    "            li.extend(list(map(int, input().split())))\n",
    "    check(li)"
   ]
  },
  {
   "cell_type": "code",
   "execution_count": null,
   "metadata": {},
   "outputs": [],
   "source": []
  }
 ],
 "metadata": {
  "kernelspec": {
   "display_name": "Python 3",
   "language": "python",
   "name": "python3"
  },
  "language_info": {
   "codemirror_mode": {
    "name": "ipython",
    "version": 3
   },
   "file_extension": ".py",
   "mimetype": "text/x-python",
   "name": "python",
   "nbconvert_exporter": "python",
   "pygments_lexer": "ipython3",
   "version": "3.8.5"
  },
  "toc": {
   "base_numbering": 1,
   "nav_menu": {},
   "number_sections": true,
   "sideBar": true,
   "skip_h1_title": false,
   "title_cell": "Table of Contents",
   "title_sidebar": "Contents",
   "toc_cell": false,
   "toc_position": {},
   "toc_section_display": true,
   "toc_window_display": true
  }
 },
 "nbformat": 4,
 "nbformat_minor": 4
}
