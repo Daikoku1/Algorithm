{
 "cells": [
  {
   "cell_type": "code",
   "execution_count": 2,
   "metadata": {},
   "outputs": [
    {
     "name": "stdout",
     "output_type": "stream",
     "text": [
      "1\n",
      "(())())\n",
      "NO\n"
     ]
    }
   ],
   "source": [
    "# Time = 76 ms\n",
    "# Memory = 29076 KB\n",
    "import sys\n",
    "input = sys.stdin.readline\n",
    "N = int(input())\n",
    "for _ in range(N):\n",
    "    cnt = 0\n",
    "    for c in input().split():\n",
    "        if c == '(':cnt += 1\n",
    "        elif c == ')':cnt -= 1\n",
    "        \n",
    "        if cnt < 0:break\n",
    "    if cnt == 0:print('YES')\n",
    "    else:print('NO')"
   ]
  },
  {
   "cell_type": "markdown",
   "metadata": {},
   "source": [
    "# 코드\n",
    "- 21.10 다시 풂"
   ]
  },
  {
   "cell_type": "code",
   "execution_count": null,
   "metadata": {},
   "outputs": [],
   "source": [
    "# 29200 KB, 68 ms\n",
    "import sys\n",
    "input = sys.stdin.readline\n",
    "def BOJ_9012(string):\n",
    "    cnt = 0\n",
    "    for s in string:\n",
    "        if s == '(': cnt += 1\n",
    "        elif s == ')' : cnt -= 1\n",
    "        if cnt < 0 : return \"NO\"\n",
    "    \n",
    "    if cnt : return \"NO\"\n",
    "    else: return \"YES\"\n",
    "\n",
    "T = int(input())\n",
    "for _ in range(T):\n",
    "    print(BOJ_9012(input().strip()))"
   ]
  }
 ],
 "metadata": {
  "kernelspec": {
   "display_name": "Python 3",
   "language": "python",
   "name": "python3"
  },
  "language_info": {
   "codemirror_mode": {
    "name": "ipython",
    "version": 3
   },
   "file_extension": ".py",
   "mimetype": "text/x-python",
   "name": "python",
   "nbconvert_exporter": "python",
   "pygments_lexer": "ipython3",
   "version": "3.8.8"
  },
  "toc": {
   "base_numbering": 1,
   "nav_menu": {},
   "number_sections": true,
   "sideBar": true,
   "skip_h1_title": false,
   "title_cell": "Table of Contents",
   "title_sidebar": "Contents",
   "toc_cell": false,
   "toc_position": {},
   "toc_section_display": true,
   "toc_window_display": true
  }
 },
 "nbformat": 4,
 "nbformat_minor": 4
}
