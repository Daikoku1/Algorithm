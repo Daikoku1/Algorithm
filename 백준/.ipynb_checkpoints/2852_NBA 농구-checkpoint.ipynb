{
 "cells": [
  {
   "cell_type": "code",
   "execution_count": 4,
   "metadata": {},
   "outputs": [
    {
     "name": "stdout",
     "output_type": "stream",
     "text": [
      "3\n",
      "1 01:10\n",
      "2 21:10\n",
      "2 31:30\n",
      "20:00\n",
      "16:30\n"
     ]
    }
   ],
   "source": [
    "# Time = 64 ms\n",
    "# Memory = 28776 KB\n",
    "import sys\n",
    "input = sys.stdin.readline\n",
    "N = int(input())\n",
    "def make_time(time):\n",
    "    m, s = map(int, time.split(':'))\n",
    "    return m * 60 + s\n",
    "\n",
    "t1, t2 = 0, 0\n",
    "s1, s2 = 0, 0\n",
    "\n",
    "for _ in range(N):\n",
    "    team, time = input().split()\n",
    "    time = make_time(time)\n",
    "    \n",
    "    if s1 == s2 : pass\n",
    "    elif s1 > s2 : t1 += (time - prev_time)\n",
    "    else: t2 += (time - prev_time)\n",
    "    \n",
    "    prev_time = time\n",
    "    if team == '1': s1 += 1\n",
    "    else: s2 += 1\n",
    "\n",
    "if s1 > s2 : t1 += (2880 - time)\n",
    "elif s1 < s2 : t2 += (2880 - time)\n",
    "\n",
    "q1, r1 = divmod(t1, 60)\n",
    "q2, r2 = divmod(t2, 60)\n",
    "print('{0:0>2}'.format(q1) + ':' + '{0:0>2}'.format(r1))\n",
    "print('{0:0>2}'.format(q2) + ':' + '{0:0>2}'.format(r2))"
   ]
  }
 ],
 "metadata": {
  "kernelspec": {
   "display_name": "Python 3",
   "language": "python",
   "name": "python3"
  },
  "language_info": {
   "codemirror_mode": {
    "name": "ipython",
    "version": 3
   },
   "file_extension": ".py",
   "mimetype": "text/x-python",
   "name": "python",
   "nbconvert_exporter": "python",
   "pygments_lexer": "ipython3",
   "version": "3.8.3"
  },
  "toc": {
   "base_numbering": 1,
   "nav_menu": {},
   "number_sections": true,
   "sideBar": true,
   "skip_h1_title": false,
   "title_cell": "Table of Contents",
   "title_sidebar": "Contents",
   "toc_cell": false,
   "toc_position": {},
   "toc_section_display": true,
   "toc_window_display": true
  }
 },
 "nbformat": 4,
 "nbformat_minor": 4
}
