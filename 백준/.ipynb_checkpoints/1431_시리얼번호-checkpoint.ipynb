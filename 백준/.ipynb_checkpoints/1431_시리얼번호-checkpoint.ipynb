{
 "cells": [
  {
   "cell_type": "code",
   "execution_count": 2,
   "metadata": {},
   "outputs": [
    {
     "name": "stdout",
     "output_type": "stream",
     "text": [
      "5\n",
      "ABCD\n",
      "145C\n",
      "A\n",
      "A910\n",
      "Z321\n",
      "A\n",
      "ABCD\n",
      "Z321\n",
      "145C\n",
      "A910\n"
     ]
    }
   ],
   "source": [
    "# TIme = 68 ms\n",
    "# Memory = 28776 KB\n",
    "T = int(input())\n",
    "li = []\n",
    "for _ in range(T):\n",
    "    s = input()\n",
    "    num = 0\n",
    "    for c in s:\n",
    "        if c.isdigit() : num += int(c)\n",
    "    li.append([num , s])\n",
    "li.sort(key = lambda x : (len(x[1]), x[0],x[1]))\n",
    "for a, b in li:\n",
    "    print(b)"
   ]
  }
 ],
 "metadata": {
  "kernelspec": {
   "display_name": "Python 3",
   "language": "python",
   "name": "python3"
  },
  "language_info": {
   "codemirror_mode": {
    "name": "ipython",
    "version": 3
   },
   "file_extension": ".py",
   "mimetype": "text/x-python",
   "name": "python",
   "nbconvert_exporter": "python",
   "pygments_lexer": "ipython3",
   "version": "3.8.3"
  },
  "toc": {
   "base_numbering": 1,
   "nav_menu": {},
   "number_sections": true,
   "sideBar": true,
   "skip_h1_title": false,
   "title_cell": "Table of Contents",
   "title_sidebar": "Contents",
   "toc_cell": false,
   "toc_position": {},
   "toc_section_display": true,
   "toc_window_display": true
  }
 },
 "nbformat": 4,
 "nbformat_minor": 4
}
