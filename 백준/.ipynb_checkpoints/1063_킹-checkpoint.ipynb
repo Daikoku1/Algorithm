{
 "cells": [
  {
   "cell_type": "code",
   "execution_count": 9,
   "metadata": {},
   "outputs": [
    {
     "name": "stdout",
     "output_type": "stream",
     "text": [
      "A1 A2 5\n",
      "------------\n",
      "0 1\n",
      "0 2\n",
      "B\n",
      "------------\n",
      "0 1\n",
      "0 2\n",
      "L\n",
      "------------\n",
      "0 1\n",
      "0 2\n",
      "LB\n",
      "------------\n",
      "0 1\n",
      "0 2\n",
      "RB\n",
      "------------\n",
      "0 1\n",
      "0 2\n",
      "LT\n",
      "A1\n",
      "A2\n"
     ]
    }
   ],
   "source": [
    "# Time = 68 ms\n",
    "# Memory = 28776 KB\n",
    "x,y,z=input().split()\n",
    "xa, xn = ord(x[0]) - ord('A'), int(x[1])\n",
    "ya, yn = ord(y[0]) - ord('A'), int(y[1])\n",
    "\n",
    "moves = {'R':(1,0),'L':(-1,0),\n",
    "         'B':(0,-1),'T':(0,1),\n",
    "         'RT':(1,1),'LT':(-1,1),\n",
    "         'RB':(1,-1),'LB':(-1,-1)}\n",
    "\n",
    "for _ in range(int(z)):\n",
    "    move = moves[input()]\n",
    "    n_xa, n_xn = xa + move[0], xn + move[1]\n",
    "    if n_xa == ya and n_xn == yn:\n",
    "        n_ya, n_yn = ya + move[0] ,yn + move[1]\n",
    "    else:\n",
    "        n_ya, n_yn = ya, yn\n",
    "    if 0<=n_xa<8 and 0<n_xn<=8 and 0<=n_ya<8 and 0<n_yn<=8:\n",
    "        xa, xn = n_xa, n_xn\n",
    "        ya, yn = n_ya, n_yn\n",
    "print(chr(ord('A') + xa) + str(xn))\n",
    "print(chr(ord('A') + ya) + str(yn))"
   ]
  }
 ],
 "metadata": {
  "kernelspec": {
   "display_name": "Python 3",
   "language": "python",
   "name": "python3"
  },
  "language_info": {
   "codemirror_mode": {
    "name": "ipython",
    "version": 3
   },
   "file_extension": ".py",
   "mimetype": "text/x-python",
   "name": "python",
   "nbconvert_exporter": "python",
   "pygments_lexer": "ipython3",
   "version": "3.8.3"
  },
  "toc": {
   "base_numbering": 1,
   "nav_menu": {},
   "number_sections": true,
   "sideBar": true,
   "skip_h1_title": false,
   "title_cell": "Table of Contents",
   "title_sidebar": "Contents",
   "toc_cell": false,
   "toc_position": {},
   "toc_section_display": true,
   "toc_window_display": true
  }
 },
 "nbformat": 4,
 "nbformat_minor": 4
}
