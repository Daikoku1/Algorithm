{
 "cells": [
  {
   "cell_type": "code",
   "execution_count": null,
   "id": "654e3cb7",
   "metadata": {},
   "outputs": [],
   "source": [
    "# 29200 KB, 80 ms\n",
    "dic = {chr(x) : -1 for x in range(97, 123)}\n",
    "string = input().strip()\n",
    "\n",
    "for idx, s in enumerate(string):\n",
    "    if dic[s] == -1: dic[s] = idx\n",
    "\n",
    "print(*dic.values())"
   ]
  }
 ],
 "metadata": {
  "kernelspec": {
   "display_name": "Python 3",
   "language": "python",
   "name": "python3"
  },
  "language_info": {
   "codemirror_mode": {
    "name": "ipython",
    "version": 3
   },
   "file_extension": ".py",
   "mimetype": "text/x-python",
   "name": "python",
   "nbconvert_exporter": "python",
   "pygments_lexer": "ipython3",
   "version": "3.8.8"
  }
 },
 "nbformat": 4,
 "nbformat_minor": 5
}
