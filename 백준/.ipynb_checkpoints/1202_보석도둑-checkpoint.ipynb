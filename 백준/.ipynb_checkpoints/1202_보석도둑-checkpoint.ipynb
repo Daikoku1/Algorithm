{
 "cells": [
  {
   "cell_type": "markdown",
   "metadata": {},
   "source": [
    "첫째 줄에 N과 K가 주어진다. (1 ≤ N, K ≤ 300,000)\n",
    "\n",
    "다음 N개 줄에는 각 보석의 정보 Mi와 Vi가 주어진다. (0 ≤ Mi, Vi ≤ 1,000,000)\n",
    "\n",
    "다음 K개 줄에는 가방에 담을 수 있는 최대 무게 Ci가 주어진다. (1 ≤ Ci ≤ 100,000,000)\n",
    "\n",
    "모든 숫자는 양의 정수이다.\n",
    "\n"
   ]
  },
  {
   "cell_type": "code",
   "execution_count": null,
   "metadata": {},
   "outputs": [],
   "source": [
    "# 시간초과\n",
    "import sys\n",
    "input = sys.stdin.readline\n",
    "N, K = map(int, input().split())\n",
    "gems= [list(map(int, input().split())) for _ in range(N)]\n",
    "gems.sort(key = lambda x : [-x[1], x[0]])\n",
    "bags = sorted([int(input()) for _ in range(K)])\n",
    "answer = 0\n",
    "use_idx = {x : 0 for x in range(len(gems))}\n",
    "for w in bags:\n",
    "    for idx, (m, val) in enumerate(gems):\n",
    "        if m <= w and use_idx[idx] == 0:\n",
    "            answer += val\n",
    "            use_idx[idx] = 1\n",
    "            break\n",
    "print(answer)"
   ]
  },
  {
   "cell_type": "code",
   "execution_count": 4,
   "metadata": {},
   "outputs": [
    {
     "name": "stdout",
     "output_type": "stream",
     "text": [
      "3 2\n",
      "1 65\n",
      "5 23\n",
      "2 99\n",
      "10\n",
      "2\n",
      "99\n",
      "164\n"
     ]
    },
    {
     "data": {
      "text/plain": [
       "164"
      ]
     },
     "execution_count": 4,
     "metadata": {},
     "output_type": "execute_result"
    }
   ],
   "source": [
    "N, K = map(int, input().split())\n",
    "gems= [list(map(int, input().split())) for _ in range(N)]\n",
    "gems.sort(key = lambda x : [-x[1], x[0]])\n",
    "bags = sorted([int(input()) for _ in range(K)])\n",
    "answer = 0\n",
    "use_idx = {x : 0 for x in range(len(gems))}\n",
    "for w in bags:\n",
    "    for idx, (m, val) in enumerate(gems):\n",
    "        if m <= w and use_idx[idx] == 0:\n",
    "            answer += val\n",
    "            use_idx[idx] = 1\n",
    "            print(answer)\n",
    "            break\n",
    "answer"
   ]
  },
  {
   "cell_type": "code",
   "execution_count": null,
   "metadata": {},
   "outputs": [],
   "source": [
    "# Time = 1352 ms\n",
    "# Memory = 106304 KB\n",
    "import sys\n",
    "import heapq\n",
    "input = sys.stdin.readline\n",
    "N, K = map(int, input().split())\n",
    "gems= [list(map(int, input().split())) for _ in range(N)]\n",
    "gems.sort(key = lambda x : -x[0])\n",
    "bags = sorted([int(input()) for _ in range(K)])\n",
    "\n",
    "heap = []\n",
    "answer = 0\n",
    "for w in bags:\n",
    "    while gems and w >=gems[-1][0]:\n",
    "        heapq.heappush(heap,-gems.pop()[1])\n",
    "    if heap : answer -= heapq.heappop(heap)\n",
    "print(answer)"
   ]
  }
 ],
 "metadata": {
  "kernelspec": {
   "display_name": "Python 3",
   "language": "python",
   "name": "python3"
  },
  "language_info": {
   "codemirror_mode": {
    "name": "ipython",
    "version": 3
   },
   "file_extension": ".py",
   "mimetype": "text/x-python",
   "name": "python",
   "nbconvert_exporter": "python",
   "pygments_lexer": "ipython3",
   "version": "3.8.3"
  },
  "toc": {
   "base_numbering": 1,
   "nav_menu": {},
   "number_sections": true,
   "sideBar": true,
   "skip_h1_title": false,
   "title_cell": "Table of Contents",
   "title_sidebar": "Contents",
   "toc_cell": false,
   "toc_position": {},
   "toc_section_display": true,
   "toc_window_display": false
  }
 },
 "nbformat": 4,
 "nbformat_minor": 4
}
