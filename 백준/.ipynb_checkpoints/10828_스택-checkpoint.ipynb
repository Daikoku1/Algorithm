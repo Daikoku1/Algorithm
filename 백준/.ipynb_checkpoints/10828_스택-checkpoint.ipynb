{
 "cells": [
  {
   "cell_type": "code",
   "execution_count": null,
   "metadata": {},
   "outputs": [],
   "source": [
    "push X: 정수 X를 스택에 넣는 연산이다.\n",
    "pop: 스택에서 가장 위에 있는 정수를 빼고, 그 수를 출력한다. 만약 스택에 들어있는 정수가 없는 경우에는 -1을 출력한다.\n",
    "size: 스택에 들어있는 정수의 개수를 출력한다.\n",
    "empty: 스택이 비어있으면 1, 아니면 0을 출력한다.\n",
    "top: 스택의 가장 위에 있는 정수를 출력한다. 만약 스택에 들어있는 정수가 없는 경우에는 -1을 출력한다."
   ]
  },
  {
   "cell_type": "code",
   "execution_count": null,
   "metadata": {},
   "outputs": [],
   "source": [
    "# Time = 76 ms\n",
    "# Memory = 29076 KB\n",
    "import sys\n",
    "input = sys.stdin.readline\n",
    "\n",
    "N = int(input())\n",
    "array = []\n",
    "for _ in range(N):\n",
    "    commend = input().strip()\n",
    "    if commend == 'pop':\n",
    "        if array:print(array.pop())\n",
    "        else : print(-1)\n",
    "    elif commend == 'size':\n",
    "        print(len(array))\n",
    "    elif commend == 'empty':\n",
    "        if array: print(0)\n",
    "        else: print(1)\n",
    "    elif commend == 'top':\n",
    "        if array:print(array[-1])\n",
    "        else : print(-1)\n",
    "    else:\n",
    "        c, num = commend.split()\n",
    "        num = int(num)\n",
    "        array.append(num)"
   ]
  },
  {
   "cell_type": "code",
   "execution_count": null,
   "metadata": {},
   "outputs": [],
   "source": []
  },
  {
   "cell_type": "markdown",
   "metadata": {},
   "source": [
    "# 코드\n",
    "- 21.10 다시 풂\n",
    "- 이건 뭐... 그냥 똑같음\n"
   ]
  },
  {
   "cell_type": "code",
   "execution_count": null,
   "metadata": {},
   "outputs": [],
   "source": [
    "# 32956 KB, 92 ms\n",
    "import sys\n",
    "from collections import deque\n",
    "input = sys.stdin.readline\n",
    "N = int(input())\n",
    "arr = deque()\n",
    "for _ in range(N):\n",
    "    comm = input().strip()\n",
    "    if comm == 'pop':\n",
    "        if arr:print(array.popleft())\n",
    "        else : print(-1)\n",
    "    elif comm == 'size':\n",
    "        print(len(arr))\n",
    "    elif comm == 'empty':\n",
    "        if arr: print(0)\n",
    "        else: print(1)\n",
    "    elif comm == 'front':\n",
    "        if arr:print(arr[0])\n",
    "        else : print(-1)\n",
    "    elif comm == 'back':\n",
    "        if arr:print(arr[-1])\n",
    "        else : print(-1)\n",
    "    else:\n",
    "        _, X = comm.split()\n",
    "        X = int(X)\n",
    "        arr.append(X)"
   ]
  }
 ],
 "metadata": {
  "kernelspec": {
   "display_name": "Python 3",
   "language": "python",
   "name": "python3"
  },
  "language_info": {
   "codemirror_mode": {
    "name": "ipython",
    "version": 3
   },
   "file_extension": ".py",
   "mimetype": "text/x-python",
   "name": "python",
   "nbconvert_exporter": "python",
   "pygments_lexer": "ipython3",
   "version": "3.8.3"
  },
  "toc": {
   "base_numbering": 1,
   "nav_menu": {},
   "number_sections": true,
   "sideBar": true,
   "skip_h1_title": false,
   "title_cell": "Table of Contents",
   "title_sidebar": "Contents",
   "toc_cell": false,
   "toc_position": {},
   "toc_section_display": true,
   "toc_window_display": true
  }
 },
 "nbformat": 4,
 "nbformat_minor": 4
}
