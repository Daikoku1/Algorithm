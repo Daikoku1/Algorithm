{
 "cells": [
  {
   "cell_type": "code",
   "execution_count": null,
   "metadata": {},
   "outputs": [],
   "source": [
    "# Time = 124 ms\n",
    "# Memory = 29340 KB\n",
    "import sys\n",
    "input = sys.stdin.readline\n",
    "k, n = map(int, input().split())\n",
    "li = [int(input()) for _ in range(k)]\n",
    "s, e = 1, max(li)\n",
    "while s <= e:\n",
    "    m = (s+e) // 2\n",
    "    now = 0\n",
    "    for i in li:\n",
    "        now += (i // m)\n",
    "    if now >= n:\n",
    "        s = m + 1\n",
    "    else:e = m - 1\n",
    "print(s-1)"
   ]
  }
 ],
 "metadata": {
  "kernelspec": {
   "display_name": "Python 3",
   "language": "python",
   "name": "python3"
  },
  "language_info": {
   "codemirror_mode": {
    "name": "ipython",
    "version": 3
   },
   "file_extension": ".py",
   "mimetype": "text/x-python",
   "name": "python",
   "nbconvert_exporter": "python",
   "pygments_lexer": "ipython3",
   "version": "3.8.5"
  },
  "toc": {
   "base_numbering": 1,
   "nav_menu": {},
   "number_sections": true,
   "sideBar": true,
   "skip_h1_title": false,
   "title_cell": "Table of Contents",
   "title_sidebar": "Contents",
   "toc_cell": false,
   "toc_position": {},
   "toc_section_display": true,
   "toc_window_display": true
  }
 },
 "nbformat": 4,
 "nbformat_minor": 4
}
