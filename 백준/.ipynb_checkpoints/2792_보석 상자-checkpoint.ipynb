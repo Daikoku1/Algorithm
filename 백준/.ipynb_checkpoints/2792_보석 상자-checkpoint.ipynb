{
 "cells": [
  {
   "cell_type": "code",
   "execution_count": 8,
   "metadata": {},
   "outputs": [
    {
     "name": "stdout",
     "output_type": "stream",
     "text": [
      "5 2\n",
      "7\n",
      "4\n",
      "2\n"
     ]
    }
   ],
   "source": [
    "# Time = 3268 ms\n",
    "# Memory = 40788 KB\n",
    "import sys\n",
    "input = sys.stdin.readline\n",
    "N, M = map(int, input().split())\n",
    "arr = []\n",
    "\n",
    "beg, end = 1, 0\n",
    "for _ in range(M):\n",
    "    n = int(input())\n",
    "    arr.append(n)\n",
    "    end = max(end, n)\n",
    "\n",
    "while beg <= end:\n",
    "    mid = (beg + end) // 2\n",
    "    now = 0\n",
    "    for x in arr:\n",
    "        q, r = divmod(x, mid)\n",
    "        now += (q + 1 - (r == 0))\n",
    "    if now <= N:\n",
    "        end = mid -1\n",
    "    else:\n",
    "        beg = mid + 1\n",
    "print(end + 1)"
   ]
  },
  {
   "cell_type": "code",
   "execution_count": null,
   "metadata": {},
   "outputs": [],
   "source": [
    "# Time = 1280 ms\n",
    "# Memory = 40788 KB\n",
    "import sys\n",
    "input = sys.stdin.readline\n",
    "def divide(mid):\n",
    "    cnt = 0\n",
    "    for i in arr:\n",
    "        if not i % mid:\n",
    "            cnt += i // mid\n",
    "        else:\n",
    "            cnt += i // mid + 1\n",
    "    return cnt\n",
    "\n",
    "N, M = map(int, input().split())\n",
    "arr = [int(input()) for _ in range(M)]\n",
    "\n",
    "beg, end = 1, 1_000_000_000\n",
    "while beg <= end:\n",
    "    mid = (beg + end) // 2\n",
    "\n",
    "    if N >= divide(mid):\n",
    "        ans = mid\n",
    "        end = mid - 1\n",
    "    else:\n",
    "        beg = mid + 1\n",
    "print(ans)"
   ]
  }
 ],
 "metadata": {
  "kernelspec": {
   "display_name": "Python 3",
   "language": "python",
   "name": "python3"
  },
  "language_info": {
   "codemirror_mode": {
    "name": "ipython",
    "version": 3
   },
   "file_extension": ".py",
   "mimetype": "text/x-python",
   "name": "python",
   "nbconvert_exporter": "python",
   "pygments_lexer": "ipython3",
   "version": "3.8.3"
  },
  "toc": {
   "base_numbering": 1,
   "nav_menu": {},
   "number_sections": true,
   "sideBar": true,
   "skip_h1_title": false,
   "title_cell": "Table of Contents",
   "title_sidebar": "Contents",
   "toc_cell": false,
   "toc_position": {},
   "toc_section_display": true,
   "toc_window_display": true
  }
 },
 "nbformat": 4,
 "nbformat_minor": 4
}
