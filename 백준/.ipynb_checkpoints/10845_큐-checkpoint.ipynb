{
 "cells": [
  {
   "cell_type": "code",
   "execution_count": null,
   "metadata": {},
   "outputs": [],
   "source": [
    "push X: 정수 X를 큐에 넣는 연산이다.\n",
    "pop: 큐에서 가장 앞에 있는 정수를 빼고, 그 수를 출력한다. 만약 큐에 들어있는 정수가 없는 경우에는 -1을 출력한다.\n",
    "size: 큐에 들어있는 정수의 개수를 출력한다.\n",
    "empty: 큐가 비어있으면 1, 아니면 0을 출력한다.\n",
    "front: 큐의 가장 앞에 있는 정수를 출력한다. 만약 큐에 들어있는 정수가 없는 경우에는 -1을 출력한다.\n",
    "back: 큐의 가장 뒤에 있는 정수를 출력한다. 만약 큐에 들어있는 정수가 없는 경우에는 -1을 출력한다."
   ]
  },
  {
   "cell_type": "code",
   "execution_count": null,
   "metadata": {},
   "outputs": [],
   "source": [
    "# Time = 92 ms\n",
    "# Memory = 32956 KB \n",
    "import sys\n",
    "from collections import deque\n",
    "N = int(input())\n",
    "array = deque()\n",
    "for _ in range(N):\n",
    "    commend = input().strip()\n",
    "    if commend == 'pop':\n",
    "        if array:print(array.popleft())\n",
    "        else : print(-1)\n",
    "    elif commend == 'size':\n",
    "        print(len(array))\n",
    "    elif commend == 'empty':\n",
    "        if array: print(0)\n",
    "        else: print(1)\n",
    "    elif commend == 'front':\n",
    "        if array:print(array[0])\n",
    "        else : print(-1)\n",
    "    elif commend == 'back':\n",
    "        if array:print(array[-1])\n",
    "        else : print(-1)\n",
    "    else:\n",
    "        c, num = commend.split()\n",
    "        num = int(num)\n",
    "        array.append(num)"
   ]
  }
 ],
 "metadata": {
  "kernelspec": {
   "display_name": "Python 3",
   "language": "python",
   "name": "python3"
  },
  "language_info": {
   "codemirror_mode": {
    "name": "ipython",
    "version": 3
   },
   "file_extension": ".py",
   "mimetype": "text/x-python",
   "name": "python",
   "nbconvert_exporter": "python",
   "pygments_lexer": "ipython3",
   "version": "3.8.3"
  },
  "toc": {
   "base_numbering": 1,
   "nav_menu": {},
   "number_sections": true,
   "sideBar": true,
   "skip_h1_title": false,
   "title_cell": "Table of Contents",
   "title_sidebar": "Contents",
   "toc_cell": false,
   "toc_position": {},
   "toc_section_display": true,
   "toc_window_display": true
  }
 },
 "nbformat": 4,
 "nbformat_minor": 4
}
