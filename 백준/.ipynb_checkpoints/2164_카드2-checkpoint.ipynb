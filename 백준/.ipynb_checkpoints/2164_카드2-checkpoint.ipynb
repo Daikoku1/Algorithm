{
 "cells": [
  {
   "cell_type": "code",
   "execution_count": null,
   "metadata": {},
   "outputs": [],
   "source": [
    "N = 4 // answer = 4\n",
    "N = 6 // answer = 4"
   ]
  },
  {
   "cell_type": "code",
   "execution_count": null,
   "metadata": {},
   "outputs": [],
   "source": [
    "# Time = 272 ms\n",
    "# Memory = 50684 KB\n",
    "from collections import deque\n",
    "N = int(input())\n",
    "dq = deque()\n",
    "for i in range(1, N+1):\n",
    "    dq.append(i)\n",
    "    \n",
    "while len(dq) != 1:\n",
    "    dq.popleft()\n",
    "    dq.append(dq.popleft())\n",
    "print(dq[0])"
   ]
  },
  {
   "cell_type": "code",
   "execution_count": 31,
   "metadata": {
    "scrolled": true
   },
   "outputs": [
    {
     "name": "stdout",
     "output_type": "stream",
     "text": [
      "5\n",
      "[5, 2, 4]\n",
      "-----------\n",
      "[4, 2]\n",
      "-----------\n",
      "[2]\n",
      "-----------\n",
      "[2]\n"
     ]
    }
   ],
   "source": [
    "# Time = 176 ms\n",
    "# Memory = 51036 KB\n",
    "N = int(input())\n",
    "li = [i for i in range(1, N+1)]\n",
    "while len(li) != 1:\n",
    "    if len(li) % 2:\n",
    "        li = [li[-1]] + [v for i, v in enumerate(li) if i%2 == 1]\n",
    "    else:\n",
    "        li = [v for i, v in enumerate(li) if i%2 == 1]\n",
    "\n",
    "print(li[0])"
   ]
  },
  {
   "cell_type": "code",
   "execution_count": null,
   "metadata": {},
   "outputs": [],
   "source": []
  },
  {
   "cell_type": "markdown",
   "metadata": {},
   "source": [
    "# 코드3\n",
    "- 21.10 다시 풂"
   ]
  },
  {
   "cell_type": "code",
   "execution_count": null,
   "metadata": {},
   "outputs": [],
   "source": [
    "# 51096 KB, 112 ms\n",
    "arr = [x for x in range(1, int(input()) + 1)]\n",
    "while len(arr) > 1:\n",
    "    q, r = divmod(len(arr), 2)\n",
    "    \n",
    "    if r : arr = [0] + arr[1::2]\n",
    "    else: arr = arr[1::2]\n",
    "print(arr[0])"
   ]
  }
 ],
 "metadata": {
  "kernelspec": {
   "display_name": "Python 3",
   "language": "python",
   "name": "python3"
  },
  "language_info": {
   "codemirror_mode": {
    "name": "ipython",
    "version": 3
   },
   "file_extension": ".py",
   "mimetype": "text/x-python",
   "name": "python",
   "nbconvert_exporter": "python",
   "pygments_lexer": "ipython3",
   "version": "3.8.3"
  },
  "toc": {
   "base_numbering": 1,
   "nav_menu": {},
   "number_sections": true,
   "sideBar": true,
   "skip_h1_title": false,
   "title_cell": "Table of Contents",
   "title_sidebar": "Contents",
   "toc_cell": false,
   "toc_position": {},
   "toc_section_display": true,
   "toc_window_display": true
  }
 },
 "nbformat": 4,
 "nbformat_minor": 4
}
