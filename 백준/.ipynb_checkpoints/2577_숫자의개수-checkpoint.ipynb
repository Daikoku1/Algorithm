{
 "cells": [
  {
   "cell_type": "code",
   "execution_count": 2,
   "id": "c00e8520",
   "metadata": {},
   "outputs": [
    {
     "name": "stdout",
     "output_type": "stream",
     "text": [
      "12\n",
      "5\n",
      "29\n",
      "1\n",
      "1\n",
      "0\n",
      "0\n",
      "1\n",
      "0\n",
      "0\n",
      "1\n",
      "0\n",
      "0\n"
     ]
    }
   ],
   "source": [
    "# 29200 KB, 80 ms\n",
    "a, b, c = int(input()), int(input()), int(input())\n",
    "num = a * b * c\n",
    "ans = [0] * 10\n",
    "while num:\n",
    "    num, r = divmod(num, 10)\n",
    "    ans[r] += 1\n",
    "for x in ans: print(x)"
   ]
  },
  {
   "cell_type": "code",
   "execution_count": null,
   "id": "a1b81858",
   "metadata": {},
   "outputs": [],
   "source": []
  }
 ],
 "metadata": {
  "kernelspec": {
   "display_name": "Python 3",
   "language": "python",
   "name": "python3"
  },
  "language_info": {
   "codemirror_mode": {
    "name": "ipython",
    "version": 3
   },
   "file_extension": ".py",
   "mimetype": "text/x-python",
   "name": "python",
   "nbconvert_exporter": "python",
   "pygments_lexer": "ipython3",
   "version": "3.8.8"
  }
 },
 "nbformat": 4,
 "nbformat_minor": 5
}
