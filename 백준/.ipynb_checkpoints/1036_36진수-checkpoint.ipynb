{
 "cells": [
  {
   "cell_type": "markdown",
   "metadata": {},
   "source": [
    "# 실패\n",
    "- 자리수가 높더라도 기대값이 낮은 경우 존재\n",
    "    - ex) Y는 2번째 자리수에 한번 등장, 0는 1번째 자리수에 30번 등장\n",
    "    - Y 기대값은 (35-34) * 36(자리수), 0의 기대값은 (35 - 0) * 1(자리수) * 30(번)\n",
    "    - 0의 기대값이 더 큼"
   ]
  },
  {
   "cell_type": "code",
   "execution_count": null,
   "metadata": {},
   "outputs": [],
   "source": [
    "from collections import defaultdict\n",
    "T = int(input())\n",
    "numbers = '0123456789ABCDEFGHIJKLMNOPQRSTUVWXYZ'\n",
    "dic = defaultdict(set)\n",
    "s_list = []\n",
    "for _ in range(T):\n",
    "    s = input().strip()[::-1]\n",
    "    s_list.append(s)\n",
    "    for idx, val in enumerate(s):\n",
    "        dic[idx].add(val)\n",
    "arr = [sorted(v) for k, v in sorted(dic.items(), reverse = True)]\n",
    "print(arr)\n",
    "c_list = {i : 0 for i in numbers}\n",
    "c_list['Z'] = 1\n",
    "K = int(input())\n",
    "for x in sum(arr, []):\n",
    "    if K == 0:break\n",
    "    if c_list[x] == 0:\n",
    "        print(x)\n",
    "        c_list[x] = 1\n",
    "        K -=1\n",
    "\n",
    "ans = 0\n",
    "for s in s_list:\n",
    "    for idx, c in enumerate(s):\n",
    "        if c_list[c] == 1:num = 35\n",
    "        elif c.isdigit():num = int(c)            \n",
    "        else:num = 10+ ord(c) - ord('A')\n",
    "        \n",
    "        ans += num*(36**idx)\n",
    "\n",
    "result = []\n",
    "while ans >= 36:\n",
    "    ans, r = divmod(ans, 36)\n",
    "    result.append(numbers[r])\n",
    "result.append(numbers[ans])\n",
    "\n",
    "print(''.join(result[::-1]))"
   ]
  },
  {
   "cell_type": "code",
   "execution_count": 15,
   "metadata": {},
   "outputs": [
    {
     "name": "stdout",
     "output_type": "stream",
     "text": [
      "5\n",
      "GOOD\n",
      "LUCK\n",
      "AND\n",
      "HAVE\n",
      "FUN\n",
      "7\n",
      "31ZCV\n"
     ]
    }
   ],
   "source": [
    "# Time = 72 ms\n",
    "# Memory = 28776 KB\n",
    "T = int(input())\n",
    "numbers = '0123456789ABCDEFGHIJKLMNOPQRSTUVWXYZ'\n",
    "dic = {i : [0,0] for i in numbers}\n",
    "for _ in range(T):\n",
    "    s = input().strip()[::-1]\n",
    "    for idx, val in enumerate(s):\n",
    "        if val.isdigit():num = int(val)            \n",
    "        else:num = 10+ ord(val) - ord('A')\n",
    "        \n",
    "        dic[val][0] += (35 - num) *(36**idx)\n",
    "        dic[val][1] += num *(36**idx)\n",
    "\n",
    "K = int(input())\n",
    "ans = 0\n",
    "for x, [y, z] in sorted(dic.items(), key = lambda x : x[1], reverse = True):\n",
    "    if K:\n",
    "        K -= 1\n",
    "        ans += (y+z)\n",
    "    else:ans += z\n",
    "\n",
    "result = []\n",
    "while ans >= 36:\n",
    "    ans, r = divmod(ans, 36)\n",
    "    result.append(numbers[r])\n",
    "result.append(numbers[ans])\n",
    "\n",
    "print(''.join(result[::-1]))"
   ]
  },
  {
   "cell_type": "code",
   "execution_count": 7,
   "metadata": {},
   "outputs": [
    {
     "data": {
      "text/plain": [
       "[('G', [886464, 746496]),\n",
       " ('H', [839808, 793152]),\n",
       " ('L', [653184, 979776]),\n",
       " ('A', [64800, 25920]),\n",
       " ('F', [25920, 19440]),\n",
       " ('O', [14652, 31968]),\n",
       " ('U', [6660, 39960]),\n",
       " ('C', [828, 432]),\n",
       " ('N', [444, 851]),\n",
       " ('V', [144, 1116]),\n",
       " ('D', [44, 26]),\n",
       " ('E', [21, 14]),\n",
       " ('K', [15, 20]),\n",
       " ('0', [0, 0]),\n",
       " ('1', [0, 0]),\n",
       " ('2', [0, 0]),\n",
       " ('3', [0, 0]),\n",
       " ('4', [0, 0]),\n",
       " ('5', [0, 0]),\n",
       " ('6', [0, 0]),\n",
       " ('7', [0, 0]),\n",
       " ('8', [0, 0]),\n",
       " ('9', [0, 0]),\n",
       " ('B', [0, 0]),\n",
       " ('I', [0, 0]),\n",
       " ('J', [0, 0]),\n",
       " ('M', [0, 0]),\n",
       " ('P', [0, 0]),\n",
       " ('Q', [0, 0]),\n",
       " ('R', [0, 0]),\n",
       " ('S', [0, 0]),\n",
       " ('T', [0, 0]),\n",
       " ('W', [0, 0]),\n",
       " ('X', [0, 0]),\n",
       " ('Y', [0, 0]),\n",
       " ('Z', [0, 0])]"
      ]
     },
     "execution_count": 7,
     "metadata": {},
     "output_type": "execute_result"
    }
   ],
   "source": [
    "sorted(dic.items(), key = lambda x : x[1], reverse = True)"
   ]
  },
  {
   "cell_type": "code",
   "execution_count": null,
   "metadata": {},
   "outputs": [],
   "source": [
    "5\n",
    "GOOD\n",
    "LUCK\n",
    "AND\n",
    "HAVE\n",
    "FUN\n",
    "7"
   ]
  },
  {
   "cell_type": "code",
   "execution_count": null,
   "metadata": {},
   "outputs": [],
   "source": [
    "ord('Z') - ord('A') + 11"
   ]
  },
  {
   "cell_type": "code",
   "execution_count": null,
   "metadata": {},
   "outputs": [],
   "source": [
    "g, l, h, \n",
    "a, f, o, u"
   ]
  },
  {
   "cell_type": "code",
   "execution_count": null,
   "metadata": {},
   "outputs": [],
   "source": [
    "c_list"
   ]
  },
  {
   "cell_type": "code",
   "execution_count": null,
   "metadata": {},
   "outputs": [],
   "source": []
  },
  {
   "cell_type": "code",
   "execution_count": null,
   "metadata": {},
   "outputs": [],
   "source": [
    "a = 5130659"
   ]
  },
  {
   "cell_type": "code",
   "execution_count": null,
   "metadata": {},
   "outputs": [],
   "source": [
    "\n"
   ]
  },
  {
   "cell_type": "code",
   "execution_count": null,
   "metadata": {},
   "outputs": [],
   "source": [
    "31YUB"
   ]
  },
  {
   "cell_type": "code",
   "execution_count": null,
   "metadata": {},
   "outputs": [],
   "source": [
    "sum([sorted(v) for k, v in sorted(dic.items(), reverse = True)], [])"
   ]
  },
  {
   "cell_type": "code",
   "execution_count": null,
   "metadata": {},
   "outputs": [],
   "source": []
  }
 ],
 "metadata": {
  "kernelspec": {
   "display_name": "Python 3",
   "language": "python",
   "name": "python3"
  },
  "language_info": {
   "codemirror_mode": {
    "name": "ipython",
    "version": 3
   },
   "file_extension": ".py",
   "mimetype": "text/x-python",
   "name": "python",
   "nbconvert_exporter": "python",
   "pygments_lexer": "ipython3",
   "version": "3.8.3"
  },
  "toc": {
   "base_numbering": 1,
   "nav_menu": {},
   "number_sections": true,
   "sideBar": true,
   "skip_h1_title": false,
   "title_cell": "Table of Contents",
   "title_sidebar": "Contents",
   "toc_cell": false,
   "toc_position": {},
   "toc_section_display": true,
   "toc_window_display": true
  }
 },
 "nbformat": 4,
 "nbformat_minor": 4
}
