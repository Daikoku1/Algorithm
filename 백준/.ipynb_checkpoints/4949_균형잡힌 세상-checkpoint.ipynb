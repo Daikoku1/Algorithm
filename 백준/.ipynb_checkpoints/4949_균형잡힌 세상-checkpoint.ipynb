{
 "cells": [
  {
   "cell_type": "code",
   "execution_count": null,
   "metadata": {},
   "outputs": [],
   "source": [
    "s = \"\"\"So when I die (the [first] I will see in (heaven) is a score list).\n",
    "[ first in ] ( first out ).\n",
    "Half Moon tonight (At least it is better than no Moon at all].\n",
    "A rope may form )( a trail in a maze.\n",
    "Help( I[m being held prisoner in a fortune cookie factory)].\n",
    "([ (([( [ ] ) ( ) (( ))] )) ]).\n",
    " .\n",
    ".\"\"\""
   ]
  },
  {
   "cell_type": "markdown",
   "metadata": {},
   "source": [
    "# 실패\n",
    "- (,[,),] 와 같이 섞이는 경우를 해결하지 못함"
   ]
  },
  {
   "cell_type": "code",
   "execution_count": null,
   "metadata": {},
   "outputs": [],
   "source": [
    "import sys\n",
    "texts = sys.stdin.readlines()\n",
    "for i in texts:\n",
    "    print(i)\n",
    "    small_bracket = 0\n",
    "    large_bracket = 0\n",
    "    for c in i.strip():\n",
    "        if c == '(':small_bracket += 1\n",
    "        elif c == ')' : small_bracket -= 1\n",
    "        elif c == '[': large_bracket += 1\n",
    "        elif c == ']' : large_bracket -= 1\n",
    "        \n",
    "        if small_bracket < 0:\n",
    "            print('no')\n",
    "            break\n",
    "        if large_bracket < 0:\n",
    "            print('no')\n",
    "            break\n",
    "    else:print('yes')"
   ]
  },
  {
   "cell_type": "markdown",
   "metadata": {},
   "source": [
    "# 성공\n",
    "- 스택 사용"
   ]
  },
  {
   "cell_type": "code",
   "execution_count": null,
   "metadata": {},
   "outputs": [],
   "source": [
    "# Time = 108 ms\n",
    "# Memory = 29076 KB\n",
    "import sys\n",
    "input = sys.stdin.readline\n",
    "while True:\n",
    "    text = input().rstrip()\n",
    "    if text == \".\":\n",
    "        break\n",
    "    bracket = []\n",
    "    end = True\n",
    "    for c in text:\n",
    "        if c == '(':bracket.append(c)\n",
    "        elif c == '[' : bracket.append(c)\n",
    "        elif c == ')' :\n",
    "            if bracket and bracket[-1] == '(':bracket.pop()\n",
    "            else :\n",
    "                end = False\n",
    "                break\n",
    "        elif c == ']' :\n",
    "            if bracket and bracket[-1] == '[':bracket.pop()\n",
    "            else :\n",
    "                end = False\n",
    "                break\n",
    "    if end and not bracket:print('yes')\n",
    "    else:print('no')"
   ]
  },
  {
   "cell_type": "code",
   "execution_count": null,
   "metadata": {},
   "outputs": [],
   "source": []
  },
  {
   "cell_type": "markdown",
   "metadata": {},
   "source": [
    "# 코드\n",
    "- 21.10 다시 풂\n",
    "- 소름돋게 똑같은 코드다.."
   ]
  },
  {
   "cell_type": "code",
   "execution_count": null,
   "metadata": {},
   "outputs": [],
   "source": [
    "# 29200 KB, 112 ms\n",
    "import sys\n",
    "input = sys.stdin.readline\n",
    "while True:\n",
    "    string = input().rstrip()\n",
    "    if string == '.': break\n",
    "    balance = True\n",
    "    stack = []\n",
    "    for s in string:\n",
    "        if s == '(' : stack.append(s)\n",
    "        elif s == '[' : stack.append(s)\n",
    "        elif s == ']' :\n",
    "            if stack and stack[-1] == '[':stack.pop()\n",
    "            else : balance = False\n",
    "        elif s == ')':\n",
    "            if stack and stack[-1] == '(':stack.pop()\n",
    "            else : balance = False\n",
    "\n",
    "        if not balance : break\n",
    "    if balance and not stack: print('yes')\n",
    "    else: print('no')"
   ]
  },
  {
   "cell_type": "code",
   "execution_count": null,
   "metadata": {},
   "outputs": [],
   "source": []
  }
 ],
 "metadata": {
  "kernelspec": {
   "display_name": "Python 3",
   "language": "python",
   "name": "python3"
  },
  "language_info": {
   "codemirror_mode": {
    "name": "ipython",
    "version": 3
   },
   "file_extension": ".py",
   "mimetype": "text/x-python",
   "name": "python",
   "nbconvert_exporter": "python",
   "pygments_lexer": "ipython3",
   "version": "3.8.8"
  },
  "toc": {
   "base_numbering": 1,
   "nav_menu": {},
   "number_sections": true,
   "sideBar": true,
   "skip_h1_title": false,
   "title_cell": "Table of Contents",
   "title_sidebar": "Contents",
   "toc_cell": false,
   "toc_position": {},
   "toc_section_display": true,
   "toc_window_display": true
  }
 },
 "nbformat": 4,
 "nbformat_minor": 4
}
