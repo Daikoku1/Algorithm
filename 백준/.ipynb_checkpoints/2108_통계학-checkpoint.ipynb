{
 "cells": [
  {
   "cell_type": "code",
   "execution_count": 3,
   "metadata": {},
   "outputs": [
    {
     "name": "stdout",
     "output_type": "stream",
     "text": [
      "5\n",
      "1\n",
      "3\n",
      "8\n",
      "-2\n",
      "2\n",
      "2\n",
      "2\n",
      "1\n",
      "10\n"
     ]
    }
   ],
   "source": [
    "# TIme = 524 ms\n",
    "# Memroy = 56980 KB\n",
    "import sys\n",
    "input = sys.stdin.readline\n",
    "# 평균\n",
    "def mean(v):\n",
    "    return round(sum(v)/n)\n",
    "# 중앙값\n",
    "def median(v):\n",
    "    if n == 1: return v[0]\n",
    "    else:\n",
    "        q, r = divmod(n,2)\n",
    "        if r:return v[q] \n",
    "        else:return (v[q] + v[q+1]) // 2\n",
    "# 최빈값\n",
    "from collections import Counter\n",
    "def mode(v):\n",
    "    if n == 1: return v[0]\n",
    "    c = Counter(v).most_common(2)\n",
    "    return (c[1][0] if c[0][1] == c[1][1] else c[0][0])\n",
    "# 범위\n",
    "def min_max(v):\n",
    "    return v[n-1] - v[0]\n",
    "\n",
    "n = int(input())\n",
    "v = sorted([int(input()) for _ in range(n)])\n",
    "\n",
    "print(mean(v))\n",
    "print(median(v))\n",
    "print(mode(v))\n",
    "print(min_max(v))"
   ]
  }
 ],
 "metadata": {
  "kernelspec": {
   "display_name": "Python 3",
   "language": "python",
   "name": "python3"
  },
  "language_info": {
   "codemirror_mode": {
    "name": "ipython",
    "version": 3
   },
   "file_extension": ".py",
   "mimetype": "text/x-python",
   "name": "python",
   "nbconvert_exporter": "python",
   "pygments_lexer": "ipython3",
   "version": "3.8.3"
  },
  "toc": {
   "base_numbering": 1,
   "nav_menu": {},
   "number_sections": true,
   "sideBar": true,
   "skip_h1_title": false,
   "title_cell": "Table of Contents",
   "title_sidebar": "Contents",
   "toc_cell": false,
   "toc_position": {},
   "toc_section_display": true,
   "toc_window_display": true
  }
 },
 "nbformat": 4,
 "nbformat_minor": 4
}
