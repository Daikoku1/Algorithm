{
 "cells": [
  {
   "cell_type": "code",
   "execution_count": 1,
   "metadata": {},
   "outputs": [],
   "source": [
    "a = [4, 1, 5, 2, 3]\n",
    "b = [1, 3, 7, 9, 5]"
   ]
  },
  {
   "cell_type": "code",
   "execution_count": 5,
   "metadata": {},
   "outputs": [],
   "source": [
    "# Time = 900 ms\n",
    "# Memory = 42024 KB\n",
    "from sys import stdin\n",
    "n = stdin.readline()\n",
    "N = sorted(map(int,stdin.readline().split()))\n",
    "m = stdin.readline()\n",
    "M = map(int, stdin.readline().split())\n",
    "\n",
    "for x in M:\n",
    "    s, e = 0, len(N)-1\n",
    "    while True:\n",
    "        if s > e:\n",
    "            print('0')\n",
    "            break\n",
    "        m = (s+e) // 2\n",
    "        if N[m] == x:\n",
    "            print('1')\n",
    "            break\n",
    "        elif N[m] > x: e = m - 1\n",
    "        else: s = m + 1"
   ]
  },
  {
   "cell_type": "code",
   "execution_count": null,
   "metadata": {},
   "outputs": [],
   "source": [
    "# Time = 200 ms\n",
    "# Memory = 49416 KB\n",
    "from sys import stdin\n",
    "n = stdin.readline()\n",
    "dic = {}\n",
    "for x in stdin.readline().split():\n",
    "    dic[x] = 1\n",
    "m = stdin.readline()\n",
    "M = stdin.readline().split()\n",
    "\n",
    "for y in M:\n",
    "    if dic.get(y):print('1')\n",
    "    else:print('0')"
   ]
  },
  {
   "cell_type": "code",
   "execution_count": 4,
   "metadata": {},
   "outputs": [],
   "source": [
    "# Time = 188 ms\n",
    "# Memory = 48392 KB\n",
    "from sys import stdin\n",
    "n = stdin.readline()\n",
    "N = set(stdin.readline().split())\n",
    "m = stdin.readline()\n",
    "M = stdin.readline().split()\n",
    "\n",
    "for x in M:\n",
    "    if x in N:print('1')\n",
    "    else: print('0')"
   ]
  }
 ],
 "metadata": {
  "kernelspec": {
   "display_name": "Python 3",
   "language": "python",
   "name": "python3"
  },
  "language_info": {
   "codemirror_mode": {
    "name": "ipython",
    "version": 3
   },
   "file_extension": ".py",
   "mimetype": "text/x-python",
   "name": "python",
   "nbconvert_exporter": "python",
   "pygments_lexer": "ipython3",
   "version": "3.8.5"
  },
  "toc": {
   "base_numbering": 1,
   "nav_menu": {},
   "number_sections": true,
   "sideBar": true,
   "skip_h1_title": false,
   "title_cell": "Table of Contents",
   "title_sidebar": "Contents",
   "toc_cell": false,
   "toc_position": {},
   "toc_section_display": true,
   "toc_window_display": true
  }
 },
 "nbformat": 4,
 "nbformat_minor": 4
}
