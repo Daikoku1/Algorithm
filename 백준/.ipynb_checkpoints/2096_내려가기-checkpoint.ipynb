{
 "cells": [
  {
   "cell_type": "code",
   "execution_count": null,
   "metadata": {},
   "outputs": [],
   "source": [
    "3\n",
    "1 2 3\n",
    "4 5 6\n",
    "4 9 0"
   ]
  },
  {
   "cell_type": "code",
   "execution_count": null,
   "metadata": {},
   "outputs": [],
   "source": [
    "# 메모리 초과\n",
    "import copy\n",
    "N = int(input())\n",
    "max_arr = [list(map(int, input().split())) for _ in range(N)]\n",
    "min_arr = copy.deepcopy(max_arr)\n",
    "for idx in range(1, N):\n",
    "    max_arr[idx][0] += max(max_arr[idx-1][0], max_arr[idx-1][1])\n",
    "    max_arr[idx][1] += max(max_arr[idx-1][0], max_arr[idx-1][1], max_arr[idx-1][2])\n",
    "    max_arr[idx][2] += max(max_arr[idx-1][1], max_arr[idx-1][2])\n",
    "    \n",
    "    min_arr[idx][0] += min(min_arr[idx-1][0], min_arr[idx-1][1])\n",
    "    min_arr[idx][1] += min(min_arr[idx-1][0], min_arr[idx-1][1], min_arr[idx-1][1])\n",
    "    min_arr[idx][2] += min(min_arr[idx-1][1], min_arr[idx-1][2])\n",
    "\n",
    "print(max(max_arr[-1]), min(min_arr[-1]))"
   ]
  },
  {
   "cell_type": "code",
   "execution_count": null,
   "metadata": {},
   "outputs": [],
   "source": [
    "# Time = 348 ms\n",
    "# Memory = 28776 KB\n",
    "import sys\n",
    "input = sys.stdin.readline\n",
    "N = int(input())\n",
    "max_arr = list(map(int, input().split()))\n",
    "min_arr = max_arr.copy()\n",
    "for _ in range(N-1):\n",
    "    a, b, c = map(int, input().split())\n",
    "    max_arr = [a + max(max_arr[0], max_arr[1]),\n",
    "               b + max(max_arr[0], max_arr[1], max_arr[2]),\n",
    "               c + max(max_arr[1], max_arr[2])]\n",
    "    min_arr = [a + min(min_arr[0], min_arr[1]),\n",
    "               b + min(min_arr[0], min_arr[1], min_arr[2]),\n",
    "               c + min(min_arr[1], min_arr[2])]\n",
    "\n",
    "print(max(max_arr), min(min_arr))"
   ]
  },
  {
   "cell_type": "code",
   "execution_count": null,
   "metadata": {},
   "outputs": [],
   "source": []
  }
 ],
 "metadata": {
  "kernelspec": {
   "display_name": "Python 3",
   "language": "python",
   "name": "python3"
  },
  "language_info": {
   "codemirror_mode": {
    "name": "ipython",
    "version": 3
   },
   "file_extension": ".py",
   "mimetype": "text/x-python",
   "name": "python",
   "nbconvert_exporter": "python",
   "pygments_lexer": "ipython3",
   "version": "3.8.3"
  },
  "toc": {
   "base_numbering": 1,
   "nav_menu": {},
   "number_sections": true,
   "sideBar": true,
   "skip_h1_title": false,
   "title_cell": "Table of Contents",
   "title_sidebar": "Contents",
   "toc_cell": false,
   "toc_position": {},
   "toc_section_display": true,
   "toc_window_display": true
  }
 },
 "nbformat": 4,
 "nbformat_minor": 4
}
