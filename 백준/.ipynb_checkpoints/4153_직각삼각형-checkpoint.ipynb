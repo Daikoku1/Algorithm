{
 "cells": [
  {
   "cell_type": "code",
   "execution_count": null,
   "metadata": {},
   "outputs": [],
   "source": [
    "# Time = 68 ms\n",
    "# Memory = 29076 KB\n",
    "import sys\n",
    "lines = sys.stdin.readlines()\n",
    "for line in lines:\n",
    "    x,y,z = map(int, line.split())\n",
    "    max_n = max(x,y,z)\n",
    "    if x + y + z == 0: break\n",
    "    if max_n == x:other = y**2 + z**2\n",
    "    elif max_n == y:other = x**2 + z**2\n",
    "    else: other = x**2 + y**2\n",
    "    \n",
    "    if max_n**2 == other:print('right')\n",
    "    else:print('wrong')"
   ]
  },
  {
   "cell_type": "code",
   "execution_count": null,
   "metadata": {},
   "outputs": [],
   "source": [
    "while True:\n",
    "    nums = list(map(int,input().split()))\n",
    "    max_n = max(nums)\n",
    "\n",
    "    if max_n ==0 : break\n",
    "    \n",
    "    nums.remove(max_num)\n",
    "    if max_n**2 == nums[0]**2 + nums[1]**2 : print(\"right\")\n",
    "    else : print(\"wrong\")"
   ]
  },
  {
   "cell_type": "code",
   "execution_count": null,
   "metadata": {},
   "outputs": [],
   "source": []
  },
  {
   "cell_type": "markdown",
   "metadata": {},
   "source": [
    "# 코드\n",
    "- 21.10 다시 풂\n",
    "- 그냥 정렬할껄.."
   ]
  },
  {
   "cell_type": "code",
   "execution_count": null,
   "metadata": {},
   "outputs": [],
   "source": [
    "# 29200 KB, 64 ms\n",
    "import sys\n",
    "input = sys.stdin.readline\n",
    "while True:\n",
    "    a, b, c = map(int, input().split())\n",
    "    if a == b == c == 0: break\n",
    "    if max(a,b,c) == a:\n",
    "        if a**2 - b**2 - c**2 == 0: print('right')\n",
    "        else: print('wrong')\n",
    "    elif max(a,b,c) == b:\n",
    "        if a**2 - b**2 + c**2 == 0: print('right')\n",
    "        else: print('wrong')\n",
    "    elif max(a,b,c) == c:\n",
    "        if a**2 + b**2 - c**2 == 0: print('right')\n",
    "        else: print('wrong')"
   ]
  }
 ],
 "metadata": {
  "kernelspec": {
   "display_name": "Python 3",
   "language": "python",
   "name": "python3"
  },
  "language_info": {
   "codemirror_mode": {
    "name": "ipython",
    "version": 3
   },
   "file_extension": ".py",
   "mimetype": "text/x-python",
   "name": "python",
   "nbconvert_exporter": "python",
   "pygments_lexer": "ipython3",
   "version": "3.8.8"
  },
  "toc": {
   "base_numbering": 1,
   "nav_menu": {},
   "number_sections": true,
   "sideBar": true,
   "skip_h1_title": false,
   "title_cell": "Table of Contents",
   "title_sidebar": "Contents",
   "toc_cell": false,
   "toc_position": {},
   "toc_section_display": true,
   "toc_window_display": true
  }
 },
 "nbformat": 4,
 "nbformat_minor": 4
}
