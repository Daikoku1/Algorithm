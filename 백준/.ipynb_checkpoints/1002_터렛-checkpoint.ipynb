{
 "cells": [
  {
   "cell_type": "code",
   "execution_count": null,
   "metadata": {},
   "outputs": [],
   "source": [
    "# Time = 64 ms\n",
    "# Memory = 30888 KB \n",
    "import sys, math\n",
    "input = sys.stdin.readline\n",
    "T = int(input())\n",
    "for _ in range(T):\n",
    "    x1,y1,r1,x2,y2,r2 = map(int, input().split())\n",
    "    if x1 == x2 and y1 == y2:\n",
    "        if r1 == r2 :print(-1)\n",
    "        else:print(0)\n",
    "    else:\n",
    "        max_r = max(r1,r2)\n",
    "        min_r = min(r1,r2)\n",
    "        length = math.sqrt((x2-x1)**2 + (y2-y1)**2)\n",
    "        \n",
    "        if max_r > length + min_r: print(0)\n",
    "        elif max_r == length + min_r: print(1)\n",
    "        elif length < max_r + min_r: print(2)\n",
    "        elif length == max_r + min_r: print(1)\n",
    "        else: print(0)"
   ]
  }
 ],
 "metadata": {
  "kernelspec": {
   "display_name": "Python 3",
   "language": "python",
   "name": "python3"
  },
  "language_info": {
   "codemirror_mode": {
    "name": "ipython",
    "version": 3
   },
   "file_extension": ".py",
   "mimetype": "text/x-python",
   "name": "python",
   "nbconvert_exporter": "python",
   "pygments_lexer": "ipython3",
   "version": "3.8.3"
  },
  "toc": {
   "base_numbering": 1,
   "nav_menu": {},
   "number_sections": true,
   "sideBar": true,
   "skip_h1_title": false,
   "title_cell": "Table of Contents",
   "title_sidebar": "Contents",
   "toc_cell": false,
   "toc_position": {},
   "toc_section_display": true,
   "toc_window_display": true
  }
 },
 "nbformat": 4,
 "nbformat_minor": 4
}
