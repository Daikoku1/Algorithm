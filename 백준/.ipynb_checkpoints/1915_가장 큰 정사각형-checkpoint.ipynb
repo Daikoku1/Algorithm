{
 "cells": [
  {
   "cell_type": "code",
   "execution_count": null,
   "metadata": {},
   "outputs": [],
   "source": [
    "# Time : 1304 ms\n",
    "# Memory = 54384 KB\n",
    "import sys\n",
    "input = sys.stdin.readline\n",
    "n, m = map(int, input().split())\n",
    "table = [list(map(int, list(input().rstrip()))) for _ in range(n)]\n",
    "\n",
    "ans = 0\n",
    "for i in range(n):\n",
    "    for j in range(m):\n",
    "        if i>0 and j>0 and table[i][j] == 1:\n",
    "            table[i][j] += min(table[i-1][j], table[i][j-1], table[i-1][j-1])\n",
    "        ans = max(ans, table[i][j])\n",
    "        \n",
    "print(ans*ans)"
   ]
  },
  {
   "cell_type": "code",
   "execution_count": 3,
   "metadata": {},
   "outputs": [
    {
     "ename": "IndentationError",
     "evalue": "expected an indented block (<ipython-input-3-d74f444abc86>, line 17)",
     "output_type": "error",
     "traceback": [
      "\u001b[0;36m  File \u001b[0;32m\"<ipython-input-3-d74f444abc86>\"\u001b[0;36m, line \u001b[0;32m17\u001b[0m\n\u001b[0;31m    else:\u001b[0m\n\u001b[0m    ^\u001b[0m\n\u001b[0;31mIndentationError\u001b[0m\u001b[0;31m:\u001b[0m expected an indented block\n"
     ]
    }
   ],
   "source": [
    "# Time = 1240 ms\n",
    "# Memory = 54480 KB\n",
    "import sys\n",
    "input = sys.stdin.readline\n",
    "n, m = map(int, input().split())\n",
    "if n == 1:\n",
    "    if '1' in input():print(1)\n",
    "    else:print(0)\n",
    "elif m == 1:\n",
    "    for _ in range(n):\n",
    "        if int(input()) == 1:\n",
    "            print(1)\n",
    "            break\n",
    "    else:print(0)\n",
    "else:\n",
    "    table = [list(map(int, list(input().rstrip()))) for _ in range(n)]\n",
    "    ans = 0\n",
    "    for i in range(1, n):\n",
    "        for j in range(1, m):\n",
    "            if table[i][j] == 1:\n",
    "                table[i][j] += min(table[i-1][j], table[i][j-1], table[i-1][j-1])\n",
    "                ans = max(ans, table[i][j])\n",
    "    print(ans*ans)"
   ]
  },
  {
   "cell_type": "code",
   "execution_count": null,
   "metadata": {},
   "outputs": [],
   "source": []
  }
 ],
 "metadata": {
  "kernelspec": {
   "display_name": "Python 3",
   "language": "python",
   "name": "python3"
  },
  "language_info": {
   "codemirror_mode": {
    "name": "ipython",
    "version": 3
   },
   "file_extension": ".py",
   "mimetype": "text/x-python",
   "name": "python",
   "nbconvert_exporter": "python",
   "pygments_lexer": "ipython3",
   "version": "3.8.3"
  },
  "toc": {
   "base_numbering": 1,
   "nav_menu": {},
   "number_sections": true,
   "sideBar": true,
   "skip_h1_title": false,
   "title_cell": "Table of Contents",
   "title_sidebar": "Contents",
   "toc_cell": false,
   "toc_position": {},
   "toc_section_display": true,
   "toc_window_display": true
  }
 },
 "nbformat": 4,
 "nbformat_minor": 4
}
