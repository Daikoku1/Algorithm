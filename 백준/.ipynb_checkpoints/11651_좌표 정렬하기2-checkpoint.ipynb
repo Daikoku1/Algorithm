{
 "cells": [
  {
   "cell_type": "markdown",
   "id": "2872aad5",
   "metadata": {},
   "source": [
    "# 코드\n",
    "- 21.10 풀이\n",
    "- 단순정렬"
   ]
  },
  {
   "cell_type": "code",
   "execution_count": null,
   "id": "d5553c9f",
   "metadata": {},
   "outputs": [],
   "source": [
    "# 51272 KB, 372 ms\n",
    "import sys\n",
    "input = sys.stdin.readline\n",
    "N = int(input())\n",
    "ans = []\n",
    "for _ in range(N):\n",
    "    ans.append(tuple(map(int, input().split())))\n",
    "\n",
    "for x, y in sorted(ans, key = lambda x : (x[1], x[0])):\n",
    "    print(x,y)"
   ]
  }
 ],
 "metadata": {
  "kernelspec": {
   "display_name": "Python 3",
   "language": "python",
   "name": "python3"
  },
  "language_info": {
   "codemirror_mode": {
    "name": "ipython",
    "version": 3
   },
   "file_extension": ".py",
   "mimetype": "text/x-python",
   "name": "python",
   "nbconvert_exporter": "python",
   "pygments_lexer": "ipython3",
   "version": "3.8.8"
  }
 },
 "nbformat": 4,
 "nbformat_minor": 5
}
