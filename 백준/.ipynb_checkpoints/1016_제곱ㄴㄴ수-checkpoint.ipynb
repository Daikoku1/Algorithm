{
 "cells": [
  {
   "cell_type": "code",
   "execution_count": 9,
   "metadata": {},
   "outputs": [
    {
     "name": "stdout",
     "output_type": "stream",
     "text": [
      "2 9\n",
      "6\n"
     ]
    }
   ],
   "source": [
    "def prime(n):\n",
    "    if n < 2:\n",
    "        return []\n",
    "    n += 1\n",
    "    save = [1] * (n // 2)\n",
    "    for i in range(3, int(n ** 0.5) + 1, 2):\n",
    "        if save[i // 2]:\n",
    "            k = i * i\n",
    "            save[k // 2::i] = [0] * ((n - k - 1) // (2 * i) + 1)\n",
    "    return [2] + [2 * i + 1 for i in range(1, n // 2) if save[i]]\n",
    "\n",
    "def list_ver():\n",
    "    n, m = [int(i) for i in input().split()]\n",
    "    a = int((m+1)**0.5)\n",
    "    x = [1]*(m-n+1)\n",
    "    for p in prime(a):\n",
    "        div = p**2\n",
    "        u, v = (n-1)//div+1, m//div + 1\n",
    "        x[u*div-n::div] = [0]*(v-u)\n",
    "    return sum(x)\n",
    "\n",
    "print(list_ver())"
   ]
  },
  {
   "cell_type": "code",
   "execution_count": 2,
   "metadata": {},
   "outputs": [
    {
     "data": {
      "text/plain": [
       "7"
      ]
     },
     "execution_count": 2,
     "metadata": {},
     "output_type": "execute_result"
    }
   ],
   "source": [
    "answer"
   ]
  },
  {
   "cell_type": "code",
   "execution_count": null,
   "metadata": {},
   "outputs": [],
   "source": []
  }
 ],
 "metadata": {
  "kernelspec": {
   "display_name": "Python 3",
   "language": "python",
   "name": "python3"
  },
  "language_info": {
   "codemirror_mode": {
    "name": "ipython",
    "version": 3
   },
   "file_extension": ".py",
   "mimetype": "text/x-python",
   "name": "python",
   "nbconvert_exporter": "python",
   "pygments_lexer": "ipython3",
   "version": "3.8.3"
  },
  "toc": {
   "base_numbering": 1,
   "nav_menu": {},
   "number_sections": true,
   "sideBar": true,
   "skip_h1_title": false,
   "title_cell": "Table of Contents",
   "title_sidebar": "Contents",
   "toc_cell": false,
   "toc_position": {},
   "toc_section_display": true,
   "toc_window_display": true
  }
 },
 "nbformat": 4,
 "nbformat_minor": 4
}
