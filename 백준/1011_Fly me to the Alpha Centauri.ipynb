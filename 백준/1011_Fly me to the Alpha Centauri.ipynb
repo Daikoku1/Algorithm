{
 "cells": [
  {
   "cell_type": "code",
   "execution_count": null,
   "metadata": {},
   "outputs": [],
   "source": [
    "# Time = 848 ms\n",
    "# Memory = 28776 KB\n",
    "import sys\n",
    "input = sys.stdin.readline\n",
    "T = int(input())\n",
    "for _ in range(T):\n",
    "    s, e = map(int, input().split())\n",
    "    k = e - s\n",
    "    ans = 0\n",
    "    idx = 1\n",
    "    while True:\n",
    "        if k <= idx:\n",
    "            ans += 1\n",
    "            break\n",
    "        elif k <= idx*2:\n",
    "            ans += 2\n",
    "            break\n",
    "        k -= 2*idx\n",
    "        ans += 2\n",
    "        idx += 1\n",
    "    print(ans)"
   ]
  },
  {
   "cell_type": "code",
   "execution_count": 4,
   "metadata": {},
   "outputs": [
    {
     "name": "stdout",
     "output_type": "stream",
     "text": [
      "3\n",
      "-------------\n",
      "0 3\n",
      "2 1\n",
      "3\n",
      "-------------\n",
      "1 5\n",
      "0 2\n",
      "3\n",
      "4\n",
      "-------------\n",
      "45 50\n",
      "1 2\n",
      "4\n"
     ]
    }
   ],
   "source": [
    "# Time = 64 ms\n",
    "# Memory = 30888 KB\n",
    "import sys, math\n",
    "input = sys.stdin.readline\n",
    "T = int(input())\n",
    "for _ in range(T):\n",
    "    s, e = map(int, input().split())\n",
    "    l = e - s\n",
    "    root = int(math.sqrt(l))\n",
    "    num = l - root**2\n",
    "    \n",
    "    if num == 0:print(root*2 - 1)\n",
    "    elif num <= root:print(root*2)\n",
    "    else:print(root*2+1)"
   ]
  }
 ],
 "metadata": {
  "kernelspec": {
   "display_name": "Python 3",
   "language": "python",
   "name": "python3"
  },
  "language_info": {
   "codemirror_mode": {
    "name": "ipython",
    "version": 3
   },
   "file_extension": ".py",
   "mimetype": "text/x-python",
   "name": "python",
   "nbconvert_exporter": "python",
   "pygments_lexer": "ipython3",
   "version": "3.8.3"
  },
  "toc": {
   "base_numbering": 1,
   "nav_menu": {},
   "number_sections": true,
   "sideBar": true,
   "skip_h1_title": false,
   "title_cell": "Table of Contents",
   "title_sidebar": "Contents",
   "toc_cell": false,
   "toc_position": {},
   "toc_section_display": true,
   "toc_window_display": true
  }
 },
 "nbformat": 4,
 "nbformat_minor": 4
}
