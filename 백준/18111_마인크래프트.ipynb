{
 "cells": [
  {
   "cell_type": "code",
   "execution_count": 10,
   "metadata": {},
   "outputs": [
    {
     "name": "stdout",
     "output_type": "stream",
     "text": [
      "3 4 1\n",
      "64 64 64 64\n",
      "64 64 64 64\n",
      "64 64 64 63\n",
      "2 64\n"
     ]
    }
   ],
   "source": [
    "# Time = 216 ms\n",
    "# Memory = 32948 KB\n",
    "from collections import defaultdict\n",
    "N, M, B = map(int, input().split())\n",
    "dic = defaultdict(int)\n",
    "for _ in range(N):\n",
    "    for x in input().split():\n",
    "        dic[int(x)] += 1\n",
    "        \n",
    "answer = float('inf')\n",
    "height = 0\n",
    "for h in range(256, -1, -1):\n",
    "    time = 0\n",
    "    brick = B\n",
    "    for idx, val in dic.items():\n",
    "        if h > idx :\n",
    "            time += (h - idx) * val\n",
    "            brick -= (h - idx) * val\n",
    "        else : \n",
    "            time += 2*(idx - h) * val\n",
    "            brick += (idx - h) * val\n",
    "    if time < answer and brick >= 0:\n",
    "        answer = time\n",
    "        height = h\n",
    "\n",
    "print(answer, height)"
   ]
  },
  {
   "cell_type": "code",
   "execution_count": null,
   "metadata": {},
   "outputs": [],
   "source": []
  },
  {
   "cell_type": "markdown",
   "metadata": {},
   "source": [
    "# 코드\n",
    "- 21.10 다시 풂\n",
    "- 리스트 인덱스 활용하여 공간효율성 높임"
   ]
  },
  {
   "cell_type": "code",
   "execution_count": 9,
   "metadata": {},
   "outputs": [
    {
     "name": "stdout",
     "output_type": "stream",
     "text": [
      "3 4 99\n",
      "0 0 0 0\n",
      "0 0 0 0\n",
      "0 0 0 1\n",
      "8\n",
      "2 0\n"
     ]
    }
   ],
   "source": [
    "# 29200 KB, 196 ms\n",
    "N, M, B = map(int, input().split())\n",
    "arr = [0] * 257\n",
    "total = B\n",
    "for _ in range(N):\n",
    "    for x in map(int, input().split()):\n",
    "        arr[x] += 1\n",
    "        total += x\n",
    "\n",
    "min_height = 0\n",
    "min_time = float('inf')\n",
    "for h in range(total//(N*M)+1):\n",
    "    time = 0\n",
    "    for i, v in enumerate(arr):\n",
    "        if h < i: time += 2 * v * (i - h)\n",
    "        else: time += v * (h - i)\n",
    "    if time <= min_time : \n",
    "        min_time = time\n",
    "        min_height = h\n",
    "print(min_time, min_height)"
   ]
  }
 ],
 "metadata": {
  "kernelspec": {
   "display_name": "Python 3",
   "language": "python",
   "name": "python3"
  },
  "language_info": {
   "codemirror_mode": {
    "name": "ipython",
    "version": 3
   },
   "file_extension": ".py",
   "mimetype": "text/x-python",
   "name": "python",
   "nbconvert_exporter": "python",
   "pygments_lexer": "ipython3",
   "version": "3.8.8"
  },
  "toc": {
   "base_numbering": 1,
   "nav_menu": {},
   "number_sections": true,
   "sideBar": true,
   "skip_h1_title": false,
   "title_cell": "Table of Contents",
   "title_sidebar": "Contents",
   "toc_cell": false,
   "toc_position": {},
   "toc_section_display": true,
   "toc_window_display": true
  }
 },
 "nbformat": 4,
 "nbformat_minor": 4
}
