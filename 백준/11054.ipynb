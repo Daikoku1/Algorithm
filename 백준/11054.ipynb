{
 "cells": [
  {
   "cell_type": "markdown",
   "metadata": {},
   "source": [
    "# 코드\n",
    "- 22.02 풀이"
   ]
  },
  {
   "cell_type": "code",
   "execution_count": 11,
   "metadata": {},
   "outputs": [
    {
     "name": "stdout",
     "output_type": "stream",
     "text": [
      "7\n"
     ]
    }
   ],
   "source": [
    "# 30864\tKB, 104 ms\n",
    "N = int(input())\n",
    "arr = list(map(int, input().split()))\n",
    "answers = [1] * N\n",
    "front = [0]\n",
    "for idx, x in enumerate(arr):\n",
    "    if x > front[-1]: \n",
    "        answers[idx] += (len(front) - 1)\n",
    "        front.append(x)\n",
    "    else:\n",
    "        jdx = len(front) - 2\n",
    "        while jdx >= 0:\n",
    "            if front[jdx] < x :\n",
    "                answers[idx] += jdx\n",
    "                front[jdx+1] = x\n",
    "                break\n",
    "            jdx -= 1\n",
    "        \n",
    "back = [0]\n",
    "for idx, x in enumerate(arr[::-1], 1):\n",
    "    if x > back[-1]: \n",
    "        answers[-idx] += (len(back) - 1)\n",
    "        back.append(x)\n",
    "    else:\n",
    "        jdx = len(back) - 2\n",
    "        while jdx >= 0:\n",
    "            if back[jdx] < x :\n",
    "                answers[-idx] += jdx\n",
    "                back[jdx+1] = x\n",
    "                break\n",
    "            jdx -= 1\n",
    "\n",
    "print(max(answers))"
   ]
  }
 ],
 "metadata": {
  "interpreter": {
   "hash": "9652531e86fbc99dfe7fc5092eb81081a97fad237de3d1fd3b3a0d1c69c61538"
  },
  "kernelspec": {
   "display_name": "Python 3.9.7 ('ox')",
   "language": "python",
   "name": "python3"
  },
  "language_info": {
   "codemirror_mode": {
    "name": "ipython",
    "version": 3
   },
   "file_extension": ".py",
   "mimetype": "text/x-python",
   "name": "python",
   "nbconvert_exporter": "python",
   "pygments_lexer": "ipython3",
   "version": "3.9.7"
  },
  "orig_nbformat": 4
 },
 "nbformat": 4,
 "nbformat_minor": 2
}
