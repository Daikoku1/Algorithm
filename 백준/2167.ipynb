{
 "cells": [
  {
   "cell_type": "code",
   "execution_count": null,
   "metadata": {},
   "outputs": [],
   "source": [
    "# 36488\tKB, 1332 ms\n",
    "n, m = map(int, input().split())\n",
    "a = []\n",
    "dp = [[0] * (m + 1) for _ in range(n + 1)]\n",
    "for _ in range(n):\n",
    "    a.append(list(map(int, input().split())))\n",
    "for i in range(1, n + 1):\n",
    "    for j in range(1, m + 1):\n",
    "        dp[i][j] = a[i - 1][j - 1] + dp[i][j - 1] + dp[i - 1][j] - dp[i - 1][j - 1]\n",
    "k = int(input())\n",
    "for _ in range(k):\n",
    "    i, j, x, y = map(int, input().split())\n",
    "    print(dp[x][y] - dp[x][j - 1] - dp[i - 1][y] + dp[i - 1][j - 1])"
   ]
  }
 ],
 "metadata": {
  "language_info": {
   "name": "python"
  },
  "orig_nbformat": 4
 },
 "nbformat": 4,
 "nbformat_minor": 2
}
