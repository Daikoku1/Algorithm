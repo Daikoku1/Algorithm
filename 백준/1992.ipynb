{
 "cells": [
  {
   "cell_type": "code",
   "execution_count": 4,
   "metadata": {},
   "outputs": [
    {
     "name": "stdout",
     "output_type": "stream",
     "text": [
      "((110(0101))(0010)1(0001))\n"
     ]
    }
   ],
   "source": [
    "# 29200\tKB, 72 ms\n",
    "def BOJ_1992(x, y , n):\n",
    "    if n == 1 : return arr[x][y]\n",
    "    t = arr[x][y]\n",
    "    for i in range(x, x + n):\n",
    "        for j in range(y, y + n):\n",
    "            if arr[i][j] != t:\n",
    "                n //= 2\n",
    "                answer = ''\n",
    "                for k in range(2):\n",
    "                    for l in range(2):\n",
    "                        answer += BOJ_1992(x+k*n, y+l*n, n)\n",
    "                return '(' + answer + ')'\n",
    "    return t\n",
    "                \n",
    "N = int(input())\n",
    "arr = [list(input().strip()) for _ in range(N)]\n",
    "print(BOJ_1992(0,0,N))"
   ]
  }
 ],
 "metadata": {
  "interpreter": {
   "hash": "9652531e86fbc99dfe7fc5092eb81081a97fad237de3d1fd3b3a0d1c69c61538"
  },
  "kernelspec": {
   "display_name": "Python 3.9.7 64-bit ('ox': conda)",
   "language": "python",
   "name": "python3"
  },
  "language_info": {
   "codemirror_mode": {
    "name": "ipython",
    "version": 3
   },
   "file_extension": ".py",
   "mimetype": "text/x-python",
   "name": "python",
   "nbconvert_exporter": "python",
   "pygments_lexer": "ipython3",
   "version": "3.9.7"
  },
  "orig_nbformat": 4
 },
 "nbformat": 4,
 "nbformat_minor": 2
}
