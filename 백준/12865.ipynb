{
 "cells": [
  {
   "cell_type": "markdown",
   "metadata": {},
   "source": [
    "# 코드\n",
    "- 21.12 풀이"
   ]
  },
  {
   "cell_type": "code",
   "execution_count": null,
   "metadata": {},
   "outputs": [],
   "source": [
    "# 279644 KB, 6752 ms\n",
    "import sys\n",
    "input = sys.stdin.readline\n",
    "N, K = map(int, input().split())\n",
    "items = []\n",
    "for _ in range(N):\n",
    "    w, v = map(int, input().split())\n",
    "    items.append((w,v))\n",
    "bags = [[0 for _ in range(K+1)] for _ in range(N+1)]\n",
    "for i, (w, v) in enumerate(items, 1):\n",
    "    for j in range(1, K+1):\n",
    "        if j < w:\n",
    "            bags[i][j] = bags[i-1][j]\n",
    "        else:\n",
    "            bags[i][j] = max(bags[i-1][j-w] + v, bags[i-1][j])\n",
    "print(bags[-1][-1])"
   ]
  },
  {
   "cell_type": "code",
   "execution_count": 4,
   "metadata": {},
   "outputs": [
    {
     "name": "stdout",
     "output_type": "stream",
     "text": [
      "14\n"
     ]
    }
   ],
   "source": [
    "# 39504\tKB, 972 ms\n",
    "# import sys\n",
    "# input = sys.stdin.readline\n",
    "N, K = map(int, input().split())\n",
    "dic = {0 : 0} # weight : max value\n",
    "for _ in range(N):\n",
    "    weight, value = map(int, input().split())\n",
    "    temp = {}\n",
    "    for w, v in dic.items():\n",
    "        if weight + w <= K and v + value > dic.get(weight+w, 0):\n",
    "            temp[weight+w] = v + value\n",
    "    dic.update(temp)\n",
    "print(max(dic.values()))"
   ]
  },
  {
   "cell_type": "code",
   "execution_count": null,
   "metadata": {},
   "outputs": [],
   "source": []
  },
  {
   "cell_type": "markdown",
   "metadata": {},
   "source": [
    "# 코드\n",
    "- 22.02 풀이"
   ]
  },
  {
   "cell_type": "code",
   "execution_count": 3,
   "metadata": {},
   "outputs": [
    {
     "name": "stdout",
     "output_type": "stream",
     "text": [
      "14\n"
     ]
    }
   ],
   "source": [
    "# 40684\tKB, 756 ms\n",
    "import sys\n",
    "input = sys.stdin.readline\n",
    "N, K = map(int, input().split())\n",
    "\n",
    "bag = {0 : 0} # total weight, total value\n",
    "for _ in range(N):\n",
    "    w, v = map(int, input().split())\n",
    "    temp = {}\n",
    "    for W, V in bag.items():\n",
    "        if W + w <= K and bag.get(W + w, 0) < V + v:\n",
    "            temp[W+w] = V + v \n",
    "    bag.update(temp)\n",
    "print(max(bag.values()))"
   ]
  }
 ],
 "metadata": {
  "interpreter": {
   "hash": "9652531e86fbc99dfe7fc5092eb81081a97fad237de3d1fd3b3a0d1c69c61538"
  },
  "kernelspec": {
   "display_name": "Python 3.9.7 64-bit ('ox': conda)",
   "language": "python",
   "name": "python3"
  },
  "language_info": {
   "codemirror_mode": {
    "name": "ipython",
    "version": 3
   },
   "file_extension": ".py",
   "mimetype": "text/x-python",
   "name": "python",
   "nbconvert_exporter": "python",
   "pygments_lexer": "ipython3",
   "version": "3.9.7"
  },
  "orig_nbformat": 4
 },
 "nbformat": 4,
 "nbformat_minor": 2
}
