{
 "cells": [
  {
   "cell_type": "code",
   "execution_count": null,
   "metadata": {},
   "outputs": [],
   "source": [
    "4\n",
    "2 1 1 0"
   ]
  },
  {
   "cell_type": "code",
   "execution_count": 17,
   "metadata": {},
   "outputs": [
    {
     "name": "stdout",
     "output_type": "stream",
     "text": [
      "4\n",
      "2 1 1 0\n",
      "4 2 1 3\n"
     ]
    }
   ],
   "source": [
    "# Time = 68 ms\n",
    "# Memory = 30844 KB\n",
    "import heapq\n",
    "N = int(input())\n",
    "arr = [[idx, val] for idx, val in enumerate(map(int, input().split()), 1)]\n",
    "ans = []\n",
    "for idx, val in arr[::-1]:\n",
    "    ans.insert(val, idx)\n",
    "print(*ans)"
   ]
  },
  {
   "cell_type": "code",
   "execution_count": 19,
   "metadata": {},
   "outputs": [
    {
     "name": "stdout",
     "output_type": "stream",
     "text": [
      "[4]\n",
      "[4, 3]\n",
      "[4, 2, 3]\n",
      "[4, 2, 1, 3]\n"
     ]
    }
   ],
   "source": [
    "a = []\n",
    "a.insert(0, 4)\n",
    "print(a)\n",
    "a.insert(1, 3)\n",
    "print(a)\n",
    "a.insert(1, 2)\n",
    "print(a)\n",
    "a.insert(2, 1)\n",
    "print(a)"
   ]
  }
 ],
 "metadata": {
  "kernelspec": {
   "display_name": "Python 3",
   "language": "python",
   "name": "python3"
  },
  "language_info": {
   "codemirror_mode": {
    "name": "ipython",
    "version": 3
   },
   "file_extension": ".py",
   "mimetype": "text/x-python",
   "name": "python",
   "nbconvert_exporter": "python",
   "pygments_lexer": "ipython3",
   "version": "3.8.3"
  },
  "toc": {
   "base_numbering": 1,
   "nav_menu": {},
   "number_sections": true,
   "sideBar": true,
   "skip_h1_title": false,
   "title_cell": "Table of Contents",
   "title_sidebar": "Contents",
   "toc_cell": false,
   "toc_position": {},
   "toc_section_display": true,
   "toc_window_display": true
  }
 },
 "nbformat": 4,
 "nbformat_minor": 4
}
