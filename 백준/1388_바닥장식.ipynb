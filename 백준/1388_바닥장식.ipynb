{
 "cells": [
  {
   "cell_type": "code",
   "execution_count": 5,
   "metadata": {},
   "outputs": [
    {
     "name": "stdout",
     "output_type": "stream",
     "text": [
      "24\n"
     ]
    }
   ],
   "source": [
    "# 29200 KB, 72 ms\n",
    "N, M = map(int, input().split())\n",
    "arr = [list(input()) for _ in range(N)]\n",
    "ans = 0\n",
    "for i in range(N):\n",
    "    for j in range(M):\n",
    "        if arr[i][j] == '-':\n",
    "            ans += 1\n",
    "            to_do = [[i,j]]\n",
    "            while to_do:\n",
    "                x, y = to_do.pop()\n",
    "                arr[x][y] = 0\n",
    "                if y + 1 < M and arr[x][y+1] == '-':\n",
    "                    to_do.append([x, y+1])\n",
    "\n",
    "        elif arr[i][j] == '|':\n",
    "            ans += 1\n",
    "            to_do = [[i,j]]\n",
    "            while to_do:\n",
    "                x, y = to_do.pop()\n",
    "                arr[x][y] = 0\n",
    "                if x + 1 < N and arr[x+1][y] == '|':\n",
    "                    to_do.append([x+1, y])\n",
    "print(ans)"
   ]
  },
  {
   "cell_type": "code",
   "execution_count": null,
   "metadata": {},
   "outputs": [],
   "source": [
    "7 8\n",
    "--------\n",
    "|------|\n",
    "||----||\n",
    "|||--|||\n",
    "||----||\n",
    "|------|\n",
    "--------"
   ]
  },
  {
   "cell_type": "code",
   "execution_count": null,
   "metadata": {},
   "outputs": [],
   "source": [
    "4 4\n",
    "----\n",
    "----\n",
    "----\n",
    "----"
   ]
  },
  {
   "cell_type": "code",
   "execution_count": null,
   "metadata": {},
   "outputs": [],
   "source": []
  }
 ],
 "metadata": {
  "interpreter": {
   "hash": "9652531e86fbc99dfe7fc5092eb81081a97fad237de3d1fd3b3a0d1c69c61538"
  },
  "kernelspec": {
   "display_name": "Python 3.9.7 64-bit ('ox': conda)",
   "name": "python3"
  },
  "language_info": {
   "codemirror_mode": {
    "name": "ipython",
    "version": 3
   },
   "file_extension": ".py",
   "mimetype": "text/x-python",
   "name": "python",
   "nbconvert_exporter": "python",
   "pygments_lexer": "ipython3",
   "version": "3.9.7"
  },
  "orig_nbformat": 4
 },
 "nbformat": 4,
 "nbformat_minor": 2
}
