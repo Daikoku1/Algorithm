{
 "cells": [
  {
   "cell_type": "code",
   "execution_count": null,
   "metadata": {},
   "outputs": [],
   "source": [
    "# Time = 128 ms\n",
    "# Memory = 32452 KB\n",
    "import re, sys\n",
    "input = sys.stdin.readline\n",
    "T = int(input())\n",
    "\n",
    "for _ in range(T):\n",
    "    s = input().strip()\n",
    "    p = re.compile('(100+1+|01)+')\n",
    "    m = p.fullmatch(sign)\n",
    "    if m: print(\"YES\")\n",
    "    else: print(\"NO\")"
   ]
  },
  {
   "cell_type": "code",
   "execution_count": null,
   "metadata": {},
   "outputs": [],
   "source": [
    "# Time = 68 ms\n",
    "# Memory = 28776 KB\n",
    "import sys\n",
    "input = sys.stdin.readline\n",
    "T = int(input())\n",
    "for _ in range(T):\n",
    "    s = input().strip()\n",
    "    idx = 0\n",
    "    end = True\n",
    "    while idx < len(s):\n",
    "        if s[idx] == '1':\n",
    "            idx += 1\n",
    "            cnt0 = 0\n",
    "            while idx < len(s) and s[idx] == '0':\n",
    "                idx += 1\n",
    "                cnt0 += 1\n",
    "            if cnt0 < 2:\n",
    "                end = False\n",
    "                break\n",
    "            cnt1 = 0\n",
    "            while idx < len(s) and s[idx] == '1':\n",
    "                idx += 1\n",
    "                cnt1 += 1\n",
    "            if cnt1 == 0:\n",
    "                end = False\n",
    "                break\n",
    "            \n",
    "            if idx < len(s)-2 and cnt1 >= 2 and s[idx+1]=='0':\n",
    "                idx -= 1\n",
    "        \n",
    "        else:\n",
    "            if idx < len(s)-1 and s[idx+1] == '1':idx += 2\n",
    "            else:\n",
    "                end = False\n",
    "                break\n",
    "    if end:print('YES')\n",
    "    else:print('NO')"
   ]
  },
  {
   "cell_type": "code",
   "execution_count": null,
   "metadata": {},
   "outputs": [],
   "source": []
  },
  {
   "cell_type": "code",
   "execution_count": 15,
   "metadata": {},
   "outputs": [],
   "source": [
    "import re\n",
    "s = '1000111000'\n",
    "p = re.compile('(100+1+|01)+')\n",
    "m = p.match(s)"
   ]
  },
  {
   "cell_type": "code",
   "execution_count": 16,
   "metadata": {},
   "outputs": [
    {
     "data": {
      "text/plain": [
       "'1000111'"
      ]
     },
     "execution_count": 16,
     "metadata": {},
     "output_type": "execute_result"
    }
   ],
   "source": [
    "m.group()"
   ]
  },
  {
   "cell_type": "code",
   "execution_count": null,
   "metadata": {},
   "outputs": [],
   "source": []
  }
 ],
 "metadata": {
  "kernelspec": {
   "display_name": "Python 3",
   "language": "python",
   "name": "python3"
  },
  "language_info": {
   "codemirror_mode": {
    "name": "ipython",
    "version": 3
   },
   "file_extension": ".py",
   "mimetype": "text/x-python",
   "name": "python",
   "nbconvert_exporter": "python",
   "pygments_lexer": "ipython3",
   "version": "3.8.3"
  },
  "toc": {
   "base_numbering": 1,
   "nav_menu": {},
   "number_sections": true,
   "sideBar": true,
   "skip_h1_title": false,
   "title_cell": "Table of Contents",
   "title_sidebar": "Contents",
   "toc_cell": false,
   "toc_position": {},
   "toc_section_display": true,
   "toc_window_display": true
  }
 },
 "nbformat": 4,
 "nbformat_minor": 4
}
