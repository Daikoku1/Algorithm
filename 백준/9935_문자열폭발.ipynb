{
 "cells": [
  {
   "cell_type": "code",
   "execution_count": null,
   "metadata": {},
   "outputs": [],
   "source": [
    "# Time = 332 ms\n",
    "# Memory = 39956 KB\n",
    "string = input().strip()\n",
    "bomb = list(input().strip())\n",
    "b_last = bomb[-1]\n",
    "l = len(bomb)\n",
    "\n",
    "ans = []\n",
    "for x in string:\n",
    "    ans.append(x)\n",
    "    if b_last == x and bomb == ans[-l:]:\n",
    "        del ans[-l:]\n",
    "\n",
    "print(''.join(ans) if ans else \"FRULA\")\n"
   ]
  },
  {
   "cell_type": "code",
   "execution_count": null,
   "metadata": {},
   "outputs": [],
   "source": [
    "# 시간초과\n",
    "s = input().strip()\n",
    "p = input().strip()\n",
    "\n",
    "while True:\n",
    "    arr = s.split(p)\n",
    "    if len(arr) == 1:break\n",
    "    else:\n",
    "        s = ''.join(arr)\n",
    "if s == '':print(\"FRULA\")\n",
    "else:print(s)"
   ]
  },
  {
   "cell_type": "code",
   "execution_count": null,
   "metadata": {},
   "outputs": [],
   "source": [
    "# Time = 876 ms\n",
    "# Memory = 39956 KB\n",
    "string = input().strip()\n",
    "bomb = list(input().strip())\n",
    "b_last = bomb[-1]\n",
    "l = len(bomb)\n",
    "\n",
    "ans = []\n",
    "for x in string:\n",
    "    ans.append(x)\n",
    "    if len(ans) >= l:\n",
    "        same = True\n",
    "        for idx in range(-1, -l-1, -1):\n",
    "            if ans[idx] != bomb[idx]:\n",
    "                same = False\n",
    "                break\n",
    "        if same:\n",
    "            del ans[-l:]\n",
    "\n",
    "print(''.join(ans) if ans else \"FRULA\")"
   ]
  }
 ],
 "metadata": {
  "kernelspec": {
   "display_name": "Python 3",
   "language": "python",
   "name": "python3"
  },
  "language_info": {
   "codemirror_mode": {
    "name": "ipython",
    "version": 3
   },
   "file_extension": ".py",
   "mimetype": "text/x-python",
   "name": "python",
   "nbconvert_exporter": "python",
   "pygments_lexer": "ipython3",
   "version": "3.8.3"
  },
  "toc": {
   "base_numbering": 1,
   "nav_menu": {},
   "number_sections": true,
   "sideBar": true,
   "skip_h1_title": false,
   "title_cell": "Table of Contents",
   "title_sidebar": "Contents",
   "toc_cell": false,
   "toc_position": {},
   "toc_section_display": true,
   "toc_window_display": true
  }
 },
 "nbformat": 4,
 "nbformat_minor": 4
}
