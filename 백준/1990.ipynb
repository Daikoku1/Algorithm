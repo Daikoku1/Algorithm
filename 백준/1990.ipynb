{
 "cells": [
  {
   "cell_type": "markdown",
   "metadata": {},
   "source": [
    "# 코드\n",
    "- 21.11 풀이\n",
    "- 메모리 초과"
   ]
  },
  {
   "cell_type": "code",
   "execution_count": 2,
   "metadata": {},
   "outputs": [
    {
     "name": "stdout",
     "output_type": "stream",
     "text": [
      "5\n",
      "7\n",
      "11\n",
      "101\n",
      "131\n",
      "151\n",
      "181\n",
      "191\n",
      "313\n",
      "353\n",
      "373\n",
      "383\n",
      "-1\n"
     ]
    }
   ],
   "source": [
    "N, M = map(int, input().split())\n",
    "\n",
    "primes = [False, False] + [True] * (M-1)\n",
    "for x in range(2, M+1):\n",
    "    if primes[x]:\n",
    "        if x >= N and str(x) == str(x)[::-1]: print(x)\n",
    "        for y in range(2*x, M+1, x):\n",
    "            primes[y] = False\n",
    "print(-1)"
   ]
  },
  {
   "cell_type": "markdown",
   "metadata": {},
   "source": [
    "- 펠린드롭 찾고, 소수찾기\n",
    "- 시간초과"
   ]
  },
  {
   "cell_type": "code",
   "execution_count": 3,
   "metadata": {},
   "outputs": [],
   "source": [
    "def prime(x):\n",
    "    for i in range(2, int(math.sqrt(x))+1):\n",
    "        if x % i == 0 : return False\n",
    "    return True\n",
    "\n",
    "N, M = map(int, input().split())\n",
    "for x in range(N, M+1):\n",
    "    if str(x) == str(x)[::-1]:\n",
    "        if prime(x):\n",
    "            print(x)\n",
    "print(-1)"
   ]
  },
  {
   "cell_type": "markdown",
   "metadata": {},
   "source": []
  },
  {
   "cell_type": "markdown",
   "metadata": {},
   "source": [
    "# 코드\n",
    "- 펠린드롭 만들고 소수 확인"
   ]
  },
  {
   "cell_type": "code",
   "execution_count": 5,
   "metadata": {},
   "outputs": [
    {
     "name": "stdout",
     "output_type": "stream",
     "text": [
      "5\n",
      "7\n",
      "11\n",
      "101\n",
      "131\n",
      "151\n",
      "181\n",
      "191\n",
      "313\n",
      "353\n",
      "373\n",
      "383\n",
      "-1\n"
     ]
    }
   ],
   "source": [
    "# 32080 KB,\t224 ms\n",
    "import math\n",
    "def make_palinedrop(s, e):\n",
    "    res = []\n",
    "    if s == 5 and e >= 5 : res.append(5)\n",
    "    if s <= 7 and e >= 7 : res.append(7)\n",
    "\n",
    "    for i in range(10000):\n",
    "        num = int(str(i) + str(i)[::-1])\n",
    "        if num >= s and num <= e : \n",
    "            res.append(num)\n",
    "    \n",
    "    for i in range(1000):\n",
    "        for j in range(10):\n",
    "            num = int(str(i) + str(j) + str(i)[::-1])\n",
    "        \n",
    "            if num >= s and num <= e : \n",
    "                res.append(num)\n",
    "    \n",
    "    return res\n",
    "\n",
    "def prime(x):\n",
    "    for i in range(2, int(math.sqrt(x))+1):\n",
    "        if x % i == 0 : return False\n",
    "    return True\n",
    "\n",
    "N, M = map(int, input().split())\n",
    "for x in make_palinedrop(N, M):\n",
    "    if prime(x) : print(x)\n",
    "\n",
    "print(-1)\n"
   ]
  }
 ],
 "metadata": {
  "interpreter": {
   "hash": "9652531e86fbc99dfe7fc5092eb81081a97fad237de3d1fd3b3a0d1c69c61538"
  },
  "kernelspec": {
   "display_name": "Python 3.9.7 64-bit ('ox': conda)",
   "language": "python",
   "name": "python3"
  },
  "language_info": {
   "codemirror_mode": {
    "name": "ipython",
    "version": 3
   },
   "file_extension": ".py",
   "mimetype": "text/x-python",
   "name": "python",
   "nbconvert_exporter": "python",
   "pygments_lexer": "ipython3",
   "version": "3.9.7"
  },
  "orig_nbformat": 4
 },
 "nbformat": 4,
 "nbformat_minor": 2
}
