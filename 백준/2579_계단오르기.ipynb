{
 "cells": [
  {
   "cell_type": "code",
   "execution_count": null,
   "metadata": {},
   "outputs": [],
   "source": [
    "# Time = 64 ms\n",
    "# Memory = 28776 KB\n",
    "import sys\n",
    "input = sys.stdin.readline\n",
    "T = int(input())\n",
    "arr = [int(input()) for _ in range(T)]\n",
    "dp = [0 for _ in range(T)]\n",
    "if T < 3:print(sum(arr))\n",
    "else:\n",
    "    dp[0] = arr[0]\n",
    "    dp[1] = arr[0] + arr[1]\n",
    "    dp[2] = max(arr[1] + arr[2], arr[0] + arr[2])\n",
    "\n",
    "    for i in range(3, T):\n",
    "        dp[i] = max(dp[i - 3] + arr[i - 1] + arr[i], dp[i - 2] + arr[i])\n",
    "    print(dp[-1])"
   ]
  },
  {
   "cell_type": "code",
   "execution_count": null,
   "metadata": {},
   "outputs": [],
   "source": []
  },
  {
   "cell_type": "markdown",
   "metadata": {},
   "source": [
    "# 코드\n",
    "- 21.12 풀이"
   ]
  },
  {
   "cell_type": "code",
   "execution_count": null,
   "metadata": {},
   "outputs": [],
   "source": [
    "# 29200 KB, 76 ms\t\n",
    "N = int(input())\n",
    "arr = [int(input()) for _ in range(N)]\n",
    "if N < 3: print(sum(arr))\n",
    "else:\n",
    "    dp = [0] * N\n",
    "    dp[0] = arr[0]\n",
    "    dp[1] = arr[0] + arr[1]\n",
    "    dp[2] = max(arr[0] + arr[2], arr[1] + arr[0])\n",
    "    idx = 3\n",
    "    while idx < N:\n",
    "        dp[idx] = max(arr[idx]+arr[idx-1] + dp[idx-3], arr[idx]+dp[idx-2])\n",
    "        idx += 1\n",
    "    print(dp[-1])"
   ]
  }
 ],
 "metadata": {
  "kernelspec": {
   "display_name": "Python 3",
   "language": "python",
   "name": "python3"
  },
  "language_info": {
   "codemirror_mode": {
    "name": "ipython",
    "version": 3
   },
   "file_extension": ".py",
   "mimetype": "text/x-python",
   "name": "python",
   "nbconvert_exporter": "python",
   "pygments_lexer": "ipython3",
   "version": "3.8.3"
  },
  "toc": {
   "base_numbering": 1,
   "nav_menu": {},
   "number_sections": true,
   "sideBar": true,
   "skip_h1_title": false,
   "title_cell": "Table of Contents",
   "title_sidebar": "Contents",
   "toc_cell": false,
   "toc_position": {},
   "toc_section_display": true,
   "toc_window_display": true
  }
 },
 "nbformat": 4,
 "nbformat_minor": 4
}
