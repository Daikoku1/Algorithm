{
 "cells": [
  {
   "cell_type": "code",
   "execution_count": null,
   "metadata": {
    "scrolled": true
   },
   "outputs": [],
   "source": [
    "# Time = 2836 ms\n",
    "# Memory = 106052 KB\n",
    "from collections import deque\n",
    "import sys\n",
    "input = sys.stdin.readline\n",
    "m, n = map(int, input().split())\n",
    "total = m*n\n",
    "day = -1\n",
    "tomato = [[0]*m for _ in range(n)]\n",
    "done = deque()\n",
    "for i in range(n):\n",
    "    for j, val in enumerate(input().split()):\n",
    "        if val == '0':tomato[i][j] = 0\n",
    "        elif val == '-1':\n",
    "            tomato[i][j] = -1\n",
    "            total -= 1\n",
    "        else:\n",
    "            tomato[i][j] = 1\n",
    "            done.append([i,j])\n",
    "            total -= 1\n",
    "\n",
    "while done:\n",
    "    day += 1\n",
    "    for _ in range(len(done)):\n",
    "        x, y = done.popleft()\n",
    "        for d_x,d_y in [[1,0],[-1,0],[0,1],[0,-1]]:\n",
    "            new_x,new_y = x+d_x, y+d_y\n",
    "            if -1<new_x<n and -1<new_y<m:\n",
    "                if tomato[new_x][new_y] == 0:\n",
    "                    done.append([new_x,new_y])\n",
    "                    tomato[new_x][new_y] = 1\n",
    "                    total -= 1\n",
    "if total != 0: print(-1)\n",
    "else:print(day)"
   ]
  },
  {
   "cell_type": "code",
   "execution_count": 27,
   "metadata": {},
   "outputs": [
    {
     "name": "stdout",
     "output_type": "stream",
     "text": [
      "6 4\n",
      "0 0 0 0 0 0\n",
      "0 0 0 0 0 0\n",
      "0 0 0 0 0 0\n",
      "0 0 0 0 0 1\n",
      "111111\n",
      "deque([[3, 5]])\n",
      "[['0', '0', '0', '0', '0', '0'], ['0', '0', '0', '0', '0', '0'], ['0', '0', '0', '0', '0', '0'], ['0', '0', '0', '0', '0', '1']]\n",
      "-1\n"
     ]
    }
   ],
   "source": [
    "import sys\n",
    "from collections import deque\n",
    "input = sys.stdin.readline\n",
    "m, n = map(int, input().split())\n",
    "tomato = []\n",
    "to_do = 0\n",
    "done = deque()\n",
    "for i in range(n):\n",
    "    tomato.append(input().split())\n",
    "    for j in range(m):\n",
    "        if tomato[i][j] == '0':to_do += 1\n",
    "        if tomato[i][j] == '1':done.append([i,j])\n",
    "day = 0\n",
    "while done and to_do:\n",
    "    day += 1\n",
    "    for _ in range(len(done)):\n",
    "        x, y = done.popleft()\n",
    "        for d_x,d_y in [[1,0],[-1,0],[0,1],[0,-1]]:\n",
    "            new_x,new_y = x+d_x, y+d_y\n",
    "            if -1<new_x<n and -1<new_y<m:\n",
    "                if tomato[new_x][new_y] == '0':\n",
    "                    done.append([new_x,new_y])\n",
    "                    tomato[new_x][new_y] = '1'\n",
    "                    to_do -= 1\n",
    "\n",
    "if to_do:print(-1)\n",
    "else:print(day)"
   ]
  },
  {
   "cell_type": "code",
   "execution_count": 29,
   "metadata": {},
   "outputs": [
    {
     "name": "stdout",
     "output_type": "stream",
     "text": [
      "6 4\n",
      "0 0 0 0 0 0\n",
      "0 0 0 0 0 0\n",
      "0 0 0 0 0 0\n",
      "0 0 0 0 0 1\n",
      "8\n"
     ]
    }
   ],
   "source": [
    "# Time = 1660 ms\n",
    "# Memory = 107048 KB\n",
    "import sys\n",
    "from collections import deque\n",
    "# input = sys.stdin.readline\n",
    "m, n = map(int, input().split())\n",
    "tomato = []\n",
    "to_do = 0\n",
    "done = deque()\n",
    "for i in range(n):\n",
    "    tomato.append(input().split())\n",
    "    for j in range(m):\n",
    "        if tomato[i][j] == '0':to_do += 1\n",
    "        if tomato[i][j] == '1':done.append([i,j])\n",
    "day = 0\n",
    "while done and to_do:\n",
    "    day += 1\n",
    "    for _ in range(len(done)):\n",
    "        x, y = done.popleft()\n",
    "        if x > 0 and tomato[x-1][y] == '0':\n",
    "            done.append([x-1,y])\n",
    "            tomato[x-1][y] = '1'\n",
    "            to_do -= 1\n",
    "        if x < n-1 and tomato[x+1][y] == '0':\n",
    "            done.append([x+1,y])\n",
    "            tomato[x+1][y] = '1'\n",
    "            to_do -= 1\n",
    "        if y > 0 and tomato[x][y-1] == '0':\n",
    "            done.append([x,y-1])\n",
    "            tomato[x][y-1] = '1'\n",
    "            to_do -= 1\n",
    "        if y < m-1 and tomato[x][y+1] == '0':\n",
    "            done.append([x,y+1])\n",
    "            tomato[x][y+1] = '1'\n",
    "            to_do -= 1\n",
    "\n",
    "if to_do:print(-1)\n",
    "else:print(day)"
   ]
  }
 ],
 "metadata": {
  "kernelspec": {
   "display_name": "Python 3",
   "language": "python",
   "name": "python3"
  },
  "language_info": {
   "codemirror_mode": {
    "name": "ipython",
    "version": 3
   },
   "file_extension": ".py",
   "mimetype": "text/x-python",
   "name": "python",
   "nbconvert_exporter": "python",
   "pygments_lexer": "ipython3",
   "version": "3.8.3"
  },
  "toc": {
   "base_numbering": 1,
   "nav_menu": {},
   "number_sections": true,
   "sideBar": true,
   "skip_h1_title": false,
   "title_cell": "Table of Contents",
   "title_sidebar": "Contents",
   "toc_cell": false,
   "toc_position": {},
   "toc_section_display": true,
   "toc_window_display": true
  }
 },
 "nbformat": 4,
 "nbformat_minor": 4
}
