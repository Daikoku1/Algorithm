{
 "cells": [
  {
   "cell_type": "code",
   "execution_count": 6,
   "metadata": {},
   "outputs": [
    {
     "name": "stdout",
     "output_type": "stream",
     "text": [
      "6 8\n",
      "1 2\n",
      "2 5\n",
      "5 1\n",
      "3 4\n",
      "4 6\n",
      "5 4\n",
      "2 4\n",
      "2 3\n",
      "1\n"
     ]
    }
   ],
   "source": [
    "# Time = 840 ms\n",
    "# Memory = 62996 KB\n",
    "import sys\n",
    "input = sys.stdin.readline\n",
    "# N : 정점의 개수, M : 간선의 개수\n",
    "N, M = map(int, input().split())\n",
    "dic = {i : [] for i in range(1, N+1)}\n",
    "for _ in range(M):\n",
    "    x, y = map(int, input().split())\n",
    "    dic[x].append(y)\n",
    "    dic[y].append(x)\n",
    "\n",
    "visited = [0]*(N+1)\n",
    "cnt = 0\n",
    "for x in range(1, N+1):\n",
    "    if visited[x] == 0:\n",
    "        visited[x] = 1\n",
    "        to_do = [x]\n",
    "        cnt += 1\n",
    "        while to_do:\n",
    "            for i in dic[to_do.pop()]:\n",
    "                if visited[i] == 0:\n",
    "                    visited[i] = 1\n",
    "                    to_do.append(i)\n",
    "\n",
    "print(cnt)"
   ]
  }
 ],
 "metadata": {
  "kernelspec": {
   "display_name": "Python 3",
   "language": "python",
   "name": "python3"
  },
  "language_info": {
   "codemirror_mode": {
    "name": "ipython",
    "version": 3
   },
   "file_extension": ".py",
   "mimetype": "text/x-python",
   "name": "python",
   "nbconvert_exporter": "python",
   "pygments_lexer": "ipython3",
   "version": "3.8.3"
  },
  "toc": {
   "base_numbering": 1,
   "nav_menu": {},
   "number_sections": true,
   "sideBar": true,
   "skip_h1_title": false,
   "title_cell": "Table of Contents",
   "title_sidebar": "Contents",
   "toc_cell": false,
   "toc_position": {},
   "toc_section_display": true,
   "toc_window_display": true
  }
 },
 "nbformat": 4,
 "nbformat_minor": 4
}
