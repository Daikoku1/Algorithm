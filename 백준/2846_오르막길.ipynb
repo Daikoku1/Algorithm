{
 "cells": [
  {
   "cell_type": "code",
   "execution_count": null,
   "metadata": {},
   "outputs": [],
   "source": [
    "import sys\n",
    "input = sys.stdin.readline\n",
    "N = int(input())\n",
    "li = list(map(int, input().split()))\n",
    "answer = 0\n",
    "prev = li[0]\n",
    "now = prev\n",
    "for idx, val in enumerate(li[1:],1):\n",
    "    if val > now:\n",
    "        now = val\n",
    "    else:\n",
    "        answer = max(answer, now - prev)\n",
    "        prev = val\n",
    "        now = val\n",
    "answer = max(answer, now - prev)\n",
    "print(answer)"
   ]
  },
  {
   "cell_type": "code",
   "execution_count": 2,
   "metadata": {},
   "outputs": [],
   "source": [
    "li = [12, 20, 1, 3, 4, 4, 11, 1]"
   ]
  },
  {
   "cell_type": "code",
   "execution_count": 5,
   "metadata": {},
   "outputs": [
    {
     "name": "stdout",
     "output_type": "stream",
     "text": [
      "8\n"
     ]
    }
   ],
   "source": [
    "answer = 0\n",
    "prev = li[0]\n",
    "now = prev\n",
    "for idx, val in enumerate(li[1:],1):\n",
    "    if val > now:\n",
    "        now = val\n",
    "    else:\n",
    "        answer = max(answer, now - prev)\n",
    "        prev = val\n",
    "        now = val\n",
    "answer = max(answer, now - prev)\n",
    "print(answer)"
   ]
  },
  {
   "cell_type": "code",
   "execution_count": null,
   "metadata": {},
   "outputs": [],
   "source": []
  },
  {
   "cell_type": "code",
   "execution_count": null,
   "metadata": {},
   "outputs": [],
   "source": []
  }
 ],
 "metadata": {
  "kernelspec": {
   "display_name": "Python 3",
   "language": "python",
   "name": "python3"
  },
  "language_info": {
   "codemirror_mode": {
    "name": "ipython",
    "version": 3
   },
   "file_extension": ".py",
   "mimetype": "text/x-python",
   "name": "python",
   "nbconvert_exporter": "python",
   "pygments_lexer": "ipython3",
   "version": "3.8.3"
  },
  "toc": {
   "base_numbering": 1,
   "nav_menu": {},
   "number_sections": true,
   "sideBar": true,
   "skip_h1_title": false,
   "title_cell": "Table of Contents",
   "title_sidebar": "Contents",
   "toc_cell": false,
   "toc_position": {},
   "toc_section_display": true,
   "toc_window_display": true
  }
 },
 "nbformat": 4,
 "nbformat_minor": 4
}
