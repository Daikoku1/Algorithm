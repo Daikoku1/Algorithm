{
 "cells": [
  {
   "cell_type": "code",
   "execution_count": null,
   "metadata": {},
   "outputs": [],
   "source": [
    "# 30864\tKB, 76 ms\n",
    "import sys\n",
    "input = sys.stdin.readline\n",
    "fibonacci = {0: 0, 1: 1, 2: 1}\n",
    "def getFibonacci(n):\n",
    "    if not fibonacci.get(n):\n",
    "        if n % 2 == 1:\n",
    "            fibonacci[n] = (getFibonacci((n+1)//2)**2 +\n",
    "                            getFibonacci((n+1)//2-1)**2) % 1000000007\n",
    "        else:\n",
    "            fibonacci[n] = (getFibonacci(n+1) - getFibonacci(n-1)) % 1000000007\n",
    "\n",
    "    return fibonacci[n]\n",
    "\n",
    "N = int(input())\n",
    "print(getFibonacci(N))"
   ]
  }
 ],
 "metadata": {
  "interpreter": {
   "hash": "9652531e86fbc99dfe7fc5092eb81081a97fad237de3d1fd3b3a0d1c69c61538"
  },
  "kernelspec": {
   "display_name": "Python 3.9.7 ('ox')",
   "language": "python",
   "name": "python3"
  },
  "language_info": {
   "codemirror_mode": {
    "name": "ipython",
    "version": 3
   },
   "file_extension": ".py",
   "mimetype": "text/x-python",
   "name": "python",
   "nbconvert_exporter": "python",
   "pygments_lexer": "ipython3",
   "version": "3.9.7"
  },
  "orig_nbformat": 4
 },
 "nbformat": 4,
 "nbformat_minor": 2
}
