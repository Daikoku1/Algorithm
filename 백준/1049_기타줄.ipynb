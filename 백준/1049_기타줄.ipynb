{
 "cells": [
  {
   "cell_type": "code",
   "execution_count": 2,
   "metadata": {},
   "outputs": [
    {
     "name": "stdout",
     "output_type": "stream",
     "text": [
      "36\n"
     ]
    }
   ],
   "source": [
    "# 29200 KB, 68 ms\n",
    "# import sys\n",
    "# input = sys.stdin.readline\n",
    "N, M = map(int, input().split())\n",
    "one_li = []\n",
    "six_li = []\n",
    "for _ in range(M):\n",
    "    x, y = map(int, input().split())\n",
    "    one_li.append(y)\n",
    "    six_li.append(min(x, 6*y))\n",
    "\n",
    "min_six = min(six_li)\n",
    "min_one = min(one_li)\n",
    "if min_six < 6*min_one:\n",
    "    q, r = divmod(N, 6)\n",
    "    if min_one * r < min_six: print(min_six * q + r * min_one)\n",
    "    else: print(min_six * (q+1))\n",
    "else:\n",
    "    print(min_one * N)"
   ]
  }
 ],
 "metadata": {
  "interpreter": {
   "hash": "9652531e86fbc99dfe7fc5092eb81081a97fad237de3d1fd3b3a0d1c69c61538"
  },
  "kernelspec": {
   "display_name": "Python 3.9.7 64-bit ('ox': conda)",
   "name": "python3"
  },
  "language_info": {
   "codemirror_mode": {
    "name": "ipython",
    "version": 3
   },
   "file_extension": ".py",
   "mimetype": "text/x-python",
   "name": "python",
   "nbconvert_exporter": "python",
   "pygments_lexer": "ipython3",
   "version": "3.9.7"
  },
  "orig_nbformat": 4
 },
 "nbformat": 4,
 "nbformat_minor": 2
}
