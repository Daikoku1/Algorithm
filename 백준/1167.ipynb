{
 "cells": [
  {
   "cell_type": "markdown",
   "metadata": {},
   "source": [
    "# 코드\n",
    "- 21.12 풀이\n",
    "- 다익스트라\n",
    "- 시간초과."
   ]
  },
  {
   "cell_type": "code",
   "execution_count": 5,
   "metadata": {},
   "outputs": [],
   "source": [
    "N = int(input())\n",
    "graph = {i : {} for i in range(1, N+1)}\n",
    "for i in range(1, N+1):\n",
    "    temp = list(map(int, input().split()))\n",
    "    for j in range(1, len(temp)-1, 2):\n",
    "        graph[i][temp[j]] = temp[j+1]"
   ]
  },
  {
   "cell_type": "code",
   "execution_count": 6,
   "metadata": {},
   "outputs": [
    {
     "data": {
      "text/plain": [
       "{1: {3: 2}, 2: {4: 4}, 3: {1: 2, 4: 3}, 4: {2: 4, 3: 3, 5: 6}, 5: {4: 6}}"
      ]
     },
     "execution_count": 6,
     "metadata": {},
     "output_type": "execute_result"
    }
   ],
   "source": [
    "graph"
   ]
  },
  {
   "cell_type": "code",
   "execution_count": 25,
   "metadata": {},
   "outputs": [
    {
     "name": "stdout",
     "output_type": "stream",
     "text": [
      "11\n"
     ]
    }
   ],
   "source": [
    "import heapq\n",
    "def Dijkstra(graph, N, S):\n",
    "    cost = {i : float('inf') for i in range(1, N+1)}\n",
    "    cost[S] = 0\n",
    "\n",
    "    h = []\n",
    "    heapq.heappush(h, (0, S))\n",
    "\n",
    "    while h:\n",
    "        p, curr = heapq.heappop(h)\n",
    "        for next in graph[curr].keys():\n",
    "            if next != S:\n",
    "                if cost[next] > p + graph[curr][next]:\n",
    "                    cost[next] = p + graph[curr][next]\n",
    "                    heapq.heappush(h, (cost[next], next))\n",
    "    return max(cost.values())\n",
    "\n",
    "answer = 0\n",
    "for i in range(1, N+1):\n",
    "    answer = max(answer, Dijkstra(graph, N, i))\n",
    "print(answer)"
   ]
  },
  {
   "cell_type": "markdown",
   "metadata": {},
   "source": [
    "# 코드\n",
    "- 아무 점에서 dfs, bfs 사용 -> 가장 먼거리에 있는 점(P1)\n",
    "- p1 은 무조건 말단노드 \n",
    "- p1에서 dfs, bfs 탐색 -> 가장 먼거리에 있는 점(p2)\n",
    "- p2 역시 말단노드 ==> p1 ~ p2 는 최장거리"
   ]
  },
  {
   "cell_type": "code",
   "execution_count": null,
   "metadata": {},
   "outputs": [],
   "source": [
    "# 68908 KB,\t652 ms\n",
    "import sys\n",
    "input = sys.stdin.readline\n",
    "N = int(input())\n",
    "\n",
    "graph = [[] for _ in range(N + 1)]\n",
    "\n",
    "for _ in range(N):\n",
    "    temp = list(map(int, input().split()))\n",
    "    for i in range(1, len(temp) - 1, 2):\n",
    "        graph[temp[0]].append((temp[i], temp[i + 1]))\n",
    "\n",
    "def DFS(graph, N, S):\n",
    "    visited = [-1] * (N + 1)\n",
    "    visited[S] = 0\n",
    "\n",
    "    to_do = [S]\n",
    "    answer = [0, 0]\n",
    "    while to_do:\n",
    "        curr = to_do.pop()\n",
    "        for e, w in graph[curr]:\n",
    "            if visited[e] == -1:\n",
    "                visited[e] = visited[curr] + w\n",
    "                to_do.append(e)\n",
    "                if answer[1] < visited[e]:\n",
    "                    answer = [e, visited[e]]\n",
    "\n",
    "    return answer\n",
    "\n",
    "node, length = DFS(graph, N, 1)\n",
    "node, length = DFS(graph, N, node)\n",
    "print(length)"
   ]
  }
 ],
 "metadata": {
  "interpreter": {
   "hash": "9652531e86fbc99dfe7fc5092eb81081a97fad237de3d1fd3b3a0d1c69c61538"
  },
  "kernelspec": {
   "display_name": "Python 3.9.7 64-bit ('ox': conda)",
   "language": "python",
   "name": "python3"
  },
  "language_info": {
   "codemirror_mode": {
    "name": "ipython",
    "version": 3
   },
   "file_extension": ".py",
   "mimetype": "text/x-python",
   "name": "python",
   "nbconvert_exporter": "python",
   "pygments_lexer": "ipython3",
   "version": "3.9.7"
  },
  "orig_nbformat": 4
 },
 "nbformat": 4,
 "nbformat_minor": 2
}
