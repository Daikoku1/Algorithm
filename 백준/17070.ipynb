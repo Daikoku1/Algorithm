{
 "cells": [
  {
   "cell_type": "code",
   "execution_count": null,
   "metadata": {},
   "outputs": [],
   "source": [
    "# 30864\tKB, 68 ms\n",
    "import sys\n",
    "input = sys.stdin.readline\n",
    "N = int(input())\n",
    "dp = [list(map(int, input().split())) for i in range(N)]\n",
    "result = [[[0 for i in range(N)] for i in range(N)] for i in range(3)]\n",
    "result[0][0][1] = 1\n",
    "for i in range(2, N):\n",
    "    if dp[0][i] == 0:\n",
    "        result[0][0][i] = result[0][0][i - 1]\n",
    "for i in range(1, N):\n",
    "    for j in range(2, N):\n",
    "        if dp[i][j] == 0 and dp[i - 1][j] == 0 and dp[i][j - 1] == 0:\n",
    "            result[2][i][j] = result[0][i - 1][j - 1] + result[1][i - 1][j - 1] + result[2][i - 1][j - 1]\n",
    "        if dp[i][j] == 0:\n",
    "            result[0][i][j] = result[0][i][j - 1] + result[2][i][j - 1]\n",
    "            result[1][i][j] = result[1][i - 1][j] + result[2][i - 1][j]\n",
    "print(result[0][N - 1][N - 1] + result[1][N - 1][N - 1] + result[2][N - 1][N - 1])"
   ]
  }
 ],
 "metadata": {
  "language_info": {
   "name": "python"
  },
  "orig_nbformat": 4
 },
 "nbformat": 4,
 "nbformat_minor": 2
}
