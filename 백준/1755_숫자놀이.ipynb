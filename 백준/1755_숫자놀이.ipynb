{
 "cells": [
  {
   "cell_type": "code",
   "execution_count": 20,
   "metadata": {},
   "outputs": [
    {
     "name": "stdout",
     "output_type": "stream",
     "text": [
      "[8, 9, 18, 15, 14, 19, 11, 17, 16, 13, 12, 10, 28, 25, 24, 21, 27, 26, 23, 22, 20]\n",
      "8 9 18 15 14 19 11 17 16 13\n",
      "12 10 28 25 24 21 27 26 23 22\n",
      "20"
     ]
    }
   ],
   "source": [
    "# 29200 KB, 72 ms\n",
    "M, N = map(int, input().split())\n",
    "ans = []\n",
    "order = [8, 5, 4, 9, 1, 7, 6, 3, 2, 0]\n",
    "for i in order[:-1]:\n",
    "    if M <= i <= N: ans.append(i)\n",
    "    for j in order:\n",
    "        if M <= 10 * i + j <= N:\n",
    "            ans.append(10*i + j)\n",
    "\n",
    "for idx, val in enumerate(ans, 1):\n",
    "    print(val, end = '')\n",
    "    if idx == len(ans): pass\n",
    "    elif idx % 10 == 0: print('\\n', end = '')\n",
    "    else: print(' ', end = '')"
   ]
  }
 ],
 "metadata": {
  "interpreter": {
   "hash": "9652531e86fbc99dfe7fc5092eb81081a97fad237de3d1fd3b3a0d1c69c61538"
  },
  "kernelspec": {
   "display_name": "Python 3.9.7 64-bit ('ox': conda)",
   "name": "python3"
  },
  "language_info": {
   "codemirror_mode": {
    "name": "ipython",
    "version": 3
   },
   "file_extension": ".py",
   "mimetype": "text/x-python",
   "name": "python",
   "nbconvert_exporter": "python",
   "pygments_lexer": "ipython3",
   "version": "3.9.7"
  },
  "orig_nbformat": 4
 },
 "nbformat": 4,
 "nbformat_minor": 2
}
