{
 "cells": [
  {
   "cell_type": "code",
   "execution_count": null,
   "metadata": {},
   "outputs": [],
   "source": [
    "4\n",
    "120 110 140 150\n",
    "485"
   ]
  },
  {
   "cell_type": "code",
   "execution_count": null,
   "metadata": {},
   "outputs": [],
   "source": [
    "# Time = 88 ms\n",
    "# Memory = 29540 KB\n",
    "import sys\n",
    "input = sys.stdin.readline\n",
    "N = int(input())\n",
    "arr = list(map(int, input().split()))\n",
    "M = int(input())\n",
    "arr.sort()\n",
    "if sum(arr) <= M:print(arr[-1])\n",
    "else:\n",
    "    s, e = 0, 100_000\n",
    "    while s <= e:\n",
    "        mid = (s+e) // 2\n",
    "        sub = 0\n",
    "        for idx, x in enumerate(arr, 1):\n",
    "            if x <= mid : sub += x\n",
    "            else:\n",
    "                sub += (len(arr) -idx + 1) * mid\n",
    "                break\n",
    "        if sub > M : e = mid - 1\n",
    "        else: s = mid + 1\n",
    "    print(s - 1)"
   ]
  },
  {
   "cell_type": "code",
   "execution_count": null,
   "metadata": {},
   "outputs": [],
   "source": [
    "# Time = 100 ms\n",
    "# Memory = 29540 KB\n",
    "import sys\n",
    "input = sys.stdin.readline\n",
    "N = int(input())\n",
    "arr = list(map(int, input().split()))\n",
    "M = int(input())\n",
    "if sum(arr) <= M:print(max(arr))\n",
    "else:\n",
    "    s, e = 0, 100_000\n",
    "    while s <= e:\n",
    "        mid = (s+e) // 2\n",
    "        sub = 0\n",
    "        for x in arr:\n",
    "            if x <= mid : sub += x\n",
    "            else:\n",
    "                sub += mid\n",
    "        if sub > M : e = mid - 1\n",
    "        else: s = mid + 1\n",
    "    print(s - 1)"
   ]
  }
 ],
 "metadata": {
  "kernelspec": {
   "display_name": "Python 3",
   "language": "python",
   "name": "python3"
  },
  "language_info": {
   "codemirror_mode": {
    "name": "ipython",
    "version": 3
   },
   "file_extension": ".py",
   "mimetype": "text/x-python",
   "name": "python",
   "nbconvert_exporter": "python",
   "pygments_lexer": "ipython3",
   "version": "3.8.3"
  },
  "toc": {
   "base_numbering": 1,
   "nav_menu": {},
   "number_sections": true,
   "sideBar": true,
   "skip_h1_title": false,
   "title_cell": "Table of Contents",
   "title_sidebar": "Contents",
   "toc_cell": false,
   "toc_position": {},
   "toc_section_display": true,
   "toc_window_display": true
  }
 },
 "nbformat": 4,
 "nbformat_minor": 4
}
