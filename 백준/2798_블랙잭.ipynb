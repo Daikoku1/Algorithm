{
 "cells": [
  {
   "cell_type": "code",
   "execution_count": null,
   "metadata": {},
   "outputs": [],
   "source": [
    "# TIme = 108 ms\n",
    "# Memory = 29076 KB\n",
    "import sys\n",
    "from itertools import combinations\n",
    "input = sys.stdin.readline\n",
    "N, M = map(int, input().split())\n",
    "li = list(map(int, input().split()))\n",
    "max_n = 0\n",
    "for r in combinations(li, 3):\n",
    "    sub = sum(r)\n",
    "    if max_n < sub <= M:\n",
    "        max_n = sub\n",
    "print(max_n)"
   ]
  },
  {
   "cell_type": "code",
   "execution_count": null,
   "metadata": {},
   "outputs": [],
   "source": [
    "# TIme = 104 ms\n",
    "# Memory = 29076 KB\n",
    "import sys\n",
    "from itertools import combinations\n",
    "input = sys.stdin.readline\n",
    "N, M = map(int, input().split())\n",
    "li = list(map(int, input().split()))\n",
    "max_n = 0\n",
    "for i in range(N-2):\n",
    "    for j in range(i+1,N-1):\n",
    "        for k in range(j+1,N):\n",
    "            sub = li[i] + li[j] + li[k]\n",
    "            if max_n < sub <= M:\n",
    "                max_n = sub\n",
    "print(max_n)"
   ]
  },
  {
   "cell_type": "code",
   "execution_count": null,
   "metadata": {},
   "outputs": [],
   "source": [
    "10 500\n",
    "93 181 245 214 315 36 185 138 216 295"
   ]
  },
  {
   "cell_type": "code",
   "execution_count": null,
   "metadata": {},
   "outputs": [],
   "source": [
    "5 21\n",
    "5 6 7 8 9"
   ]
  }
 ],
 "metadata": {
  "kernelspec": {
   "display_name": "Python 3",
   "language": "python",
   "name": "python3"
  },
  "language_info": {
   "codemirror_mode": {
    "name": "ipython",
    "version": 3
   },
   "file_extension": ".py",
   "mimetype": "text/x-python",
   "name": "python",
   "nbconvert_exporter": "python",
   "pygments_lexer": "ipython3",
   "version": "3.8.3"
  },
  "toc": {
   "base_numbering": 1,
   "nav_menu": {},
   "number_sections": true,
   "sideBar": true,
   "skip_h1_title": false,
   "title_cell": "Table of Contents",
   "title_sidebar": "Contents",
   "toc_cell": false,
   "toc_position": {},
   "toc_section_display": true,
   "toc_window_display": true
  }
 },
 "nbformat": 4,
 "nbformat_minor": 4
}
