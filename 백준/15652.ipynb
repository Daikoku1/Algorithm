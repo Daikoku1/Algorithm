{
 "cells": [
  {
   "cell_type": "code",
   "execution_count": 17,
   "metadata": {},
   "outputs": [
    {
     "name": "stdout",
     "output_type": "stream",
     "text": [
      "1 1\n",
      "1 2\n",
      "1 3\n",
      "1 4\n",
      "2 2\n",
      "2 3\n",
      "2 4\n",
      "3 3\n",
      "3 4\n",
      "4 4\n"
     ]
    }
   ],
   "source": [
    "# 30864\tKB, 84 ms\n",
    "from itertools import combinations_with_replacement\n",
    "N, M = map(int, input().split())\n",
    "for x in combinations_with_replacement(range(1, N+1), M):\n",
    "    print(*x)"
   ]
  }
 ],
 "metadata": {
  "interpreter": {
   "hash": "9652531e86fbc99dfe7fc5092eb81081a97fad237de3d1fd3b3a0d1c69c61538"
  },
  "kernelspec": {
   "display_name": "Python 3.9.7 64-bit ('ox': conda)",
   "language": "python",
   "name": "python3"
  },
  "language_info": {
   "codemirror_mode": {
    "name": "ipython",
    "version": 3
   },
   "file_extension": ".py",
   "mimetype": "text/x-python",
   "name": "python",
   "nbconvert_exporter": "python",
   "pygments_lexer": "ipython3",
   "version": "3.9.7"
  },
  "orig_nbformat": 4
 },
 "nbformat": 4,
 "nbformat_minor": 2
}
