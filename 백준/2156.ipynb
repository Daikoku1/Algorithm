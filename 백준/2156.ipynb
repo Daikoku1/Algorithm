{
 "cells": [
  {
   "cell_type": "code",
   "execution_count": 10,
   "metadata": {},
   "outputs": [
    {
     "name": "stdout",
     "output_type": "stream",
     "text": [
      "33\n"
     ]
    }
   ],
   "source": [
    "# 29708\tKB, 76 ms\n",
    "import sys\n",
    "input = sys.stdin.readline\n",
    "N = int(input())\n",
    "arr = [0] + [int(input()) for _ in range(N)]\n",
    "\n",
    "if N < 3 : print(sum(arr))\n",
    "else:\n",
    "    dp = [0] * (N+1)\n",
    "    dp[0] = arr[0]\n",
    "    dp[1] = arr[1] + arr[0]\n",
    "\n",
    "    for i in range(2, N+1):\n",
    "        dp[i] = max(dp[i-2] + arr[i], dp[i-1], arr[i] + arr[i-1] + dp[i-3])\n",
    "\n",
    "    print(dp[-1])"
   ]
  }
 ],
 "metadata": {
  "interpreter": {
   "hash": "19c4bd4a8c3153e8f6fe1d4aa29847b7593bdeb075f08f949f70b00c677d2ba0"
  },
  "kernelspec": {
   "display_name": "Python 3.10.0 64-bit",
   "language": "python",
   "name": "python3"
  },
  "language_info": {
   "codemirror_mode": {
    "name": "ipython",
    "version": 3
   },
   "file_extension": ".py",
   "mimetype": "text/x-python",
   "name": "python",
   "nbconvert_exporter": "python",
   "pygments_lexer": "ipython3",
   "version": "3.10.0"
  },
  "orig_nbformat": 4
 },
 "nbformat": 4,
 "nbformat_minor": 2
}
