{
 "cells": [
  {
   "cell_type": "code",
   "execution_count": null,
   "metadata": {},
   "outputs": [],
   "source": [
    "# 29200 KB, 72 ms\n",
    "target = int(input())\n",
    "N = 1\n",
    "while True:\n",
    "    # 1에서 거리가 같은 값 중 가장 큰 값 : 1, 7, 19, 37, ...\n",
    "    # 수열의 차가 등차수열( b1 = 6, d = 6)\n",
    "    # An = A1 + b1 + b2 + b3 ... + b(n-1)\n",
    "    # An = A1 + (n)*(n-1) // 2\n",
    "    if 1 + 3 * N*(N-1) >= target : break\n",
    "    N += 1\n",
    "\n",
    "print(N)"
   ]
  }
 ],
 "metadata": {
  "kernelspec": {
   "display_name": "Python 3",
   "language": "python",
   "name": "python3"
  },
  "language_info": {
   "codemirror_mode": {
    "name": "ipython",
    "version": 3
   },
   "file_extension": ".py",
   "mimetype": "text/x-python",
   "name": "python",
   "nbconvert_exporter": "python",
   "pygments_lexer": "ipython3",
   "version": "3.8.3"
  },
  "toc": {
   "base_numbering": 1,
   "nav_menu": {},
   "number_sections": true,
   "sideBar": true,
   "skip_h1_title": false,
   "title_cell": "Table of Contents",
   "title_sidebar": "Contents",
   "toc_cell": false,
   "toc_position": {},
   "toc_section_display": true,
   "toc_window_display": true
  }
 },
 "nbformat": 4,
 "nbformat_minor": 4
}
