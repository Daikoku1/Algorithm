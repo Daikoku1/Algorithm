{
 "cells": [
  {
   "cell_type": "code",
   "execution_count": null,
   "metadata": {},
   "outputs": [],
   "source": [
    "# Time = 676 ms\n",
    "# Memory = 54548 KB\n",
    "from collections import deque\n",
    "def BFS(num):\n",
    "    to_do = deque([num])\n",
    "    cnt = -1\n",
    "    while to_do:\n",
    "        cnt += 1\n",
    "        for _ in range(len(to_do)):\n",
    "            num = to_do.popleft()\n",
    "            if num == 1:\n",
    "                return cnt\n",
    "            q1, r1 = divmod(num, 3)\n",
    "            q2, r2 = divmod(num, 2)\n",
    "            if r1 == 0:to_do.append(q1)\n",
    "            elif r2 == 0:to_do.append(q2)\n",
    "            to_do.append(num - 1)\n",
    "BFS(10)"
   ]
  },
  {
   "cell_type": "code",
   "execution_count": null,
   "metadata": {},
   "outputs": [],
   "source": [
    "# Time = 488 ms\n",
    "# Memory = 44716 KB\n",
    "def dp(n):\n",
    "    if n < 2:return 0\n",
    "    elif n == 2:return 1\n",
    "    \n",
    "    dp = [0,0,1] + [0] * (n-2)\n",
    "    for i in range(3, n+1):\n",
    "        dp[i] = 1 + min(dp[i//3] + i%3, dp[i//2] + i%2)\n",
    "    return dp[-1]"
   ]
  },
  {
   "cell_type": "code",
   "execution_count": 3,
   "metadata": {},
   "outputs": [
    {
     "name": "stdout",
     "output_type": "stream",
     "text": [
      "10\n",
      "3\n"
     ]
    }
   ],
   "source": [
    "# Time = 88 ms\n",
    "# Memory = 29088 KB\n",
    "def dp(n):\n",
    "    if n in [1,2]:\n",
    "        return n - 1\n",
    "    m = 1+min(dp(n//2)+n%2, dp(n//3)+n%3)\n",
    "    return m\n",
    "\n",
    "print(dp(int(input())))"
   ]
  },
  {
   "cell_type": "code",
   "execution_count": null,
   "metadata": {},
   "outputs": [],
   "source": []
  }
 ],
 "metadata": {
  "kernelspec": {
   "display_name": "Python 3",
   "language": "python",
   "name": "python3"
  },
  "language_info": {
   "codemirror_mode": {
    "name": "ipython",
    "version": 3
   },
   "file_extension": ".py",
   "mimetype": "text/x-python",
   "name": "python",
   "nbconvert_exporter": "python",
   "pygments_lexer": "ipython3",
   "version": "3.8.5"
  },
  "toc": {
   "base_numbering": 1,
   "nav_menu": {},
   "number_sections": true,
   "sideBar": true,
   "skip_h1_title": false,
   "title_cell": "Table of Contents",
   "title_sidebar": "Contents",
   "toc_cell": false,
   "toc_position": {},
   "toc_section_display": true,
   "toc_window_display": true
  }
 },
 "nbformat": 4,
 "nbformat_minor": 4
}
