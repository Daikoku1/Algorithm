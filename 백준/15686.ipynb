{
 "cells": [
  {
   "cell_type": "code",
   "execution_count": 50,
   "metadata": {},
   "outputs": [
    {
     "name": "stdout",
     "output_type": "stream",
     "text": [
      "5\n"
     ]
    }
   ],
   "source": [
    "# 30864\tKB, 136 ms\n",
    "from itertools import combinations\n",
    "N, M = map(int, input().split())\n",
    "chicken, house = [], []\n",
    "for i in range(N):\n",
    "    for j, val in enumerate(input().split()):\n",
    "        if val == '1': house.append([i,j])\n",
    "        elif val == '2': chicken.append([i,j])\n",
    "\n",
    "chicken_len = []\n",
    "for x1, y1 in chicken:\n",
    "    temp = []\n",
    "    for x2, y2 in house:\n",
    "        temp.append(abs(x1-x2) + abs(y1-y2))\n",
    "    chicken_len.append(temp)\n",
    "    \n",
    "answer = float('inf')\n",
    "for combi in combinations(chicken_len, M):\n",
    "    temp = 0\n",
    "    for x in zip(*combi):\n",
    "        temp += min(x)\n",
    "    answer = min(answer, temp)\n",
    "print(answer)"
   ]
  }
 ],
 "metadata": {
  "interpreter": {
   "hash": "9652531e86fbc99dfe7fc5092eb81081a97fad237de3d1fd3b3a0d1c69c61538"
  },
  "kernelspec": {
   "display_name": "Python 3.9.7 ('ox')",
   "language": "python",
   "name": "python3"
  },
  "language_info": {
   "codemirror_mode": {
    "name": "ipython",
    "version": 3
   },
   "file_extension": ".py",
   "mimetype": "text/x-python",
   "name": "python",
   "nbconvert_exporter": "python",
   "pygments_lexer": "ipython3",
   "version": "3.9.7"
  },
  "orig_nbformat": 4
 },
 "nbformat": 4,
 "nbformat_minor": 2
}
