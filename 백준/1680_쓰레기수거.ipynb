{
 "cells": [
  {
   "cell_type": "code",
   "execution_count": 5,
   "metadata": {},
   "outputs": [
    {
     "name": "stdout",
     "output_type": "stream",
     "text": [
      "8\n",
      "6\n",
      "10\n"
     ]
    }
   ],
   "source": [
    "# 29200 KB, 64 ms\n",
    "import sys\n",
    "input = sys.stdin.readline\n",
    "T = int(input())\n",
    "\n",
    "for _ in range(T):\n",
    "    W, N = map(int, input().split())\n",
    "    ans, temp = 0, 0\n",
    "    prev = 0\n",
    "    for idx in range(N):\n",
    "        xi, wi = map(int, input().split())\n",
    "        ans += xi - prev\n",
    "        prev = xi\n",
    "\n",
    "        temp += wi\n",
    "        if temp == W and idx != N -1:\n",
    "            ans += 2 * xi\n",
    "            temp = 0\n",
    "        elif temp > W:\n",
    "            ans += 2 * xi\n",
    "            temp = wi\n",
    "    print(ans + xi)\n",
    "\n"
   ]
  }
 ],
 "metadata": {
  "interpreter": {
   "hash": "19c4bd4a8c3153e8f6fe1d4aa29847b7593bdeb075f08f949f70b00c677d2ba0"
  },
  "kernelspec": {
   "display_name": "Python 3.10.0 64-bit",
   "name": "python3"
  },
  "language_info": {
   "codemirror_mode": {
    "name": "ipython",
    "version": 3
   },
   "file_extension": ".py",
   "mimetype": "text/x-python",
   "name": "python",
   "nbconvert_exporter": "python",
   "pygments_lexer": "ipython3",
   "version": "3.10.0"
  },
  "orig_nbformat": 4
 },
 "nbformat": 4,
 "nbformat_minor": 2
}
