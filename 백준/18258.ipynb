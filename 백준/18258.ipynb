{
 "cells": [
  {
   "cell_type": "code",
   "execution_count": null,
   "metadata": {},
   "outputs": [],
   "source": [
    "# 142100 KB, 1736 ms\n",
    "from collections import deque\n",
    "import sys\n",
    "input = sys.stdin.readline\n",
    "N = int(input())\n",
    "arr = deque()\n",
    "for _ in range(N):\n",
    "    cmd = input().strip()\n",
    "    if cmd == 'front':\n",
    "        if arr : print(arr[0])\n",
    "        else: print(-1)\n",
    "    elif cmd == 'back':\n",
    "        if arr : print(arr[-1])\n",
    "        else: print(-1)\n",
    "    elif cmd == 'empty':\n",
    "        if arr : print(0)\n",
    "        else: print(1)\n",
    "    elif cmd == 'size':\n",
    "        print(len(arr))\n",
    "    elif cmd == 'pop':\n",
    "        if arr : print(arr.popleft())\n",
    "        else: print(-1)\n",
    "    else:\n",
    "        c, x = cmd.split()\n",
    "        arr.append(x)"
   ]
  }
 ],
 "metadata": {
  "language_info": {
   "name": "python"
  },
  "orig_nbformat": 4
 },
 "nbformat": 4,
 "nbformat_minor": 2
}
