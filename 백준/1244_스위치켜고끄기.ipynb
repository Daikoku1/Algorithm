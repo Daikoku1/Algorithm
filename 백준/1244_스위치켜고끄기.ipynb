{
 "cells": [
  {
   "cell_type": "code",
   "execution_count": 32,
   "metadata": {},
   "outputs": [
    {
     "name": "stdout",
     "output_type": "stream",
     "text": [
      "1 0 0 0 1 1 0 1\n"
     ]
    }
   ],
   "source": [
    "# 29200 KB, 68 ms\n",
    "N = int(input())\n",
    "arr = [0]\n",
    "arr.extend(map(int, input().split()))\n",
    "\n",
    "T = int(input())\n",
    "for _ in range(T):\n",
    "    sex, num = map(int, input().split())\n",
    "    if sex == 1:\n",
    "        for idx in range(num, N+1, num):\n",
    "            arr[idx] = (arr[idx] + 1) % 2\n",
    "    else:\n",
    "        arr[num] = (arr[num] + 1) % 2\n",
    "        left,right = num-1, num+1\n",
    "        while left > 0 and right <= N:\n",
    "            if arr[left] != arr[right]: break\n",
    "            arr[left] = (arr[left] + 1) % 2\n",
    "            arr[right] = (arr[right] + 1) % 2\n",
    "            left -= 1\n",
    "            right += 1\n",
    "\n",
    "for i in range(1, N+1, 20):\n",
    "    print(*arr[i:i+20])"
   ]
  }
 ],
 "metadata": {
  "interpreter": {
   "hash": "9652531e86fbc99dfe7fc5092eb81081a97fad237de3d1fd3b3a0d1c69c61538"
  },
  "kernelspec": {
   "display_name": "Python 3.9.7 64-bit ('ox': conda)",
   "name": "python3"
  },
  "language_info": {
   "codemirror_mode": {
    "name": "ipython",
    "version": 3
   },
   "file_extension": ".py",
   "mimetype": "text/x-python",
   "name": "python",
   "nbconvert_exporter": "python",
   "pygments_lexer": "ipython3",
   "version": "3.9.7"
  },
  "orig_nbformat": 4
 },
 "nbformat": 4,
 "nbformat_minor": 2
}
