{
 "cells": [
  {
   "cell_type": "code",
   "execution_count": 1,
   "metadata": {},
   "outputs": [
    {
     "name": "stdout",
     "output_type": "stream",
     "text": [
      "1\n",
      "{'5', '6'}\n",
      "2\n",
      "{'56', '45'}\n",
      "3\n",
      "3\n"
     ]
    }
   ],
   "source": [
    "# 29452 KB, 72 ms\n",
    "import sys\n",
    "input = sys.stdin.readline\n",
    "N = int(input())\n",
    "arr = [input().strip() for _ in range(N)]\n",
    "ans = 0\n",
    "while True:\n",
    "    ans += 1\n",
    "    temp_set = set()\n",
    "    for x in range(N):\n",
    "        temp_set.add(arr[x][-ans:])\n",
    "        if len(temp_set) != x+1: break\n",
    "    \n",
    "    else: break\n",
    "print(ans)"
   ]
  }
 ],
 "metadata": {
  "interpreter": {
   "hash": "9652531e86fbc99dfe7fc5092eb81081a97fad237de3d1fd3b3a0d1c69c61538"
  },
  "kernelspec": {
   "display_name": "Python 3.9.7 64-bit ('ox': conda)",
   "name": "python3"
  },
  "language_info": {
   "codemirror_mode": {
    "name": "ipython",
    "version": 3
   },
   "file_extension": ".py",
   "mimetype": "text/x-python",
   "name": "python",
   "nbconvert_exporter": "python",
   "pygments_lexer": "ipython3",
   "version": "3.9.7"
  },
  "orig_nbformat": 4
 },
 "nbformat": 4,
 "nbformat_minor": 2
}
