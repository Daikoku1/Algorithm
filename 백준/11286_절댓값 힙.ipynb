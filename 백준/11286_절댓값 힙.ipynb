{
 "cells": [
  {
   "cell_type": "code",
   "execution_count": null,
   "metadata": {},
   "outputs": [],
   "source": [
    "# Time = 188 ms\n",
    "# Memory = 39016 KB\n",
    "import heapq, sys\n",
    "input = sys.stdin.readline\n",
    "T = int(input())\n",
    "h = []\n",
    "for _ in range(T):\n",
    "    num = int(input())\n",
    "    if num:\n",
    "        heapq.heappush(h, [abs(num), num])\n",
    "    else:\n",
    "        if h:print(heapq.heappop(h)[1])\n",
    "        else:print(0)"
   ]
  },
  {
   "cell_type": "code",
   "execution_count": null,
   "metadata": {},
   "outputs": [],
   "source": []
  },
  {
   "cell_type": "markdown",
   "metadata": {},
   "source": [
    "# 코드\n",
    "- 21.12 풀이"
   ]
  },
  {
   "cell_type": "code",
   "execution_count": null,
   "metadata": {},
   "outputs": [],
   "source": [
    "# 39440\tKB, 184 ms\n",
    "import sys, heapq\n",
    "input = sys.stdin.readline\n",
    "N = int(input())\n",
    "h = []\n",
    "for _ in range(N):\n",
    "    n = int(input())\n",
    "    if n :heapq.heappush(h, [abs(n), n])\n",
    "    else: \n",
    "        if h : print(heapq.heappop(h)[1])\n",
    "        else: print(0)"
   ]
  }
 ],
 "metadata": {
  "kernelspec": {
   "display_name": "Python 3",
   "language": "python",
   "name": "python3"
  },
  "language_info": {
   "codemirror_mode": {
    "name": "ipython",
    "version": 3
   },
   "file_extension": ".py",
   "mimetype": "text/x-python",
   "name": "python",
   "nbconvert_exporter": "python",
   "pygments_lexer": "ipython3",
   "version": "3.10.0"
  },
  "toc": {
   "base_numbering": 1,
   "nav_menu": {},
   "number_sections": true,
   "sideBar": true,
   "skip_h1_title": false,
   "title_cell": "Table of Contents",
   "title_sidebar": "Contents",
   "toc_cell": false,
   "toc_position": {},
   "toc_section_display": true,
   "toc_window_display": true
  }
 },
 "nbformat": 4,
 "nbformat_minor": 4
}
