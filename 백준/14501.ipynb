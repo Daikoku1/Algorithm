{
 "cells": [
  {
   "cell_type": "markdown",
   "metadata": {},
   "source": [
    "# 코드\n",
    "- 21.12 풀이\n",
    "- heap 풀이 / dp 풀이\n",
    "- heap이 시간복잡도가 클 줄 알았는데 비슷함. "
   ]
  },
  {
   "cell_type": "code",
   "execution_count": 27,
   "metadata": {},
   "outputs": [
    {
     "name": "stdout",
     "output_type": "stream",
     "text": [
      "20\n"
     ]
    }
   ],
   "source": [
    "# 31268\tKB, 68 ms\n",
    "import heapq, sys\n",
    "input = sys.stdin.readline\n",
    "T = int(input())\n",
    "arr = []\n",
    "for _ in range(T):\n",
    "    arr.append(list(map(int, input().split())))\n",
    "\n",
    "h = []\n",
    "heapq.heappush(h, (0, 0)) # day_index, total_cost\n",
    "for idx, [day, price] in enumerate(arr):\n",
    "    temp_max = 0\n",
    "    while h[0][0] <= idx :\n",
    "        d, c = heapq.heappop(h)\n",
    "        heapq.heappush(h, (idx + day, c + price))\n",
    "        temp_max = max(temp_max, c)\n",
    "    heapq.heappush(h, (idx, temp_max))\n",
    "\n",
    "answer = 0\n",
    "while h and h[0][0] <= T:\n",
    "    d, c = heapq.heappop(h)\n",
    "    answer = max(answer, c)\n",
    "print(answer)"
   ]
  },
  {
   "cell_type": "code",
   "execution_count": 42,
   "metadata": {},
   "outputs": [
    {
     "name": "stdout",
     "output_type": "stream",
     "text": [
      "[0, 0, 0, 0, 0, 50, 0, 0, 0, 0, 0]\n",
      "[0, 0, 0, 0, 0, 50, 0, 0, 0, 0, 0]\n",
      "[0, 0, 0, 0, 0, 50, 0, 0, 0, 0, 0]\n",
      "[0, 0, 0, 0, 0, 50, 0, 0, 0, 0, 0]\n",
      "[0, 0, 0, 0, 0, 50, 60, 0, 0, 0, 0]\n",
      "[0, 0, 0, 0, 0, 50, 60, 0, 80, 0, 0]\n",
      "[0, 0, 0, 0, 0, 50, 60, 60, 80, 0, 90]\n",
      "[0, 0, 0, 0, 0, 50, 60, 60, 80, 0, 90]\n",
      "[0, 0, 0, 0, 0, 50, 60, 60, 80, 80, 90]\n",
      "90\n"
     ]
    }
   ],
   "source": [
    "# 31268\tKB, 68 ms\n",
    "import heapq, sys\n",
    "# input = sys.stdin.readline\n",
    "T = int(input())\n",
    "arr = []\n",
    "for _ in range(T):\n",
    "    arr.append(list(map(int, input().split())))\n",
    "\n",
    "cost = [0] * (T+1)\n",
    "if arr[0][0] <= T : cost[arr[0][0]] =  arr[0][1]\n",
    "for idx, [day, price] in enumerate(arr[1:], 1):\n",
    "    cost[idx] = max(cost[idx], cost[idx-1])\n",
    "\n",
    "    next_day = idx + day\n",
    "    if next_day <= T and cost[next_day] < cost[idx] + price:\n",
    "        cost[next_day] = cost[idx] + price\n",
    "    print(cost)\n",
    "cost[-1] = max(cost[-1], cost[-2])\n",
    "print(cost[-1])"
   ]
  }
 ],
 "metadata": {
  "interpreter": {
   "hash": "9652531e86fbc99dfe7fc5092eb81081a97fad237de3d1fd3b3a0d1c69c61538"
  },
  "kernelspec": {
   "display_name": "Python 3.9.7 64-bit ('ox': conda)",
   "language": "python",
   "name": "python3"
  },
  "language_info": {
   "codemirror_mode": {
    "name": "ipython",
    "version": 3
   },
   "file_extension": ".py",
   "mimetype": "text/x-python",
   "name": "python",
   "nbconvert_exporter": "python",
   "pygments_lexer": "ipython3",
   "version": "3.9.7"
  },
  "orig_nbformat": 4
 },
 "nbformat": 4,
 "nbformat_minor": 2
}
