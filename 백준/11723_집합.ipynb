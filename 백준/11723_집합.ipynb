{
 "cells": [
  {
   "cell_type": "code",
   "execution_count": null,
   "metadata": {},
   "outputs": [],
   "source": [
    "# Time = 6120 ms\n",
    "# Memory = 28776 KB\n",
    "import sys\n",
    "input = sys.stdin.readline\n",
    "T = int(input())\n",
    "arr = dic{i : 0 for i in range(1, 21)}\n",
    "for _ in range(T):\n",
    "    commend = input().strip()\n",
    "    if commend == 'all':\n",
    "        for i in range(1, 21):\n",
    "            arr[i] = 1\n",
    "    elif commend == 'empty':\n",
    "        for i in range(1, 21):\n",
    "            arr[i] = 0\n",
    "    else:\n",
    "        c, x = commend.split()\n",
    "        x = int(x)\n",
    "        if c == 'add': arr[x] = 1\n",
    "        elif c == 'remove': arr[x] = 0\n",
    "        elif c == 'check':\n",
    "            if arr[x]: print(1)\n",
    "            else : print(0)\n",
    "        else:\n",
    "            if arr[x]: arr[x] = 0\n",
    "            else: arr[x] = 1"
   ]
  },
  {
   "cell_type": "code",
   "execution_count": null,
   "metadata": {},
   "outputs": [],
   "source": [
    "# Time = 3204 ms\n",
    "# Memory = 28776 KB\n",
    "import sys\n",
    "input = sys.stdin.readline\n",
    "T = int(input())\n",
    "arr = {str(i) : 0 for i in range(1, 21)}\n",
    "all_arr = {str(i) : 1 for i in range(1, 21)}\n",
    "empty_arr = {str(i) : 0 for i in range(1, 21)}\n",
    "for _ in range(T):\n",
    "    commend = input().strip()\n",
    "    if commend == 'all':\n",
    "        arr = all_arr.copy()\n",
    "    elif commend == 'empty':\n",
    "        arr = empty_arr.copy()\n",
    "    else:\n",
    "        c, x = commend.split()\n",
    "        if c == 'add': arr[x] = 1\n",
    "        elif c == 'remove': arr[x] = 0\n",
    "        elif c == 'check':\n",
    "            if arr[x]: print('1')\n",
    "            else : print('0')\n",
    "        else:\n",
    "            if arr[x]: arr[x] = 0\n",
    "            else: arr[x] = 1"
   ]
  },
  {
   "cell_type": "code",
   "execution_count": null,
   "metadata": {},
   "outputs": [],
   "source": []
  },
  {
   "cell_type": "markdown",
   "metadata": {},
   "source": [
    "# 코드\n",
    "- 22.01 풀이"
   ]
  },
  {
   "cell_type": "code",
   "execution_count": 7,
   "metadata": {},
   "outputs": [
    {
     "name": "stdout",
     "output_type": "stream",
     "text": [
      "1\n",
      "1\n",
      "0\n"
     ]
    }
   ],
   "source": [
    "# 30864\tKB, 5084 ms\n",
    "# import sys\n",
    "# input = sys.stdin.readline\n",
    "S = [0] * 21\n",
    "N = int(input())\n",
    "for _ in range(N):\n",
    "    cmd = input().strip()\n",
    "    if cmd == 'all' : \n",
    "        for i in range(1, 21): S[i] = 1\n",
    "    elif cmd == 'empty' : \n",
    "        for j in range(1, 21): S[j] = 0\n",
    "    else:\n",
    "        c, x = cmd.split()\n",
    "        x = int(x)\n",
    "        if c == 'add' : S[x] = 1\n",
    "        elif c == 'remove': S[x] = 0\n",
    "        elif c == 'check' : print(S[x])\n",
    "        else: S[x] = int(S[x] == 0)\n"
   ]
  }
 ],
 "metadata": {
  "kernelspec": {
   "display_name": "Python 3",
   "language": "python",
   "name": "python3"
  },
  "language_info": {
   "codemirror_mode": {
    "name": "ipython",
    "version": 3
   },
   "file_extension": ".py",
   "mimetype": "text/x-python",
   "name": "python",
   "nbconvert_exporter": "python",
   "pygments_lexer": "ipython3",
   "version": "3.9.7"
  },
  "toc": {
   "base_numbering": 1,
   "nav_menu": {},
   "number_sections": true,
   "sideBar": true,
   "skip_h1_title": false,
   "title_cell": "Table of Contents",
   "title_sidebar": "Contents",
   "toc_cell": false,
   "toc_position": {},
   "toc_section_display": true,
   "toc_window_display": true
  }
 },
 "nbformat": 4,
 "nbformat_minor": 4
}
