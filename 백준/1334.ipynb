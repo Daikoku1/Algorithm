{
 "cells": [
  {
   "cell_type": "markdown",
   "metadata": {},
   "source": [
    "# 코드\n",
    "- 22.01 풀이"
   ]
  },
  {
   "cell_type": "code",
   "execution_count": 4,
   "metadata": {},
   "outputs": [
    {
     "name": "stdout",
     "output_type": "stream",
     "text": [
      "123464321\n"
     ]
    }
   ],
   "source": [
    "# 시간초과\n",
    "def check_palindrome(x):\n",
    "    x = str(x)\n",
    "    l, r = 0, len(x) - 1\n",
    "    while l < r :\n",
    "        if x[l] != x[r]: return False\n",
    "        l += 1\n",
    "        r -= 1\n",
    "    return True\n",
    "\n",
    "num = int(input())\n",
    "while True:\n",
    "    num += 1\n",
    "    if check_palindrome(num) : \n",
    "        print(num)\n",
    "        break"
   ]
  },
  {
   "cell_type": "code",
   "execution_count": 214,
   "metadata": {},
   "outputs": [],
   "source": [
    "# 30864\tKB, 80 ms\n",
    "# 99...999 가 항상 펠린드롭수 -> 자리수 커지는 경우는 99...999 인 경우 only\n",
    "def check_big_left(x, l, r, q):\n",
    "    big_left = False\n",
    "    same_stack = 0\n",
    "    for i in range(q):\n",
    "        if x[l-i] < x[r+i] :\n",
    "            if big_left : return True\n",
    "            else: return False\n",
    "        elif x[l-i] > x[r+i]: big_left = True\n",
    "        else: same_stack += 1\n",
    "    if same_stack == q : return False\n",
    "    return True\n",
    "\n",
    "def palindrome(x):\n",
    "    x = list(x)\n",
    "    if set(x) == {'9'} : return '1' + '0' * (len(x)-1) + '1'\n",
    "    q, r = divmod(len(x), 2)\n",
    "    if r : # 홀수  \n",
    "        if check_big_left(x, q-1, q+1, q):\n",
    "            for i in range(1, q+1):\n",
    "                x[q + i] = x[q - i]\n",
    "        else:\n",
    "            l, r = q, q\n",
    "            while x[l] == '9':\n",
    "                x[l] = '0'\n",
    "                x[r] = '0'\n",
    "                l, r = l - 1, r + 1\n",
    "            x[l] = str(int(x[l]) + 1)\n",
    "            x[r] = x[l]\n",
    "            l, r = l - 1 , r + 1\n",
    "            while r < len(x):\n",
    "                x[r] = x[l]\n",
    "                l, r = l - 1, r + 1\n",
    "    else: # 짝수\n",
    "        if check_big_left(x, q-1, q, q):\n",
    "            for i in range(q):\n",
    "                x[q + i] = x[q - 1 - i]\n",
    "        else:\n",
    "            l, r = q-1, q\n",
    "            while x[l] == '9':\n",
    "                x[l] = '0'\n",
    "                x[r] = '0'\n",
    "                l, r = l - 1, r + 1\n",
    "            x[l] = str(int(x[l]) + 1)\n",
    "            x[r] = x[l]\n",
    "            l, r = l - 1 , r + 1\n",
    "            while r < len(x):\n",
    "                x[r] = x[l]\n",
    "                l, r = l - 1, r + 1\n",
    "    return ''.join(x)\n",
    "# num = input().strip()\n",
    "# print(palindrome(num))"
   ]
  },
  {
   "cell_type": "code",
   "execution_count": 220,
   "metadata": {},
   "outputs": [
    {
     "name": "stdout",
     "output_type": "stream",
     "text": [
      "12421\n",
      "868\n",
      "2002\n",
      "2\n",
      "10001\n",
      "12021\n"
     ]
    }
   ],
   "source": [
    "print(palindrome('12345'))    # 12421\n",
    "print(palindrome('858'))    # 868\n",
    "print(palindrome('1999'))    # 2002\n",
    "print(palindrome('1'))    # 2\n",
    "print(palindrome('9999'))    # 10001\n",
    "print(palindrome('12012'))    # 12021"
   ]
  },
  {
   "cell_type": "code",
   "execution_count": 221,
   "metadata": {},
   "outputs": [
    {
     "name": "stdout",
     "output_type": "stream",
     "text": [
      "3003\n",
      "2992\n",
      "9999\n"
     ]
    }
   ],
   "source": [
    "print(palindrome('2999'))    # 3003\n",
    "print(palindrome('2991'))    # 2992\n",
    "print(palindrome('9991'))    # 9999"
   ]
  }
 ],
 "metadata": {
  "interpreter": {
   "hash": "9652531e86fbc99dfe7fc5092eb81081a97fad237de3d1fd3b3a0d1c69c61538"
  },
  "kernelspec": {
   "display_name": "Python 3.9.7 64-bit ('ox': conda)",
   "language": "python",
   "name": "python3"
  },
  "language_info": {
   "codemirror_mode": {
    "name": "ipython",
    "version": 3
   },
   "file_extension": ".py",
   "mimetype": "text/x-python",
   "name": "python",
   "nbconvert_exporter": "python",
   "pygments_lexer": "ipython3",
   "version": "3.9.7"
  },
  "orig_nbformat": 4
 },
 "nbformat": 4,
 "nbformat_minor": 2
}
