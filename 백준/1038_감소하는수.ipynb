{
 "cells": [
  {
   "cell_type": "code",
   "execution_count": 8,
   "metadata": {},
   "outputs": [
    {
     "name": "stdout",
     "output_type": "stream",
     "text": [
      "210\n"
     ]
    }
   ],
   "source": [
    "# 29200 KB, 68 ms\n",
    "from itertools import combinations\n",
    "def BOJ_1038(N):\n",
    "    if N < 10: return N\n",
    "    N -= 9\n",
    "    leng = 2\n",
    "    while 1:\n",
    "        num = 1\n",
    "        min_leng = min(leng, 10 - leng)\n",
    "        for i in range(min_leng):\n",
    "            num *= (10 - i)\n",
    "        for i in range(min_leng, 0, -1):\n",
    "            num //= i\n",
    "        if num >= N: return int(''.join(sorted(combinations('9876543210', leng))[N-1]))\n",
    "\n",
    "        leng += 1\n",
    "        if leng == 11: return -1\n",
    "        N -= num\n",
    "N = int(input())\n",
    "print(BOJ_1038(N))\n"
   ]
  }
 ],
 "metadata": {
  "interpreter": {
   "hash": "38d51dd8e8d25c2b4859ddf5fde4d8615b38902fd48d30a19bf46ddb81d406a6"
  },
  "kernelspec": {
   "display_name": "Python 3.9.7 64-bit (windows store)",
   "language": "python",
   "name": "python3"
  },
  "language_info": {
   "codemirror_mode": {
    "name": "ipython",
    "version": 3
   },
   "file_extension": ".py",
   "mimetype": "text/x-python",
   "name": "python",
   "nbconvert_exporter": "python",
   "pygments_lexer": "ipython3",
   "version": "3.9.7"
  },
  "orig_nbformat": 4
 },
 "nbformat": 4,
 "nbformat_minor": 2
}
