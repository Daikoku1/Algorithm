{
 "cells": [
  {
   "cell_type": "markdown",
   "metadata": {},
   "source": [
    "## 코드\n",
    "- 22.02 풀이\n",
    "- 폴로이드와샬은 시간초과\n",
    "- 다익스트라 응용"
   ]
  },
  {
   "cell_type": "code",
   "execution_count": 5,
   "metadata": {},
   "outputs": [],
   "source": [
    "# import sys\n",
    "# input = sys.stdin.readline\n",
    "def solution(N,M,X):\n",
    "    N, M , X = map(int, input().split())\n",
    "    dic = [[float('inf')] * (N+1) for _ in range(N+1)]\n",
    "    for i in range(1, N+1):\n",
    "        dic[i][i] = 0\n",
    "\n",
    "    for _ in range(M):\n",
    "        s, e, t = map(int, input().split())\n",
    "        dic[s][e] = t  # a -> b 인 도로 유일\n",
    "\n",
    "    for k in range(1, N+1):\n",
    "        for x in range(1, N+1):\n",
    "            for y in range(1, N+1):\n",
    "                temp = dic[x][k] + dic[k][y]\n",
    "                dic[x][y] = min(temp, dic[x][y])\n",
    "\n",
    "    for i in range(1, N+1):\n",
    "        for j in range(1, N+1):\n",
    "            if dic[i][j] == float('inf'):\n",
    "                dic[i][j] = 0\n",
    "\n",
    "    return max([dic[i][X] + dic[X][i] for i in range(1, N+1)])"
   ]
  },
  {
   "cell_type": "code",
   "execution_count": null,
   "metadata": {},
   "outputs": [],
   "source": [
    "# 32928 KB, 1632 ms\n",
    "import heapq, sys\n",
    "input = sys.stdin.readline\n",
    "N, M , X = map(int, input().split())\n",
    "dic = {i : {} for i in range(1, N+1)}\n",
    "for _ in range(M):\n",
    "    s, e, t = map(int, input().split())\n",
    "    dic[s][e] = t  # a -> b 인 도로 유일\n",
    "\n",
    "def dijkstra(N, s):\n",
    "    to_do = [(0, s)]\n",
    "    total_cost = [float('inf')] * (N+1)\n",
    "    total_cost[s] = 0\n",
    "    while to_do:\n",
    "        cost, point = heapq.heappop(to_do)\n",
    "\n",
    "        for np, nc in dic[point].items():\n",
    "            new_cost = nc + cost\n",
    "            if new_cost >= total_cost[np] : continue\n",
    "            heapq.heappush(to_do, (new_cost, np))\n",
    "            total_cost[np] = new_cost\n",
    "    return total_cost\n",
    "\n",
    "answer = 0\n",
    "go_from_X = dijkstra(N, X)\n",
    "for i in range(1, N+1):\n",
    "    go_to_X = dijkstra(N, i)\n",
    "    answer = max(answer, go_to_X[X] + go_from_X[i])"
   ]
  }
 ],
 "metadata": {
  "interpreter": {
   "hash": "9652531e86fbc99dfe7fc5092eb81081a97fad237de3d1fd3b3a0d1c69c61538"
  },
  "kernelspec": {
   "display_name": "Python 3.9.7 ('ox')",
   "language": "python",
   "name": "python3"
  },
  "language_info": {
   "codemirror_mode": {
    "name": "ipython",
    "version": 3
   },
   "file_extension": ".py",
   "mimetype": "text/x-python",
   "name": "python",
   "nbconvert_exporter": "python",
   "pygments_lexer": "ipython3",
   "version": "3.9.7"
  },
  "orig_nbformat": 4
 },
 "nbformat": 4,
 "nbformat_minor": 2
}
