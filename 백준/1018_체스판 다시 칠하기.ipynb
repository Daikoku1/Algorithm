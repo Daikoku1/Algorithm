{
 "cells": [
  {
   "cell_type": "code",
   "execution_count": 37,
   "metadata": {},
   "outputs": [
    {
     "name": "stdout",
     "output_type": "stream",
     "text": [
      "8 8\n",
      "WBWBWBWB\n",
      "BWBWBWBW\n",
      "WBWBWBWB\n",
      "BWBBBWBW\n",
      "WBWBWBWB\n",
      "BWBWBWBW\n",
      "WBWBWBWB\n",
      "BWBWBWBW\n",
      "0 0 1\n"
     ]
    },
    {
     "data": {
      "text/plain": [
       "1"
      ]
     },
     "execution_count": 37,
     "metadata": {},
     "output_type": "execute_result"
    }
   ],
   "source": [
    "# Numpy는 표준라이브러리가 아니라서 사용할 수 없다공...\n",
    "import numpy as np\n",
    "N, M = map(int, input().split())\n",
    "arr = np.zeros([N,M])\n",
    "for i in range(N):\n",
    "    for j, val in enumerate(input()):\n",
    "        if val == 'W' : arr[i][j] = 1\n",
    "        else : arr[i][j] = 0\n",
    "test_set = np.array([[1,0,1,0,1,0,1,0],[0,1,0,1,0,1,0,1]]*4)\n",
    "\n",
    "answer = 64\n",
    "for i in range(N - 7):\n",
    "    for j in range(M - 7):\n",
    "        color = len(np.argwhere(test_set != arr[i:i+8][j:j+8]))\n",
    "        print(i,j, color)\n",
    "        answer = min(color, 64 - color, answer)\n",
    "answer"
   ]
  },
  {
   "cell_type": "code",
   "execution_count": null,
   "metadata": {},
   "outputs": [],
   "source": [
    "# Time = 104 ms\n",
    "# Memory = 29088 KB\n",
    "N, M = map(int, input().split())\n",
    "arr = []\n",
    "for _ in range(N):\n",
    "    arr.append(list(input()))\n",
    "\n",
    "order = ['W','B']\n",
    "answer = 64\n",
    "for i in range(N - 7):\n",
    "    for j in range(M - 7):\n",
    "        color = 0\n",
    "        for idx in range(8):\n",
    "            cnt = idx % 2\n",
    "            for jdx in range(8):\n",
    "                if arr[i+idx][j+jdx] == order[cnt + jdx % 2]:\n",
    "                    color += 1\n",
    "        answer = min(answer, color, 64 - color)\n",
    "print(answer)"
   ]
  },
  {
   "cell_type": "code",
   "execution_count": null,
   "metadata": {},
   "outputs": [],
   "source": [
    "# Time = 72 ms\n",
    "# Memory = 29088 KB\n",
    "import sys\n",
    "from itertools import accumulate as acc\n",
    "input = sys.stdin.readline\n",
    "N, M = map(int, input().split())\n",
    "arr = [[0]*(M+1)]\n",
    "for i in range(N):\n",
    "    now = [0]\n",
    "    now.extend(acc([((s=='W')+i+j) % 2 for j, s in enumerate(input())]))\n",
    "    arr.append([x+y for x,y in zip(now, arr[-1])])\n",
    "\n",
    "answer = 64\n",
    "for i in range(N-7):\n",
    "    for j in range(M-7):\n",
    "        color = arr[i+8][j+8] - arr[i+8][j]- arr[i][j+8] + arr[i][j]\n",
    "        answer = min(answer, color, 64 - color)\n",
    "print(answer)"
   ]
  },
  {
   "cell_type": "code",
   "execution_count": 75,
   "metadata": {},
   "outputs": [],
   "source": [
    "import sys\n",
    "from itertools import accumulate"
   ]
  },
  {
   "cell_type": "code",
   "execution_count": 77,
   "metadata": {},
   "outputs": [
    {
     "name": "stdout",
     "output_type": "stream",
     "text": [
      "[1, 0, 1, 0]\n"
     ]
    },
    {
     "data": {
      "text/plain": [
       "[1, 1, 2, 2]"
      ]
     },
     "execution_count": 77,
     "metadata": {},
     "output_type": "execute_result"
    }
   ],
   "source": [
    "a = 'WWWW'\n",
    "b = [((s=='W')+i+j) % 2 for j, s in enumerate(a)]\n",
    "print(b)\n",
    "list(accumulate(b))"
   ]
  },
  {
   "cell_type": "code",
   "execution_count": null,
   "metadata": {},
   "outputs": [],
   "source": [
    "for i in range(8):\n",
    "    now = [((s=='W')+i+j) % 2 for j, s in enumerate(li[i])]\n",
    "    print(now)"
   ]
  }
 ],
 "metadata": {
  "kernelspec": {
   "display_name": "Python 3",
   "language": "python",
   "name": "python3"
  },
  "language_info": {
   "codemirror_mode": {
    "name": "ipython",
    "version": 3
   },
   "file_extension": ".py",
   "mimetype": "text/x-python",
   "name": "python",
   "nbconvert_exporter": "python",
   "pygments_lexer": "ipython3",
   "version": "3.8.3"
  },
  "toc": {
   "base_numbering": 1,
   "nav_menu": {},
   "number_sections": true,
   "sideBar": true,
   "skip_h1_title": false,
   "title_cell": "Table of Contents",
   "title_sidebar": "Contents",
   "toc_cell": false,
   "toc_position": {
    "height": "calc(100% - 180px)",
    "left": "10px",
    "top": "150px",
    "width": "215.994px"
   },
   "toc_section_display": true,
   "toc_window_display": true
  }
 },
 "nbformat": 4,
 "nbformat_minor": 4
}
