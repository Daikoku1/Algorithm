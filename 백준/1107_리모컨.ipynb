{
 "cells": [
  {
   "cell_type": "code",
   "execution_count": null,
   "metadata": {},
   "outputs": [],
   "source": [
    "# Time = 1512 ms\n",
    "# Memory = 28776 KB\n",
    "enable_btn_set = {str(x) for x in range(11)}\n",
    "\n",
    "N = int(input())\n",
    "break_button_num = int(input())\n",
    "if(break_button_num == 0):\n",
    "    pass\n",
    "else:    \n",
    "    break_button = set(input().split())\n",
    "    enable_btn_set -= break_button\n",
    "    \n",
    "result = abs(N - 100)\n",
    "for i in range(1000001):\n",
    "    is_enable = True\n",
    "    for div_num in str(i):\n",
    "        if(div_num not in enable_btn_set):\n",
    "            is_enable = False\n",
    "    if(is_enable):\n",
    "        result = min(result, abs(N - i) + len(str(i)))\n",
    "        \n",
    "print(result)"
   ]
  },
  {
   "cell_type": "markdown",
   "metadata": {},
   "source": [
    "# 실패코드\n",
    "- 다운 넘버가 정상적으로 작동안함\n",
    "- 11 아래 값이 00으로 나옴"
   ]
  },
  {
   "cell_type": "code",
   "execution_count": 12,
   "metadata": {
    "scrolled": true
   },
   "outputs": [
    {
     "name": "stdout",
     "output_type": "stream",
     "text": [
      "11\n",
      "8\n",
      "1 3 4 5 6 7 8 9 \n",
      "22\n",
      "00\n",
      "89\n",
      "13\n"
     ]
    }
   ],
   "source": [
    "def up_num(N, wrong):\n",
    "    result = []\n",
    "    u_sub = 0\n",
    "    for idx, u in enumerate(N[::-1]):\n",
    "        u = int(u)\n",
    "        if u_sub:\n",
    "            if u == 9:\n",
    "                u_sub = 1\n",
    "                u = 0\n",
    "            else:\n",
    "                u += 1\n",
    "                u_sub = 0\n",
    "        \n",
    "        while u in wrong:\n",
    "            u += 1\n",
    "            if u > 9:\n",
    "                u_sub = 1\n",
    "                u = 0\n",
    "        result.append(str(u))\n",
    "    if u_sub:\n",
    "        upper_n = 1\n",
    "        while upper_n in wrong:\n",
    "            upper_n += 1\n",
    "        result.append(str(upper_n))\n",
    "    return ''.join(result)[::-1]\n",
    "\n",
    "def down_num(N, wrong):\n",
    "    result = []\n",
    "    d_sub = 0\n",
    "    for idx, d in enumerate(N[::-1]):\n",
    "        d = int(d)\n",
    "        if d_sub:\n",
    "            if d == 0:\n",
    "                d_sub = 1\n",
    "                d = 9\n",
    "            elif idx == len(N)-1 and d == 1:\n",
    "                result.append('0')\n",
    "                break\n",
    "            else:\n",
    "                d -= 1\n",
    "                d_sub = 0\n",
    "\n",
    "        while d in wrong:\n",
    "            d -= 1\n",
    "            if d < 0:\n",
    "                d_sub = 1\n",
    "                d = 9\n",
    "        result.append(str(d))\n",
    "    return ''.join(result)[::-1]\n",
    "\n",
    "\n",
    "N = input().strip()\n",
    "T = int(input())\n",
    "wrong = list(map(int, input().split()))\n",
    "answer = abs(int(N) - 100)\n",
    "if T == 10: print(answer)\n",
    "else:\n",
    "    up_num = up_num(N, wrong)\n",
    "    down_num = down_num(N, wrong)\n",
    "    print(up_num)\n",
    "    print(down_num)\n",
    "    print(answer)\n",
    "    \n",
    "    answer = min(answer, len(up_num) + int(up_num) - int(N))\n",
    "    answer = min(answer, len(down_num) + int(N) - int(down_num))\n",
    "    print(answer)"
   ]
  }
 ],
 "metadata": {
  "kernelspec": {
   "display_name": "Python 3",
   "language": "python",
   "name": "python3"
  },
  "language_info": {
   "codemirror_mode": {
    "name": "ipython",
    "version": 3
   },
   "file_extension": ".py",
   "mimetype": "text/x-python",
   "name": "python",
   "nbconvert_exporter": "python",
   "pygments_lexer": "ipython3",
   "version": "3.8.3"
  },
  "toc": {
   "base_numbering": 1,
   "nav_menu": {},
   "number_sections": true,
   "sideBar": true,
   "skip_h1_title": false,
   "title_cell": "Table of Contents",
   "title_sidebar": "Contents",
   "toc_cell": false,
   "toc_position": {},
   "toc_section_display": true,
   "toc_window_display": true
  }
 },
 "nbformat": 4,
 "nbformat_minor": 4
}
