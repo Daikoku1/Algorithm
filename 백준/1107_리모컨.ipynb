{
 "cells": [
  {
   "cell_type": "code",
   "execution_count": null,
   "metadata": {},
   "outputs": [],
   "source": [
    "# Time = 1512 ms\n",
    "# Memory = 28776 KB\n",
    "enable_btn_set = {str(x) for x in range(11)}\n",
    "\n",
    "N = int(input())\n",
    "break_button_num = int(input())\n",
    "if(break_button_num == 0):\n",
    "    pass\n",
    "else:    \n",
    "    break_button = set(input().split())\n",
    "    enable_btn_set -= break_button\n",
    "    \n",
    "result = abs(N - 100)\n",
    "for i in range(1000001):\n",
    "    is_enable = True\n",
    "    for div_num in str(i):\n",
    "        if(div_num not in enable_btn_set):\n",
    "            is_enable = False\n",
    "    if(is_enable):\n",
    "        result = min(result, abs(N - i) + len(str(i)))\n",
    "        \n",
    "print(result)"
   ]
  },
  {
   "cell_type": "markdown",
   "metadata": {},
   "source": [
    "# 실패코드\n",
    "- 다운 넘버가 정상적으로 작동안함\n",
    "- 11 아래 값이 00으로 나옴"
   ]
  },
  {
   "cell_type": "code",
   "execution_count": 12,
   "metadata": {
    "scrolled": true
   },
   "outputs": [
    {
     "name": "stdout",
     "output_type": "stream",
     "text": [
      "11\n",
      "8\n",
      "1 3 4 5 6 7 8 9 \n",
      "22\n",
      "00\n",
      "89\n",
      "13\n"
     ]
    }
   ],
   "source": [
    "def up_num(N, wrong):\n",
    "    result = []\n",
    "    u_sub = 0\n",
    "    for idx, u in enumerate(N[::-1]):\n",
    "        u = int(u)\n",
    "        if u_sub:\n",
    "            if u == 9:\n",
    "                u_sub = 1\n",
    "                u = 0\n",
    "            else:\n",
    "                u += 1\n",
    "                u_sub = 0\n",
    "        \n",
    "        while u in wrong:\n",
    "            u += 1\n",
    "            if u > 9:\n",
    "                u_sub = 1\n",
    "                u = 0\n",
    "        result.append(str(u))\n",
    "    if u_sub:\n",
    "        upper_n = 1\n",
    "        while upper_n in wrong:\n",
    "            upper_n += 1\n",
    "        result.append(str(upper_n))\n",
    "    return ''.join(result)[::-1]\n",
    "\n",
    "def down_num(N, wrong):\n",
    "    result = []\n",
    "    d_sub = 0\n",
    "    for idx, d in enumerate(N[::-1]):\n",
    "        d = int(d)\n",
    "        if d_sub:\n",
    "            if d == 0:\n",
    "                d_sub = 1\n",
    "                d = 9\n",
    "            elif idx == len(N)-1 and d == 1:\n",
    "                result.append('0')\n",
    "                break\n",
    "            else:\n",
    "                d -= 1\n",
    "                d_sub = 0\n",
    "\n",
    "        while d in wrong:\n",
    "            d -= 1\n",
    "            if d < 0:\n",
    "                d_sub = 1\n",
    "                d = 9\n",
    "        result.append(str(d))\n",
    "    return ''.join(result)[::-1]\n",
    "\n",
    "\n",
    "N = input().strip()\n",
    "T = int(input())\n",
    "wrong = list(map(int, input().split()))\n",
    "answer = abs(int(N) - 100)\n",
    "if T == 10: print(answer)\n",
    "else:\n",
    "    up_num = up_num(N, wrong)\n",
    "    down_num = down_num(N, wrong)\n",
    "    print(up_num)\n",
    "    print(down_num)\n",
    "    print(answer)\n",
    "    \n",
    "    answer = min(answer, len(up_num) + int(up_num) - int(N))\n",
    "    answer = min(answer, len(down_num) + int(N) - int(down_num))\n",
    "    print(answer)"
   ]
  },
  {
   "cell_type": "markdown",
   "metadata": {},
   "source": [
    "# 코드\n",
    "- 21.11 풀이\n",
    "- 시간초과"
   ]
  },
  {
   "cell_type": "code",
   "execution_count": 4,
   "metadata": {},
   "outputs": [
    {
     "name": "stdout",
     "output_type": "stream",
     "text": [
      "5455 5459\n",
      "5357 5455\n",
      "6\n"
     ]
    }
   ],
   "source": [
    "N = int(input())\n",
    "M = int(input())\n",
    "arr = [1] * 10\n",
    "if M : \n",
    "    for i in map(int, input().split()) : arr[i] = 0\n",
    "\n",
    "num1 = abs(N - 100)\n",
    "\n",
    "s, e = N - 1, N + 1\n",
    "while True:\n",
    "    s_true, e_true = True, True\n",
    "    q1, q2 = s, e\n",
    "    while q1: \n",
    "        q1, r = divmod(q1, 10)\n",
    "        if arr[r] == 0 :\n",
    "            s_true = False\n",
    "            break\n",
    "    while q2: \n",
    "        q2, r = divmod(q2, 10)\n",
    "        if arr[r] == 0 :\n",
    "            e_true = False\n",
    "            break\n",
    "    if s_true : \n",
    "        num2 = s\n",
    "        break\n",
    "    if e_true : \n",
    "        num2 = e\n",
    "        break\n",
    "    s -= 1\n",
    "    e += 1\n",
    "    print(s, e)\n",
    "print(num1, num2)\n",
    "print(min(num1, len(str(num2)) + abs(N - num2)))"
   ]
  },
  {
   "cell_type": "markdown",
   "metadata": {},
   "source": [
    "# 코드\n",
    "- 21.11 풀이"
   ]
  },
  {
   "cell_type": "code",
   "execution_count": 20,
   "metadata": {},
   "outputs": [
    {
     "name": "stdout",
     "output_type": "stream",
     "text": [
      "344451\n",
      "11117\n"
     ]
    }
   ],
   "source": [
    "# 29200 KB, 972 ms\n",
    "N = int(input())\n",
    "M = int(input())\n",
    "\n",
    "arr = {str(x) for x in range(11)}\n",
    "if M : arr -= set(input().split())\n",
    "\n",
    "ans = abs(N - 100)\n",
    "for i in range(N, -1, -1):\n",
    "    is_enable = True\n",
    "    for s in str(i):\n",
    "        if(s not in arr):\n",
    "            is_enable = False\n",
    "    if(is_enable):\n",
    "        ans = min(ans, abs(N - i) + len(str(i)))\n",
    "        break\n",
    "print(ans)\n",
    "for i in range(N, 600001):\n",
    "    is_enable = True\n",
    "    for s in str(i):\n",
    "        if(s not in arr):\n",
    "            is_enable = False\n",
    "    if(is_enable):\n",
    "        ans = min(ans, abs(N - i) + len(str(i)))\n",
    "        break\n",
    "print(ans)"
   ]
  }
 ],
 "metadata": {
  "interpreter": {
   "hash": "9652531e86fbc99dfe7fc5092eb81081a97fad237de3d1fd3b3a0d1c69c61538"
  },
  "kernelspec": {
   "display_name": "Python 3.9.7 64-bit ('ox': conda)",
   "name": "python3"
  },
  "language_info": {
   "codemirror_mode": {
    "name": "ipython",
    "version": 3
   },
   "file_extension": ".py",
   "mimetype": "text/x-python",
   "name": "python",
   "nbconvert_exporter": "python",
   "pygments_lexer": "ipython3",
   "version": "3.9.7"
  },
  "toc": {
   "base_numbering": 1,
   "nav_menu": {},
   "number_sections": true,
   "sideBar": true,
   "skip_h1_title": false,
   "title_cell": "Table of Contents",
   "title_sidebar": "Contents",
   "toc_cell": false,
   "toc_position": {},
   "toc_section_display": true,
   "toc_window_display": true
  }
 },
 "nbformat": 4,
 "nbformat_minor": 4
}
