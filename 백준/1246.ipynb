{
 "cells": [
  {
   "cell_type": "code",
   "execution_count": 6,
   "metadata": {},
   "outputs": [
    {
     "name": "stdout",
     "output_type": "stream",
     "text": [
      "7 43\n"
     ]
    }
   ],
   "source": [
    "# 29200 KB, 108 ms\n",
    "N, M = map(int, input().split())\n",
    "arr = sorted([int(input()) for _ in range(M)], reverse = True)\n",
    "\n",
    "max_price, max_income = 0, 0\n",
    "for idx, val in enumerate(arr[:min(N, M)], 1):\n",
    "    temp_income = idx * val\n",
    "    if temp_income > max_income :\n",
    "        max_price = val\n",
    "        max_income = temp_income\n",
    "print(max_price, max_income)"
   ]
  }
 ],
 "metadata": {
  "interpreter": {
   "hash": "9652531e86fbc99dfe7fc5092eb81081a97fad237de3d1fd3b3a0d1c69c61538"
  },
  "kernelspec": {
   "display_name": "Python 3.9.7 64-bit ('ox': conda)",
   "language": "python",
   "name": "python3"
  },
  "language_info": {
   "codemirror_mode": {
    "name": "ipython",
    "version": 3
   },
   "file_extension": ".py",
   "mimetype": "text/x-python",
   "name": "python",
   "nbconvert_exporter": "python",
   "pygments_lexer": "ipython3",
   "version": "3.9.7"
  },
  "orig_nbformat": 4
 },
 "nbformat": 4,
 "nbformat_minor": 2
}
