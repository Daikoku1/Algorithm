{
 "cells": [
  {
   "cell_type": "code",
   "execution_count": 7,
   "metadata": {},
   "outputs": [
    {
     "name": "stdout",
     "output_type": "stream",
     "text": [
      "20\n",
      "25\n",
      "30\n",
      "6\n",
      "8\n",
      "15\n"
     ]
    }
   ],
   "source": [
    "# 29200 KB,\t76 ms\n",
    "import sys\n",
    "input = sys.stdin.readline\n",
    "L,A,B,C,D = int(input()), int(input()), int(input()), int(input()), int(input())\n",
    "q1,r1 = divmod(A, C)\n",
    "q2,r2 = divmod(B, D)\n",
    "q1 = q1 + 1 if r1 else q1\n",
    "q2 = q2 + 1 if r2 else q2\n",
    "print(L - max(q1,q2))"
   ]
  }
 ],
 "metadata": {
  "kernelspec": {
   "display_name": "Python 3",
   "language": "python",
   "name": "python3"
  },
  "language_info": {
   "codemirror_mode": {
    "name": "ipython",
    "version": 3
   },
   "file_extension": ".py",
   "mimetype": "text/x-python",
   "name": "python",
   "nbconvert_exporter": "python",
   "pygments_lexer": "ipython3",
   "version": "3.8.3"
  },
  "toc": {
   "base_numbering": 1,
   "nav_menu": {},
   "number_sections": true,
   "sideBar": true,
   "skip_h1_title": false,
   "title_cell": "Table of Contents",
   "title_sidebar": "Contents",
   "toc_cell": false,
   "toc_position": {},
   "toc_section_display": true,
   "toc_window_display": true
  }
 },
 "nbformat": 4,
 "nbformat_minor": 4
}
