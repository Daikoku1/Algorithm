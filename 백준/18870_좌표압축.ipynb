{
 "cells": [
  {
   "cell_type": "code",
   "execution_count": 25,
   "metadata": {
    "scrolled": true
   },
   "outputs": [
    {
     "name": "stdout",
     "output_type": "stream",
     "text": [
      "5\n",
      "2 4 -10 4 -9\n"
     ]
    }
   ],
   "source": [
    "# Time = 1980 ms\n",
    "# Memory = 155356 KB\n",
    "import sys\n",
    "input = sys.stdin.readline\n",
    "T = int(input())\n",
    "input_li = list(map(int, input().split()))\n",
    "li = sorted(set(input_li))\n",
    "\n",
    "dic = {v:i for i,v in enumerate(li)}\n",
    "for i in input_li:\n",
    "    print(dic[i], end = ' ')"
   ]
  },
  {
   "cell_type": "code",
   "execution_count": null,
   "metadata": {},
   "outputs": [],
   "source": []
  },
  {
   "cell_type": "markdown",
   "metadata": {},
   "source": [
    "# 코드\n",
    "- 22.01 풀이"
   ]
  },
  {
   "cell_type": "code",
   "execution_count": 24,
   "metadata": {},
   "outputs": [
    {
     "name": "stdout",
     "output_type": "stream",
     "text": [
      "999\n",
      "1000\n",
      "1 0 1 0 1 0 "
     ]
    }
   ],
   "source": [
    "# 156816 KB, 1884 ms\n",
    "T = int(input())\n",
    "arr = list(map(int, input().split()))\n",
    "dic = {}\n",
    "for idx, v in enumerate(sorted(set(arr))):\n",
    "    dic[v] = idx\n",
    "for x in arr:\n",
    "    print(dic[x], end = ' ')"
   ]
  }
 ],
 "metadata": {
  "kernelspec": {
   "display_name": "Python 3",
   "language": "python",
   "name": "python3"
  },
  "language_info": {
   "codemirror_mode": {
    "name": "ipython",
    "version": 3
   },
   "file_extension": ".py",
   "mimetype": "text/x-python",
   "name": "python",
   "nbconvert_exporter": "python",
   "pygments_lexer": "ipython3",
   "version": "3.9.7"
  },
  "toc": {
   "base_numbering": 1,
   "nav_menu": {},
   "number_sections": true,
   "sideBar": true,
   "skip_h1_title": false,
   "title_cell": "Table of Contents",
   "title_sidebar": "Contents",
   "toc_cell": false,
   "toc_position": {},
   "toc_section_display": true,
   "toc_window_display": true
  }
 },
 "nbformat": 4,
 "nbformat_minor": 4
}
