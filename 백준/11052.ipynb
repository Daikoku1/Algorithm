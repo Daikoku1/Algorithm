{
 "cells": [
  {
   "cell_type": "markdown",
   "metadata": {},
   "source": [
    "# 코드\n",
    "- 21.12 풀이\n",
    "- DP\n",
    "- DP 효율성 up"
   ]
  },
  {
   "cell_type": "code",
   "execution_count": 15,
   "metadata": {},
   "outputs": [
    {
     "name": "stdout",
     "output_type": "stream",
     "text": [
      "23\n"
     ]
    }
   ],
   "source": [
    "# 36792\tKB, 464 ms\n",
    "N = int(input())\n",
    "\n",
    "dp = [[0] * (N+1) for _ in range(N+1)]\n",
    "for i, v in enumerate(map(int, input().split()), 1):\n",
    "    for j in range(1, N+1):\n",
    "        if i == 1 : dp[i][j] = j * v\n",
    "        else:\n",
    "            if i > j : dp[i][j] = dp[i-1][j]\n",
    "            else:\n",
    "                dp[i][j] = max(dp[i][j-i] + v, dp[i-1][j])\n",
    "print(dp[-1][-1])"
   ]
  },
  {
   "cell_type": "code",
   "execution_count": null,
   "metadata": {},
   "outputs": [],
   "source": [
    "# 29200\tKB, 124 ms\n",
    "def find_max(price, n):\n",
    "    val = 0\n",
    "    if n % 2:\n",
    "        for i in range((n+1)//2):\n",
    "            tmp = price[i] + price[n-i]\n",
    "            val = max(tmp, val)\n",
    "    else:\n",
    "        for i in range((n//2)):\n",
    "            tmp = price[i] + price[n-i]\n",
    "            val = max(tmp, val)\n",
    "    return max(val, 2*price[n//2])\n",
    "\n",
    "N = int(input())\n",
    "arr = list(map(int, input().split()))\n",
    "price = []\n",
    "price.append(arr[0])\n",
    "for i in range(1,N):\n",
    "    price.append(max(arr[i],find_max(price,i-1)))\n",
    "print(price[N-1])\n"
   ]
  }
 ],
 "metadata": {
  "interpreter": {
   "hash": "9652531e86fbc99dfe7fc5092eb81081a97fad237de3d1fd3b3a0d1c69c61538"
  },
  "kernelspec": {
   "display_name": "Python 3.9.7 64-bit ('ox': conda)",
   "language": "python",
   "name": "python3"
  },
  "language_info": {
   "codemirror_mode": {
    "name": "ipython",
    "version": 3
   },
   "file_extension": ".py",
   "mimetype": "text/x-python",
   "name": "python",
   "nbconvert_exporter": "python",
   "pygments_lexer": "ipython3",
   "version": "3.9.7"
  },
  "orig_nbformat": 4
 },
 "nbformat": 4,
 "nbformat_minor": 2
}
