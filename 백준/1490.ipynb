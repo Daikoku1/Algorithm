{
 "cells": [
  {
   "cell_type": "code",
   "execution_count": null,
   "metadata": {},
   "outputs": [],
   "source": [
    "# 29200 KB, 72 ms\n",
    "def lcm(x, y):\n",
    "    a, b = x, y\n",
    "    while b != 0:\n",
    "        a, b = b, a % b\n",
    "    return x * y // a\n",
    "\n",
    "def make_lcm(N):\n",
    "    answer = 1\n",
    "    while N != 0:\n",
    "        N, r = divmod(N, 10)\n",
    "        if r != 0 : answer = lcm(answer, r)\n",
    "    return answer\n",
    "\n",
    "N = int(input())\n",
    "lcm_n = make_lcm(N)\n",
    "\n",
    "if N % lcm_n == 0 : print(N)\n",
    "else:\n",
    "    digit = 1\n",
    "    end = False\n",
    "    while not end:\n",
    "        for i in range(10 ** digit):\n",
    "            num = int(str(N) + str(i).rjust(digit, '0'))\n",
    "            if num % lcm_n == 0:\n",
    "                end = True\n",
    "                print(num)\n",
    "                break\n",
    "        digit += 1"
   ]
  },
  {
   "cell_type": "code",
   "execution_count": 50,
   "metadata": {},
   "outputs": [],
   "source": [
    "# 13  132\n",
    "# 648  648\n",
    "# 566  56610\n",
    "# 1000000000  1000000000\n",
    "# 987654321  987654321360\n",
    "# 83  8304"
   ]
  }
 ],
 "metadata": {
  "interpreter": {
   "hash": "9652531e86fbc99dfe7fc5092eb81081a97fad237de3d1fd3b3a0d1c69c61538"
  },
  "kernelspec": {
   "display_name": "Python 3.9.7 64-bit ('ox': conda)",
   "language": "python",
   "name": "python3"
  },
  "language_info": {
   "codemirror_mode": {
    "name": "ipython",
    "version": 3
   },
   "file_extension": ".py",
   "mimetype": "text/x-python",
   "name": "python",
   "nbconvert_exporter": "python",
   "pygments_lexer": "ipython3",
   "version": "3.9.7"
  },
  "orig_nbformat": 4
 },
 "nbformat": 4,
 "nbformat_minor": 2
}
