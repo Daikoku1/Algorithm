{
 "cells": [
  {
   "cell_type": "code",
   "execution_count": null,
   "metadata": {},
   "outputs": [],
   "source": [
    "# Time = 68 ms\n",
    "# Memory = 28776 KB\n",
    "import sys\n",
    "input = sys.stdin.readline\n",
    "while True:\n",
    "    word = input().strip()\n",
    "    if word == '*':break\n",
    "\n",
    "    if len(word) <= 2:\n",
    "        print(f'{word} is surprising.')\n",
    "    else:\n",
    "        for i in range(1, len(word) - 1):\n",
    "            word_set = set()\n",
    "            for j in range(len(word) - i):\n",
    "                word_set.add(word[j] + word[j + i])\n",
    "\n",
    "            if len(word_set) != j + 1:\n",
    "                print(f'{word} is NOT surprising.')\n",
    "                break\n",
    "        else:\n",
    "            print(f'{word} is surprising.')"
   ]
  },
  {
   "cell_type": "code",
   "execution_count": null,
   "metadata": {},
   "outputs": [],
   "source": [
    "word = 'asdb'\n",
    "len(word) = 4\n",
    "max_i = 4 - 2 = 2\n",
    "for j in range(4-2):\n",
    "    j = 0, 1\n",
    "    0, 2\n",
    "    "
   ]
  }
 ],
 "metadata": {
  "kernelspec": {
   "display_name": "Python 3",
   "language": "python",
   "name": "python3"
  },
  "language_info": {
   "codemirror_mode": {
    "name": "ipython",
    "version": 3
   },
   "file_extension": ".py",
   "mimetype": "text/x-python",
   "name": "python",
   "nbconvert_exporter": "python",
   "pygments_lexer": "ipython3",
   "version": "3.8.3"
  },
  "toc": {
   "base_numbering": 1,
   "nav_menu": {},
   "number_sections": true,
   "sideBar": true,
   "skip_h1_title": false,
   "title_cell": "Table of Contents",
   "title_sidebar": "Contents",
   "toc_cell": false,
   "toc_position": {},
   "toc_section_display": true,
   "toc_window_display": true
  }
 },
 "nbformat": 4,
 "nbformat_minor": 4
}
