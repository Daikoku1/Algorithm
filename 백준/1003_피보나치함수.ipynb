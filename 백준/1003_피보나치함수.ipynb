{
 "cells": [
  {
   "cell_type": "code",
   "execution_count": null,
   "metadata": {},
   "outputs": [],
   "source": [
    "# Time = 64 ms\n",
    "# Memory = 29076 KB\n",
    "import sys\n",
    "input = sys.stdin.readline\n",
    "T = int(input())\n",
    "result = [[1,0],[0,1]]\n",
    "for idx in range(2,41):\n",
    "    new_zero, new_one = result[idx-1]\n",
    "    new_zero += result[idx-2][0]\n",
    "    new_one += result[idx-2][1]\n",
    "    result.append([new_zero,new_one])\n",
    "\n",
    "for _ in range(T):\n",
    "    print(*result([int(input())])"
   ]
  }
 ],
 "metadata": {
  "kernelspec": {
   "display_name": "Python 3",
   "language": "python",
   "name": "python3"
  },
  "language_info": {
   "codemirror_mode": {
    "name": "ipython",
    "version": 3
   },
   "file_extension": ".py",
   "mimetype": "text/x-python",
   "name": "python",
   "nbconvert_exporter": "python",
   "pygments_lexer": "ipython3",
   "version": "3.8.3"
  },
  "toc": {
   "base_numbering": 1,
   "nav_menu": {},
   "number_sections": true,
   "sideBar": true,
   "skip_h1_title": false,
   "title_cell": "Table of Contents",
   "title_sidebar": "Contents",
   "toc_cell": false,
   "toc_position": {
    "height": "calc(100% - 180px)",
    "left": "10px",
    "top": "150px",
    "width": "160.724px"
   },
   "toc_section_display": true,
   "toc_window_display": true
  }
 },
 "nbformat": 4,
 "nbformat_minor": 4
}
