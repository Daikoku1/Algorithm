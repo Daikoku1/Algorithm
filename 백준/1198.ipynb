{
 "cells": [
  {
   "cell_type": "markdown",
   "metadata": {},
   "source": [
    "# 코드\n",
    "- 22.03 풀이"
   ]
  },
  {
   "cell_type": "code",
   "execution_count": null,
   "metadata": {},
   "outputs": [],
   "source": [
    "# 30864 KB, 76 ms\n",
    "from itertools import combinations\n",
    "import sys\n",
    "input = sys.stdin.readline\n",
    "N = int(input())\n",
    "arr = [list(map(int, input().split())) for _ in range(N)]\n",
    "answer = 0\n",
    "for a1, a2, a3 in combinations(arr, 3):\n",
    "    temp = abs(a1[0]*a2[1] + a2[0]*a3[1] + a3[0]*a1[1] - (a2[0]*a1[1] + a3[0]*a2[1] + a1[0]*a3[1])) / 2\n",
    "    answer = max(answer, temp)\n",
    "print(answer)\n"
   ]
  }
 ],
 "metadata": {
  "interpreter": {
   "hash": "19c4bd4a8c3153e8f6fe1d4aa29847b7593bdeb075f08f949f70b00c677d2ba0"
  },
  "kernelspec": {
   "display_name": "Python 3.10.0 64-bit",
   "language": "python",
   "name": "python3"
  },
  "language_info": {
   "codemirror_mode": {
    "name": "ipython",
    "version": 3
   },
   "file_extension": ".py",
   "mimetype": "text/x-python",
   "name": "python",
   "nbconvert_exporter": "python",
   "pygments_lexer": "ipython3",
   "version": "3.10.0"
  },
  "orig_nbformat": 4
 },
 "nbformat": 4,
 "nbformat_minor": 2
}
