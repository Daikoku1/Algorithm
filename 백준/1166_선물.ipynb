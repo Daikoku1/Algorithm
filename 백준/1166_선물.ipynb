{
 "cells": [
  {
   "cell_type": "code",
   "execution_count": null,
   "metadata": {},
   "outputs": [],
   "source": [
    "# N L W H\n",
    "# 10 4 2 10"
   ]
  },
  {
   "cell_type": "markdown",
   "metadata": {},
   "source": [
    "# 실패\n",
    "- 정수만 나오는데..\n",
    "- 문제가 소수도 출력해야함..."
   ]
  },
  {
   "cell_type": "code",
   "execution_count": 3,
   "metadata": {},
   "outputs": [
    {
     "name": "stdout",
     "output_type": "stream",
     "text": [
      "10 4 2 10\n",
      "0 2 1\n",
      "2 2 2\n",
      "2\n"
     ]
    }
   ],
   "source": [
    "N, L, W, H = map(int, input().split())\n",
    "b = 0\n",
    "e = min(L, W, H)\n",
    "while b <= e:\n",
    "    mid = (b+e) // 2\n",
    "    print(b, e, mid)\n",
    "    now = (L//mid)*(W//mid)*(H//mid)\n",
    "    if now < N : e = mid - 1\n",
    "    else : b = mid + 1\n",
    "print(b-1)"
   ]
  },
  {
   "cell_type": "markdown",
   "metadata": {},
   "source": [
    "# 성공"
   ]
  },
  {
   "cell_type": "code",
   "execution_count": 4,
   "metadata": {},
   "outputs": [
    {
     "name": "stdout",
     "output_type": "stream",
     "text": [
      "10 4 2 10\n",
      "2.0\n"
     ]
    }
   ],
   "source": [
    "# Time = 72 ms\n",
    "# Memory = 28776 KB\n",
    "N, L, W, H = map(int, input().split())\n",
    "b = 0\n",
    "e = min(L, W, H)\n",
    "\n",
    "for i in range(10000):\n",
    "    mid = (b + e) / 2\n",
    "    if (L//mid)*(W//mid)*(H//mid) < N:\n",
    "        e = mid\n",
    "    else:b = mid\n",
    "\n",
    "print(b)"
   ]
  },
  {
   "cell_type": "code",
   "execution_count": null,
   "metadata": {},
   "outputs": [],
   "source": []
  }
 ],
 "metadata": {
  "kernelspec": {
   "display_name": "Python 3",
   "language": "python",
   "name": "python3"
  },
  "language_info": {
   "codemirror_mode": {
    "name": "ipython",
    "version": 3
   },
   "file_extension": ".py",
   "mimetype": "text/x-python",
   "name": "python",
   "nbconvert_exporter": "python",
   "pygments_lexer": "ipython3",
   "version": "3.8.3"
  },
  "toc": {
   "base_numbering": 1,
   "nav_menu": {},
   "number_sections": true,
   "sideBar": true,
   "skip_h1_title": false,
   "title_cell": "Table of Contents",
   "title_sidebar": "Contents",
   "toc_cell": false,
   "toc_position": {},
   "toc_section_display": true,
   "toc_window_display": true
  }
 },
 "nbformat": 4,
 "nbformat_minor": 4
}
