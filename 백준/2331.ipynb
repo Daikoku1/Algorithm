{
 "cells": [
  {
   "cell_type": "code",
   "execution_count": null,
   "metadata": {},
   "outputs": [],
   "source": [
    "# 30864\tKB, 72 ms\n",
    "import sys\n",
    "input = sys.stdin.readline\n",
    "a, p = map(int, input().split()) \n",
    "\n",
    "nums = [a]\n",
    "while True:\n",
    "    temp = 0\n",
    "    for s in str(nums[-1]):\n",
    "        temp += int(s) ** p\n",
    "    if temp in nums:\n",
    "        break\n",
    "    \n",
    "    nums.append(temp)\n",
    "\n",
    "print(nums.index(temp))"
   ]
  }
 ],
 "metadata": {
  "language_info": {
   "name": "python"
  },
  "orig_nbformat": 4
 },
 "nbformat": 4,
 "nbformat_minor": 2
}
