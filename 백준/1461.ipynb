{
 "cells": [
  {
   "cell_type": "markdown",
   "metadata": {},
   "source": [
    "# 코드\n",
    "- 21.11 풀이"
   ]
  },
  {
   "cell_type": "code",
   "execution_count": 2,
   "metadata": {},
   "outputs": [
    {
     "name": "stdout",
     "output_type": "stream",
     "text": [
      "131\n"
     ]
    }
   ],
   "source": [
    "# 29200\tKB, 76 ms\n",
    "N, M = map(int, input().split())\n",
    "plus_pos = []\n",
    "minus_pos = []\n",
    "for x in map(int, input().split()):\n",
    "    if x < 0 : minus_pos.append(-x)\n",
    "    else: plus_pos.append(x)\n",
    "\n",
    "plus_pos.sort(reverse = True)\n",
    "minus_pos.sort(reverse = True)\n",
    "\n",
    "answer = 0\n",
    "max_length = 0\n",
    "for pos in [plus_pos, minus_pos]:\n",
    "    if len(pos) == 0: continue\n",
    "\n",
    "    max_length = max(max_length, pos[0])\n",
    "    if len(pos) <= M : answer += pos[0] * 2\n",
    "    else:\n",
    "        for idx in range(0, len(pos), M):\n",
    "            answer += pos[idx] * 2\n",
    "answer -= max_length\n",
    "print(answer) "
   ]
  }
 ],
 "metadata": {
  "interpreter": {
   "hash": "9652531e86fbc99dfe7fc5092eb81081a97fad237de3d1fd3b3a0d1c69c61538"
  },
  "kernelspec": {
   "display_name": "Python 3.9.7 64-bit ('ox': conda)",
   "language": "python",
   "name": "python3"
  },
  "language_info": {
   "codemirror_mode": {
    "name": "ipython",
    "version": 3
   },
   "file_extension": ".py",
   "mimetype": "text/x-python",
   "name": "python",
   "nbconvert_exporter": "python",
   "pygments_lexer": "ipython3",
   "version": "3.9.7"
  },
  "orig_nbformat": 4
 },
 "nbformat": 4,
 "nbformat_minor": 2
}
