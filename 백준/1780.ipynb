{
 "cells": [
  {
   "cell_type": "markdown",
   "metadata": {},
   "source": [
    "# 코드\n",
    "- 21.12 풀이"
   ]
  },
  {
   "cell_type": "code",
   "execution_count": 30,
   "metadata": {},
   "outputs": [],
   "source": [
    "# 67632\tKB, 5928 ms\n",
    "def sol(arr, s_x, s_y, l):\n",
    "    end = True\n",
    "    t = arr[s_x][s_y]\n",
    "    for x in range(s_x, s_x + l):\n",
    "        for y in range(s_y, s_y + l):\n",
    "            if arr[x][y] != t : \n",
    "                end = False\n",
    "                break\n",
    "        if end == False : break\n",
    "    if end: \n",
    "        answer[t+1] += 1\n",
    "    else:\n",
    "        nl = l // 3\n",
    "        for i in range(3):\n",
    "            for j in range(3):        \n",
    "                sol(arr, s_x + i*nl, s_y + j*nl, nl)\n",
    "\n",
    "import sys\n",
    "input = sys.stdin.readline\n",
    "l = int(input())\n",
    "arr = []\n",
    "answer = [0,0,0] # -1, 0, 1\n",
    "for _ in range(l):\n",
    "    arr.append(list(map(int, input().split())))\n",
    "\n",
    "sol(arr, 0, 0, l)\n",
    "for i in answer:\n",
    "    print(i)"
   ]
  },
  {
   "cell_type": "code",
   "execution_count": 2,
   "metadata": {},
   "outputs": [
    {
     "name": "stdout",
     "output_type": "stream",
     "text": [
      "10\n",
      "12\n",
      "11\n"
     ]
    }
   ],
   "source": [
    "# 371356 KB, 3096 ms\t\n",
    "def issame(arr, s_x, s_y, l):\n",
    "    t = arr[s_x][s_y]\n",
    "    for x in range(s_x, s_x + l):\n",
    "        for y in range(s_y, s_y + l):\n",
    "            if arr[x][y] != t : \n",
    "                return\n",
    "    return t\n",
    "\n",
    "def sol(arr, s_x, s_y, l):\n",
    "    res = issame(arr, s_x, s_y, l)\n",
    "    if res != None:\n",
    "        answer[int(res)+1] += 1\n",
    "    \n",
    "    elif l == 3 :\n",
    "        for i in range(s_x, s_x + 3):\n",
    "            for j in range(s_y, s_y+3):\n",
    "                answer[int(arr[i][j])+1] += 1\n",
    "    \n",
    "    else:\n",
    "        nl = l // 3\n",
    "        for i in range(3):\n",
    "            for j in range(3):        \n",
    "                sol(arr, s_x + i*nl, s_y + j*nl, nl)\n",
    "\n",
    "\n",
    "# import sys\n",
    "# input = sys.stdin.readline\n",
    "l = int(input())\n",
    "arr = [input().split() for _ in range(l)]\n",
    "answer = [0,0,0] # -1, 0, 1\n",
    "sol(arr, 0, 0, l)\n",
    "\n",
    "for i in answer:\n",
    "    print(i)"
   ]
  }
 ],
 "metadata": {
  "interpreter": {
   "hash": "9652531e86fbc99dfe7fc5092eb81081a97fad237de3d1fd3b3a0d1c69c61538"
  },
  "kernelspec": {
   "display_name": "Python 3.9.7 64-bit ('ox': conda)",
   "language": "python",
   "name": "python3"
  },
  "language_info": {
   "codemirror_mode": {
    "name": "ipython",
    "version": 3
   },
   "file_extension": ".py",
   "mimetype": "text/x-python",
   "name": "python",
   "nbconvert_exporter": "python",
   "pygments_lexer": "ipython3",
   "version": "3.9.7"
  },
  "orig_nbformat": 4
 },
 "nbformat": 4,
 "nbformat_minor": 2
}
