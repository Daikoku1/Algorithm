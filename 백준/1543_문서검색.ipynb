{
 "cells": [
  {
   "cell_type": "code",
   "execution_count": 4,
   "metadata": {},
   "outputs": [
    {
     "name": "stdout",
     "output_type": "stream",
     "text": [
      "2\n"
     ]
    }
   ],
   "source": [
    "# 29200 KB, 72 ms\n",
    "s = input()\n",
    "t = input()\n",
    "idx, ans = 0, 0\n",
    "while idx <= len(s) - len(t):\n",
    "    find = True\n",
    "    for i in range(len(t)):\n",
    "        if s[idx + i] != t[i] :\n",
    "            find = False\n",
    "    if find : \n",
    "        ans += 1\n",
    "        idx += len(t)\n",
    "    else: idx += 1\n",
    "print(ans)"
   ]
  }
 ],
 "metadata": {
  "interpreter": {
   "hash": "9652531e86fbc99dfe7fc5092eb81081a97fad237de3d1fd3b3a0d1c69c61538"
  },
  "kernelspec": {
   "display_name": "Python 3.9.7 64-bit ('ox': conda)",
   "name": "python3"
  },
  "language_info": {
   "codemirror_mode": {
    "name": "ipython",
    "version": 3
   },
   "file_extension": ".py",
   "mimetype": "text/x-python",
   "name": "python",
   "nbconvert_exporter": "python",
   "pygments_lexer": "ipython3",
   "version": "3.9.7"
  },
  "orig_nbformat": 4
 },
 "nbformat": 4,
 "nbformat_minor": 2
}
