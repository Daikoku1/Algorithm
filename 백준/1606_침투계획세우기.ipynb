{
 "cells": [
  {
   "cell_type": "markdown",
   "metadata": {},
   "source": [
    "# 코드\n",
    "- 1, 7, 19, \n",
    "- An = 1 + 3 * (n)*(n-1)\n"
   ]
  },
  {
   "cell_type": "code",
   "execution_count": 2,
   "metadata": {},
   "outputs": [
    {
     "name": "stdout",
     "output_type": "stream",
     "text": [
      "10\n"
     ]
    }
   ],
   "source": [
    "# 29200 KB, 1404 ms\n",
    "def BOJ_1606(x, y):\n",
    "    if x == y == 0: return 1\n",
    "    else:\n",
    "        if x*y > 0 : n = x + y\n",
    "        else: n = max(abs(x), abs(y))\n",
    "\n",
    "        num = 1 + 3 * n * (n+1)\n",
    "        t_x, t_y = n, 0\n",
    "\n",
    "        while True:\n",
    "            for _ in range(n):\n",
    "                if t_x == x and t_y == y : return num\n",
    "                t_y -= 1\n",
    "                num -= 1\n",
    "            for _ in range(n):\n",
    "                if t_x == x and t_y == y : return num\n",
    "                t_x-= 1\n",
    "                num -= 1\n",
    "            for _ in range(n):\n",
    "                if t_x == x and t_y == y : return num\n",
    "                t_x -= 1\n",
    "                t_y += 1\n",
    "                num -= 1\n",
    "            for _ in range(n):\n",
    "                if t_x == x and t_y == y : return num\n",
    "                t_y += 1\n",
    "                num -= 1\n",
    "            for _ in range(n):\n",
    "                if t_x == x and t_y == y : return num\n",
    "                t_x+= 1\n",
    "                num -= 1\n",
    "            for _ in range(n):\n",
    "                if t_x == x and t_y == y : return num\n",
    "                t_x += 1\n",
    "                t_y -= 1\n",
    "                num -= 1\n",
    "\n",
    "x, y = map(int, input().split())\n",
    "print(BOJ_1606(x,y))"
   ]
  }
 ],
 "metadata": {
  "interpreter": {
   "hash": "19c4bd4a8c3153e8f6fe1d4aa29847b7593bdeb075f08f949f70b00c677d2ba0"
  },
  "kernelspec": {
   "display_name": "Python 3.10.0 64-bit",
   "name": "python3"
  },
  "language_info": {
   "codemirror_mode": {
    "name": "ipython",
    "version": 3
   },
   "file_extension": ".py",
   "mimetype": "text/x-python",
   "name": "python",
   "nbconvert_exporter": "python",
   "pygments_lexer": "ipython3",
   "version": "3.10.0"
  },
  "orig_nbformat": 4
 },
 "nbformat": 4,
 "nbformat_minor": 2
}
