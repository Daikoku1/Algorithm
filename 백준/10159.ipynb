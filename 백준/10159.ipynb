{
 "cells": [
  {
   "cell_type": "code",
   "execution_count": null,
   "metadata": {},
   "outputs": [],
   "source": [
    "# 29200\tKB, 72 ms\n",
    "N = int(input())\n",
    "M = int(input())\n",
    "win = {i : set() for i in range(1, N+1)}\n",
    "lose = {i : set() for i in range(1, N+1)}\n",
    "for _ in range(M):\n",
    "    x, y = map(int, input().split())\n",
    "    lose[y].add(x)\n",
    "    win[x].add(y)\n",
    "\n",
    "for i in range(1, N + 1):\n",
    "    for x in lose[i]:\n",
    "        win[x].update(win[i])\n",
    "    for y in win[i]:\n",
    "        lose[y].update(lose[i])\n",
    "\n",
    "for j in range(1, N + 1):\n",
    "    print(N - 1 - (len(win[j]) + len(lose[j])))"
   ]
  }
 ],
 "metadata": {
  "interpreter": {
   "hash": "19c4bd4a8c3153e8f6fe1d4aa29847b7593bdeb075f08f949f70b00c677d2ba0"
  },
  "kernelspec": {
   "display_name": "Python 3.10.0 64-bit",
   "language": "python",
   "name": "python3"
  },
  "language_info": {
   "codemirror_mode": {
    "name": "ipython",
    "version": 3
   },
   "file_extension": ".py",
   "mimetype": "text/x-python",
   "name": "python",
   "nbconvert_exporter": "python",
   "pygments_lexer": "ipython3",
   "version": "3.10.0"
  },
  "orig_nbformat": 4
 },
 "nbformat": 4,
 "nbformat_minor": 2
}
