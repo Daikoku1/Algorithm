{
 "cells": [
  {
   "cell_type": "code",
   "execution_count": 12,
   "metadata": {},
   "outputs": [
    {
     "name": "stdout",
     "output_type": "stream",
     "text": [
      "4 3.0\n",
      "3 4 5 6\n"
     ]
    }
   ],
   "source": [
    "# 30864\tKB, 68 ms\n",
    "def BOJ(N, L):\n",
    "    # s + (s+1) + ... + (s + l - 1) = (s+l)*(s+l-1) / 2 - s*(s-1) / 2\n",
    "    # (s**2 + (2*l - 1)*s + l*(l-1) - s**2 + s) / 2\n",
    "    # (2*l*s + l*(l-1)) / 2 = N\n",
    "    # s = (2 * N - l*(l-1)) / 2*l\n",
    "    for l in range(L, 101):\n",
    "        start_num = (2*N - l*(l-1)) / (2 * l)\n",
    "        # print(l, start_num)\n",
    "        if start_num == int(start_num) and start_num >= 0:\n",
    "            return [int(start_num) + i for i in range(l)]\n",
    "    return [-1]\n",
    "\n",
    "N, L = map(int, input().split())\n",
    "print(*BOJ(N,L))"
   ]
  }
 ],
 "metadata": {
  "interpreter": {
   "hash": "9652531e86fbc99dfe7fc5092eb81081a97fad237de3d1fd3b3a0d1c69c61538"
  },
  "kernelspec": {
   "display_name": "Python 3.9.7 64-bit ('ox': conda)",
   "language": "python",
   "name": "python3"
  },
  "language_info": {
   "codemirror_mode": {
    "name": "ipython",
    "version": 3
   },
   "file_extension": ".py",
   "mimetype": "text/x-python",
   "name": "python",
   "nbconvert_exporter": "python",
   "pygments_lexer": "ipython3",
   "version": "3.9.7"
  },
  "orig_nbformat": 4
 },
 "nbformat": 4,
 "nbformat_minor": 2
}
