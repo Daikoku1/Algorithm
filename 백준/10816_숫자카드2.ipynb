{
 "cells": [
  {
   "cell_type": "code",
   "execution_count": null,
   "metadata": {},
   "outputs": [],
   "source": [
    "# Time = 852 ms\n",
    "# Memory = 129612 KB\n",
    "import sys\n",
    "from collections import Counter\n",
    "input = sys.stdin.readline\n",
    "N = int(input())\n",
    "dic = Counter(input().split())\n",
    "M = int(input())\n",
    "for i in input().split():\n",
    "    print(dic.get(i, 0), end = ' ')"
   ]
  },
  {
   "cell_type": "code",
   "execution_count": null,
   "metadata": {},
   "outputs": [],
   "source": []
  },
  {
   "cell_type": "markdown",
   "metadata": {},
   "source": [
    "# 코드\n",
    "- 21.10 다시 풂\n",
    "- 안보고 풀었는데 소름돋게 코드가 동일. "
   ]
  },
  {
   "cell_type": "code",
   "execution_count": null,
   "metadata": {},
   "outputs": [],
   "source": [
    "# 130492 KB, 752 ms\n",
    "import sys\n",
    "from collections import Counter\n",
    "input = sys.stdin.readline\n",
    "N = int(input())\n",
    "dic = Counter(input().split())\n",
    "M = int(input())\n",
    "for x in input().split():\n",
    "    print(dic.get(x, 0), end = ' ')"
   ]
  }
 ],
 "metadata": {
  "kernelspec": {
   "display_name": "Python 3",
   "language": "python",
   "name": "python3"
  },
  "language_info": {
   "codemirror_mode": {
    "name": "ipython",
    "version": 3
   },
   "file_extension": ".py",
   "mimetype": "text/x-python",
   "name": "python",
   "nbconvert_exporter": "python",
   "pygments_lexer": "ipython3",
   "version": "3.8.3"
  },
  "toc": {
   "base_numbering": 1,
   "nav_menu": {},
   "number_sections": true,
   "sideBar": true,
   "skip_h1_title": false,
   "title_cell": "Table of Contents",
   "title_sidebar": "Contents",
   "toc_cell": false,
   "toc_position": {},
   "toc_section_display": true,
   "toc_window_display": true
  }
 },
 "nbformat": 4,
 "nbformat_minor": 4
}
