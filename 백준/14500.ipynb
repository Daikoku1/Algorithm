{
 "cells": [
  {
   "cell_type": "markdown",
   "metadata": {},
   "source": [
    "# 코드\n",
    "- 21.12 풀이\n",
    "- 완탐이라 별로...."
   ]
  },
  {
   "cell_type": "code",
   "execution_count": 16,
   "metadata": {},
   "outputs": [
    {
     "name": "stdout",
     "output_type": "stream",
     "text": [
      "7\n"
     ]
    }
   ],
   "source": [
    "# 34728 KB, 1856 ms\n",
    "import sys \n",
    "input = sys.stdin.readline \n",
    "N, M = map(int, input().split())\n",
    "arr = [[0] * M for _ in range(N)]\n",
    "for i in range(N):\n",
    "    for j, v in enumerate(map(int, input().split())):\n",
    "        arr[i][j] = v\n",
    "\n",
    "answer = 0\n",
    "for i in range(N):\n",
    "    for j in range(M):\n",
    "        if j < M -3 : num1 = arr[i][j] + arr[i][j+1] + arr[i][j+2] + arr[i][j+3]  # 가로 직선\n",
    "        else : num1 = 0\n",
    "        \n",
    "        if i < N -3 : num2 = arr[i][j] + arr[i+1][j] + arr[i+2][j] + arr[i+3][j]  # 세로 직선\n",
    "        else: num2 = 0  \n",
    "\n",
    "        if i < N-1 and j < M-2 :  # 3 + 1 아래방향\n",
    "            num3 = arr[i][j] + arr[i][j+1] + arr[i][j+2]\n",
    "            num3 += max(arr[i+1][j], arr[i+1][j+1], arr[i+1][j+2])\n",
    "        else: num3 = 0\n",
    "        if i > 0 and j < M-2 :  # 3 + 1 위방향\n",
    "            num4 = arr[i][j] + arr[i][j+1] + arr[i][j+2]\n",
    "            num4 += max(arr[i-1][j], arr[i-1][j+1], arr[i-1][j+2])\n",
    "        else: num4 = 0\n",
    "\n",
    "        if i < N-2 and j < M-1 :  # 3 + 1 오른쪽\n",
    "            num5 = arr[i][j] + arr[i+1][j] + arr[i+2][j]\n",
    "            num5 += max(arr[i][j+1], arr[i+1][j+1], arr[i+2][j+1])\n",
    "        else: num5 = 0\n",
    "        if i < N-2 and j > 0 :   # 3 + 1 왼쪽\n",
    "            num6 = arr[i][j] + arr[i+1][j] + arr[i+2][j]\n",
    "            num6 += max(arr[i][j-1], arr[i+1][j-1], arr[i+2][j-1])\n",
    "        else: num6 = 0\n",
    "\n",
    "        if i < N-1 and j < M-1: num7 = arr[i][j] + arr[i][j+1] + arr[i+1][j] + arr[i+1][j+1]  # 네모\n",
    "        else: num7 = 0\n",
    "\n",
    "        if 0 < i < N-1 and j < M-1:  # 번개\n",
    "            num8 = arr[i][j] + arr[i][j+1]\n",
    "            num8 += max(arr[i-1][j] + arr[i+1][j+1], arr[i+1][j] + arr[i-1][j+1])\n",
    "        else: num8 = 0\n",
    " \n",
    "        if i < N-1 and 0 < j < M-1:  # 누운 번개\n",
    "            num9 = arr[i][j] + arr[i+1][j]\n",
    "            num9 += max(arr[i+1][j-1] + arr[i][j+1], arr[i][j-1] + arr[i+1][j+1])\n",
    "        else: num9 = 0\n",
    "\n",
    "        answer = max(answer, num1,num2,num3,num4,num5,num6,num7,num8,num9)\n",
    "print(answer)"
   ]
  },
  {
   "cell_type": "code",
   "execution_count": 6,
   "metadata": {},
   "outputs": [
    {
     "name": "stdout",
     "output_type": "stream",
     "text": [
      "7\n"
     ]
    }
   ],
   "source": [
    "# 34596\tKB, 344 ms\n",
    "# import sys\n",
    "# input = sys.stdin.readline\n",
    "\n",
    "N,M = map(int, input().split())\n",
    "arr = [[0] * M for _ in range(N)]\n",
    "max_n = 0\n",
    "for i in range(N):\n",
    "    for j, v in enumerate(map(int, input().split())):\n",
    "        arr[i][j] = v\n",
    "        max_n = max(max_n, v)\n",
    "\n",
    "answer = 0\n",
    "def BOJ(path, sum_n):\n",
    "    global answer\n",
    "    if len(path) == 4: \n",
    "        answer = max(answer, sum_n)\n",
    "        return\n",
    "    elif answer - (4 - len(path)) * max_n > sum_n : return \n",
    "\n",
    "    for x, y in path:\n",
    "        if x > 0 and (x-1, y) not in path: BOJ(path + [(x-1,y)], sum_n + arr[x-1][y])\n",
    "        if x < N-1 and (x+1, y) not in path: BOJ(path + [(x+1,y)], sum_n + arr[x+1][y])\n",
    "        if y < M-1 and (x, y+1) not in path: BOJ(path + [(x,y+1)], sum_n + arr[x][y+1])\n",
    "        if y > 0 and (x, y-1) not in path: BOJ(path + [(x,y-1)], sum_n + arr[x][y-1])\n",
    "    \n",
    "for i in range(N):\n",
    "    for j in range(M):\n",
    "        BOJ([(i,j)], arr[i][j])\n",
    "        \n",
    "print(answer)"
   ]
  }
 ],
 "metadata": {
  "interpreter": {
   "hash": "9652531e86fbc99dfe7fc5092eb81081a97fad237de3d1fd3b3a0d1c69c61538"
  },
  "kernelspec": {
   "display_name": "Python 3.9.7 64-bit ('ox': conda)",
   "language": "python",
   "name": "python3"
  },
  "language_info": {
   "codemirror_mode": {
    "name": "ipython",
    "version": 3
   },
   "file_extension": ".py",
   "mimetype": "text/x-python",
   "name": "python",
   "nbconvert_exporter": "python",
   "pygments_lexer": "ipython3",
   "version": "3.9.7"
  },
  "orig_nbformat": 4
 },
 "nbformat": 4,
 "nbformat_minor": 2
}
