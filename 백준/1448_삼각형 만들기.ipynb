{
 "cells": [
  {
   "cell_type": "code",
   "execution_count": 3,
   "metadata": {},
   "outputs": [
    {
     "ename": "SyntaxError",
     "evalue": "invalid syntax (<ipython-input-3-3cd292f292f6>, line 10)",
     "output_type": "error",
     "traceback": [
      "\u001b[0;36m  File \u001b[0;32m\"<ipython-input-3-3cd292f292f6>\"\u001b[0;36m, line \u001b[0;32m10\u001b[0m\n\u001b[0;31m    if answer:print(answer)== 0:\u001b[0m\n\u001b[0m                                ^\u001b[0m\n\u001b[0;31mSyntaxError\u001b[0m\u001b[0;31m:\u001b[0m invalid syntax\n"
     ]
    }
   ],
   "source": [
    "# 시간 초과\n",
    "from itertools import combinations\n",
    "T = int(input())\n",
    "arr = [int(input()) for _ in range(T)]\n",
    "answer = 0\n",
    "for a, b, c in combinations(arr, 3):\n",
    "    max_n = max(a,b,c)\n",
    "    if max_n >=a and max_n >= b and max_n >= c:\n",
    "        if max_n*2-a-b-c > 0:\n",
    "            answer = max(answer, a+b+c)\n",
    "\n",
    "if answer:print(answer)\n",
    "else:print(-1)"
   ]
  },
  {
   "cell_type": "code",
   "execution_count": null,
   "metadata": {},
   "outputs": [],
   "source": [
    "# Time = 744 ms\n",
    "# Memory = 72616 KB\n",
    "import sys\n",
    "input = sys.stdin.readline\n",
    "T = int(input())\n",
    "arr = [int(input()) for _ in range(T)]\n",
    "arr.sort()\n",
    "ans = False\n",
    "while len(arr) > 2:\n",
    "    if arr[-1] >= arr[-2] + arr[-3]:\n",
    "        arr.pop()\n",
    "    else:\n",
    "        ans = True\n",
    "        break\n",
    "if ans:print(arr[-1]+arr[-2]+arr[-3])\n",
    "else:print(-1)"
   ]
  },
  {
   "cell_type": "code",
   "execution_count": null,
   "metadata": {},
   "outputs": [],
   "source": []
  }
 ],
 "metadata": {
  "kernelspec": {
   "display_name": "Python 3",
   "language": "python",
   "name": "python3"
  },
  "language_info": {
   "codemirror_mode": {
    "name": "ipython",
    "version": 3
   },
   "file_extension": ".py",
   "mimetype": "text/x-python",
   "name": "python",
   "nbconvert_exporter": "python",
   "pygments_lexer": "ipython3",
   "version": "3.8.3"
  },
  "toc": {
   "base_numbering": 1,
   "nav_menu": {},
   "number_sections": true,
   "sideBar": true,
   "skip_h1_title": false,
   "title_cell": "Table of Contents",
   "title_sidebar": "Contents",
   "toc_cell": false,
   "toc_position": {},
   "toc_section_display": true,
   "toc_window_display": true
  }
 },
 "nbformat": 4,
 "nbformat_minor": 4
}
