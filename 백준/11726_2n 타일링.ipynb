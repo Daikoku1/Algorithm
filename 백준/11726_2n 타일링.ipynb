{
 "cells": [
  {
   "cell_type": "code",
   "execution_count": 5,
   "metadata": {},
   "outputs": [
    {
     "name": "stdout",
     "output_type": "stream",
     "text": [
      "9\n",
      "55\n"
     ]
    }
   ],
   "source": [
    "# Time = 76 ms\n",
    "# Memory = 29076 KB\n",
    "n = int(input())\n",
    "result = [1,2]\n",
    "if n < 3:\n",
    "    print(result[n-1])\n",
    "else:\n",
    "    while len(result) < n:\n",
    "        result.append((result[-1]+result[-2]) % 10_007)\n",
    "    print(result[-1])"
   ]
  },
  {
   "cell_type": "markdown",
   "metadata": {},
   "source": [
    "# 코드\n",
    "- 21.12 풀이"
   ]
  },
  {
   "cell_type": "code",
   "execution_count": 3,
   "metadata": {},
   "outputs": [
    {
     "name": "stdout",
     "output_type": "stream",
     "text": [
      "55\n"
     ]
    }
   ],
   "source": [
    "# 29200\tKB, 68 ms\n",
    "def BOJ_11726(x):\n",
    "    if x == 1 : return 1\n",
    "    dp = []\n",
    "    dp.append(1) # x == 0\n",
    "    dp.append(1) # x == 1\n",
    "    while len(dp) <= x:\n",
    "        dp.append((dp[-1] + dp[-2]) % 10007)\n",
    "    \n",
    "    return dp[-1]\n",
    "\n",
    "N = int(input())\n",
    "print(BOJ_11726(N))"
   ]
  }
 ],
 "metadata": {
  "kernelspec": {
   "display_name": "Python 3",
   "language": "python",
   "name": "python3"
  },
  "language_info": {
   "codemirror_mode": {
    "name": "ipython",
    "version": 3
   },
   "file_extension": ".py",
   "mimetype": "text/x-python",
   "name": "python",
   "nbconvert_exporter": "python",
   "pygments_lexer": "ipython3",
   "version": "3.8.12"
  },
  "toc": {
   "base_numbering": 1,
   "nav_menu": {},
   "number_sections": true,
   "sideBar": true,
   "skip_h1_title": false,
   "title_cell": "Table of Contents",
   "title_sidebar": "Contents",
   "toc_cell": false,
   "toc_position": {},
   "toc_section_display": true,
   "toc_window_display": true
  }
 },
 "nbformat": 4,
 "nbformat_minor": 4
}
