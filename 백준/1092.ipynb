{
 "cells": [
  {
   "cell_type": "code",
   "execution_count": 29,
   "metadata": {},
   "outputs": [
    {
     "name": "stdout",
     "output_type": "stream",
     "text": [
      "2 2 0 0 2\n",
      "1\n",
      "3 1 2 2 1\n",
      "2\n",
      "2\n",
      "2\n",
      "2\n",
      "2\n",
      "2\n"
     ]
    }
   ],
   "source": [
    "# 29708 KB, 72 ms\n",
    "N = int(input())\n",
    "crane = {}\n",
    "for i in map(int, input().split()):\n",
    "    crane[i] = crane.get(i, 0) + 1\n",
    "max_w = max(crane)\n",
    "w_list = sorted(crane.keys())\n",
    "\n",
    "M = int(input())\n",
    "too_heavy = False\n",
    "weights = {i : 0 for i in w_list[::-1]}\n",
    "for x in map(int, input().split()):\n",
    "    if x > max_w:\n",
    "        too_heavy = True\n",
    "        break\n",
    "    for i in w_list:\n",
    "        if x <= i :\n",
    "            weights[i] += 1\n",
    "            break\n",
    "# 크래인의 최대 허용무게보다 무거운 짐이 존재\n",
    "if too_heavy : print(-1)\n",
    "else :\n",
    "    max_time = 0\n",
    "    total_boxes = 0 # 동시동작횟수 계산\n",
    "    total_crane = 0\n",
    "    # 높은 무게를 들 수 있는 크래인은 낮은 무게도 들 수 있음\n",
    "    # 낮은 무게의 짐이 많을 경우 이를 분배하여 동시동작횟수를 높이는 방향으로 조절\n",
    "    for idx, (k, val) in enumerate(weights.items()):\n",
    "        if val//crane[k] + (val%crane[k] != 0) > max_time:\n",
    "            # val - new_max_time * crane[k] = new_max_time * total_crane - total_boxes\n",
    "            # (total_crane + crane[k]) * new_max_time = val + total_boxes\n",
    "            # new_max_time = (val + total_boxes) / (total_crane + crane[k])\n",
    "            q, r = divmod(val + total_boxes, total_crane + crane[k])\n",
    "            # 이전 max_time은 변할 수 없음(무거운 짐은 낮은 무게 크래인이 움직일 수 없으므로)\n",
    "            # 따라서 둘 중 큰값을 선택\n",
    "            max_time = max(max_time, q + (r != 0))\n",
    "        total_crane += crane[k]\n",
    "        total_boxes += val\n",
    "    print(max_time)"
   ]
  }
 ],
 "metadata": {
  "interpreter": {
   "hash": "9652531e86fbc99dfe7fc5092eb81081a97fad237de3d1fd3b3a0d1c69c61538"
  },
  "kernelspec": {
   "display_name": "Python 3.9.7 64-bit ('ox': conda)",
   "language": "python",
   "name": "python3"
  },
  "language_info": {
   "codemirror_mode": {
    "name": "ipython",
    "version": 3
   },
   "file_extension": ".py",
   "mimetype": "text/x-python",
   "name": "python",
   "nbconvert_exporter": "python",
   "pygments_lexer": "ipython3",
   "version": "3.9.7"
  },
  "orig_nbformat": 4
 },
 "nbformat": 4,
 "nbformat_minor": 2
}
