{
 "cells": [
  {
   "cell_type": "code",
   "execution_count": 33,
   "metadata": {},
   "outputs": [
    {
     "name": "stdout",
     "output_type": "stream",
     "text": [
      "deque([[5, 4], [6, 4]])\n",
      "9\n"
     ]
    }
   ],
   "source": [
    "# 31932\tKB, 92 ms\n",
    "from collections import deque\n",
    "import sys\n",
    "input = sys.stdin.readline\n",
    "N = int(input())\n",
    "K = int(input())\n",
    "arr = [[0] * (N+1) for _ in range(N+1)]\n",
    "for _ in range(K):\n",
    "    x, y = map(int, input().split())\n",
    "    arr[x][y] = 1\n",
    "    \n",
    "L = int(input())\n",
    "cmd = {}\n",
    "for _ in range(L):\n",
    "    t, c = input().split()\n",
    "    cmd[int(t)] = c\n",
    "\n",
    "d = [[0, 1],[1, 0], [0, -1], [-1, 0]]\n",
    "d_idx = 0 # D : +1 // L : -1\n",
    "time = 0\n",
    "\n",
    "snake = deque([[1,1]])\n",
    "while True:\n",
    "    time += 1\n",
    "    nx, ny = snake[-1][0] + d[d_idx][0], snake[-1][1] + d[d_idx][1]\n",
    "    if time in cmd.keys():\n",
    "        if cmd[time] == 'D': d_idx = (d_idx + 1) % 4\n",
    "        else: d_idx = (d_idx - 1) % 4\n",
    "\n",
    "    if 0 < nx <= N and 0 < ny <= N and [nx,ny] not in snake:\n",
    "        snake.append([nx,ny])\n",
    "        if arr[nx][ny] == 0 : snake.popleft()\n",
    "        else: arr[nx][ny] = 0\n",
    "    else: break\n",
    "\n",
    "print(time)"
   ]
  }
 ],
 "metadata": {
  "interpreter": {
   "hash": "9652531e86fbc99dfe7fc5092eb81081a97fad237de3d1fd3b3a0d1c69c61538"
  },
  "kernelspec": {
   "display_name": "Python 3.9.7 64-bit ('ox': conda)",
   "language": "python",
   "name": "python3"
  },
  "language_info": {
   "codemirror_mode": {
    "name": "ipython",
    "version": 3
   },
   "file_extension": ".py",
   "mimetype": "text/x-python",
   "name": "python",
   "nbconvert_exporter": "python",
   "pygments_lexer": "ipython3",
   "version": "3.9.7"
  },
  "orig_nbformat": 4
 },
 "nbformat": 4,
 "nbformat_minor": 2
}
