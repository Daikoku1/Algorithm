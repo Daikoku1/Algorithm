{
 "cells": [
  {
   "cell_type": "code",
   "execution_count": null,
   "metadata": {},
   "outputs": [],
   "source": [
    "100,000"
   ]
  },
  {
   "cell_type": "code",
   "execution_count": 5,
   "metadata": {},
   "outputs": [
    {
     "name": "stdout",
     "output_type": "stream",
     "text": [
      "7\n",
      "-----------\n",
      "2 1\n",
      "0 1\n",
      "-----------\n",
      "2 2\n",
      "0 2\n",
      "-----------\n",
      "2 3\n",
      "0 3\n",
      "-----------\n",
      "2 4\n",
      "1 0\n",
      "-----------\n",
      "2 5\n",
      "1 1\n",
      "-----------\n",
      "2 6\n",
      "1 2\n",
      "-----------\n",
      "2 7\n",
      "1 3\n"
     ]
    },
    {
     "data": {
      "text/plain": [
       "[0, 1, 2, 3, 1, 2, 3, 4]"
      ]
     },
     "execution_count": 5,
     "metadata": {},
     "output_type": "execute_result"
    }
   ],
   "source": [
    "import math\n",
    "N = int(input())\n",
    "max_n = int(math.sqrt(N))\n",
    "dp = [i for i in range(N + 1)]\n",
    "for i in range(2, max_n + 1):\n",
    "    for j in range(1, N+1):\n",
    "        print('-----------')\n",
    "        print(i,j)\n",
    "        q, r = divmod(j, i*i)\n",
    "        print(q, r)\n",
    "        if r == 0:\n",
    "            dp[j] = min(dp[j], q)\n",
    "        else:\n",
    "            dp[j] = min(dp[j], q + dp[r])\n",
    "dp[-1]"
   ]
  },
  {
   "cell_type": "code",
   "execution_count": 6,
   "metadata": {},
   "outputs": [
    {
     "name": "stdout",
     "output_type": "stream",
     "text": [
      "7\n"
     ]
    },
    {
     "data": {
      "text/plain": [
       "4"
      ]
     },
     "execution_count": 6,
     "metadata": {},
     "output_type": "execute_result"
    }
   ],
   "source": [
    "N = int(input())\n",
    "dp = [i for i in range(N + 1)]\n",
    "for i in range(1, N+1):\n",
    "    for j in range(2, i):\n",
    "        if j * j > i: break\n",
    "        dp[i] = min(dp[i], dp[i - j*j]+1)\n",
    "print(dp[-1])"
   ]
  },
  {
   "cell_type": "code",
   "execution_count": null,
   "metadata": {},
   "outputs": [],
   "source": []
  }
 ],
 "metadata": {
  "kernelspec": {
   "display_name": "Python 3",
   "language": "python",
   "name": "python3"
  },
  "language_info": {
   "codemirror_mode": {
    "name": "ipython",
    "version": 3
   },
   "file_extension": ".py",
   "mimetype": "text/x-python",
   "name": "python",
   "nbconvert_exporter": "python",
   "pygments_lexer": "ipython3",
   "version": "3.8.3"
  },
  "toc": {
   "base_numbering": 1,
   "nav_menu": {},
   "number_sections": true,
   "sideBar": true,
   "skip_h1_title": false,
   "title_cell": "Table of Contents",
   "title_sidebar": "Contents",
   "toc_cell": false,
   "toc_position": {},
   "toc_section_display": true,
   "toc_window_display": true
  }
 },
 "nbformat": 4,
 "nbformat_minor": 4
}
