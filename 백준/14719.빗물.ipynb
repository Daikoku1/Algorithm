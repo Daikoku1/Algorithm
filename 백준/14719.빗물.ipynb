{
 "cells": [
  {
   "cell_type": "code",
   "execution_count": null,
   "metadata": {},
   "outputs": [],
   "source": [
    "# Time = 80 ms\n",
    "# Memory = 29088 KB\n",
    "h, w = map(int, input().split())\n",
    "li = list(map(int, input().split()))\n",
    "answer = 0\n",
    "for i, v in enumerate(li[1:-1], 1):\n",
    "    answer += max(0, min(max(li[:i]), max(li[i+1:])) - v)\n",
    "print(answer)"
   ]
  },
  {
   "cell_type": "code",
   "execution_count": null,
   "metadata": {},
   "outputs": [],
   "source": [
    "# Time = 72 ms\n",
    "# Memory = 29088 KB\n",
    "h, w = map(int, input().split())\n",
    "li = list(map(int, input().split()))\n",
    "answer = [0] * w\n",
    "max_l = li[0]\n",
    "for i, v in enumerate(li):\n",
    "    answer[i] = max_l\n",
    "    max_l = max(max_l, v)\n",
    "\n",
    "max_r = li[-1]\n",
    "for i2, v2 in enumerate(li[::-1], 1):\n",
    "    answer[w - i2] = max(0, min(max_r, answer[w-i2]) - v2)\n",
    "    max_r = max(max_r, v2)\n",
    "\n",
    "print(sum(answer))"
   ]
  },
  {
   "cell_type": "code",
   "execution_count": null,
   "metadata": {},
   "outputs": [],
   "source": []
  },
  {
   "cell_type": "code",
   "execution_count": null,
   "metadata": {},
   "outputs": [],
   "source": [
    "w"
   ]
  },
  {
   "cell_type": "code",
   "execution_count": null,
   "metadata": {},
   "outputs": [],
   "source": []
  },
  {
   "cell_type": "code",
   "execution_count": null,
   "metadata": {},
   "outputs": [],
   "source": []
  }
 ],
 "metadata": {
  "kernelspec": {
   "display_name": "Python 3",
   "language": "python",
   "name": "python3"
  },
  "language_info": {
   "codemirror_mode": {
    "name": "ipython",
    "version": 3
   },
   "file_extension": ".py",
   "mimetype": "text/x-python",
   "name": "python",
   "nbconvert_exporter": "python",
   "pygments_lexer": "ipython3",
   "version": "3.8.5"
  }
 },
 "nbformat": 4,
 "nbformat_minor": 4
}
