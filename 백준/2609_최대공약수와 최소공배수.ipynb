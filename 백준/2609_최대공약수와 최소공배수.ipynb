{
 "cells": [
  {
   "cell_type": "code",
   "execution_count": null,
   "metadata": {},
   "outputs": [],
   "source": [
    "# Time = 72 ms\n",
    "# Memory = 29088 KB\n",
    "def gcd(a, b):\n",
    "\tif a < b:\n",
    "\t\ta, b = b, a\n",
    "\twhile b != 0:\n",
    "\t\ta, b = b, a % b\n",
    "\treturn a\n",
    "\n",
    "a, b = map(int, input().split())\n",
    "gcd_num = gcd(a,b)\n",
    "print(gcd_num, a*b//gcd_num)"
   ]
  },
  {
   "cell_type": "code",
   "execution_count": null,
   "metadata": {},
   "outputs": [],
   "source": []
  },
  {
   "cell_type": "markdown",
   "metadata": {},
   "source": [
    "# 코드2\n",
    "- 21.10 다시 풂\n",
    "- math 내 기본함수"
   ]
  },
  {
   "cell_type": "code",
   "execution_count": null,
   "metadata": {},
   "outputs": [],
   "source": [
    "# 31312 KB, 76 ms\n",
    "import math\n",
    "\n",
    "a,b = map(int, input().split())\n",
    "\n",
    "print(math.gcd(a,b)) # 최대공약수\n",
    "print(math.lcm(a,b)) # 최소공배수"
   ]
  }
 ],
 "metadata": {
  "kernelspec": {
   "display_name": "Python 3",
   "language": "python",
   "name": "python3"
  },
  "language_info": {
   "codemirror_mode": {
    "name": "ipython",
    "version": 3
   },
   "file_extension": ".py",
   "mimetype": "text/x-python",
   "name": "python",
   "nbconvert_exporter": "python",
   "pygments_lexer": "ipython3",
   "version": "3.8.3"
  },
  "toc": {
   "base_numbering": 1,
   "nav_menu": {},
   "number_sections": true,
   "sideBar": true,
   "skip_h1_title": false,
   "title_cell": "Table of Contents",
   "title_sidebar": "Contents",
   "toc_cell": false,
   "toc_position": {},
   "toc_section_display": true,
   "toc_window_display": true
  }
 },
 "nbformat": 4,
 "nbformat_minor": 4
}
