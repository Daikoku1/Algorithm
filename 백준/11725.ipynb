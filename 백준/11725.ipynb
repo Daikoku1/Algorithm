{
 "cells": [
  {
   "cell_type": "code",
   "execution_count": 1,
   "metadata": {},
   "outputs": [
    {
     "name": "stdout",
     "output_type": "stream",
     "text": [
      "4\n",
      "6\n",
      "1\n",
      "3\n",
      "1\n",
      "4\n"
     ]
    }
   ],
   "source": [
    "# 57448\tKB, 412 ms\n",
    "import sys\n",
    "from collections import deque\n",
    "input = sys.stdin.readline\n",
    "N = int(input())\n",
    "dic = {i : [] for i in range(1, N+1)}\n",
    "for _ in range(N-1):\n",
    "    a, b = map(int, input().split())\n",
    "    dic[a].append(b)\n",
    "    dic[b].append(a)\n",
    "\n",
    "ans = [0] * (N+1)\n",
    "ans[1] = 1\n",
    "to_do = deque([1])\n",
    "while to_do:\n",
    "    for _ in range(len(to_do)):\n",
    "        x = to_do.popleft()\n",
    "        for nx in dic[x]:\n",
    "            if ans[nx] == 0: \n",
    "                ans[nx] = x\n",
    "                to_do.append(nx)\n",
    "\n",
    "for i in ans[2:]:\n",
    "    print(i)"
   ]
  },
  {
   "cell_type": "code",
   "execution_count": null,
   "metadata": {},
   "outputs": [],
   "source": []
  },
  {
   "cell_type": "code",
   "execution_count": null,
   "metadata": {},
   "outputs": [],
   "source": [
    "7\n",
    "1 6\n",
    "6 3\n",
    "3 5\n",
    "4 1\n",
    "2 4\n",
    "4 7\n"
   ]
  }
 ],
 "metadata": {
  "interpreter": {
   "hash": "19c4bd4a8c3153e8f6fe1d4aa29847b7593bdeb075f08f949f70b00c677d2ba0"
  },
  "kernelspec": {
   "display_name": "Python 3.10.0 64-bit",
   "language": "python",
   "name": "python3"
  },
  "language_info": {
   "codemirror_mode": {
    "name": "ipython",
    "version": 3
   },
   "file_extension": ".py",
   "mimetype": "text/x-python",
   "name": "python",
   "nbconvert_exporter": "python",
   "pygments_lexer": "ipython3",
   "version": "3.10.0"
  },
  "orig_nbformat": 4
 },
 "nbformat": 4,
 "nbformat_minor": 2
}
