{
 "cells": [
  {
   "cell_type": "code",
   "execution_count": 1,
   "metadata": {},
   "outputs": [
    {
     "name": "stdout",
     "output_type": "stream",
     "text": [
      "4\n",
      "6\n",
      "1\n",
      "3\n",
      "1\n",
      "4\n"
     ]
    }
   ],
   "source": [
    "# 57448\tKB, 412 ms\n",
    "import sys\n",
    "from collections import deque\n",
    "input = sys.stdin.readline\n",
    "N = int(input())\n",
    "dic = {i : [] for i in range(1, N+1)}\n",
    "for _ in range(N-1):\n",
    "    a, b = map(int, input().split())\n",
    "    dic[a].append(b)\n",
    "    dic[b].append(a)\n",
    "\n",
    "ans = [0] * (N+1)\n",
    "ans[1] = 1\n",
    "to_do = deque([1])\n",
    "while to_do:\n",
    "    for _ in range(len(to_do)):\n",
    "        x = to_do.popleft()\n",
    "        for nx in dic[x]:\n",
    "            if ans[nx] == 0: \n",
    "                ans[nx] = x\n",
    "                to_do.append(nx)\n",
    "\n",
    "for i in ans[2:]:\n",
    "    print(i)"
   ]
  },
  {
   "cell_type": "code",
   "execution_count": null,
   "metadata": {},
   "outputs": [],
   "source": []
  },
  {
   "cell_type": "markdown",
   "metadata": {},
   "source": [
    "## 코드\n",
    "- 22.02 풀이"
   ]
  },
  {
   "cell_type": "code",
   "execution_count": 7,
   "metadata": {},
   "outputs": [],
   "source": [
    "# 64620\tKB, 348 ms\n",
    "from collections import deque\n",
    "import sys\n",
    "input = sys.stdin.readline\n",
    "N = int(input())\n",
    "dic = {i : [] for i in range(1, N+1)}\n",
    "for _ in range(N-1):\n",
    "    n1, n2 = map(int, input().split())\n",
    "    dic[n1].append(n2)\n",
    "    dic[n2].append(n1)\n",
    "\n",
    "visited = [0,1] + [0] * (N-1)\n",
    "to_do = deque([1])\n",
    "while to_do:\n",
    "    x = to_do.popleft()\n",
    "    for nx in dic[x]:\n",
    "        if visited[nx] : continue\n",
    "        visited[nx] = x\n",
    "        to_do.append(nx)\n",
    "print('\\n'.join(map(str, visited[2:])))"
   ]
  }
 ],
 "metadata": {
  "interpreter": {
   "hash": "19c4bd4a8c3153e8f6fe1d4aa29847b7593bdeb075f08f949f70b00c677d2ba0"
  },
  "kernelspec": {
   "display_name": "Python 3.10.0 64-bit",
   "language": "python",
   "name": "python3"
  },
  "language_info": {
   "codemirror_mode": {
    "name": "ipython",
    "version": 3
   },
   "file_extension": ".py",
   "mimetype": "text/x-python",
   "name": "python",
   "nbconvert_exporter": "python",
   "pygments_lexer": "ipython3",
   "version": "3.8.12"
  },
  "orig_nbformat": 4
 },
 "nbformat": 4,
 "nbformat_minor": 2
}
