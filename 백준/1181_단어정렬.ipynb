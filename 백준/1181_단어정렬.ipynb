{
 "cells": [
  {
   "cell_type": "markdown",
   "metadata": {},
   "source": [
    "# 코드 1"
   ]
  },
  {
   "cell_type": "code",
   "execution_count": null,
   "metadata": {},
   "outputs": [],
   "source": [
    "# Time = 128 ms\n",
    "# Memory = 35772 KB\n",
    "import sys \n",
    "strings = sys.stdin.read().splitlines() \n",
    "strings = set(strings[1:])\n",
    "\n",
    "new_s = [[len(s), s] for s in strings]\n",
    "new_s.sort()\n",
    "for x,y in new_s:\n",
    "    print(y)"
   ]
  },
  {
   "cell_type": "markdown",
   "metadata": {},
   "source": [
    "# 코드 2"
   ]
  },
  {
   "cell_type": "code",
   "execution_count": null,
   "metadata": {},
   "outputs": [],
   "source": [
    "# Time = 104 ms\n",
    "# Memory = 33700 KB\n",
    "import sys\n",
    "input = sys.stdin.readline\n",
    "N = int(input())\n",
    "words = set()\n",
    "for _ in range(N):\n",
    "    words.add(input().strip())\n",
    "words = list(words) \n",
    "words.sort()\n",
    "words.sort(key = len)\n",
    "for w in words:\n",
    "    print(w)"
   ]
  },
  {
   "cell_type": "markdown",
   "metadata": {},
   "source": [
    "# 코드 3\n",
    "- 21.09.25 새로 푼 코드"
   ]
  },
  {
   "cell_type": "code",
   "execution_count": 11,
   "metadata": {},
   "outputs": [
    {
     "name": "stdout",
     "output_type": "stream",
     "text": [
      "3\n",
      "i\n",
      "it\n",
      "im\n",
      "i\n",
      "im\n",
      "it\n"
     ]
    }
   ],
   "source": [
    "# 31760 KB, 1480 ms\n",
    "dic = {}\n",
    "N = int(input())\n",
    "for _ in range(N):\n",
    "    s = input().strip()\n",
    "    dic[len(s)] = dic.get(len(s), []) + [s]\n",
    "\n",
    "for idx in sorted(dic.keys()):\n",
    "    for v in sorted(set(dic[idx])):\n",
    "        print(v)"
   ]
  },
  {
   "cell_type": "markdown",
   "metadata": {},
   "source": [
    "# 코드 4"
   ]
  },
  {
   "cell_type": "code",
   "execution_count": 17,
   "metadata": {},
   "outputs": [
    {
     "name": "stdout",
     "output_type": "stream",
     "text": [
      "5\n",
      "i\n",
      "a\n",
      "j\n",
      "ijkjkkl\n",
      "km\n",
      "a\n",
      "i\n",
      "j\n",
      "km\n",
      "ijkjkkl\n"
     ]
    }
   ],
   "source": [
    "import sys\n",
    "input = sys.stdin.readline\n",
    "N = int(input())\n",
    "ans = sorted(set([input().strip() for _ in range(N)]), key = lambda x:[len(x), x])\n",
    "for c in ans:\n",
    "    print(c)"
   ]
  },
  {
   "cell_type": "code",
   "execution_count": null,
   "metadata": {},
   "outputs": [],
   "source": []
  }
 ],
 "metadata": {
  "kernelspec": {
   "display_name": "Python 3",
   "language": "python",
   "name": "python3"
  },
  "language_info": {
   "codemirror_mode": {
    "name": "ipython",
    "version": 3
   },
   "file_extension": ".py",
   "mimetype": "text/x-python",
   "name": "python",
   "nbconvert_exporter": "python",
   "pygments_lexer": "ipython3",
   "version": "3.8.3"
  },
  "toc": {
   "base_numbering": 1,
   "nav_menu": {},
   "number_sections": true,
   "sideBar": true,
   "skip_h1_title": false,
   "title_cell": "Table of Contents",
   "title_sidebar": "Contents",
   "toc_cell": false,
   "toc_position": {},
   "toc_section_display": true,
   "toc_window_display": true
  }
 },
 "nbformat": 4,
 "nbformat_minor": 4
}
