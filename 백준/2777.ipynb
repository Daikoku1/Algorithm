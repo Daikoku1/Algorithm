{
 "cells": [
  {
   "cell_type": "code",
   "execution_count": null,
   "metadata": {},
   "outputs": [],
   "source": [
    "# 30860\tKB, 76 ms\n",
    "denom = [i for i in range(9,1,-1)]\n",
    "results = []\n",
    "\n",
    "T = int(input())\n",
    "for _ in range(T):\n",
    "    x = []\n",
    "    N = int(input())\n",
    "    temp = N\n",
    "    while True:\n",
    "        cnt = 0\n",
    "        if temp == 1:\n",
    "            x.append(1)\n",
    "            break\n",
    "        for num in denom:\n",
    "            if temp % num == 0:\n",
    "                x.append(num)\n",
    "                temp /= num\n",
    "                break\n",
    "            cnt +=1\n",
    "        if cnt == 8:\n",
    "            if temp >=10 : break\n",
    "        if temp == 1 : break\n",
    "    if cnt == 8 : results.append(-1)\n",
    "    else : results.append(len(x))\n",
    "\n",
    "for idx in range(len(results)):\n",
    "    print(results[idx])"
   ]
  }
 ],
 "metadata": {
  "language_info": {
   "name": "python"
  },
  "orig_nbformat": 4
 },
 "nbformat": 4,
 "nbformat_minor": 2
}
