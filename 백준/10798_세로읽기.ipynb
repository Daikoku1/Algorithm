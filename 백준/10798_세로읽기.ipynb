{
 "cells": [
  {
   "cell_type": "code",
   "execution_count": null,
   "metadata": {},
   "outputs": [],
   "source": [
    "a = 'AABCDD'\n",
    "b = 'afzz' \n",
    "c = '09121'\n",
    "d = 'a8EWg6'\n",
    "e = 'P5h3kx'"
   ]
  },
  {
   "cell_type": "code",
   "execution_count": 1,
   "metadata": {},
   "outputs": [
    {
     "name": "stdout",
     "output_type": "stream",
     "text": [
      "AABCDD\n",
      "afzz\n",
      "09121\n",
      "a8EWg6\n",
      "P5h3kx\n",
      "Aa0aPAf985Bz1EhCz2W3D1gkD6x\n"
     ]
    }
   ],
   "source": [
    "# Time = 72 ms\n",
    "# Memory = 29088 KB\n",
    "from itertools import zip_longest\n",
    "li = []\n",
    "for _ in range(5):\n",
    "    li.append(input().strip())\n",
    "answer = ''\n",
    "for a,b,c,d,e in zip_longest(*li, fillvalue = ''):\n",
    "    answer += a+b+c+d+e\n",
    "print(answer)"
   ]
  },
  {
   "cell_type": "code",
   "execution_count": null,
   "metadata": {},
   "outputs": [],
   "source": [
    "import sys\n",
    "from itertools import zip_longest\n",
    "r = sys.stdin.readline\n",
    "li = [r().strip() for _ in range(5)]\n",
    "answer = ''\n",
    "for a,b,c,d,e in zip_longest(*li, fillvalue = ''):\n",
    "    answer += a+b+c+d+e\n",
    "print(answer)"
   ]
  }
 ],
 "metadata": {
  "kernelspec": {
   "display_name": "Python 3",
   "language": "python",
   "name": "python3"
  },
  "language_info": {
   "codemirror_mode": {
    "name": "ipython",
    "version": 3
   },
   "file_extension": ".py",
   "mimetype": "text/x-python",
   "name": "python",
   "nbconvert_exporter": "python",
   "pygments_lexer": "ipython3",
   "version": "3.8.5"
  }
 },
 "nbformat": 4,
 "nbformat_minor": 4
}
