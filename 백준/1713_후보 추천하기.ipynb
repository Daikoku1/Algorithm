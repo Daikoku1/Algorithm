{
 "cells": [
  {
   "cell_type": "code",
   "execution_count": 2,
   "metadata": {},
   "outputs": [
    {
     "name": "stdout",
     "output_type": "stream",
     "text": [
      "3\n",
      "9\n",
      "2 1 4 3 5 6 2 7 2\n",
      "2 6 7\n"
     ]
    }
   ],
   "source": [
    "# Time = 68 ms\n",
    "# Memory = 28776 KB\n",
    "N = int(input())\n",
    "M = int(input())\n",
    "\n",
    "pick = []\n",
    "score = []\n",
    "for x in map(int, input().split()):\n",
    "    for idx, p in enumerate(pick):\n",
    "        if p == x:\n",
    "            score[idx] += 1\n",
    "            break\n",
    "    else:\n",
    "        if len(pick) == N:\n",
    "            min_score = min(score)\n",
    "            for jdx, s in enumerate(score):\n",
    "                if s == min_score:\n",
    "                    score.pop(jdx)\n",
    "                    pick.pop(jdx)\n",
    "                    break\n",
    "        pick.append(x)\n",
    "        score.append(1)\n",
    "        \n",
    "pick.sort()\n",
    "print(' '.join(map(str, pick)))"
   ]
  }
 ],
 "metadata": {
  "kernelspec": {
   "display_name": "Python 3",
   "language": "python",
   "name": "python3"
  },
  "language_info": {
   "codemirror_mode": {
    "name": "ipython",
    "version": 3
   },
   "file_extension": ".py",
   "mimetype": "text/x-python",
   "name": "python",
   "nbconvert_exporter": "python",
   "pygments_lexer": "ipython3",
   "version": "3.8.3"
  },
  "toc": {
   "base_numbering": 1,
   "nav_menu": {},
   "number_sections": true,
   "sideBar": true,
   "skip_h1_title": false,
   "title_cell": "Table of Contents",
   "title_sidebar": "Contents",
   "toc_cell": false,
   "toc_position": {},
   "toc_section_display": true,
   "toc_window_display": true
  }
 },
 "nbformat": 4,
 "nbformat_minor": 4
}
