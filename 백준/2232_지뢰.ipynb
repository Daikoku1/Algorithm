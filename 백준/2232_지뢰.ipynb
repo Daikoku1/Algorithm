{
 "cells": [
  {
   "cell_type": "code",
   "execution_count": 45,
   "metadata": {
    "scrolled": true
   },
   "outputs": [
    {
     "name": "stdout",
     "output_type": "stream",
     "text": [
      "9\n",
      "1\n",
      "2\n",
      "5\n",
      "4\n",
      "3\n",
      "3\n",
      "6\n",
      "6\n",
      "2\n"
     ]
    }
   ],
   "source": [
    "# Time = 128 ms\n",
    "# Memory = 34840 KB\n",
    "import sys\n",
    "input = sys.stdin.readline\n",
    "N = int(input())\n",
    "prev = int(input())\n",
    "up, equal = True, False\n",
    "ans = []\n",
    "for idx in range(1, N):\n",
    "    now = int(input())\n",
    "    if prev == now:\n",
    "        if equal : ans.append([idx, prev])\n",
    "        elif up : ans.append([idx, prev])\n",
    "        up, equal = True, True\n",
    "    \n",
    "    elif prev > now:\n",
    "        equal = False\n",
    "        if up:\n",
    "            up = False\n",
    "            ans.append([idx, prev])\n",
    "    else:\n",
    "        up, equal = True, False\n",
    "        if len(ans) >= 1 and ans[-1][1] == prev and ans[-1][0] == idx:\n",
    "            ans.pop()\n",
    "    prev = now\n",
    "if up:\n",
    "    ans.append([N, prev])\n",
    "for a, b in ans:\n",
    "    print(a)"
   ]
  }
 ],
 "metadata": {
  "kernelspec": {
   "display_name": "Python 3",
   "language": "python",
   "name": "python3"
  },
  "language_info": {
   "codemirror_mode": {
    "name": "ipython",
    "version": 3
   },
   "file_extension": ".py",
   "mimetype": "text/x-python",
   "name": "python",
   "nbconvert_exporter": "python",
   "pygments_lexer": "ipython3",
   "version": "3.8.3"
  },
  "toc": {
   "base_numbering": 1,
   "nav_menu": {},
   "number_sections": true,
   "sideBar": true,
   "skip_h1_title": false,
   "title_cell": "Table of Contents",
   "title_sidebar": "Contents",
   "toc_cell": false,
   "toc_position": {},
   "toc_section_display": true,
   "toc_window_display": true
  }
 },
 "nbformat": 4,
 "nbformat_minor": 4
}
