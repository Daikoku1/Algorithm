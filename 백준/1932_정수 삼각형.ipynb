{
 "cells": [
  {
   "cell_type": "code",
   "execution_count": 3,
   "metadata": {
    "scrolled": false
   },
   "outputs": [
    {
     "name": "stdout",
     "output_type": "stream",
     "text": [
      "5\n",
      "7\n",
      "[[7]]\n",
      "3 8\n",
      "1 0 3\n",
      "0 7\n",
      "1 1 8\n",
      "7 0\n",
      "[[7], [10, 15]]\n",
      "8 1 0\n",
      "2 0 8\n",
      "0 10\n",
      "2 1 1\n",
      "10 15\n",
      "2 2 0\n",
      "15 0\n",
      "[[7], [10, 15], [18, 16, 15]]\n",
      "2 7 4 4\n",
      "3 0 2\n",
      "0 18\n",
      "3 1 7\n",
      "18 16\n",
      "3 2 4\n",
      "16 15\n",
      "3 3 4\n",
      "15 0\n",
      "[[7], [10, 15], [18, 16, 15], [20, 25, 20, 19]]\n",
      "4 5 2 6 5\n",
      "4 0 4\n",
      "0 20\n",
      "4 1 5\n",
      "20 25\n",
      "4 2 2\n",
      "25 20\n",
      "4 3 6\n",
      "20 19\n",
      "4 4 5\n",
      "19 0\n",
      "[[7], [10, 15], [18, 16, 15], [20, 25, 20, 19], [24, 30, 27, 26, 24]]\n"
     ]
    }
   ],
   "source": [
    "# Time = 168 ms\n",
    "# Memory = 33536 KB\n",
    "import sys\n",
    "input = sys.stdin.readline\n",
    "T = int(input())\n",
    "arr = [[int(input())]]\n",
    "for i in range(1, T):\n",
    "    now = []\n",
    "    for j, val in enumerate(map(int, input().split())):\n",
    "        if j > 0:left = arr[-1][j-1]\n",
    "        else:left = 0\n",
    "        if j < i :right = arr[-1][j]\n",
    "        else:right = 0\n",
    "        now.append(val + max(left, right))\n",
    "    arr.append(now)\n",
    "print(max(arr[-1]))"
   ]
  },
  {
   "cell_type": "code",
   "execution_count": null,
   "metadata": {},
   "outputs": [],
   "source": []
  },
  {
   "cell_type": "markdown",
   "metadata": {},
   "source": [
    "# 코드\n",
    "- 21.12 풀이"
   ]
  },
  {
   "cell_type": "code",
   "execution_count": 13,
   "metadata": {},
   "outputs": [
    {
     "name": "stdout",
     "output_type": "stream",
     "text": [
      "0\n",
      "[7]\n",
      "1\n",
      "[10, 15]\n",
      "2\n",
      "[18, 16, 15]\n",
      "3\n",
      "[20, 25, 20, 19]\n",
      "4\n",
      "[24, 30, 27, 26, 24]\n",
      "30\n"
     ]
    }
   ],
   "source": [
    "# 29200 KB, 168 ms\n",
    "N = int(input())\n",
    "prev = [0]\n",
    "for l in range(N):\n",
    "    temp = []\n",
    "    for i, v in enumerate(map(int, input().split())):\n",
    "        n1 = prev[i-1] if i > 0 else 0\n",
    "        n2 = prev[i] if i < l else 0\n",
    "        temp.append(v + max(n1, n2))\n",
    "    prev = temp.copy()\n",
    "print(max(prev))"
   ]
  },
  {
   "cell_type": "code",
   "execution_count": null,
   "metadata": {},
   "outputs": [],
   "source": []
  }
 ],
 "metadata": {
  "kernelspec": {
   "display_name": "Python 3",
   "language": "python",
   "name": "python3"
  },
  "language_info": {
   "codemirror_mode": {
    "name": "ipython",
    "version": 3
   },
   "file_extension": ".py",
   "mimetype": "text/x-python",
   "name": "python",
   "nbconvert_exporter": "python",
   "pygments_lexer": "ipython3",
   "version": "3.9.7"
  },
  "toc": {
   "base_numbering": 1,
   "nav_menu": {},
   "number_sections": true,
   "sideBar": true,
   "skip_h1_title": false,
   "title_cell": "Table of Contents",
   "title_sidebar": "Contents",
   "toc_cell": false,
   "toc_position": {},
   "toc_section_display": true,
   "toc_window_display": true
  }
 },
 "nbformat": 4,
 "nbformat_minor": 4
}
