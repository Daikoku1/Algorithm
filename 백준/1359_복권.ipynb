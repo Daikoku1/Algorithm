{
 "cells": [
  {
   "cell_type": "code",
   "execution_count": 39,
   "metadata": {},
   "outputs": [
    {
     "name": "stdout",
     "output_type": "stream",
     "text": [
      "0\n",
      "2 2520\n",
      "3 3640\n",
      "4 3710\n",
      "0.7571428571428571\n"
     ]
    }
   ],
   "source": [
    "# 29200 KB, 68 ms\n",
    "def cal(x, y):\n",
    "    min_y = min(y, x-y)\n",
    "    ans = 1\n",
    "    for i in range(min_y) : ans *= (x-i)\n",
    "    for j in range(min_y) : ans //= (min_y-j)\n",
    "    return ans\n",
    "\n",
    "n,m,k = map(int, input().split())\n",
    "total = cal(n, m) ** 2\n",
    "ans = 0\n",
    "print(ans)\n",
    "for i in range(k, m+1):\n",
    "    if n - m < m - i: continue\n",
    "    ans += cal(n,i) * cal(n-i, m-i) * cal(n-m, m-i)\n",
    "    print(i, ans)\n",
    "print(ans/total)"
   ]
  }
 ],
 "metadata": {
  "interpreter": {
   "hash": "9652531e86fbc99dfe7fc5092eb81081a97fad237de3d1fd3b3a0d1c69c61538"
  },
  "kernelspec": {
   "display_name": "Python 3.9.7 64-bit ('ox': conda)",
   "name": "python3"
  },
  "language_info": {
   "codemirror_mode": {
    "name": "ipython",
    "version": 3
   },
   "file_extension": ".py",
   "mimetype": "text/x-python",
   "name": "python",
   "nbconvert_exporter": "python",
   "pygments_lexer": "ipython3",
   "version": "3.9.7"
  },
  "orig_nbformat": 4
 },
 "nbformat": 4,
 "nbformat_minor": 2
}
