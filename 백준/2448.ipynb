{
 "cells": [
  {
   "cell_type": "code",
   "execution_count": null,
   "metadata": {},
   "outputs": [],
   "source": [
    "# 226576 KB, 896 ms\n",
    "n = int(input())\n",
    "graph = [[\" \", \" \", \"*\", \" \", \" \"], [\" \", \"*\", \" \", \"*\", \" \"], [\"*\", \"*\", \"*\", \"*\", \"*\"]]\n",
    "\n",
    "def recursive(N, before):\n",
    "    after = [[\" \"] * (2 * 2 * N - 1) for _ in range(2 * N)]\n",
    "    for i in range(N):\n",
    "        after[i][N:N+2*N-1] = before[i]\n",
    "\n",
    "    k = 0\n",
    "    for i in range(N, 2 * N):\n",
    "        after[i][:2*N] = before[k]\n",
    "        after[i][2 * N:2 * N+len(before[k])] = before[k]\n",
    "        k += 1\n",
    "\n",
    "    if 2 * N == n:\n",
    "        return after\n",
    "    return recursive(2 * N, after)\n",
    "\n",
    "if n == 3:\n",
    "    result = graph\n",
    "else:\n",
    "    result = recursive(3, graph)\n",
    "\n",
    "for i in result:\n",
    "    print(\"\".join(i))"
   ]
  }
 ],
 "metadata": {
  "language_info": {
   "name": "python"
  },
  "orig_nbformat": 4
 },
 "nbformat": 4,
 "nbformat_minor": 2
}
