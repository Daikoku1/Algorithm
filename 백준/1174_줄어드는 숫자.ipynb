{
 "cells": [
  {
   "cell_type": "code",
   "execution_count": null,
   "metadata": {},
   "outputs": [],
   "source": [
    "0 ~ 9 : 10C1\n",
    "10 ~ 98 : 10C2\n",
    "210 ~ 987 : 10C3\n"
   ]
  },
  {
   "cell_type": "code",
   "execution_count": 11,
   "metadata": {},
   "outputs": [
    {
     "name": "stdout",
     "output_type": "stream",
     "text": [
      "1\n",
      "0\n"
     ]
    }
   ],
   "source": [
    "# Time = 64 ms\n",
    "# Memory = 28776 KB\n",
    "from itertools import combinations\n",
    "def combination(n, m):\n",
    "    ans = 1\n",
    "    for i in range(m):\n",
    "        ans = ans * (n-i)//(i+1)\n",
    "    return ans\n",
    "\n",
    "N = int(input())\n",
    "if N > 1023 : print(-1)\n",
    "else:\n",
    "    idx = 1\n",
    "    while True:\n",
    "        num = combination(10, idx)\n",
    "        if N > num :\n",
    "            N -= num\n",
    "            idx += 1\n",
    "        elif N == num:\n",
    "            ans = '9876543210'[:idx]\n",
    "            break\n",
    "        else:\n",
    "            res = [int(''.join(i)) for i in (combinations('9876543210', idx))]\n",
    "            res.sort()\n",
    "            ans = res[N-1]\n",
    "            break\n",
    "    print(ans)"
   ]
  }
 ],
 "metadata": {
  "kernelspec": {
   "display_name": "Python 3",
   "language": "python",
   "name": "python3"
  },
  "language_info": {
   "codemirror_mode": {
    "name": "ipython",
    "version": 3
   },
   "file_extension": ".py",
   "mimetype": "text/x-python",
   "name": "python",
   "nbconvert_exporter": "python",
   "pygments_lexer": "ipython3",
   "version": "3.8.3"
  },
  "toc": {
   "base_numbering": 1,
   "nav_menu": {},
   "number_sections": true,
   "sideBar": true,
   "skip_h1_title": false,
   "title_cell": "Table of Contents",
   "title_sidebar": "Contents",
   "toc_cell": false,
   "toc_position": {},
   "toc_section_display": true,
   "toc_window_display": true
  }
 },
 "nbformat": 4,
 "nbformat_minor": 4
}
