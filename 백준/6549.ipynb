{
 "cells": [
  {
   "cell_type": "markdown",
   "metadata": {},
   "source": [
    "# 코드\n",
    "- 21.12 풀이\n",
    "- 시간초과"
   ]
  },
  {
   "cell_type": "code",
   "execution_count": 1,
   "metadata": {},
   "outputs": [
    {
     "name": "stdout",
     "output_type": "stream",
     "text": [
      "8\n",
      "4000\n"
     ]
    }
   ],
   "source": [
    "while True:\n",
    "    arr = list(map(int, input().split()))\n",
    "    if arr[0] == 0 : break\n",
    "\n",
    "    ans = arr[0] # 1 * N\n",
    "    for idx, h in enumerate(arr[1:], 1):\n",
    "        if h*arr[0] >= ans : \n",
    "            length = 1\n",
    "            l, r = idx-1, idx+1\n",
    "            while l:\n",
    "                if arr[l] >= h: length += 1\n",
    "                else : break\n",
    "                l -= 1\n",
    "            while r < arr[0]:\n",
    "                if arr[r] >= h : length += 1\n",
    "                else: break\n",
    "                r += 1\n",
    "            ans = max(ans, length * h)\n",
    "    \n",
    "    print(ans)"
   ]
  },
  {
   "cell_type": "code",
   "execution_count": 5,
   "metadata": {},
   "outputs": [
    {
     "name": "stdout",
     "output_type": "stream",
     "text": [
      "2 2\n",
      "5 5\n",
      "8 8\n",
      "8 3\n",
      "8 6\n",
      "8 5\n",
      "8 7\n",
      "8\n",
      "1000 1000\n",
      "2000 2000\n",
      "3000 3000\n",
      "4000 4000\n",
      "4000\n"
     ]
    }
   ],
   "source": [
    "# 44580\tKB, 424 ms\t\n",
    "# import sys\n",
    "# input = sys.stdin.readline\n",
    "while True:\n",
    "    arr = list(map(int, input().split()))\n",
    "    if arr[0] == 0 : break\n",
    "\n",
    "    arr.append(0) # 남은 스택 처리용\n",
    "    \n",
    "    ans = 0\n",
    "    stack = [[0, 0]] # \n",
    "    for i, h in enumerate(arr[1:], 1): \n",
    "        while stack and stack[-1][1] > h:\n",
    "            tmp_idx, tmp_h = stack.pop()\n",
    "            ans = max(ans, (i - stack[-1][0] - 1) * tmp_h)\n",
    "            print(ans, (i - stack[-1][0] - 1) * tmp_h)\n",
    "        stack.append([i,h])\n",
    "    print(ans)"
   ]
  },
  {
   "cell_type": "code",
   "execution_count": 19,
   "metadata": {},
   "outputs": [
    {
     "name": "stdout",
     "output_type": "stream",
     "text": [
      "8\n",
      "4000\n"
     ]
    }
   ],
   "source": [
    "# 45360\tKB, 336 ms\n",
    "# import sys\n",
    "# input = sys.stdin.readline\n",
    "def BOJ_6549(arr):\n",
    "    ans = 0\n",
    "    stack = [[0, 0]]\n",
    "    for i, h in enumerate(arr, 1):\n",
    "        while stack and stack[-1][1] > h:\n",
    "            tmp_idx, tmp_h = stack.pop()\n",
    "            ans = max(ans, (i - stack[-1][0] - 1) * tmp_h)\n",
    "        stack.append([i,h])\n",
    "    return ans\n",
    "\n",
    "while True:\n",
    "    T, *arr = map(int, input().split())\n",
    "    if T == 0 : break\n",
    "    arr.append(0) # 남은 스택 처리용\n",
    "    \n",
    "    print(BOJ_6549(arr))"
   ]
  }
 ],
 "metadata": {
  "interpreter": {
   "hash": "9652531e86fbc99dfe7fc5092eb81081a97fad237de3d1fd3b3a0d1c69c61538"
  },
  "kernelspec": {
   "display_name": "Python 3.9.7 64-bit ('ox': conda)",
   "language": "python",
   "name": "python3"
  },
  "language_info": {
   "codemirror_mode": {
    "name": "ipython",
    "version": 3
   },
   "file_extension": ".py",
   "mimetype": "text/x-python",
   "name": "python",
   "nbconvert_exporter": "python",
   "pygments_lexer": "ipython3",
   "version": "3.9.7"
  },
  "orig_nbformat": 4
 },
 "nbformat": 4,
 "nbformat_minor": 2
}
