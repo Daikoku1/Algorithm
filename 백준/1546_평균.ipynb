{
 "cells": [
  {
   "cell_type": "code",
   "execution_count": 6,
   "id": "52dc65be",
   "metadata": {},
   "outputs": [
    {
     "name": "stdout",
     "output_type": "stream",
     "text": [
      "3\n",
      "10 20 30\n",
      "66.66666666666667\n"
     ]
    }
   ],
   "source": [
    "# 29200 KB, 84 ms\n",
    "N = int(input())\n",
    "max_n = 0\n",
    "sum_n = 0\n",
    "for x in map(int, input().split()):\n",
    "    sum_n += x\n",
    "    max_n = max(max_n, x)\n",
    "\n",
    "# 평균 = (a + b + c ) / N\n",
    "# (a*x + b*x + c*x) / N == (a+b+c) / N * x\n",
    "print(sum_n/max_n * 100 / N)"
   ]
  },
  {
   "cell_type": "code",
   "execution_count": null,
   "id": "601d9838",
   "metadata": {},
   "outputs": [],
   "source": [
    "3\n",
    "40 80 60\n",
    "# 75.0\n",
    "\n",
    "3\n",
    "10 20 30\n",
    "# 66.666667\n",
    "\n",
    "4\n",
    "1 100 100 100\n",
    "# 75.25\n",
    "\n",
    "5\n",
    "1 2 4 8 16\n",
    "#38.75\n",
    "\n",
    "2\n",
    "3 10\n",
    "# 65.0"
   ]
  }
 ],
 "metadata": {
  "kernelspec": {
   "display_name": "Python 3",
   "language": "python",
   "name": "python3"
  },
  "language_info": {
   "codemirror_mode": {
    "name": "ipython",
    "version": 3
   },
   "file_extension": ".py",
   "mimetype": "text/x-python",
   "name": "python",
   "nbconvert_exporter": "python",
   "pygments_lexer": "ipython3",
   "version": "3.8.8"
  }
 },
 "nbformat": 4,
 "nbformat_minor": 5
}
