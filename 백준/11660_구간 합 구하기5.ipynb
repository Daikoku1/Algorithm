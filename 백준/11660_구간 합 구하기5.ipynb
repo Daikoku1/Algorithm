{
 "cells": [
  {
   "cell_type": "markdown",
   "metadata": {},
   "source": [
    "# 시간 초과들..."
   ]
  },
  {
   "cell_type": "code",
   "execution_count": null,
   "metadata": {},
   "outputs": [],
   "source": [
    "# 시간 초과\n",
    "import sys\n",
    "input = sys.stdin.readline\n",
    "N, M = map(int, input().split())\n",
    "arr = [list(map(int, input().split())) for _ in range(N)]\n",
    "for _ in range(M):\n",
    "    x1, y1, x2, y2 = map(int, input().split())\n",
    "    ans = 0\n",
    "    for x in range(x1-1, x2):\n",
    "        for y in range(y1-1, y2):\n",
    "             ans += arr[x][y]\n",
    "    print(ans)"
   ]
  },
  {
   "cell_type": "code",
   "execution_count": null,
   "metadata": {},
   "outputs": [],
   "source": [
    "import sys\n",
    "input = sys.stdin.readline\n",
    "N, M = map(int, input().split())\n",
    "arr = []\n",
    "for _ in range(N):\n",
    "    sum_n = 0\n",
    "    now = []\n",
    "    for i in map(int, input().split()):\n",
    "        sum_n += i\n",
    "        now.append(sum_n)\n",
    "    arr.append(now)\n",
    "\n",
    "for _ in range(M):\n",
    "    x1, y1, x2, y2 = map(int, input().split())\n",
    "    ans = 0\n",
    "    for y in range(y1-1, y2):\n",
    "        ans += arr[x2-1][y-1] - arr[x1-1][y-1]\n",
    "    print(ans)"
   ]
  },
  {
   "cell_type": "markdown",
   "metadata": {},
   "source": [
    "# 성공"
   ]
  },
  {
   "cell_type": "code",
   "execution_count": null,
   "metadata": {},
   "outputs": [],
   "source": [
    "# Time = 1272 ms\n",
    "# Memory = 103596 KB\n",
    "import sys\n",
    "input = sys.stdin.readline\n",
    "\n",
    "N, M = map(int, input().split())\n",
    "arr = [list(map(int, input().split())) for _ in range(N)]\n",
    "dp = [[0] * (N + 1) for _ in range(N + 1)]\n",
    "for i in range(1, N + 1):\n",
    "    for j in range(1, N + 1):\n",
    "        dp[i][j] = arr[i-1][j-1] + dp[i][j-1] + dp[i-1][j] - dp[i-1][j-1]\n",
    "\n",
    "for _ in range(M):\n",
    "    x1, y1, x2, y2 = map(int, input().split())\n",
    "    print(dp[x2][y2] - dp[x1-1][y2] - dp[x2][y1-1] + dp[x1-1][y1-1])"
   ]
  },
  {
   "cell_type": "code",
   "execution_count": null,
   "metadata": {},
   "outputs": [],
   "source": []
  }
 ],
 "metadata": {
  "kernelspec": {
   "display_name": "Python 3",
   "language": "python",
   "name": "python3"
  },
  "language_info": {
   "codemirror_mode": {
    "name": "ipython",
    "version": 3
   },
   "file_extension": ".py",
   "mimetype": "text/x-python",
   "name": "python",
   "nbconvert_exporter": "python",
   "pygments_lexer": "ipython3",
   "version": "3.8.3"
  },
  "toc": {
   "base_numbering": 1,
   "nav_menu": {},
   "number_sections": true,
   "sideBar": true,
   "skip_h1_title": false,
   "title_cell": "Table of Contents",
   "title_sidebar": "Contents",
   "toc_cell": false,
   "toc_position": {},
   "toc_section_display": true,
   "toc_window_display": true
  }
 },
 "nbformat": 4,
 "nbformat_minor": 4
}
