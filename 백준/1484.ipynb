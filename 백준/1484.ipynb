{
 "cells": [
  {
   "cell_type": "markdown",
   "metadata": {},
   "source": [
    "# 코드\n",
    "- 21.11 풀이"
   ]
  },
  {
   "cell_type": "code",
   "execution_count": 12,
   "metadata": {},
   "outputs": [
    {
     "name": "stdout",
     "output_type": "stream",
     "text": [
      "4\n",
      "5\n"
     ]
    }
   ],
   "source": [
    "# 29200 KB,\t304 ms\n",
    "G = int(input())\n",
    "if G == 1 :\n",
    "    print(-1)\n",
    "else:\n",
    "    idx = 2\n",
    "    cnt = 0 \n",
    "    while 1:\n",
    "        if 2*idx - 1 > G: break\n",
    "        \n",
    "        for x in range(idx-1, 0, -1):\n",
    "            num = idx ** 2 - x ** 2 \n",
    "            if num < G : continue\n",
    "            elif num == G :\n",
    "                print(idx)\n",
    "                cnt += 1\n",
    "            break\n",
    "        idx += 1\n",
    "    \n",
    "    if cnt == 0 : print(-1)"
   ]
  },
  {
   "cell_type": "code",
   "execution_count": 22,
   "metadata": {},
   "outputs": [
    {
     "name": "stdout",
     "output_type": "stream",
     "text": [
      "4 1.0\n",
      "1\n",
      "5 3.1622776601683795\n",
      "10\n",
      "6 4.58257569495584\n",
      "21\n",
      "7 5.830951894845301\n",
      "34\n",
      "8 7.0\n",
      "49\n",
      "[4, 8]\n"
     ]
    }
   ],
   "source": [
    "# 29200 KB,\t116 ms\n",
    "G=int(input())\n",
    "result=[]\n",
    "# x**2 - y**2 = G\n",
    "for x in range(1,100000):\n",
    "    # x**2 - (x-1)**2 = (x + (x-1) * (x - (x-1)) = (2*x - 1) * (1) = 2*x -1\n",
    "    if 2*x - 1 > G: break\n",
    "    if x ** 2 <= G : continue\n",
    "    num = (x**2 - G) ** (1/2)\n",
    "    if num == int(num): result.append(x)\n",
    "\n",
    "if len(result):\n",
    "    for i in result:\n",
    "        print(i)\n",
    "else: print(-1)"
   ]
  }
 ],
 "metadata": {
  "interpreter": {
   "hash": "9652531e86fbc99dfe7fc5092eb81081a97fad237de3d1fd3b3a0d1c69c61538"
  },
  "kernelspec": {
   "display_name": "Python 3.9.7 64-bit ('ox': conda)",
   "language": "python",
   "name": "python3"
  },
  "language_info": {
   "codemirror_mode": {
    "name": "ipython",
    "version": 3
   },
   "file_extension": ".py",
   "mimetype": "text/x-python",
   "name": "python",
   "nbconvert_exporter": "python",
   "pygments_lexer": "ipython3",
   "version": "3.9.7"
  },
  "orig_nbformat": 4
 },
 "nbformat": 4,
 "nbformat_minor": 2
}
