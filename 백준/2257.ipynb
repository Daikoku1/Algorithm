{
 "cells": [
  {
   "cell_type": "code",
   "execution_count": null,
   "metadata": {},
   "outputs": [],
   "source": [
    "# 30864\tKB, 72 ms\n",
    "s = input()\n",
    "d = { \"H\" : 1, \"C\" : 12, \"O\" : 16 } \n",
    "stack = [] \n",
    "\n",
    "for i in s: \n",
    "    if i in d: \n",
    "        stack.append(d[i]) \n",
    "    elif i == \"(\": \n",
    "        stack.append(i) \n",
    "    elif i == \")\": \n",
    "        temp = 0\n",
    "        while True: \n",
    "            p = stack.pop() \n",
    "            if p == \"(\": break \n",
    "            \n",
    "            temp += p \n",
    "            \n",
    "        if temp == 0: continue \n",
    "        else: stack.append(temp) \n",
    "    else: \n",
    "        n = stack.pop() \n",
    "        temp = n*int(i) \n",
    "        stack.append(temp) \n",
    "\n",
    "print(sum(stack))\n"
   ]
  }
 ],
 "metadata": {
  "language_info": {
   "name": "python"
  },
  "orig_nbformat": 4
 },
 "nbformat": 4,
 "nbformat_minor": 2
}
