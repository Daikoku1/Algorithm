{
 "cells": [
  {
   "cell_type": "code",
   "execution_count": null,
   "metadata": {},
   "outputs": [],
   "source": [
    "# Time = 68 ms\n",
    "# Memory = 28776 KB\n",
    "n = int(input())\n",
    "result = [1,3]\n",
    "if n < 3:\n",
    "    print(result[n-1])\n",
    "else:\n",
    "    while len(result) < n:\n",
    "        result.append((result[-1]+result[-2]*2) % 10_007)\n",
    "    print(result[-1])"
   ]
  },
  {
   "cell_type": "code",
   "execution_count": 9,
   "metadata": {},
   "outputs": [],
   "source": [
    "def solution(n):\n",
    "    result = [1,3]\n",
    "    if n < 3:\n",
    "        print(result[n-1])\n",
    "    else:\n",
    "        while len(result) < n:\n",
    "            result.append((result[-1]+result[-2]*2) % 10_007)\n",
    "        print(result)\n",
    "        print(result[-1])"
   ]
  },
  {
   "cell_type": "code",
   "execution_count": 10,
   "metadata": {},
   "outputs": [
    {
     "name": "stdout",
     "output_type": "stream",
     "text": [
      "3\n"
     ]
    }
   ],
   "source": [
    "solution(2)"
   ]
  },
  {
   "cell_type": "code",
   "execution_count": 11,
   "metadata": {},
   "outputs": [
    {
     "name": "stdout",
     "output_type": "stream",
     "text": [
      "[1, 3, 5, 11, 21, 43, 85, 171]\n",
      "171\n"
     ]
    }
   ],
   "source": [
    "# 8, 171\n",
    "solution(8)"
   ]
  },
  {
   "cell_type": "code",
   "execution_count": 12,
   "metadata": {},
   "outputs": [
    {
     "name": "stdout",
     "output_type": "stream",
     "text": [
      "[1, 3, 5, 11, 21, 43, 85, 171, 341, 683, 1365, 2731]\n",
      "2731\n"
     ]
    }
   ],
   "source": [
    "# 12, 2731\n",
    "solution(12)"
   ]
  },
  {
   "cell_type": "code",
   "execution_count": null,
   "metadata": {},
   "outputs": [],
   "source": []
  }
 ],
 "metadata": {
  "kernelspec": {
   "display_name": "Python 3",
   "language": "python",
   "name": "python3"
  },
  "language_info": {
   "codemirror_mode": {
    "name": "ipython",
    "version": 3
   },
   "file_extension": ".py",
   "mimetype": "text/x-python",
   "name": "python",
   "nbconvert_exporter": "python",
   "pygments_lexer": "ipython3",
   "version": "3.8.3"
  },
  "toc": {
   "base_numbering": 1,
   "nav_menu": {},
   "number_sections": true,
   "sideBar": true,
   "skip_h1_title": false,
   "title_cell": "Table of Contents",
   "title_sidebar": "Contents",
   "toc_cell": false,
   "toc_position": {},
   "toc_section_display": true,
   "toc_window_display": true
  }
 },
 "nbformat": 4,
 "nbformat_minor": 4
}
