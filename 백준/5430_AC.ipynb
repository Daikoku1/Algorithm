{
 "cells": [
  {
   "cell_type": "code",
   "execution_count": null,
   "metadata": {},
   "outputs": [],
   "source": [
    "# 시간초과\n",
    "T = int(input())\n",
    "for _ in range(T):\n",
    "    com = input().strip()\n",
    "    n = int(input())\n",
    "    if n:arr = input().strip()[1:-1].split(',')[::-1]\n",
    "    else:\n",
    "        _ = input()\n",
    "        arr = []\n",
    "    error = False\n",
    "    for c in com:\n",
    "        if c == 'R':arr.reverse()\n",
    "        else:\n",
    "            if arr:arr.pop()\n",
    "            else:\n",
    "                error = True\n",
    "    if error:print('error')\n",
    "    else:print(reversed(arr))"
   ]
  },
  {
   "cell_type": "code",
   "execution_count": 16,
   "metadata": {},
   "outputs": [
    {
     "name": "stdout",
     "output_type": "stream",
     "text": [
      "4\n",
      "RDD\n",
      "4\n",
      "[1,2,3,4]\n",
      "[2, 1]\n",
      "DD\n",
      "1\n",
      "[42]\n",
      "error\n",
      "RRD\n",
      "6\n",
      "[1,1,2,3,5,8]\n",
      "[1, 2, 3, 5, 8]\n",
      "D\n",
      "0\n",
      "[]\n",
      "error\n"
     ]
    }
   ],
   "source": [
    "# Time = 140 ms\n",
    "# Memory = 42944 KB\n",
    "import sys\n",
    "input = sys.stdin.readline\n",
    "def BOJ_5430(com, n, li):\n",
    "    l, r, d = 0, 0, True\n",
    "    for c in com:\n",
    "        if c == 'R': d = not d\n",
    "        elif c == 'D':\n",
    "            if d: l += 1\n",
    "            else: r += 1\n",
    "    if l+r <= n:\n",
    "        res = li[l:n - r]\n",
    "        if d: return '[' + ','.join(res) + ']'\n",
    "        else: return '[' + ','.join(res[::-1]) + ']'\n",
    "    else:\n",
    "        return 'error'\n",
    "\n",
    "T = int(input())\n",
    "for _ in range(T):\n",
    "    com = input().strip()\n",
    "    n = int(input())\n",
    "    if n:arr = input().strip()[1:-1].split(',')\n",
    "    else:\n",
    "        _ = input()\n",
    "        arr = []\n",
    "    print(BOJ_5430(com, n, arr))"
   ]
  },
  {
   "cell_type": "markdown",
   "metadata": {},
   "source": [
    "# 코드\n",
    "- 21.12 풀이"
   ]
  },
  {
   "cell_type": "code",
   "execution_count": 13,
   "metadata": {},
   "outputs": [
    {
     "name": "stdout",
     "output_type": "stream",
     "text": [
      "['1', '2']\n",
      "[2,1]\n",
      "[]\n",
      "error\n",
      "['1', '2', '3', '5', '8']\n",
      "[1,2,3,5,8]\n",
      "[]\n",
      "error\n"
     ]
    }
   ],
   "source": [
    "# 36392\tKB, 200 ms\n",
    "# import sys\n",
    "# input = sys.stdin.readline\n",
    "T = int(input())\n",
    "for _ in range(T):\n",
    "    cmd = input().strip()\n",
    "    N = int(input())\n",
    "    arr = input().strip()[1:-1]\n",
    "    if arr == '': arr = []\n",
    "    else: arr = arr.split(',')\n",
    "    \n",
    "    reverse = False\n",
    "    error = False\n",
    "    l, r = 0, N - 1\n",
    "    for c in cmd:\n",
    "        if c == 'R': reverse = (reverse == False)\n",
    "        else:\n",
    "            if l > r :\n",
    "                error = True\n",
    "                break\n",
    "            if reverse : r -= 1\n",
    "            else : l += 1\n",
    "    print(arr[l:r+1])\n",
    "    if error : print('error')\n",
    "    elif reverse : print('[' + ','.join(arr[l:r+1][::-1]) +']')\n",
    "    else: print('[' + ','.join(arr[l:r+1]) +']')"
   ]
  },
  {
   "cell_type": "code",
   "execution_count": null,
   "metadata": {},
   "outputs": [],
   "source": [
    "# 36384\tKB, 152 ms\n",
    "# import sys\n",
    "# input = sys.stdin.readline\n",
    "def BOJ_5430(cmd, N, arr):\n",
    "    if N == 0 : arr = []\n",
    "    else: arr = arr.split(',')\n",
    "    reverse = False\n",
    "    error = False\n",
    "    l, r = 0, N - 1\n",
    "    for c in cmd:\n",
    "        if c == 'R': reverse = (reverse == False)\n",
    "        else:\n",
    "            if l > r : return 'error'\n",
    "            if reverse : r -= 1\n",
    "            else : l += 1\n",
    "\n",
    "    if reverse : return '[' + ','.join(arr[l:r+1][::-1]) +']'\n",
    "    else: return '[' + ','.join(arr[l:r+1]) +']'\n",
    "\n",
    "T = int(input())\n",
    "for _ in range(T):\n",
    "    cmd = input().strip()\n",
    "    N = int(input())\n",
    "    arr = input().strip()[1:-1]\n",
    "    print(BOJ_5430(cmd, N, arr))"
   ]
  }
 ],
 "metadata": {
  "kernelspec": {
   "display_name": "Python 3",
   "language": "python",
   "name": "python3"
  },
  "language_info": {
   "codemirror_mode": {
    "name": "ipython",
    "version": 3
   },
   "file_extension": ".py",
   "mimetype": "text/x-python",
   "name": "python",
   "nbconvert_exporter": "python",
   "pygments_lexer": "ipython3",
   "version": "3.9.7"
  },
  "toc": {
   "base_numbering": 1,
   "nav_menu": {},
   "number_sections": true,
   "sideBar": true,
   "skip_h1_title": false,
   "title_cell": "Table of Contents",
   "title_sidebar": "Contents",
   "toc_cell": false,
   "toc_position": {},
   "toc_section_display": true,
   "toc_window_display": true
  }
 },
 "nbformat": 4,
 "nbformat_minor": 4
}
