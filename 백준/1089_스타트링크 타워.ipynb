{
 "cells": [
  {
   "cell_type": "markdown",
   "metadata": {},
   "source": [
    "# 실패코드\n",
    "- 메모리 초과\n",
    "- product가 문제일 것으로 추측"
   ]
  },
  {
   "cell_type": "code",
   "execution_count": null,
   "metadata": {},
   "outputs": [],
   "source": [
    "from itertools import product\n",
    "arr = ['111101101101111','001001001001001',\n",
    "        '111001111100111','111001111001111',\n",
    "        '101101111001001','111100111001111',\n",
    "        '111100111101111','111001001001001',\n",
    "        '111101111101111','111101111001111']\n",
    "N = int(input())\n",
    "ans = [[1]*10 for _ in range(N)]\n",
    "for i in range(5):\n",
    "    temp = input().strip()\n",
    "    for j in range(0, 4*N-1, 4):\n",
    "        for k, val in enumerate(temp[j:j+3]):\n",
    "            if val == '#':\n",
    "                for idx, light in enumerate(arr):\n",
    "                    if light[i*3+k] == '0': ans[j//4][idx] = 0\n",
    "\n",
    "result = []\n",
    "for i in ans:\n",
    "    temp = []\n",
    "    for j, x in enumerate(i):\n",
    "        if x == 1:\n",
    "            temp.append(j)\n",
    "    result.append(temp)\n",
    "\n",
    "cnt = 1\n",
    "for i in result:\n",
    "    cnt *= len(i)\n",
    "\n",
    "def change(li):\n",
    "    result = 0\n",
    "    for i, v in enumerate(li, 1):\n",
    "        result += v * 10**(len(li) - i)\n",
    "    return result\n",
    "\n",
    "if cnt == 0: print(-1)\n",
    "else : print(sum(map(change, list(product(*result)))) / cnt)"
   ]
  },
  {
   "cell_type": "markdown",
   "metadata": {},
   "source": [
    "# 코드\n",
    "- 21.11 풀이\n",
    "- product 대신 수학적 확률을 활용하여 메모리 문제 해결"
   ]
  },
  {
   "cell_type": "code",
   "execution_count": 64,
   "metadata": {},
   "outputs": [
    {
     "name": "stdout",
     "output_type": "stream",
     "text": [
      "[[1, 1, 1, 1, 1, 1, 1, 1, 1, 1], [1, 1, 1, 1, 1, 1, 1, 1, 1, 1]]\n",
      "100\n",
      "[1, 1, 1, 1, 1, 1, 1, 1, 1, 1]\n",
      "[1, 1, 1, 1, 1, 1, 1, 1, 1, 1]\n",
      "49.5\n"
     ]
    }
   ],
   "source": [
    "# 29200 KB, 68 ms\n",
    "import sys\n",
    "input = sys.stdin.readline\n",
    "arr = ['111101101101111','001001001001001',\n",
    "        '111001111100111','111001111001111',\n",
    "        '101101111001001','111100111001111',\n",
    "        '111100111101111','111001001001001',\n",
    "        '111101111101111','111101111001111']\n",
    "N = int(input())\n",
    "ans = [[1]*10 for _ in range(N)]\n",
    "for i in range(5):\n",
    "    temp = input().strip()\n",
    "    for j in range(0, 4*N-1, 4):\n",
    "        for k, val in enumerate(temp[j:j+3]):\n",
    "            if val == '#':\n",
    "                for idx, light in enumerate(arr):\n",
    "                    if light[i*3+k] == '0': ans[j//4][idx] = 0\n",
    "\n",
    "total_cnt = 1\n",
    "for i in ans:\n",
    "    total_cnt *= sum(i)\n",
    "\n",
    "if total_cnt == 0: print(-1)\n",
    "else:\n",
    "    answer = 0\n",
    "    print(ans)\n",
    "    print(total_cnt)\n",
    "    for idx, val in enumerate(ans, 1):\n",
    "        print(val)\n",
    "        answer += 10**(len(ans)-idx) * sum([i for i, v in enumerate(val) if v == 1]) * total_cnt // sum(val)\n",
    "    print(answer / total_cnt)"
   ]
  },
  {
   "cell_type": "markdown",
   "metadata": {},
   "source": [
    "# 코드\n",
    "- 21.11 풀이\n",
    "- set 활용"
   ]
  },
  {
   "cell_type": "code",
   "execution_count": 70,
   "metadata": {},
   "outputs": [
    {
     "name": "stdout",
     "output_type": "stream",
     "text": [
      "8.0\n"
     ]
    }
   ],
   "source": [
    "# 29200 KB, 72 ms\n",
    "nums = [{0, 1, 2, 3, 5, 6, 8, 9, 11, 12, 13, 14},\n",
    "        {2, 5, 8, 11, 14},\n",
    "        {0, 1, 2, 5, 6, 7, 8, 9, 12, 13, 14},\n",
    "        {0, 1, 2, 5, 6, 7, 8, 11, 12, 13, 14},\n",
    "        {0, 2, 3, 5, 6, 7, 8, 11, 14},\n",
    "        {0, 1, 2, 3, 6, 7, 8, 11, 12, 13, 14},\n",
    "        {0, 1, 2, 3, 6, 7, 8, 9, 11, 12, 13, 14},\n",
    "        {0, 1, 2, 5, 8, 11, 14},\n",
    "        {0, 1, 2, 3, 5, 6, 7, 8, 9, 11, 12, 13, 14},\n",
    "        {0, 1, 2, 3, 5, 6, 7, 8, 11, 12, 13, 14}]\n",
    "\n",
    "N = int(input())\n",
    "arr = [set() for _ in range(N)]\n",
    "for i in range(5):\n",
    "    for j, v in enumerate(input().strip()):\n",
    "        if v == '#':\n",
    "            k, r = divmod(j, 4)\n",
    "            arr[k].add(3*i + r)\n",
    "\n",
    "ans = []\n",
    "for x in arr:\n",
    "    temp = []\n",
    "    for idx, num in enumerate(nums):\n",
    "        if x.issubset(num):temp.append(idx)\n",
    "    ans.append(temp)\n",
    "\n",
    "\n",
    "total_cnt = 1\n",
    "for i in ans:\n",
    "    total_cnt *= len(i)\n",
    "\n",
    "if total_cnt == 0: print(-1)\n",
    "else:\n",
    "    answer = 0\n",
    "    for idx, val in enumerate(ans, 1):\n",
    "        answer += 10**(len(ans)-idx) * sum(val) * total_cnt // len(val)\n",
    "    print(answer / total_cnt)\n"
   ]
  }
 ],
 "metadata": {
  "interpreter": {
   "hash": "38d51dd8e8d25c2b4859ddf5fde4d8615b38902fd48d30a19bf46ddb81d406a6"
  },
  "kernelspec": {
   "display_name": "Python 3.9.7 64-bit (windows store)",
   "language": "python",
   "name": "python3"
  },
  "language_info": {
   "codemirror_mode": {
    "name": "ipython",
    "version": 3
   },
   "file_extension": ".py",
   "mimetype": "text/x-python",
   "name": "python",
   "nbconvert_exporter": "python",
   "pygments_lexer": "ipython3",
   "version": "3.9.7"
  },
  "orig_nbformat": 4
 },
 "nbformat": 4,
 "nbformat_minor": 2
}
