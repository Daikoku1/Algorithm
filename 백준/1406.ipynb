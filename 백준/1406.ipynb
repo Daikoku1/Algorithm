{
 "cells": [
  {
   "cell_type": "markdown",
   "metadata": {},
   "source": [
    "# 코드\n",
    "- 시간초과\n",
    "- 문자열 재생성문제로 판단"
   ]
  },
  {
   "cell_type": "code",
   "execution_count": 6,
   "metadata": {},
   "outputs": [
    {
     "name": "stdout",
     "output_type": "stream",
     "text": [
      "abcdx 5\n",
      "abcdx 4\n",
      "abcdyx 5\n"
     ]
    }
   ],
   "source": [
    "import sys\n",
    "input = sys.stdin.readline\n",
    "string = input().strip()\n",
    "T = int(input())\n",
    "idx = len(string)\n",
    "for _ in range(T):\n",
    "    cmd = input().strip()\n",
    "    if cmd == 'L' : \n",
    "        if idx == 0 : continue\n",
    "        idx -= 1\n",
    "    elif cmd == 'D' :\n",
    "        if idx == len(string) : continue    \n",
    "        idx += 1\n",
    "    elif cmd == 'B':\n",
    "        if idx == 0 : continue\n",
    "        string = string[:idx-1] + string[idx:]\n",
    "        idx -= 1\n",
    "    else:\n",
    "        c, s = cmd.split()\n",
    "        string = string[:idx] + s + string[idx:]\n",
    "        idx += 1\n",
    "print(string)"
   ]
  },
  {
   "cell_type": "code",
   "execution_count": 4,
   "metadata": {},
   "outputs": [
    {
     "name": "stdout",
     "output_type": "stream",
     "text": [
      "['y']\n",
      "deque(['x', 'a', 'b', 'c'])\n",
      "yxabc\n"
     ]
    }
   ],
   "source": [
    "# 38196\tKB, 372 ms\n",
    "import sys\n",
    "from collections import deque\n",
    "# input = sys.stdin.readline\n",
    "\n",
    "left_li = list(input().strip())\n",
    "right_li = deque()\n",
    "\n",
    "T = int(input())\n",
    "for _ in range(T):\n",
    "    cmd = input().strip()\n",
    "    if cmd == 'L' :\n",
    "        if left_li : right_li.appendleft(left_li.pop()) \n",
    "    elif cmd == 'D' :\n",
    "        if right_li : left_li.append(right_li.popleft())\n",
    "    elif cmd == 'B':\n",
    "        if left_li : left_li.pop()\n",
    "    else:\n",
    "        c, s = cmd.split()\n",
    "        left_li.append(s)\n",
    "\n",
    "print(left_li)\n",
    "print(right_li)\n",
    "print(''.join(left_li) + ''.join(right_li))"
   ]
  }
 ],
 "metadata": {
  "interpreter": {
   "hash": "9652531e86fbc99dfe7fc5092eb81081a97fad237de3d1fd3b3a0d1c69c61538"
  },
  "kernelspec": {
   "display_name": "Python 3.9.7 64-bit ('ox': conda)",
   "language": "python",
   "name": "python3"
  },
  "language_info": {
   "codemirror_mode": {
    "name": "ipython",
    "version": 3
   },
   "file_extension": ".py",
   "mimetype": "text/x-python",
   "name": "python",
   "nbconvert_exporter": "python",
   "pygments_lexer": "ipython3",
   "version": "3.9.7"
  },
  "orig_nbformat": 4
 },
 "nbformat": 4,
 "nbformat_minor": 2
}
