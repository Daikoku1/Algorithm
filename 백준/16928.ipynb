{
 "cells": [
  {
   "cell_type": "markdown",
   "metadata": {},
   "source": [
    "# 코드\n",
    "- 21.12 풀이"
   ]
  },
  {
   "cell_type": "code",
   "execution_count": 2,
   "metadata": {},
   "outputs": [
    {
     "name": "stdout",
     "output_type": "stream",
     "text": [
      "deque([1])\n",
      "deque([7])\n",
      "deque([13, 98])\n",
      "3\n"
     ]
    }
   ],
   "source": [
    "# 31780 KB,\t116 ms\n",
    "from collections import deque\n",
    "import sys\n",
    "input = sys.stdin.readline\n",
    "N, M = map(int, input().split())\n",
    "dic = {}\n",
    "for _ in range(N+M):\n",
    "    s, e = map(int, input().split())\n",
    "    dic[s] = e\n",
    "\n",
    "def BOJ_16928(dic):\n",
    "    to_do = deque([1]) # point\n",
    "    answer = 0\n",
    "    while to_do:\n",
    "        print(to_do)\n",
    "        answer += 1\n",
    "        for _ in range(len(to_do)):\n",
    "            x = to_do.popleft()\n",
    "            if x >= 94 : return answer\n",
    "\n",
    "            max_n = True\n",
    "            for i in range(6, 0, -1):\n",
    "                if x+i in dic : to_do.append(dic[x+i])\n",
    "                elif max_n : \n",
    "                    to_do.append(x+i)\n",
    "                    max_n = False\n",
    "\n",
    "print(BOJ_16928(dic))"
   ]
  },
  {
   "cell_type": "code",
   "execution_count": null,
   "metadata": {},
   "outputs": [],
   "source": [
    "# 32084\tKB, 92 ms\n",
    "from collections import deque\n",
    "import sys\n",
    "input = sys.stdin.readline\n",
    "N, M = map(int, input().split())\n",
    "dic = {}\n",
    "for _ in range(N+M):\n",
    "    s, e = map(int, input().split())\n",
    "    dic[s] = e\n",
    "\n",
    "def BOJ_16928(dic):\n",
    "    to_do = deque([1]) # point\n",
    "    answer = 0\n",
    "    visited = [False] * (101)\n",
    "    visited[1] = True\n",
    "    while to_do:\n",
    "        answer += 1\n",
    "        for _ in range(len(to_do)):\n",
    "            x = to_do.popleft()\n",
    "            if x >= 94 : return answer\n",
    "            \n",
    "            for i in range(6, 0, -1):\n",
    "                nx = x + i\n",
    "                if visited[nx] : continue\n",
    "                if x+i in dic : \n",
    "                    visited[dic[x+i]] = True\n",
    "                    to_do.append(dic[x+i])\n",
    "                else : \n",
    "                    visited[x+i] = True\n",
    "                    to_do.append(x+i)\n",
    "\n",
    "print(BOJ_16928(dic))"
   ]
  },
  {
   "cell_type": "code",
   "execution_count": 4,
   "metadata": {},
   "outputs": [
    {
     "data": {
      "text/plain": [
       "deque([1])"
      ]
     },
     "execution_count": 4,
     "metadata": {},
     "output_type": "execute_result"
    }
   ],
   "source": [
    "# # test\n",
    "# lines = ['8 52','6 80','26 42','2 72','51 19','39 11','37 29','81 3','59 5','79 23','53 7','43 33','77 21'] # answer = 5\n",
    "# lines = ['32 62','42 68','12 98','95 13','97 25','93 37','79 27','75 19','49 47','67 17'] # answer = 3\n",
    "# dic = {}\n",
    "# for line in lines:\n",
    "#     s, e = map(int, line.split())\n",
    "#     dic[s] = e\n"
   ]
  }
 ],
 "metadata": {
  "interpreter": {
   "hash": "9652531e86fbc99dfe7fc5092eb81081a97fad237de3d1fd3b3a0d1c69c61538"
  },
  "kernelspec": {
   "display_name": "Python 3.9.7 64-bit ('ox': conda)",
   "language": "python",
   "name": "python3"
  },
  "language_info": {
   "codemirror_mode": {
    "name": "ipython",
    "version": 3
   },
   "file_extension": ".py",
   "mimetype": "text/x-python",
   "name": "python",
   "nbconvert_exporter": "python",
   "pygments_lexer": "ipython3",
   "version": "3.9.7"
  },
  "orig_nbformat": 4
 },
 "nbformat": 4,
 "nbformat_minor": 2
}
