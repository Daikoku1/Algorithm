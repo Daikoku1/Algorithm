{
 "cells": [
  {
   "cell_type": "code",
   "execution_count": 2,
   "metadata": {},
   "outputs": [
    {
     "name": "stdout",
     "output_type": "stream",
     "text": [
      "{(9, 10), (10, 11), (9, 12), (9, 11), (10, 12)}\n",
      "5\n"
     ]
    }
   ],
   "source": [
    "# 61200 KB, 236 ms\n",
    "N = int(input())\n",
    "arr = sorted(map(int, input().split()))\n",
    "t = int(input())\n",
    "\n",
    "left = 0\n",
    "for x in arr:\n",
    "    if x < t: left = x\n",
    "    else:\n",
    "        right = x\n",
    "        break\n",
    "\n",
    "ans = set()\n",
    "for l in range(left+1, t+1):\n",
    "    for r in range(t, right):\n",
    "        if l < r : ans.add((l,r))\n",
    "# print(ans)\n",
    "print(len(ans))"
   ]
  }
 ],
 "metadata": {
  "interpreter": {
   "hash": "9652531e86fbc99dfe7fc5092eb81081a97fad237de3d1fd3b3a0d1c69c61538"
  },
  "kernelspec": {
   "display_name": "Python 3.9.7 64-bit ('ox': conda)",
   "name": "python3"
  },
  "language_info": {
   "codemirror_mode": {
    "name": "ipython",
    "version": 3
   },
   "file_extension": ".py",
   "mimetype": "text/x-python",
   "name": "python",
   "nbconvert_exporter": "python",
   "pygments_lexer": "ipython3",
   "version": "3.9.7"
  },
  "orig_nbformat": 4
 },
 "nbformat": 4,
 "nbformat_minor": 2
}
