{
 "cells": [
  {
   "cell_type": "code",
   "execution_count": null,
   "metadata": {},
   "outputs": [],
   "source": [
    "# 29200\tKB, 68 ms\n",
    "import sys\n",
    "inut = sys.stdin.readline\n",
    "while True:\n",
    "    try :\n",
    "        x, y, z = map(int, input().split())\n",
    "        print(max(y - x, z - y) - 1)\n",
    "    except:\n",
    "        break"
   ]
  }
 ],
 "metadata": {
  "language_info": {
   "name": "python"
  },
  "orig_nbformat": 4
 },
 "nbformat": 4,
 "nbformat_minor": 2
}
