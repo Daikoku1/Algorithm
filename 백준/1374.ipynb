{
 "cells": [
  {
   "cell_type": "markdown",
   "metadata": {},
   "source": [
    "# 실패 코드\n",
    "- 메모리 초과"
   ]
  },
  {
   "cell_type": "code",
   "execution_count": 2,
   "metadata": {},
   "outputs": [
    {
     "name": "stdout",
     "output_type": "stream",
     "text": [
      "5\n"
     ]
    }
   ],
   "source": [
    "T = int(input())\n",
    "study = [0] * 1000000001 # max_time = 1,000,000,000\n",
    "for _ in range(T):\n",
    "    n, s, e = map(int, input().split())\n",
    "    study[s] += 1\n",
    "    study[e] -= 1\n",
    "for i in range(1, 1000000001):\n",
    "     study[i] += study[i-1]\n",
    "\n",
    "print(max(study))"
   ]
  },
  {
   "cell_type": "markdown",
   "metadata": {},
   "source": [
    "# 코드\n",
    "- 21.11 풀이"
   ]
  },
  {
   "cell_type": "code",
   "execution_count": 6,
   "metadata": {},
   "outputs": [
    {
     "name": "stdout",
     "output_type": "stream",
     "text": [
      "2 14\n",
      "[]\n",
      "3 8\n",
      "[14]\n",
      "6 20\n",
      "[8, 14]\n",
      "6 27\n",
      "[8, 14, 20]\n",
      "7 13\n",
      "[8, 14, 20, 27]\n",
      "12 18\n",
      "[8, 13, 20, 27, 14]\n",
      "15 21\n",
      "[13, 14, 20, 27, 18]\n",
      "20 25\n",
      "[18, 21, 20, 27]\n",
      "5\n"
     ]
    }
   ],
   "source": [
    "# 51780\tKB, 492 ms\n",
    "import heapq, sys\n",
    "input = sys.stdin.readline\n",
    "T = int(input())\n",
    "arr = sorted([list(map(int, input().split()[1:])) for _ in range(T)])\n",
    "\n",
    "answer = 0\n",
    "studing = []\n",
    "\n",
    "for x, y in arr:\n",
    "    while studing and studing[0] <= x:\n",
    "        heapq.heappop(studing)\n",
    "    \n",
    "    heapq.heappush(studing, y)\n",
    "\n",
    "    answer = max(answer, len(studing))\n",
    "print(answer)\n"
   ]
  }
 ],
 "metadata": {
  "interpreter": {
   "hash": "38d51dd8e8d25c2b4859ddf5fde4d8615b38902fd48d30a19bf46ddb81d406a6"
  },
  "kernelspec": {
   "display_name": "Python 3.9.7 64-bit (windows store)",
   "language": "python",
   "name": "python3"
  },
  "language_info": {
   "codemirror_mode": {
    "name": "ipython",
    "version": 3
   },
   "file_extension": ".py",
   "mimetype": "text/x-python",
   "name": "python",
   "nbconvert_exporter": "python",
   "pygments_lexer": "ipython3",
   "version": "3.9.7"
  },
  "orig_nbformat": 4
 },
 "nbformat": 4,
 "nbformat_minor": 2
}
