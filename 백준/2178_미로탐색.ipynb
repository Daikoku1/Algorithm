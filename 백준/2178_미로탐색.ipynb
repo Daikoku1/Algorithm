{
 "cells": [
  {
   "cell_type": "markdown",
   "metadata": {},
   "source": [
    "# 코드\n",
    "- 21.11 풀이"
   ]
  },
  {
   "cell_type": "code",
   "execution_count": 4,
   "metadata": {},
   "outputs": [
    {
     "name": "stdout",
     "output_type": "stream",
     "text": [
      "9\n"
     ]
    }
   ],
   "source": [
    "# 32952 KB, 124 ms\n",
    "import sys\n",
    "from collections import deque\n",
    "input = sys.stdin.readline\n",
    "N, M = map(int, input().split())\n",
    "arr = [list(input()) for _ in range(N)]\n",
    "to_do = deque([[0,0,1]]) # x,y, cnt\n",
    "visited = [[0 for _ in range(M)] for _ in range(N)]\n",
    "while to_do:\n",
    "    x, y, cnt = to_do.popleft()\n",
    "    if x == N-1 and y == M - 1: break\n",
    "    if visited[x][y] == 0:\n",
    "        visited[x][y] = 1\n",
    "        for nx, ny in [[x+1, y], [x-1,y], [x,y+1], [x,y-1]]:\n",
    "            if 0<= nx < N and 0 <= ny < M and arr[nx][ny] == '1':\n",
    "                to_do.append([nx,ny,cnt+1])\n",
    "print(cnt)"
   ]
  }
 ],
 "metadata": {
  "interpreter": {
   "hash": "38d51dd8e8d25c2b4859ddf5fde4d8615b38902fd48d30a19bf46ddb81d406a6"
  },
  "kernelspec": {
   "display_name": "Python 3.9.7 64-bit (windows store)",
   "language": "python",
   "name": "python3"
  },
  "language_info": {
   "codemirror_mode": {
    "name": "ipython",
    "version": 3
   },
   "file_extension": ".py",
   "mimetype": "text/x-python",
   "name": "python",
   "nbconvert_exporter": "python",
   "pygments_lexer": "ipython3",
   "version": "3.9.7"
  },
  "orig_nbformat": 4
 },
 "nbformat": 4,
 "nbformat_minor": 2
}
