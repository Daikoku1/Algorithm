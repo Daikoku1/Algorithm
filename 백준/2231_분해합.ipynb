{
 "cells": [
  {
   "cell_type": "code",
   "execution_count": null,
   "metadata": {},
   "outputs": [],
   "source": [
    "# 29200 KB, 72 ms\n",
    "def BOJ_2231(N):\n",
    "    result = 0\n",
    "    min_num = max(1, N - 9*(len(str(N))))\n",
    "    for i in range(min_num, N):\n",
    "        result = i + sum(map(int, str(i)))\n",
    "        if result == N : return i\n",
    "    \n",
    "    return 0\n",
    "\n",
    "N = int(input())\n",
    "print(BOJ_2231(N))"
   ]
  }
 ],
 "metadata": {
  "kernelspec": {
   "display_name": "Python 3",
   "language": "python",
   "name": "python3"
  },
  "language_info": {
   "codemirror_mode": {
    "name": "ipython",
    "version": 3
   },
   "file_extension": ".py",
   "mimetype": "text/x-python",
   "name": "python",
   "nbconvert_exporter": "python",
   "pygments_lexer": "ipython3",
   "version": "3.8.3"
  },
  "toc": {
   "base_numbering": 1,
   "nav_menu": {},
   "number_sections": true,
   "sideBar": true,
   "skip_h1_title": false,
   "title_cell": "Table of Contents",
   "title_sidebar": "Contents",
   "toc_cell": false,
   "toc_position": {},
   "toc_section_display": true,
   "toc_window_display": true
  }
 },
 "nbformat": 4,
 "nbformat_minor": 4
}
