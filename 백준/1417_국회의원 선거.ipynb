{
 "cells": [
  {
   "cell_type": "markdown",
   "metadata": {},
   "source": [
    "# 시간초과"
   ]
  },
  {
   "cell_type": "code",
   "execution_count": null,
   "metadata": {},
   "outputs": [],
   "source": [
    "import heapq\n",
    "N = int(input())\n",
    "h = []\n",
    "tar = int(input())\n",
    "for _ in range(N-1):\n",
    "    heapq.heappush(h, -int(input()))\n",
    "\n",
    "print(h)\n",
    "ans = 0\n",
    "while h:\n",
    "    max_n = -1 * heapq.heappop(h)\n",
    "    print(tar, max_n)\n",
    "    if tar > max_n:\n",
    "        break\n",
    "    else:\n",
    "        q, r = divmod(max_n - tar, 2)\n",
    "        num = q + r\n",
    "        ans += num\n",
    "        tar += num\n",
    "        if r == 0:\n",
    "            heapq.heappush(h, -max_n + num)\n",
    "print(ans)"
   ]
  },
  {
   "cell_type": "code",
   "execution_count": null,
   "metadata": {},
   "outputs": [],
   "source": [
    "# Time = 72 ms\n",
    "# Memory = 28776 KB\n",
    "N = int(input())\n",
    "tar = int(input())\n",
    "vote = [int(input()) for _ in range(N-1)]\n",
    "vote.sort(reverse = True)\n",
    "\n",
    "if N == 1:print(0)\n",
    "else:\n",
    "    ans = 0\n",
    "    while(vote[0] >= tar):\n",
    "        tar += 1\n",
    "        vote[0] -= 1\n",
    "        ans += 1\n",
    "        vote.sort(reverse = True)\n",
    "        \n",
    "    print(ans)"
   ]
  },
  {
   "cell_type": "code",
   "execution_count": 7,
   "metadata": {},
   "outputs": [],
   "source": [
    "a = [1,5,10]"
   ]
  },
  {
   "cell_type": "code",
   "execution_count": 8,
   "metadata": {},
   "outputs": [],
   "source": [
    "a.insert(0, 5)"
   ]
  },
  {
   "cell_type": "code",
   "execution_count": 9,
   "metadata": {},
   "outputs": [
    {
     "data": {
      "text/plain": [
       "[5, 1, 5, 10]"
      ]
     },
     "execution_count": 9,
     "metadata": {},
     "output_type": "execute_result"
    }
   ],
   "source": [
    "a"
   ]
  },
  {
   "cell_type": "code",
   "execution_count": 6,
   "metadata": {},
   "outputs": [
    {
     "data": {
      "text/plain": [
       "1"
      ]
     },
     "execution_count": 6,
     "metadata": {},
     "output_type": "execute_result"
    }
   ],
   "source": [
    "import bisect\n",
    "a = [1,2,3,4]\n",
    "bisect.bisect_left(a, 2)"
   ]
  },
  {
   "cell_type": "code",
   "execution_count": null,
   "metadata": {},
   "outputs": [],
   "source": []
  }
 ],
 "metadata": {
  "kernelspec": {
   "display_name": "Python 3",
   "language": "python",
   "name": "python3"
  },
  "language_info": {
   "codemirror_mode": {
    "name": "ipython",
    "version": 3
   },
   "file_extension": ".py",
   "mimetype": "text/x-python",
   "name": "python",
   "nbconvert_exporter": "python",
   "pygments_lexer": "ipython3",
   "version": "3.8.3"
  },
  "toc": {
   "base_numbering": 1,
   "nav_menu": {},
   "number_sections": true,
   "sideBar": true,
   "skip_h1_title": false,
   "title_cell": "Table of Contents",
   "title_sidebar": "Contents",
   "toc_cell": false,
   "toc_position": {},
   "toc_section_display": true,
   "toc_window_display": true
  }
 },
 "nbformat": 4,
 "nbformat_minor": 4
}
