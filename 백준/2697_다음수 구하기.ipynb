{
 "cells": [
  {
   "cell_type": "code",
   "execution_count": null,
   "metadata": {},
   "outputs": [],
   "source": [
    "# Time = 64 ms\n",
    "# Memory = 28776 KB\n",
    "import sys\n",
    "input = sys.stdin.readline\n",
    "T = int(input())\n",
    "for _ in range(T):\n",
    "    num = input().strip()\n",
    "    num_list = []\n",
    "    nums = set()\n",
    "    idx = len(num) -1\n",
    "    while idx:\n",
    "        num_list.append(num[idx])\n",
    "        nums.add(num[idx])\n",
    "        if num[idx] > num[idx-1]:\n",
    "            for x in sorted(nums):\n",
    "                if x > num[idx-1]:\n",
    "                    break\n",
    "            num_list.remove(x)\n",
    "            num_list.append(num[idx-1])\n",
    "            print(num[:idx-1] + x + ''.join(sorted(num_list)))\n",
    "            break\n",
    "        idx -= 1\n",
    "    else:\n",
    "        print('BIGGEST')"
   ]
  },
  {
   "cell_type": "code",
   "execution_count": 19,
   "metadata": {},
   "outputs": [
    {
     "data": {
      "text/plain": [
       "True"
      ]
     },
     "execution_count": 19,
     "metadata": {},
     "output_type": "execute_result"
    }
   ],
   "source": [
    "279134423799 == 279134423799"
   ]
  },
  {
   "cell_type": "code",
   "execution_count": null,
   "metadata": {},
   "outputs": [],
   "source": []
  }
 ],
 "metadata": {
  "kernelspec": {
   "display_name": "Python 3",
   "language": "python",
   "name": "python3"
  },
  "language_info": {
   "codemirror_mode": {
    "name": "ipython",
    "version": 3
   },
   "file_extension": ".py",
   "mimetype": "text/x-python",
   "name": "python",
   "nbconvert_exporter": "python",
   "pygments_lexer": "ipython3",
   "version": "3.8.3"
  },
  "toc": {
   "base_numbering": 1,
   "nav_menu": {},
   "number_sections": true,
   "sideBar": true,
   "skip_h1_title": false,
   "title_cell": "Table of Contents",
   "title_sidebar": "Contents",
   "toc_cell": false,
   "toc_position": {},
   "toc_section_display": true,
   "toc_window_display": true
  }
 },
 "nbformat": 4,
 "nbformat_minor": 4
}
