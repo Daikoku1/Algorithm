{
 "cells": [
  {
   "cell_type": "code",
   "execution_count": null,
   "metadata": {},
   "outputs": [],
   "source": [
    "120"
   ]
  },
  {
   "cell_type": "code",
   "execution_count": null,
   "metadata": {},
   "outputs": [],
   "source": [
    "# 시간초과\n",
    "N = int(input())\n",
    "ans = 0\n",
    "for i in range(1, N+1):\n",
    "    if i < 10 : ans += 1\n",
    "    elif i < 100 : ans += 2\n",
    "    elif i < 1_000 : ans += 3\n",
    "    elif i < 10_000 : ans += 4\n",
    "    elif i < 100_000 : ans += 5\n",
    "    elif i < 1_000_000 : ans += 6\n",
    "    elif i < 10_000_000 : ans += 7\n",
    "    elif i < 100_000_000 : ans += 8\n",
    "print(ans)"
   ]
  },
  {
   "cell_type": "code",
   "execution_count": null,
   "metadata": {},
   "outputs": [],
   "source": [
    "# Time = 68 ms\n",
    "# Memory = 28776 KB\n",
    "N = input()\n",
    "n_len = len(N) - 1\n",
    "\n",
    "ans = 0\n",
    "for i in range(n_len):\n",
    "    ans += 9 * (10 ** i) * (i + 1)\n",
    "\n",
    "ans += ((int(N) - (10 ** n_len)) + 1) * (n_len + 1)\n",
    "print(ans)"
   ]
  }
 ],
 "metadata": {
  "kernelspec": {
   "display_name": "Python 3",
   "language": "python",
   "name": "python3"
  },
  "language_info": {
   "codemirror_mode": {
    "name": "ipython",
    "version": 3
   },
   "file_extension": ".py",
   "mimetype": "text/x-python",
   "name": "python",
   "nbconvert_exporter": "python",
   "pygments_lexer": "ipython3",
   "version": "3.8.3"
  },
  "toc": {
   "base_numbering": 1,
   "nav_menu": {},
   "number_sections": true,
   "sideBar": true,
   "skip_h1_title": false,
   "title_cell": "Table of Contents",
   "title_sidebar": "Contents",
   "toc_cell": false,
   "toc_position": {},
   "toc_section_display": true,
   "toc_window_display": true
  }
 },
 "nbformat": 4,
 "nbformat_minor": 4
}
