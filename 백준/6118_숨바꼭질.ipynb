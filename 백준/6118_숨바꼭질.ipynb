{
 "cells": [
  {
   "cell_type": "markdown",
   "metadata": {},
   "source": [
    "# 코드\n",
    "- 21.11 풀이\n",
    "- BFS 시간효율성 안좋다..."
   ]
  },
  {
   "cell_type": "code",
   "execution_count": 4,
   "metadata": {},
   "outputs": [
    {
     "name": "stdout",
     "output_type": "stream",
     "text": [
      "6 deque([[1, 0]])\n",
      "5 deque([[3, 1], [2, 1]])\n",
      "3 deque([[6, 2], [4, 2], [5, 2]])\n",
      "4 2 3\n"
     ]
    }
   ],
   "source": [
    "# 39860 KB, 2216 ms\n",
    "from collections import deque\n",
    "N, M = map(int, input().split())\n",
    "graph = {i : [] for i in range(1, N+1)}\n",
    "for _ in range(M):\n",
    "    a, b = map(int ,input().split())\n",
    "    graph[a].append(b)\n",
    "    graph[b].append(a)\n",
    "\n",
    "left_room = N\n",
    "to_do = deque([[1, 0]])\n",
    "visited = [False, True] + [False] * (N-1)\n",
    "ans = [N,N,0]\n",
    "while to_do:\n",
    "    if left_room == len(to_do):\n",
    "        for i, j in to_do:\n",
    "            ans[0] = min(i, ans[0])\n",
    "            ans[1] = min(j, ans[1])\n",
    "        ans[2] = len(to_do)\n",
    "        break\n",
    "    left_room -= len(to_do)\n",
    "    for _ in range(len(to_do)):\n",
    "        x, l = to_do.popleft()\n",
    "        for nx in graph[x]:\n",
    "            if not visited[nx]:\n",
    "                visited[nx] = True\n",
    "                to_do.append([nx, l+1])\n",
    "print(*ans)   "
   ]
  }
 ],
 "metadata": {
  "interpreter": {
   "hash": "38d51dd8e8d25c2b4859ddf5fde4d8615b38902fd48d30a19bf46ddb81d406a6"
  },
  "kernelspec": {
   "display_name": "Python 3.9.7 64-bit (windows store)",
   "language": "python",
   "name": "python3"
  },
  "language_info": {
   "codemirror_mode": {
    "name": "ipython",
    "version": 3
   },
   "file_extension": ".py",
   "mimetype": "text/x-python",
   "name": "python",
   "nbconvert_exporter": "python",
   "pygments_lexer": "ipython3",
   "version": "3.9.7"
  },
  "orig_nbformat": 4
 },
 "nbformat": 4,
 "nbformat_minor": 2
}
