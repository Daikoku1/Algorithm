{
 "cells": [
  {
   "cell_type": "code",
   "execution_count": 5,
   "metadata": {},
   "outputs": [
    {
     "name": "stdout",
     "output_type": "stream",
     "text": [
      "{(0, 0)}\n",
      "{(2, -2), (3, -1), (2, 1), (3, -2), (0, 0), (3, 1), (1, 1), (1, -2), (1, -1), (3, 0), (1, 0), (0, -1)}\n",
      "#..#\n",
      "....\n",
      ".##.\n",
      "....\n"
     ]
    }
   ],
   "source": [
    "# 29200 KB, 72 ms\n",
    "N = int(input())\n",
    "d_x = [1, 0, -1, 0]\n",
    "d_y = [0, -1, 0, 1]\n",
    "idx = 0 # turn right : idx += 1, turn left : idx -= 1\n",
    "x, y = 0, 0\n",
    "min_x, max_x, min_y, max_y = 0, 0, 0, 0\n",
    "li = set()\n",
    "li.add((0,0))\n",
    "print(li)\n",
    "for s in input().strip():\n",
    "    if s == 'F':\n",
    "        x, y = x + d_x[idx], y + d_y[idx]\n",
    "        li.add((x,y))\n",
    "        if idx == 0: max_x = max(x, max_x)\n",
    "        elif idx == 1: min_y = min(y, min_y)\n",
    "        elif idx == 2: min_x = min(x, min_x)\n",
    "        else: max_y = max(y, max_y)\n",
    "    elif s == 'R' : \n",
    "        idx = (idx+1) % 4\n",
    "    else:\n",
    "        idx = (idx-1) % 4\n",
    "print(li)\n",
    "for i in range(max_x - min_x + 1):\n",
    "    temp = ''\n",
    "    for j in range(max_y - min_y + 1):\n",
    "        if (i + min_x, j + min_y) in li: temp += '.'\n",
    "        else: temp += '#'\n",
    "    print(temp)"
   ]
  }
 ],
 "metadata": {
  "interpreter": {
   "hash": "9652531e86fbc99dfe7fc5092eb81081a97fad237de3d1fd3b3a0d1c69c61538"
  },
  "kernelspec": {
   "display_name": "Python 3.9.7 64-bit ('ox': conda)",
   "name": "python3"
  },
  "language_info": {
   "codemirror_mode": {
    "name": "ipython",
    "version": 3
   },
   "file_extension": ".py",
   "mimetype": "text/x-python",
   "name": "python",
   "nbconvert_exporter": "python",
   "pygments_lexer": "ipython3",
   "version": "3.9.7"
  },
  "orig_nbformat": 4
 },
 "nbformat": 4,
 "nbformat_minor": 2
}
