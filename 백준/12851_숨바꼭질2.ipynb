{
 "cells": [
  {
   "cell_type": "markdown",
   "metadata": {},
   "source": [
    "# 코드\n",
    "- 21.11 풀이\n",
    "- 시간초과\n",
    "- to_do에 다 때려넣으니까 너무 많긴하네.."
   ]
  },
  {
   "cell_type": "code",
   "execution_count": 9,
   "metadata": {},
   "outputs": [
    {
     "name": "stdout",
     "output_type": "stream",
     "text": [
      "deque([5])\n",
      "deque([6, 10, 4])\n",
      "deque([7, 12, 11, 20, 9, 8, 3])\n",
      "deque([14, 13, 24, 22, 21, 40, 19, 18, 9, 16, 4, 2])\n",
      "deque([15, 28, 26, 25, 48, 23, 23, 44, 42, 41, 80, 39, 38, 19, 36, 17, 17, 32, 15, 3, 3, 1])\n",
      "4\n",
      "2\n"
     ]
    }
   ],
   "source": [
    "from collections import deque\n",
    "s, e = map(int, input().split())\n",
    "\n",
    "visited = [False] * 100001\n",
    "visited[s] = True\n",
    "to_do = deque([s])\n",
    "time, end = -1, False\n",
    "while to_do:\n",
    "    print(to_do)\n",
    "    time += 1\n",
    "    temp = set()\n",
    "    cnt = 0\n",
    "    for _ in range(len(to_do)):\n",
    "        x = to_do.popleft()\n",
    "        if x == e:\n",
    "            cnt += 1\n",
    "            end = True\n",
    "        if x < 100000 and not visited[x+1]:\n",
    "            to_do.append(x+1)\n",
    "            temp.add(x+1)\n",
    "        if x < 50001 and not visited[x*2]:\n",
    "            to_do.append(x*2)\n",
    "            temp.add(x*2)\n",
    "        if x > 0 and not visited[x-1]:\n",
    "            to_do.append(x-1)\n",
    "            temp.add(x+1)\n",
    "    \n",
    "    for y in temp:\n",
    "        visited[y] = True\n",
    "\n",
    "    if end: break\n",
    "print(time)\n",
    "print(cnt)"
   ]
  },
  {
   "cell_type": "markdown",
   "metadata": {},
   "source": [
    "# 코드\n",
    "- 21.11 풀이\n",
    "- for문 활용\n",
    "    - 동일 시간에 접근할 수 있는 위치 동시 처리\n",
    "- temp(set 구조)\n",
    "    - 특정 위치에 접근하는 방법이 다양함\n",
    "    - 특정 위치에 방문한 경우 바로 visited를 변경시 다른 방법으로 접근하는 경우 차단.\n",
    "    - 동일 시간에 접근할 수 있는 위치를 모두 temp로 저장\n",
    "    - 동일 시간 접근을 모두 확인 후에 visited 처리"
   ]
  },
  {
   "cell_type": "code",
   "execution_count": 19,
   "metadata": {},
   "outputs": [
    {
     "name": "stdout",
     "output_type": "stream",
     "text": [
      "deque([5])\n",
      "[0, 0, 0, 0, 1, 1, 1, 0, 0, 0, 1, 0, 0, 0, 0, 0, 0, 0, 0, 0, 0]\n",
      "deque([10, 4, 6])\n",
      "[0, 0, 0, 1, 1, 1, 1, 1, 1, 1, 1, 1, 1, 0, 0, 0, 0, 0, 0, 0, 1]\n",
      "deque([3, 7, 8, 9, 11, 12, 20])\n",
      "[0, 0, 1, 1, 1, 1, 1, 1, 1, 1, 1, 1, 1, 1, 1, 0, 1, 0, 1, 1, 1]\n",
      "deque([2, 40, 13, 14, 16, 18, 19, 21, 22, 24])\n",
      "[0, 1, 1, 1, 1, 1, 1, 1, 1, 1, 1, 1, 1, 1, 1, 2, 1, 2, 1, 1, 1]\n",
      "deque([32, 1, 36, 38, 39, 41, 42, 44, 15, 80, 17, 48, 23, 25, 26, 28])\n",
      "4\n",
      "2\n"
     ]
    }
   ],
   "source": [
    "# 36544 KB, 228 ms\n",
    "from collections import deque\n",
    "s, e = map(int, input().split())\n",
    "\n",
    "visited = [False] * 100001 # 해당 위치에 방문여부 판단\n",
    "visited_cnt = [0] * 100001 # 해당 위치에 최단시간에 방문할 수 있는 경우의 수\n",
    "visited[s] = True\n",
    "visited_cnt[s] = 1\n",
    "to_do = deque([s])\n",
    "time, end = -1, False\n",
    "while to_do:\n",
    "    time += 1\n",
    "    temp = set()\n",
    "    for _ in range(len(to_do)):\n",
    "        x = to_do.popleft()\n",
    "        if x == e: # 도착지에 도착하면\n",
    "            end = True\n",
    "            break\n",
    "        # 특정위치에 도달하는 경우를 각각 카운팅\n",
    "        if x < 100000 and not visited[x+1]:\n",
    "            visited_cnt[x+1] += visited_cnt[x]\n",
    "            temp.add(x+1)\n",
    "        if x < 50001 and not visited[x*2]:\n",
    "            visited_cnt[x*2] += visited_cnt[x]\n",
    "            temp.add(x*2)\n",
    "        if x > 0 and not visited[x-1]:\n",
    "            visited_cnt[x-1] += visited_cnt[x]\n",
    "            temp.add(x-1)\n",
    "    if end: break\n",
    "    for y in temp:\n",
    "        visited[y] = True\n",
    "        to_do.append(y)\n",
    "print(time)\n",
    "print(visited_cnt[e])"
   ]
  }
 ],
 "metadata": {
  "interpreter": {
   "hash": "38d51dd8e8d25c2b4859ddf5fde4d8615b38902fd48d30a19bf46ddb81d406a6"
  },
  "kernelspec": {
   "display_name": "Python 3.9.7 64-bit (windows store)",
   "language": "python",
   "name": "python3"
  },
  "language_info": {
   "codemirror_mode": {
    "name": "ipython",
    "version": 3
   },
   "file_extension": ".py",
   "mimetype": "text/x-python",
   "name": "python",
   "nbconvert_exporter": "python",
   "pygments_lexer": "ipython3",
   "version": "3.9.7"
  },
  "orig_nbformat": 4
 },
 "nbformat": 4,
 "nbformat_minor": 2
}
