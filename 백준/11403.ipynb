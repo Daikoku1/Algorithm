{
 "cells": [
  {
   "cell_type": "code",
   "execution_count": 5,
   "metadata": {},
   "outputs": [
    {
     "name": "stdout",
     "output_type": "stream",
     "text": [
      "[1, 0, 1, 1, 1, 1, 1]\n",
      "[0, 0, 1, 0, 0, 0, 1]\n",
      "[0, 0, 0, 0, 0, 0, 0]\n",
      "[1, 0, 1, 1, 1, 1, 1]\n",
      "[1, 0, 1, 1, 1, 1, 1]\n",
      "[0, 0, 1, 0, 0, 0, 1]\n",
      "[0, 0, 1, 0, 0, 0, 0]\n"
     ]
    }
   ],
   "source": [
    "# 29452\tKB, 84 ms\n",
    "import sys\n",
    "input = sys.stdin.readline\n",
    "N = int(input())\n",
    "dic = {i : [] for i in range(N)}\n",
    "for i in range(N):\n",
    "    for j, v in enumerate(map(int, input().split())):\n",
    "        if v == 1 : dic[i].append(j)\n",
    "\n",
    "def BOJ_11403(N, s):\n",
    "    visited = [0] * N\n",
    "    to_do = [s]\n",
    "    while to_do:\n",
    "        x = to_do.pop()\n",
    "        for y in dic[x]:\n",
    "            if visited[y] == 0:\n",
    "                visited[y] = 1\n",
    "                to_do.append(y)\n",
    "    return visited\n",
    "\n",
    "for i in range(N):\n",
    "    print(*BOJ_11403(N, i))"
   ]
  }
 ],
 "metadata": {
  "interpreter": {
   "hash": "9652531e86fbc99dfe7fc5092eb81081a97fad237de3d1fd3b3a0d1c69c61538"
  },
  "kernelspec": {
   "display_name": "Python 3.9.7 64-bit ('ox': conda)",
   "language": "python",
   "name": "python3"
  },
  "language_info": {
   "codemirror_mode": {
    "name": "ipython",
    "version": 3
   },
   "file_extension": ".py",
   "mimetype": "text/x-python",
   "name": "python",
   "nbconvert_exporter": "python",
   "pygments_lexer": "ipython3",
   "version": "3.9.7"
  },
  "orig_nbformat": 4
 },
 "nbformat": 4,
 "nbformat_minor": 2
}
