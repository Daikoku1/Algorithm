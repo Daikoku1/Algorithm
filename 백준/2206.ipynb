{
 "cells": [
  {
   "cell_type": "code",
   "execution_count": 19,
   "metadata": {},
   "outputs": [
    {
     "name": "stdout",
     "output_type": "stream",
     "text": [
      "[[1, 2, 3, 4], [2, 0, 0, 5], [0, 8, 7, 6], [10, 9, 8, 7], [11, 0, 0, 0], [12, 13, 14, 15]]\n",
      "15\n"
     ]
    }
   ],
   "source": [
    "# 187288 KB, 5144 ms\n",
    "# import sys\n",
    "from collections import deque\n",
    "# input = sys.stdin.readline\n",
    "N, M = map(int, input().split())\n",
    "arr = []\n",
    "for _ in range(N):\n",
    "    arr.append(list(map(int, input().strip())))\n",
    "\n",
    "\n",
    "def BOJ(N, M, arr):\n",
    "    to_do = deque([[0,0,0]]) # x, y, crush\n",
    "    \n",
    "    visited = [[[0] * 2 for _ in range(M)] for _ in range(N)]\n",
    "    visited[0][0][0] = 1\n",
    "    while to_do:\n",
    "        x, y, crushbox = to_do.popleft()\n",
    "        if x == N-1 and y == M-1 : return visited[x][y][crushbox]\n",
    "        for nx, ny in [(x+1,y),(x-1,y),(x,y+1),(x,y-1)]:\n",
    "            if 0 <= nx < N and 0 <= ny < M:\n",
    "                if arr[nx][ny] == 0 and visited[nx][ny][crushbox] == 0:\n",
    "                    to_do.append((nx, ny, crushbox))\n",
    "                    visited[nx][ny][crushbox] = visited[x][y][crushbox] + 1\n",
    "                if arr[nx][ny] == 1 and crushbox == 0:\n",
    "                    to_do.append((nx, ny, crushbox + 1))\n",
    "                    visited[nx][ny][crushbox + 1] = visited[x][y][crushbox] + 1\n",
    "\n",
    "    return -1\n",
    "print(BOJ(N, M, arr))"
   ]
  }
 ],
 "metadata": {
  "interpreter": {
   "hash": "19c4bd4a8c3153e8f6fe1d4aa29847b7593bdeb075f08f949f70b00c677d2ba0"
  },
  "kernelspec": {
   "display_name": "Python 3.10.0 64-bit",
   "language": "python",
   "name": "python3"
  },
  "language_info": {
   "codemirror_mode": {
    "name": "ipython",
    "version": 3
   },
   "file_extension": ".py",
   "mimetype": "text/x-python",
   "name": "python",
   "nbconvert_exporter": "python",
   "pygments_lexer": "ipython3",
   "version": "3.8.12"
  },
  "orig_nbformat": 4
 },
 "nbformat": 4,
 "nbformat_minor": 2
}
