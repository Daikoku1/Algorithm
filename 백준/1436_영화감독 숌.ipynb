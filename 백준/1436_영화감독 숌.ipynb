{
 "cells": [
  {
   "cell_type": "code",
   "execution_count": 8,
   "metadata": {},
   "outputs": [
    {
     "name": "stdout",
     "output_type": "stream",
     "text": [
      "2\n",
      "1666\n"
     ]
    }
   ],
   "source": [
    "# Time = 928 ms\n",
    "# Memory = 29076 KB\n",
    "N = int(input())\n",
    "num = 1\n",
    "while True:\n",
    "    if '666' in str(num) : N -= 1\n",
    "    if N == 0 : break\n",
    "    num += 1\n",
    "print(num)"
   ]
  },
  {
   "cell_type": "code",
   "execution_count": 11,
   "metadata": {},
   "outputs": [
    {
     "name": "stdout",
     "output_type": "stream",
     "text": [
      "10\n",
      "6663\n"
     ]
    }
   ],
   "source": [
    "# Time = 68 ms\n",
    "# Memory = 29328 KB\n",
    "N = int(input())\n",
    "li = []\n",
    "n = 0\n",
    "while len(li) <= N:\n",
    "    if not n%10 == 6:\n",
    "        li.append(n*1000+666)\n",
    "    elif (n//10)%100 == 66:\n",
    "        for k in range (1000):\n",
    "            li.append(n*1000+k)\n",
    "    elif (n//10)%10 == 6:\n",
    "        for j in range (100):\n",
    "            li.append(n*1000+600+j)\n",
    "    elif n%10 == 6:\n",
    "        for i in range (10):\n",
    "            li.append(n*1000+660+i)\n",
    "    n += 1\n",
    "\n",
    "print (li[N-1])"
   ]
  },
  {
   "cell_type": "code",
   "execution_count": null,
   "metadata": {},
   "outputs": [],
   "source": [
    "N = int(input())\n",
    "front = 0\n",
    "back = 0\n",
    "fronttemp = 0\n",
    "backlength = 0\n",
    "backlimit = 0\n",
    "pos = -1\n",
    "state = 'front'\n",
    "for _ in range(N-1) :\n",
    "    if state == 'front' :\n",
    "        front += 1\n",
    "        pos = str(front*100 + 66).find('666')\n",
    "        if pos != -1 :\n",
    "            state = 'back'\n",
    "            backlength = len(str(front)) - pos\n",
    "            backlimit = 10**backlength\n",
    "            fronttemp = front // backlimit\n",
    "            back = 0\n",
    "    else :\n",
    "        back += 1\n",
    "        if back >= backlimit :\n",
    "            state = 'front'\n",
    "            front += 1\n",
    "\n",
    "if state == 'front' :\n",
    "    print(front*1000 + 666)\n",
    "else :\n",
    "    print((fronttemp*1000 + 666)*backlimit + back)"
   ]
  }
 ],
 "metadata": {
  "kernelspec": {
   "display_name": "Python 3",
   "language": "python",
   "name": "python3"
  },
  "language_info": {
   "codemirror_mode": {
    "name": "ipython",
    "version": 3
   },
   "file_extension": ".py",
   "mimetype": "text/x-python",
   "name": "python",
   "nbconvert_exporter": "python",
   "pygments_lexer": "ipython3",
   "version": "3.8.3"
  },
  "toc": {
   "base_numbering": 1,
   "nav_menu": {},
   "number_sections": true,
   "sideBar": false,
   "skip_h1_title": false,
   "title_cell": "Table of Contents",
   "title_sidebar": "Contents",
   "toc_cell": false,
   "toc_position": {
    "height": "calc(100% - 180px)",
    "left": "10px",
    "top": "150px",
    "width": "182.543px"
   },
   "toc_section_display": false,
   "toc_window_display": false
  }
 },
 "nbformat": 4,
 "nbformat_minor": 4
}
