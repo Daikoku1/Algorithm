{
 "cells": [
  {
   "cell_type": "markdown",
   "id": "0c9dd750",
   "metadata": {},
   "source": [
    "# 실패 코드\n",
    "- 메모리초과"
   ]
  },
  {
   "cell_type": "code",
   "execution_count": null,
   "id": "c3fcf055",
   "metadata": {},
   "outputs": [],
   "source": [
    "# import sys\n",
    "import heapq\n",
    "# input = sys.stdin.readline\n",
    "N = int(input())\n",
    "h = []\n",
    "for _ in range(N):\n",
    "    num = int(input())\n",
    "    heapq.heappush(h, num)\n",
    "\n",
    "for _ in range(N):\n",
    "    print(heapq.heappop(h))"
   ]
  },
  {
   "cell_type": "markdown",
   "id": "3ba2780f",
   "metadata": {},
   "source": [
    "# 실패 코드\n",
    "- 시간 초과"
   ]
  },
  {
   "cell_type": "code",
   "execution_count": null,
   "id": "e21393e9",
   "metadata": {},
   "outputs": [],
   "source": [
    "import sys\n",
    "input = sys.stdin.readline\n",
    "N = int(input())\n",
    "h = []\n",
    "idx = 0\n",
    "while True:\n",
    "    num = int(input())\n",
    "    if len(h) > idx and h[idx] <= num:\n",
    "        idx += 1\n",
    "    else :\n",
    "        h.insert(num, idx)"
   ]
  },
  {
   "cell_type": "code",
   "execution_count": null,
   "id": "d48534df",
   "metadata": {},
   "outputs": [],
   "source": [
    "첫째 줄에 수의 개수 N(1 ≤ N ≤ 10,000,000)이 주어진다. \n",
    "둘째 줄부터 N개의 줄에는 수가 주어진다. \n",
    "이 수는 10,000보다 작거나 같은 자연수"
   ]
  },
  {
   "cell_type": "markdown",
   "id": "bc8c4421",
   "metadata": {},
   "source": [
    "# 정답코드\n",
    "- 문제의 성질 활용"
   ]
  },
  {
   "cell_type": "code",
   "execution_count": null,
   "id": "c3be55f8",
   "metadata": {},
   "outputs": [],
   "source": [
    "# 3073 KB, 9952 ms\n",
    "import sys\n",
    "input = sys.stdin.readline\n",
    "N = int(input())\n",
    "dic = {}\n",
    "for _ in range(N):\n",
    "    num = int(input())\n",
    "    dic[num] = dic.get(num, 0) + 1\n",
    "for k, v in sorted(dic.items()):\n",
    "    for _ in range(v): print(k)"
   ]
  },
  {
   "cell_type": "code",
   "execution_count": null,
   "id": "847d432d",
   "metadata": {},
   "outputs": [],
   "source": [
    "# 29708 KB, 9140 ms\n",
    "import sys\n",
    "input = sys.stdin.readline\n",
    "N = int(input())\n",
    "ans = [0] * (10001)\n",
    "for _ in range(N):\n",
    "    num = int(input())\n",
    "    ans[num] += 1\n",
    "for idx, v in enumerate(ans):\n",
    "    for _ in range(v): print(idx)\n",
    "        "
   ]
  },
  {
   "cell_type": "code",
   "execution_count": null,
   "id": "28adf4a2",
   "metadata": {},
   "outputs": [],
   "source": [
    "# 29708 KB, 8968 ms\n",
    "import sys\n",
    "input = sys.stdin.readline\n",
    "N = int(input())\n",
    "ans = [0] * (10001)\n",
    "for _ in range(N):\n",
    "    num = int(input())\n",
    "    ans[num] += 1\n",
    "for idx, v in enumerate(ans):\n",
    "    for _ in range(v): \n",
    "        sys.stdout.write(str(idx) + '\\n')"
   ]
  }
 ],
 "metadata": {
  "kernelspec": {
   "display_name": "Python 3",
   "language": "python",
   "name": "python3"
  },
  "language_info": {
   "codemirror_mode": {
    "name": "ipython",
    "version": 3
   },
   "file_extension": ".py",
   "mimetype": "text/x-python",
   "name": "python",
   "nbconvert_exporter": "python",
   "pygments_lexer": "ipython3",
   "version": "3.8.8"
  }
 },
 "nbformat": 4,
 "nbformat_minor": 5
}
