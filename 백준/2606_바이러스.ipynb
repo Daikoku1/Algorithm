{
 "cells": [
  {
   "cell_type": "code",
   "execution_count": 4,
   "metadata": {},
   "outputs": [
    {
     "name": "stdout",
     "output_type": "stream",
     "text": [
      "7\n",
      "6\n",
      "1 2\n",
      "2 3\n",
      "1 5\n",
      "5 2\n",
      "5 6\n",
      "4 7\n",
      "----------\n",
      "[]\n",
      "[1, 3, 5]\n",
      "----------\n",
      "[1, 3, 5]\n",
      "[1, 3, 5, 1, 2, 6]\n",
      "----------\n",
      "[1, 3, 5, 1]\n",
      "[1, 3, 5, 1, 2]\n",
      "----------\n",
      "[1, 3]\n",
      "[1, 3, 5]\n",
      "4\n"
     ]
    }
   ],
   "source": [
    "# Time = 64 ms\n",
    "# Memory = 29076 KB\n",
    "import sys\n",
    "input = sys.stdin.readline\n",
    "T = int(input())\n",
    "N = int(input())\n",
    "dic = {i:set() for i in range(1,T+1)}\n",
    "for _ in range(N):\n",
    "    a, b = map(int, input().split())\n",
    "    dic[a].add(b)\n",
    "    dic[b].add(a)\n",
    "\n",
    "def dfs(start, dic):\n",
    "    for i in dic[start]:\n",
    "        if i not in visited:\n",
    "            visited.append(i)\n",
    "            dfs(i, dic)\n",
    "visited = []\n",
    "dfs(1, dic)\n",
    "print(len(visited)-1)"
   ]
  },
  {
   "cell_type": "code",
   "execution_count": null,
   "metadata": {},
   "outputs": [],
   "source": [
    "# Time = 64 ms\n",
    "# Memory = 29076 KB\n",
    "import sys\n",
    "input = sys.stdin.readline\n",
    "T = int(input())\n",
    "N = int(input())\n",
    "dic = {i:set() for i in range(1,T+1)}\n",
    "for _ in range(N):\n",
    "    a, b = map(int, input().split())\n",
    "    dic[a].add(b)\n",
    "    dic[b].add(a)\n",
    "\n",
    "visited = [0,1] + [0]*(T-1)\n",
    "to_do = [1]\n",
    "cnt = 0\n",
    "while to_do:\n",
    "    for i in dic[to_do.pop()]:\n",
    "        if visited[i] == 0:\n",
    "            visited[i] = 1\n",
    "            to_do.append(i)\n",
    "            cnt += 1\n",
    "print(cnt)"
   ]
  }
 ],
 "metadata": {
  "kernelspec": {
   "display_name": "Python 3",
   "language": "python",
   "name": "python3"
  },
  "language_info": {
   "codemirror_mode": {
    "name": "ipython",
    "version": 3
   },
   "file_extension": ".py",
   "mimetype": "text/x-python",
   "name": "python",
   "nbconvert_exporter": "python",
   "pygments_lexer": "ipython3",
   "version": "3.8.3"
  },
  "toc": {
   "base_numbering": 1,
   "nav_menu": {},
   "number_sections": true,
   "sideBar": true,
   "skip_h1_title": false,
   "title_cell": "Table of Contents",
   "title_sidebar": "Contents",
   "toc_cell": false,
   "toc_position": {},
   "toc_section_display": true,
   "toc_window_display": true
  }
 },
 "nbformat": 4,
 "nbformat_minor": 4
}
