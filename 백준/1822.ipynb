{
 "cells": [
  {
   "cell_type": "code",
   "execution_count": null,
   "metadata": {},
   "outputs": [],
   "source": [
    "# 146048 KB, 872 ms\n",
    "N = map(int, input().split())\n",
    "\n",
    "A =set(map(int, input().split()))\n",
    "B = set(map(int, input().split()))\n",
    "\n",
    "res = []\n",
    "for n in A:\n",
    "    if n not in B:\n",
    "        res.append(n)\n",
    "\n",
    "res.sort()\n",
    "print(len(res))\n",
    "\n",
    "if len(res) !=0:\n",
    "    print(*(res))"
   ]
  }
 ],
 "metadata": {
  "language_info": {
   "name": "python"
  },
  "orig_nbformat": 4
 },
 "nbformat": 4,
 "nbformat_minor": 2
}
