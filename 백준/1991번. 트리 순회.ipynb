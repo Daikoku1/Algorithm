{
 "cells": [
  {
   "cell_type": "code",
   "execution_count": 6,
   "metadata": {
    "scrolled": true
   },
   "outputs": [
    {
     "name": "stdout",
     "output_type": "stream",
     "text": [
      "ABDCEFG\n",
      "DBAECFG\n",
      "DBEGFCA\n"
     ]
    }
   ],
   "source": [
    "N = int(input())\n",
    "dic = {}\n",
    "for _ in range(N):\n",
    "    a, b, c = input().split()\n",
    "    dic[a] = [b, c]\n",
    "    \n",
    "to_do = [\"A\"]\n",
    "done = []\n",
    "front = []\n",
    "while to_do:\n",
    "    num = to_do.pop()\n",
    "    if not num in done:\n",
    "        front.append(num)\n",
    "        done.append(num)\n",
    "        if num in dic:\n",
    "            to_do.extend(dic[num][::-1])\n",
    "# 중위순회\n",
    "m_dic = dic.copy()\n",
    "for k, [v1, v2] in sorted(m_dic.items(), reverse = True):\n",
    "    if v1 in m_dic: v1 = m_dic[v1]\n",
    "    if v2 in m_dic: v2 = m_dic[v2]\n",
    "    if type(v1) == str:\n",
    "        m_dic[k] = [v1]\n",
    "    else: m_dic[k] = v1\n",
    "    m_dic[k].append(k)\n",
    "    if type(v2) == str:\n",
    "        m_dic[k].append(v2)\n",
    "    else: m_dic[k].extend(v2)\n",
    "mid = m_dic['A']\n",
    "\n",
    "# 후위순회\n",
    "e_dic = dic.copy()\n",
    "for k, [v1, v2] in sorted(e_dic.items(), reverse = True):\n",
    "    if v1 in e_dic: v1 = e_dic[v1]\n",
    "    if v2 in e_dic: v2 = e_dic[v2]\n",
    "    if type(v1) == str:\n",
    "        e_dic[k] = [v1]\n",
    "    else: e_dic[k] = v1\n",
    "    if type(v2) == str:\n",
    "        e_dic[k].append(v2)\n",
    "    else: e_dic[k].extend(v2)\n",
    "    e_dic[k].append(k)\n",
    "end = e_dic['A']\n",
    "\n",
    "f = ''.join(front).replace('.', '')\n",
    "m = ''.join(mid).replace('.', '')\n",
    "e = ''.join(end).replace('.', '')\n",
    "\n",
    "print(f)\n",
    "print(m)\n",
    "print(e)"
   ]
  },
  {
   "cell_type": "code",
   "execution_count": 5,
   "metadata": {},
   "outputs": [
    {
     "data": {
      "text/plain": [
       "{'A': ['B', 'C'],\n",
       " 'B': ['D', '.'],\n",
       " 'C': ['E', 'F'],\n",
       " 'E': ['.', '.'],\n",
       " 'F': ['.', 'G'],\n",
       " 'D': ['.', '.'],\n",
       " 'G': ['.', '.']}"
      ]
     },
     "execution_count": 5,
     "metadata": {},
     "output_type": "execute_result"
    }
   ],
   "source": [
    "# ABDCEFG\n",
    "# DBAECFG\n",
    "# DBEGFCA"
   ]
  },
  {
   "cell_type": "code",
   "execution_count": 17,
   "metadata": {},
   "outputs": [],
   "source": [
    "dic = {'A': ['B', 'C'],\n",
    "       'B': ['D', '.'],\n",
    "       'C': ['E', 'F'],\n",
    "       'E': ['.', '.'],\n",
    "       'F': ['.', 'G'],\n",
    "       'D': ['.', '.'],\n",
    "       'G': ['.', '.']\n",
    "      }"
   ]
  },
  {
   "cell_type": "code",
   "execution_count": 18,
   "metadata": {},
   "outputs": [
    {
     "data": {
      "text/plain": [
       "[('G', ['.', '.']),\n",
       " ('F', ['.', 'G']),\n",
       " ('E', ['.', '.']),\n",
       " ('D', ['.', '.']),\n",
       " ('C', ['E', 'F']),\n",
       " ('B', ['D', '.']),\n",
       " ('A', ['B', 'C'])]"
      ]
     },
     "execution_count": 18,
     "metadata": {},
     "output_type": "execute_result"
    }
   ],
   "source": [
    "N = int(input())\n",
    "dic = {}\n",
    "for _ in range(N):\n",
    "    a, b, c = input().split()\n",
    "    dic[a] = [b, c]\n",
    "item = sorted(dic.items(), reverse = True)\n",
    "item"
   ]
  },
  {
   "cell_type": "code",
   "execution_count": 20,
   "metadata": {},
   "outputs": [
    {
     "name": "stdout",
     "output_type": "stream",
     "text": [
      "ABDCEFG\n",
      "DBAECFG\n",
      "DBEGFCA\n"
     ]
    }
   ],
   "source": [
    "import copy\n",
    "# 전위순회\n",
    "f_dic = copy.deepcopy(dic)\n",
    "for k, [v1, v2] in item:\n",
    "    if v1 in f_dic: v1 = f_dic[v1]\n",
    "    if v2 in f_dic: v2 = f_dic[v2]\n",
    "    f_dic[k] = [k]\n",
    "    \n",
    "    if type(v1) == str:\n",
    "        f_dic[k].append(v1)\n",
    "    else: f_dic[k].extend(v1)\n",
    "    \n",
    "    if type(v2) == str:\n",
    "        f_dic[k].append(v2)\n",
    "    else: f_dic[k].extend(v2)\n",
    "front = f_dic['A']\n",
    "\n",
    "# 중위순회\n",
    "m_dic = copy.deepcopy(dic)\n",
    "for k, [v1, v2] in item:\n",
    "    if v1 in m_dic: v1 = m_dic[v1]\n",
    "    if v2 in m_dic: v2 = m_dic[v2]\n",
    "    \n",
    "    if type(v1) == str:\n",
    "        m_dic[k] = [v1]\n",
    "    else: m_dic[k] = v1\n",
    "\n",
    "    m_dic[k].append(k)\n",
    "\n",
    "    if type(v2) == str:\n",
    "        m_dic[k].append(v2)\n",
    "    else: m_dic[k].extend(v2)\n",
    "mid = m_dic['A']\n",
    "\n",
    "# 후위순회\n",
    "e_dic = copy.deepcopy(dic)\n",
    "for k, [v1, v2] in item:\n",
    "    if v1 in e_dic: v1 = e_dic[v1]\n",
    "    if v2 in e_dic: v2 = e_dic[v2]\n",
    "\n",
    "    if type(v1) == str:\n",
    "        e_dic[k] = [v1]\n",
    "    else: e_dic[k] = v1\n",
    "\n",
    "    if type(v2) == str:\n",
    "        e_dic[k].append(v2)\n",
    "    else: e_dic[k].extend(v2)\n",
    "\n",
    "    e_dic[k].append(k)\n",
    "end = e_dic['A']\n",
    "\n",
    "f = ''.join(front).replace('.', '')\n",
    "m = ''.join(mid).replace('.', '')\n",
    "e = ''.join(end).replace('.', '')\n",
    "\n",
    "print(f)\n",
    "print(m)\n",
    "print(e)"
   ]
  },
  {
   "cell_type": "code",
   "execution_count": null,
   "metadata": {},
   "outputs": [],
   "source": []
  },
  {
   "cell_type": "markdown",
   "metadata": {},
   "source": [
    "# 코드\n",
    "- 22.02 풀이"
   ]
  },
  {
   "cell_type": "code",
   "execution_count": 2,
   "metadata": {},
   "outputs": [
    {
     "name": "stdout",
     "output_type": "stream",
     "text": [
      "ABDCEFG\n",
      "DBAECFG\n",
      "DBEGFCA\n"
     ]
    }
   ],
   "source": [
    "# 32404\tKB, 88 ms\n",
    "# 전위 순회는 뿌리->왼쪽 자식->오른쪽 자식 순\n",
    "# 중위 순회는 왼쪽자식-> 뿌리-> 오른쪽 자식\n",
    "# 후위 순회는 왼쪽자식->오른쪽 자식-> 뿌리\n",
    "from collections import deque\n",
    "# import sys\n",
    "# input = sys.stdin.readline\n",
    "N = int(input())\n",
    "dic = {}\n",
    "for _ in range(N):\n",
    "    val, left, right = input().split()\n",
    "    dic[val] = [left, right]\n",
    "    \n",
    "# 전위 순회\n",
    "front_todo = ['A']\n",
    "front_ans = []\n",
    "while front_todo:\n",
    "    t = front_todo.pop()    \n",
    "    front_ans.append(t)\n",
    "    if t in dic:\n",
    "        front_todo.append(dic[t][1])\n",
    "        front_todo.append(dic[t][0])\n",
    "print(''.join(front_ans).replace('.' , ''))\n",
    "\n",
    "# 중위 순회\n",
    "def make_middletrie(x):\n",
    "    if x == '.': return ''\n",
    "    return make_middletrie(dic[x][0]) + x + make_middletrie(dic[x][1])\n",
    "print(make_middletrie(\"A\"))\n",
    "# DBAECFG\n",
    "\n",
    "# 후위 순회\n",
    "def make_endtrie(x):\n",
    "    if x == '.': return ''\n",
    "    return make_endtrie(dic[x][0]) + make_endtrie(dic[x][1]) + x\n",
    "print(make_endtrie(\"A\"))\n",
    "# DBEGFCA"
   ]
  }
 ],
 "metadata": {
  "kernelspec": {
   "display_name": "Python 3",
   "language": "python",
   "name": "python3"
  },
  "language_info": {
   "codemirror_mode": {
    "name": "ipython",
    "version": 3
   },
   "file_extension": ".py",
   "mimetype": "text/x-python",
   "name": "python",
   "nbconvert_exporter": "python",
   "pygments_lexer": "ipython3",
   "version": "3.9.7"
  }
 },
 "nbformat": 4,
 "nbformat_minor": 4
}
