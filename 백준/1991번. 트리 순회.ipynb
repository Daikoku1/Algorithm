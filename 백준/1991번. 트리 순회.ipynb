{
 "cells": [
  {
   "cell_type": "code",
   "execution_count": 6,
   "metadata": {
    "scrolled": true
   },
   "outputs": [
    {
     "name": "stdout",
     "output_type": "stream",
     "text": [
      "ABDCEFG\n",
      "DBAECFG\n",
      "DBEGFCA\n"
     ]
    }
   ],
   "source": [
    "N = int(input())\n",
    "dic = {}\n",
    "for _ in range(N):\n",
    "    a, b, c = input().split()\n",
    "    dic[a] = [b, c]\n",
    "    \n",
    "to_do = [\"A\"]\n",
    "done = []\n",
    "front = []\n",
    "while to_do:\n",
    "    num = to_do.pop()\n",
    "    if not num in done:\n",
    "        front.append(num)\n",
    "        done.append(num)\n",
    "        if num in dic:\n",
    "            to_do.extend(dic[num][::-1])\n",
    "# 중위순회\n",
    "m_dic = dic.copy()\n",
    "for k, [v1, v2] in sorted(m_dic.items(), reverse = True):\n",
    "    if v1 in m_dic: v1 = m_dic[v1]\n",
    "    if v2 in m_dic: v2 = m_dic[v2]\n",
    "    if type(v1) == str:\n",
    "        m_dic[k] = [v1]\n",
    "    else: m_dic[k] = v1\n",
    "    m_dic[k].append(k)\n",
    "    if type(v2) == str:\n",
    "        m_dic[k].append(v2)\n",
    "    else: m_dic[k].extend(v2)\n",
    "mid = m_dic['A']\n",
    "\n",
    "# 후위순회\n",
    "e_dic = dic.copy()\n",
    "for k, [v1, v2] in sorted(e_dic.items(), reverse = True):\n",
    "    if v1 in e_dic: v1 = e_dic[v1]\n",
    "    if v2 in e_dic: v2 = e_dic[v2]\n",
    "    if type(v1) == str:\n",
    "        e_dic[k] = [v1]\n",
    "    else: e_dic[k] = v1\n",
    "    if type(v2) == str:\n",
    "        e_dic[k].append(v2)\n",
    "    else: e_dic[k].extend(v2)\n",
    "    e_dic[k].append(k)\n",
    "end = e_dic['A']\n",
    "\n",
    "f = ''.join(front).replace('.', '')\n",
    "m = ''.join(mid).replace('.', '')\n",
    "e = ''.join(end).replace('.', '')\n",
    "\n",
    "print(f)\n",
    "print(m)\n",
    "print(e)"
   ]
  },
  {
   "cell_type": "code",
   "execution_count": 5,
   "metadata": {},
   "outputs": [
    {
     "data": {
      "text/plain": [
       "{'A': ['B', 'C'],\n",
       " 'B': ['D', '.'],\n",
       " 'C': ['E', 'F'],\n",
       " 'E': ['.', '.'],\n",
       " 'F': ['.', 'G'],\n",
       " 'D': ['.', '.'],\n",
       " 'G': ['.', '.']}"
      ]
     },
     "execution_count": 5,
     "metadata": {},
     "output_type": "execute_result"
    }
   ],
   "source": [
    "# ABDCEFG\n",
    "# DBAECFG\n",
    "# DBEGFCA"
   ]
  },
  {
   "cell_type": "code",
   "execution_count": null,
   "metadata": {},
   "outputs": [],
   "source": [
    "A B C\n",
    "B D .\n",
    "C E F\n",
    "E . .\n",
    "F . G\n",
    "D . .\n",
    "G . .\n"
   ]
  }
 ],
 "metadata": {
  "kernelspec": {
   "display_name": "Python 3",
   "language": "python",
   "name": "python3"
  }
 },
 "nbformat": 4,
 "nbformat_minor": 4
}
