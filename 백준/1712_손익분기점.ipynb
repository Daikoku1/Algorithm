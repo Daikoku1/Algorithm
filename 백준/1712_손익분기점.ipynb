{
 "cells": [
  {
   "cell_type": "code",
   "execution_count": null,
   "id": "665f29e1",
   "metadata": {},
   "outputs": [],
   "source": [
    "import sys\n",
    "input = sys.stdin.readline\n",
    "a, b, c = map(int, input().split())\n",
    "\n",
    "# a + b * x < c *x\n",
    "# x = a / (c-b)\n",
    "if c == b: print(-1)\n",
    "else:\n",
    "    q, r = divmod(a, c-b)\n",
    "    if q >= 0 : print(q + 1)\n",
    "    else: print(-1)"
   ]
  }
 ],
 "metadata": {
  "kernelspec": {
   "display_name": "Python 3",
   "language": "python",
   "name": "python3"
  },
  "language_info": {
   "codemirror_mode": {
    "name": "ipython",
    "version": 3
   },
   "file_extension": ".py",
   "mimetype": "text/x-python",
   "name": "python",
   "nbconvert_exporter": "python",
   "pygments_lexer": "ipython3",
   "version": "3.8.8"
  }
 },
 "nbformat": 4,
 "nbformat_minor": 5
}
