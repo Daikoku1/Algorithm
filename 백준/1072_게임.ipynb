{
 "cells": [
  {
   "cell_type": "code",
   "execution_count": 6,
   "metadata": {},
   "outputs": [
    {
     "name": "stdout",
     "output_type": "stream",
     "text": [
      "100 80\n",
      "6\n"
     ]
    }
   ],
   "source": [
    "import sys\n",
    "input = sys.stdin.readline\n",
    "x, y = map(int, input().split())\n",
    "z = 100 * y // x\n",
    "if z >= 99: print(-1)\n",
    "else:\n",
    "    s, e = 0, 1000000000\n",
    "    while s <= e:\n",
    "        m = (s + e) // 2\n",
    "        if 100 * (y + m) // (x + m) > z:\n",
    "            e = m - 1\n",
    "        else: s = m + 1\n",
    "    print(e + 1)"
   ]
  },
  {
   "cell_type": "code",
   "execution_count": null,
   "metadata": {},
   "outputs": [],
   "source": []
  }
 ],
 "metadata": {
  "kernelspec": {
   "display_name": "Python 3",
   "language": "python",
   "name": "python3"
  },
  "language_info": {
   "codemirror_mode": {
    "name": "ipython",
    "version": 3
   },
   "file_extension": ".py",
   "mimetype": "text/x-python",
   "name": "python",
   "nbconvert_exporter": "python",
   "pygments_lexer": "ipython3",
   "version": "3.8.5"
  }
 },
 "nbformat": 4,
 "nbformat_minor": 4
}
