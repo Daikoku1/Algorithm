{
 "cells": [
  {
   "cell_type": "code",
   "execution_count": 4,
   "id": "1cf6b705",
   "metadata": {},
   "outputs": [
    {
     "name": "stdout",
     "output_type": "stream",
     "text": [
      "100 80 70 60\n",
      "80 70 80 90\n",
      "[[320, -1], [310, 0]]\n",
      "320\n"
     ]
    }
   ],
   "source": [
    "ans = []\n",
    "for i in range(2):\n",
    "    ans.append([sum(map(int, input().split())), -i])\n",
    "ans.sort(reverse = True)\n",
    "print(ans)\n",
    "print(ans[0][0])"
   ]
  },
  {
   "cell_type": "code",
   "execution_count": null,
   "id": "6c3a22a1",
   "metadata": {},
   "outputs": [],
   "source": [
    "100 80 70 60\n",
    "80 70 80 90"
   ]
  }
 ],
 "metadata": {
  "kernelspec": {
   "display_name": "Python 3",
   "language": "python",
   "name": "python3"
  },
  "language_info": {
   "codemirror_mode": {
    "name": "ipython",
    "version": 3
   },
   "file_extension": ".py",
   "mimetype": "text/x-python",
   "name": "python",
   "nbconvert_exporter": "python",
   "pygments_lexer": "ipython3",
   "version": "3.8.8"
  }
 },
 "nbformat": 4,
 "nbformat_minor": 5
}
