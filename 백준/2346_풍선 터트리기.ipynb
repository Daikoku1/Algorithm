{
 "cells": [
  {
   "cell_type": "code",
   "execution_count": 12,
   "metadata": {},
   "outputs": [
    {
     "name": "stdout",
     "output_type": "stream",
     "text": [
      "5\n",
      "3 2 1 -3 -1\n",
      "1 4 5 3 2\n"
     ]
    }
   ],
   "source": [
    "# Time = 672 ms\n",
    "# Memory = 28776 KB\n",
    "import sys\n",
    "input = sys.stdin.readline\n",
    "N = int(input())\n",
    "arr = list(map(int, input().split()))\n",
    "answer = [1]\n",
    "idx, answer = 0, [1]\n",
    "for _ in range(N-1):\n",
    "    arr[idx], num = 0, arr[idx]\n",
    "    if num < 0:\n",
    "        num *= -1\n",
    "        while num:\n",
    "            idx = (idx - 1) % N\n",
    "            if arr[idx] : num -= 1\n",
    "    else:\n",
    "        while num:\n",
    "            idx = (idx + 1) % N\n",
    "            if arr[idx] : num -= 1\n",
    "    answer.append(idx+1)\n",
    "print(*answer)"
   ]
  },
  {
   "cell_type": "code",
   "execution_count": 25,
   "metadata": {},
   "outputs": [
    {
     "name": "stdout",
     "output_type": "stream",
     "text": [
      "5\n",
      "3 2 1 -3 -1\n",
      "------------\n",
      "0\n",
      "1 3\n",
      "------------\n",
      "2\n",
      "4 -3\n",
      "------------\n",
      "2\n",
      "5 -1\n",
      "------------\n",
      "1\n",
      "3 1\n",
      "1 4 5 3 2\n"
     ]
    }
   ],
   "source": [
    "# Time = 64 ms\n",
    "# Memory =29028 KB\n",
    "import sys\n",
    "input = sys.stdin.readline\n",
    "N = int(input())\n",
    "arr = [[i, int(v)] for i, v in enumerate(input().split(), 1)]\n",
    "idx, answer = 0, []\n",
    "for _ in range(N-1):\n",
    "    a, b = arr.pop(idx)\n",
    "    answer.append(a)\n",
    "    \n",
    "    N -= 1\n",
    "    if b > 0:\n",
    "        idx = (idx + b -1) % N\n",
    "    else:\n",
    "        idx = (idx + b) % N\n",
    "\n",
    "answer.append(arr.pop()[0])\n",
    "print(*answer) "
   ]
  },
  {
   "cell_type": "code",
   "execution_count": null,
   "metadata": {},
   "outputs": [],
   "source": []
  }
 ],
 "metadata": {
  "kernelspec": {
   "display_name": "Python 3",
   "language": "python",
   "name": "python3"
  },
  "language_info": {
   "codemirror_mode": {
    "name": "ipython",
    "version": 3
   },
   "file_extension": ".py",
   "mimetype": "text/x-python",
   "name": "python",
   "nbconvert_exporter": "python",
   "pygments_lexer": "ipython3",
   "version": "3.8.3"
  },
  "toc": {
   "base_numbering": 1,
   "nav_menu": {},
   "number_sections": true,
   "sideBar": true,
   "skip_h1_title": false,
   "title_cell": "Table of Contents",
   "title_sidebar": "Contents",
   "toc_cell": false,
   "toc_position": {},
   "toc_section_display": true,
   "toc_window_display": true
  }
 },
 "nbformat": 4,
 "nbformat_minor": 4
}
