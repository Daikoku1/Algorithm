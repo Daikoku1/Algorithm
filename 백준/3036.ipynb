{
 "cells": [
  {
   "cell_type": "code",
   "execution_count": null,
   "metadata": {},
   "outputs": [],
   "source": [
    "# 30864\tKB, 68 ms\n",
    "import sys\n",
    "input = sys.stdin.readline\n",
    "\n",
    "N = int(input())\n",
    "\n",
    "li = list(map(int, input().split()))\n",
    "\n",
    "def GCD(a, b):\n",
    "    while b != 0:\n",
    "        a, b = b, a % b\n",
    "    return a\n",
    "\n",
    "answer = li.pop(0)\n",
    "for i in range(N-1):\n",
    "    num = GCD(answer, li[i])\n",
    "\n",
    "    print('{}/{}'.format(answer//num, li[i]//num))"
   ]
  }
 ],
 "metadata": {
  "language_info": {
   "name": "python"
  },
  "orig_nbformat": 4
 },
 "nbformat": 4,
 "nbformat_minor": 2
}
