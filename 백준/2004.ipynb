{
 "cells": [
  {
   "cell_type": "code",
   "execution_count": null,
   "metadata": {},
   "outputs": [],
   "source": [
    "# 30864 KB, 76 ms\n",
    "N, M = map(int, input().split())\n",
    "\n",
    "def two_count(n):\n",
    "    two = 0\n",
    "    while n != 0:\n",
    "        n = n // 2\n",
    "        two += n\n",
    "    return two\n",
    "\n",
    "def five_count(n):\n",
    "    five = 0\n",
    "    while n != 0:\n",
    "        n = n // 5\n",
    "        five += n\n",
    "    return five\n",
    "\n",
    "print(min(two_count(N) - two_count(N - M) - two_count(M), five_count(N) - five_count(N - M) - five_count(M)))"
   ]
  }
 ],
 "metadata": {
  "language_info": {
   "name": "python"
  },
  "orig_nbformat": 4
 },
 "nbformat": 4,
 "nbformat_minor": 2
}
