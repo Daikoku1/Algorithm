{
 "cells": [
  {
   "cell_type": "markdown",
   "metadata": {},
   "source": [
    "# 코드\n",
    "- 21.12 풀이"
   ]
  },
  {
   "cell_type": "code",
   "execution_count": 2,
   "metadata": {},
   "outputs": [
    {
     "name": "stdout",
     "output_type": "stream",
     "text": [
      "2\n"
     ]
    }
   ],
   "source": [
    "# 35568\tKB, 160 ms\n",
    "from collections import deque \n",
    "N, K = map(int, input().split())\n",
    "to_do = deque() \n",
    "to_do.append(N) \n",
    "visited = [-1 for _ in range(100_001)] \n",
    "visited[N] = 0 \n",
    "while to_do: \n",
    "    x = to_do.popleft() \n",
    "    if x == K: \n",
    "        print(visited[x]) \n",
    "        break \n",
    "    if 0 < x and visited[x-1] == -1: \n",
    "        visited[x-1] = visited[x] + 1 \n",
    "        to_do.append(x-1) \n",
    "    if x <= 50_000 and visited[x*2] == -1: \n",
    "        visited[x*2] = visited[x] \n",
    "        to_do.appendleft(x*2) # 우선순위를 높이기 위해 appendleft\n",
    "    if x < 100_000 and visited[x+1] == -1: \n",
    "        visited[x+1] = visited[x] + 1 \n",
    "        to_do.append(x+1)"
   ]
  },
  {
   "cell_type": "code",
   "execution_count": 14,
   "metadata": {},
   "outputs": [
    {
     "data": {
      "text/plain": [
       "5"
      ]
     },
     "execution_count": 14,
     "metadata": {},
     "output_type": "execute_result"
    }
   ],
   "source": [
    "# 29200\tKB, 68 ms\n",
    "def BOJ_13549(n, k):\n",
    "    if n >= k : return n - k \n",
    "    \n",
    "    if k == 1 : return 1 # n < k --> if k == 1 n == 0\n",
    "    elif k % 2 : return 1 + min(BOJ_13549(n, k-1), BOJ_13549(n, k+1))\n",
    "    else:\n",
    "        return min(k - n , BOJ_13549(n, k//2))\n",
    "    \n",
    "N, K = map(int, input().split())\n",
    "print(BOJ_13549(N, K))"
   ]
  }
 ],
 "metadata": {
  "interpreter": {
   "hash": "19c4bd4a8c3153e8f6fe1d4aa29847b7593bdeb075f08f949f70b00c677d2ba0"
  },
  "kernelspec": {
   "display_name": "Python 3.10.0 64-bit",
   "language": "python",
   "name": "python3"
  },
  "language_info": {
   "codemirror_mode": {
    "name": "ipython",
    "version": 3
   },
   "file_extension": ".py",
   "mimetype": "text/x-python",
   "name": "python",
   "nbconvert_exporter": "python",
   "pygments_lexer": "ipython3",
   "version": "3.10.0"
  },
  "orig_nbformat": 4
 },
 "nbformat": 4,
 "nbformat_minor": 2
}
