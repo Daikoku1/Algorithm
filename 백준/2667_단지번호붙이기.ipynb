{
 "cells": [
  {
   "cell_type": "code",
   "execution_count": null,
   "metadata": {},
   "outputs": [],
   "source": [
    "# Time = 64 ms\n",
    "# Memory = 28776 KB\n",
    "import sys\n",
    "input = sys.stdin.readline\n",
    "T = int(input())\n",
    "arr = [list(input()) for _ in range(T)]\n",
    "\n",
    "result = []\n",
    "for x in range(T):\n",
    "    for y in range(T):\n",
    "        if arr[x][y] == '1':\n",
    "            arr[x][y] = '0'\n",
    "            cnt = 1\n",
    "            to_do = [[x,y]]\n",
    "            while to_do:\n",
    "                i,j = to_do.pop()\n",
    "                if i > 0 and arr[i-1][j] == '1':\n",
    "                    cnt += 1\n",
    "                    to_do.append([i-1,j])\n",
    "                    arr[i-1][j] = '0'\n",
    "                if i < T - 1 and arr[i+1][j] == '1':\n",
    "                    cnt += 1\n",
    "                    to_do.append([i+1,j])\n",
    "                    arr[i+1][j] = '0'\n",
    "                if j > 0 and arr[i][j-1] == '1':\n",
    "                    cnt += 1\n",
    "                    to_do.append([i,j-1])\n",
    "                    arr[i][j-1] = '0'\n",
    "                if j < T - 1 and arr[i][j+1] == '1':\n",
    "                    cnt += 1\n",
    "                    to_do.append([i,j+1])\n",
    "                    arr[i][j+1] = '0'\n",
    "            result.append(cnt)\n",
    "print(len(result))\n",
    "for k in sorted(result):\n",
    "    print(k)"
   ]
  },
  {
   "cell_type": "markdown",
   "metadata": {},
   "source": [
    "# 코드\n",
    "- 21.11 풀이"
   ]
  },
  {
   "cell_type": "code",
   "execution_count": 3,
   "metadata": {},
   "outputs": [
    {
     "name": "stdout",
     "output_type": "stream",
     "text": [
      "7\n",
      "8\n",
      "9\n"
     ]
    }
   ],
   "source": [
    "# 29200 KB, 76 ms\n",
    "\n",
    "# import sys\n",
    "# input = sys.stdin.readline\n",
    "N = int(input())\n",
    "arr = [list(input().strip()) for _ in range(N)]\n",
    "\n",
    "ans = []\n",
    "for x in range(N):\n",
    "    for y in range(N):\n",
    "        if arr[x][y] == '1':\n",
    "            to_do = [[x,y]]\n",
    "            arr[x][y] = '0'\n",
    "            temp = 1\n",
    "            while to_do:\n",
    "                i, j = to_do.pop()\n",
    "                for nx,ny in [[i+1,j], [i-1,j], [i,j+1], [i,j-1]]:\n",
    "                    if 0<= nx < N and 0 <= ny < N and arr[nx][ny] == '1':\n",
    "                        to_do.append([nx,ny])\n",
    "                        arr[nx][ny] = '0'\n",
    "                        temp += 1\n",
    "            ans.append(temp)\n",
    "print(len(ans))\n",
    "for num in sorted(ans):\n",
    "    print(num)"
   ]
  }
 ],
 "metadata": {
  "kernelspec": {
   "display_name": "Python 3",
   "language": "python",
   "name": "python3"
  },
  "language_info": {
   "codemirror_mode": {
    "name": "ipython",
    "version": 3
   },
   "file_extension": ".py",
   "mimetype": "text/x-python",
   "name": "python",
   "nbconvert_exporter": "python",
   "pygments_lexer": "ipython3",
   "version": "3.9.7"
  },
  "toc": {
   "base_numbering": 1,
   "nav_menu": {},
   "number_sections": true,
   "sideBar": true,
   "skip_h1_title": false,
   "title_cell": "Table of Contents",
   "title_sidebar": "Contents",
   "toc_cell": false,
   "toc_position": {},
   "toc_section_display": true,
   "toc_window_display": true
  }
 },
 "nbformat": 4,
 "nbformat_minor": 4
}
