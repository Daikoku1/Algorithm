{
 "cells": [
  {
   "cell_type": "code",
   "execution_count": 3,
   "id": "88b31e24",
   "metadata": {},
   "outputs": [
    {
     "name": "stdout",
     "output_type": "stream",
     "text": [
      "5\n",
      "abcde\n",
      "4739715\n"
     ]
    }
   ],
   "source": [
    "# 29200 KB, 72 ms\n",
    "L = int(input())\n",
    "string = input().strip()\n",
    "ans = 0\n",
    "for i, s in enumerate(string):\n",
    "    ans += (ord(s) - ord('a')+1) * 31**i\n",
    "    \n",
    "    ans %= 1234567891\n",
    "print(ans)"
   ]
  }
 ],
 "metadata": {
  "kernelspec": {
   "display_name": "Python 3",
   "language": "python",
   "name": "python3"
  },
  "language_info": {
   "codemirror_mode": {
    "name": "ipython",
    "version": 3
   },
   "file_extension": ".py",
   "mimetype": "text/x-python",
   "name": "python",
   "nbconvert_exporter": "python",
   "pygments_lexer": "ipython3",
   "version": "3.8.8"
  }
 },
 "nbformat": 4,
 "nbformat_minor": 5
}
