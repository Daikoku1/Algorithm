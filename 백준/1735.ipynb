{
 "cells": [
  {
   "cell_type": "code",
   "execution_count": null,
   "metadata": {},
   "outputs": [],
   "source": [
    "# 32972\tKB, 96 ms\n",
    "import math, sys\n",
    "input = sys.stdin.readline\n",
    "\n",
    "a1, b1 = map(int, input().split())\n",
    "a2, b2 = map(int, input().split())\n",
    "\n",
    "bunjja = a1 * b2 + a2 * b1\n",
    "bunmo = b1 * b2\n",
    "\n",
    "my = math.gcd(bunjja, bunmo)\n",
    "bunjja //= my\n",
    "bunmo //= my\n",
    "\n",
    "print(bunjja, bunmo)\n",
    " "
   ]
  }
 ],
 "metadata": {
  "language_info": {
   "name": "python"
  },
  "orig_nbformat": 4
 },
 "nbformat": 4,
 "nbformat_minor": 2
}
