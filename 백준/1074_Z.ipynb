{
 "cells": [
  {
   "cell_type": "code",
   "execution_count": 11,
   "metadata": {},
   "outputs": [
    {
     "name": "stdout",
     "output_type": "stream",
     "text": [
      "11\n"
     ]
    }
   ],
   "source": [
    "# Time = 76 ms\n",
    "# Memory = 29076 KB\n",
    "N, r, c = map(int, input().split())\n",
    "N = 2**N\n",
    "answer = 0\n",
    "while N != 1:\n",
    "    N //= 2\n",
    "    if r < N:\n",
    "        if c >= N:\n",
    "            answer += N**2\n",
    "            c %= N\n",
    "    else:\n",
    "        r %= N\n",
    "        if c < N:answer += 2*N**2\n",
    "        else:\n",
    "            answer += 3*N**2\n",
    "            c %= N\n",
    "\n",
    "print(answer)"
   ]
  },
  {
   "cell_type": "markdown",
   "metadata": {},
   "source": [
    "# 코드\n",
    "- 21.10 다시 풂\n",
    "- 순환알고리즘 사용"
   ]
  },
  {
   "cell_type": "code",
   "execution_count": 2,
   "metadata": {},
   "outputs": [
    {
     "name": "stdout",
     "output_type": "stream",
     "text": [
      "-------------\n",
      "8 7 7\n",
      "d\n",
      "-------------\n",
      "4 3 3\n",
      "d\n",
      "-------------\n",
      "2 1 1\n",
      "d\n",
      "-------------\n",
      "1 0 0\n",
      "63\n"
     ]
    }
   ],
   "source": [
    "# 29200 KB, 72 ms\n",
    "def BOJ_1074(N, x, y):\n",
    "    if N == 1: return 0\n",
    "    N //= 2\n",
    "    if x < N:\n",
    "        if y < N : return BOJ_1074(N, x, y)\n",
    "        else : return N**2 + BOJ_1074(N, x, y%N)\n",
    "    else:\n",
    "        if y < N : return 2*N**2 + BOJ_1074(N, x%N, y)\n",
    "        else : return 3*N**2 + BOJ_1074(N, x%N, y%N)\n",
    "\n",
    "N, x, y = map(int, input().split())\n",
    "print(BOJ_1074(2**N, x, y))"
   ]
  },
  {
   "cell_type": "code",
   "execution_count": null,
   "metadata": {},
   "outputs": [],
   "source": []
  },
  {
   "cell_type": "code",
   "execution_count": null,
   "metadata": {},
   "outputs": [],
   "source": []
  }
 ],
 "metadata": {
  "interpreter": {
   "hash": "9652531e86fbc99dfe7fc5092eb81081a97fad237de3d1fd3b3a0d1c69c61538"
  },
  "kernelspec": {
   "display_name": "Python 3.9.7 64-bit ('ox': conda)",
   "name": "python3"
  },
  "language_info": {
   "codemirror_mode": {
    "name": "ipython",
    "version": 3
   },
   "file_extension": ".py",
   "mimetype": "text/x-python",
   "name": "python",
   "nbconvert_exporter": "python",
   "pygments_lexer": "ipython3",
   "version": "3.9.7"
  },
  "toc": {
   "base_numbering": 1,
   "nav_menu": {},
   "number_sections": true,
   "sideBar": true,
   "skip_h1_title": false,
   "title_cell": "Table of Contents",
   "title_sidebar": "Contents",
   "toc_cell": false,
   "toc_position": {},
   "toc_section_display": true,
   "toc_window_display": true
  }
 },
 "nbformat": 4,
 "nbformat_minor": 4
}
