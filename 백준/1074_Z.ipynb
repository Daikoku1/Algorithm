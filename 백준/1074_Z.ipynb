{
 "cells": [
  {
   "cell_type": "code",
   "execution_count": 7,
   "metadata": {},
   "outputs": [
    {
     "name": "stdout",
     "output_type": "stream",
     "text": [
      "3 7 7\n",
      "4 3 3\n",
      "48\n",
      "----------\n",
      "2 1 1\n",
      "60\n",
      "----------\n",
      "1 0 0\n",
      "63\n",
      "----------\n",
      "63 0 0\n"
     ]
    }
   ],
   "source": [
    "# Time = 76 ms\n",
    "# Memory = 29076 KB\n",
    "N, r, c = map(int, input().split())\n",
    "N = 2**N\n",
    "answer = 0\n",
    "while N != 1:\n",
    "    N //= 2\n",
    "    if r < N:\n",
    "        if c >= N:\n",
    "            answer += N**2\n",
    "            c %= N\n",
    "    else:\n",
    "        r %= N\n",
    "        if c < N:answer += 2*N**2\n",
    "        else:\n",
    "            answer += 3*N**2\n",
    "            c %= N\n",
    "\n",
    "print(answer)"
   ]
  }
 ],
 "metadata": {
  "kernelspec": {
   "display_name": "Python 3",
   "language": "python",
   "name": "python3"
  },
  "language_info": {
   "codemirror_mode": {
    "name": "ipython",
    "version": 3
   },
   "file_extension": ".py",
   "mimetype": "text/x-python",
   "name": "python",
   "nbconvert_exporter": "python",
   "pygments_lexer": "ipython3",
   "version": "3.8.3"
  },
  "toc": {
   "base_numbering": 1,
   "nav_menu": {},
   "number_sections": true,
   "sideBar": true,
   "skip_h1_title": false,
   "title_cell": "Table of Contents",
   "title_sidebar": "Contents",
   "toc_cell": false,
   "toc_position": {},
   "toc_section_display": true,
   "toc_window_display": true
  }
 },
 "nbformat": 4,
 "nbformat_minor": 4
}
