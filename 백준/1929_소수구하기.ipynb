{
 "cells": [
  {
   "cell_type": "code",
   "execution_count": 15,
   "id": "96963e0a",
   "metadata": {},
   "outputs": [
    {
     "name": "stdout",
     "output_type": "stream",
     "text": [
      "3 16\n",
      "3\n",
      "5\n",
      "7\n",
      "11\n",
      "13\n"
     ]
    }
   ],
   "source": [
    "import sys\n",
    "input = sys.stdin.readline\n",
    "M, N = map(int, input().split())\n",
    "\n",
    "ans = [True] * (N+1)\n",
    "# 1은 소수 아님\n",
    "ans[1] = False\n",
    "for i in range(2, int(N**(1/2))+1):\n",
    "    # 소수의 배수만 제거\n",
    "    # 배수의 배수는 소수의 배수에서 모두 제거가능\n",
    "    if ans[i] == True :\n",
    "        for j in range(2*i, N+1, i) :\n",
    "            ans[j] = False\n",
    "\n",
    "for i in range(M, N+1):\n",
    "    if ans[i]: print(i)\n",
    "\n",
    "# 한줄 코드 이쁜데, 메모리 엄청 먹음.. 앞으로 조심해야 할 듯\n",
    "# print('\\n'.join([i for i in range(M, N+1) if ans[i]]))"
   ]
  },
  {
   "cell_type": "code",
   "execution_count": null,
   "id": "966c0b83",
   "metadata": {},
   "outputs": [],
   "source": []
  }
 ],
 "metadata": {
  "kernelspec": {
   "display_name": "Python 3",
   "language": "python",
   "name": "python3"
  },
  "language_info": {
   "codemirror_mode": {
    "name": "ipython",
    "version": 3
   },
   "file_extension": ".py",
   "mimetype": "text/x-python",
   "name": "python",
   "nbconvert_exporter": "python",
   "pygments_lexer": "ipython3",
   "version": "3.8.8"
  }
 },
 "nbformat": 4,
 "nbformat_minor": 5
}
