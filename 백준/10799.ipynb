{
 "cells": [
  {
   "cell_type": "code",
   "execution_count": null,
   "metadata": {},
   "outputs": [],
   "source": [
    "# 32076 KB, 104 ms\n",
    "import sys\n",
    "input = sys.stdin.readline\n",
    "bar_razor = list(input())\n",
    "answer = 0\n",
    "stack = []\n",
    "\n",
    "for i in range(len(bar_razor)):\n",
    "    if bar_razor[i] == '(': #스택 쌓기\n",
    "        stack.append('(')\n",
    "        \n",
    "    else:\n",
    "        if bar_razor[i-1] == '(': #()라면 (를 pop하고 현재 스택에 들어있는 ( 수만큼 값을 더해준다.\n",
    "            stack.pop()\n",
    "            answer += len(stack)\n",
    "            \n",
    "        else:\n",
    "            stack.pop() \n",
    "            answer += 1 #끄트머리 막대기 부분을 더해준다\n",
    "\n",
    "print(answer)"
   ]
  }
 ],
 "metadata": {
  "language_info": {
   "name": "python"
  },
  "orig_nbformat": 4
 },
 "nbformat": 4,
 "nbformat_minor": 2
}
