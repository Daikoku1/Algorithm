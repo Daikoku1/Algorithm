{
 "cells": [
  {
   "cell_type": "code",
   "execution_count": null,
   "metadata": {},
   "outputs": [],
   "source": [
    "# 30864 KB, 80 ms\n",
    "#행렬 곱셈 함수\n",
    "def matrix_mul(a, b):\n",
    "    result = [[0]* N for _ in range(N)]\n",
    "    for i in range(N):\n",
    "        for j in range(N):\n",
    "            for k in range(N):\n",
    "                result[i][j] += a[i][k] * b[k][j]\n",
    "    \n",
    "    for i in range(N):\n",
    "        for j in range(N):\n",
    "            result[i][j] %= 1000\n",
    "                \n",
    "    return result\n",
    "    \n",
    "#2진법으로 변환하여 분할정복 실행\n",
    "N, B = map(int, input().split())\n",
    "matrix = [list(map(int, input().split())) for _ in range(N)]\n",
    "B = bin(B)[2:] #2진법으로 변환\n",
    "\n",
    "#단위 행렬\n",
    "identity_matrix = [[1 if i == j else 0 for i in range(N)] for j in range(N)]\n",
    "\n",
    "#2진법 자릿수 만큼 제곱 & 제곱한 행렬 끼리 곱해줌\n",
    "result = identity_matrix[:]\n",
    "for i in range(len(B)):\n",
    "    if B[-i-1] == '1':\n",
    "        temp = matrix[:]\n",
    "        while i != 0:\n",
    "            temp = matrix_mul(temp, temp)\n",
    "            i -= 1\n",
    "        result = matrix_mul(result, temp)\n",
    "\n",
    "for row in result:\n",
    "    print(*row)"
   ]
  }
 ],
 "metadata": {
  "language_info": {
   "name": "python"
  },
  "orig_nbformat": 4
 },
 "nbformat": 4,
 "nbformat_minor": 2
}
