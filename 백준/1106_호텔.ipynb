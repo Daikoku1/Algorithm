{
 "cells": [
  {
   "cell_type": "code",
   "execution_count": 23,
   "metadata": {},
   "outputs": [
    {
     "name": "stdout",
     "output_type": "stream",
     "text": [
      "12 2\n",
      "3 5\n",
      "1 1\n",
      "[0, 1, 2, 3, 4, 3, 4, 5, 6, 7, 6, 7, 8, 9, 10, 9, 10, 11, 12, 13, 12, 13, 14, 15, 16, 15, 16, 17, 18, 19, 18, 19, 20, 21, 22, 21, 22, 23, 24, 25, 24, 25, 26, 27, 28, 27, 28, 29, 30, 31, 30, 31, 32, 33, 34, 33, 34, 35, 36, 37, 36, 37, 38, 39, 40, 39, 40, 41, 42, 43, 42, 43, 44, 45, 46, 45, 46, 47, 48, 49, 48, 49, 50, 51, 52, 51, 52, 53, 54, 55, 54, 55, 56, 57, 58, 57, 58, 59, 60, 61, 60, 61, 62, 63, 64, 63, 64, 65, 66, 67, 66, 67, 68]\n",
      "8\n"
     ]
    }
   ],
   "source": [
    "# Time = 72 ms\n",
    "# Memory = 28776 KB\n",
    "import sys\n",
    "input = sys.stdin.readline\n",
    "c, n = map(int, input().split())\n",
    "dp = [100001] * (c+101)\n",
    "dp[0] = 0\n",
    "for _ in range(n):\n",
    "    cost, mans = map(int,input().split())\n",
    "    for i in range(mans, c+101):\n",
    "        dp[i] = min(dp[i], dp[i-mans]+cost)\n",
    "\n",
    "print(min(dp[c:]))"
   ]
  }
 ],
 "metadata": {
  "kernelspec": {
   "display_name": "Python 3",
   "language": "python",
   "name": "python3"
  },
  "language_info": {
   "codemirror_mode": {
    "name": "ipython",
    "version": 3
   },
   "file_extension": ".py",
   "mimetype": "text/x-python",
   "name": "python",
   "nbconvert_exporter": "python",
   "pygments_lexer": "ipython3",
   "version": "3.8.3"
  },
  "toc": {
   "base_numbering": 1,
   "nav_menu": {},
   "number_sections": true,
   "sideBar": true,
   "skip_h1_title": false,
   "title_cell": "Table of Contents",
   "title_sidebar": "Contents",
   "toc_cell": false,
   "toc_position": {},
   "toc_section_display": true,
   "toc_window_display": true
  }
 },
 "nbformat": 4,
 "nbformat_minor": 4
}
