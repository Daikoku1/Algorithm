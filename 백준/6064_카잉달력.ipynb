{
 "cells": [
  {
   "cell_type": "code",
   "execution_count": null,
   "metadata": {},
   "outputs": [],
   "source": [
    "시간초과\n",
    "T = int(input())\n",
    "for _ in range(T):\n",
    "    n, m, x, y = map(int, input().split())\n",
    "    caing = False\n",
    "    for i in range(m):\n",
    "        for j in range(n):\n",
    "            if n*i + x == m*j + y:\n",
    "                caing = True\n",
    "                break\n",
    "        if caing:break\n",
    "\n",
    "    if caing:print(n*i + x)\n",
    "    else:print(-1)"
   ]
  },
  {
   "cell_type": "code",
   "execution_count": null,
   "metadata": {},
   "outputs": [],
   "source": [
    "# TIme = 2180 ms\n",
    "# Memory = 28776 KB\n",
    "import sys\n",
    "input = sys.stdin.readline\n",
    "def lcm(a, b):\n",
    "    answer = a * b\n",
    "    if a < b:\n",
    "        a, b = b, a\n",
    "    while b != 0:\n",
    "        a, b = b, a % b\n",
    "    return answer // a\n",
    "\n",
    "T = int(input())\n",
    "for _ in range(T):\n",
    "    n, m, x, y = map(int, input().split())\n",
    "    caing = False\n",
    "    max_num = lcm(n,m)\n",
    "    while x < max_num:\n",
    "        if (x-y) % m == 0:\n",
    "            caing = True\n",
    "            break\n",
    "        x += n\n",
    "    if caing : print(x)\n",
    "    else : print(-1)"
   ]
  },
  {
   "cell_type": "code",
   "execution_count": null,
   "metadata": {},
   "outputs": [],
   "source": [
    "# Time = 1624 ms\n",
    "# Memory = 28776 KB\n",
    "import sys\n",
    "input = sys.stdin.readline\n",
    "T = int(input())\n",
    "for _ in range(T):\n",
    "    n, m, x, y = map(int, input().split())\n",
    "    x, y = x - 1, y - 1\n",
    "    year = -1\n",
    "    for i in range(x, n * m + 1, n):\n",
    "        if i % n == y:\n",
    "            year = i + 1\n",
    "            break\n",
    "    print(year)"
   ]
  },
  {
   "cell_type": "code",
   "execution_count": null,
   "metadata": {},
   "outputs": [],
   "source": [
    "# Time = 1432 ms\n",
    "# Memory = 28776 KB\n",
    "import sys\n",
    "input = sys.stdin.readline\n",
    "def lcm(a, b):\n",
    "    answer = a * b\n",
    "    if a < b:\n",
    "        a, b = b, a\n",
    "    while b != 0:\n",
    "        a, b = b, a % b\n",
    "    return answer // a\n",
    "\n",
    "T = int(input())\n",
    "for _ in range(T):\n",
    "    n, m, x, y = map(int, input().split())\n",
    "    x, y = x - 1, y - 1\n",
    "    year = -1\n",
    "    for i in range(x, lcm(n, m) + 1, n):\n",
    "        if i % m == y:\n",
    "            year = i + 1\n",
    "            break\n",
    "    print(year)"
   ]
  },
  {
   "cell_type": "code",
   "execution_count": null,
   "metadata": {},
   "outputs": [],
   "source": [
    "# Time = 68 ms\n",
    "# Memory = 28776 KB\n",
    "import sys\n",
    "input = sys.stdin.readline\n",
    "def euc(x, y):\n",
    "    q = []\n",
    "    while y:\n",
    "        q.append(x // y)\n",
    "        x, y = y, x % y\n",
    "    q.pop()\n",
    "    a, b = 0, 1\n",
    "    for i in q[::-1]:\n",
    "        a, b = b, a - i*b\n",
    "    return x, a, b\n",
    "\n",
    "T = int(input())\n",
    "for _ in range(T):\n",
    "    M, N, x, y = map(int, input().split())\n",
    "    d = x-y\n",
    "    g, a, b = euc(M, N)\n",
    "    if d % g:print(-1)\n",
    "    else:\n",
    "        k = d // g\n",
    "        K = x - k*a*M\n",
    "        print((K-1) % (M//g*N) + 1)"
   ]
  },
  {
   "cell_type": "code",
   "execution_count": 3,
   "metadata": {},
   "outputs": [],
   "source": [
    "def euc(x, y):\n",
    "    q = []\n",
    "    while y:\n",
    "        q.append(x // y)\n",
    "        x, y = y, x % y\n",
    "    q.pop()\n",
    "    a, b = 0, 1\n",
    "    for i in q[::-1]:\n",
    "        a, b = b, a - i*b\n",
    "    return x, a, b"
   ]
  },
  {
   "cell_type": "code",
   "execution_count": 4,
   "metadata": {},
   "outputs": [
    {
     "data": {
      "text/plain": [
       "(4, 1, -1)"
      ]
     },
     "execution_count": 4,
     "metadata": {},
     "output_type": "execute_result"
    }
   ],
   "source": [
    "euc(12,8)"
   ]
  },
  {
   "cell_type": "code",
   "execution_count": null,
   "metadata": {},
   "outputs": [],
   "source": []
  }
 ],
 "metadata": {
  "kernelspec": {
   "display_name": "Python 3",
   "language": "python",
   "name": "python3"
  },
  "language_info": {
   "codemirror_mode": {
    "name": "ipython",
    "version": 3
   },
   "file_extension": ".py",
   "mimetype": "text/x-python",
   "name": "python",
   "nbconvert_exporter": "python",
   "pygments_lexer": "ipython3",
   "version": "3.8.3"
  },
  "toc": {
   "base_numbering": 1,
   "nav_menu": {},
   "number_sections": true,
   "sideBar": true,
   "skip_h1_title": false,
   "title_cell": "Table of Contents",
   "title_sidebar": "Contents",
   "toc_cell": false,
   "toc_position": {},
   "toc_section_display": true,
   "toc_window_display": true
  }
 },
 "nbformat": 4,
 "nbformat_minor": 4
}
