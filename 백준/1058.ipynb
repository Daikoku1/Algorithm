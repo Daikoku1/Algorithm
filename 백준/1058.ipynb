{
 "cells": [
  {
   "cell_type": "code",
   "execution_count": null,
   "metadata": {},
   "outputs": [],
   "source": [
    "# 30864\tKB, 96 ms\n",
    "import sys\n",
    "input = sys.stdin.readline\n",
    "n = int(input())\n",
    "s = []\n",
    "visit = [[0] * n for i in range(n)]\n",
    "def floyd():\n",
    "    for k in range(n):\n",
    "        for i in range(n):\n",
    "            for j in range(n):\n",
    "                if i == j:\n",
    "                    continue\n",
    "                if s[i][j] == \"Y\" or (s[i][k] == \"Y\" and s[k][j] == \"Y\"):\n",
    "                    visit[i][j] = 1\n",
    "for i in range(n):\n",
    "    s.append(list(input().strip()))\n",
    "floyd()\n",
    "result = 0\n",
    "for i in range(n):\n",
    "    cnt = 0\n",
    "    for j in range(n):\n",
    "        if visit[i][j] == 1:\n",
    "            cnt += 1\n",
    "    result = max(result, cnt)\n",
    "print(result)"
   ]
  }
 ],
 "metadata": {
  "language_info": {
   "name": "python"
  },
  "orig_nbformat": 4
 },
 "nbformat": 4,
 "nbformat_minor": 2
}
