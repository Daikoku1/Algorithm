{
 "cells": [
  {
   "cell_type": "code",
   "execution_count": null,
   "metadata": {},
   "outputs": [],
   "source": [
    "# Definition for a binary tree node.\n",
    "# class TreeNode:\n",
    "#     def __init__(self, val=0, left=None, right=None):\n",
    "#         self.val = val\n",
    "#         self.left = left\n",
    "#         self.right = right"
   ]
  },
  {
   "cell_type": "code",
   "execution_count": null,
   "metadata": {},
   "outputs": [],
   "source": [
    "# Time = 260 ms, faster than 37.13% of Python3\n",
    "# Memory = 22.1 MB, less than 33.01% of Python3\n",
    "class Solution:\n",
    "    def rangeSumBST(self, root: TreeNode, low: int, high: int) -> int:\n",
    "        to_do = [root]\n",
    "        answer = 0\n",
    "        while to_do:\n",
    "            prev = to_do.pop()\n",
    "            if low <= prev.val <= high:\n",
    "                answer += prev.val\n",
    "            left, right = prev.left, prev.right\n",
    "            if left != None: to_do.append(left)\n",
    "            if right != None: to_do.append(right)\n",
    "        return answer"
   ]
  },
  {
   "cell_type": "code",
   "execution_count": null,
   "metadata": {},
   "outputs": [],
   "source": [
    "# Time = 200 ms, faster than 91.56% of Python3\n",
    "# Memory = 22.1 MB, less than 33.01% of Python3\n",
    "class Solution:\n",
    "    def rangeSumBST(self, root: TreeNode, low: int, high: int) -> int:\n",
    "        to_do = [root]\n",
    "        answer = 0\n",
    "        while to_do:\n",
    "            prev = to_do.pop()\n",
    "            if low <= prev.val <= high:\n",
    "                answer += prev.val\n",
    "            left, right = prev.left, prev.right\n",
    "            if prev.val > low and left != None: to_do.append(left)\n",
    "            if prev.val < high and right != None: to_do.append(right)\n",
    "        return answer"
   ]
  },
  {
   "cell_type": "code",
   "execution_count": null,
   "metadata": {},
   "outputs": [],
   "source": [
    "# Time = 184 ms, faster than 99.73% of Python3 \n",
    "# Memory = 22.2 MB, less than 33.01% of Python3\n",
    "class Solution:\n",
    "    def rangeSumBST(self, root: TreeNode, low: int, high: int) -> int:\n",
    "        def dfs(node):\n",
    "            if not node: return\n",
    "            value = node.val\n",
    "            if low <= value <= high: self.out += value\n",
    "            if value > low:  dfs(node.left)\n",
    "            if value < high: dfs(node.right)\n",
    "                \n",
    "        self.out = 0\n",
    "        dfs(root)\n",
    "        return self.out"
   ]
  },
  {
   "cell_type": "code",
   "execution_count": null,
   "metadata": {},
   "outputs": [],
   "source": []
  }
 ],
 "metadata": {
  "kernelspec": {
   "display_name": "Python 3",
   "language": "python",
   "name": "python3"
  },
  "language_info": {
   "codemirror_mode": {
    "name": "ipython",
    "version": 3
   },
   "file_extension": ".py",
   "mimetype": "text/x-python",
   "name": "python",
   "nbconvert_exporter": "python",
   "pygments_lexer": "ipython3",
   "version": "3.8.3"
  },
  "toc": {
   "base_numbering": 1,
   "nav_menu": {},
   "number_sections": true,
   "sideBar": true,
   "skip_h1_title": false,
   "title_cell": "Table of Contents",
   "title_sidebar": "Contents",
   "toc_cell": false,
   "toc_position": {},
   "toc_section_display": true,
   "toc_window_display": false
  }
 },
 "nbformat": 4,
 "nbformat_minor": 4
}
