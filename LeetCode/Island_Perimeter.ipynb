{
  "nbformat": 4,
  "nbformat_minor": 0,
  "metadata": {
    "colab": {
      "name": "Island Perimeter.ipynb",
      "provenance": [],
      "authorship_tag": "ABX9TyO+qmN5ioHc4oQ95FGkipII",
      "include_colab_link": true
    },
    "kernelspec": {
      "name": "python3",
      "display_name": "Python 3"
    }
  },
  "cells": [
    {
      "cell_type": "markdown",
      "metadata": {
        "id": "view-in-github",
        "colab_type": "text"
      },
      "source": [
        "<a href=\"https://colab.research.google.com/github/Daikoku1/Algorithm_LeetCode/blob/master/Island_Perimeter.ipynb\" target=\"_parent\"><img src=\"https://colab.research.google.com/assets/colab-badge.svg\" alt=\"Open In Colab\"/></a>"
      ]
    },
    {
      "cell_type": "code",
      "metadata": {
        "id": "YbI1VGKpHYB4",
        "colab_type": "code",
        "colab": {}
      },
      "source": [
        "class Solution:\n",
        "    def islandPerimeter(self, grid: List[List[int]]) -> int:\n",
        "        m = len(grid)\n",
        "        n = len(grid[0])\n",
        "        \n",
        "        square = 0\n",
        "        inline = 0\n",
        "        for i in range(m):\n",
        "            for j in range(n):\n",
        "                if grid[i][j] == 1:\n",
        "                    square += 1\n",
        "                    if i > 0:\n",
        "                        inline += grid[i-1][j]\n",
        "                    if j > 0:\n",
        "                        inline += grid[i][j-1]\n",
        "                    if i < m-1:\n",
        "                        inline += grid[i+1][j]\n",
        "                    if j < n-1:\n",
        "                        inline += grid[i][j+1]\n",
        "        # print(square)\n",
        "        # print(inline)\n",
        "        return 4 * square - inline"
      ],
      "execution_count": null,
      "outputs": []
    }
  ]
}