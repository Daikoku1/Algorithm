{
 "cells": [
  {
   "cell_type": "markdown",
   "metadata": {},
   "source": [
    "# Sol1\n",
    "- 사실상 실패한 코드\n",
    "- 시간 복잡도 O(n^2)"
   ]
  },
  {
   "cell_type": "code",
   "execution_count": 2,
   "metadata": {},
   "outputs": [],
   "source": [
    "# Time = 6760 ms, faster than 5.05% of Python3\n",
    "# Memory = 15.2 MB, less than 44.22% of Python3\n",
    "class Solution:\n",
    "    def find132pattern(self, nums):\n",
    "        min_n = nums[0]\n",
    "        max_n = float('-inf')\n",
    "        for i, x in enumerate(nums[1:-1], 1):\n",
    "            if x < min_n:\n",
    "                min_n = x\n",
    "                max_n = float('-inf')\n",
    "            else:\n",
    "                max_n = max(max_n, x)\n",
    "                for j, y in enumerate(nums[i+1:], i+1):\n",
    "                    if min_n < y < max_n:\n",
    "                        return True\n",
    "        return False"
   ]
  },
  {
   "cell_type": "markdown",
   "metadata": {},
   "source": [
    "# Sol2\n",
    "- 왼쪽의 최소값 리스트를 미리 만들어서 사용"
   ]
  },
  {
   "cell_type": "code",
   "execution_count": 1,
   "metadata": {},
   "outputs": [],
   "source": [
    "# Time = 72 ms, faster than 99.19% of Python3\n",
    "# Memory = 15 MB, less than 43.88% of Python3\n",
    "class Solution:\n",
    "    def find132pattern(self, nums):\n",
    "        min_li = [nums[0]]\n",
    "        min_n = nums[0]\n",
    "        for i in nums[1:]:\n",
    "            min_n = min(min_n, i)\n",
    "            min_li.append(min_n)\n",
    "        \n",
    "        r_li = []\n",
    "        for idx in range(len(nums)-1, -1, -1):\n",
    "            if nums[idx] > min_li[idx]:\n",
    "                while r_li:\n",
    "                    if r_li[-1] <= min_li[idx]:\n",
    "                        r_li.pop()\n",
    "                    else:\n",
    "                        if r_li[-1] < nums[idx]:\n",
    "                            return True\n",
    "                        break\n",
    "                r_li.append(nums[idx])           \n",
    "        return False"
   ]
  },
  {
   "cell_type": "markdown",
   "metadata": {},
   "source": [
    "# Sol3\n",
    "- accumulate 함수를 사용하여 코드 정리"
   ]
  },
  {
   "cell_type": "code",
   "execution_count": null,
   "metadata": {},
   "outputs": [],
   "source": [
    "# Time = 80 ms, faster than 97.31% of Python3\n",
    "# Memory = 15 MB, less than 43.88% of Python3\n",
    "from itertools import accumulate\n",
    "class Solution:\n",
    "    def find132pattern(self, nums):\n",
    "        min_li = list(accumulate(nums, min))\n",
    "        r_li = []\n",
    "        for idx in range(len(nums)-1, -1, -1):\n",
    "            if nums[idx] > min_li[idx]:\n",
    "                while r_li:\n",
    "                    if r_li[-1] <= min_li[idx]:\n",
    "                        r_li.pop()\n",
    "                    else:\n",
    "                        if r_li[-1] < nums[idx]:\n",
    "                            return True\n",
    "                        break\n",
    "                r_li.append(nums[idx])           \n",
    "        return False"
   ]
  },
  {
   "cell_type": "code",
   "execution_count": 3,
   "metadata": {},
   "outputs": [
    {
     "data": {
      "text/plain": [
       "[1, 1, 1, -1, -1, -1]"
      ]
     },
     "execution_count": 3,
     "metadata": {},
     "output_type": "execute_result"
    }
   ],
   "source": [
    "from itertools import accumulate\n",
    "a = [1,2,5,-1,3,2]\n",
    "list(accumulate(a, min))"
   ]
  },
  {
   "cell_type": "code",
   "execution_count": null,
   "metadata": {},
   "outputs": [],
   "source": []
  }
 ],
 "metadata": {
  "kernelspec": {
   "display_name": "Python 3",
   "language": "python",
   "name": "python3"
  },
  "language_info": {
   "codemirror_mode": {
    "name": "ipython",
    "version": 3
   },
   "file_extension": ".py",
   "mimetype": "text/x-python",
   "name": "python",
   "nbconvert_exporter": "python",
   "pygments_lexer": "ipython3",
   "version": "3.8.5"
  }
 },
 "nbformat": 4,
 "nbformat_minor": 4
}
