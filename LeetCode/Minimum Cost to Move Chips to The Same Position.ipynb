{
 "cells": [
  {
   "cell_type": "code",
   "execution_count": 11,
   "metadata": {},
   "outputs": [],
   "source": [
    "# Time = 32 ms, faster than 63.75% of Python3\n",
    "# Memory = 13.9 MB, less than 99.86% of Python3\n",
    "class Solution:\n",
    "    def minCostToMoveChips(self, position):\n",
    "        answer = [0,0]\n",
    "        for i in position:\n",
    "            if i % 2:\n",
    "                answer[0] += 1\n",
    "            else:\n",
    "                answer[1] += 1\n",
    "        \n",
    "        return min(answer[0], answer[1])"
   ]
  },
  {
   "cell_type": "code",
   "execution_count": 12,
   "metadata": {},
   "outputs": [
    {
     "data": {
      "text/plain": [
       "1"
      ]
     },
     "execution_count": 12,
     "metadata": {},
     "output_type": "execute_result"
    }
   ],
   "source": [
    "sol = Solution()\n",
    "position = [1,2,3]\n",
    "sol.minCostToMoveChips(position)"
   ]
  },
  {
   "cell_type": "code",
   "execution_count": null,
   "metadata": {},
   "outputs": [],
   "source": [
    "# Time = 28 ms, faster than 86.88% of Python3 \n",
    "# Memory = 14.1 MB, less than 99.86% of Python3\n",
    "class Solution:\n",
    "    def minCostToMoveChips(self, position: List[int]) -> int:\n",
    "        odd, even = 0, 0\n",
    "        for i in position:\n",
    "            if i % 2:\n",
    "                odd += 1\n",
    "            else:\n",
    "                even += 1\n",
    "        \n",
    "        return min(odd, even)"
   ]
  }
 ],
 "metadata": {
  "kernelspec": {
   "display_name": "Python 3",
   "language": "python",
   "name": "python3"
  },
  "language_info": {
   "codemirror_mode": {
    "name": "ipython",
    "version": 3
   },
   "file_extension": ".py",
   "mimetype": "text/x-python",
   "name": "python",
   "nbconvert_exporter": "python",
   "pygments_lexer": "ipython3",
   "version": "3.8.5"
  }
 },
 "nbformat": 4,
 "nbformat_minor": 4
}
