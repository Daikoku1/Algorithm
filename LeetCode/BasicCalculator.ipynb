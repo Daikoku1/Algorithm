{
 "cells": [
  {
   "cell_type": "code",
   "execution_count": 1,
   "metadata": {},
   "outputs": [],
   "source": [
    "# Time = 100 ms, faster than 49.09% of Python3\n",
    "# Memory = 15.4 MB, less than 55.02% of Python3\n",
    "def calculate(s):\n",
    "    stack, num, plus = [], 0, True\n",
    "    s += '+'\n",
    "    for idx, val in enumerate(s):\n",
    "        if val.isdigit():\n",
    "            num = 10*num + int(val)\n",
    "        elif val in ['+','-','(',')']:\n",
    "            stack.append(num * [-1,1][plus])\n",
    "            num = 0\n",
    "            if val == '+' : plus = True\n",
    "            elif val == '-': plus = False\n",
    "            elif val == '(':\n",
    "                stack.append(['-','+'][plus] + val)\n",
    "                plus = True\n",
    "            else:\n",
    "                sub_sum = 0\n",
    "                while stack:\n",
    "                    char = stack.pop()\n",
    "                    if type(char) != str : sub_sum += char\n",
    "                    else: break\n",
    "                stack.append(sub_sum * [-1,1][char[0] == '+'])\n",
    "    return sum(stack)"
   ]
  },
  {
   "cell_type": "code",
   "execution_count": null,
   "metadata": {},
   "outputs": [],
   "source": [
    "# Time = 100 ms, faster than 49.09% of Python3\n",
    "# Memory = 15.4 MB, less than 55.02% of Python3\n",
    "def calculate(s):\n",
    "    stack, num, plus = [], 0, True\n",
    "    s += '+'\n",
    "    for idx, val in enumerate(s):\n",
    "        if val.isdigit():\n",
    "            num = 10*num + int(val)\n",
    "        elif val in ['+','-','(',')']:\n",
    "            stack.append(num * [-1,1][plus])\n",
    "            num = 0\n",
    "            if val == '+' : plus = True\n",
    "            elif val == '-': plus = False\n",
    "            elif val == '(':\n",
    "                stack.append(['-','+'][plus] + val)\n",
    "                plus = True\n",
    "            else:\n",
    "                sub_sum = 0\n",
    "                while stack:\n",
    "                    char = stack.pop()\n",
    "                    if type(char) != str : sub_sum += char\n",
    "                    else: break\n",
    "                stack.append(sub_sum * [-1,1][char[0] == '+'])\n",
    "    return sum(stack)"
   ]
  },
  {
   "cell_type": "code",
   "execution_count": 2,
   "metadata": {},
   "outputs": [
    {
     "data": {
      "text/plain": [
       "23"
      ]
     },
     "execution_count": 2,
     "metadata": {},
     "output_type": "execute_result"
    }
   ],
   "source": [
    "s = \"(1+(4+5+2)-3)+(6+8)\"\n",
    "calculate(s)"
   ]
  },
  {
   "cell_type": "code",
   "execution_count": 3,
   "metadata": {},
   "outputs": [
    {
     "data": {
      "text/plain": [
       "2"
      ]
     },
     "execution_count": 3,
     "metadata": {},
     "output_type": "execute_result"
    }
   ],
   "source": [
    "s = \"1 + 1\"\n",
    "calculate(s)"
   ]
  },
  {
   "cell_type": "code",
   "execution_count": 4,
   "metadata": {
    "scrolled": true
   },
   "outputs": [
    {
     "data": {
      "text/plain": [
       "3"
      ]
     },
     "execution_count": 4,
     "metadata": {},
     "output_type": "execute_result"
    }
   ],
   "source": [
    "s = \"2-(5-6)\"\n",
    "calculate(s)"
   ]
  },
  {
   "cell_type": "code",
   "execution_count": null,
   "metadata": {},
   "outputs": [],
   "source": [
    "# Time = 224 ms, faster than 7.01% of Python3\n",
    "# Memory = 24.4 MB, less than 5.27% of Python3\n",
    "import re\n",
    "class Solution:\n",
    "    def calculate(self, s: str) -> int:\n",
    "        s = re.sub(r\"([\\+ \\- \\( \\)])\", r\" \\1 \", s).strip()\n",
    "        s = ['('] + re.split('\\s+', s) + [')']\n",
    "        \n",
    "        stack = []\n",
    "        for idx, val in enumerate(s):\n",
    "            if val != ')':\n",
    "                stack.append(val)\n",
    "            else:\n",
    "                sub = []\n",
    "                while stack:\n",
    "                    char = stack.pop()\n",
    "                    if char == '(':\n",
    "                        break\n",
    "                    elif type(char) == int or char.isdigit():\n",
    "                        sub.append(int(char))\n",
    "                    elif char == '-':\n",
    "                        sub.append(sub.pop()*[-1,1][char=='+'])\n",
    "                stack.append(sum(sub))\n",
    "        return stack[0]"
   ]
  },
  {
   "cell_type": "code",
   "execution_count": 100,
   "metadata": {},
   "outputs": [
    {
     "name": "stdout",
     "output_type": "stream",
     "text": [
      "( 1 +  ( 4 + 5 + 2 )  - 3 )\n",
      "\n",
      "['(', '(', '1', '+', '(', '4', '+', '5', '+', '2', ')', '-', '3', ')', ')']\n"
     ]
    }
   ],
   "source": [
    "s = '(1+(4+5+2)-3)'\n",
    "s = re.sub(r\"([\\+ \\- \\( \\)])\", r\" \\1 \", s).strip()\n",
    "print(s)\n",
    "print()\n",
    "s = ['('] + re.split('\\s+', s) + [')']\n",
    "print(s)"
   ]
  },
  {
   "cell_type": "code",
   "execution_count": null,
   "metadata": {},
   "outputs": [],
   "source": [
    "elif val in ['+','-','(',')']:\n",
    "    stack.append(num * [-1,1][plus])\n",
    "    num = 0\n",
    "    if val == '+' : plus = True\n",
    "    elif val == '-': plus = False\n"
   ]
  }
 ],
 "metadata": {
  "kernelspec": {
   "display_name": "Python 3",
   "language": "python",
   "name": "python3"
  },
  "language_info": {
   "codemirror_mode": {
    "name": "ipython",
    "version": 3
   },
   "file_extension": ".py",
   "mimetype": "text/x-python",
   "name": "python",
   "nbconvert_exporter": "python",
   "pygments_lexer": "ipython3",
   "version": "3.8.5"
  },
  "toc": {
   "base_numbering": 1,
   "nav_menu": {},
   "number_sections": true,
   "sideBar": true,
   "skip_h1_title": false,
   "title_cell": "Table of Contents",
   "title_sidebar": "Contents",
   "toc_cell": false,
   "toc_position": {
    "height": "calc(100% - 180px)",
    "left": "10px",
    "top": "150px",
    "width": "141.804px"
   },
   "toc_section_display": true,
   "toc_window_display": true
  }
 },
 "nbformat": 4,
 "nbformat_minor": 4
}
