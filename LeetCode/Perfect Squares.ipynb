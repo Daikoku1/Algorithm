{
 "cells": [
  {
   "cell_type": "markdown",
   "id": "ba999429",
   "metadata": {},
   "source": [
    "# 코드\n",
    "- 시간초과"
   ]
  },
  {
   "cell_type": "code",
   "execution_count": 26,
   "id": "8f481aee",
   "metadata": {},
   "outputs": [],
   "source": [
    "class Solution:\n",
    "    def numSquares(self, n: int) -> int:\n",
    "        dp = [[0 for _ in range(n+1)] for _ in range(100)]\n",
    "        for i in range(n+1):\n",
    "            dp[0][i] = i\n",
    "        \n",
    "        for x in range(1, 100):\n",
    "            area = (x+1)**2\n",
    "            for y in range(n+1):\n",
    "                if y < area: dp[x][y] = dp[x-1][y]\n",
    "                else: dp[x][y] = min(dp[x][y-area] + 1, dp[x-1][y])\n",
    "        return dp[-1][-1]"
   ]
  },
  {
   "cell_type": "code",
   "execution_count": 32,
   "id": "16d95223",
   "metadata": {},
   "outputs": [
    {
     "data": {
      "text/plain": [
       "2"
      ]
     },
     "execution_count": 32,
     "metadata": {},
     "output_type": "execute_result"
    }
   ],
   "source": [
    "sol = Solution()\n",
    "sol.numSquares(13)"
   ]
  },
  {
   "cell_type": "markdown",
   "id": "a7adbc88",
   "metadata": {},
   "source": [
    "# 코드\n",
    "- 3322 ms, faster than 57.01% of Python3 online submissions for Perfect Squares.\n",
    "- 14.6 MB, less than 46.28% of Python3 online submissions for Perfect Squares."
   ]
  },
  {
   "cell_type": "code",
   "execution_count": 28,
   "id": "27838afe",
   "metadata": {},
   "outputs": [
    {
     "data": {
      "text/plain": [
       "[0, 0, 0, 0, 0]"
      ]
     },
     "execution_count": 28,
     "metadata": {},
     "output_type": "execute_result"
    }
   ],
   "source": [
    "class Solution:\n",
    "    def numSquares(self, n: int) -> int:\n",
    "        dp = [0] + [float('inf')]*n\n",
    "        for i in range(1, n+1):\n",
    "            dp[i] = min(dp[i-j*j] for j in range(1, int(i**0.5)+1)) + 1\n",
    "        return dp[-1]"
   ]
  },
  {
   "cell_type": "code",
   "execution_count": 31,
   "id": "9f9302dc",
   "metadata": {},
   "outputs": [
    {
     "data": {
      "text/plain": [
       "2"
      ]
     },
     "execution_count": 31,
     "metadata": {},
     "output_type": "execute_result"
    }
   ],
   "source": []
  },
  {
   "cell_type": "code",
   "execution_count": null,
   "id": "2ef2d6fa",
   "metadata": {},
   "outputs": [],
   "source": []
  },
  {
   "cell_type": "code",
   "execution_count": null,
   "id": "7a128aab",
   "metadata": {},
   "outputs": [],
   "source": []
  }
 ],
 "metadata": {
  "kernelspec": {
   "display_name": "Python 3",
   "language": "python",
   "name": "python3"
  },
  "language_info": {
   "codemirror_mode": {
    "name": "ipython",
    "version": 3
   },
   "file_extension": ".py",
   "mimetype": "text/x-python",
   "name": "python",
   "nbconvert_exporter": "python",
   "pygments_lexer": "ipython3",
   "version": "3.8.8"
  }
 },
 "nbformat": 4,
 "nbformat_minor": 5
}
