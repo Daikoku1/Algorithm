{
  "nbformat": 4,
  "nbformat_minor": 0,
  "metadata": {
    "colab": {
      "name": "Dungeon Game.ipynb",
      "provenance": [],
      "authorship_tag": "ABX9TyP3VkqUSb3so91o7j/mpxtC",
      "include_colab_link": true
    },
    "kernelspec": {
      "name": "python3",
      "display_name": "Python 3"
    }
  },
  "cells": [
    {
      "cell_type": "markdown",
      "metadata": {
        "id": "view-in-github",
        "colab_type": "text"
      },
      "source": [
        "<a href=\"https://colab.research.google.com/github/Daikoku1/Algorithm_LeetCode/blob/master/Dungeon_Game.ipynb\" target=\"_parent\"><img src=\"https://colab.research.google.com/assets/colab-badge.svg\" alt=\"Open In Colab\"/></a>"
      ]
    },
    {
      "cell_type": "code",
      "metadata": {
        "id": "dPTkN0Uy--6N",
        "colab_type": "code",
        "colab": {}
      },
      "source": [
        ""
      ],
      "execution_count": null,
      "outputs": []
    },
    {
      "cell_type": "code",
      "metadata": {
        "id": "SpbfM4xBvP5y",
        "colab_type": "code",
        "colab": {}
      },
      "source": [
        "def calculateMinimumHP(dungeon):\n",
        "    M = len(dungeon)\n",
        "    N = len(dungeon[0])\n",
        "    min_list = [[[0,0]] * N for i in range(M)]\n",
        "    min_list[0][0] = [dungeon[0][0],dungeon[0][0]]\n",
        "    for i in range(M):\n",
        "        for j in range(N):\n",
        "            print(min_list)\n",
        "            num1 = float('-inf')\n",
        "            num2 = float('-inf')\n",
        "            if i != 0:\n",
        "                num1 = min_list[i-1][j][1]\n",
        "            if j != 0:\n",
        "                num2 =  min_list[i][j-1][1]\n",
        "\n",
        "            if num1 > num2:\n",
        "                now_val = min_list[i-1][j][0] + dungeon[i][j]\n",
        "                min_list[i][j] = [now_val, min(now_val, min_list[i-1][j][1])]\n",
        "            elif num2 > num1:\n",
        "                now_val = min_list[i][j-1][0] + dungeon[i][j]\n",
        "                min_list[i][j] = [now_val, min(now_val, min_list[i][j-1][1])]\n",
        "    print(min_list)\n",
        "    if min_list[M-1][N-1][1] > 0:\n",
        "        return 1\n",
        "    else:\n",
        "        return -(min_list[M-1][N-1][1]) + 1"
      ],
      "execution_count": null,
      "outputs": []
    },
    {
      "cell_type": "code",
      "metadata": {
        "id": "iJVXlks0vUF4",
        "colab_type": "code",
        "colab": {
          "base_uri": "https://localhost:8080/",
          "height": 215
        },
        "outputId": "d5aa3e8d-218b-41e2-ffa8-482398a8fb1c"
      },
      "source": [
        "dungeon = [[-2,-3,3],[-5,-10,1],[10,30,-5]]\n",
        "calculateMinimumHP(dungeon)"
      ],
      "execution_count": null,
      "outputs": [
        {
          "output_type": "stream",
          "text": [
            "[[[-2, -2], [0, 0], [0, 0]], [[0, 0], [0, 0], [0, 0]], [[0, 0], [0, 0], [0, 0]]]\n",
            "[[[-2, -2], [0, 0], [0, 0]], [[0, 0], [0, 0], [0, 0]], [[0, 0], [0, 0], [0, 0]]]\n",
            "[[[-2, -2], [-5, -5], [0, 0]], [[0, 0], [0, 0], [0, 0]], [[0, 0], [0, 0], [0, 0]]]\n",
            "[[[-2, -2], [-5, -5], [-2, -5]], [[0, 0], [0, 0], [0, 0]], [[0, 0], [0, 0], [0, 0]]]\n",
            "[[[-2, -2], [-5, -5], [-2, -5]], [[-7, -7], [0, 0], [0, 0]], [[0, 0], [0, 0], [0, 0]]]\n",
            "[[[-2, -2], [-5, -5], [-2, -5]], [[-7, -7], [-15, -15], [0, 0]], [[0, 0], [0, 0], [0, 0]]]\n",
            "[[[-2, -2], [-5, -5], [-2, -5]], [[-7, -7], [-15, -15], [-1, -5]], [[0, 0], [0, 0], [0, 0]]]\n",
            "[[[-2, -2], [-5, -5], [-2, -5]], [[-7, -7], [-15, -15], [-1, -5]], [[3, -7], [0, 0], [0, 0]]]\n",
            "[[[-2, -2], [-5, -5], [-2, -5]], [[-7, -7], [-15, -15], [-1, -5]], [[3, -7], [33, -7], [0, 0]]]\n",
            "[[[-2, -2], [-5, -5], [-2, -5]], [[-7, -7], [-15, -15], [-1, -5]], [[3, -7], [33, -7], [-6, -6]]]\n"
          ],
          "name": "stdout"
        },
        {
          "output_type": "execute_result",
          "data": {
            "text/plain": [
              "7"
            ]
          },
          "metadata": {
            "tags": []
          },
          "execution_count": 39
        }
      ]
    },
    {
      "cell_type": "code",
      "metadata": {
        "id": "b8XEBfKdve1W",
        "colab_type": "code",
        "colab": {
          "base_uri": "https://localhost:8080/",
          "height": 71
        },
        "outputId": "53d3da53-b17d-4b59-c339-33159aa5895f"
      },
      "source": [
        "a = [[[-2, -2], [-2, -5], [-2, -5]], [[-1, -5], [-1, -5], [-1, -5]], [[34, -5], [34, -5], [34, -5]]]\n",
        "a[1][2][0] = 5\n",
        "a"
      ],
      "execution_count": null,
      "outputs": [
        {
          "output_type": "execute_result",
          "data": {
            "text/plain": [
              "[[[-2, -2], [-2, -5], [-2, -5]],\n",
              " [[-1, -5], [-1, -5], [5, -5]],\n",
              " [[34, -5], [34, -5], [34, -5]]]"
            ]
          },
          "metadata": {
            "tags": []
          },
          "execution_count": 28
        }
      ]
    },
    {
      "cell_type": "code",
      "metadata": {
        "id": "NUJnC-fKz-vW",
        "colab_type": "code",
        "colab": {
          "base_uri": "https://localhost:8080/",
          "height": 71
        },
        "outputId": "de38de58-ac1f-4d2a-e696-570a450786f1"
      },
      "source": [
        "a"
      ],
      "execution_count": null,
      "outputs": [
        {
          "output_type": "execute_result",
          "data": {
            "text/plain": [
              "[[[-2, -2], [0, -5], [-2, -5]],\n",
              " [[-1, -5], [-1, -5], [-1, -5]],\n",
              " [[34, -5], [34, -5], [34, -5]]]"
            ]
          },
          "metadata": {
            "tags": []
          },
          "execution_count": 25
        }
      ]
    },
    {
      "cell_type": "code",
      "metadata": {
        "id": "bHsnECBw0Cd2",
        "colab_type": "code",
        "colab": {}
      },
      "source": [
        ""
      ],
      "execution_count": null,
      "outputs": []
    }
  ]
}