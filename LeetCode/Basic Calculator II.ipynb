{
 "cells": [
  {
   "cell_type": "code",
   "execution_count": 20,
   "metadata": {},
   "outputs": [
    {
     "data": {
      "text/plain": [
       "['3', '5', '2']"
      ]
     },
     "execution_count": 20,
     "metadata": {},
     "output_type": "execute_result"
    }
   ],
   "source": [
    "def calculate(self, s):\n",
    "    if not s:\n",
    "        return \"0\"\n",
    "    stack, num, sign = [], 0, \"+\"\n",
    "    for i in xrange(len(s)):\n",
    "        if s[i].isdigit():\n",
    "            num = num*10+ord(s[i])-ord(\"0\")\n",
    "        if (not s[i].isdigit() and not s[i].isspace()) or i == len(s)-1:\n",
    "            if sign == \"-\":\n",
    "                stack.append(-num)\n",
    "            elif sign == \"+\":\n",
    "                stack.append(num)\n",
    "            elif sign == \"*\":\n",
    "                stack.append(stack.pop()*num)\n",
    "            else:\n",
    "                tmp = stack.pop()\n",
    "                if tmp//num < 0 and tmp%num != 0:\n",
    "                    stack.append(tmp//num+1)\n",
    "                else:\n",
    "                    stack.append(tmp//num)\n",
    "            sign = s[i]\n",
    "            num = 0\n",
    "    return sum(stack)"
   ]
  }
 ],
 "metadata": {
  "kernelspec": {
   "display_name": "Python 3",
   "language": "python",
   "name": "python3"
  },
  "language_info": {
   "codemirror_mode": {
    "name": "ipython",
    "version": 3
   },
   "file_extension": ".py",
   "mimetype": "text/x-python",
   "name": "python",
   "nbconvert_exporter": "python",
   "pygments_lexer": "ipython3",
   "version": "3.8.5"
  },
  "toc": {
   "base_numbering": 1,
   "nav_menu": {},
   "number_sections": true,
   "sideBar": true,
   "skip_h1_title": false,
   "title_cell": "Table of Contents",
   "title_sidebar": "Contents",
   "toc_cell": false,
   "toc_position": {},
   "toc_section_display": true,
   "toc_window_display": true
  }
 },
 "nbformat": 4,
 "nbformat_minor": 4
}
