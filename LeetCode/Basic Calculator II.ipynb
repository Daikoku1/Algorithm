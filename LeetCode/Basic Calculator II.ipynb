{
 "cells": [
  {
   "cell_type": "code",
   "execution_count": 30,
   "metadata": {},
   "outputs": [],
   "source": [
    "# Time = 68 ms, faster than 91.47% of Python3\n",
    "# Memory = 15.9 MB, less than 38.53% of Python3\n",
    "def calculate(s):\n",
    "    if not s : return '0'\n",
    "    s += ' '\n",
    "    stack, num, sign = [], 0, '+'\n",
    "    for idx, val in enumerate(s):\n",
    "        if val.isdigit():\n",
    "            num = num*10 + int(val)\n",
    "        elif val in ['+','-','*','/'] or idx == len(s) - 1:\n",
    "            if sign == '-':\n",
    "                stack.append(-num)\n",
    "            elif sign == '+':\n",
    "                stack.append(num)\n",
    "            elif sign == '*':\n",
    "                stack.append(stack.pop()*num)\n",
    "            else:\n",
    "                q, r = divmod(stack.pop(), num)\n",
    "                if q < 0 and r != 0:\n",
    "                    stack.append(q + 1)\n",
    "                else:stack.append(q)\n",
    "            sign, num = val, 0\n",
    "    return sum(stack)"
   ]
  },
  {
   "cell_type": "code",
   "execution_count": null,
   "metadata": {},
   "outputs": [],
   "source": [
    "# Time = 80 ms, faster than 74.79% of Python3\n",
    "# Memory = 15.7 MB, less than 60.36% of Python3\n",
    "class Solution:\n",
    "    def calculate(self, s):\n",
    "        if not s : return '0'\n",
    "        stack, num, sign = [], 0, '+'\n",
    "        for idx, val in enumerate(s):\n",
    "            if val.isdigit():\n",
    "                num = num*10 + int(val)\n",
    "            if val in ['+','-','*','/'] or idx == len(s) - 1:\n",
    "                if sign == '-':\n",
    "                    stack.append(-num)\n",
    "                elif sign == '+':\n",
    "                    stack.append(num)\n",
    "                elif sign == '*':\n",
    "                    stack.append(stack.pop()*num)\n",
    "                else:\n",
    "                    q, r = divmod(stack.pop(), num)\n",
    "                    if q < 0 and r != 0:\n",
    "                        stack.append(q + 1)\n",
    "                    else:stack.append(q)\n",
    "                sign, num = val, 0\n",
    "        return sum(stack)"
   ]
  },
  {
   "cell_type": "code",
   "execution_count": null,
   "metadata": {},
   "outputs": [],
   "source": []
  }
 ],
 "metadata": {
  "kernelspec": {
   "display_name": "Python 3",
   "language": "python",
   "name": "python3"
  },
  "language_info": {
   "codemirror_mode": {
    "name": "ipython",
    "version": 3
   },
   "file_extension": ".py",
   "mimetype": "text/x-python",
   "name": "python",
   "nbconvert_exporter": "python",
   "pygments_lexer": "ipython3",
   "version": "3.8.5"
  },
  "toc": {
   "base_numbering": 1,
   "nav_menu": {},
   "number_sections": true,
   "sideBar": true,
   "skip_h1_title": false,
   "title_cell": "Table of Contents",
   "title_sidebar": "Contents",
   "toc_cell": false,
   "toc_position": {},
   "toc_section_display": true,
   "toc_window_display": true
  }
 },
 "nbformat": 4,
 "nbformat_minor": 4
}
