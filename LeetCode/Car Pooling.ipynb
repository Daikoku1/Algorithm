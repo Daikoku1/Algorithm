{
 "cells": [
  {
   "cell_type": "code",
   "execution_count": null,
   "metadata": {},
   "outputs": [],
   "source": [
    "# Time = 124 ms(20%)\n",
    "# Memory = 29 MB\n",
    "import numpy as np\n",
    "class Solution:\n",
    "    def carPooling(self, trips: List[List[int]], capacity: int) -> bool:\n",
    "        array = np.zeros(1001)\n",
    "        for n, s, e in trips:\n",
    "            array[s+1:e+1] += n\n",
    "\n",
    "        return max(array) <= capacity"
   ]
  },
  {
   "cell_type": "code",
   "execution_count": 12,
   "metadata": {},
   "outputs": [],
   "source": [
    "# Time = 56 ms(97.85%)\n",
    "# Memory = 14.3 MB(55.73% )\n",
    "class Solution:\n",
    "    def carPooling(self, trips, capacity):\n",
    "        dp = [0]*1001\n",
    "        for n, s, e in trips:\n",
    "            dp[s] += n\n",
    "            dp[e] -= n\n",
    "            \n",
    "        for stop in dp:\n",
    "            capacity -= stop\n",
    "            if capacity < 0:\n",
    "                return False\n",
    "        return True"
   ]
  },
  {
   "cell_type": "code",
   "execution_count": 13,
   "metadata": {},
   "outputs": [],
   "source": [
    "sol = Solution()"
   ]
  },
  {
   "cell_type": "code",
   "execution_count": 14,
   "metadata": {},
   "outputs": [
    {
     "name": "stdout",
     "output_type": "stream",
     "text": [
      "0\n",
      "2\n",
      "0\n",
      "3\n"
     ]
    },
    {
     "data": {
      "text/plain": [
       "False"
      ]
     },
     "execution_count": 14,
     "metadata": {},
     "output_type": "execute_result"
    }
   ],
   "source": [
    "trips = [[2,1,5],[3,3,7]]\n",
    "capacity = 4\n",
    "sol.carPooling(trips, capacity)"
   ]
  }
 ],
 "metadata": {
  "kernelspec": {
   "display_name": "Python 3",
   "language": "python",
   "name": "python3"
  },
  "language_info": {
   "codemirror_mode": {
    "name": "ipython",
    "version": 3
   },
   "file_extension": ".py",
   "mimetype": "text/x-python",
   "name": "python",
   "nbconvert_exporter": "python",
   "pygments_lexer": "ipython3",
   "version": "3.8.5"
  }
 },
 "nbformat": 4,
 "nbformat_minor": 4
}
