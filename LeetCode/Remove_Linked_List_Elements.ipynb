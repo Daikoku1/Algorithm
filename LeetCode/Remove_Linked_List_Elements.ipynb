{
  "nbformat": 4,
  "nbformat_minor": 0,
  "metadata": {
    "colab": {
      "name": "Remove Linked List Elements.ipynb",
      "provenance": [],
      "authorship_tag": "ABX9TyMvujSckEx7T361qlOMPJep",
      "include_colab_link": true
    },
    "kernelspec": {
      "name": "python3",
      "display_name": "Python 3"
    }
  },
  "cells": [
    {
      "cell_type": "markdown",
      "metadata": {
        "id": "view-in-github",
        "colab_type": "text"
      },
      "source": [
        "<a href=\"https://colab.research.google.com/github/Daikoku1/Algorithm_LeetCode/blob/master/Remove_Linked_List_Elements.ipynb\" target=\"_parent\"><img src=\"https://colab.research.google.com/assets/colab-badge.svg\" alt=\"Open In Colab\"/></a>"
      ]
    },
    {
      "cell_type": "code",
      "metadata": {
        "id": "fpBHf213Ic55",
        "colab_type": "code",
        "colab": {}
      },
      "source": [
        "# Definition for singly-linked list.\n",
        "# class ListNode:\n",
        "#     def __init__(self, val=0, next=None):\n",
        "#         self.val = val\n",
        "#         self.next = next\n",
        "class Solution:\n",
        "    def removeElements(self, head: ListNode, val: int) -> ListNode:\n",
        "        prev = ListNode()\n",
        "        prev.next = head\n",
        "        now = prev\n",
        "\n",
        "        while now.next:\n",
        "            if now.next.val == val:\n",
        "                now.next = now.next.next\n",
        "            else:\n",
        "                now = now.next\n",
        "        return prev.next"
      ],
      "execution_count": null,
      "outputs": []
    }
  ]
}