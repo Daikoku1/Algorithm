{
  "nbformat": 4,
  "nbformat_minor": 0,
  "metadata": {
    "colab": {
      "name": "Word Search II.ipynb",
      "provenance": [],
      "authorship_tag": "ABX9TyOhDW+xRdMWpzYJyRsyM5IU",
      "include_colab_link": true
    },
    "kernelspec": {
      "name": "python3",
      "display_name": "Python 3"
    }
  },
  "cells": [
    {
      "cell_type": "markdown",
      "metadata": {
        "id": "view-in-github",
        "colab_type": "text"
      },
      "source": [
        "<a href=\"https://colab.research.google.com/github/Daikoku1/Algorithm_LeetCode/blob/master/Word_Search_II.ipynb\" target=\"_parent\"><img src=\"https://colab.research.google.com/assets/colab-badge.svg\" alt=\"Open In Colab\"/></a>"
      ]
    },
    {
      "cell_type": "code",
      "metadata": {
        "id": "wgUlqSa-jFXq",
        "colab_type": "code",
        "colab": {}
      },
      "source": [
        "board = [\n",
        "  ['o','a','a','n'],\n",
        "  ['e','t','a','e'],\n",
        "  ['i','h','k','r'],\n",
        "  ['i','f','l','v']\n",
        "]\n",
        "words = [\"oath\",\"pea\",\"eat\",\"rain\"]"
      ],
      "execution_count": 32,
      "outputs": []
    },
    {
      "cell_type": "code",
      "metadata": {
        "id": "ybhXpy6yjTyO",
        "colab_type": "code",
        "colab": {
          "base_uri": "https://localhost:8080/",
          "height": 89
        },
        "outputId": "111fe1dd-0f9d-4e82-9124-0bd13cbe14a3"
      },
      "source": [
        "board = np.array(board)\n",
        "board"
      ],
      "execution_count": 3,
      "outputs": [
        {
          "output_type": "execute_result",
          "data": {
            "text/plain": [
              "array([['o', 'a', 'a', 'n'],\n",
              "       ['e', 't', 'a', 'e'],\n",
              "       ['i', 'h', 'k', 'r'],\n",
              "       ['i', 'f', 'l', 'v']], dtype='<U1')"
            ]
          },
          "metadata": {
            "tags": []
          },
          "execution_count": 3
        }
      ]
    },
    {
      "cell_type": "code",
      "metadata": {
        "id": "_y0bt4GwjHBH",
        "colab_type": "code",
        "colab": {}
      },
      "source": [
        "import numpy as np\n",
        "\n",
        "a = np.argwhere(board == 'a')"
      ],
      "execution_count": 22,
      "outputs": []
    },
    {
      "cell_type": "code",
      "metadata": {
        "id": "A7ZqT3cGjRgy",
        "colab_type": "code",
        "colab": {
          "base_uri": "https://localhost:8080/",
          "height": 71
        },
        "outputId": "2e452092-46c0-45bf-b89f-06e08d28ed07"
      },
      "source": [
        "a"
      ],
      "execution_count": 23,
      "outputs": [
        {
          "output_type": "execute_result",
          "data": {
            "text/plain": [
              "array([[0, 1],\n",
              "       [0, 2],\n",
              "       [1, 2]])"
            ]
          },
          "metadata": {
            "tags": []
          },
          "execution_count": 23
        }
      ]
    },
    {
      "cell_type": "code",
      "metadata": {
        "id": "wesNSh-Jjn1X",
        "colab_type": "code",
        "colab": {}
      },
      "source": [
        "from collections import defaultdict\n",
        "def findWords(board, words):\n",
        "    answer = []\n",
        "    a_dict = defaultdict(list)\n",
        "    for i in range(len(board)):\n",
        "        for j in range(len(board[0])):\n",
        "            a_dict[board[i][j]].append([i,j])\n",
        "    for word in words:\n",
        "        now_idx = a_dict[word[0]]\n",
        "        idx = 1\n",
        "        result = True\n",
        "        print(word)\n",
        "        while idx < len(word):\n",
        "            next_idx = []\n",
        "            next_char = a_dict[word[idx]]\n",
        "            print(now_idx)\n",
        "            print(next_char)\n",
        "            print('---------------')\n",
        "            for x, y in now_idx:\n",
        "                print(x, y, word)\n",
        "                if [x-1, y] in next_char:\n",
        "                    next_idx += [[x-1, y]]\n",
        "                elif [x, y-1] in next_char:\n",
        "                    next_idx += [[x, y-1]]\n",
        "                elif [x+1, y] in next_char:\n",
        "                    next_idx += [[x+1, y]]\n",
        "                elif [x, y+1] in next_char:\n",
        "                    next_idx += [[x, y+1]]\n",
        "            \n",
        "            if not next_idx:\n",
        "                result = False\n",
        "                break\n",
        "            now_idx = next_idx.copy()\n",
        "            next_dix = []\n",
        "            idx += 1\n",
        "        if result:\n",
        "            answer.append(word)\n",
        "    return answer"
      ],
      "execution_count": 63,
      "outputs": []
    },
    {
      "cell_type": "code",
      "metadata": {
        "id": "wytQtUaskpXq",
        "colab_type": "code",
        "colab": {
          "base_uri": "https://localhost:8080/",
          "height": 611
        },
        "outputId": "3d1cbebc-5a4c-49d8-fe36-da4461a9e24c"
      },
      "source": [
        "findWords(board, words)"
      ],
      "execution_count": 64,
      "outputs": [
        {
          "output_type": "stream",
          "text": [
            "oath\n",
            "[[0, 0]]\n",
            "[[0, 1], [0, 2], [1, 2]]\n",
            "---------------\n",
            "0 0 oath\n",
            "[[0, 1]]\n",
            "[[1, 1]]\n",
            "---------------\n",
            "0 1 oath\n",
            "[[1, 1]]\n",
            "[[2, 1]]\n",
            "---------------\n",
            "1 1 oath\n",
            "pea\n",
            "[]\n",
            "[[1, 0], [1, 3]]\n",
            "---------------\n",
            "eat\n",
            "[[1, 0], [1, 3]]\n",
            "[[0, 1], [0, 2], [1, 2]]\n",
            "---------------\n",
            "1 0 eat\n",
            "1 3 eat\n",
            "[[1, 2]]\n",
            "[[1, 1]]\n",
            "---------------\n",
            "1 2 eat\n",
            "rain\n",
            "[[2, 3]]\n",
            "[[0, 1], [0, 2], [1, 2]]\n",
            "---------------\n",
            "2 3 rain\n"
          ],
          "name": "stdout"
        },
        {
          "output_type": "execute_result",
          "data": {
            "text/plain": [
              "['oath', 'eat']"
            ]
          },
          "metadata": {
            "tags": []
          },
          "execution_count": 64
        }
      ]
    },
    {
      "cell_type": "code",
      "metadata": {
        "id": "Uxfe-ysml5pl",
        "colab_type": "code",
        "colab": {}
      },
      "source": [
        "board = [[\"o\",\"a\",\"a\",\"n\"],[\"e\",\"t\",\"a\",\"e\"],[\"i\",\"h\",\"k\",\"r\"],[\"i\",\"f\",\"l\",\"v\"]]\n",
        "words = [\"oath\",\"pea\",\"eat\",\"rain\"]"
      ],
      "execution_count": 65,
      "outputs": []
    },
    {
      "cell_type": "code",
      "metadata": {
        "id": "idHM_4IF5k5z",
        "colab_type": "code",
        "colab": {}
      },
      "source": [
        "from collections import defaultdict\n",
        "def findWords(board, words):\n",
        "    answer = []\n",
        "    a_dict = defaultdict(list)\n",
        "    for i in range(len(board)):\n",
        "        for j in range(len(board[0])):\n",
        "            a_dict[board[i][j]].append([i,j])\n",
        "    for word in words:\n",
        "        now_idx = a_dict[word[0]]\n",
        "        print(word, now_idx)\n",
        "        if now_idx:\n",
        "            idx = 1\n",
        "            result = True\n",
        "            # print(word)\n",
        "            while idx < len(word):\n",
        "                next_idx = []\n",
        "                next_char = a_dict[word[idx]]\n",
        "                # print(now_idx)\n",
        "                # print(next_char)\n",
        "                # print('---------------')\n",
        "                for x, y in now_idx:\n",
        "                    if [x-1, y] in next_char:\n",
        "                        next_idx += [[x-1, y]]\n",
        "                    elif [x, y-1] in next_char:\n",
        "                        next_idx += [[x, y-1]]\n",
        "                    elif [x+1, y] in next_char:\n",
        "                        next_idx += [[x+1, y]]\n",
        "                    elif [x, y+1] in next_char:\n",
        "                        next_idx += [[x, y+1]]\n",
        "\n",
        "                if not next_idx:\n",
        "                    result = False\n",
        "                    break\n",
        "                now_idx = next_idx.copy()\n",
        "                next_dix = []\n",
        "                idx += 1\n",
        "            if result:\n",
        "                answer.append(word)\n",
        "    return answer\n",
        "        "
      ],
      "execution_count": 70,
      "outputs": []
    },
    {
      "cell_type": "code",
      "metadata": {
        "id": "okCKnSsQ619n",
        "colab_type": "code",
        "colab": {
          "base_uri": "https://localhost:8080/",
          "height": 107
        },
        "outputId": "fbf5e310-222a-42b5-ee14-af6a8527e237"
      },
      "source": [
        "findWords(board, words)"
      ],
      "execution_count": 71,
      "outputs": [
        {
          "output_type": "stream",
          "text": [
            "oath [[0, 0]]\n",
            "pea []\n",
            "eat [[1, 0], [1, 3]]\n",
            "rain [[2, 3]]\n"
          ],
          "name": "stdout"
        },
        {
          "output_type": "execute_result",
          "data": {
            "text/plain": [
              "['oath', 'eat']"
            ]
          },
          "metadata": {
            "tags": []
          },
          "execution_count": 71
        }
      ]
    },
    {
      "cell_type": "code",
      "metadata": {
        "id": "1b7hpzqH63xY",
        "colab_type": "code",
        "colab": {}
      },
      "source": [
        ""
      ],
      "execution_count": null,
      "outputs": []
    }
  ]
}