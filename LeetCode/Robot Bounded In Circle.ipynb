{
 "cells": [
  {
   "cell_type": "code",
   "execution_count": null,
   "metadata": {},
   "outputs": [],
   "source": [
    "class Solution:\n",
    "    def isRobotBounded(self, instructions: str) -> bool:\n",
    "        px, py = 0, 1\n",
    "        x, y = 0, 0\n",
    "        for c in 4*instructions:\n",
    "            if c == \"G\": \n",
    "                x, y = x+px, y+py\n",
    "            elif c == \"L\":\n",
    "                px, py = -py, px\n",
    "            else:\n",
    "                px, py = py, -px\n",
    "                \n",
    "        return (x,y) == (0,0)"
   ]
  }
 ],
 "metadata": {
  "kernelspec": {
   "display_name": "Python 3",
   "language": "python",
   "name": "python3"
  },
  "language_info": {
   "codemirror_mode": {
    "name": "ipython",
    "version": 3
   },
   "file_extension": ".py",
   "mimetype": "text/x-python",
   "name": "python",
   "nbconvert_exporter": "python",
   "pygments_lexer": "ipython3",
   "version": "3.8.5"
  }
 },
 "nbformat": 4,
 "nbformat_minor": 4
}
