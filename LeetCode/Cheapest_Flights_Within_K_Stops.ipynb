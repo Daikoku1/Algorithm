{
  "nbformat": 4,
  "nbformat_minor": 0,
  "metadata": {
    "colab": {
      "name": "Cheapest Flights Within K Stops.ipynb",
      "provenance": [],
      "authorship_tag": "ABX9TyMfaycYPVevDx+GC7bUXJro",
      "include_colab_link": true
    },
    "kernelspec": {
      "name": "python3",
      "display_name": "Python 3"
    }
  },
  "cells": [
    {
      "cell_type": "markdown",
      "metadata": {
        "id": "view-in-github",
        "colab_type": "text"
      },
      "source": [
        "<a href=\"https://colab.research.google.com/github/Daikoku1/Algorithm_LeetCode/blob/master/Cheapest_Flights_Within_K_Stops.ipynb\" target=\"_parent\"><img src=\"https://colab.research.google.com/assets/colab-badge.svg\" alt=\"Open In Colab\"/></a>"
      ]
    },
    {
      "cell_type": "code",
      "metadata": {
        "id": "TW_Kah9Qqza6",
        "colab_type": "code",
        "colab": {}
      },
      "source": [
        "# 성공은 했는데...\n",
        "# 속도가 너무 느리다.\n",
        "from collections import defaultdict\n",
        "    cost_list = [[0]*n for _ in range(n)]\n",
        "    for u, v, w in flights:\n",
        "        cost_list[u][v] = w\n",
        "\n",
        "    a_dict = defaultdict(list)\n",
        "    for i in range(n):\n",
        "        for j in range(n):\n",
        "            if cost_list[i][j]:\n",
        "                a_dict[i] += [j]\n",
        "    \n",
        "                \n",
        "    to_do = []\n",
        "    to_do.append((src,0,0))\n",
        "    min_cost = 10000 if K == 0 else 10000*K\n",
        "    find = False\n",
        "    while to_do:\n",
        "        num, depth, cost= to_do.pop(0)\n",
        "        if depth > K+1:\n",
        "            break\n",
        "        if num == dst:\n",
        "            find = True\n",
        "            min_cost = min(min_cost, cost)\n",
        "            \n",
        "        if cost < min_cost:\n",
        "            if a_dict[num]:\n",
        "                for i in a_dict[num]:\n",
        "                    to_do.append((i, depth + 1, cost + cost_list[num][i]))\n",
        "    if find:\n",
        "        return min_cost\n",
        "    else:\n",
        "        return -1"
      ],
      "execution_count": 3,
      "outputs": []
    },
    {
      "cell_type": "code",
      "metadata": {
        "id": "bFws3V4zqzgt",
        "colab_type": "code",
        "colab": {
          "base_uri": "https://localhost:8080/",
          "height": 35
        },
        "outputId": "16235351-b228-4022-b94a-d74d957dfdfa"
      },
      "source": [
        "n = 3\n",
        "flights = [[0,1,2],[1,2,1],[2,0,10]]\n",
        "src = 1\n",
        "dst = 2\n",
        "K = 1\n",
        "findCheapestPrice(n, flights, src, dst, K)"
      ],
      "execution_count": 4,
      "outputs": [
        {
          "output_type": "execute_result",
          "data": {
            "text/plain": [
              "1"
            ]
          },
          "metadata": {
            "tags": []
          },
          "execution_count": 4
        }
      ]
    },
    {
      "cell_type": "code",
      "metadata": {
        "id": "iwDFXXW1qzjq",
        "colab_type": "code",
        "colab": {}
      },
      "source": [
        "# 조금 변경\n",
        "# 속도도 비슷하네;\n",
        "from collections import defaultdict\n",
        "def findCheapestPrice(n, flights, src, dst, K):\n",
        "    a_dict = defaultdict(list)\n",
        "    for i, j, w in flights:\n",
        "        a_dict[i] += [[j, w]]        \n",
        "                \n",
        "    to_do = []\n",
        "    to_do.append((src,0,0))\n",
        "    min_cost = 10000 if K == 0 else 10000*K\n",
        "    find = False\n",
        "    while to_do:\n",
        "        num, depth, cost= to_do.pop(0)\n",
        "        if depth > K+1:\n",
        "            break                \n",
        "        if cost < min_cost:\n",
        "            if num == dst:\n",
        "                find = True\n",
        "                min_cost = cost\n",
        "            if a_dict[num]:\n",
        "                for x, y in a_dict[num]:\n",
        "                    to_do.append((x, depth + 1, cost + y))\n",
        "    if find:\n",
        "        return min_cost\n",
        "    else:\n",
        "        return -1"
      ],
      "execution_count": 5,
      "outputs": []
    },
    {
      "cell_type": "code",
      "metadata": {
        "id": "k80Iq9mJ50YV",
        "colab_type": "code",
        "colab": {
          "base_uri": "https://localhost:8080/",
          "height": 35
        },
        "outputId": "c193ac8d-f2fd-4751-b70f-110f20bd881c"
      },
      "source": [
        "n = 3\n",
        "flights = [[0,1,2],[1,2,1],[2,0,10]]\n",
        "src = 1\n",
        "dst = 2\n",
        "K = 1\n",
        "findCheapestPrice(n, flights, src, dst, K)"
      ],
      "execution_count": 6,
      "outputs": [
        {
          "output_type": "execute_result",
          "data": {
            "text/plain": [
              "1"
            ]
          },
          "metadata": {
            "tags": []
          },
          "execution_count": 6
        }
      ]
    },
    {
      "cell_type": "code",
      "metadata": {
        "id": "_RL9Cv0rU_QB",
        "colab_type": "code",
        "colab": {}
      },
      "source": [
        "import heapq\n",
        "def findCheapestPrice(n, flights, src, dst, K):\n",
        "    a_dict = defaultdict(list)\n",
        "    for i, j, w in flights:\n",
        "        a_dict[i].append((j,w))\n",
        "    heap = [(0, -1, src)]\n",
        "    while heap:\n",
        "        p, k, city = heapq.heappop(heap)\n",
        "        if city == dst:\n",
        "            return p\n",
        "        if k < K:\n",
        "            for n_city, price in a_dict[city]:\n",
        "                    heapq.heappush(heap, (p + price, k + 1, n_city))\n",
        "        \n",
        "    return -1"
      ],
      "execution_count": 10,
      "outputs": []
    },
    {
      "cell_type": "code",
      "metadata": {
        "id": "owzd1p1Y58do",
        "colab_type": "code",
        "colab": {
          "base_uri": "https://localhost:8080/",
          "height": 35
        },
        "outputId": "cd1d68ed-458f-4c1b-ddd7-06c50a4a501e"
      },
      "source": [
        "n = 3\n",
        "flights = [[0,1,2],[1,2,1],[2,0,10]]\n",
        "src = 1\n",
        "dst = 2\n",
        "K = 1\n",
        "findCheapestPrice(n, flights, src, dst, K)"
      ],
      "execution_count": 11,
      "outputs": [
        {
          "output_type": "execute_result",
          "data": {
            "text/plain": [
              "1"
            ]
          },
          "metadata": {
            "tags": []
          },
          "execution_count": 11
        }
      ]
    },
    {
      "cell_type": "code",
      "metadata": {
        "id": "i9FA52f1VF-L",
        "colab_type": "code",
        "colab": {
          "base_uri": "https://localhost:8080/",
          "height": 35
        },
        "outputId": "c5567628-d792-49d4-a018-4985d74abea9"
      },
      "source": [
        "n = 5\n",
        "flights = [[0,1,5],[1,2,5],[0,3,2],[3,1,2],[1,4,1],[4,2,1]]\n",
        "src = 0\n",
        "dst = 2\n",
        "K = 2\n",
        "findCheapestPrice(n, flights, src, dst, K)"
      ],
      "execution_count": 12,
      "outputs": [
        {
          "output_type": "execute_result",
          "data": {
            "text/plain": [
              "7"
            ]
          },
          "metadata": {
            "tags": []
          },
          "execution_count": 12
        }
      ]
    }
  ]
}