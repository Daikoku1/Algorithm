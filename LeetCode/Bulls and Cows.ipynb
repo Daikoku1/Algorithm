{
 "cells": [
  {
   "cell_type": "markdown",
   "metadata": {},
   "source": [
    "- Input: secret = \"1807\", guess = \"7810\"   \n",
    "    - Output: \"1A3B\"\n",
    "   \n",
    "   \n",
    "- Input: secret = \"1123\", guess = \"0111\"   \n",
    "    - Output: \"1A1B\"\n"
   ]
  },
  {
   "cell_type": "code",
   "execution_count": null,
   "metadata": {},
   "outputs": [],
   "source": [
    "# time = 36 ms (91%)\n",
    "# memory = 13.9 MB (47%)\n",
    "class Solution:\n",
    "    def getHint(self, secret: str, guess: str) -> str:\n",
    "        l1, l2 = [], []\n",
    "        A = 0\n",
    "        for s, g in zip(secret, guess):\n",
    "            if s == g:\n",
    "                A += 1\n",
    "            else:\n",
    "                l1.append(s)\n",
    "                l2.append(g)\n",
    "        print(l1, l2)\n",
    "        Count_sec = Counter(l1)       \n",
    "        Count_gue = Counter(l2)\n",
    "        B = sum([min(Count_sec[e], Count_gue[e]) for e in Count_sec])\n",
    "        return str(A) + \"A\" + str(B) + \"B\""
   ]
  },
  {
   "cell_type": "code",
   "execution_count": 10,
   "metadata": {},
   "outputs": [],
   "source": [
    "# time = 24 ms (99%)\n",
    "# memory = 13.9 MB (41%)\n",
    "from collections import defaultdict\n",
    "class Solution:\n",
    "    def getHint(self, secret: str, guess: str) -> str:\n",
    "        s_dic = defaultdict(int)\n",
    "        g_dic = defaultdict(int)\n",
    "        A = 0\n",
    "        for s, g in zip(secret, guess):\n",
    "            if s == g:\n",
    "                A += 1\n",
    "            else:\n",
    "                s_dic[s] += 1\n",
    "                g_dic[g] += 1\n",
    "        B = sum([min(s_dic[e], g_dic[e]) for e in s_dic])\n",
    "        return str(A) + \"A\" + str(B) + \"B\""
   ]
  }
 ],
 "metadata": {
  "kernelspec": {
   "display_name": "Python 3",
   "language": "python",
   "name": "python3"
  },
  "language_info": {
   "codemirror_mode": {
    "name": "ipython",
    "version": 3
   },
   "file_extension": ".py",
   "mimetype": "text/x-python",
   "name": "python",
   "nbconvert_exporter": "python",
   "pygments_lexer": "ipython3",
   "version": "3.8.5"
  }
 },
 "nbformat": 4,
 "nbformat_minor": 4
}
