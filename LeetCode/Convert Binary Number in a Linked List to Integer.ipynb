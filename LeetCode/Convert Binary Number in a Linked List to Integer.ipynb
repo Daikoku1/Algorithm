{
 "cells": [
  {
   "cell_type": "code",
   "execution_count": 5,
   "metadata": {},
   "outputs": [],
   "source": [
    "# Definition for singly-linked list.\n",
    "# class ListNode:\n",
    "#     def __init__(self, val=0, next=None):\n",
    "#         self.val = val\n",
    "#         self.next = next\n",
    "\n",
    "# Time = 16 ms, faster than 99.90% of Python3\n",
    "# Memory = 14.1 MB, less than 100.00% of Python3\n",
    "class Solution:\n",
    "    def getDecimalValue(self, head) -> int:\n",
    "        answer = str(head.val)\n",
    "        \n",
    "        while head.next:\n",
    "            head = head.next\n",
    "            answer += str(head.val)\n",
    "        \n",
    "        return int(answer, 2)"
   ]
  },
  {
   "cell_type": "code",
   "execution_count": null,
   "metadata": {},
   "outputs": [],
   "source": []
  }
 ],
 "metadata": {
  "kernelspec": {
   "display_name": "Python 3",
   "language": "python",
   "name": "python3"
  },
  "language_info": {
   "codemirror_mode": {
    "name": "ipython",
    "version": 3
   },
   "file_extension": ".py",
   "mimetype": "text/x-python",
   "name": "python",
   "nbconvert_exporter": "python",
   "pygments_lexer": "ipython3",
   "version": "3.8.5"
  }
 },
 "nbformat": 4,
 "nbformat_minor": 4
}
