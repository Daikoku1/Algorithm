{
  "nbformat": 4,
  "nbformat_minor": 0,
  "metadata": {
    "colab": {
      "name": "3sum.ipynb",
      "provenance": [],
      "authorship_tag": "ABX9TyOrfLod/9lCt5tApNeU/iOR",
      "include_colab_link": true
    },
    "kernelspec": {
      "name": "python3",
      "display_name": "Python 3"
    }
  },
  "cells": [
    {
      "cell_type": "markdown",
      "metadata": {
        "id": "view-in-github",
        "colab_type": "text"
      },
      "source": [
        "<a href=\"https://colab.research.google.com/github/Daikoku1/Algorithm_LeetCode/blob/master/3sum.ipynb\" target=\"_parent\"><img src=\"https://colab.research.google.com/assets/colab-badge.svg\" alt=\"Open In Colab\"/></a>"
      ]
    },
    {
      "cell_type": "code",
      "metadata": {
        "id": "CUUfauRxU85w",
        "colab_type": "code",
        "colab": {}
      },
      "source": [
        "# 당연히? 시간초과\n",
        "def threeSum(nums):\n",
        "    nums.sort()\n",
        "    length = len(nums)\n",
        "    result = []\n",
        "    for i in range(length):\n",
        "        for j in range(i+1, length):\n",
        "            for k in range(j+1, length):\n",
        "                if nums[i] + nums[j] + nums[k] == 0:\n",
        "                    answer = [nums[i], nums[j], nums[k]]\n",
        "                    print(answer)\n",
        "                    print('---')\n",
        "                    print(result)\n",
        "                    print('--------------------')\n",
        "                    if not answer in result:\n",
        "                        result += [answer]\n",
        "    return result"
      ],
      "execution_count": null,
      "outputs": []
    },
    {
      "cell_type": "code",
      "metadata": {
        "id": "Ja-7ZIGHU9Y-",
        "colab_type": "code",
        "colab": {
          "base_uri": "https://localhost:8080/",
          "height": 247
        },
        "outputId": "b5bfc323-1d67-4978-d0a1-236c61b8c005"
      },
      "source": [
        "nums = [-1, 0, 1, 2, -1, -4]\n",
        "threeSum(nums)"
      ],
      "execution_count": null,
      "outputs": [
        {
          "output_type": "stream",
          "text": [
            "[-1, -1, 2]\n",
            "---\n",
            "[]\n",
            "--------------------\n",
            "[-1, 0, 1]\n",
            "---\n",
            "[[-1, -1, 2]]\n",
            "--------------------\n",
            "[-1, 0, 1]\n",
            "---\n",
            "[[-1, -1, 2], [-1, 0, 1]]\n",
            "--------------------\n"
          ],
          "name": "stdout"
        },
        {
          "output_type": "execute_result",
          "data": {
            "text/plain": [
              "[[-1, -1, 2], [-1, 0, 1]]"
            ]
          },
          "metadata": {
            "tags": []
          },
          "execution_count": 2
        }
      ]
    },
    {
      "cell_type": "code",
      "metadata": {
        "id": "F1Jc8q-t8LRF",
        "colab_type": "code",
        "colab": {}
      },
      "source": [
        "# Runtime = 1372 ms\n",
        "# Memory = 17.1 MB\n",
        "def threeSum(nums):\n",
        "    nums.sort()\n",
        "    length = len(nums)\n",
        "    result = []\n",
        "    for i in range(length):\n",
        "        if i > 0 and nums[i] == nums[i-1]: continue\n",
        "        target = -1 * nums[i]\n",
        "        idx1, idx2 = i+1, length-1\n",
        "        \n",
        "        while idx1 < idx2:\n",
        "            num1, num2 = nums[idx1], nums[idx2]\n",
        "            if num1 + num2 < target:\n",
        "                idx1 += 1\n",
        "            elif num1 + num2 > target:\n",
        "                idx2 -= 1\n",
        "            else:\n",
        "                idx1 += 1\n",
        "                idx2 -= 1\n",
        "                result.append((nums[i], num1, num2))\n",
        "\n",
        "    return set(result)"
      ],
      "execution_count": null,
      "outputs": []
    },
    {
      "cell_type": "code",
      "metadata": {
        "id": "usEplzrkDmau",
        "colab_type": "code",
        "colab": {
          "base_uri": "https://localhost:8080/",
          "height": 34
        },
        "outputId": "aee84e47-0eeb-462e-cbdc-1462e61afbdd"
      },
      "source": [
        "nums = [-1, 0, 1, 2, -1, -4]\n",
        "threeSum(nums)"
      ],
      "execution_count": null,
      "outputs": [
        {
          "output_type": "execute_result",
          "data": {
            "text/plain": [
              "{(-1, -1, 2), (-1, 0, 1)}"
            ]
          },
          "metadata": {
            "tags": []
          },
          "execution_count": 5
        }
      ]
    },
    {
      "cell_type": "code",
      "metadata": {
        "id": "q53o6y7IDmqn",
        "colab_type": "code",
        "colab": {}
      },
      "source": [
        "# 성공은 했는데 너무 느려요;\n",
        "# Runtime = 2848 ms\n",
        "# Memory = 19 MB\n",
        "def threeSum(nums):\n",
        "    # p : +, n : -, z = 0\n",
        "    p, n, z = [], [], []\n",
        "    for i in nums:\n",
        "        if i == 0:\n",
        "            z.append(i)\n",
        "        elif i < 0:\n",
        "            n.append(i)\n",
        "        else:\n",
        "            p.append(i)\n",
        "\n",
        "    result = []\n",
        "    if len(z) > 2:\n",
        "        result.append([0,0,0])\n",
        "\n",
        "    P = set(p)\n",
        "    N = set(n)\n",
        "    if z:\n",
        "        for num in P:\n",
        "            if -1 * num in N:\n",
        "                result.append([0, -1 * num, num])\n",
        "\n",
        "    sub_p = []\n",
        "    p_len = len(p)\n",
        "    for idx1 in range(p_len):\n",
        "        for idx2 in range(idx1 +1, p_len):\n",
        "            target = -1 * (p[idx1] + p[idx2])\n",
        "            if target in N:\n",
        "                sub = sorted([p[idx1], p[idx2]])\n",
        "                if not sub in sub_p:\n",
        "                    sub_p.append(sub)\n",
        "                    result.append([target] + sub)\n",
        "\n",
        "    sub_n = []\n",
        "    n_len = len(n)\n",
        "    for idx1 in range(n_len):\n",
        "        for idx2 in range(idx1 +1, n_len):\n",
        "            target = -1 * (n[idx1] + n[idx2])\n",
        "            if target in P:\n",
        "                sub = sorted([n[idx1], n[idx2]])\n",
        "                if not sub in sub_n:\n",
        "                    sub_n.append(sub)\n",
        "                    result.append(sub + [target])\n",
        "\n",
        "    return result"
      ],
      "execution_count": null,
      "outputs": []
    },
    {
      "cell_type": "code",
      "metadata": {
        "id": "uihPqvznV5iJ",
        "colab_type": "code",
        "colab": {
          "base_uri": "https://localhost:8080/",
          "height": 34
        },
        "outputId": "54fb958e-888c-49ce-c00d-1f243c5a0541"
      },
      "source": [
        "nums = [-1, 0, 1, 2, -1, -4]\n",
        "threeSum(nums)"
      ],
      "execution_count": null,
      "outputs": [
        {
          "output_type": "execute_result",
          "data": {
            "text/plain": [
              "[[0, -1, 1], [-1, -1, 2]]"
            ]
          },
          "metadata": {
            "tags": []
          },
          "execution_count": 8
        }
      ]
    },
    {
      "cell_type": "code",
      "metadata": {
        "id": "Im1kqITzKg3m",
        "colab_type": "code",
        "colab": {}
      },
      "source": [
        "# nums = [0,0]일 때 오류\n",
        "# counter[val] > 1 and -2 * val in counter 에서 걸림\n",
        "# -0 = 0...........\n",
        "from collections import Counter\n",
        "import bisect\n",
        "def threeSum(nums):\n",
        "    counter = Counter(nums)\n",
        "    result = [[0,0,0]] if counter[0] > 2 else []\n",
        "\n",
        "    nums = sorted(counter)\n",
        "    for idx, val in enumerate(nums):\n",
        "        if counter[val] > 1 and -2 * val in counter:\n",
        "            result.append([val, val, -2 * val])\n",
        "\n",
        "        if val < 0:\n",
        "            target = -1 * val\n",
        "            left = idx + 1\n",
        "            right = bisect.bisect_right(nums, target / 2, left)\n",
        "            for num1 in nums[left:right]:\n",
        "                num2 = target - num1\n",
        "                if num2 in counter and num1!=num2:\n",
        "                    result.append([val, num1, num2])           \n",
        "\n",
        "    return result"
      ],
      "execution_count": null,
      "outputs": []
    },
    {
      "cell_type": "code",
      "metadata": {
        "id": "OzDRShorq_e5",
        "colab_type": "code",
        "colab": {}
      },
      "source": [
        "# 372 ms\n",
        "# 17.8 MB\n",
        "# 드디어............. 성공\n",
        "from collections import Counter\n",
        "import bisect\n",
        "class Solution:\n",
        "    def threeSum(self, nums: List[int]) -> List[List[int]]:\n",
        "\n",
        "        counter = Counter(nums)\n",
        "        result = []\n",
        "\n",
        "        nums = sorted(counter)\n",
        "        for idx, val in enumerate(nums):\n",
        "            if val == 0:\n",
        "                if counter[val] > 2:\n",
        "                    result.append([0,0,0])\n",
        "            elif counter[val] > 1 and -2 * val in counter:\n",
        "                result.append([val, val, -2 * val])\n",
        "\n",
        "            if val < 0:\n",
        "                target = -1 * val\n",
        "                left = idx + 1\n",
        "                right = bisect.bisect_right(nums, target / 2, left)\n",
        "                for num1 in nums[left:right]:\n",
        "                    num2 = target - num1\n",
        "                    if num2 in counter and num1!=num2:\n",
        "                        result.append([val, num1, num2])\n",
        "\n",
        "        return result"
      ],
      "execution_count": null,
      "outputs": []
    },
    {
      "cell_type": "code",
      "metadata": {
        "id": "WPy5rq0WKpH9",
        "colab_type": "code",
        "colab": {
          "base_uri": "https://localhost:8080/",
          "height": 34
        },
        "outputId": "632eb74d-bc48-4707-b925-fb0871d959f8"
      },
      "source": [
        "nums = [-1, 0, 1, 2, -1, -4]\n",
        "threeSum(nums)"
      ],
      "execution_count": null,
      "outputs": [
        {
          "output_type": "execute_result",
          "data": {
            "text/plain": [
              "[[-1, -1, 2], [-1, 0, 1]]"
            ]
          },
          "metadata": {
            "tags": []
          },
          "execution_count": 42
        }
      ]
    },
    {
      "cell_type": "code",
      "metadata": {
        "id": "jmCPIwwSxV17",
        "colab_type": "code",
        "colab": {
          "base_uri": "https://localhost:8080/",
          "height": 187
        },
        "outputId": "9bd8ded8-a504-4ec5-e042-61583c565454"
      },
      "source": [
        "a = [[-1, -1, 2], [-1, -1, 2], [-1, 0, 1]]\n",
        "set(a)"
      ],
      "execution_count": null,
      "outputs": [
        {
          "output_type": "error",
          "ename": "TypeError",
          "evalue": "ignored",
          "traceback": [
            "\u001b[0;31m---------------------------------------------------------------------------\u001b[0m",
            "\u001b[0;31mTypeError\u001b[0m                                 Traceback (most recent call last)",
            "\u001b[0;32m<ipython-input-43-90db4a34ce1e>\u001b[0m in \u001b[0;36m<module>\u001b[0;34m()\u001b[0m\n\u001b[1;32m      1\u001b[0m \u001b[0ma\u001b[0m \u001b[0;34m=\u001b[0m \u001b[0;34m[\u001b[0m\u001b[0;34m[\u001b[0m\u001b[0;34m-\u001b[0m\u001b[0;36m1\u001b[0m\u001b[0;34m,\u001b[0m \u001b[0;34m-\u001b[0m\u001b[0;36m1\u001b[0m\u001b[0;34m,\u001b[0m \u001b[0;36m2\u001b[0m\u001b[0;34m]\u001b[0m\u001b[0;34m,\u001b[0m \u001b[0;34m[\u001b[0m\u001b[0;34m-\u001b[0m\u001b[0;36m1\u001b[0m\u001b[0;34m,\u001b[0m \u001b[0;34m-\u001b[0m\u001b[0;36m1\u001b[0m\u001b[0;34m,\u001b[0m \u001b[0;36m2\u001b[0m\u001b[0;34m]\u001b[0m\u001b[0;34m,\u001b[0m \u001b[0;34m[\u001b[0m\u001b[0;34m-\u001b[0m\u001b[0;36m1\u001b[0m\u001b[0;34m,\u001b[0m \u001b[0;36m0\u001b[0m\u001b[0;34m,\u001b[0m \u001b[0;36m1\u001b[0m\u001b[0;34m]\u001b[0m\u001b[0;34m]\u001b[0m\u001b[0;34m\u001b[0m\u001b[0;34m\u001b[0m\u001b[0m\n\u001b[0;32m----> 2\u001b[0;31m \u001b[0mset\u001b[0m\u001b[0;34m(\u001b[0m\u001b[0ma\u001b[0m\u001b[0;34m)\u001b[0m\u001b[0;34m\u001b[0m\u001b[0;34m\u001b[0m\u001b[0m\n\u001b[0m",
            "\u001b[0;31mTypeError\u001b[0m: unhashable type: 'list'"
          ]
        }
      ]
    },
    {
      "cell_type": "code",
      "metadata": {
        "id": "PAY6zq_FxaCX",
        "colab_type": "code",
        "colab": {
          "base_uri": "https://localhost:8080/",
          "height": 34
        },
        "outputId": "b241248a-5aed-46b9-b8fe-9726bb2c2c39"
      },
      "source": [
        "a = [(-1, -1, 2), (-1, -1, 2), (-1, 0, 1)]\n",
        "set(a)"
      ],
      "execution_count": null,
      "outputs": [
        {
          "output_type": "execute_result",
          "data": {
            "text/plain": [
              "{(-1, -1, 2), (-1, 0, 1)}"
            ]
          },
          "metadata": {
            "tags": []
          },
          "execution_count": 44
        }
      ]
    },
    {
      "cell_type": "code",
      "metadata": {
        "id": "0G_hwAA_xe7P",
        "colab_type": "code",
        "colab": {
          "base_uri": "https://localhost:8080/",
          "height": 34
        },
        "outputId": "1faf3bb1-64e8-46bf-fa91-509a9d8b8be5"
      },
      "source": [
        "a = Counter( [-1, 0, 1, 2, -1, -4])\n",
        "a"
      ],
      "execution_count": null,
      "outputs": [
        {
          "output_type": "execute_result",
          "data": {
            "text/plain": [
              "Counter({-4: 1, -1: 2, 0: 1, 1: 1, 2: 1})"
            ]
          },
          "metadata": {
            "tags": []
          },
          "execution_count": 52
        }
      ]
    },
    {
      "cell_type": "code",
      "metadata": {
        "id": "_jPNUGOt0TiA",
        "colab_type": "code",
        "colab": {
          "base_uri": "https://localhost:8080/",
          "height": 34
        },
        "outputId": "a02fcbc2-810b-4d39-f514-7032b223fa70"
      },
      "source": [
        "sorted(a)"
      ],
      "execution_count": null,
      "outputs": [
        {
          "output_type": "execute_result",
          "data": {
            "text/plain": [
              "[-4, -1, 0, 1, 2]"
            ]
          },
          "metadata": {
            "tags": []
          },
          "execution_count": 53
        }
      ]
    },
    {
      "cell_type": "code",
      "metadata": {
        "id": "ixWXZjK20qFo",
        "colab_type": "code",
        "colab": {
          "base_uri": "https://localhost:8080/",
          "height": 34
        },
        "outputId": "ff5922f4-e7d2-4df4-c678-eb80a22655c4"
      },
      "source": [
        "a = [-4, -2, -1, 5]\n",
        "bisect.bisect_right(a, -1)"
      ],
      "execution_count": null,
      "outputs": [
        {
          "output_type": "execute_result",
          "data": {
            "text/plain": [
              "3"
            ]
          },
          "metadata": {
            "tags": []
          },
          "execution_count": 55
        }
      ]
    },
    {
      "cell_type": "code",
      "metadata": {
        "id": "07n90LEz3yKL",
        "colab_type": "code",
        "colab": {
          "base_uri": "https://localhost:8080/",
          "height": 34
        },
        "outputId": "2d5f0f07-8e05-4c09-a366-a4a38617b88e"
      },
      "source": [
        "a[:3]"
      ],
      "execution_count": null,
      "outputs": [
        {
          "output_type": "execute_result",
          "data": {
            "text/plain": [
              "[-4, -2, -1]"
            ]
          },
          "metadata": {
            "tags": []
          },
          "execution_count": 56
        }
      ]
    },
    {
      "cell_type": "code",
      "metadata": {
        "id": "0Y8aVJoD39_9",
        "colab_type": "code",
        "colab": {}
      },
      "source": [
        ""
      ],
      "execution_count": null,
      "outputs": []
    }
  ]
}