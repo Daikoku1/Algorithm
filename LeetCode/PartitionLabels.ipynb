{
 "cells": [
  {
   "cell_type": "code",
   "execution_count": 44,
   "metadata": {},
   "outputs": [],
   "source": [
    "# time : 44 ms(61%)\n",
    "# memory : 13.8 MB (56%)\n",
    "from collections import defaultdict\n",
    "class Solution:\n",
    "    def partitionLabels(self, S):\n",
    "        dic = defaultdict(list)\n",
    "        for i, v in enumerate(S):\n",
    "            dic[v].append(i)\n",
    "        \n",
    "        result = []\n",
    "        start = 0\n",
    "        now = 0\n",
    "        max_idx = dic[S[0]][-1]\n",
    "        while True:\n",
    "            sub_max = 0\n",
    "            for j in S[now:max_idx+1]:\n",
    "                sub_max = max(dic[j][-1], sub_max)\n",
    "            \n",
    "            if max_idx == len(S) -1:\n",
    "                result.append(max_idx - start +1)\n",
    "                break\n",
    "                \n",
    "            now = max_idx + 1\n",
    "            if max_idx >= sub_max:\n",
    "                result.append(max_idx - start+1)\n",
    "                start = max_idx + 1\n",
    "                max_idx = dic[S[start]][-1]\n",
    "            else:\n",
    "                max_idx = sub_max\n",
    "        \n",
    "        return result"
   ]
  },
  {
   "cell_type": "code",
   "execution_count": 45,
   "metadata": {},
   "outputs": [],
   "source": [
    "sol = Solution()"
   ]
  },
  {
   "cell_type": "code",
   "execution_count": 46,
   "metadata": {},
   "outputs": [
    {
     "data": {
      "text/plain": [
       "[9, 7, 8]"
      ]
     },
     "execution_count": 46,
     "metadata": {},
     "output_type": "execute_result"
    }
   ],
   "source": [
    "S = \"ababcbacadefegdehijhklij\"\n",
    "sol.partitionLabels(S)"
   ]
  },
  {
   "cell_type": "code",
   "execution_count": null,
   "metadata": {},
   "outputs": [],
   "source": []
  },
  {
   "cell_type": "code",
   "execution_count": null,
   "metadata": {},
   "outputs": [],
   "source": []
  }
 ],
 "metadata": {
  "kernelspec": {
   "display_name": "Python 3",
   "language": "python",
   "name": "python3"
  },
  "language_info": {
   "codemirror_mode": {
    "name": "ipython",
    "version": 3
   },
   "file_extension": ".py",
   "mimetype": "text/x-python",
   "name": "python",
   "nbconvert_exporter": "python",
   "pygments_lexer": "ipython3",
   "version": "3.8.3"
  }
 },
 "nbformat": 4,
 "nbformat_minor": 4
}
