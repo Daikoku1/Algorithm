{
 "cells": [
  {
   "cell_type": "markdown",
   "id": "df74352a",
   "metadata": {},
   "source": [
    "# Implement Trie (Prefix Tree)\n",
    "- 192 ms, faster than 54.06% of Python3 online submissions for Implement Trie (Prefix Tree).\n",
    "- 32.7 MB, less than 28.13% of Python3 online submissions for Implement Trie (Prefix Tree)."
   ]
  },
  {
   "cell_type": "code",
   "execution_count": null,
   "id": "0eb798bb",
   "metadata": {},
   "outputs": [],
   "source": [
    "class Node:\n",
    "    def __init__(self, key):\n",
    "        self.key = key\n",
    "        self.child = {}\n",
    "\n",
    "class Trie:\n",
    "    def __init__(self):\n",
    "        self.head = Node(None)\n",
    "\n",
    "    def insert(self, word: str) -> None:\n",
    "        now = self.head\n",
    "        \n",
    "        for s in word:\n",
    "            if s not in now.child:\n",
    "                now.child[s] = Node(s)\n",
    "            now = now.child[s]\n",
    "        now.child['*'] = True\n",
    "\n",
    "    def search(self, word: str) -> bool:\n",
    "        now = self.head\n",
    "        \n",
    "        for s in word:\n",
    "            if s not in now.child: return False\n",
    "            now = now.child[s]\n",
    "        \n",
    "        if '*' in now.child: return True\n",
    "        else: return False\n",
    "\n",
    "    def startsWith(self, prefix: str) -> bool:\n",
    "        now = self.head\n",
    "        \n",
    "        for s in prefix:\n",
    "            if s not in now.child: return False\n",
    "            now = now.child[s]\n",
    "        \n",
    "        return True\n",
    "\n",
    "# Your Trie object will be instantiated and called as such:\n",
    "# obj = Trie()\n",
    "# obj.insert(word)\n",
    "# param_2 = obj.search(word)\n",
    "# param_3 = obj.startsWith(prefix)"
   ]
  }
 ],
 "metadata": {
  "kernelspec": {
   "display_name": "Python 3",
   "language": "python",
   "name": "python3"
  },
  "language_info": {
   "codemirror_mode": {
    "name": "ipython",
    "version": 3
   },
   "file_extension": ".py",
   "mimetype": "text/x-python",
   "name": "python",
   "nbconvert_exporter": "python",
   "pygments_lexer": "ipython3",
   "version": "3.8.8"
  }
 },
 "nbformat": 4,
 "nbformat_minor": 5
}
