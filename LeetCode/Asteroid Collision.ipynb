{
 "cells": [
  {
   "cell_type": "code",
   "execution_count": 14,
   "metadata": {},
   "outputs": [],
   "source": [
    "# Time = 92 ms, faster than 91.23% of Python3 \n",
    "# Memory = 15.3 MB, less than 99.32% of Python3\n",
    "class Solution:\n",
    "    def asteroidCollision(self, asteroids):\n",
    "        answer = []\n",
    "        for val in asteroids:\n",
    "            while answer and answer[-1] > 0 and val < 0:\n",
    "                sum_n = answer[-1] + val\n",
    "                if sum_n < 0:\n",
    "                    answer.pop()\n",
    "                elif sum_n == 0:\n",
    "                    answer.pop()\n",
    "                    break\n",
    "                else:\n",
    "                    break\n",
    "            else:\n",
    "                answer.append(val)\n",
    "        return answer"
   ]
  },
  {
   "cell_type": "code",
   "execution_count": 15,
   "metadata": {},
   "outputs": [
    {
     "data": {
      "text/plain": [
       "[10]"
      ]
     },
     "execution_count": 15,
     "metadata": {},
     "output_type": "execute_result"
    }
   ],
   "source": [
    "asteroids = [10,2,-5]\n",
    "sol = Solution()\n",
    "sol.asteroidCollision(asteroids)"
   ]
  },
  {
   "cell_type": "code",
   "execution_count": 20,
   "metadata": {},
   "outputs": [
    {
     "name": "stdout",
     "output_type": "stream",
     "text": [
      "While문이 작동중입니다.\n",
      "While문이 작동중입니다.\n"
     ]
    }
   ],
   "source": [
    "n, m = 4, 2\n",
    "while n:\n",
    "    n -= 1\n",
    "    m -= 1\n",
    "    print('While문이 작동중입니다.')\n",
    "    if m == 0: break\n",
    "else:\n",
    "    print('else아래 코드가 작동합니다')"
   ]
  },
  {
   "cell_type": "code",
   "execution_count": 21,
   "metadata": {},
   "outputs": [
    {
     "name": "stdout",
     "output_type": "stream",
     "text": [
      "While문이 작동중입니다.\n",
      "While문이 작동중입니다.\n",
      "While문이 작동중입니다.\n",
      "While문이 작동중입니다.\n",
      "else아래 코드가 작동합니다\n"
     ]
    }
   ],
   "source": [
    "n, m = 4, 5\n",
    "while n:\n",
    "    n -= 1\n",
    "    m -= 1\n",
    "    print('While문이 작동중입니다.')\n",
    "    if m == 0: break\n",
    "else:\n",
    "    print('else아래 코드가 작동합니다')"
   ]
  },
  {
   "cell_type": "code",
   "execution_count": null,
   "metadata": {},
   "outputs": [],
   "source": []
  }
 ],
 "metadata": {
  "kernelspec": {
   "display_name": "Python 3",
   "language": "python",
   "name": "python3"
  },
  "language_info": {
   "codemirror_mode": {
    "name": "ipython",
    "version": 3
   },
   "file_extension": ".py",
   "mimetype": "text/x-python",
   "name": "python",
   "nbconvert_exporter": "python",
   "pygments_lexer": "ipython3",
   "version": "3.8.5"
  }
 },
 "nbformat": 4,
 "nbformat_minor": 4
}
