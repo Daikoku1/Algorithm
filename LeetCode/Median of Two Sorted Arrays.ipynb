{
 "cells": [
  {
   "cell_type": "markdown",
   "id": "01b1d073",
   "metadata": {},
   "source": [
    "# 코드\n",
    "- 213 ms, faster than 5.06% of Python3 online submissions for Median of Two Sorted Arrays.\n",
    "- 14.4 MB, less than 93.54% of Python3 online submissions for Median of Two Sorted Arrays."
   ]
  },
  {
   "cell_type": "code",
   "execution_count": null,
   "id": "7b7bc3b9",
   "metadata": {},
   "outputs": [],
   "source": [
    "class Solution:\n",
    "    def findMedianSortedArrays(self, nums1: List[int], nums2: List[int]) -> float:\n",
    "        q, r = divmod(len(nums1) + len(nums2), 2)\n",
    "        idx1, idx2 = 0, 0\n",
    "        ans = []\n",
    "        while len(ans) < q+1:\n",
    "            if idx1 == len(nums1): \n",
    "                ans.append(nums2[idx2])\n",
    "                idx2 += 1\n",
    "            elif idx2 == len(nums2):\n",
    "                ans.append(nums1[idx1])\n",
    "                idx1 += 1\n",
    "            elif nums1[idx1] <= nums2[idx2]: \n",
    "                ans.append(nums1[idx1])\n",
    "                idx1 += 1\n",
    "            else: \n",
    "                ans.append(nums2[idx2])\n",
    "                idx2 += 1\n",
    "\n",
    "        if r: return ans[-1]\n",
    "        else: return (ans[-1] + ans[-2])/2"
   ]
  },
  {
   "cell_type": "code",
   "execution_count": 6,
   "id": "260b5a79",
   "metadata": {},
   "outputs": [],
   "source": [
    "def findMedianSortedArrays(nums1, nums2):\n",
    "    q, r = divmod(len(nums1) + len(nums2), 2)\n",
    "    idx1, idx2 = 0, 0\n",
    "    ans = []\n",
    "    while len(ans) < q+1:\n",
    "        if idx1 == len(nums1): \n",
    "            ans.append(nums2[idx2])\n",
    "            idx2 += 1\n",
    "        elif idx2 == len(nums2):\n",
    "            ans.append(nums1[idx1])\n",
    "            idx1 += 1\n",
    "        elif nums1[idx1] <= nums2[idx2]: \n",
    "            ans.append(nums1[idx1])\n",
    "            idx1 += 1\n",
    "        else: \n",
    "            ans.append(nums2[idx2])\n",
    "            idx2 += 1\n",
    "    print(ans)\n",
    "    if r: return ans[-1]\n",
    "    else: return (ans[-1] + ans[-2])//2"
   ]
  },
  {
   "cell_type": "code",
   "execution_count": 8,
   "id": "e9c50a0f",
   "metadata": {},
   "outputs": [
    {
     "name": "stdout",
     "output_type": "stream",
     "text": [
      "[1, 2, 3]\n"
     ]
    },
    {
     "data": {
      "text/plain": [
       "2"
      ]
     },
     "execution_count": 8,
     "metadata": {},
     "output_type": "execute_result"
    }
   ],
   "source": [
    "nums1 = [1,2]\n",
    "nums2 = [3,4]\n",
    "findMedianSortedArrays(nums1, nums2)"
   ]
  },
  {
   "cell_type": "code",
   "execution_count": null,
   "id": "952888dd",
   "metadata": {},
   "outputs": [],
   "source": []
  }
 ],
 "metadata": {
  "kernelspec": {
   "display_name": "Python 3",
   "language": "python",
   "name": "python3"
  },
  "language_info": {
   "codemirror_mode": {
    "name": "ipython",
    "version": 3
   },
   "file_extension": ".py",
   "mimetype": "text/x-python",
   "name": "python",
   "nbconvert_exporter": "python",
   "pygments_lexer": "ipython3",
   "version": "3.8.8"
  }
 },
 "nbformat": 4,
 "nbformat_minor": 5
}
