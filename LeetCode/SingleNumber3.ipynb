{
  "nbformat": 4,
  "nbformat_minor": 0,
  "metadata": {
    "colab": {
      "name": "SingleNumber3.ipynb",
      "provenance": [],
      "authorship_tag": "ABX9TyMyjSQCOUrlPAtVdyTcBahA"
    },
    "kernelspec": {
      "name": "python3",
      "display_name": "Python 3"
    }
  },
  "cells": [
    {
      "cell_type": "code",
      "metadata": {
        "id": "k6NGeRA1-BKJ",
        "colab_type": "code",
        "colab": {
          "base_uri": "https://localhost:8080/",
          "height": 34
        },
        "outputId": "2a4d08a6-77b4-4e53-e611-bf63b30c1f10"
      },
      "source": [
        "from collections import Counter\n",
        "import operator\n",
        "class Solution:\n",
        "    def singleNumber(self, nums: List[int]) -> List[int]:\n",
        "        num = sorted(Counter(nums).items(), key = operator.itemgetter(1))\n",
        "        return [num[0][0]] + [num[1][0]]"
      ],
      "execution_count": null,
      "outputs": [
        {
          "output_type": "execute_result",
          "data": {
            "text/plain": [
              "Counter({1: 2, 2: 2, 3: 1, 5: 1})"
            ]
          },
          "metadata": {
            "tags": []
          },
          "execution_count": 1
        }
      ]
    },
    {
      "cell_type": "code",
      "metadata": {
        "id": "8Rsvl5x3_JB3",
        "colab_type": "code",
        "colab": {}
      },
      "source": [
        ""
      ],
      "execution_count": null,
      "outputs": []
    }
  ]
}