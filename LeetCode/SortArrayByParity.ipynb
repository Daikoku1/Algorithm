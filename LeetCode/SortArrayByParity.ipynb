{
  "nbformat": 4,
  "nbformat_minor": 0,
  "metadata": {
    "colab": {
      "name": "SortArrayByParity.ipynb",
      "provenance": [],
      "collapsed_sections": [],
      "authorship_tag": "ABX9TyPfyMMaoMb8OrJ0Je6wxEQx",
      "include_colab_link": true
    },
    "kernelspec": {
      "name": "python3",
      "display_name": "Python 3"
    }
  },
  "cells": [
    {
      "cell_type": "markdown",
      "metadata": {
        "id": "view-in-github",
        "colab_type": "text"
      },
      "source": [
        "<a href=\"https://colab.research.google.com/github/Daikoku1/Algorithm_LeetCode/blob/master/SortArrayByParity.ipynb\" target=\"_parent\"><img src=\"https://colab.research.google.com/assets/colab-badge.svg\" alt=\"Open In Colab\"/></a>"
      ]
    },
    {
      "cell_type": "code",
      "metadata": {
        "id": "FY3R3LYEchSQ",
        "colab_type": "code",
        "colab": {
          "base_uri": "https://localhost:8080/",
          "height": 33
        },
        "outputId": "d8f0b7ed-6f1a-4ec3-f4bb-95faf05bbe41"
      },
      "source": [
        "# 72 ms (91 %)\n",
        "# 14.5 MB (11.6%)\n",
        "class Solution:\n",
        "    def sortArrayByParity(self, A: List[int]) -> List[int]:\n",
        "        start = []\n",
        "        end = []\n",
        "        for i in A:\n",
        "            if i%2:\n",
        "                end.append(i)\n",
        "            else:\n",
        "                start.append(i)\n",
        "        \n",
        "        for j in end:\n",
        "            start.append(j)\n",
        "        return start"
      ],
      "execution_count": null,
      "outputs": [
        {
          "output_type": "execute_result",
          "data": {
            "text/plain": [
              "3"
            ]
          },
          "metadata": {
            "tags": []
          },
          "execution_count": 1
        }
      ]
    },
    {
      "cell_type": "code",
      "metadata": {
        "id": "EcLhZLewciIa",
        "colab_type": "code",
        "colab": {
          "base_uri": "https://localhost:8080/",
          "height": 33
        },
        "outputId": "c8568eff-cea5-4e32-9c03-8ea59a2463a2"
      },
      "source": [
        "# 88 ms\n",
        "class Solution:\n",
        "    def sortArrayByParity(self, A: List[int]) -> List[int]:\n",
        "        start = []\n",
        "        end = []\n",
        "        for i in A:\n",
        "            if i%2:\n",
        "                end.append(i)\n",
        "            else:\n",
        "                start.append(i)\n",
        "        \n",
        "        return start + end"
      ],
      "execution_count": null,
      "outputs": [
        {
          "output_type": "execute_result",
          "data": {
            "text/plain": [
              "1"
            ]
          },
          "metadata": {
            "tags": []
          },
          "execution_count": 4
        }
      ]
    },
    {
      "cell_type": "code",
      "metadata": {
        "id": "CpwiKpiRdCPE",
        "colab_type": "code",
        "colab": {
          "base_uri": "https://localhost:8080/",
          "height": 33
        },
        "outputId": "6bc23e3d-d991-46a2-c492-4500a248ad91"
      },
      "source": [
        "# 84 ms (73%)\n",
        "class Solution:\n",
        "    def sortArrayByParity(self, A):\n",
        "        start = []\n",
        "        end = []\n",
        "        for i in A:\n",
        "            if i & 1:\n",
        "                end.append(i)\n",
        "            else:\n",
        "                start.append(i)\n",
        "        \n",
        "        for j in end:\n",
        "            start.append(j)\n",
        "        return start"
      ],
      "execution_count": null,
      "outputs": [
        {
          "output_type": "execute_result",
          "data": {
            "text/plain": [
              "0"
            ]
          },
          "metadata": {
            "tags": []
          },
          "execution_count": 2
        }
      ]
    }
  ]
}