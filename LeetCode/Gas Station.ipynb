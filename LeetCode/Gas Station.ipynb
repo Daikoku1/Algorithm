{
 "cells": [
  {
   "cell_type": "code",
   "execution_count": 27,
   "metadata": {},
   "outputs": [],
   "source": [
    "# Time = 56 ms(67%)\n",
    "# Memory = 14.7 MB(78%)\n",
    "class Solution:\n",
    "    def canCompleteCircuit(self, gas, cost):\n",
    "        gap = [g - c for c, g in zip(cost, gas)]\n",
    "        l = len(gap)\n",
    "        cumsum, start = 0, 0\n",
    "        for i in range(2*l):\n",
    "            cumsum += gap[i%l]\n",
    "            if cumsum < 0:\n",
    "                cumsum = 0\n",
    "                start = i + 1\n",
    "                \n",
    "        return -1 if start > l else start"
   ]
  },
  {
   "cell_type": "code",
   "execution_count": 23,
   "metadata": {},
   "outputs": [],
   "source": [
    "sol = Solution()"
   ]
  },
  {
   "cell_type": "code",
   "execution_count": 24,
   "metadata": {},
   "outputs": [
    {
     "data": {
      "text/plain": [
       "4"
      ]
     },
     "execution_count": 24,
     "metadata": {},
     "output_type": "execute_result"
    }
   ],
   "source": [
    "gas = [5,1,2,3,4]\n",
    "cost = [4,4,1,5,1]\n",
    "# cost = [4,4,1,5,1]\n",
    "sol.canCompleteCircuit(gas, cost)"
   ]
  },
  {
   "cell_type": "code",
   "execution_count": 26,
   "metadata": {},
   "outputs": [],
   "source": [
    "# time = 48 ms, faster than 94.93%\n",
    "# Memory = 14.7 MB, less than 89.96%\n",
    "class Solution:\n",
    "    def canCompleteCircuit(self, gas, cost):\n",
    "        if sum(cost) > sum(gas):\n",
    "            return -1\n",
    "        \n",
    "        l = len(gas)\n",
    "        cumsum, start = 0, 0\n",
    "        for i in range(l):\n",
    "            cumsum += gas[i%l] - cost[i%l]\n",
    "            if cumsum < 0:\n",
    "                cumsum = 0\n",
    "                start = i + 1\n",
    "                \n",
    "        return -1 if start > l else start"
   ]
  },
  {
   "cell_type": "code",
   "execution_count": null,
   "metadata": {},
   "outputs": [],
   "source": []
  }
 ],
 "metadata": {
  "kernelspec": {
   "display_name": "Python 3",
   "language": "python",
   "name": "python3"
  },
  "language_info": {
   "codemirror_mode": {
    "name": "ipython",
    "version": 3
   },
   "file_extension": ".py",
   "mimetype": "text/x-python",
   "name": "python",
   "nbconvert_exporter": "python",
   "pygments_lexer": "ipython3",
   "version": "3.8.5"
  }
 },
 "nbformat": 4,
 "nbformat_minor": 4
}
