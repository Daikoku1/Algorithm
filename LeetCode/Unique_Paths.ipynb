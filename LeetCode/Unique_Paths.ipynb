{
  "nbformat": 4,
  "nbformat_minor": 0,
  "metadata": {
    "colab": {
      "name": "Unique Paths.ipynb",
      "provenance": [],
      "authorship_tag": "ABX9TyMPRR1R4od6gNhcjRwddOrO",
      "include_colab_link": true
    },
    "kernelspec": {
      "name": "python3",
      "display_name": "Python 3"
    }
  },
  "cells": [
    {
      "cell_type": "markdown",
      "metadata": {
        "id": "view-in-github",
        "colab_type": "text"
      },
      "source": [
        "<a href=\"https://colab.research.google.com/github/Daikoku1/Algorithm_LeetCode/blob/master/Unique_Paths.ipynb\" target=\"_parent\"><img src=\"https://colab.research.google.com/assets/colab-badge.svg\" alt=\"Open In Colab\"/></a>"
      ]
    },
    {
      "cell_type": "code",
      "metadata": {
        "id": "lW0jTpF97s2t",
        "colab_type": "code",
        "colab": {}
      },
      "source": [
        "# 순열을 이용한 코드\n",
        "# 속도가 느리네?\n",
        "import math\n",
        "class Solution:\n",
        "    def uniquePaths(self, m: int, n: int) -> int:\n",
        "        return int(math.factorial(m+n -2) / (math.factorial(m-1) * math.factorial(n-1)))"
      ],
      "execution_count": 1,
      "outputs": []
    },
    {
      "cell_type": "code",
      "metadata": {
        "id": "V-IiwSIK73_I",
        "colab_type": "code",
        "colab": {}
      },
      "source": [
        "# dp를 써보자\n",
        "class Solution:\n",
        "    def uniquePaths(self, m: int, n: int) -> int:\n",
        "        dp = [[0] * (m+1) for _ in range(n+1)]\n",
        "        dp[1][1] = 1\n",
        "        for i in range(n):\n",
        "            for j in range(m):\n",
        "                dp[i+1][j+1] = dp[i][j+1] + dp[i+1][j]\n",
        "        return dp[n+1][m+1]"
      ],
      "execution_count": null,
      "outputs": []
    }
  ]
}