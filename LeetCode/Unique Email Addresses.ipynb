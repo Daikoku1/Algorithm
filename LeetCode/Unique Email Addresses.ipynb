{
 "cells": [
  {
   "cell_type": "markdown",
   "id": "2bc0d8ff",
   "metadata": {},
   "source": [
    "- Runtime: 48 ms\n",
    "- Memory Usage: 14.4 MB"
   ]
  },
  {
   "cell_type": "code",
   "execution_count": 8,
   "id": "dd1edb8a",
   "metadata": {},
   "outputs": [],
   "source": [
    "def numUniqueEmails(emails):\n",
    "    ans = set()\n",
    "    for email in emails:\n",
    "        local, domain = email.split('@')\n",
    "        local = local.replace('.', '')\n",
    "        local = local.split('+')[0]\n",
    "        ans.add(local + '@' + domain)\n",
    "    print(ans)\n",
    "    return len(ans)"
   ]
  },
  {
   "cell_type": "code",
   "execution_count": 9,
   "id": "8d5fbd9e",
   "metadata": {},
   "outputs": [
    {
     "name": "stdout",
     "output_type": "stream",
     "text": [
      "{'testemail@leetcode.com', 'testemail@lee.tcode.com'}\n"
     ]
    },
    {
     "data": {
      "text/plain": [
       "2"
      ]
     },
     "execution_count": 9,
     "metadata": {},
     "output_type": "execute_result"
    }
   ],
   "source": [
    "emails = [\"test.email+alex@leetcode.com\",\"test.e.mail+bob.cathy@leetcode.com\",\"testemail+david@lee.tcode.com\"]\n",
    "numUniqueEmails(emails)"
   ]
  },
  {
   "cell_type": "code",
   "execution_count": null,
   "id": "d05b61c4",
   "metadata": {},
   "outputs": [],
   "source": []
  }
 ],
 "metadata": {
  "kernelspec": {
   "display_name": "Python 3",
   "language": "python",
   "name": "python3"
  },
  "language_info": {
   "codemirror_mode": {
    "name": "ipython",
    "version": 3
   },
   "file_extension": ".py",
   "mimetype": "text/x-python",
   "name": "python",
   "nbconvert_exporter": "python",
   "pygments_lexer": "ipython3",
   "version": "3.8.8"
  }
 },
 "nbformat": 4,
 "nbformat_minor": 5
}
