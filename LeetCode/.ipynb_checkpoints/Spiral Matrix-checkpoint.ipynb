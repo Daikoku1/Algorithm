{
 "cells": [
  {
   "cell_type": "markdown",
   "id": "cc802237",
   "metadata": {},
   "source": [
    "- Runtime: 29 ms\n",
    "- Memory Usage: 14.2 MB"
   ]
  },
  {
   "cell_type": "code",
   "execution_count": 1,
   "id": "2767bad3",
   "metadata": {},
   "outputs": [],
   "source": [
    "def spiralOrder(matrix):\n",
    "    d = [[0, 1], [1, 0], [0, -1], [-1, 0]]\n",
    "    d_idx = 0\n",
    "\n",
    "    ans = []\n",
    "    x, y = 0, 0\n",
    "    while True:\n",
    "        ans.append(matrix[x][y])\n",
    "        matrix[x][y] = 101\n",
    "\n",
    "        n_x, n_y = x + d[d_idx][0], y + d[d_idx][1]\n",
    "        if 0 <= n_x < len(matrix) and 0 <= n_y < len(matrix[0]) and matrix[n_x][n_y] != 101:\n",
    "            x, y = n_x, n_y\n",
    "        else:\n",
    "            d_idx = (d_idx + 1) % 4\n",
    "            n_x, n_y = x + d[d_idx][0], y + d[d_idx][1]\n",
    "            if 0 <= n_x < len(matrix) and 0 <= n_y < len(matrix[0]) and matrix[n_x][n_y] != 101:\n",
    "                x, y = n_x, n_y\n",
    "            else:\n",
    "                break\n",
    "    return ans"
   ]
  },
  {
   "cell_type": "code",
   "execution_count": 2,
   "id": "47b4f79c",
   "metadata": {},
   "outputs": [
    {
     "data": {
      "text/plain": [
       "[1, 2, 3, 6, 9, 8, 7, 4, 5]"
      ]
     },
     "execution_count": 2,
     "metadata": {},
     "output_type": "execute_result"
    }
   ],
   "source": [
    "matrix = [[1,2,3],[4,5,6],[7,8,9]]\n",
    "spiralOrder(matrix)"
   ]
  },
  {
   "cell_type": "code",
   "execution_count": 3,
   "id": "5c000648",
   "metadata": {},
   "outputs": [
    {
     "data": {
      "text/plain": [
       "[2, 5, 4, -1, 0, 8]"
      ]
     },
     "execution_count": 3,
     "metadata": {},
     "output_type": "execute_result"
    }
   ],
   "source": [
    "matrix =[[2,5],[8,4],[0,-1]]\n",
    "spiralOrder(matrix)\n",
    "# [2,5,4,-1,0,8]"
   ]
  },
  {
   "cell_type": "code",
   "execution_count": null,
   "id": "94bddbe8",
   "metadata": {},
   "outputs": [],
   "source": []
  }
 ],
 "metadata": {
  "kernelspec": {
   "display_name": "Python 3",
   "language": "python",
   "name": "python3"
  },
  "language_info": {
   "codemirror_mode": {
    "name": "ipython",
    "version": 3
   },
   "file_extension": ".py",
   "mimetype": "text/x-python",
   "name": "python",
   "nbconvert_exporter": "python",
   "pygments_lexer": "ipython3",
   "version": "3.8.8"
  }
 },
 "nbformat": 4,
 "nbformat_minor": 5
}
