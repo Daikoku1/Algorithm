{
 "cells": [
  {
   "cell_type": "code",
   "execution_count": 3,
   "id": "5d599997",
   "metadata": {},
   "outputs": [],
   "source": [
    "class Solution:\n",
    "    def reverse(self, x):\n",
    "        x = str(x)\n",
    "        minus = False\n",
    "        if x[0] == '-': minus = True\n",
    "\n",
    "        if minus :\n",
    "            num = -1 * int(x[1:][::-1])\n",
    "            if num < -1 * 2**31 : return 1\n",
    "            else: return num\n",
    "        else: \n",
    "            num = int(x[::-1])\n",
    "            if num >= 2**31 : return 1\n",
    "            else: return num"
   ]
  },
  {
   "cell_type": "code",
   "execution_count": null,
   "id": "f22002c9",
   "metadata": {},
   "outputs": [],
   "source": [
    "class Solution:\n",
    "    def reverse(self, x):\n",
    "        sign = [1,-1][x < 0]\n",
    "        rst = sign * int(str(abs(x))[::-1])\n",
    "        return rst if -(2**31)-1 < rst < 2**31 else 0"
   ]
  }
 ],
 "metadata": {
  "kernelspec": {
   "display_name": "Python 3",
   "language": "python",
   "name": "python3"
  },
  "language_info": {
   "codemirror_mode": {
    "name": "ipython",
    "version": 3
   },
   "file_extension": ".py",
   "mimetype": "text/x-python",
   "name": "python",
   "nbconvert_exporter": "python",
   "pygments_lexer": "ipython3",
   "version": "3.8.8"
  }
 },
 "nbformat": 4,
 "nbformat_minor": 5
}
