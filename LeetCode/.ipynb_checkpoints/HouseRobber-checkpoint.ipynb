{
 "cells": [
  {
   "cell_type": "code",
   "execution_count": 8,
   "metadata": {},
   "outputs": [],
   "source": [
    "# time = : 60 ms(faster than 5.32%)\n",
    "# memory = 13.9 MB (less than 27.94%)\n",
    "class Solution:\n",
    "    def rob(self, nums):\n",
    "        if len(nums) < 2:\n",
    "            return sum(nums)\n",
    "        dp = [0] * len(nums)\n",
    "        for idx, num in enumerate(nums):\n",
    "            dp[idx] = max(dp[idx-2]+num, dp[idx-1])\n",
    "        return dp[-1]"
   ]
  },
  {
   "cell_type": "code",
   "execution_count": 9,
   "metadata": {},
   "outputs": [
    {
     "name": "stdout",
     "output_type": "stream",
     "text": [
      "0 1\n",
      "[1, 0, 0, 0]\n",
      "1 2\n",
      "[1, 2, 0, 0]\n",
      "2 3\n",
      "[1, 2, 4, 0]\n",
      "3 1\n",
      "[1, 2, 4, 4]\n"
     ]
    },
    {
     "data": {
      "text/plain": [
       "4"
      ]
     },
     "execution_count": 9,
     "metadata": {},
     "output_type": "execute_result"
    }
   ],
   "source": [
    "sol = Solution()\n",
    "nums = [1,2,3,1]\n",
    "sol.rob(nums)"
   ]
  },
  {
   "cell_type": "code",
   "execution_count": 10,
   "metadata": {},
   "outputs": [
    {
     "name": "stdout",
     "output_type": "stream",
     "text": [
      "0 2\n",
      "[2, 0, 0, 0, 0]\n",
      "1 7\n",
      "[2, 7, 0, 0, 0]\n",
      "2 9\n",
      "[2, 7, 11, 0, 0]\n",
      "3 3\n",
      "[2, 7, 11, 11, 0]\n",
      "4 1\n",
      "[2, 7, 11, 11, 12]\n"
     ]
    },
    {
     "data": {
      "text/plain": [
       "12"
      ]
     },
     "execution_count": 10,
     "metadata": {},
     "output_type": "execute_result"
    }
   ],
   "source": [
    "nums = [2,7,9,3,1]\n",
    "sol.rob(nums)"
   ]
  },
  {
   "cell_type": "code",
   "execution_count": null,
   "metadata": {},
   "outputs": [],
   "source": [
    "# time = 40 ms, faster than 27.94%\n",
    "# memory = 13.9 MB, less than 37.51%\n",
    "class Solution:\n",
    "    def rob(self, nums):\n",
    "        dp1, dp2 = 0, 0\n",
    "        for num in nums:\n",
    "            dp1, dp2 = dp2, max(dp1 + num, dp2)          \n",
    "        return dp2"
   ]
  }
 ],
 "metadata": {
  "kernelspec": {
   "display_name": "Python 3",
   "language": "python",
   "name": "python3"
  },
  "language_info": {
   "codemirror_mode": {
    "name": "ipython",
    "version": 3
   },
   "file_extension": ".py",
   "mimetype": "text/x-python",
   "name": "python",
   "nbconvert_exporter": "python",
   "pygments_lexer": "ipython3",
   "version": "3.8.5"
  }
 },
 "nbformat": 4,
 "nbformat_minor": 4
}
