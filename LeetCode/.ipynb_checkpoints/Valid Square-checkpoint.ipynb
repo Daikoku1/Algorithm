{
 "cells": [
  {
   "cell_type": "code",
   "execution_count": null,
   "metadata": {},
   "outputs": [],
   "source": [
    "# 96 ms(순위에 없다)\n",
    "# 30 MB\n",
    "import numpy as np\n",
    "class Solution:\n",
    "    def validSquare(self, p1: List[int], p2: List[int], p3: List[int], p4: List[int]) -> bool:\n",
    "        if p1 == p2 or p1 == p3 or p1 == p4 or p2 == p3 or p2 == p4 or p3 == p4:\n",
    "            return False\n",
    "        li = [p1, p2, p3, p4]\n",
    "        li.sort()\n",
    "        if np.dot(np.array([li[1][0] - li[0][0], li[1][1] - li[0][1]]), np.array([li[2][0] - li[0][0], li[2][1] - li[0][1]])):\n",
    "            return False\n",
    "        if np.dot(np.array([li[1][0] - li[3][0], li[1][1] - li[3][1]]), np.array([li[2][0] - li[3][0], li[2][1] - li[3][1]])):\n",
    "            return False\n",
    "        if (li[1][0] - li[0][0])**2 + (li[1][1] - li[0][1])**2 != (li[2][0] - li[0][0])**2 + (li[2][1] - li[0][1])**2:\n",
    "            return False\n",
    "        return True"
   ]
  },
  {
   "cell_type": "code",
   "execution_count": null,
   "metadata": {},
   "outputs": [],
   "source": [
    "# Time = 32 ms, faster than 73.39% of Python3 \n",
    "# Memory = 14.1 MB, less than 99.78% of Python3 \n",
    "class Solution:\n",
    "    def validSquare(self, p1: List[int], p2: List[int], p3: List[int], p4: List[int]) -> bool:\n",
    "        if p1 == p2 or p1 == p3 or p1 == p4 or p2 == p3 or p2 == p4 or p3 == p4:\n",
    "            return False\n",
    "        li = [p1, p2, p3, p4]\n",
    "        li.sort()\n",
    "        if (li[1][0] - li[0][0]) * (li[2][0] - li[0][0]) + (li[1][1] - li[0][1]) * (li[2][1] - li[0][1]):\n",
    "            return False\n",
    "        if (li[1][0] - li[3][0]) * (li[2][0] - li[3][0]) + (li[1][1] - li[3][1]) * (li[2][1] - li[3][1]):\n",
    "            return False\n",
    "        if (li[1][0] - li[0][0])**2 + (li[1][1] - li[0][1])**2 != (li[2][0] - li[0][0])**2 + (li[2][1] - li[0][1])**2:\n",
    "            return False\n",
    "        return True"
   ]
  },
  {
   "cell_type": "code",
   "execution_count": null,
   "metadata": {},
   "outputs": [],
   "source": [
    "class Solution:\n",
    "    def validSquare(self, p1: List[int], p2: List[int], p3: List[int], p4: List[int]) -> bool:\n",
    "        def toComplex(p: List[int]):\n",
    "            return p[0] + 1j * p[1]\n",
    "        p1 = toComplex(p1)\n",
    "        p2 = toComplex(p2)\n",
    "        p3 = toComplex(p3)\n",
    "        p4 = toComplex(p4)\n",
    "        center = (p1+p2+p3+p4)/4\n",
    "        point_vectors = {i-center for i in {p1,p2,p3,p4}}\n",
    "        a = p1-center\n",
    "        for i in range(3):\n",
    "            # rotate 90 degree in complex\n",
    "            a = a * 1j\n",
    "            if a not in point_vectors or a==0:\n",
    "                return False\n",
    "        return True"
   ]
  }
 ],
 "metadata": {
  "kernelspec": {
   "display_name": "Python 3",
   "language": "python",
   "name": "python3"
  },
  "language_info": {
   "codemirror_mode": {
    "name": "ipython",
    "version": 3
   },
   "file_extension": ".py",
   "mimetype": "text/x-python",
   "name": "python",
   "nbconvert_exporter": "python",
   "pygments_lexer": "ipython3",
   "version": "3.8.5"
  }
 },
 "nbformat": 4,
 "nbformat_minor": 4
}
