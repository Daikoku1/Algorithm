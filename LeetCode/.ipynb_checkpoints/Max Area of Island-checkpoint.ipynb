{
 "cells": [
  {
   "cell_type": "code",
   "execution_count": null,
   "id": "10f2fb9c",
   "metadata": {},
   "outputs": [],
   "source": [
    "# 128 ms, faster than 92.93% of Python3 online submissions for Max Area of Island.\n",
    "# 14.5 MB, less than 87.56% of Python3 online submissions for Max Area of Island.\n",
    "class Solution:\n",
    "    def maxAreaOfIsland(self, grid: List[List[int]]) -> int:\n",
    "        m = len(grid)\n",
    "        n = len(grid[0])\n",
    "        max_area = 0\n",
    "        for i in range(m):\n",
    "            for j in range(n):\n",
    "                if grid[i][j] == 1:\n",
    "                    area = 0\n",
    "                    stack = [(i,j)]\n",
    "                    grid[i][j] = 0\n",
    "                    while stack:\n",
    "                        x, y = stack.pop()\n",
    "                        area += 1\n",
    "                        for new_x, new_y in ((x+1, y), (x-1, y), (x, y+1), (x, y-1)):\n",
    "                            if 0 <= new_x < m and 0 <= new_y < n and grid[new_x][new_y] == 1:\n",
    "                                stack.append((new_x, new_y))\n",
    "                                grid[new_x][new_y] = 0\n",
    "                    max_area = max(max_area, area)\n",
    "        return max_area"
   ]
  }
 ],
 "metadata": {
  "kernelspec": {
   "display_name": "Python 3",
   "language": "python",
   "name": "python3"
  },
  "language_info": {
   "codemirror_mode": {
    "name": "ipython",
    "version": 3
   },
   "file_extension": ".py",
   "mimetype": "text/x-python",
   "name": "python",
   "nbconvert_exporter": "python",
   "pygments_lexer": "ipython3",
   "version": "3.8.8"
  }
 },
 "nbformat": 4,
 "nbformat_minor": 5
}
