{
 "cells": [
  {
   "cell_type": "code",
   "execution_count": 4,
   "metadata": {},
   "outputs": [],
   "source": [
    "# time = 188 ms, faster than 72.25% \n",
    "# Memory = 20.6 MB, less than 78.92%\n",
    "class Solution:\n",
    "    def findMaximumXOR(self, nums):\n",
    "        ans, mask = 0, 0\n",
    "        for i in range(31, -1, -1):\n",
    "            mask |= 1<<i\n",
    "            print(ans, mask)\n",
    "            print('------------------')\n",
    "            found = set([num & mask for num in nums])\n",
    "                \n",
    "            start = ans | 1<<i\n",
    "            for pref in found:\n",
    "                if start^pref in found:\n",
    "                    ans = start\n",
    "                    break \n",
    "        \n",
    "        return ans"
   ]
  }
 ],
 "metadata": {
  "kernelspec": {
   "display_name": "Python 3",
   "language": "python",
   "name": "python3"
  },
  "language_info": {
   "codemirror_mode": {
    "name": "ipython",
    "version": 3
   },
   "file_extension": ".py",
   "mimetype": "text/x-python",
   "name": "python",
   "nbconvert_exporter": "python",
   "pygments_lexer": "ipython3",
   "version": "3.8.5"
  }
 },
 "nbformat": 4,
 "nbformat_minor": 4
}
