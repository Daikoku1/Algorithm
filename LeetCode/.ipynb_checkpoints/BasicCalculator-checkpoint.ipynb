{
 "cells": [
  {
   "cell_type": "code",
   "execution_count": 1,
   "metadata": {},
   "outputs": [],
   "source": [
    "# Time = 108 ms, faster than 40.91% of Python3\n",
    "# Memory = 15.7 MB, less than 17.24% of Python3\n",
    "def calculate(s):\n",
    "    stack, num, plus = [], 0, True\n",
    "    s += '+'\n",
    "    for idx, val in enumerate(s):\n",
    "        if val.isdigit():\n",
    "            num = 10*num + int(val)\n",
    "        elif val in ['+','-','(',')']:\n",
    "            stack.append(num * [-1,1][plus])\n",
    "            num = 0\n",
    "            if val == '+' : plus = True\n",
    "            elif val == '-': plus = False\n",
    "            elif val == '(':\n",
    "                if plus : stack.append('+' + val)\n",
    "                else : stack.append('-' + val)\n",
    "                plus = True\n",
    "            else:\n",
    "                sub_sum = 0\n",
    "                while stack:\n",
    "                    char = stack.pop()\n",
    "                    if type(char) != str : sub_sum += char\n",
    "                    else: break\n",
    "                stack.append(sub_sum * [-1,1][char[0] == '+'])\n",
    "    return sum(stack)"
   ]
  },
  {
   "cell_type": "code",
   "execution_count": 2,
   "metadata": {},
   "outputs": [
    {
     "data": {
      "text/plain": [
       "23"
      ]
     },
     "execution_count": 2,
     "metadata": {},
     "output_type": "execute_result"
    }
   ],
   "source": [
    "s = \"(1+(4+5+2)-3)+(6+8)\"\n",
    "calculate(s)"
   ]
  },
  {
   "cell_type": "code",
   "execution_count": 3,
   "metadata": {},
   "outputs": [
    {
     "data": {
      "text/plain": [
       "2"
      ]
     },
     "execution_count": 3,
     "metadata": {},
     "output_type": "execute_result"
    }
   ],
   "source": [
    "s = \"1 + 1\"\n",
    "calculate(s)"
   ]
  },
  {
   "cell_type": "code",
   "execution_count": 4,
   "metadata": {
    "scrolled": true
   },
   "outputs": [
    {
     "data": {
      "text/plain": [
       "3"
      ]
     },
     "execution_count": 4,
     "metadata": {},
     "output_type": "execute_result"
    }
   ],
   "source": [
    "s = \"2-(5-6)\"\n",
    "calculate(s)"
   ]
  },
  {
   "cell_type": "code",
   "execution_count": 10,
   "metadata": {},
   "outputs": [],
   "source": [
    "import re\n",
    "s = \"2-(5-6)\"\n",
    "s = re.sub(r\"(.)([\\+\\-\\(\\)])(.)\", r\"\\1 \\2 \\3\", s)"
   ]
  },
  {
   "cell_type": "code",
   "execution_count": null,
   "metadata": {},
   "outputs": [],
   "source": []
  },
  {
   "cell_type": "code",
   "execution_count": null,
   "metadata": {},
   "outputs": [],
   "source": [
    "import re\n",
    "def calculate(s):\n",
    "    string = re.split(\n",
    "    for idx, val in enumerate(s):\n",
    "        if val.isdigit():\n",
    "            num = 10*num + int(val)\n",
    "        elif val in ['+','-','(',')']:\n",
    "            stack.append(num * [-1,1][plus])\n",
    "            num = 0"
   ]
  }
 ],
 "metadata": {
  "kernelspec": {
   "display_name": "Python 3",
   "language": "python",
   "name": "python3"
  },
  "language_info": {
   "codemirror_mode": {
    "name": "ipython",
    "version": 3
   },
   "file_extension": ".py",
   "mimetype": "text/x-python",
   "name": "python",
   "nbconvert_exporter": "python",
   "pygments_lexer": "ipython3",
   "version": "3.8.5"
  },
  "toc": {
   "base_numbering": 1,
   "nav_menu": {},
   "number_sections": true,
   "sideBar": true,
   "skip_h1_title": false,
   "title_cell": "Table of Contents",
   "title_sidebar": "Contents",
   "toc_cell": false,
   "toc_position": {},
   "toc_section_display": true,
   "toc_window_display": true
  }
 },
 "nbformat": 4,
 "nbformat_minor": 4
}
