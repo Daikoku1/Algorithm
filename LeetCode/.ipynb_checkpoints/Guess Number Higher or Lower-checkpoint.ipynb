{
 "cells": [
  {
   "cell_type": "markdown",
   "id": "15a1d855",
   "metadata": {},
   "source": [
    "# 코드\n",
    "- 54 ms, faster than 8.11% of Python3 online submissions for Guess Number Higher or Lower.\n",
    "- 14.2 MB, less than 42.17% of Python3 online submissions for Guess Number Higher or Lower."
   ]
  },
  {
   "cell_type": "code",
   "execution_count": null,
   "id": "8e110832",
   "metadata": {},
   "outputs": [],
   "source": [
    "# The guess API is already defined for you.\n",
    "# @param num, your guess\n",
    "# @return -1 if my number is lower, 1 if my number is higher, otherwise return 0\n",
    "# def guess(num: int) -> int:\n",
    "class Solution:\n",
    "    def guessNumber(self, n: int) -> int:\n",
    "        low, high = 1, n\n",
    "        while low <= high:\n",
    "            mid = (low + high)//2\n",
    "            res =  guess(mid)\n",
    "            if res == 0 :\n",
    "                return mid\n",
    "            elif res == -1:\n",
    "                high = mid - 1\n",
    "            else:\n",
    "                low = mid + 1"
   ]
  }
 ],
 "metadata": {
  "kernelspec": {
   "display_name": "Python 3",
   "language": "python",
   "name": "python3"
  },
  "language_info": {
   "codemirror_mode": {
    "name": "ipython",
    "version": 3
   },
   "file_extension": ".py",
   "mimetype": "text/x-python",
   "name": "python",
   "nbconvert_exporter": "python",
   "pygments_lexer": "ipython3",
   "version": "3.8.8"
  }
 },
 "nbformat": 4,
 "nbformat_minor": 5
}
