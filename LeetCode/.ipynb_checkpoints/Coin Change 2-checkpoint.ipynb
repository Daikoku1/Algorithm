{
 "cells": [
  {
   "cell_type": "code",
   "execution_count": null,
   "metadata": {},
   "outputs": [],
   "source": [
    "# Time = 376 ms, faster than 36.84% of Python3\n",
    "# Memory = 29.4 MB, less than 5.18% of Python3\n",
    "class Solution:\n",
    "    def change(self, amount: int, coins: List[int]) -> int:\n",
    "        dp = [[0]*(amount+1) for _ in range(len(coins)+1)]\n",
    "        \n",
    "        dp[0][0] = 1\n",
    "        coins.sort()\n",
    "        \n",
    "        for i1, c in enumerate(coins, 1):\n",
    "            for i2 in range(amount+1):\n",
    "                if i2 >= c:\n",
    "                    dp[i1][i2] = dp[i1-1][i2] + dp[i1][i2 - c]\n",
    "                else:\n",
    "                    dp[i1][i2] = dp[i1-1][i2]\n",
    "        \n",
    "        return dp[-1][-1]"
   ]
  },
  {
   "cell_type": "code",
   "execution_count": null,
   "metadata": {},
   "outputs": [],
   "source": [
    "# Time = 128 ms, faster than 95.07% of Python3\n",
    "# Memory = 14.3 MB, less than 5.18% of Python3\n",
    "class Solution:\n",
    "    def change(self, amount: int, coins: List[int]) -> int:\n",
    "        dp  = [0]*(amount+1)\n",
    "        \n",
    "        dp[0] = 1\n",
    "        for c in coins:\n",
    "            for idx in range(c, amount+1):\n",
    "                dp[idx] += dp[idx-c]\n",
    "        \n",
    "        return dp[amount]"
   ]
  }
 ],
 "metadata": {
  "kernelspec": {
   "display_name": "Python 3",
   "language": "python",
   "name": "python3"
  },
  "language_info": {
   "codemirror_mode": {
    "name": "ipython",
    "version": 3
   },
   "file_extension": ".py",
   "mimetype": "text/x-python",
   "name": "python",
   "nbconvert_exporter": "python",
   "pygments_lexer": "ipython3",
   "version": "3.8.5"
  }
 },
 "nbformat": 4,
 "nbformat_minor": 4
}
