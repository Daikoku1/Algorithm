{
 "cells": [
  {
   "cell_type": "markdown",
   "metadata": {
    "colab_type": "text",
    "id": "view-in-github"
   },
   "source": [
    "<a href=\"https://colab.research.google.com/github/Daikoku1/Algorithm_LeetCode/blob/master/Word_Search.ipynb\" target=\"_parent\"><img src=\"https://colab.research.google.com/assets/colab-badge.svg\" alt=\"Open In Colab\"/></a>"
   ]
  },
  {
   "cell_type": "code",
   "execution_count": null,
   "metadata": {
    "colab": {},
    "colab_type": "code",
    "id": "oahsBJkdiqRG"
   },
   "outputs": [],
   "source": [
    "# DFS\n",
    "# 428 ms(41%)\n",
    "# 19.7 MB(8%)\n",
    "# 과정이 들어간 리스트 데이터가 너무 크다.\n",
    "def exist(board, word):\n",
    "    M = len(board)\n",
    "    N = len(board[0])\n",
    "\n",
    "    to_do = []\n",
    "    for i in range(M):\n",
    "        for j in range(N):\n",
    "            if board[i][j] == word[0]:\n",
    "                to_do.append([i,j,0,[[i,j]]])\n",
    "    \n",
    "    while to_do:\n",
    "        x, y, idx, path = to_do.pop()\n",
    "        if idx == len(word)-1:\n",
    "            return True\n",
    "        if x != 0:\n",
    "            if (board[x-1][y] == word[idx+1]) & ([x-1,y] not in path):\n",
    "                path1 = path.copy()\n",
    "                path1.append([x-1,y])\n",
    "                to_do.append([x-1,y,idx+1, path1])\n",
    "        if x < M - 1:\n",
    "            if (board[x+1][y] == word[idx+1]) & ([x+1,y] not in path):\n",
    "                path2 = path.copy()\n",
    "                path2.append([x+1,y])\n",
    "                to_do.append([x+1,y,idx+1, path2])\n",
    "        if y != 0:\n",
    "            if (board[x][y-1] == word[idx+1]) & ([x,y-1] not in path):\n",
    "                path3 = path.copy()\n",
    "                path3.append([x,y-1])\n",
    "                to_do.append([x,y-1,idx+1, path3])\n",
    "        if y < N - 1:\n",
    "            if (board[x][y+1] == word[idx+1]) & ([x,y+1] not in path):\n",
    "                path4 = path.copy()\n",
    "                path4.append([x,y+1])\n",
    "                to_do.append([x,y+1,idx+1, path4])\n",
    "    return False"
   ]
  },
  {
   "cell_type": "code",
   "execution_count": null,
   "metadata": {
    "colab": {},
    "colab_type": "code",
    "id": "c6Jh8EpXkLie"
   },
   "outputs": [],
   "source": [
    "# Given word = \"ABCCED\", return true.\n",
    "# Given word = \"SEE\", return true.\n",
    "# Given word = \"ABCB\", return false."
   ]
  },
  {
   "cell_type": "code",
   "execution_count": null,
   "metadata": {
    "colab": {
     "base_uri": "https://localhost:8080/",
     "height": 177
    },
    "colab_type": "code",
    "id": "pw7wB83oiwB3",
    "outputId": "a81398e7-8876-402d-c895-0ac84b18c09b"
   },
   "outputs": [
    {
     "name": "stdout",
     "output_type": "stream",
     "text": [
      "[[0, 0, 0, [[0, 0]]], [2, 0, 0, [[2, 0]]]]\n",
      "[[0, 0, 0, [[0, 0]]]]\n",
      "[[0, 1, 1, [[0, 0], [0, 1]]]]\n",
      "[[0, 2, 2, [[0, 0], [0, 1], [0, 2]]]]\n",
      "[[1, 2, 3, [[0, 0], [0, 1], [0, 2], [1, 2]]]]\n",
      "[[2, 2, 4, [[0, 0], [0, 1], [0, 2], [1, 2], [2, 2]]]]\n",
      "[[2, 1, 5, [[0, 0], [0, 1], [0, 2], [1, 2], [2, 2], [2, 1]]]]\n",
      "[[0, 0], [0, 1], [0, 2], [1, 2], [2, 2], [2, 1]]\n"
     ]
    },
    {
     "data": {
      "text/plain": [
       "True"
      ]
     },
     "execution_count": 22,
     "metadata": {
      "tags": []
     },
     "output_type": "execute_result"
    }
   ],
   "source": [
    "board = [[\"A\",\"B\",\"C\",\"E\"],[\"S\",\"F\",\"C\",\"S\"],[\"A\",\"D\",\"E\",\"E\"]]\n",
    "word = \"ABCCED\"\n",
    "exist(board, word)"
   ]
  },
  {
   "cell_type": "code",
   "execution_count": null,
   "metadata": {
    "colab": {
     "base_uri": "https://localhost:8080/",
     "height": 106
    },
    "colab_type": "code",
    "id": "vI9lya84i431",
    "outputId": "a85af627-0ac0-472e-f8b8-9906c0ac15c6"
   },
   "outputs": [
    {
     "name": "stdout",
     "output_type": "stream",
     "text": [
      "[[1, 0, 0, [[1, 0]]], [1, 3, 0, [[1, 3]]]]\n",
      "[[1, 0, 0, [[1, 0]]], [0, 3, 1, [[1, 3], [0, 3]]], [2, 3, 1, [[1, 3], [2, 3]]]]\n",
      "[[1, 0, 0, [[1, 0]]], [0, 3, 1, [[1, 3], [0, 3]]], [2, 2, 2, [[1, 3], [2, 3], [2, 2]]]]\n",
      "[[1, 3], [2, 3], [2, 2]]\n"
     ]
    },
    {
     "data": {
      "text/plain": [
       "True"
      ]
     },
     "execution_count": 23,
     "metadata": {
      "tags": []
     },
     "output_type": "execute_result"
    }
   ],
   "source": [
    "word = \"SEE\"\n",
    "exist(board, word)"
   ]
  },
  {
   "cell_type": "code",
   "execution_count": null,
   "metadata": {
    "colab": {
     "base_uri": "https://localhost:8080/",
     "height": 106
    },
    "colab_type": "code",
    "id": "cUr5cbEvkS_F",
    "outputId": "0fa7e413-0596-4b32-d5e2-95b7b976b1e4"
   },
   "outputs": [
    {
     "name": "stdout",
     "output_type": "stream",
     "text": [
      "[[0, 0, 0, [[0, 0]]], [2, 0, 0, [[2, 0]]]]\n",
      "[[0, 0, 0, [[0, 0]]]]\n",
      "[[0, 1, 1, [[0, 0], [0, 1]]]]\n",
      "[[0, 2, 2, [[0, 0], [0, 1], [0, 2]]]]\n"
     ]
    },
    {
     "data": {
      "text/plain": [
       "False"
      ]
     },
     "execution_count": 24,
     "metadata": {
      "tags": []
     },
     "output_type": "execute_result"
    }
   ],
   "source": [
    "word = \"ABCB\"\n",
    "exist(board, word)"
   ]
  },
  {
   "cell_type": "code",
   "execution_count": null,
   "metadata": {
    "colab": {
     "base_uri": "https://localhost:8080/",
     "height": 321
    },
    "colab_type": "code",
    "id": "yGbRWEfRkV-h",
    "outputId": "8a0699ef-e4e1-4017-bf86-86244a4131c5"
   },
   "outputs": [
    {
     "name": "stdout",
     "output_type": "stream",
     "text": [
      "10\n",
      "[[0, 0, 0, [[0, 0]]], [2, 0, 0, [[2, 0]]]]\n",
      "[[0, 0, 0, [[0, 0]]]]\n",
      "[[0, 1, 1, [[0, 0], [0, 1]]]]\n",
      "[[0, 2, 2, [[0, 0], [0, 1], [0, 2]]]]\n",
      "[[1, 2, 3, [[0, 0], [0, 1], [0, 2], [1, 2]]], [0, 3, 3, [[0, 0], [0, 1], [0, 2], [0, 3]]]]\n",
      "[[1, 2, 3, [[0, 0], [0, 1], [0, 2], [1, 2]]], [1, 3, 4, [[0, 0], [0, 1], [0, 2], [0, 3], [1, 3]]]]\n",
      "[[1, 2, 3, [[0, 0], [0, 1], [0, 2], [1, 2]]], [2, 3, 5, [[0, 0], [0, 1], [0, 2], [0, 3], [1, 3], [2, 3]]], [1, 2, 5, [[0, 0], [0, 1], [0, 2], [0, 3], [1, 3], [1, 2]]]]\n",
      "[[1, 2, 3, [[0, 0], [0, 1], [0, 2], [1, 2]]], [2, 3, 5, [[0, 0], [0, 1], [0, 2], [0, 3], [1, 3], [2, 3]]], [2, 2, 6, [[0, 0], [0, 1], [0, 2], [0, 3], [1, 3], [1, 2], [2, 2]]]]\n",
      "[[1, 2, 3, [[0, 0], [0, 1], [0, 2], [1, 2]]], [2, 3, 5, [[0, 0], [0, 1], [0, 2], [0, 3], [1, 3], [2, 3]]], [2, 3, 7, [[0, 0], [0, 1], [0, 2], [0, 3], [1, 3], [1, 2], [2, 2], [2, 3]]]]\n",
      "[[1, 2, 3, [[0, 0], [0, 1], [0, 2], [1, 2]]], [2, 3, 5, [[0, 0], [0, 1], [0, 2], [0, 3], [1, 3], [2, 3]]]]\n",
      "[[1, 2, 3, [[0, 0], [0, 1], [0, 2], [1, 2]]], [2, 2, 6, [[0, 0], [0, 1], [0, 2], [0, 3], [1, 3], [2, 3], [2, 2]]]]\n",
      "[[1, 2, 3, [[0, 0], [0, 1], [0, 2], [1, 2]]], [1, 2, 7, [[0, 0], [0, 1], [0, 2], [0, 3], [1, 3], [2, 3], [2, 2], [1, 2]]]]\n",
      "[[1, 2, 3, [[0, 0], [0, 1], [0, 2], [1, 2]]], [1, 1, 8, [[0, 0], [0, 1], [0, 2], [0, 3], [1, 3], [2, 3], [2, 2], [1, 2], [1, 1]]]]\n",
      "[[1, 2, 3, [[0, 0], [0, 1], [0, 2], [1, 2]]], [1, 0, 9, [[0, 0], [0, 1], [0, 2], [0, 3], [1, 3], [2, 3], [2, 2], [1, 2], [1, 1], [1, 0]]]]\n",
      "[[0, 0], [0, 1], [0, 2], [0, 3], [1, 3], [2, 3], [2, 2], [1, 2], [1, 1], [1, 0]]\n"
     ]
    },
    {
     "data": {
      "text/plain": [
       "True"
      ]
     },
     "execution_count": 25,
     "metadata": {
      "tags": []
     },
     "output_type": "execute_result"
    }
   ],
   "source": [
    "board = [[\"A\",\"B\",\"C\",\"E\"],[\"S\",\"F\",\"E\",\"S\"],[\"A\",\"D\",\"E\",\"E\"]]\n",
    "word = \"ABCESEEEFS\"\n",
    "print(len(word))\n",
    "exist(board, word)"
   ]
  },
  {
   "cell_type": "code",
   "execution_count": null,
   "metadata": {
    "colab": {},
    "colab_type": "code",
    "id": "JGMhrg3Rm673"
   },
   "outputs": [],
   "source": [
    "# 164 ms(99%)\n",
    "# 15.2 MB(38%)\n",
    "from collections import Counter\n",
    "class Solution:\n",
    "    def exist(self, board, word):\n",
    "        # word와 board의 각 문자 개수 비교\n",
    "        def pre_check():\n",
    "            char_dict = Counter(word)\n",
    "            for row in board:\n",
    "                for char in row:\n",
    "                    if char in char_dict and char_dict[char] > 0: \n",
    "                        char_dict[char] -= 1\n",
    "            \n",
    "            for count in char_dict.values():\n",
    "                if count > 0: \n",
    "                    return False\n",
    "            return True\n",
    "\n",
    "        def path(idx, x, y):\n",
    "            if board[x][y] != word[idx]:\n",
    "                return False\n",
    "            elif idx == length - 1:\n",
    "                return True\n",
    "            \n",
    "            board[x][y] = None\n",
    "            idx += 1\n",
    "            \n",
    "            for d in [[-1,0], [1,0], [0,1], [0,-1]]:\n",
    "                new_x, new_y = x + d[0], y + d[1]\n",
    "                if 0 <= new_x < M and 0 <= new_y < N and board[new_x][new_y]:\n",
    "                    if path(idx, new_x, new_y):\n",
    "                        return True\n",
    "\n",
    "            board[x][y] = word[idx-1]\n",
    "            return False\n",
    "                    \n",
    "        # 기본조건 탐색\n",
    "        if not board: \n",
    "            return False\n",
    "        if not word: \n",
    "            return True\n",
    "        if not pre_check(): \n",
    "            return False\n",
    "\n",
    "        M = len(board)\n",
    "        N = len(board[0])\n",
    "        length = len(word)\n",
    "\n",
    "        for i in range(M):\n",
    "            for j in range(N):\n",
    "                if path(0,i,j):\n",
    "                    return True\n",
    "        \n",
    "        return False"
   ]
  },
  {
   "cell_type": "code",
   "execution_count": null,
   "metadata": {
    "colab": {},
    "colab_type": "code",
    "id": "kdV7VrQ8iaH4"
   },
   "outputs": [],
   "source": []
  },
  {
   "cell_type": "markdown",
   "metadata": {},
   "source": [
    "# 코드\n",
    "- 21.10 다시 풂\n",
    "- Runtime: 4816 ms\n",
    "- Memory Usage: 14.2 MB\n",
    "- pre_check()를 안써서 속도 느려짐. \n",
    "- test case 늘어난듯..."
   ]
  },
  {
   "cell_type": "code",
   "execution_count": null,
   "metadata": {},
   "outputs": [],
   "source": [
    "class Solution:\n",
    "    def exist(self, board: List[List[str]], word: str) -> bool:\n",
    "        length = len(word)\n",
    "        M, N = len(board), len(board[0])\n",
    "        \n",
    "        def check(idx, x, y):\n",
    "            if board[x][y] != word[idx] : return False\n",
    "            elif idx == length - 1 : return True\n",
    "            \n",
    "            board[x][y] = None\n",
    "            idx += 1\n",
    "            \n",
    "            for new_x, new_y in [(x+1, y), (x-1,y), (x,y+1), (x,y-1)]:\n",
    "                if 0 <= new_x < M and 0 <= new_y < N and board[new_x][new_y]:\n",
    "                    if check(idx, new_x, new_y):\n",
    "                        return True\n",
    "\n",
    "            board[x][y] = word[idx-1]\n",
    "            return False\n",
    "        \n",
    "        if not board : return False\n",
    "        if not word : return True\n",
    "        \n",
    "        for i in range(M):\n",
    "            for j in range(N):\n",
    "                if check(0, i, j): return True\n",
    "        \n",
    "        return False"
   ]
  }
 ],
 "metadata": {
  "colab": {
   "authorship_tag": "ABX9TyMuut12TC/oSIjrdqvXnILp",
   "collapsed_sections": [],
   "include_colab_link": true,
   "name": "Word Search.ipynb",
   "provenance": []
  },
  "kernelspec": {
   "display_name": "Python 3",
   "language": "python",
   "name": "python3"
  },
  "language_info": {
   "codemirror_mode": {
    "name": "ipython",
    "version": 3
   },
   "file_extension": ".py",
   "mimetype": "text/x-python",
   "name": "python",
   "nbconvert_exporter": "python",
   "pygments_lexer": "ipython3",
   "version": "3.8.8"
  }
 },
 "nbformat": 4,
 "nbformat_minor": 1
}
