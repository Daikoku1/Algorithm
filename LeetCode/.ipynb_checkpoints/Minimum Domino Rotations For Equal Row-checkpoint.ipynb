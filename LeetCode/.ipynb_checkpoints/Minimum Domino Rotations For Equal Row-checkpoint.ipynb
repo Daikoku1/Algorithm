{
 "cells": [
  {
   "cell_type": "markdown",
   "metadata": {},
   "source": [
    "# 실패\n",
    "- 첫번째 것만 고려했다."
   ]
  },
  {
   "cell_type": "code",
   "execution_count": 10,
   "metadata": {},
   "outputs": [],
   "source": [
    "class Solution:\n",
    "    def minDominoRotations(self, A, B):\n",
    "        cnt1, c1 = 0, True\n",
    "        s1 = A[0]\n",
    "        for a, b in zip(A,B):\n",
    "            if s1 == a:\n",
    "                continue\n",
    "            elif s1 == b:\n",
    "                cnt1 += 1\n",
    "            else:\n",
    "                c1 = False\n",
    "                break\n",
    "        \n",
    "        cnt2, c2 = 0, True\n",
    "        s2 = B[0]\n",
    "        for a, b in zip(A,B):\n",
    "            if s2 == a:\n",
    "                continue\n",
    "            elif s2 == b:\n",
    "                cnt2 += 1\n",
    "            else:\n",
    "                c2 = False\n",
    "                break\n",
    "                \n",
    "        l = len(A)\n",
    "        answer = []\n",
    "        if c1 : answer.extend([cnt1, l-cnt1])\n",
    "        if c2 : answer.extend([cnt2, l-cnt2])\n",
    "        return min(answer) if answer else -1"
   ]
  },
  {
   "cell_type": "code",
   "execution_count": 11,
   "metadata": {},
   "outputs": [],
   "source": [
    "sol = Solution()"
   ]
  },
  {
   "cell_type": "code",
   "execution_count": 12,
   "metadata": {},
   "outputs": [
    {
     "data": {
      "text/plain": [
       "2"
      ]
     },
     "execution_count": 12,
     "metadata": {},
     "output_type": "execute_result"
    }
   ],
   "source": [
    "A = [2,1,2,4,2,2]\n",
    "B = [5,2,6,2,3,2]\n",
    "sol.minDominoRotations(A, B)"
   ]
  },
  {
   "cell_type": "markdown",
   "metadata": {},
   "source": [
    "# Sol1"
   ]
  },
  {
   "cell_type": "code",
   "execution_count": 17,
   "metadata": {},
   "outputs": [],
   "source": [
    "# Time = 1076 ms beats 90.41 %\n",
    "# Memory = 14.9 MB\n",
    "from collections import Counter\n",
    "class Solution:\n",
    "    def minDominoRotations(self, A, B):\n",
    "        dic = Counter(A) + Counter(B)\n",
    "        li = [x for x, y in dic.items() if y >= len(A)]\n",
    "        if not li:\n",
    "            return -1\n",
    "        \n",
    "        l = len(A)\n",
    "        c1, c2 = 0, 0\n",
    "        answer = l + 1\n",
    "        check = True\n",
    "        for t in li:\n",
    "            for a, b in zip(A,B):\n",
    "                if a != t and b != t:\n",
    "                    check = False\n",
    "                    break\n",
    "                elif a!= t:\n",
    "                    c1 += 1\n",
    "                elif b != t:\n",
    "                    c2 += 1\n",
    "            if check:\n",
    "                answer = min(answer, c1, c2)\n",
    "        return answer if answer < l else -1"
   ]
  },
  {
   "cell_type": "code",
   "execution_count": 18,
   "metadata": {},
   "outputs": [
    {
     "data": {
      "text/plain": [
       "2"
      ]
     },
     "execution_count": 18,
     "metadata": {},
     "output_type": "execute_result"
    }
   ],
   "source": [
    "A = [2,1,2,4,2,2]\n",
    "B = [5,2,6,2,3,2]\n",
    "sol = Solution()\n",
    "sol.minDominoRotations(A, B)"
   ]
  },
  {
   "cell_type": "markdown",
   "metadata": {},
   "source": [
    "# Sol2"
   ]
  },
  {
   "cell_type": "code",
   "execution_count": 20,
   "metadata": {},
   "outputs": [],
   "source": [
    "# Time = 1064 ms, faster than 92.78% of Python3\n",
    "# Memory = 14.8 MB, less than 98.05% of Python3\n",
    "class Solution:\n",
    "    def minDominoRotations(self, A, B):\n",
    "        n, answer = len(A), float('inf')        \n",
    "        for i in [i for i in range(1, 7) if all(i in {A[j], B[j]} for j in range(n))]:\n",
    "            answer = min(answer, n - max(A.count(i), B.count(i)))\n",
    "        return answer if answer != float('inf') else -1"
   ]
  },
  {
   "cell_type": "code",
   "execution_count": 21,
   "metadata": {},
   "outputs": [
    {
     "data": {
      "text/plain": [
       "2"
      ]
     },
     "execution_count": 21,
     "metadata": {},
     "output_type": "execute_result"
    }
   ],
   "source": [
    "A = [2,1,2,4,2,2]\n",
    "B = [5,2,6,2,3,2]\n",
    "sol = Solution()\n",
    "sol.minDominoRotations(A, B)"
   ]
  }
 ],
 "metadata": {
  "kernelspec": {
   "display_name": "Python 3",
   "language": "python",
   "name": "python3"
  },
  "language_info": {
   "codemirror_mode": {
    "name": "ipython",
    "version": 3
   },
   "file_extension": ".py",
   "mimetype": "text/x-python",
   "name": "python",
   "nbconvert_exporter": "python",
   "pygments_lexer": "ipython3",
   "version": "3.8.5"
  }
 },
 "nbformat": 4,
 "nbformat_minor": 4
}
