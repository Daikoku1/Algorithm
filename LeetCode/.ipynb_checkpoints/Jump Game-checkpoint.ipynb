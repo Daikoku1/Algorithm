{
 "cells": [
  {
   "cell_type": "markdown",
   "id": "29d8fe93",
   "metadata": {},
   "source": [
    "# 코드1\n",
    "- 기본 코드\n",
    "- 5396 ms, faster than 9.62% of Python3 online submissions for Jump Game.\n",
    "- 15.4 MB, less than 35.50% of Python3 online submissions for Jump Game."
   ]
  },
  {
   "cell_type": "code",
   "execution_count": null,
   "id": "f157d580",
   "metadata": {},
   "outputs": [],
   "source": [
    "class Solution:\n",
    "    def canJump(self, nums: List[int]) -> bool:\n",
    "        nums[-1] = True\n",
    "\n",
    "        last_idx = len(nums) -1\n",
    "        for idx in range(last_idx-1, -1, -1):\n",
    "            for j in range(min(last_idx, idx + nums[idx]), idx, -1):\n",
    "                if nums[j] == True:\n",
    "                    nums[idx] = True\n",
    "                    break\n",
    "            else : nums[idx] = False\n",
    "        return nums[0]"
   ]
  },
  {
   "cell_type": "code",
   "execution_count": null,
   "id": "dd098eab",
   "metadata": {},
   "outputs": [],
   "source": [
    "nums = [3,2,1,0,4]\n",
    "canJump(nums)"
   ]
  },
  {
   "cell_type": "markdown",
   "id": "294a8944",
   "metadata": {},
   "source": [
    "# 코드2\n",
    "- 632 ms, faster than 34.83% of Python3 online submissions for Jump Game.\n",
    "- 15.4 MB, less than 11.95% of Python3 online submissions for Jump Game."
   ]
  },
  {
   "cell_type": "code",
   "execution_count": null,
   "id": "59e4faf9",
   "metadata": {},
   "outputs": [],
   "source": [
    "class Solution:\n",
    "    def canJump(self, nums: List[int]) -> bool:\n",
    "        idx = 0\n",
    "        max_jump = idx + nums[idx]\n",
    "        while True:\n",
    "\n",
    "            if max_jump >= len(nums) - 1 : return True \n",
    "            elif idx == max_jump: return False\n",
    "            for j in range(idx, max_jump+1):\n",
    "                if j + nums[j] > max_jump:\n",
    "                    idx = j\n",
    "                    max_jump = j + nums[j]\n",
    "                    break\n",
    "            else: return False\n",
    "        "
   ]
  },
  {
   "cell_type": "code",
   "execution_count": null,
   "id": "350da1eb",
   "metadata": {},
   "outputs": [],
   "source": [
    "class Solution:\n",
    "    def canJump(self, nums: List[int]) -> bool:\n",
    "        max_jump = nums[0]\n",
    "        for x, v in enumerate(nums):\n",
    "            if max_jump >= len(nums) - 1: return True\n",
    "            elif x > max_jump: return False\n",
    "            \n",
    "            max_jump = max(max_jump, x + v)\n",
    "        \n",
    "        else: return False"
   ]
  }
 ],
 "metadata": {
  "kernelspec": {
   "display_name": "Python 3",
   "language": "python",
   "name": "python3"
  },
  "language_info": {
   "codemirror_mode": {
    "name": "ipython",
    "version": 3
   },
   "file_extension": ".py",
   "mimetype": "text/x-python",
   "name": "python",
   "nbconvert_exporter": "python",
   "pygments_lexer": "ipython3",
   "version": "3.8.8"
  }
 },
 "nbformat": 4,
 "nbformat_minor": 5
}
