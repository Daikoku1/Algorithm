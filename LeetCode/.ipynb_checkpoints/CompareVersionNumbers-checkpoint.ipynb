{
 "cells": [
  {
   "cell_type": "code",
   "execution_count": 7,
   "metadata": {},
   "outputs": [],
   "source": [
    "# time = 28 ms(80%)\n",
    "# memory = 13.7 MB(49%)\n",
    "import re\n",
    "class Solution:\n",
    "    def compareVersion(self, version1: str, version2: str) -> int:\n",
    "        v1 = re.sub('(\\.0+)+$', '', version1).split('.') # 마지막에 연속된 0.00.0 ~ 삭제\n",
    "        v2 = re.sub('(\\.0+)+$', '', version2).split('.')\n",
    "        \n",
    "        length = min(len(v1), len(v2))\n",
    "        for idx in range(length):\n",
    "            n1, n2 = int(v1[idx]), int(v2[idx])\n",
    "            if n1 < n2:\n",
    "                return -1\n",
    "            elif n1 > n2:\n",
    "                return 1\n",
    "        \n",
    "        if length == len(v1):\n",
    "            return 0 if length == len(v2) else -1\n",
    "        return 1"
   ]
  },
  {
   "cell_type": "code",
   "execution_count": 8,
   "metadata": {},
   "outputs": [],
   "source": [
    "sol = Solution()"
   ]
  },
  {
   "cell_type": "code",
   "execution_count": 9,
   "metadata": {},
   "outputs": [
    {
     "data": {
      "text/plain": [
       "-1"
      ]
     },
     "execution_count": 9,
     "metadata": {},
     "output_type": "execute_result"
    }
   ],
   "source": [
    "version1 = \"0.1\"\n",
    "version2 = \"1.1\"\n",
    "sol.compareVersion(version1, version2)"
   ]
  },
  {
   "cell_type": "code",
   "execution_count": 10,
   "metadata": {},
   "outputs": [
    {
     "data": {
      "text/plain": [
       "1"
      ]
     },
     "execution_count": 10,
     "metadata": {},
     "output_type": "execute_result"
    }
   ],
   "source": [
    "# Input: version1 = \"1.0.1\", version2 = \"1\"\n",
    "# Output: 1\n",
    "version1 = \"1.0.1\"\n",
    "version2 = \"1\"\n",
    "sol.compareVersion(version1, version2)"
   ]
  },
  {
   "cell_type": "code",
   "execution_count": 11,
   "metadata": {},
   "outputs": [
    {
     "data": {
      "text/plain": [
       "0"
      ]
     },
     "execution_count": 11,
     "metadata": {},
     "output_type": "execute_result"
    }
   ],
   "source": [
    "version1 = \"01\"\n",
    "version2 = \"1\"\n",
    "sol.compareVersion(version1, version2)"
   ]
  }
 ],
 "metadata": {
  "kernelspec": {
   "display_name": "Python 3",
   "language": "python",
   "name": "python3"
  },
  "language_info": {
   "codemirror_mode": {
    "name": "ipython",
    "version": 3
   },
   "file_extension": ".py",
   "mimetype": "text/x-python",
   "name": "python",
   "nbconvert_exporter": "python",
   "pygments_lexer": "ipython3",
   "version": "3.8.5"
  }
 },
 "nbformat": 4,
 "nbformat_minor": 4
}
