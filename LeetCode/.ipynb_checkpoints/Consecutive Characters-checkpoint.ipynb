{
 "cells": [
  {
   "cell_type": "code",
   "execution_count": 1,
   "metadata": {},
   "outputs": [],
   "source": [
    "# Time = 40 ms, faster than 74.30% of Python3 \n",
    "# Memory = 14.1 MB, less than 100.00% of Python3\n",
    "class Solution:\n",
    "    def maxPower(self, string: str) -> int:\n",
    "        prev = string[0]\n",
    "        cnt = 1\n",
    "        max_n = 1\n",
    "        for s in string[1:]:\n",
    "            if s == prev:\n",
    "                cnt += 1\n",
    "            else:\n",
    "                max_n = max(max_n, cnt)\n",
    "                cnt = 1\n",
    "                prev = s\n",
    "        return max(max_n, cnt)"
   ]
  },
  {
   "cell_type": "code",
   "execution_count": 9,
   "metadata": {},
   "outputs": [],
   "source": [
    "def maxPower(self, s):\n",
    "    return max(len(list(l)) for _, l in itertools.groupby(s))"
   ]
  },
  {
   "cell_type": "code",
   "execution_count": 8,
   "metadata": {},
   "outputs": [
    {
     "name": "stdout",
     "output_type": "stream",
     "text": [
      "l ['l']\n",
      "e ['e', 'e']\n",
      "t ['t']\n",
      "c ['c']\n",
      "o ['o']\n",
      "d ['d']\n",
      "e ['e']\n"
     ]
    }
   ],
   "source": [
    "from itertools import groupby\n",
    "s = \"leetcode\"\n",
    "for a, b in groupby(s):\n",
    "    print(a, list(b))"
   ]
  },
  {
   "cell_type": "code",
   "execution_count": null,
   "metadata": {},
   "outputs": [],
   "source": []
  }
 ],
 "metadata": {
  "kernelspec": {
   "display_name": "Python 3",
   "language": "python",
   "name": "python3"
  },
  "language_info": {
   "codemirror_mode": {
    "name": "ipython",
    "version": 3
   },
   "file_extension": ".py",
   "mimetype": "text/x-python",
   "name": "python",
   "nbconvert_exporter": "python",
   "pygments_lexer": "ipython3",
   "version": "3.8.5"
  }
 },
 "nbformat": 4,
 "nbformat_minor": 4
}
