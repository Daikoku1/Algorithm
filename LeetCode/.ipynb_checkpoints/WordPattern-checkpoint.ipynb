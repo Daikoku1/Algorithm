{
 "cells": [
  {
   "cell_type": "code",
   "execution_count": 9,
   "metadata": {},
   "outputs": [],
   "source": [
    "# 실패\n",
    "# abba , [dog,dog,dog,dog]일 때 인식 불가능\n",
    "from collections import defaultdict\n",
    "class Solution:\n",
    "    def wordPattern(self, pattern, S):\n",
    "        dic = defaultdict(str)\n",
    "        S_li = S.split(' ')\n",
    "        for idx, p in enumerate(pattern):\n",
    "            if not dic[p]:\n",
    "                dic[p] = S_li[idx]\n",
    "            else:\n",
    "                if dic[p] == S_li[idx]:\n",
    "                    continue\n",
    "                else:\n",
    "                    return False\n",
    "        return True"
   ]
  },
  {
   "cell_type": "code",
   "execution_count": 11,
   "metadata": {},
   "outputs": [
    {
     "data": {
      "text/plain": [
       "True"
      ]
     },
     "execution_count": 11,
     "metadata": {},
     "output_type": "execute_result"
    }
   ],
   "source": [
    "pattern = \"abba\"\n",
    "s = \"dog cat cat dog\"\n",
    "sol.wordPattern(pattern, s)"
   ]
  },
  {
   "cell_type": "code",
   "execution_count": null,
   "metadata": {},
   "outputs": [],
   "source": [
    "# time = 28 ms (82%)\n",
    "# memory = 13.y MB\n",
    "from collections import defaultdict\n",
    "class Solution:\n",
    "    def wordPattern(self, pattern, S):\n",
    "        S_li = S.split(' ')\n",
    "        # base 컨디션\n",
    "        if len(S_li) != len(pattern):\n",
    "            return False        \n",
    "        if len(set(S_li)) != len(set(pattern)):\n",
    "            return False\n",
    "        \n",
    "        dic = defaultdict(str)\n",
    "        for idx, p in enumerate(pattern):\n",
    "            if not dic[p]:\n",
    "                dic[p] = S_li[idx]\n",
    "            else:\n",
    "                if dic[p] == S_li[idx]:\n",
    "                    continue\n",
    "                else:\n",
    "                    return False\n",
    "        return True"
   ]
  },
  {
   "cell_type": "code",
   "execution_count": null,
   "metadata": {},
   "outputs": [],
   "source": []
  }
 ],
 "metadata": {
  "kernelspec": {
   "display_name": "Python 3",
   "language": "python",
   "name": "python3"
  },
  "language_info": {
   "codemirror_mode": {
    "name": "ipython",
    "version": 3
   },
   "file_extension": ".py",
   "mimetype": "text/x-python",
   "name": "python",
   "nbconvert_exporter": "python",
   "pygments_lexer": "ipython3",
   "version": "3.8.3"
  }
 },
 "nbformat": 4,
 "nbformat_minor": 4
}
