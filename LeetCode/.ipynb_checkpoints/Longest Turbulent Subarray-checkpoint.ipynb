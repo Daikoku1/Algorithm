{
 "cells": [
  {
   "cell_type": "markdown",
   "id": "7262c40c",
   "metadata": {},
   "source": [
    "# Longest Turbulent Subarray"
   ]
  },
  {
   "cell_type": "code",
   "execution_count": 21,
   "id": "78c04ba2",
   "metadata": {},
   "outputs": [],
   "source": [
    "# 536 ms, 19 MB \n",
    "def maxTurbulenceSize(arr):\n",
    "    if len(arr) == 1: return 1\n",
    "    ans = []\n",
    "    for idx, val in enumerate(arr[:-1]):\n",
    "        if val > arr[idx+1] : ans.append(1)\n",
    "        elif val < arr[idx+1] : ans.append(-1)\n",
    "        else: ans.append(0)\n",
    "            \n",
    "    cnt, max_cnt = 0, 0\n",
    "    idx = 0\n",
    "    while idx < len(ans):\n",
    "        if ans[idx] == 0:\n",
    "            cnt, max_cnt = 0, max(max_cnt, cnt)\n",
    "        else:\n",
    "            if idx == 0: cnt += 1\n",
    "            else:\n",
    "                if ans[idx] * ans[idx-1] < 0:  cnt += 1\n",
    "                else : cnt, max_cnt = 1, max(cnt, max_cnt)\n",
    "        idx += 1\n",
    "    max_cnt = max(max_cnt, cnt)\n",
    "    return max_cnt + 1\n",
    "    "
   ]
  },
  {
   "cell_type": "code",
   "execution_count": 22,
   "id": "2b80440a",
   "metadata": {},
   "outputs": [
    {
     "name": "stdout",
     "output_type": "stream",
     "text": [
      "[1, 1, -1, 1, -1, 0, 1, -1]\n"
     ]
    },
    {
     "data": {
      "text/plain": [
       "5"
      ]
     },
     "execution_count": 22,
     "metadata": {},
     "output_type": "execute_result"
    }
   ],
   "source": [
    "arr = [9,4,2,10,7,8,8,1,9]\n",
    "maxTurbulenceSize(arr)"
   ]
  },
  {
   "cell_type": "code",
   "execution_count": null,
   "id": "5bd4bbf6",
   "metadata": {},
   "outputs": [],
   "source": []
  }
 ],
 "metadata": {
  "kernelspec": {
   "display_name": "Python 3",
   "language": "python",
   "name": "python3"
  },
  "language_info": {
   "codemirror_mode": {
    "name": "ipython",
    "version": 3
   },
   "file_extension": ".py",
   "mimetype": "text/x-python",
   "name": "python",
   "nbconvert_exporter": "python",
   "pygments_lexer": "ipython3",
   "version": "3.8.8"
  }
 },
 "nbformat": 4,
 "nbformat_minor": 5
}
