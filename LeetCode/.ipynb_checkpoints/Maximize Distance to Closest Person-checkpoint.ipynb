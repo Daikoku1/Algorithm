{
 "cells": [
  {
   "cell_type": "code",
   "execution_count": null,
   "metadata": {},
   "outputs": [],
   "source": [
    "# Time = 124 ms, faster than 91.94% of Python3\n",
    "# Memory = 14.9 MB, less than 42.01% of Python3\n",
    "class Solution:\n",
    "    def maxDistToClosest(self, seats: List[int]) -> int:\n",
    "        li = [i for i, v in enumerate(seats) if v == 1]\n",
    "        \n",
    "        answer = max(li[0], len(seats) - 1 - li[-1])\n",
    "        for i, v in enumerate(li[1:]):\n",
    "            answer = max(answer, (v-li[i])//2)\n",
    "        \n",
    "        return answer"
   ]
  },
  {
   "cell_type": "code",
   "execution_count": null,
   "metadata": {},
   "outputs": [],
   "source": [
    "# Time = 124 ms, faster than 91.94% of Python3\n",
    "# Memory = 14.5 MB, less than 42.01% of Python3\n",
    "class Solution:\n",
    "    def maxDistToClosest(self, seats: List[int]) -> int:\n",
    "        prev = None\n",
    "        answer = 0\n",
    "        for i, v in enumerate(seats):\n",
    "            if v == 1:\n",
    "                if prev == None:\n",
    "                    answer = i\n",
    "                else:\n",
    "                    answer = max(answer, (i-prev)//2)\n",
    "                prev = i\n",
    "        answer = max(answer, i - prev)\n",
    "        return answer"
   ]
  }
 ],
 "metadata": {
  "kernelspec": {
   "display_name": "Python 3",
   "language": "python",
   "name": "python3"
  },
  "language_info": {
   "codemirror_mode": {
    "name": "ipython",
    "version": 3
   },
   "file_extension": ".py",
   "mimetype": "text/x-python",
   "name": "python",
   "nbconvert_exporter": "python",
   "pygments_lexer": "ipython3",
   "version": "3.8.5"
  }
 },
 "nbformat": 4,
 "nbformat_minor": 4
}
