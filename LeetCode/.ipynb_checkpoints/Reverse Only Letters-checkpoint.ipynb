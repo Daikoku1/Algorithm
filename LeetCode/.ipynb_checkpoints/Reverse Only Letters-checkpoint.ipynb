{
 "cells": [
  {
   "cell_type": "markdown",
   "id": "72e837a8",
   "metadata": {},
   "source": [
    "## Run_time\n",
    "- time = 32 ms\n",
    "- Memory = 14.1 MB"
   ]
  },
  {
   "cell_type": "code",
   "execution_count": 10,
   "id": "ab180b4f",
   "metadata": {},
   "outputs": [],
   "source": [
    "def solution(s):\n",
    "    ans = ['가'] * len(s)\n",
    "    english = []\n",
    "    for idx, c in enumerate(s):\n",
    "        if 65 <= ord(c) <= 90 or 97 <= ord(c) <= 122:\n",
    "            english.append(c)\n",
    "        else:\n",
    "            ans[idx] = c\n",
    "    t_idx = 0\n",
    "    while english:\n",
    "        if ans[t_idx] == '가': ans[t_idx] = english.pop()\n",
    "        t_idx += 1\n",
    "\n",
    "    return ''.join(ans)"
   ]
  },
  {
   "cell_type": "code",
   "execution_count": 11,
   "id": "2d06e9f1",
   "metadata": {},
   "outputs": [
    {
     "data": {
      "text/plain": [
       "44032"
      ]
     },
     "execution_count": 11,
     "metadata": {},
     "output_type": "execute_result"
    }
   ],
   "source": [
    "ord('가')"
   ]
  },
  {
   "cell_type": "code",
   "execution_count": 5,
   "id": "446222d2",
   "metadata": {},
   "outputs": [
    {
     "data": {
      "text/plain": [
       "97"
      ]
     },
     "execution_count": 5,
     "metadata": {},
     "output_type": "execute_result"
    }
   ],
   "source": [
    "ord('a')"
   ]
  },
  {
   "cell_type": "code",
   "execution_count": 6,
   "id": "24ef119a",
   "metadata": {},
   "outputs": [
    {
     "data": {
      "text/plain": [
       "122"
      ]
     },
     "execution_count": 6,
     "metadata": {},
     "output_type": "execute_result"
    }
   ],
   "source": [
    "ord('z')"
   ]
  },
  {
   "cell_type": "code",
   "execution_count": null,
   "id": "5c4b43f0",
   "metadata": {},
   "outputs": [],
   "source": []
  }
 ],
 "metadata": {
  "kernelspec": {
   "display_name": "Python 3",
   "language": "python",
   "name": "python3"
  },
  "language_info": {
   "codemirror_mode": {
    "name": "ipython",
    "version": 3
   },
   "file_extension": ".py",
   "mimetype": "text/x-python",
   "name": "python",
   "nbconvert_exporter": "python",
   "pygments_lexer": "ipython3",
   "version": "3.8.8"
  }
 },
 "nbformat": 4,
 "nbformat_minor": 5
}
