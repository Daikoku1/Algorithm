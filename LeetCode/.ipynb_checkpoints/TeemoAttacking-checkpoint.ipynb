{
 "cells": [
  {
   "cell_type": "code",
   "execution_count": null,
   "metadata": {},
   "outputs": [],
   "source": [
    "# Time = 276 ms, faster than 72.08% \n",
    "# Memory = 15.4 MB, less than 5.01%\n",
    "class Solution:\n",
    "    def findPoisonedDuration(self, timeSeries: List[int], duration: int) -> int:\n",
    "        if not timeSeries:\n",
    "            return 0\n",
    "        timeSeries.sort()\n",
    "        \n",
    "        s = timeSeries[0]\n",
    "        e = s + duration\n",
    "        time = 0\n",
    "        for t in timeSeries[1:]:\n",
    "            if t > e:\n",
    "                time += (e-s)\n",
    "                s = t\n",
    "                e = t + duration\n",
    "            else:\n",
    "                e = t + duration\n",
    "        \n",
    "        time += (e-s)\n",
    "        return time"
   ]
  },
  {
   "cell_type": "code",
   "execution_count": null,
   "metadata": {},
   "outputs": [],
   "source": [
    "# Time = 280 ms, faster than 64.20%\n",
    "# Memory = 15.2 MB, less than 23.87%\n",
    "class Solution:\n",
    "    def findPoisonedDuration(self, timeSeries, duration):\n",
    "        n, out = len(timeSeries), 0\n",
    "        if n == 0: return 0\n",
    "        for i in range(n-1):\n",
    "            out += min(timeSeries[i+1] - timeSeries[i], duration)\n",
    "        return out + duration"
   ]
  }
 ],
 "metadata": {
  "kernelspec": {
   "display_name": "Python 3",
   "language": "python",
   "name": "python3"
  },
  "language_info": {
   "codemirror_mode": {
    "name": "ipython",
    "version": 3
   },
   "file_extension": ".py",
   "mimetype": "text/x-python",
   "name": "python",
   "nbconvert_exporter": "python",
   "pygments_lexer": "ipython3",
   "version": "3.8.5"
  }
 },
 "nbformat": 4,
 "nbformat_minor": 4
}
