{
 "cells": [
  {
   "cell_type": "code",
   "execution_count": 7,
   "metadata": {},
   "outputs": [],
   "source": [
    "# Time = 36 ms (52.7%)\n",
    "# Memory = 14.3 MB()\n",
    "from collections import defaultdict\n",
    "class Solution:\n",
    "    def buddyStrings(self, A: str, B: str) -> bool:\n",
    "        dic = defaultdict(int)\n",
    "        li = [] # 다른 문자의 개수\n",
    "        for x, y in zip(A,B):\n",
    "            if x == y:\n",
    "                dic[x] += 1\n",
    "            else:\n",
    "                li.append([x,y])\n",
    "\n",
    "        if len(li) == 0:\n",
    "            for k, c in dic.items():\n",
    "                if c >= 2:\n",
    "                    return True\n",
    "        elif len(li) == 2 and len(A) == len(B):\n",
    "            if li[0][0] == li[1][1] and li[0][1] == li[1][0]:\n",
    "                return True\n",
    "        return False"
   ]
  },
  {
   "cell_type": "code",
   "execution_count": 9,
   "metadata": {},
   "outputs": [],
   "source": [
    "sol = Solution()"
   ]
  },
  {
   "cell_type": "code",
   "execution_count": 10,
   "metadata": {},
   "outputs": [
    {
     "data": {
      "text/plain": [
       "False"
      ]
     },
     "execution_count": 10,
     "metadata": {},
     "output_type": "execute_result"
    }
   ],
   "source": [
    "A = \"\"\n",
    "B = \"aa\"\n",
    "sol.buddyStrings(A,B)"
   ]
  }
 ],
 "metadata": {
  "kernelspec": {
   "display_name": "Python 3",
   "language": "python",
   "name": "python3"
  },
  "language_info": {
   "codemirror_mode": {
    "name": "ipython",
    "version": 3
   },
   "file_extension": ".py",
   "mimetype": "text/x-python",
   "name": "python",
   "nbconvert_exporter": "python",
   "pygments_lexer": "ipython3",
   "version": "3.8.3"
  }
 },
 "nbformat": 4,
 "nbformat_minor": 4
}
