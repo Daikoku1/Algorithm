{
 "cells": [
  {
   "cell_type": "code",
   "execution_count": null,
   "metadata": {},
   "outputs": [],
   "source": [
    "# Input: nums = [0,1,2,4,5,7]\n",
    "# Output: [\"0->2\",\"4->5\",\"7\"]"
   ]
  },
  {
   "cell_type": "code",
   "execution_count": 3,
   "metadata": {},
   "outputs": [],
   "source": [
    "# Time = 24 ms, faster than 90.41% of Python3 \n",
    "# Memory = 14.1 MB, less than 100.00% of Python3\n",
    "class Solution:\n",
    "    def summaryRanges(self, nums):\n",
    "        i, N = 0, len(nums)\n",
    "        result = []\n",
    "        while i < N:\n",
    "            beg = end = i\n",
    "            while end < N - 1 and nums[end] + 1 == nums[end + 1]:\n",
    "                end += 1\n",
    "            if beg == end:\n",
    "                result.append(str(nums[beg]))\n",
    "            else:\n",
    "                result.append(str(nums[beg]) + \"->\" + str(nums[end]))     \n",
    "            i = end + 1\n",
    "        \n",
    "        return result"
   ]
  },
  {
   "cell_type": "code",
   "execution_count": null,
   "metadata": {},
   "outputs": [],
   "source": []
  }
 ],
 "metadata": {
  "kernelspec": {
   "display_name": "Python 3",
   "language": "python",
   "name": "python3"
  },
  "language_info": {
   "codemirror_mode": {
    "name": "ipython",
    "version": 3
   },
   "file_extension": ".py",
   "mimetype": "text/x-python",
   "name": "python",
   "nbconvert_exporter": "python",
   "pygments_lexer": "ipython3",
   "version": "3.8.5"
  }
 },
 "nbformat": 4,
 "nbformat_minor": 4
}
