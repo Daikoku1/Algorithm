{
 "cells": [
  {
   "cell_type": "code",
   "execution_count": null,
   "metadata": {},
   "outputs": [],
   "source": [
    "# Time = 32 ms, faster than 32.89% of Python3\n",
    "# Memory = 14.4 MB, less than 5.24% of Python3\n",
    "class Solution:\n",
    "    def decodeString(self, s: str) -> str:\n",
    "        stack = []\n",
    "        nums = []\n",
    "        num = ''\n",
    "        for i in s:\n",
    "            if i.isnumeric():\n",
    "                num += i\n",
    "            elif i.isalpha():\n",
    "                stack.append(i)\n",
    "            elif i == '[':\n",
    "                nums.append(num)\n",
    "                num = ''\n",
    "                stack.append(i)\n",
    "            else:\n",
    "                sub_s = ''\n",
    "                while stack and stack[-1] != '[':\n",
    "                    sub_s = stack.pop() + sub_s\n",
    "                stack.pop()\n",
    "                stack.append(sub_s * int(nums.pop()))\n",
    "\n",
    "        return ''.join(stack)"
   ]
  },
  {
   "cell_type": "code",
   "execution_count": null,
   "metadata": {},
   "outputs": [],
   "source": [
    "sol = Solution()"
   ]
  },
  {
   "cell_type": "code",
   "execution_count": null,
   "metadata": {},
   "outputs": [],
   "source": [
    "s = \"3[a]2[bc]\"\n",
    "# Output: \"aaabcbc\"\n",
    "sol.decodeString(s)"
   ]
  },
  {
   "cell_type": "code",
   "execution_count": null,
   "metadata": {},
   "outputs": [],
   "source": [
    "s = \"3[a2[c]]\"\n",
    "# Output: \"accaccacc\"\n",
    "sol.decodeString(s)"
   ]
  },
  {
   "cell_type": "code",
   "execution_count": 1,
   "metadata": {},
   "outputs": [],
   "source": [
    "# Time = 24 ms, faster than 90.02% of Python3\n",
    "# Memory = 14.3 MB, less than 5.24% of Python3\n",
    "class Solution:\n",
    "    def decodeString(self, s: str) -> str:\n",
    "        nums, string = [], []\n",
    "        idx = 0\n",
    "        while idx < len(s):\n",
    "            if s[idx].isnumeric():\n",
    "                beg = idx\n",
    "                idx += 1\n",
    "                while s[idx].isnumeric():\n",
    "                    idx += 1\n",
    "                nums.append(int(s[beg:idx]))\n",
    "            elif s[idx] == ']':\n",
    "                sub_s = ''\n",
    "                while string and string[-1] != '[':\n",
    "                    sub_s = string.pop() + sub_s\n",
    "                string.pop()\n",
    "                string.append(sub_s * int(nums.pop()))\n",
    "                idx += 1\n",
    "            else:\n",
    "                string.append(s[idx])\n",
    "                idx += 1\n",
    "        return ''.join(string)"
   ]
  },
  {
   "cell_type": "code",
   "execution_count": 2,
   "metadata": {},
   "outputs": [
    {
     "data": {
      "text/plain": [
       "'aaabcbc'"
      ]
     },
     "execution_count": 2,
     "metadata": {},
     "output_type": "execute_result"
    }
   ],
   "source": [
    "sol2 = Solution()\n",
    "s = \"3[a]2[bc]\"\n",
    "# Output: \"aaabcbc\"\n",
    "sol2.decodeString(s)"
   ]
  }
 ],
 "metadata": {
  "kernelspec": {
   "display_name": "Python 3",
   "language": "python",
   "name": "python3"
  },
  "language_info": {
   "codemirror_mode": {
    "name": "ipython",
    "version": 3
   },
   "file_extension": ".py",
   "mimetype": "text/x-python",
   "name": "python",
   "nbconvert_exporter": "python",
   "pygments_lexer": "ipython3",
   "version": "3.8.5"
  },
  "toc": {
   "base_numbering": 1,
   "nav_menu": {},
   "number_sections": true,
   "sideBar": true,
   "skip_h1_title": false,
   "title_cell": "Table of Contents",
   "title_sidebar": "Contents",
   "toc_cell": false,
   "toc_position": {},
   "toc_section_display": true,
   "toc_window_display": true
  }
 },
 "nbformat": 4,
 "nbformat_minor": 4
}
