{
 "cells": [
  {
   "cell_type": "code",
   "execution_count": null,
   "metadata": {
    "colab": {},
    "colab_type": "code",
    "id": "HLForskrfroT"
   },
   "outputs": [],
   "source": [
    "# 512 ms(30%)\n",
    "class Solution:\n",
    "    def findDuplicates(self, nums: List[int]) -> List[int]:\n",
    "        dic = {}\n",
    "        result = []\n",
    "        for num in nums:\n",
    "            if num in dic:\n",
    "                result.append(num)\n",
    "            else:\n",
    "                dic[num] = 1\n",
    "        return result"
   ]
  },
  {
   "cell_type": "code",
   "execution_count": null,
   "metadata": {
    "colab": {},
    "colab_type": "code",
    "id": "tf39t0sWg1xq"
   },
   "outputs": [],
   "source": [
    "# 452 ms(42%)\n",
    "from collections import defaultdict\n",
    "class Solution:\n",
    "    def findDuplicates(self, nums: List[int]) -> List[int]:\n",
    "        dic = defaultdict(int)\n",
    "        result = []\n",
    "        for num in nums:\n",
    "            if dic[num]:\n",
    "                result.append(num)\n",
    "            else:\n",
    "                dic[num] = 1\n",
    "        return result"
   ]
  },
  {
   "cell_type": "code",
   "execution_count": 4,
   "metadata": {
    "colab": {
     "base_uri": "https://localhost:8080/",
     "height": 167
    },
    "colab_type": "code",
    "id": "YRwY83T-cTTd",
    "outputId": "7f46edcc-c1ff-4e14-aba4-91e0e8a1f13d",
    "scrolled": true
   },
   "outputs": [
    {
     "name": "stdout",
     "output_type": "stream",
     "text": [
      "[4, 3, 2, 7, 8, 2, 3, 1]\n",
      "[7, 3, 2, 4, 8, 2, 3, 1]\n",
      "[7, 2, 3, 4, 8, 2, 3, 1]\n",
      "[7, 2, 3, 4, 8, 2, 3, 1]\n",
      "[7, 2, 3, 4, 8, 2, 3, 1]\n",
      "[7, 2, 3, 4, 1, 2, 3, 8]\n",
      "[7, 2, 3, 4, 1, 2, 3, 8]\n",
      "[7, 2, 3, 4, 1, 2, 3, 8]\n",
      "[7, 2, 3, 4, 1, 2, 3, 8]\n"
     ]
    }
   ],
   "source": [
    "# 388 ms(81%)\n",
    "class Solution:\n",
    "    def findDuplicates(self, nums: List[int]) -> List[int]:\n",
    "        answer = []\n",
    "        for num in nums:\n",
    "            num = abs(num)\n",
    "            if nums[num-1] < 0:\n",
    "                answer.append(num)\n",
    "            else:\n",
    "                nums[num-1] *= -1\n",
    "        return answer"
   ]
  },
  {
   "cell_type": "code",
   "execution_count": null,
   "metadata": {},
   "outputs": [],
   "source": []
  },
  {
   "cell_type": "code",
   "execution_count": null,
   "metadata": {},
   "outputs": [],
   "source": [
    "# 380 ms, faster than 51.29% of Python3 online submissions for Find All Duplicates in an Array.\n",
    "# 25.9 MB, less than 5.36% of Python3 online submissions for Find All Duplicates in an Array.\n",
    "class Solution:\n",
    "    def findDuplicates(self, nums: List[int]) -> List[int]:\n",
    "        dic = {i : 2 for i in range(1, len(nums)+1)}\n",
    "        \n",
    "        ans = []\n",
    "        for num in nums: \n",
    "            if dic[num] == 1: ans.append(num)\n",
    "            dic[num] -= 1\n",
    "            \n",
    "        return ans"
   ]
  }
 ],
 "metadata": {
  "colab": {
   "authorship_tag": "ABX9TyOaw/naFL/dQKOkfg9SpRXP",
   "name": "FindAllDuplicatesinanArray.ipynb",
   "provenance": []
  },
  "kernelspec": {
   "display_name": "Python 3",
   "language": "python",
   "name": "python3"
  },
  "language_info": {
   "codemirror_mode": {
    "name": "ipython",
    "version": 3
   },
   "file_extension": ".py",
   "mimetype": "text/x-python",
   "name": "python",
   "nbconvert_exporter": "python",
   "pygments_lexer": "ipython3",
   "version": "3.8.8"
  }
 },
 "nbformat": 4,
 "nbformat_minor": 1
}
