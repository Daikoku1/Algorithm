{
 "cells": [
  {
   "cell_type": "code",
   "execution_count": null,
   "id": "38c9285f",
   "metadata": {},
   "outputs": [],
   "source": [
    "class Solution:\n",
    "    def sortArrayByParityII(self, nums: List[int]) -> List[int]:\n",
    "        odd, even = [], []\n",
    "        for i in nums:\n",
    "            if i%2: odd.append(i)\n",
    "            else:even.append(i)\n",
    "        ans = []\n",
    "        for a, b in zip(even, odd):\n",
    "            ans.append(a)\n",
    "            ans.append(b)\n",
    "        return ans"
   ]
  },
  {
   "cell_type": "code",
   "execution_count": null,
   "id": "18aff24a",
   "metadata": {},
   "outputs": [],
   "source": [
    "class Solution:\n",
    "    def sortArrayByParityII(self, a):\n",
    "        i = 0 # pointer for even\n",
    "        j = 1 # pointer for odd\n",
    "        \n",
    "        while i < len(a) and j < len(a):\n",
    "            if a[i] % 2 == 0 : i += 2\n",
    "            elif a[j] % 2 == 1 : j += 2\n",
    "            else:\n",
    "                # a[i] % 2 == 1 AND a[j] % 2 == 0\n",
    "                a[i],a[j] = a[j],a[i]\n",
    "                i += 2\n",
    "                j += 2\n",
    "\n",
    "        return a"
   ]
  }
 ],
 "metadata": {
  "kernelspec": {
   "display_name": "Python 3",
   "language": "python",
   "name": "python3"
  },
  "language_info": {
   "codemirror_mode": {
    "name": "ipython",
    "version": 3
   },
   "file_extension": ".py",
   "mimetype": "text/x-python",
   "name": "python",
   "nbconvert_exporter": "python",
   "pygments_lexer": "ipython3",
   "version": "3.8.8"
  }
 },
 "nbformat": 4,
 "nbformat_minor": 5
}
