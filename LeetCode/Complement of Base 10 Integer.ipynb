{
 "cells": [
  {
   "cell_type": "code",
   "execution_count": 34,
   "metadata": {},
   "outputs": [],
   "source": [
    "# Time = 28 ms, faster than 78.44% \n",
    "# Memory = 14.2 MB, less than 5.11%\n",
    "class Solution:\n",
    "    def bitwiseComplement(self, N: int) -> int:\n",
    "        bit = 1\n",
    "        binary_len = len(bin(N))-2\n",
    "        for binary in range(binary_len):\n",
    "            \n",
    "            N = N ^ bit\n",
    "            bit = bit << 1\n",
    "                \n",
    "        return N"
   ]
  },
  {
   "cell_type": "code",
   "execution_count": 35,
   "metadata": {},
   "outputs": [],
   "source": [
    "# Time = 28 ms, faster than 78.44% \n",
    "# Memory = 14.1 MB, less than 16.60%\n",
    "class Solution:\n",
    "    def bitwiseComplement(self, N: int) -> int:\n",
    "        return 2 ** (len(bin(N))-2)-1 - N"
   ]
  }
 ],
 "metadata": {
  "kernelspec": {
   "display_name": "Python 3",
   "language": "python",
   "name": "python3"
  },
  "language_info": {
   "codemirror_mode": {
    "name": "ipython",
    "version": 3
   },
   "file_extension": ".py",
   "mimetype": "text/x-python",
   "name": "python",
   "nbconvert_exporter": "python",
   "pygments_lexer": "ipython3",
   "version": "3.8.5"
  }
 },
 "nbformat": 4,
 "nbformat_minor": 4
}
