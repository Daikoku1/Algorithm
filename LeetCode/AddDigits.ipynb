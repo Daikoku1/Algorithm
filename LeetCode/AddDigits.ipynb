{
  "nbformat": 4,
  "nbformat_minor": 0,
  "metadata": {
    "colab": {
      "name": "AddDigits.ipynb",
      "provenance": [],
      "authorship_tag": "ABX9TyPd64vetem/uJ7r0jeIXs3L",
      "include_colab_link": true
    },
    "kernelspec": {
      "name": "python3",
      "display_name": "Python 3"
    }
  },
  "cells": [
    {
      "cell_type": "markdown",
      "metadata": {
        "id": "view-in-github",
        "colab_type": "text"
      },
      "source": [
        "<a href=\"https://colab.research.google.com/github/Daikoku1/Algorithm_LeetCode/blob/master/AddDigits.ipynb\" target=\"_parent\"><img src=\"https://colab.research.google.com/assets/colab-badge.svg\" alt=\"Open In Colab\"/></a>"
      ]
    },
    {
      "cell_type": "code",
      "metadata": {
        "id": "7OhLyYpnKe8j",
        "colab_type": "code",
        "colab": {}
      },
      "source": [
        "# 44 ms (25%)\n",
        "def addDigits(num):\n",
        "    num = str(num)\n",
        "    while len(num) != 1:\n",
        "        answer = 0\n",
        "        for i in range(len(num)):\n",
        "            answer += int(num[i])\n",
        "        num = str(answer)\n",
        "    return int(num)"
      ],
      "execution_count": 5,
      "outputs": []
    },
    {
      "cell_type": "code",
      "metadata": {
        "id": "_aYv9a6oKq3d",
        "colab_type": "code",
        "colab": {
          "base_uri": "https://localhost:8080/",
          "height": 34
        },
        "outputId": "fa2d3585-a954-4237-b85d-4262282dbb3e"
      },
      "source": [
        "num = 38\n",
        "addDigits(num)"
      ],
      "execution_count": 6,
      "outputs": [
        {
          "output_type": "execute_result",
          "data": {
            "text/plain": [
              "2"
            ]
          },
          "metadata": {
            "tags": []
          },
          "execution_count": 6
        }
      ]
    },
    {
      "cell_type": "code",
      "metadata": {
        "id": "f1AR7GY0LRKl",
        "colab_type": "code",
        "colab": {}
      },
      "source": [
        "# 28 ms (91%)\n",
        "def addDigits(num):\n",
        "    if num == 0:\n",
        "        return 0\n",
        "    else:\n",
        "        return (num-1) % 9 + 1"
      ],
      "execution_count": null,
      "outputs": []
    }
  ]
}