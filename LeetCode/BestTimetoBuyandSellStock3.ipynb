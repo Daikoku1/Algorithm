{
  "nbformat": 4,
  "nbformat_minor": 0,
  "metadata": {
    "colab": {
      "name": "BestTimetoBuyandSellStock3.ipynb",
      "provenance": [],
      "authorship_tag": "ABX9TyNFu8IsZ6c8V6kTxeV3F10/"
    },
    "kernelspec": {
      "name": "python3",
      "display_name": "Python 3"
    }
  },
  "cells": [
    {
      "cell_type": "code",
      "metadata": {
        "id": "oeLsc9KafGeM",
        "colab_type": "code",
        "colab": {}
      },
      "source": [
        "def maxProfit(prices):\n",
        "    l, k = len(prices), 2\n",
        "\n",
        "    B = [prices[i+1] - prices[i] for i in range(l - 1)]\n",
        "    if k > l//2:\n",
        "        return sum(x for x in B if x > 0)\n",
        "    \n",
        "    dp = [[0]*(k+1) for _ in range(l-1)] \n",
        "    mp = [[0]*(k+1) for _ in range(l-1)] \n",
        "\n",
        "    dp[0][1], mp[0][1] = B[0], B[0]\n",
        "\n",
        "    for i in range(1, l-1):\n",
        "        for j in range(1, k+1):\n",
        "            dp[i][j] = max(mp[i-1][j-1], dp[i-1][j]) + B[i]\n",
        "            mp[i][j] = max(dp[i][j], mp[i-1][j])\n",
        "\n",
        "    return max(mp[-1])"
      ],
      "execution_count": 7,
      "outputs": []
    },
    {
      "cell_type": "code",
      "metadata": {
        "id": "xk1AHhxQg2fg",
        "colab_type": "code",
        "colab": {}
      },
      "source": [
        ""
      ],
      "execution_count": null,
      "outputs": []
    }
  ]
}