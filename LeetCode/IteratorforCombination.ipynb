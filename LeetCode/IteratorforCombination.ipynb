{
  "nbformat": 4,
  "nbformat_minor": 0,
  "metadata": {
    "colab": {
      "name": "IteratorforCombination.ipynb",
      "provenance": [],
      "authorship_tag": "ABX9TyMJTcUA/4fs1URIvT7Sl0NV",
      "include_colab_link": true
    },
    "kernelspec": {
      "name": "python3",
      "display_name": "Python 3"
    }
  },
  "cells": [
    {
      "cell_type": "markdown",
      "metadata": {
        "id": "view-in-github",
        "colab_type": "text"
      },
      "source": [
        "<a href=\"https://colab.research.google.com/github/Daikoku1/Algorithm_LeetCode/blob/master/IteratorforCombination.ipynb\" target=\"_parent\"><img src=\"https://colab.research.google.com/assets/colab-badge.svg\" alt=\"Open In Colab\"/></a>"
      ]
    },
    {
      "cell_type": "code",
      "metadata": {
        "id": "aqXA40HYUnQ_",
        "colab_type": "code",
        "colab": {}
      },
      "source": [
        "# 48 ms (94%)\n",
        "from itertools import combinations\n",
        "class CombinationIterator:\n",
        "\n",
        "    def __init__(self, characters: str, combinationLength: int):\n",
        "        self.idx = 0\n",
        "        self.combi = list(combinations(characters, combinationLength))\n",
        "\n",
        "    def next(self) -> str:\n",
        "        self.idx += 1\n",
        "        return ''.join(self.combi[self.idx -1])\n",
        "\n",
        "    def hasNext(self) -> bool:\n",
        "        return self.idx < len(self.combi)\n",
        "\n",
        "\n",
        "# Your CombinationIterator object will be instantiated and called as such:\n",
        "# obj = CombinationIterator(characters, combinationLength)\n",
        "# param_1 = obj.next()\n",
        "# param_2 = obj.hasNext()"
      ],
      "execution_count": 1,
      "outputs": []
    }
  ]
}