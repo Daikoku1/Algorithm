{
  "nbformat": 4,
  "nbformat_minor": 0,
  "metadata": {
    "colab": {
      "name": "MaximumSubarray.ipynb",
      "provenance": [],
      "authorship_tag": "ABX9TyMZnVo0g33TotRRCcrTjmkd",
      "include_colab_link": true
    },
    "kernelspec": {
      "name": "python3",
      "display_name": "Python 3"
    }
  },
  "cells": [
    {
      "cell_type": "markdown",
      "metadata": {
        "id": "view-in-github",
        "colab_type": "text"
      },
      "source": [
        "<a href=\"https://colab.research.google.com/github/Daikoku1/Algorithm_LeetCode/blob/master/MaximumSubarray.ipynb\" target=\"_parent\"><img src=\"https://colab.research.google.com/assets/colab-badge.svg\" alt=\"Open In Colab\"/></a>"
      ]
    },
    {
      "cell_type": "code",
      "metadata": {
        "id": "TFzHOjZu47F_",
        "colab_type": "code",
        "colab": {}
      },
      "source": [
        "# 88 ms\n",
        "def maxSubArray(nums):\n",
        "    max_sum = nums[0]\n",
        "    now = nums[0]\n",
        "    \n",
        "    for i in range(1, len(nums)):\n",
        "        now = max(now + nums[i], nums[i])\n",
        "        max_sum = max(max_sum, now)\n",
        "    return max_sum"
      ],
      "execution_count": 1,
      "outputs": []
    },
    {
      "cell_type": "code",
      "metadata": {
        "id": "5J4z3jYu5GFz",
        "colab_type": "code",
        "colab": {}
      },
      "source": [
        "# 80 ms\n",
        "def maxSubArray(nums):\n",
        "    max_sum, now = nums[0], 0\n",
        "    \n",
        "    for n in nums:\n",
        "        if now < 0:\n",
        "            now = 0\n",
        "        now += n\n",
        "        max_sum = max(max_sum, now)\n",
        "    return max_sum"
      ],
      "execution_count": null,
      "outputs": []
    }
  ]
}