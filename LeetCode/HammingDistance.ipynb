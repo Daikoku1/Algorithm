{
  "nbformat": 4,
  "nbformat_minor": 0,
  "metadata": {
    "colab": {
      "name": "HammingDistance",
      "provenance": [],
      "authorship_tag": "ABX9TyNlA3e+Fs/aHHKNmJPyzL0W",
      "include_colab_link": true
    },
    "kernelspec": {
      "name": "python3",
      "display_name": "Python 3"
    }
  },
  "cells": [
    {
      "cell_type": "markdown",
      "metadata": {
        "id": "view-in-github",
        "colab_type": "text"
      },
      "source": [
        "<a href=\"https://colab.research.google.com/github/Daikoku1/Algorithm_LeetCode/blob/master/HammingDistance.ipynb\" target=\"_parent\"><img src=\"https://colab.research.google.com/assets/colab-badge.svg\" alt=\"Open In Colab\"/></a>"
      ]
    },
    {
      "cell_type": "code",
      "metadata": {
        "id": "B9hbAKe0l0Ao",
        "colab_type": "code",
        "colab": {
          "base_uri": "https://localhost:8080/",
          "height": 34
        },
        "outputId": "accd358e-b7fc-442f-dce7-ffa67ecc6901"
      },
      "source": [
        "x = 1\n",
        "y = 3\n",
        "x ^ y"
      ],
      "execution_count": 2,
      "outputs": [
        {
          "output_type": "execute_result",
          "data": {
            "text/plain": [
              "2"
            ]
          },
          "metadata": {
            "tags": []
          },
          "execution_count": 2
        }
      ]
    },
    {
      "cell_type": "code",
      "metadata": {
        "id": "BHNLtZzcl2mu",
        "colab_type": "code",
        "colab": {}
      },
      "source": [
        "# 68 ms\n",
        "class Solution:\n",
        "    def make_base(self, n):\n",
        "        q, r = divmod(n, 2)\n",
        "        \n",
        "        if q == 0:\n",
        "            return r\n",
        "        else:\n",
        "            return self.make_base(q) + r\n",
        "    def hammingDistance(self, x, y):\n",
        "        num = x ^ y\n",
        "        return self.make_base(num)"
      ],
      "execution_count": 6,
      "outputs": []
    },
    {
      "cell_type": "code",
      "metadata": {
        "id": "Lp_QllEC3Saj",
        "colab_type": "code",
        "colab": {}
      },
      "source": [
        "# 32ms\n",
        "def hammingDistance(x, y):\n",
        "    num = x ^ y\n",
        "    cnt = 0\n",
        "    while num:\n",
        "        cnt += 1\n",
        "        num = num & (num-1)\n",
        "\n",
        "    return cnt"
      ],
      "execution_count": null,
      "outputs": []
    },
    {
      "cell_type": "code",
      "metadata": {
        "id": "qdwzKt2_mPAC",
        "colab_type": "code",
        "colab": {}
      },
      "source": [
        ""
      ],
      "execution_count": null,
      "outputs": []
    }
  ]
}