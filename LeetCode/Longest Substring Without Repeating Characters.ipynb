{
 "cells": [
  {
   "cell_type": "markdown",
   "id": "e39e0d6d",
   "metadata": {},
   "source": [
    "- 56 ms, faster than 86.57% of Python3\n",
    "- 14.4 MB, less than 24.34% of Python3"
   ]
  },
  {
   "cell_type": "code",
   "execution_count": 37,
   "id": "66706204",
   "metadata": {},
   "outputs": [],
   "source": [
    "from  collections import deque\n",
    "class Solution:\n",
    "    def lengthOfLongestSubstring(self, s: str) -> int:\n",
    "        max_len = 0\n",
    "        ans = deque()\n",
    "        dic = {}\n",
    "        \n",
    "        for c in s:\n",
    "            print(1, c, 1)\n",
    "            if dic.get(c, 0) == 0:\n",
    "                ans.append(c)\n",
    "                dic[c] = 1\n",
    "            else:\n",
    "                max_len = max(max_len, len(ans))\n",
    "                \n",
    "                while ans:\n",
    "                    sub = ans.popleft()\n",
    "                    if sub == c: break\n",
    "                    dic[sub] -= 1\n",
    "                ans.append(c)\n",
    "        max_len = max(max_len, len(ans))\n",
    "        return max_len"
   ]
  },
  {
   "cell_type": "code",
   "execution_count": 38,
   "id": "db73a204",
   "metadata": {},
   "outputs": [],
   "source": [
    "A = Solution()"
   ]
  },
  {
   "cell_type": "code",
   "execution_count": 39,
   "id": "6586f0fc",
   "metadata": {},
   "outputs": [
    {
     "name": "stdout",
     "output_type": "stream",
     "text": [
      "1 a 1\n",
      "1 b 1\n",
      "1 c 1\n",
      "1 a 1\n",
      "1 b 1\n",
      "1 c 1\n",
      "1 b 1\n",
      "1 b 1\n"
     ]
    },
    {
     "data": {
      "text/plain": [
       "3"
      ]
     },
     "execution_count": 39,
     "metadata": {},
     "output_type": "execute_result"
    }
   ],
   "source": [
    "A.lengthOfLongestSubstring(\"abcabcbb\")"
   ]
  },
  {
   "cell_type": "code",
   "execution_count": 40,
   "id": "18987e03",
   "metadata": {},
   "outputs": [
    {
     "name": "stdout",
     "output_type": "stream",
     "text": [
      "1   1\n"
     ]
    },
    {
     "data": {
      "text/plain": [
       "1"
      ]
     },
     "execution_count": 40,
     "metadata": {},
     "output_type": "execute_result"
    }
   ],
   "source": [
    "A.lengthOfLongestSubstring(\" \")"
   ]
  },
  {
   "cell_type": "code",
   "execution_count": null,
   "id": "c7dac016",
   "metadata": {},
   "outputs": [],
   "source": []
  }
 ],
 "metadata": {
  "kernelspec": {
   "display_name": "Python 3",
   "language": "python",
   "name": "python3"
  },
  "language_info": {
   "codemirror_mode": {
    "name": "ipython",
    "version": 3
   },
   "file_extension": ".py",
   "mimetype": "text/x-python",
   "name": "python",
   "nbconvert_exporter": "python",
   "pygments_lexer": "ipython3",
   "version": "3.8.8"
  }
 },
 "nbformat": 4,
 "nbformat_minor": 5
}
