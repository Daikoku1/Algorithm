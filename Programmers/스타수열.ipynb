{
 "cells": [
  {
   "cell_type": "code",
   "execution_count": 2,
   "metadata": {},
   "outputs": [],
   "source": [
    "# 시간초과\n",
    "from collections import defaultdict\n",
    "def solution(a):\n",
    "    dic = defaultdict(list)\n",
    "    for i, v in enumerate(a):\n",
    "        dic[v].append(i)\n",
    "        \n",
    "    l = len(a)\n",
    "    answer = 0\n",
    "    for k, v in dic.items():\n",
    "        now = [0] * l\n",
    "        for i in v:\n",
    "            now[i] = 1\n",
    "        \n",
    "        cnt = 0\n",
    "        for j in v:\n",
    "            if j > 0 and now[j-1] == 0:\n",
    "                now[j-1] = 1\n",
    "                cnt += 2\n",
    "            elif j < l-1 and now[j+1] == 0:\n",
    "                now[j+1] = 1\n",
    "                cnt += 2\n",
    "        answer = max(answer, cnt)\n",
    "    return answer"
   ]
  },
  {
   "cell_type": "markdown",
   "metadata": {},
   "source": [
    "# Sol\n",
    "- 조건식 추가하여 성공"
   ]
  },
  {
   "cell_type": "code",
   "execution_count": 1,
   "metadata": {},
   "outputs": [],
   "source": [
    "# Max_time = 375.18 ms\n",
    "# Memory = 91.6 MB\n",
    "from collections import defaultdict\n",
    "def solution(a):\n",
    "    dic = defaultdict(list)\n",
    "    for i, v in enumerate(a):\n",
    "        dic[v].append(i)\n",
    "        \n",
    "    l = len(a)\n",
    "    answer = 0\n",
    "    for k, v in dic.items():\n",
    "        if len(v) <= answer // 2:\n",
    "            continue\n",
    "        else:\n",
    "            now = a.copy()\n",
    "            cnt = 0\n",
    "            for j in v:\n",
    "                if j > 0 and now[j-1] != k:\n",
    "                    now[j-1] = k\n",
    "                    cnt += 2\n",
    "                elif j < l-1 and now[j+1] != k:\n",
    "                    now[j+1] = k\n",
    "                    cnt += 2\n",
    "            answer = max(answer, cnt)\n",
    "    return answer"
   ]
  },
  {
   "cell_type": "code",
   "execution_count": null,
   "metadata": {},
   "outputs": [],
   "source": []
  }
 ],
 "metadata": {
  "kernelspec": {
   "display_name": "Python 3",
   "language": "python",
   "name": "python3"
  },
  "language_info": {
   "codemirror_mode": {
    "name": "ipython",
    "version": 3
   },
   "file_extension": ".py",
   "mimetype": "text/x-python",
   "name": "python",
   "nbconvert_exporter": "python",
   "pygments_lexer": "ipython3",
   "version": "3.8.5"
  }
 },
 "nbformat": 4,
 "nbformat_minor": 4
}
