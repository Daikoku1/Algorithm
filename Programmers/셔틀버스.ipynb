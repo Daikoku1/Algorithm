{
  "nbformat": 4,
  "nbformat_minor": 0,
  "metadata": {
    "colab": {
      "name": "셔틀버스.ipynb",
      "provenance": [],
      "authorship_tag": "ABX9TyPj57DXovWiyuGFCrLZMAHZ"
    },
    "kernelspec": {
      "name": "python3",
      "display_name": "Python 3"
    }
  },
  "cells": [
    {
      "cell_type": "code",
      "metadata": {
        "id": "ARzcth4jAV8F",
        "colab_type": "code",
        "colab": {}
      },
      "source": [
        "from datetime import time\n",
        "def solution(n, t, m, timetable):\n",
        "    time_list = [ int(time[:2])*60 + int(time[3:5]) for time in timetable ]\n",
        "    time_list.sort()\n",
        "    \n",
        "    last_time = 540 + (n - 1) * t\n",
        "    q, r = divmod(last_time, 60)\n",
        "    for i in range(n-1):\n",
        "        shuttle_arrive = 540 + i * t\n",
        "        for i in range(m):\n",
        "            if time_list:\n",
        "                if time_list[0] <= shuttle_arrive:\n",
        "                    time_list.pop(0)\n",
        "                else:\n",
        "                    break\n",
        "            else:\n",
        "                return str(time(q, r))[:5]\n",
        "    \n",
        "    if len(time_list) < m:\n",
        "        return str(time(q, r))[:5]\n",
        "        # return '%02d:%02d' % (last_time // 60, last_time % 60)\n",
        "\n",
        "    if time_list[0] > last_time:\n",
        "        return str(time(q, r))[:5]\n",
        "    conn_time = time_list[m - 1] - 1\n",
        "    q, r = divmod(conn_time, 60)\n",
        "    return str(time(q, r))[:5]"
      ],
      "execution_count": 9,
      "outputs": []
    },
    {
      "cell_type": "code",
      "metadata": {
        "id": "iAYIQfPjAXNs",
        "colab_type": "code",
        "colab": {
          "base_uri": "https://localhost:8080/",
          "height": 35
        },
        "outputId": "0f4a67a7-0191-46cc-985d-a5710ea89a20"
      },
      "source": [
        "# n : 운행횟수, t : 운행간격, m : 셔틀당 최대인원\n",
        "n = 1\n",
        "t = 1\n",
        "m = 5\n",
        "timetable = ['08:00', '08:01', '08:02', '08:03']\n",
        "solution(n, t, m, timetable)"
      ],
      "execution_count": 10,
      "outputs": [
        {
          "output_type": "execute_result",
          "data": {
            "text/plain": [
              "'09:00'"
            ]
          },
          "metadata": {
            "tags": []
          },
          "execution_count": 10
        }
      ]
    },
    {
      "cell_type": "code",
      "metadata": {
        "id": "U1CVVSaKK_ei",
        "colab_type": "code",
        "colab": {
          "base_uri": "https://localhost:8080/",
          "height": 35
        },
        "outputId": "889d688f-0d9b-4b41-e2a3-a1bf2eef0b2f"
      },
      "source": [
        "n = 2\n",
        "t = 10\n",
        "m = 2\n",
        "timetable = [\"09:10\", \"09:09\", \"08:00\"]\n",
        "solution(n, t, m, timetable)"
      ],
      "execution_count": 11,
      "outputs": [
        {
          "output_type": "execute_result",
          "data": {
            "text/plain": [
              "'09:09'"
            ]
          },
          "metadata": {
            "tags": []
          },
          "execution_count": 11
        }
      ]
    }
  ]
}