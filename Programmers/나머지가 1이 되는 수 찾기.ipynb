{
 "cells": [
  {
   "cell_type": "markdown",
   "metadata": {},
   "source": [
    "# 코드1\n",
    "- 테스트 1 〉\t통과 (253.42ms, 25.4MB)\n",
    "- 테스트 2 〉\t통과 (13.47ms, 11.1MB)\n",
    "- 테스트 3 〉\t통과 (166.04ms, 22.4MB)\n",
    "- 테스트 4 〉\t통과 (253.11ms, 25.3MB)\n",
    "- 테스트 5 〉\t통과 (0.02ms, 10.2MB)\n",
    "- 테스트 6 〉\t통과 (0.08ms, 10.2MB)\n",
    "- 테스트 7 〉\t통과 (0.16ms, 10.2MB)\n",
    "- 테스트 8 〉\t통과 (0.41ms, 10.3MB)\n",
    "- 테스트 9 〉\t통과 (7.47ms, 10.4MB)\n",
    "- 테스트 10 〉\t통과 (64.71ms, 15.5MB)\n",
    "- 테스트 11 〉\t통과 (122.36ms, 20.9MB)"
   ]
  },
  {
   "cell_type": "code",
   "execution_count": 1,
   "metadata": {},
   "outputs": [],
   "source": [
    "def solution(n):\n",
    "    prime = [False, False] + [True] * (n-1)\n",
    "    for i in range(1, n+1):\n",
    "        if prime[i]:\n",
    "            for j in range(2*i, n+1, i):\n",
    "                prime[j] = False\n",
    "    \n",
    "    n -= 1\n",
    "    for i in range(1, n+1):\n",
    "        if prime[i] and n % i == 0: return i"
   ]
  },
  {
   "cell_type": "code",
   "execution_count": 2,
   "metadata": {},
   "outputs": [
    {
     "data": {
      "text/plain": [
       "3"
      ]
     },
     "execution_count": 2,
     "metadata": {},
     "output_type": "execute_result"
    }
   ],
   "source": [
    "solution(10)"
   ]
  },
  {
   "cell_type": "code",
   "execution_count": 3,
   "metadata": {},
   "outputs": [
    {
     "data": {
      "text/plain": [
       "11"
      ]
     },
     "execution_count": 3,
     "metadata": {},
     "output_type": "execute_result"
    }
   ],
   "source": [
    "solution(12)\n"
   ]
  },
  {
   "cell_type": "markdown",
   "metadata": {},
   "source": [
    "# 코드2\n",
    "- 테스트 1 〉\t통과 (51.64ms, 10.3MB)\n",
    "- 테스트 2 〉\t통과 (0.01ms, 10.2MB)\n",
    "- 테스트 3 〉\t통과 (0.00ms, 10.2MB)\n",
    "- 테스트 4 〉\t통과 (0.00ms, 10.2MB)\n",
    "- 테스트 5 〉\t통과 (0.01ms, 10.3MB)\n",
    "- 테스트 6 〉\t통과 (0.02ms, 10.2MB)\n",
    "- 테스트 7 〉\t통과 (0.07ms, 10.2MB)\n",
    "- 테스트 8 〉\t통과 (0.00ms, 10.2MB)\n",
    "- 테스트 9 〉\t통과 (0.01ms, 10.2MB)\n",
    "- 테스트 10 〉\t통과 (0.01ms, 10.2MB)\n",
    "- 테스트 11 〉\t통과 (0.01ms, 10.2MB)"
   ]
  },
  {
   "cell_type": "code",
   "execution_count": null,
   "metadata": {},
   "outputs": [],
   "source": [
    "def solution(n):\n",
    "    n -= 1\n",
    "    for i in range(2, n+1):\n",
    "        if n % i == 0: return i"
   ]
  }
 ],
 "metadata": {
  "interpreter": {
   "hash": "9652531e86fbc99dfe7fc5092eb81081a97fad237de3d1fd3b3a0d1c69c61538"
  },
  "kernelspec": {
   "display_name": "Python 3.9.7 64-bit ('ox': conda)",
   "name": "python3"
  },
  "language_info": {
   "codemirror_mode": {
    "name": "ipython",
    "version": 3
   },
   "file_extension": ".py",
   "mimetype": "text/x-python",
   "name": "python",
   "nbconvert_exporter": "python",
   "pygments_lexer": "ipython3",
   "version": "3.9.7"
  },
  "orig_nbformat": 4
 },
 "nbformat": 4,
 "nbformat_minor": 2
}
