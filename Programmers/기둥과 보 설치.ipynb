{
 "cells": [
  {
   "cell_type": "markdown",
   "id": "fef7ff51",
   "metadata": {},
   "source": [
    "# 코드 1"
   ]
  },
  {
   "cell_type": "markdown",
   "id": "7af2183c",
   "metadata": {},
   "source": [
    "- 테스트 1 〉\t통과 (0.05ms, 10.3MB)\n",
    "- 테스트 2 〉\t통과 (0.05ms, 10.3MB)\n",
    "- 테스트 3 〉\t통과 (0.03ms, 10.3MB)\n",
    "- 테스트 4 〉\t통과 (0.06ms, 10.3MB)\n",
    "- 테스트 5 〉\t통과 (0.08ms, 10.3MB)\n",
    "- 테스트 6 〉\t통과 (0.37ms, 10.3MB)\n",
    "- 테스트 7 〉\t통과 (0.01ms, 10.2MB)\n",
    "- 테스트 8 〉\t통과 (0.05ms, 10.2MB)\n",
    "- 테스트 9 〉\t통과 (0.04ms, 10.3MB)\n",
    "- 테스트 10 〉\t통과 (11.92ms, 10.4MB)\n",
    "- 테스트 11 〉\t통과 (62.73ms, 10.7MB)\n",
    "- 테스트 12 〉\t통과 (9.11ms, 10.4MB)\n",
    "- 테스트 13 〉\t통과 (52.30ms, 10.6MB)\n",
    "- 테스트 14 〉\t통과 (10.15ms, 10.4MB)\n",
    "- 테스트 15 〉\t통과 (45.20ms, 10.6MB)\n",
    "- 테스트 16 〉\t통과 (9.84ms, 10.4MB)\n",
    "- 테스트 17 〉\t통과 (40.16ms, 10.6MB)\n",
    "- 테스트 18 〉\t통과 (34.57ms, 10.6MB)\n",
    "- 테스트 19 〉\t통과 (48.38ms, 10.5MB)\n",
    "- 테스트 20 〉\t통과 (33.71ms, 10.5MB)\n",
    "- 테스트 21 〉\t통과 (36.81ms, 10.5MB)\n",
    "- 테스트 22 〉\t통과 (29.98ms, 10.6MB)\n",
    "- 테스트 23 〉\t통과 (34.54ms, 10.5MB)"
   ]
  },
  {
   "cell_type": "code",
   "execution_count": 26,
   "id": "5506a8be",
   "metadata": {},
   "outputs": [],
   "source": [
    "def check(li):\n",
    "    for x, y, a in li:\n",
    "        if a == 0:  # 기둥\n",
    "            # 아래 바닥 or 아래 기둥 or 왼쪽 보 or 오른쪽 보\n",
    "            if y == 0 or (x, y - 1, 0) in li or (x - 1, y, 1) in li or (x, y, 1) in li : continue\n",
    "            else : return False\n",
    "        else:  # 보\n",
    "            # 아래 기둥 or 오른쪽 아래 기둥 or (왼쪽 보 and 오른쪽 보)\n",
    "            if (x, y - 1, 0) in li or (x + 1, y - 1, 0) in li : continue\n",
    "            elif (x - 1, y, 1) in li and (x + 1, y, 1) in li : continue\n",
    "            else : return False\n",
    "    return True\n",
    "\n",
    "\n",
    "def solution(n, build_frame):\n",
    "    # set을 쓰는 이유: if a in lst 와 같이 어떤 리스트안에 값이 들어있는지 없는지 확인할 때 set이 훨씬 빠르다\n",
    "    ans = set()  \n",
    "    for x, y, a, b in build_frame:\n",
    "        # set에는 list형태를 add할 수 없다. 나중에 바꿔줘야 해서 귀찮다.. 하지만 속도\n",
    "        xys = (x, y, a)  \n",
    "        if b == 1:  # 설치\n",
    "            ans.add(xys)  # 일단 설치해보고\n",
    "            if not check(ans):  # 문제가 발생하면\n",
    "                ans.remove(xys)  # 다시 삭제\n",
    "\n",
    "        else:  # 삭제\n",
    "            ans.remove(xys)  # 일단 삭제하고\n",
    "            if not check(ans):  # 문제가 발생하면 \n",
    "                ans.add(xys)  # 다시 추가\n",
    "\n",
    "    ans = [list(x) for x in ans]\n",
    "    ans.sort()\n",
    "    \n",
    "    return ans"
   ]
  },
  {
   "cell_type": "code",
   "execution_count": 27,
   "id": "b420b3b7",
   "metadata": {
    "scrolled": true
   },
   "outputs": [
    {
     "data": {
      "text/plain": [
       "[[1, 0, 0],\n",
       " [1, 1, 1],\n",
       " [2, 1, 0],\n",
       " [2, 2, 1],\n",
       " [3, 2, 1],\n",
       " [4, 2, 1],\n",
       " [5, 0, 0],\n",
       " [5, 1, 0]]"
      ]
     },
     "execution_count": 27,
     "metadata": {},
     "output_type": "execute_result"
    }
   ],
   "source": [
    "n = 5\n",
    "build_frame = [[1,0,0,1],[1,1,1,1],[2,1,0,1],[2,2,1,1],[5,0,0,1],[5,1,0,1],[4,2,1,1],[3,2,1,1]]\n",
    "solution(n, build_frame)"
   ]
  },
  {
   "cell_type": "code",
   "execution_count": 28,
   "id": "3a895290",
   "metadata": {},
   "outputs": [
    {
     "data": {
      "text/plain": [
       "[[0, 0, 0], [0, 1, 1], [1, 1, 1], [2, 1, 1], [3, 1, 1], [4, 0, 0]]"
      ]
     },
     "execution_count": 28,
     "metadata": {},
     "output_type": "execute_result"
    }
   ],
   "source": [
    "n = 5\n",
    "build_frame = [[0,0,0,1],[2,0,0,1],[4,0,0,1],[0,1,1,1],[1,1,1,1],[2,1,1,1],[3,1,1,1],[2,0,0,0],[1,1,1,0],[2,2,0,1]]\n",
    "solution(n, build_frame)"
   ]
  },
  {
   "cell_type": "markdown",
   "id": "8a152b79",
   "metadata": {},
   "source": [
    "# 코드 2"
   ]
  },
  {
   "cell_type": "markdown",
   "id": "75da9a17",
   "metadata": {},
   "source": [
    "- 테스트 1 〉\t통과 (0.02ms, 10.3MB)\n",
    "- 테스트 2 〉\t통과 (0.03ms, 10.3MB)\n",
    "- 테스트 3 〉\t통과 (0.02ms, 10.2MB)\n",
    "- 테스트 4 〉\t통과 (0.03ms, 10.3MB)\n",
    "- 테스트 5 〉\t통과 (0.03ms, 10.2MB)\n",
    "- 테스트 6 〉\t통과 (0.10ms, 10.3MB)\n",
    "- 테스트 7 〉\t통과 (0.01ms, 10.3MB)\n",
    "- 테스트 8 〉\t통과 (0.02ms, 10.4MB)\n",
    "- 테스트 9 〉\t통과 (0.02ms, 10.2MB)\n",
    "- 테스트 10 〉\t통과 (1.52ms, 10.5MB)\n",
    "- 테스트 11 〉\t통과 (4.13ms, 10.7MB)\n",
    "- 테스트 12 〉\t통과 (1.07ms, 10.5MB)\n",
    "- 테스트 13 〉\t통과 (5.67ms, 10.6MB)\n",
    "- 테스트 14 〉\t통과 (1.42ms, 10.4MB)\n",
    "- 테스트 15 〉\t통과 (4.66ms, 10.6MB)\n",
    "- 테스트 16 〉\t통과 (1.31ms, 10.5MB)\n",
    "- 테스트 17 〉\t통과 (5.27ms, 10.6MB)\n",
    "- 테스트 18 〉\t통과 (12.28ms, 10.5MB)\n",
    "- 테스트 19 〉\t통과 (11.65ms, 10.5MB)\n",
    "- 테스트 20 〉\t통과 (11.79ms, 10.5MB)\n",
    "- 테스트 21 〉\t통과 (12.99ms, 10.5MB)\n",
    "- 테스트 22 〉\t통과 (10.63ms, 10.5MB)\n",
    "- 테스트 23 〉\t통과 (13.14ms, 10.5MB)"
   ]
  },
  {
   "cell_type": "code",
   "execution_count": null,
   "id": "40dd6396",
   "metadata": {},
   "outputs": [],
   "source": [
    "def install_check(x, y, a, li):\n",
    "    if a == 0:  # 기둥\n",
    "        # 아래 바닥 or 아래 기둥 or 왼쪽 보 or 오른쪽 보\n",
    "        if y == 0 or (x, y - 1, 0) in li or (x - 1, y, 1) in li or (x, y, 1) in li : return True\n",
    "        else : return False\n",
    "    else:  # 보\n",
    "        # 아래 기둥 or 오른쪽 아래 기둥 or (왼쪽 보 and 오른쪽 보)\n",
    "        if (x, y - 1, 0) in li or (x + 1, y - 1, 0) in li : return True\n",
    "        elif (x - 1, y, 1) in li and (x + 1, y, 1) in li : return True\n",
    "        else : return False\n",
    "    \n",
    "def del_check(li):\n",
    "    for x, y, a in li:\n",
    "        if a == 0:  # 기둥\n",
    "            # 아래 바닥 or 아래 기둥 or 왼쪽 보 or 오른쪽 보\n",
    "            if y == 0 or (x, y - 1, 0) in li or (x - 1, y, 1) in li or (x, y, 1) in li : continue\n",
    "            else : return False\n",
    "        else:  # 보\n",
    "            # 아래 기둥 or 오른쪽 아래 기둥 or (왼쪽 보 and 오른쪽 보)\n",
    "            if (x, y - 1, 0) in li or (x + 1, y - 1, 0) in li : continue\n",
    "            elif (x - 1, y, 1) in li and (x + 1, y, 1) in li : continue\n",
    "            else : return False\n",
    "    return True\n",
    "\n",
    "def solution(n, build_frame):\n",
    "    # set을 쓰는 이유: if a in lst 와 같이 어떤 리스트안에 값이 들어있는지 없는지 확인할 때 set이 훨씬 빠르다\n",
    "    ans = set()  \n",
    "    for x, y, a, b in build_frame:\n",
    "        # set에는 list형태를 add할 수 없다. 나중에 바꿔줘야 해서 귀찮다.. 하지만 속도\n",
    "        xys = (x, y, a)  \n",
    "        if b == 1:  # 설치\n",
    "            if install_chec(x,y,a,ans): ans.add(xys)\n",
    "                \n",
    "        else:  # 삭제\n",
    "            ans.remove(xys)  # 일단 삭제하고\n",
    "            if not del_check(ans):  # 문제가 발생하면 \n",
    "                ans.add(xys)  # 다시 추가\n",
    "\n",
    "    ans = [list(x) for x in ans]\n",
    "    ans.sort()\n",
    "    \n",
    "    return ans"
   ]
  }
 ],
 "metadata": {
  "kernelspec": {
   "display_name": "Python 3",
   "language": "python",
   "name": "python3"
  },
  "language_info": {
   "codemirror_mode": {
    "name": "ipython",
    "version": 3
   },
   "file_extension": ".py",
   "mimetype": "text/x-python",
   "name": "python",
   "nbconvert_exporter": "python",
   "pygments_lexer": "ipython3",
   "version": "3.8.8"
  }
 },
 "nbformat": 4,
 "nbformat_minor": 5
}
