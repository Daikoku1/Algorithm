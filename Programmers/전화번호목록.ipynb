{
  "nbformat": 4,
  "nbformat_minor": 0,
  "metadata": {
    "colab": {
      "name": "전화번호목록.ipynb",
      "provenance": [],
      "authorship_tag": "ABX9TyOfzv1DRnWGDh7qBLVV83qL"
    },
    "kernelspec": {
      "name": "python3",
      "display_name": "Python 3"
    }
  },
  "cells": [
    {
      "cell_type": "code",
      "metadata": {
        "id": "YvMlRBBtHJEp",
        "colab_type": "code",
        "colab": {}
      },
      "source": [
        "# max_time = 14 ms\n",
        "import re\n",
        "def solution(phone_book):\n",
        "    for i in phone_book:\n",
        "        cnt = 0\n",
        "        for j in phone_book:\n",
        "            if re.match(i, j) != None:\n",
        "                cnt += 1\n",
        "        if cnt >= 2:\n",
        "            return False\n",
        "    return True"
      ],
      "execution_count": null,
      "outputs": []
    },
    {
      "cell_type": "code",
      "metadata": {
        "id": "vD4RxDKAHOGC",
        "colab_type": "code",
        "colab": {
          "base_uri": "https://localhost:8080/",
          "height": 33
        },
        "outputId": "44a3833d-02fe-4bee-c86b-77dcbf89dd53"
      },
      "source": [
        "# max_time = 1.90 ms\n",
        "def solution(phone_book):\n",
        "    phone_book.sort(key = lambda x : len(x))\n",
        "    total = len(phone_book)\n",
        "    for idx, val in enumerate(phone_book):\n",
        "        length = len(val)\n",
        "        for j in range(idx+1, total):\n",
        "            if val == phone_book[j][:length]:\n",
        "                return False\n",
        "    \n",
        "    return True"
      ],
      "execution_count": null,
      "outputs": [
        {
          "output_type": "execute_result",
          "data": {
            "text/plain": [
              "['12', '88', '123', '567', '1235']"
            ]
          },
          "metadata": {
            "tags": []
          },
          "execution_count": 1
        }
      ]
    },
    {
      "cell_type": "code",
      "metadata": {
        "id": "uQU88ZMAJsrT",
        "colab_type": "code",
        "colab": {}
      },
      "source": [
        "# max_time = 0.92 ms\n",
        "def solution(phone_book):\n",
        "    dic = {}\n",
        "    for number in phone_book:\n",
        "        dic[number] = 1\n",
        "    \n",
        "    for number in phone_book:\n",
        "        temp = \"\"\n",
        "        for num in number:\n",
        "            temp += num\n",
        "            if temp in dic and temp != number:\n",
        "                return False\n",
        "    return True"
      ],
      "execution_count": null,
      "outputs": []
    },
    {
      "cell_type": "code",
      "metadata": {
        "id": "Q-D1Rgu6xN-r",
        "colab_type": "code",
        "colab": {
          "base_uri": "https://localhost:8080/",
          "height": 34
        },
        "outputId": "bf9e9b2d-4b46-4fe9-c8a0-12ace69acf44"
      },
      "source": [
        "a = ['119', '1195524421', '9763']\n",
        "sorted(a, key = len)"
      ],
      "execution_count": 4,
      "outputs": [
        {
          "output_type": "execute_result",
          "data": {
            "text/plain": [
              "['119', '9763', '1195524421']"
            ]
          },
          "metadata": {
            "tags": []
          },
          "execution_count": 4
        }
      ]
    },
    {
      "cell_type": "code",
      "metadata": {
        "id": "kn0jUb0FxOeL",
        "colab_type": "code",
        "colab": {}
      },
      "source": [
        ""
      ],
      "execution_count": null,
      "outputs": []
    }
  ]
}