{
 "cells": [
  {
   "cell_type": "code",
   "execution_count": null,
   "metadata": {},
   "outputs": [],
   "source": [
    "# Max_time = 2.29 ms\n",
    "# Memory = 10.4 MB\n",
    "from itertools import combinations\n",
    "from collections import defaultdict, Counter\n",
    "def solution(orders, course):\n",
    "    sub = defaultdict(list)\n",
    "    for order in orders:\n",
    "        for num in course:\n",
    "            if num <= len(order):\n",
    "                sub[num].extend(combinations(sorted(order), num))\n",
    "    \n",
    "    result = []\n",
    "    for i in course:\n",
    "        dic = Counter(sub[i]).most_common()\n",
    "        for c, n in dic:\n",
    "            if dic[0][1] == 1:\n",
    "                break\n",
    "            if n == dic[0][1]:\n",
    "                result.append(c)\n",
    "            else:\n",
    "                break\n",
    "\n",
    "    return [''.join(v) for v in sorted(result)]"
   ]
  },
  {
   "cell_type": "code",
   "execution_count": 38,
   "metadata": {},
   "outputs": [],
   "source": [
    "# Max_time = 3.58 ms\n",
    "# Memory = 10.7 MB\n",
    "from itertools import combinations\n",
    "from collections import Counter\n",
    "def solution(orders, course):\n",
    "    result = []\n",
    "    for c in course:\n",
    "        sub = []\n",
    "        for order in orders:\n",
    "            sub.extend(combinations(sorted(order), c))\n",
    "        dic = Counter(sub).most_common()\n",
    "        for c, n in dic:\n",
    "            if n == 1:\n",
    "                break\n",
    "            if n == dic[0][1]:\n",
    "                result.append(c)\n",
    "            else:\n",
    "                break\n",
    "    return [''.join(v) for v in sorted(result)]"
   ]
  },
  {
   "cell_type": "code",
   "execution_count": 39,
   "metadata": {},
   "outputs": [
    {
     "data": {
      "text/plain": [
       "['AC', 'ACDE', 'BCFG', 'CDE']"
      ]
     },
     "execution_count": 39,
     "metadata": {},
     "output_type": "execute_result"
    }
   ],
   "source": [
    "orders = [\"ABCFG\", \"AC\", \"CDE\", \"ACDE\", \"BCFG\", \"ACDEH\"]\n",
    "course = [2,3,4]\n",
    "solution(orders, course)"
   ]
  },
  {
   "cell_type": "code",
   "execution_count": null,
   "metadata": {},
   "outputs": [],
   "source": []
  }
 ],
 "metadata": {
  "kernelspec": {
   "display_name": "Python 3",
   "language": "python",
   "name": "python3"
  },
  "language_info": {
   "codemirror_mode": {
    "name": "ipython",
    "version": 3
   },
   "file_extension": ".py",
   "mimetype": "text/x-python",
   "name": "python",
   "nbconvert_exporter": "python",
   "pygments_lexer": "ipython3",
   "version": "3.8.3"
  },
  "toc": {
   "base_numbering": 1,
   "nav_menu": {},
   "number_sections": true,
   "sideBar": true,
   "skip_h1_title": false,
   "title_cell": "Table of Contents",
   "title_sidebar": "Contents",
   "toc_cell": false,
   "toc_position": {},
   "toc_section_display": true,
   "toc_window_display": true
  }
 },
 "nbformat": 4,
 "nbformat_minor": 4
}
