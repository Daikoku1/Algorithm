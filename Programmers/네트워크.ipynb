{
  "nbformat": 4,
  "nbformat_minor": 0,
  "metadata": {
    "colab": {
      "name": "네트워크.ipynb",
      "provenance": [],
      "authorship_tag": "ABX9TyN5HV6B7h6tdftbkBvjXi/n",
      "include_colab_link": true
    },
    "kernelspec": {
      "name": "python3",
      "display_name": "Python 3"
    }
  },
  "cells": [
    {
      "cell_type": "markdown",
      "metadata": {
        "id": "view-in-github",
        "colab_type": "text"
      },
      "source": [
        "<a href=\"https://colab.research.google.com/github/Daikoku1/Algorithm_Programmers/blob/master/%EB%84%A4%ED%8A%B8%EC%9B%8C%ED%81%AC.ipynb\" target=\"_parent\"><img src=\"https://colab.research.google.com/assets/colab-badge.svg\" alt=\"Open In Colab\"/></a>"
      ]
    },
    {
      "cell_type": "code",
      "metadata": {
        "id": "PXioOzcSW7mZ",
        "colab_type": "code",
        "colab": {}
      },
      "source": [
        "# 실패 코드\n",
        "# 실패의 원인 파악 불가능......\n",
        "import numpy as np\n",
        "def solution(n, computers):\n",
        "    start = np.zeros(n)\n",
        "    start[0] = 1\n",
        "\n",
        "    cnt = 1\n",
        "    last = np.zeros(n)\n",
        "    data_in = True\n",
        "\n",
        "    while True:\n",
        "        while data_in:\n",
        "            data_in = False\n",
        "            for i in range(n):\n",
        "                if np.any(start == computers[i]):\n",
        "                    data_in = True\n",
        "                    start = np.where(start + computers[i] > 0, 1, 0)\n",
        "                    \n",
        "            last += start\n",
        "        if np.all(last):\n",
        "            return cnt\n",
        "        else:\n",
        "            data_in = True\n",
        "            cnt +=1\n",
        "            start = np.zeros(n)\n",
        "            for i in range(n):\n",
        "                if not last[i]:\n",
        "                    start[i] = 1\n",
        "                    break"
      ],
      "execution_count": null,
      "outputs": []
    },
    {
      "cell_type": "code",
      "metadata": {
        "id": "z2aZrsSuvyCG",
        "colab_type": "code",
        "colab": {}
      },
      "source": [
        "# DFS\n",
        "# 성공\n",
        "from collections import defaultdict\n",
        "def solution(n, computers):\n",
        "    a_dict = defaultdict(list)\n",
        "    for i in range(n):\n",
        "        for j in range(n):\n",
        "            if i < j:\n",
        "                if computers[i][j] == 1:\n",
        "                    a_dict[i].append(j)\n",
        "    to_do = [[x,0] for x in range(n)[::-1]]\n",
        "    list(range(n))[::-1]\n",
        "    done = []\n",
        "    print(a_dict)\n",
        "    cnt = 0\n",
        "    while to_do:\n",
        "        print(done, cnt)\n",
        "        num, depth = to_do.pop()\n",
        "        if not num in done:\n",
        "            if depth == 0:\n",
        "                cnt += 1\n",
        "            done += [num]\n",
        "            if a_dict[num]:\n",
        "                for i in a_dict[num]:\n",
        "                    to_do.append([i, depth + 1])\n",
        "\n",
        "    return cnt"
      ],
      "execution_count": null,
      "outputs": []
    },
    {
      "cell_type": "code",
      "metadata": {
        "id": "CPJsvppx_FSW",
        "colab_type": "code",
        "colab": {}
      },
      "source": [
        "# 완 투 더 성\n",
        "# dfs보다는 속도 느림\n",
        "# 넘파이 완결판\n",
        "import numpy as np\n",
        "def solution(n, computers):\n",
        "    start = np.zeros(n)\n",
        "    start[0] = 1\n",
        "\n",
        "    cnt = 1\n",
        "    last = np.zeros(n)\n",
        "\n",
        "    while True:\n",
        "        for i in range(n):\n",
        "            if len(np.where(start+computers[i]>1)[0]):\n",
        "                start = np.where(start + computers[i] > 0, 1, 0)\n",
        "\n",
        "        for j in range(n)[::-1]:\n",
        "            if len(np.where(start+computers[j]>1)[0]):\n",
        "                start = np.where(start + computers[j] > 0, 1, 0)\n",
        "        \n",
        "        last += start\n",
        "        if np.all(last):\n",
        "            return cnt\n",
        "        else:\n",
        "            cnt +=1\n",
        "            start = np.zeros(n)\n",
        "            s_idx = np.argmin(last)\n",
        "            start[s_idx] = 1"
      ],
      "execution_count": null,
      "outputs": []
    },
    {
      "cell_type": "code",
      "metadata": {
        "id": "IQb1waqHFfrb",
        "colab_type": "code",
        "colab": {}
      },
      "source": [
        "else:\n",
        "    cnt +=1\n",
        "    start = np.zeros(n)\n",
        "    s_idx = np.argmin(last)\n",
        "    start[s_idx] = 1"
      ],
      "execution_count": null,
      "outputs": []
    }
  ]
}