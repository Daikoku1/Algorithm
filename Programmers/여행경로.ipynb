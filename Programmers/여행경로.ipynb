{
 "cells": [
  {
   "cell_type": "code",
   "execution_count": null,
   "metadata": {},
   "outputs": [],
   "source": [
    "# 예전 코드\n",
    "# 실패\n",
    "# 무조건 앞에 것 선택하면 중간에 에러\n",
    "def solution(tickets):\n",
    "    result = ['ICN']\n",
    "    sort_list = sorted(tickets, key = lambda x: (x[0],x[1]))\n",
    "    \n",
    "    while len(sort_list):\n",
    "        for idx in range(len(sort_list)):\n",
    "            if sort_list[idx][0] == result[-1]:\n",
    "                result.append(sort_list[idx][1])\n",
    "                sort_list.pop(idx)\n",
    "                break\n",
    "            \n",
    "    return result"
   ]
  },
  {
   "cell_type": "code",
   "execution_count": 3,
   "metadata": {},
   "outputs": [],
   "source": [
    "from collections import defaultdict\n",
    "def solution(tickets):\n",
    "    routes = defaultdict(list)\n",
    "    # 출발 공항이 키, value는 갈 수 있는 공항 들어있는 리스트\n",
    "    for t in tickets:\n",
    "        routes[t[0]].append(t[1])\n",
    "    print(routes)\n",
    "    for r in routes:\n",
    "        routes[r].sort(reverse=True)\n",
    "    print(routes)\n",
    "    stack = [\"ICN\"]\n",
    "    path = []  # 가려고 하는 경로\n",
    "    while len(stack) > 0:\n",
    "        print(stack)\n",
    "        print(path)\n",
    "        print('-'*10)\n",
    "        top = stack[-1]\n",
    "        # 어떤 공항에서 출발하는 표가 한장도 없다면 또는 있었는데, 다 써버렸다면\n",
    "        if len(routes[top]) == 0:\n",
    "            path.append(stack.pop())\n",
    "        else:\n",
    "            stack.append(routes[top].pop())\n",
    "    return path[::-1]"
   ]
  },
  {
   "cell_type": "code",
   "execution_count": 4,
   "metadata": {
    "scrolled": true
   },
   "outputs": [
    {
     "name": "stdout",
     "output_type": "stream",
     "text": [
      "defaultdict(<class 'list'>, {'ICN': ['SFO', 'ATL'], 'SFO': ['ATL'], 'ATL': ['ICN', 'SFO']})\n",
      "defaultdict(<class 'list'>, {'ICN': ['SFO', 'ATL'], 'SFO': ['ATL'], 'ATL': ['SFO', 'ICN']})\n",
      "['ICN']\n",
      "[]\n",
      "----------\n",
      "['ICN', 'ATL']\n",
      "[]\n",
      "----------\n",
      "['ICN', 'ATL', 'ICN']\n",
      "[]\n",
      "----------\n",
      "['ICN', 'ATL', 'ICN', 'SFO']\n",
      "[]\n",
      "----------\n",
      "['ICN', 'ATL', 'ICN', 'SFO', 'ATL']\n",
      "[]\n",
      "----------\n",
      "['ICN', 'ATL', 'ICN', 'SFO', 'ATL', 'SFO']\n",
      "[]\n",
      "----------\n",
      "['ICN', 'ATL', 'ICN', 'SFO', 'ATL']\n",
      "['SFO']\n",
      "----------\n",
      "['ICN', 'ATL', 'ICN', 'SFO']\n",
      "['SFO', 'ATL']\n",
      "----------\n",
      "['ICN', 'ATL', 'ICN']\n",
      "['SFO', 'ATL', 'SFO']\n",
      "----------\n",
      "['ICN', 'ATL']\n",
      "['SFO', 'ATL', 'SFO', 'ICN']\n",
      "----------\n",
      "['ICN']\n",
      "['SFO', 'ATL', 'SFO', 'ICN', 'ATL']\n",
      "----------\n"
     ]
    },
    {
     "data": {
      "text/plain": [
       "['ICN', 'ATL', 'ICN', 'SFO', 'ATL', 'SFO']"
      ]
     },
     "execution_count": 4,
     "metadata": {},
     "output_type": "execute_result"
    }
   ],
   "source": [
    "tickets = [['ICN', 'SFO'], ['ICN', 'ATL'], ['SFO', 'ATL'], ['ATL', 'ICN'], ['ATL','SFO']]\n",
    "solution(tickets)"
   ]
  },
  {
   "cell_type": "code",
   "execution_count": null,
   "metadata": {},
   "outputs": [],
   "source": []
  }
 ],
 "metadata": {
  "kernelspec": {
   "display_name": "Python 3",
   "language": "python",
   "name": "python3"
  },
  "language_info": {
   "codemirror_mode": {
    "name": "ipython",
    "version": 3
   },
   "file_extension": ".py",
   "mimetype": "text/x-python",
   "name": "python",
   "nbconvert_exporter": "python",
   "pygments_lexer": "ipython3",
   "version": "3.8.5"
  }
 },
 "nbformat": 4,
 "nbformat_minor": 4
}
