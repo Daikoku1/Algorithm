{
 "cells": [
  {
   "cell_type": "code",
   "execution_count": 1,
   "id": "4c25eea4",
   "metadata": {},
   "outputs": [],
   "source": [
    "# 테스트 18 〉통과 (6.24ms, 10.8MB)\n",
    "def solution(sizes):\n",
    "    max_x, max_y = 0, 0\n",
    "    for x, y in sizes:\n",
    "        x, y = max(x,y), min(x,y)\n",
    "        max_x, max_y = max(max_x, x), max(max_y, y)\n",
    "    return max_x * max_y"
   ]
  },
  {
   "cell_type": "code",
   "execution_count": null,
   "id": "6cfc2de9",
   "metadata": {},
   "outputs": [],
   "source": []
  }
 ],
 "metadata": {
  "kernelspec": {
   "display_name": "Python 3",
   "language": "python",
   "name": "python3"
  },
  "language_info": {
   "codemirror_mode": {
    "name": "ipython",
    "version": 3
   },
   "file_extension": ".py",
   "mimetype": "text/x-python",
   "name": "python",
   "nbconvert_exporter": "python",
   "pygments_lexer": "ipython3",
   "version": "3.8.8"
  }
 },
 "nbformat": 4,
 "nbformat_minor": 5
}
