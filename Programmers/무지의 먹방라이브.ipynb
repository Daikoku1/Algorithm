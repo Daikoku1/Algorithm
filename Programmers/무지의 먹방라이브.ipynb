{
 "cells": [
  {
   "cell_type": "markdown",
   "id": "f25236ef",
   "metadata": {},
   "source": [
    "# 코드1\n",
    "- 효율성 테스트 실패"
   ]
  },
  {
   "cell_type": "code",
   "execution_count": 10,
   "id": "389e1c1c",
   "metadata": {},
   "outputs": [],
   "source": [
    "from collections import deque\n",
    "def solution(food_times, k):\n",
    "    que = deque([[idx, val] for idx, val in enumerate(food_times, 1)])\n",
    "    \n",
    "    while k:\n",
    "        if len(que) == 0: return -1\n",
    "        i, v = que.popleft()\n",
    "        v -= 1\n",
    "        if v: que.append([i, v])\n",
    "        k -= 1\n",
    "    return que.popleft()[0] if que else -1"
   ]
  },
  {
   "cell_type": "code",
   "execution_count": 11,
   "id": "4dd75853",
   "metadata": {},
   "outputs": [
    {
     "data": {
      "text/plain": [
       "1"
      ]
     },
     "execution_count": 11,
     "metadata": {},
     "output_type": "execute_result"
    }
   ],
   "source": [
    "food_times = [3, 1, 2]\n",
    "k = 5\n",
    "solution(food_times, k)"
   ]
  },
  {
   "cell_type": "markdown",
   "id": "aadbaab4",
   "metadata": {},
   "source": [
    "## 코드2\n",
    "- 효율성 2번만 간신히 통과.."
   ]
  },
  {
   "cell_type": "code",
   "execution_count": 13,
   "id": "2a231dd3",
   "metadata": {},
   "outputs": [],
   "source": [
    "from collections import deque\n",
    "def solution(food_times, k):\n",
    "    que = deque([[idx, val] for idx, val in enumerate(food_times, 1)])\n",
    "    t, k = divmod(k, len(que))\n",
    "    now = []\n",
    "    for i, v in que:\n",
    "        num = v - t\n",
    "        if num > 0: now.append([i, num])\n",
    "        else: k -= num\n",
    "    que = deque(now.copy())\n",
    "    while k:\n",
    "        if len(que) == 0: return -1\n",
    "        i, v = que.popleft()\n",
    "        v -= 1\n",
    "        if v: que.append([i, v])\n",
    "        k -= 1\n",
    "    return que.popleft()[0] if que else -1"
   ]
  },
  {
   "cell_type": "markdown",
   "id": "8b1c5fe4",
   "metadata": {},
   "source": [
    "## 코드3\n",
    "### 효율성  테스트\n",
    "- 테스트 1 〉\t통과 (310.14ms, 43.5MB)\n",
    "- 테스트 2 〉\t통과 (84.70ms, 44.6MB)\n",
    "- 테스트 3 〉\t통과 (507.78ms, 41.6MB)\n",
    "- 테스트 4 〉\t통과 (374.88ms, 42.2MB)\n",
    "- 테스트 5 〉\t통과 (272.09ms, 43.5MB)\n",
    "- 테스트 6 〉\t통과 (233.43ms, 44.3MB)\n",
    "- 테스트 7 〉\t통과 (298.95ms, 43.3MB)\n",
    "- 테스트 8 〉\t통과 (171.92ms, 44.7MB)"
   ]
  },
  {
   "cell_type": "code",
   "execution_count": 29,
   "id": "0be39aa9",
   "metadata": {},
   "outputs": [],
   "source": [
    "import heapq\n",
    "def solution(food_times, k):\n",
    "    h = [[v, i] for i,v in enumerate(food_times, 1)]\n",
    "    heapq.heapify(h)\n",
    "    \n",
    "    t_num = 0\n",
    "    while True:\n",
    "        if k -(h[0][0] - t_num) * len(h) < 0: break\n",
    "        \n",
    "        k -= (h[0][0] - t_num) * len(h)\n",
    "        t_num = h[0][0]\n",
    "        heapq.heappop(h)\n",
    "        \n",
    "        if not h: return -1\n",
    "    \n",
    "    t = sorted([i for v, i in h])\n",
    "    x = k % len(h)\n",
    "            \n",
    "    return t[x]"
   ]
  },
  {
   "cell_type": "code",
   "execution_count": null,
   "id": "0d4212ea",
   "metadata": {},
   "outputs": [],
   "source": []
  }
 ],
 "metadata": {
  "kernelspec": {
   "display_name": "Python 3",
   "language": "python",
   "name": "python3"
  },
  "language_info": {
   "codemirror_mode": {
    "name": "ipython",
    "version": 3
   },
   "file_extension": ".py",
   "mimetype": "text/x-python",
   "name": "python",
   "nbconvert_exporter": "python",
   "pygments_lexer": "ipython3",
   "version": "3.8.8"
  }
 },
 "nbformat": 4,
 "nbformat_minor": 5
}
