{
 "cells": [
  {
   "cell_type": "code",
   "execution_count": 1,
   "metadata": {},
   "outputs": [],
   "source": [
    "from collections import deque\n",
    "def solution(s):\n",
    "    def check():\n",
    "        stack = []\n",
    "        for c in li:\n",
    "            if c in ('[', '(', '{'):\n",
    "                stack.append(_str)\n",
    "            else:\n",
    "                if not stack: return False\n",
    "                x = stack.pop()\n",
    "                if c == ']' and x != '[':\n",
    "                    return False\n",
    "                elif c == ')' and x != '(':\n",
    "                    return False\n",
    "                elif c == '}' and x != '{':\n",
    "                    return False\n",
    "        if stack: \n",
    "            return False\n",
    "        return True\n",
    "\n",
    "    answer = 0\n",
    "    for i in range(len(s)):\n",
    "        li = deque(s)\n",
    "        li.rotate(-i)\n",
    "        if check(): answer += 1\n",
    "\n",
    "    return answer"
   ]
  }
 ],
 "metadata": {
  "kernelspec": {
   "display_name": "Python 3",
   "language": "python",
   "name": "python3"
  },
  "language_info": {
   "codemirror_mode": {
    "name": "ipython",
    "version": 3
   },
   "file_extension": ".py",
   "mimetype": "text/x-python",
   "name": "python",
   "nbconvert_exporter": "python",
   "pygments_lexer": "ipython3",
   "version": "3.8.3"
  },
  "toc": {
   "base_numbering": 1,
   "nav_menu": {},
   "number_sections": true,
   "sideBar": true,
   "skip_h1_title": false,
   "title_cell": "Table of Contents",
   "title_sidebar": "Contents",
   "toc_cell": false,
   "toc_position": {},
   "toc_section_display": true,
   "toc_window_display": true
  }
 },
 "nbformat": 4,
 "nbformat_minor": 4
}
