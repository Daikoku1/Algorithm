{
 "cells": [
  {
   "cell_type": "code",
   "execution_count": null,
   "metadata": {},
   "outputs": [],
   "source": [
    "# Time = 13.84 ms\n",
    "# Memory = 10.3 MB\n",
    "def solution(maps):\n",
    "    n, m = len(maps), len(maps[0])\n",
    "    \n",
    "    to_do = [[0,0,1]]  # [x,y,움직이거리]\n",
    "    maps[0][0] = 0     # 시작시점 mapping (아래에서 반복 금지)\n",
    "    while to_do:\n",
    "        x, y, cnt = to_do.pop(0)\n",
    "        print(x, y, cnt)\n",
    "        maps[x][y] = min(maps[x][y], cnt)\n",
    "        for dx, dy in [[1,0],[-1,0],[0,1],[0,-1]]:\n",
    "            n_x, n_y = x + dx, y + dy\n",
    "            if -1 < n_x < n and -1 < n_y < m and maps[n_x][n_y] == 1:\n",
    "                to_do.append([n_x,n_y,cnt+1])\n",
    "                maps[n_x][n_y] = cnt + 1\n",
    "#         print(maps)\n",
    "    return -1 if maps[n-1][m-1] == 1 else maps[-1][-1]"
   ]
  }
 ],
 "metadata": {
  "kernelspec": {
   "display_name": "Python 3",
   "language": "python",
   "name": "python3"
  },
  "language_info": {
   "codemirror_mode": {
    "name": "ipython",
    "version": 3
   },
   "file_extension": ".py",
   "mimetype": "text/x-python",
   "name": "python",
   "nbconvert_exporter": "python",
   "pygments_lexer": "ipython3",
   "version": "3.8.3"
  },
  "toc": {
   "base_numbering": 1,
   "nav_menu": {},
   "number_sections": true,
   "sideBar": true,
   "skip_h1_title": false,
   "title_cell": "Table of Contents",
   "title_sidebar": "Contents",
   "toc_cell": false,
   "toc_position": {},
   "toc_section_display": true,
   "toc_window_display": false
  }
 },
 "nbformat": 4,
 "nbformat_minor": 4
}
