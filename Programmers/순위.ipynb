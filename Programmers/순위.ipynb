{
 "cells": [
  {
   "cell_type": "code",
   "execution_count": 3,
   "metadata": {},
   "outputs": [],
   "source": [
    "def solution(n, results):\n",
    "    dp = [[0] *n for _ in range(n)]\n",
    "    for x, y in results:\n",
    "        dp[x-1][y-1] = 1\n",
    "        dp[y-1][x-1] = -1\n",
    "    return dp"
   ]
  },
  {
   "cell_type": "code",
   "execution_count": 4,
   "metadata": {},
   "outputs": [
    {
     "data": {
      "text/plain": [
       "[[0, 1, 0, 0, 0],\n",
       " [-1, 0, -1, -1, 1],\n",
       " [0, 1, 0, -1, 0],\n",
       " [0, 1, 1, 0, 0],\n",
       " [0, -1, 0, 0, 0]]"
      ]
     },
     "execution_count": 4,
     "metadata": {},
     "output_type": "execute_result"
    }
   ],
   "source": [
    "n = 5\n",
    "results = [[4, 3], [4, 2], [3, 2], [1, 2], [2, 5]]\n",
    "solution(n, results)"
   ]
  },
  {
   "cell_type": "code",
   "execution_count": null,
   "metadata": {},
   "outputs": [],
   "source": []
  }
 ],
 "metadata": {
  "kernelspec": {
   "display_name": "Python 3",
   "language": "python",
   "name": "python3"
  },
  "language_info": {
   "codemirror_mode": {
    "name": "ipython",
    "version": 3
   },
   "file_extension": ".py",
   "mimetype": "text/x-python",
   "name": "python",
   "nbconvert_exporter": "python",
   "pygments_lexer": "ipython3",
   "version": "3.8.5"
  }
 },
 "nbformat": 4,
 "nbformat_minor": 4
}
