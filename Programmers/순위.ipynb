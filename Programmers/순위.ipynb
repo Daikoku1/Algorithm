{
 "cells": [
  {
   "cell_type": "markdown",
   "metadata": {},
   "source": [
    "# 실패\n",
    "- 테스트 1 〉\t통과 (0.32ms, 27.7MB)\n",
    "- 테스트 2 〉\t실패 (0.48ms, 28MB)\n",
    "- 테스트 3 〉\t통과 (1.20ms, 27.9MB)\n",
    "- 테스트 4 〉\t통과 (0.76ms, 27.4MB)\n",
    "- 테스트 5 〉\t통과 (12.10ms, 28MB)\n",
    "- 테스트 6 〉\t통과 (20.96ms, 27.9MB)\n",
    "- 테스트 7 〉\t실패 (92.77ms, 28.1MB)\n",
    "- 테스트 8 〉\t통과 (174.50ms, 28.4MB)\n",
    "- 테스트 9 〉\t통과 (241.57ms, 28.4MB)\n",
    "- 테스트 10 〉\t통과 (261.77ms, 28.2MB)"
   ]
  },
  {
   "cell_type": "code",
   "execution_count": 1,
   "metadata": {},
   "outputs": [],
   "source": [
    "import numpy as np\n",
    "def solution(n, results):\n",
    "    dp = np.zeros([n+1,n+1])\n",
    "    for x, y in results:\n",
    "        dp[x][y] = 1\n",
    "        dp[y][x] = -1\n",
    "    \n",
    "    for i in range(1, n+1):\n",
    "        for j in range(1, n+1):\n",
    "            if dp[i][j] == 1:\n",
    "                for k in np.argwhere(dp[j] == 1):\n",
    "                    dp[i][k] = 1\n",
    "            if dp[i][j] == -1:\n",
    "                for k in np.argwhere(dp[j] == -1):\n",
    "                    dp[i][k] = -1\n",
    "\n",
    "    cnt = 0\n",
    "    while True:\n",
    "        li = []\n",
    "        for idx, v in enumerate(dp):\n",
    "            if len(np.where(v != 0)[0]) == len(dp) - 2:\n",
    "                cnt += 1\n",
    "                li.append(idx)\n",
    "        if li:\n",
    "            dp = np.delete(dp, li, axis = 0)\n",
    "            dp = np.delete(dp, li, axis = 1)\n",
    "        else:\n",
    "            break\n",
    "\n",
    "    return cnt"
   ]
  },
  {
   "cell_type": "code",
   "execution_count": 2,
   "metadata": {},
   "outputs": [
    {
     "data": {
      "text/plain": [
       "2"
      ]
     },
     "execution_count": 2,
     "metadata": {},
     "output_type": "execute_result"
    }
   ],
   "source": [
    "n = 5\n",
    "results = [[4, 3], [4, 2], [3, 2], [1, 2], [2, 5]]\n",
    "a = solution(n, results)\n",
    "a"
   ]
  },
  {
   "cell_type": "markdown",
   "metadata": {},
   "source": [
    "# Sol1\n",
    "- 테스트 1 〉\t통과 (0.44ms, 27.6MB)\n",
    "- 테스트 2 〉\t통과 (1.38ms, 27.6MB)\n",
    "- 테스트 3 〉\t통과 (2.24ms, 27.8MB)\n",
    "- 테스트 4 〉\t통과 (1.49ms, 27.9MB)\n",
    "- 테스트 5 〉\t통과 (36.61ms, 27.9MB)\n",
    "- 테스트 6 〉\t통과 (79.62ms, 27.7MB)\n",
    "- 테스트 7 〉\t통과 (548.40ms, 27.9MB)\n",
    "- 테스트 8 〉\t통과 (1135.88ms, 28.3MB)\n",
    "- 테스트 9 〉\t통과 (1785.89ms, 28.2MB)\n",
    "- 테스트 10 〉\t통과 (1105.70ms, 28.3MB)"
   ]
  },
  {
   "cell_type": "code",
   "execution_count": 3,
   "metadata": {},
   "outputs": [],
   "source": [
    "import numpy as np\n",
    "def solution(n, results):\n",
    "    dp = np.zeros([n+1,n+1])\n",
    "    for x, y in results:\n",
    "        dp[x][y] = 1\n",
    "        dp[y][x] = -1\n",
    "        \n",
    "    while True:\n",
    "        cnt = 0\n",
    "        for i in range(1, n+1):\n",
    "            for j in range(1, n+1):\n",
    "                if dp[i][j] == 1:\n",
    "                    for k in np.argwhere(dp[j] == 1):\n",
    "                        if dp[i][k] == 0:\n",
    "                            dp[i][k] = 1\n",
    "                            cnt += 1\n",
    "                if dp[i][j] == -1:\n",
    "                    for k in np.argwhere(dp[j] == -1):\n",
    "                        if dp[i][k] == 0:\n",
    "                            dp[i][k] = -1\n",
    "                            cnt += 1\n",
    "        if cnt == 0:break\n",
    "    answer = 0\n",
    "    for i in dp:\n",
    "        if len(np.where(i != 0)[0]) == n - 1:\n",
    "            answer += 1\n",
    "    return answer"
   ]
  },
  {
   "cell_type": "markdown",
   "metadata": {},
   "source": [
    "# Sol2\n",
    "- 테스트 1 〉\t통과 (0.11ms, 27.7MB)\n",
    "- 테스트 2 〉\t통과 (0.24ms, 27.8MB)\n",
    "- 테스트 3 〉\t통과 (0.66ms, 27.2MB)\n",
    "- 테스트 4 〉\t통과 (0.77ms, 27.7MB)\n",
    "- 테스트 5 〉\t통과 (16.95ms, 27.7MB)\n",
    "- 테스트 6 〉\t통과 (36.51ms, 27.9MB)\n",
    "- 테스트 7 〉\t통과 (202.60ms, 27.3MB)\n",
    "- 테스트 8 〉\t통과 (448.83ms, 28.2MB)\n",
    "- 테스트 9 〉\t통과 (621.20ms, 28.3MB)\n",
    "- 테스트 10 〉\t통과 (620.88ms, 28MB)"
   ]
  },
  {
   "cell_type": "code",
   "execution_count": 4,
   "metadata": {},
   "outputs": [],
   "source": [
    "import numpy as np\n",
    "def solution(n, results):\n",
    "    dp = np.zeros([n+1,n+1])\n",
    "    for x, y in results:\n",
    "        dp[x][y] = 1\n",
    "        dp[y][x] = -1\n",
    "        \n",
    "    for i in range(1, n+1):\n",
    "        for j in range(1, n+1):\n",
    "            if dp[i][j] == 1:\n",
    "                for k in range(1, n+1):\n",
    "                    if dp[j][k] == 1 and dp[i][k] == 0:\n",
    "                        dp[i][k] = 1\n",
    "                        dp[k][i] = -1\n",
    "            if dp[i][j] == -1:\n",
    "                for k in range(1, n+1):\n",
    "                    if dp[j][k] == -1 and dp[i][k] == 0:\n",
    "                        dp[i][k] = -1\n",
    "                        dp[k][i] = 1\n",
    "\n",
    "    answer = 0\n",
    "    for i in dp:\n",
    "        if len(np.where(i != 0)[0]) == n - 1:\n",
    "            answer += 1\n",
    "    return answer"
   ]
  },
  {
   "cell_type": "code",
   "execution_count": 11,
   "metadata": {},
   "outputs": [],
   "source": [
    "# Max_time = 5.17 ms\n",
    "# Memory = 11.2 MB\n",
    "from collections import defaultdict\n",
    "def solution(n, results):\n",
    "    win, lose = defaultdict(set), defaultdict(set)\n",
    "    for x, y in results:\n",
    "        lose[y].add(x)\n",
    "        win[x].add(y)\n",
    "\n",
    "    for i in range(1, n + 1):\n",
    "        for x in lose[i]:\n",
    "            win[x].update(win[i])\n",
    "        for y in win[i]:\n",
    "            lose[y].update(lose[i])\n",
    "            \n",
    "    answer = 0\n",
    "    for j in range(1, n + 1):\n",
    "        if len(win[j]) + len(lose[j]) == n - 1:\n",
    "            answer += 1\n",
    "    return answer"
   ]
  },
  {
   "cell_type": "code",
   "execution_count": 12,
   "metadata": {},
   "outputs": [
    {
     "data": {
      "text/plain": [
       "2"
      ]
     },
     "execution_count": 12,
     "metadata": {},
     "output_type": "execute_result"
    }
   ],
   "source": [
    "n = 5\n",
    "results = [[4, 3], [4, 2], [3, 2], [1, 2], [2, 5]]\n",
    "a = solution(n, results)\n",
    "a"
   ]
  },
  {
   "cell_type": "code",
   "execution_count": null,
   "metadata": {},
   "outputs": [],
   "source": []
  },
  {
   "cell_type": "code",
   "execution_count": null,
   "metadata": {},
   "outputs": [],
   "source": []
  }
 ],
 "metadata": {
  "kernelspec": {
   "display_name": "Python 3",
   "language": "python",
   "name": "python3"
  },
  "language_info": {
   "codemirror_mode": {
    "name": "ipython",
    "version": 3
   },
   "file_extension": ".py",
   "mimetype": "text/x-python",
   "name": "python",
   "nbconvert_exporter": "python",
   "pygments_lexer": "ipython3",
   "version": "3.8.5"
  }
 },
 "nbformat": 4,
 "nbformat_minor": 4
}
