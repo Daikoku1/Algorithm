{
  "nbformat": 4,
  "nbformat_minor": 0,
  "metadata": {
    "colab": {
      "name": "징검다리.ipynb",
      "provenance": [],
      "authorship_tag": "ABX9TyN6YRqrDK6bOpPHEAjbDbQL"
    },
    "kernelspec": {
      "name": "python3",
      "display_name": "Python 3"
    }
  },
  "cells": [
    {
      "cell_type": "code",
      "metadata": {
        "id": "gmduM3gz13ky",
        "colab_type": "code",
        "colab": {}
      },
      "source": [
        "# 2개 실패\n",
        "def solution(distance, rocks, n):\n",
        "    rocks.sort()\n",
        "    rocks += [distance]\n",
        "\n",
        "    beg, end = 0, distance\n",
        "    while beg < end:\n",
        "        mid = (beg + end) // 2\n",
        "        \n",
        "        count = 0\n",
        "        prev = 0\n",
        "\n",
        "        for i in range(len(rocks)):\n",
        "            if rocks[i] - prev < mid:\n",
        "                count += 1\n",
        "            else:\n",
        "                prev = rocks[i]\n",
        "                \n",
        "        if count > n:\n",
        "            end = mid - 1\n",
        "        else:\n",
        "            beg = mid + 1\n",
        "\n",
        "    return end"
      ],
      "execution_count": 16,
      "outputs": []
    },
    {
      "cell_type": "code",
      "metadata": {
        "id": "oc4A3WE5hgcy",
        "colab_type": "code",
        "colab": {}
      },
      "source": [
        "# 성공\n",
        "# 이진분류 어려워요.\n",
        "def solution(distance, rocks, n):\n",
        "    rocks.sort()\n",
        "    rocks += [distance]\n",
        "\n",
        "    beg, end = 0, distance\n",
        "    while beg <= end:\n",
        "        mid = (beg + end) // 2\n",
        "        \n",
        "        min_num = float('inf')\n",
        "        count = 0\n",
        "        prev = 0\n",
        "\n",
        "        for i in range(len(rocks)):\n",
        "            if rocks[i] - prev < mid:\n",
        "                count += 1\n",
        "            else:\n",
        "                min_num = min(min_num, rocks[i] - prev)\n",
        "                prev = rocks[i]\n",
        "                \n",
        "        if count > n:\n",
        "            end = mid - 1\n",
        "        else:\n",
        "            beg = mid + 1\n",
        "            answer = min_num\n",
        "            \n",
        "    return answer"
      ],
      "execution_count": 17,
      "outputs": []
    },
    {
      "cell_type": "code",
      "metadata": {
        "id": "W_WurqAm3_O6",
        "colab_type": "code",
        "colab": {}
      },
      "source": [
        ""
      ],
      "execution_count": null,
      "outputs": []
    }
  ]
}