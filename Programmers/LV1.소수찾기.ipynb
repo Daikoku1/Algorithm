{
 "cells": [
  {
   "cell_type": "code",
   "execution_count": null,
   "metadata": {},
   "outputs": [],
   "source": [
    "# Time = 616.05 ms\n",
    "# Memory = 91.8 MB\n",
    "def solution(n):\n",
    "    dic = {i : 1 for i in range(2,n+1)}\n",
    "    answer = 0\n",
    "    for i in range(2, n+1):\n",
    "        if dic[i] == 1:\n",
    "            answer += 1\n",
    "            for idx in range(2*i, n+1, i):\n",
    "                dic[idx] = 0\n",
    "    return answer"
   ]
  },
  {
   "cell_type": "code",
   "execution_count": null,
   "metadata": {},
   "outputs": [],
   "source": [
    "# Time = 365.79 ms\n",
    "# Memory = 116 MB\n",
    "def solution(n):\n",
    "    num = set(range(2,n+1))\n",
    "    for i in range(2,n+1):\n",
    "        if i in num:\n",
    "            num -= set(range(2*i,n+1,i))\n",
    "    return len(num)"
   ]
  }
 ],
 "metadata": {
  "kernelspec": {
   "display_name": "Python 3",
   "language": "python",
   "name": "python3"
  },
  "language_info": {
   "codemirror_mode": {
    "name": "ipython",
    "version": 3
   },
   "file_extension": ".py",
   "mimetype": "text/x-python",
   "name": "python",
   "nbconvert_exporter": "python",
   "pygments_lexer": "ipython3",
   "version": "3.8.5"
  },
  "toc": {
   "base_numbering": 1,
   "nav_menu": {},
   "number_sections": true,
   "sideBar": true,
   "skip_h1_title": false,
   "title_cell": "Table of Contents",
   "title_sidebar": "Contents",
   "toc_cell": false,
   "toc_position": {},
   "toc_section_display": true,
   "toc_window_display": true
  }
 },
 "nbformat": 4,
 "nbformat_minor": 4
}
