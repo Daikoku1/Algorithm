{
 "cells": [
  {
   "cell_type": "code",
   "execution_count": null,
   "metadata": {},
   "outputs": [],
   "source": [
    "# Time = 114.45 ms\n",
    "# Memory = 27.7 MB\n",
    "def solution(arr):\n",
    "    answer = []\n",
    "    for i in arr:   \n",
    "        if len(answer) == 0:\n",
    "            answer.append(i)\n",
    "        elif  answer[-1] != i:\n",
    "                answer.append(i)\n",
    "    return answer"
   ]
  },
  {
   "cell_type": "code",
   "execution_count": null,
   "metadata": {},
   "outputs": [],
   "source": [
    "# Time = 57.00 ms\n",
    "# Memory = 28.1 MB\n",
    "def solution(arr):\n",
    "    answer = [10]\n",
    "    for i in arr:\n",
    "        if answer[-1] != i:\n",
    "            answer.append(i)\n",
    "    return answer[1:]"
   ]
  },
  {
   "cell_type": "code",
   "execution_count": 15,
   "metadata": {},
   "outputs": [],
   "source": [
    "# Time = 37.89 ms\n",
    "# Memory = 27.8 MB\n",
    "from itertools import groupby\n",
    "def solution(arr):\n",
    "    return [i for i, _ in groupby(arr)]"
   ]
  },
  {
   "cell_type": "code",
   "execution_count": 16,
   "metadata": {},
   "outputs": [
    {
     "data": {
      "text/plain": [
       "[1, 3, 0, 1]"
      ]
     },
     "execution_count": 16,
     "metadata": {},
     "output_type": "execute_result"
    }
   ],
   "source": [
    "arr = [1,1,3,3,0,1,1]\n",
    "solution(arr)"
   ]
  },
  {
   "cell_type": "code",
   "execution_count": 24,
   "metadata": {},
   "outputs": [],
   "source": [
    "# Time = 400.30 ms\n",
    "# Memory = 91.8 MB\n",
    "import re\n",
    "def solution(arr):\n",
    "    s = re.sub(r'([0-9])\\1+', r'\\1', ''.join(map(str, arr)))\n",
    "    return list(map(int, s))"
   ]
  },
  {
   "cell_type": "code",
   "execution_count": 28,
   "metadata": {},
   "outputs": [
    {
     "name": "stdout",
     "output_type": "stream",
     "text": [
      "-----------\n",
      "1 [1, 1]\n",
      "-----------\n",
      "3 [3, 3]\n",
      "-----------\n",
      "0 [0]\n",
      "-----------\n",
      "1 [1, 1]\n"
     ]
    }
   ],
   "source": [
    "arr = [1,1,3,3,0,1,1]\n",
    "for k, g in groupby(arr):\n",
    "    print('-----------')\n",
    "    print(k, list(g))"
   ]
  },
  {
   "cell_type": "code",
   "execution_count": 29,
   "metadata": {},
   "outputs": [
    {
     "data": {
      "text/plain": [
       "'1133011'"
      ]
     },
     "execution_count": 29,
     "metadata": {},
     "output_type": "execute_result"
    }
   ],
   "source": [
    "a = ''.join(map(str, arr))\n",
    "a"
   ]
  },
  {
   "cell_type": "code",
   "execution_count": 42,
   "metadata": {},
   "outputs": [
    {
     "data": {
      "text/plain": [
       "'bar, foo'"
      ]
     },
     "execution_count": 42,
     "metadata": {},
     "output_type": "execute_result"
    }
   ],
   "source": [
    "a = \"foo bar foo bar\"\n",
    "re.sub(r'(foo) (bar) \\1 \\2', r'\\2, \\1', a)"
   ]
  },
  {
   "cell_type": "code",
   "execution_count": 43,
   "metadata": {},
   "outputs": [
    {
     "data": {
      "text/plain": [
       "'foo bar fff bar'"
      ]
     },
     "execution_count": 43,
     "metadata": {},
     "output_type": "execute_result"
    }
   ],
   "source": [
    "a = \"foo bar fff bar\"\n",
    "re.sub(r'(foo) (bar) \\1 \\2', r'\\2, \\1', a)"
   ]
  },
  {
   "cell_type": "code",
   "execution_count": 48,
   "metadata": {},
   "outputs": [
    {
     "data": {
      "text/plain": [
       "'foo bar fff bar'"
      ]
     },
     "execution_count": 48,
     "metadata": {},
     "output_type": "execute_result"
    }
   ],
   "source": [
    "a = \"foo bar fff bar\"\n",
    "re.sub(r'(foo).(bar)\\1', r'\\1,', a)"
   ]
  },
  {
   "cell_type": "code",
   "execution_count": null,
   "metadata": {},
   "outputs": [],
   "source": []
  }
 ],
 "metadata": {
  "kernelspec": {
   "display_name": "Python 3",
   "language": "python",
   "name": "python3"
  },
  "language_info": {
   "codemirror_mode": {
    "name": "ipython",
    "version": 3
   },
   "file_extension": ".py",
   "mimetype": "text/x-python",
   "name": "python",
   "nbconvert_exporter": "python",
   "pygments_lexer": "ipython3",
   "version": "3.8.3"
  },
  "toc": {
   "base_numbering": 1,
   "nav_menu": {},
   "number_sections": true,
   "sideBar": true,
   "skip_h1_title": false,
   "title_cell": "Table of Contents",
   "title_sidebar": "Contents",
   "toc_cell": false,
   "toc_position": {},
   "toc_section_display": true,
   "toc_window_display": true
  }
 },
 "nbformat": 4,
 "nbformat_minor": 4
}
