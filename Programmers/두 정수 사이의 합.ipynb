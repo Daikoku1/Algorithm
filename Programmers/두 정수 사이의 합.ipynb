{
 "cells": [
  {
   "cell_type": "code",
   "execution_count": null,
   "metadata": {},
   "outputs": [],
   "source": [
    "# Time = 837.05 ms\n",
    "# Memory = 10.2 MB\n",
    "def solution(a, b):\n",
    "    answer = 0\n",
    "    for x in range(min(a,b), max(a,b)+1):\n",
    "        answer += x\n",
    "    return answer"
   ]
  },
  {
   "cell_type": "code",
   "execution_count": 15,
   "metadata": {},
   "outputs": [],
   "source": [
    "def solution(a, b):\n",
    "    return sum(range(min(a,b), max(a,b)+1))"
   ]
  },
  {
   "cell_type": "code",
   "execution_count": 16,
   "metadata": {},
   "outputs": [
    {
     "data": {
      "text/plain": [
       "12"
      ]
     },
     "execution_count": 16,
     "metadata": {},
     "output_type": "execute_result"
    }
   ],
   "source": [
    "solution(3,5)"
   ]
  },
  {
   "cell_type": "code",
   "execution_count": 13,
   "metadata": {},
   "outputs": [],
   "source": [
    "# Time = 0.01 ms\n",
    "# Memory = 10.2 MB\\\n",
    "def solution(a, b):\n",
    "    min_n, max_n = min(a,b), max(a,b)\n",
    "    if min_n < 0:min_sum = (-min_n*(-min_n+1) / 2)\n",
    "    else: min_sum = min_n*(min_n - 1) / 2\n",
    "    \n",
    "    if max_n < 0: max_sum = (-max_n*(-max_n-1) / 2)\n",
    "    else: max_sum = (max_n*(max_n + 1) / 2)\n",
    "    \n",
    "    return int(max_sum - min_sum)"
   ]
  }
 ],
 "metadata": {
  "kernelspec": {
   "display_name": "Python 3",
   "language": "python",
   "name": "python3"
  },
  "language_info": {
   "codemirror_mode": {
    "name": "ipython",
    "version": 3
   },
   "file_extension": ".py",
   "mimetype": "text/x-python",
   "name": "python",
   "nbconvert_exporter": "python",
   "pygments_lexer": "ipython3",
   "version": "3.8.5"
  },
  "toc": {
   "base_numbering": 1,
   "nav_menu": {},
   "number_sections": true,
   "sideBar": true,
   "skip_h1_title": false,
   "title_cell": "Table of Contents",
   "title_sidebar": "Contents",
   "toc_cell": false,
   "toc_position": {},
   "toc_section_display": true,
   "toc_window_display": true
  }
 },
 "nbformat": 4,
 "nbformat_minor": 4
}
