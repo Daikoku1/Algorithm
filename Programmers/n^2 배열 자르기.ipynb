{
 "cells": [
  {
   "cell_type": "markdown",
   "metadata": {},
   "source": [
    "# 코드\n",
    "- 시간초과 다수."
   ]
  },
  {
   "cell_type": "code",
   "execution_count": 13,
   "metadata": {},
   "outputs": [],
   "source": [
    "def solution(n, left, right):\n",
    "    arr = []\n",
    "    for i in range(1, n+1):\n",
    "        arr.extend([i] * i + list(range(i+1,n+1)))\n",
    "    return arr[left:right+1]"
   ]
  },
  {
   "cell_type": "markdown",
   "metadata": {},
   "source": [
    "# 성공코드\n",
    "- 테스트 1 〉\t통과 (2.27ms, 17.4MB)\n",
    "- 테스트 2 〉\t통과 (632.61ms, 476MB)\n",
    "- 테스트 3 〉\t통과 (688.52ms, 476MB)\n",
    "- 테스트 4 〉\t통과 (0.01ms, 10.3MB)\n",
    "- 테스트 5 〉\t통과 (0.01ms, 10.2MB)\n",
    "- 테스트 6 〉\t통과 (2.18ms, 19MB)\n",
    "- 테스트 7 〉\t통과 (4.07ms, 21.6MB)\n",
    "- 테스트 8 〉\t통과 (3.56ms, 19.9MB)\n",
    "- 테스트 9 〉\t통과 (3.45ms, 20.3MB)\n",
    "- 테스트 10 〉\t통과 (4.58ms, 21.2MB)\n",
    "- 테스트 11 〉\t통과 (2.33ms, 19.4MB)\n",
    "- 테스트 12 〉\t통과 (6.93ms, 19.8MB)\n",
    "- 테스트 13 〉\t통과 (7.46ms, 19.7MB)\n",
    "- 테스트 14 〉\t통과 (4.77ms, 18.4MB)\n",
    "- 테스트 15 〉\t통과 (43.46ms, 49.6MB)\n",
    "- 테스트 16 〉\t통과 (64.46ms, 51MB)\n",
    "- 테스트 17 〉\t통과 (26.57ms, 33.9MB)\n",
    "- 테스트 18 〉\t통과 (510.00ms, 375MB)\n",
    "- 테스트 19 〉\t통과 (579.56ms, 433MB)\n",
    "- 테스트 20 〉\t통과 (193.39ms, 149MB)"
   ]
  },
  {
   "cell_type": "code",
   "execution_count": 39,
   "metadata": {},
   "outputs": [],
   "source": [
    "def solution(n, left, right):\n",
    "    arr = []\n",
    "    q1, r1 = divmod(left, n)\n",
    "    q2, r2 = divmod(right, n)\n",
    "    for i in range(q1+1, q2+2):\n",
    "        arr.extend([i] * i + list(range(i+1,n+1)))\n",
    "\n",
    "    if r2 + 1 == n: return arr[r1:]\n",
    "    else: return arr[r1:(r2-n +1)]"
   ]
  },
  {
   "cell_type": "code",
   "execution_count": 40,
   "metadata": {},
   "outputs": [
    {
     "name": "stdout",
     "output_type": "stream",
     "text": [
      "[1, 2, 3, 2, 2, 3]\n",
      "2 2\n"
     ]
    },
    {
     "data": {
      "text/plain": [
       "[3, 2, 2, 3]"
      ]
     },
     "execution_count": 40,
     "metadata": {},
     "output_type": "execute_result"
    }
   ],
   "source": [
    "n = 3\n",
    "left = 2\n",
    "right = 5\n",
    "solution(n, left, right)\n",
    "# [3,2,2,3]"
   ]
  },
  {
   "cell_type": "code",
   "execution_count": 41,
   "metadata": {},
   "outputs": [
    {
     "name": "stdout",
     "output_type": "stream",
     "text": [
      "[2, 2, 3, 4, 3, 3, 3, 4, 4, 4, 4, 4]\n",
      "3 2\n"
     ]
    },
    {
     "data": {
      "text/plain": [
       "[4, 3, 3, 3, 4, 4, 4, 4]"
      ]
     },
     "execution_count": 41,
     "metadata": {},
     "output_type": "execute_result"
    }
   ],
   "source": [
    "n = 4\n",
    "left = 7\n",
    "right = 14\n",
    "solution(n, left, right)\n",
    "# [4,3,3,3,4,4,4,4]"
   ]
  }
 ],
 "metadata": {
  "interpreter": {
   "hash": "9652531e86fbc99dfe7fc5092eb81081a97fad237de3d1fd3b3a0d1c69c61538"
  },
  "kernelspec": {
   "display_name": "Python 3.9.7 64-bit ('ox': conda)",
   "name": "python3"
  },
  "language_info": {
   "codemirror_mode": {
    "name": "ipython",
    "version": 3
   },
   "file_extension": ".py",
   "mimetype": "text/x-python",
   "name": "python",
   "nbconvert_exporter": "python",
   "pygments_lexer": "ipython3",
   "version": "3.9.7"
  },
  "orig_nbformat": 4
 },
 "nbformat": 4,
 "nbformat_minor": 2
}
