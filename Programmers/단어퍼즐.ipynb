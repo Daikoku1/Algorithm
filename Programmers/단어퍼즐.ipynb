{
 "cells": [
  {
   "cell_type": "code",
   "execution_count": null,
   "metadata": {},
   "outputs": [],
   "source": [
    "def solution(strs, t):\n",
    "    default = float('inf')\n",
    "    dp = [default for i in range(len(t)+1)]\n",
    "    dp[0] = 0\n",
    "    for i in range(1,len(t)+1):\n",
    "        j = i - 5 if i > 5 else 0\n",
    "        while j < i:\n",
    "            if dp[j] + 1 < dp[i] and t[j:i] in strs:\n",
    "                dp[i] = dp[j]+1\n",
    "            j += 1\n",
    "\n",
    "    return dp[len(t)] if dp[len(t)] != default else -1"
   ]
  }
 ],
 "metadata": {
  "kernelspec": {
   "display_name": "Python 3",
   "language": "python",
   "name": "python3"
  },
  "language_info": {
   "codemirror_mode": {
    "name": "ipython",
    "version": 3
   },
   "file_extension": ".py",
   "mimetype": "text/x-python",
   "name": "python",
   "nbconvert_exporter": "python",
   "pygments_lexer": "ipython3",
   "version": "3.8.3"
  },
  "toc": {
   "base_numbering": 1,
   "nav_menu": {},
   "number_sections": true,
   "sideBar": true,
   "skip_h1_title": false,
   "title_cell": "Table of Contents",
   "title_sidebar": "Contents",
   "toc_cell": false,
   "toc_position": {},
   "toc_section_display": true,
   "toc_window_display": true
  }
 },
 "nbformat": 4,
 "nbformat_minor": 4
}
