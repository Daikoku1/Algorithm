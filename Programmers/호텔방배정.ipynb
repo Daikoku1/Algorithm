{
  "nbformat": 4,
  "nbformat_minor": 0,
  "metadata": {
    "colab": {
      "name": "호텔방배정.ipynb",
      "provenance": [],
      "authorship_tag": "ABX9TyMb6vAeIAN+lVUn0xQRRjQU",
      "include_colab_link": true
    },
    "kernelspec": {
      "name": "python3",
      "display_name": "Python 3"
    }
  },
  "cells": [
    {
      "cell_type": "markdown",
      "metadata": {
        "id": "view-in-github",
        "colab_type": "text"
      },
      "source": [
        "<a href=\"https://colab.research.google.com/github/Daikoku1/Algorithm_Programmers/blob/master/%ED%98%B8%ED%85%94%EB%B0%A9%EB%B0%B0%EC%A0%95.ipynb\" target=\"_parent\"><img src=\"https://colab.research.google.com/assets/colab-badge.svg\" alt=\"Open In Colab\"/></a>"
      ]
    },
    {
      "cell_type": "code",
      "metadata": {
        "id": "7r89p58ctRaU",
        "colab_type": "code",
        "colab": {}
      },
      "source": [
        "# 효율성 테스트 0점\n",
        "import bisect\n",
        "def solution(k, room_number):\n",
        "    room_arr = [x+1 for x in range(k)]\n",
        "    answer = []\n",
        "    print(room_arr)\n",
        "    for idx in range(len(room_number)):\n",
        "        room_idx = bisect.bisect_left(room_arr, room_number[idx])\n",
        "        answer += [room_arr[room_idx]]\n",
        "        room_arr.pop(room_idx)\n",
        "        print(room_arr)\n",
        "        print('--------------')\n",
        "    return answer"
      ],
      "execution_count": 8,
      "outputs": []
    },
    {
      "cell_type": "code",
      "metadata": {
        "id": "fJ4cQSWTtYqp",
        "colab_type": "code",
        "colab": {
          "base_uri": "https://localhost:8080/",
          "height": 267
        },
        "outputId": "73fe4ff8-a7f0-4a1f-d0ed-a7631f3ec912"
      },
      "source": [
        "k = 10\n",
        "room_number = [1,3,4,1,3,1]\n",
        "solution(k, room_number)"
      ],
      "execution_count": 9,
      "outputs": [
        {
          "output_type": "stream",
          "text": [
            "[1, 2, 3, 4, 5, 6, 7, 8, 9, 10]\n",
            "[2, 3, 4, 5, 6, 7, 8, 9, 10]\n",
            "--------------\n",
            "[2, 4, 5, 6, 7, 8, 9, 10]\n",
            "--------------\n",
            "[2, 5, 6, 7, 8, 9, 10]\n",
            "--------------\n",
            "[5, 6, 7, 8, 9, 10]\n",
            "--------------\n",
            "[6, 7, 8, 9, 10]\n",
            "--------------\n",
            "[7, 8, 9, 10]\n",
            "--------------\n"
          ],
          "name": "stdout"
        },
        {
          "output_type": "execute_result",
          "data": {
            "text/plain": [
              "[1, 3, 4, 2, 5, 6]"
            ]
          },
          "metadata": {
            "tags": []
          },
          "execution_count": 9
        }
      ]
    },
    {
      "cell_type": "code",
      "metadata": {
        "id": "XJFADcpQtgkQ",
        "colab_type": "code",
        "colab": {}
      },
      "source": [
        "# 효율성 테스트 0점\n",
        "from collections import defaultdict\n",
        "def solution(k, room_number):\n",
        "    dic = defaultdict(int)\n",
        "    result = []\n",
        "    for i in range(len(room_number)):\n",
        "        k = room_number[i]\n",
        "        while dic[k] != 0:\n",
        "            k += 1\n",
        "        result += [k]\n",
        "        dic[k] = 1\n",
        "    return result"
      ],
      "execution_count": 3,
      "outputs": []
    },
    {
      "cell_type": "code",
      "metadata": {
        "id": "A1FfB6Uyvqyb",
        "colab_type": "code",
        "colab": {
          "base_uri": "https://localhost:8080/",
          "height": 34
        },
        "outputId": "946d57f8-9772-4c5c-fede-44306f5bbe2a"
      },
      "source": [
        "k = 10\n",
        "room_number = [1,3,4,1,3,1]\n",
        "solution(k, room_number)"
      ],
      "execution_count": 4,
      "outputs": [
        {
          "output_type": "execute_result",
          "data": {
            "text/plain": [
              "[1, 3, 4, 2, 5, 6]"
            ]
          },
          "metadata": {
            "tags": []
          },
          "execution_count": 4
        }
      ]
    },
    {
      "cell_type": "code",
      "metadata": {
        "id": "A5cvYjw7vrt8",
        "colab_type": "code",
        "colab": {}
      },
      "source": [
        "# 효율성 테스트 0점\n",
        "def solution(k, room_number):\n",
        "    result = [0] * k\n",
        "    answer = []\n",
        "    for idx in range(len(room_number)):\n",
        "        k = room_number[idx]\n",
        "        while True:\n",
        "            if result[k]:\n",
        "                result[k] += 1\n",
        "                k += 1\n",
        "            else:\n",
        "                break\n",
        "        answer += [k]\n",
        "        result[k] = 1\n",
        "    return answer"
      ],
      "execution_count": 5,
      "outputs": []
    },
    {
      "cell_type": "code",
      "metadata": {
        "id": "9n5uqvSWy55A",
        "colab_type": "code",
        "colab": {
          "base_uri": "https://localhost:8080/",
          "height": 34
        },
        "outputId": "464b2281-a184-4839-dd3f-656df0b7dac6"
      },
      "source": [
        "k = 10\n",
        "room_number = [1,3,4,1,3,1]\n",
        "solution(k, room_number)"
      ],
      "execution_count": 6,
      "outputs": [
        {
          "output_type": "execute_result",
          "data": {
            "text/plain": [
              "[1, 3, 4, 2, 5, 6]"
            ]
          },
          "metadata": {
            "tags": []
          },
          "execution_count": 6
        }
      ]
    },
    {
      "cell_type": "code",
      "metadata": {
        "id": "ozRATXoVcIsP",
        "colab_type": "code",
        "colab": {}
      },
      "source": [
        "from collections import defaultdict\n",
        "def solution(k, room_number):\n",
        "    answer = []\n",
        "    room = defaultdict(int)\n",
        "    for num in room_number:\n",
        "        number = room[num]\n",
        "        if number :\n",
        "            temp = [num]\n",
        "            while True:\n",
        "                index = number\n",
        "                number = room[number]\n",
        "                if not number:\n",
        "                    answer.append(index)\n",
        "                    room[index] = index + 1\n",
        "                    for i in temp:\n",
        "                        room[i] = index + 1\n",
        "                    break\n",
        "                temp.append(number)\n",
        "        else:\n",
        "            answer.append(num)\n",
        "            room[num] = num + 1\n",
        "    return answer"
      ],
      "execution_count": 13,
      "outputs": []
    },
    {
      "cell_type": "code",
      "metadata": {
        "id": "mMAyU8snc-oW",
        "colab_type": "code",
        "colab": {
          "base_uri": "https://localhost:8080/",
          "height": 34
        },
        "outputId": "41e2dd30-94db-4d30-bf91-1d66af13fb75"
      },
      "source": [
        "k = 10\n",
        "room_number = [1,3,4,1,3,1]\n",
        "solution(k, room_number)"
      ],
      "execution_count": 15,
      "outputs": [
        {
          "output_type": "execute_result",
          "data": {
            "text/plain": [
              "[1, 3, 4, 2, 5, 6]"
            ]
          },
          "metadata": {
            "tags": []
          },
          "execution_count": 15
        }
      ]
    }
  ]
}