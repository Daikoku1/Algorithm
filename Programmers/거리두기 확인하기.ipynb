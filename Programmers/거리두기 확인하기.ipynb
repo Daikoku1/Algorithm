{
 "cells": [
  {
   "cell_type": "markdown",
   "id": "30fd575c",
   "metadata": {},
   "source": [
    "# 거리두기 확인하기"
   ]
  },
  {
   "cell_type": "markdown",
   "id": "e70ae698",
   "metadata": {},
   "source": [
    "### Max_time\n",
    "- 테스트 1 〉\t통과 (0.16ms, 10.3MB)"
   ]
  },
  {
   "cell_type": "code",
   "execution_count": 8,
   "id": "3539bc7f",
   "metadata": {},
   "outputs": [],
   "source": [
    "def solution(places):\n",
    "    d = [[1,0],[-1,0],[0,1],[0,-1]]   \n",
    "    ans = []\n",
    "    for place in places:\n",
    "        illegal = False\n",
    "        for x in range(5):\n",
    "            if illegal: break\n",
    "            for y in range(5):\n",
    "                if illegal: break\n",
    "                if place[x][y] == 'P':\n",
    "                    to_do = [[x+a,y+b] for a,b in d]\n",
    "                    visited = [[x,y]]\n",
    "                    while to_do:\n",
    "                        n_x, n_y = to_do.pop()\n",
    "                        if n_x < 0 or n_x >= 5: continue\n",
    "                        elif n_y < 0 or n_y >= 5: continue\n",
    "                        elif x == n_x and y == n_y: continue\n",
    "                        elif abs(n_x - x) + abs(n_y - y) > 2: pass\n",
    "                        elif place[n_x][n_y] == 'X': visited.append([n_x,n_y])\n",
    "                        elif place[n_x][n_y] == 'P':\n",
    "                            illegal = True\n",
    "                            break\n",
    "                        else:\n",
    "                            visited.append([n_x,n_y])\n",
    "                            for a, b in d:\n",
    "                                if [n_x+a,n_y+b] not in visited:\n",
    "                                    to_do.append([n_x+a, n_y+b])\n",
    "\n",
    "        if illegal: ans.append(0)\n",
    "        else: ans.append(1)\n",
    "    return ans"
   ]
  },
  {
   "cell_type": "markdown",
   "id": "d9fa1753",
   "metadata": {},
   "source": [
    "# 코드2번\n",
    "- for문이 너무 많아서 함수로 나눔..."
   ]
  },
  {
   "cell_type": "markdown",
   "id": "da5f0b64",
   "metadata": {},
   "source": [
    "### Max_time\n",
    "- 테스트 1 〉\t통과 (0.34ms, 10.2MB)"
   ]
  },
  {
   "cell_type": "code",
   "execution_count": null,
   "id": "8284df07",
   "metadata": {},
   "outputs": [],
   "source": [
    "def check(place):\n",
    "    d = [[1,0],[-1,0],[0,1],[0,-1]]\n",
    "    illegal = False\n",
    "    for x in range(5):\n",
    "        for y in range(5):\n",
    "            if place[x][y] == 'P':\n",
    "                to_do = [[x+a,y+b] for a,b in d]\n",
    "                visited = [[x,y]]\n",
    "                while to_do:\n",
    "                    n_x, n_y = to_do.pop()\n",
    "                    if n_x < 0 or n_x >= 5: continue\n",
    "                    elif n_y < 0 or n_y >= 5: continue\n",
    "                    elif x == n_x and y == n_y: continue\n",
    "                    elif abs(n_x - x) + abs(n_y - y) > 2: pass\n",
    "                    elif place[n_x][n_y] == 'X': visited.append([n_x,n_y])\n",
    "                    elif place[n_x][n_y] == 'P':\n",
    "                        illegal = True\n",
    "                        break\n",
    "                    else:\n",
    "                        visited.append([n_x,n_y])\n",
    "                        for a, b in d:\n",
    "                            if [n_x+a,n_y+b] not in visited:\n",
    "                                to_do.append([n_x+a, n_y+b])\n",
    "    return 0 if illegal else 1\n",
    "\n",
    "def solution(places):\n",
    "    return [check(p) for p in places]"
   ]
  },
  {
   "cell_type": "markdown",
   "id": "e65eba02",
   "metadata": {},
   "source": [
    "# 코드3번\n",
    "- 코드를 보다보니, enumerate를 사용하면 인덱스랑 값을 같이 받을 수 있겠다.\n",
    "- 움직이는 방향은 총 12방향, \n",
    "    - 그러나 2개의 P점을 대상으로 비교하는 것이므로 2번씩 확인하는 문제가 발생\n",
    "    - 방향을 정해서 반만 확인해도 모든 경우의 수를 고려할 수 있음"
   ]
  },
  {
   "cell_type": "markdown",
   "id": "bf969e9a",
   "metadata": {},
   "source": [
    "### Max_time\n",
    "- 테스트 28 〉\t통과 (0.04ms, 10.2MB)"
   ]
  },
  {
   "cell_type": "code",
   "execution_count": 19,
   "id": "ef4c7352",
   "metadata": {},
   "outputs": [],
   "source": [
    "# [\"POOOP\", \"OXXOX\", \"OPXPX\", \"OOXOX\", \"POXXP\"]\n",
    "def check(place):\n",
    "    for irow, row in enumerate(place):\n",
    "        for icol, val in enumerate(row):\n",
    "            if val != 'P':continue\n",
    "            # [irow,icol] == \"P\"\n",
    "            # 바로 옆자리에 사람이 있으면 0 리턴\n",
    "            elif icol < 4 and place[irow][icol+1] == 'P': return 0\n",
    "            elif irow < 4 and place[irow+1][icol] == 'P' : return 0\n",
    "            \n",
    "            # 직선으로 2줄 떨어진 경우\n",
    "            elif icol < 3 and place[irow][icol+2] == 'P' and place[irow][icol+1] != 'X': return 0\n",
    "            elif irow < 3 and place[irow+2][icol] == 'P' and place[irow+1][icol] != 'X': return 0\n",
    "            \n",
    "            # 북동, 동북, 동남, 남동\n",
    "            elif icol < 4 and irow != 0 and place[irow-1][icol+1] == 'P' and (place[irow-1][icol] == 'O' or place[irow][icol+1] == 'O'):\n",
    "                return 0\n",
    "            elif icol < 4 and irow < 4 and place[irow+1][icol+1] == 'P' and (place[irow+1][icol] == 'O' or place[irow][icol+1] == 'O'):\n",
    "                return 0\n",
    "    return 1\n",
    "\n",
    "\n",
    "def solution(places):\n",
    "    return [check(p) for p in places]\n",
    "                "
   ]
  },
  {
   "cell_type": "code",
   "execution_count": 20,
   "id": "99480f7f",
   "metadata": {},
   "outputs": [
    {
     "data": {
      "text/plain": [
       "[1, 0, 1, 1, 1]"
      ]
     },
     "execution_count": 20,
     "metadata": {},
     "output_type": "execute_result"
    }
   ],
   "source": [
    "places = [[\"POOOP\", \"OXXOX\", \"OPXPX\", \"OOXOX\", \"POXXP\"], [\"POOPX\", \"OXPXP\", \"PXXXO\", \"OXXXO\", \"OOOPP\"], [\"PXOPX\", \"OXOXP\", \"OXPOX\", \"OXXOP\", \"PXPOX\"], [\"OOOXX\", \"XOOOX\", \"OOOXX\", \"OXOOX\", \"OOOOO\"], [\"PXPXP\", \"XPXPX\", \"PXPXP\", \"XPXPX\", \"PXPXP\"]]\n",
    "solution(places)\n"
   ]
  },
  {
   "cell_type": "code",
   "execution_count": null,
   "id": "91b8ee48",
   "metadata": {},
   "outputs": [],
   "source": []
  },
  {
   "cell_type": "code",
   "execution_count": null,
   "id": "a10c3d09",
   "metadata": {},
   "outputs": [],
   "source": []
  }
 ],
 "metadata": {
  "kernelspec": {
   "display_name": "Python 3",
   "language": "python",
   "name": "python3"
  },
  "language_info": {
   "codemirror_mode": {
    "name": "ipython",
    "version": 3
   },
   "file_extension": ".py",
   "mimetype": "text/x-python",
   "name": "python",
   "nbconvert_exporter": "python",
   "pygments_lexer": "ipython3",
   "version": "3.8.8"
  }
 },
 "nbformat": 4,
 "nbformat_minor": 5
}
