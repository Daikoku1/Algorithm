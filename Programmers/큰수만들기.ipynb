{
 "cells": [
  {
   "cell_type": "code",
   "execution_count": 1,
   "metadata": {},
   "outputs": [],
   "source": [
    "# max_time = 101.79ms\n",
    "# memory = 13.8MB\n",
    "def solution(number, k):\n",
    "    # 이전 값과 비교하기\n",
    "    answer = []\n",
    "    for idx, val in enumerate(number):\n",
    "        # 이전 값이 존재하고, 삭제 가능(k>0)\n",
    "        while len(answer) and k > 0:\n",
    "            # 최대값의 자리수는 동일하므로, 맨 앞자리가 가장 커야함\n",
    "            if val > answer[-1]:\n",
    "                answer.pop()\n",
    "                k -= 1\n",
    "            else:\n",
    "                break\n",
    "        if k == 0:\n",
    "            # 더이상 삭제할 수 없으므로 남은 숫자를 뒤에 붙임\n",
    "            answer += list(number[idx:])\n",
    "            break\n",
    "        answer.append(val)\n",
    "\n",
    "    if k > 0:\n",
    "        # answer의 마지막 값은 항상 제일 작은값\n",
    "        # 더 큰 경우에는 해당 값을 pop으로 제거했음\n",
    "        return ''.join(answer[:-k])\n",
    "    else:\n",
    "        return ''.join(answer)"
   ]
  },
  {
   "cell_type": "markdown",
   "metadata": {},
   "source": [
    "number = '1924'   \n",
    "k = 2   \n",
    "out = 94   \n",
    "\n",
    "number = '1231234'   \n",
    "k = 3   \n",
    "out = 3234   \n",
    "\n",
    "number = '4177252841'   \n",
    "k = 4   \n",
    "out = 775841   "
   ]
  },
  {
   "cell_type": "code",
   "execution_count": 4,
   "metadata": {},
   "outputs": [
    {
     "data": {
      "text/plain": [
       "'94'"
      ]
     },
     "execution_count": 4,
     "metadata": {},
     "output_type": "execute_result"
    }
   ],
   "source": [
    "number = '1924'\n",
    "k = 2\n",
    "out = 94\n",
    "solution(number, k)"
   ]
  },
  {
   "cell_type": "code",
   "execution_count": 5,
   "metadata": {},
   "outputs": [
    {
     "data": {
      "text/plain": [
       "'3234'"
      ]
     },
     "execution_count": 5,
     "metadata": {},
     "output_type": "execute_result"
    }
   ],
   "source": [
    "number = '1231234'   \n",
    "k = 3   \n",
    "out = 3234   \n",
    "solution(number, k)"
   ]
  },
  {
   "cell_type": "code",
   "execution_count": 6,
   "metadata": {},
   "outputs": [
    {
     "data": {
      "text/plain": [
       "'775841'"
      ]
     },
     "execution_count": 6,
     "metadata": {},
     "output_type": "execute_result"
    }
   ],
   "source": [
    "number = '4177252841'   \n",
    "k = 4   \n",
    "out = 775841   \n",
    "solution(number, k)"
   ]
  },
  {
   "cell_type": "code",
   "execution_count": null,
   "metadata": {},
   "outputs": [],
   "source": [
    "# max_time = 82.68 ms\n",
    "# memory = 10.5 MB\n",
    "def solution(number, k):\n",
    "    # 이전 값과 비교하기\n",
    "    answer = []\n",
    "    for idx, val in enumerate(number):\n",
    "        # 이전 값이 존재하고, 삭제 가능(k>0)\n",
    "        while len(answer) and k > 0:\n",
    "            # 최대값의 자리수는 동일하므로, 맨 앞자리가 가장 커야함\n",
    "            if val > answer[-1]:\n",
    "                answer.pop()\n",
    "                k -= 1\n",
    "            else:\n",
    "                break\n",
    "        if k == 0:\n",
    "            return ''.join(answer) + number[idx:]\n",
    "        answer.append(val)\n",
    "\n",
    "    return ''.join(answer[:-k])"
   ]
  }
 ],
 "metadata": {
  "kernelspec": {
   "display_name": "Python 3",
   "language": "python",
   "name": "python3"
  },
  "language_info": {
   "codemirror_mode": {
    "name": "ipython",
    "version": 3
   },
   "file_extension": ".py",
   "mimetype": "text/x-python",
   "name": "python",
   "nbconvert_exporter": "python",
   "pygments_lexer": "ipython3",
   "version": "3.8.3"
  }
 },
 "nbformat": 4,
 "nbformat_minor": 4
}
