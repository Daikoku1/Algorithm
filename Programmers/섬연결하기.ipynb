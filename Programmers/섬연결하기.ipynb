{
 "cells": [
  {
   "cell_type": "code",
   "execution_count": null,
   "metadata": {},
   "outputs": [],
   "source": [
    "# max_time = 0.05 ms\n",
    "# memory = 10.2 MB\n",
    "def solution(n, costs):\n",
    "    costs.sort(key = lambda x: x[2])\n",
    "    connection = [costs[0][0]]\n",
    "    \n",
    "    answer = 0\n",
    "    while len(connection) != n:\n",
    "        for idx, cost in enumerate(costs):\n",
    "            # 출발, 도착지가 모두 연결리스트에 들어있으면 불필요\n",
    "            if (cost[0] in connection) and (cost[1] in connection): continue\n",
    "            elif cost[0] in connection:\n",
    "                answer += cost[2]\n",
    "                connection.append(cost[1])\n",
    "                costs.pop(idx)\n",
    "                break\n",
    "            elif cost[1] in connection:\n",
    "                answer += cost[2]\n",
    "                connection.append(cost[0])\n",
    "                costs.pop(idx)\n",
    "                break\n",
    "    return answer"
   ]
  }
 ],
 "metadata": {
  "kernelspec": {
   "display_name": "Python 3",
   "language": "python",
   "name": "python3"
  },
  "language_info": {
   "codemirror_mode": {
    "name": "ipython",
    "version": 3
   },
   "file_extension": ".py",
   "mimetype": "text/x-python",
   "name": "python",
   "nbconvert_exporter": "python",
   "pygments_lexer": "ipython3",
   "version": "3.8.5"
  }
 },
 "nbformat": 4,
 "nbformat_minor": 4
}
