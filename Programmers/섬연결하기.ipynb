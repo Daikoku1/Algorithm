{
 "cells": [
  {
   "cell_type": "code",
   "execution_count": null,
   "metadata": {},
   "outputs": [],
   "source": [
    "# max_time = 0.05 ms\n",
    "# memory = 10.2 MB\n",
    "def solution(n, costs):\n",
    "    costs.sort(key = lambda x: x[2])\n",
    "    connect = [costs[0][0]]\n",
    "    \n",
    "    answer = 0\n",
    "    while len(connect) != n:\n",
    "        for idx, cost in enumerate(costs):\n",
    "            # 출발, 도착지가 모두 연결리스트에 들어있으면 불필요\n",
    "            if cost[0] in connect and cost[1] in connect:\n",
    "                continue\n",
    "            elif cost[0] in connect:\n",
    "                answer += cost[2]\n",
    "                connect.append(cost[1])\n",
    "                costs.pop(idx)\n",
    "                break\n",
    "            elif cost[1] in connect:\n",
    "                answer += cost[2]\n",
    "                connect.append(cost[0])\n",
    "                costs.pop(idx)\n",
    "                break\n",
    "    return answer"
   ]
  },
  {
   "cell_type": "code",
   "execution_count": null,
   "metadata": {},
   "outputs": [],
   "source": [
    "# max_time = 0.06 ms\n",
    "# memory = 10.2 MB\n",
    "def solution(n, costs):\n",
    "    costs.sort(key = lambda x: x[2])\n",
    "    connect = [costs[0][0]]\n",
    "    \n",
    "    answer = 0\n",
    "    while len(connect) != n:\n",
    "        for idx, cost in enumerate(costs):\n",
    "            # 출발, 도착지가 모두 연결리스트에 들어있으면 불필요\n",
    "            if cost[0] in connect:\n",
    "                if cost[1] in connect:\n",
    "                    continue\n",
    "                answer += cost[2]\n",
    "                connect.append(cost[1])\n",
    "                costs.pop(idx)\n",
    "                break\n",
    "            elif cost[1] in connect:\n",
    "                answer += cost[2]\n",
    "                connect.append(cost[0])\n",
    "                costs.pop(idx)\n",
    "                break\n",
    "    return answer"
   ]
  },
  {
   "cell_type": "code",
   "execution_count": null,
   "metadata": {},
   "outputs": [],
   "source": [
    "# max_time = 0.08 ms\n",
    "# memory = 10.2 MB\n",
    "def solution(n, costs):\n",
    "    costs.sort(key = lambda x: x[2])\n",
    "    connect = [costs[0][0]]\n",
    "    \n",
    "    answer = 0\n",
    "    while len(connect) != n:\n",
    "        for idx, cost in enumerate(costs):\n",
    "            # 출발, 도착지가 모두 연결리스트에 들어있으면 불필요\n",
    "            if cost[0] in connect:\n",
    "                if cost[1] in connect:\n",
    "                    continue\n",
    "                answer += cost[2]\n",
    "                connect.append(cost[1])\n",
    "                # pop 제거(pop(idx)는 len(costs) - idx 만큼의 시간복잡도 필요\n",
    "                # 위의 continue가 있으므로 코드는 정상적으로 작동하나\n",
    "                # 속도가 더 느려진다.\n",
    "                break\n",
    "            elif cost[1] in connect:\n",
    "                answer += cost[2]\n",
    "                connect.append(cost[0])\n",
    "                break\n",
    "    return answer"
   ]
  }
 ],
 "metadata": {
  "kernelspec": {
   "display_name": "Python 3",
   "language": "python",
   "name": "python3"
  },
  "language_info": {
   "codemirror_mode": {
    "name": "ipython",
    "version": 3
   },
   "file_extension": ".py",
   "mimetype": "text/x-python",
   "name": "python",
   "nbconvert_exporter": "python",
   "pygments_lexer": "ipython3",
   "version": "3.8.5"
  }
 },
 "nbformat": 4,
 "nbformat_minor": 4
}
