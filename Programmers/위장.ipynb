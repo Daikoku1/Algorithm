{
  "nbformat": 4,
  "nbformat_minor": 0,
  "metadata": {
    "colab": {
      "name": "위장.ipynb",
      "provenance": [],
      "authorship_tag": "ABX9TyNImV2NbU/O1U5Jk/2h+Pno",
      "include_colab_link": true
    },
    "kernelspec": {
      "name": "python3",
      "display_name": "Python 3"
    }
  },
  "cells": [
    {
      "cell_type": "markdown",
      "metadata": {
        "id": "view-in-github",
        "colab_type": "text"
      },
      "source": [
        "<a href=\"https://colab.research.google.com/github/Daikoku1/Algorithm_Programmers/blob/master/%EC%9C%84%EC%9E%A5.ipynb\" target=\"_parent\"><img src=\"https://colab.research.google.com/assets/colab-badge.svg\" alt=\"Open In Colab\"/></a>"
      ]
    },
    {
      "cell_type": "code",
      "metadata": {
        "id": "SV0IpP-oNqls",
        "colab_type": "code",
        "colab": {}
      },
      "source": [
        "# 초기 코드\n",
        "# max_time = 0.06 ms\n",
        "def solution(clothes):\n",
        "    new_dict = {}\n",
        "    for a, b in clothes:\n",
        "        if b not in list(new_dict.keys()):\n",
        "            new_dict[b] = [a]\n",
        "        else:\n",
        "            new_dict[b].append(a)\n",
        "    \n",
        "    answer = 1\n",
        "    for k in list(new_dict.keys()):\n",
        "        answer *= (len(new_dict[k]) + 1)\n",
        "        \n",
        "    return answer -1"
      ],
      "execution_count": null,
      "outputs": []
    },
    {
      "cell_type": "code",
      "metadata": {
        "id": "DUdNryeBPQ9B",
        "colab_type": "code",
        "colab": {}
      },
      "source": [
        "# max_time = 0.05 ms\n",
        "from collections import defaultdict\n",
        "def solution(clothes):\n",
        "    dic = defaultdict(int)\n",
        "    for c, t in clothes:\n",
        "        dic[t] += 1\n",
        "    \n",
        "    answer = 1\n",
        "    for i in dic.values():\n",
        "        answer *= (i+1)\n",
        "    return answer -1"
      ],
      "execution_count": null,
      "outputs": []
    },
    {
      "cell_type": "code",
      "metadata": {
        "id": "BVDfTrrOPQ_T",
        "colab_type": "code",
        "colab": {
          "base_uri": "https://localhost:8080/",
          "height": 33
        },
        "outputId": "83aed188-6637-4107-aede-a47b2d13a2e3"
      },
      "source": [
        "clothes = [['yellow_hat', 'headgear'], ['blue_sunglasses', 'eyewear'], ['green_turban', 'headgear']]\n",
        "solution(clothes)"
      ],
      "execution_count": null,
      "outputs": [
        {
          "output_type": "execute_result",
          "data": {
            "text/plain": [
              "dict_values([2, 1])"
            ]
          },
          "metadata": {
            "tags": []
          },
          "execution_count": 6
        }
      ]
    },
    {
      "cell_type": "code",
      "metadata": {
        "id": "buMoNfYYPRBm",
        "colab_type": "code",
        "colab": {}
      },
      "source": [
        "# Counter를 이용한 코드\n",
        "# max_time = 0.09 ms\n",
        "from collections import Counter\n",
        "def solution(clothes):\n",
        "    dic = Counter([t for c, t in clothes])\n",
        "    \n",
        "    answer = 1\n",
        "    for i in dic.values():\n",
        "        answer *= (i+1)\n",
        "    return answer -1"
      ],
      "execution_count": null,
      "outputs": []
    },
    {
      "cell_type": "code",
      "metadata": {
        "id": "qv05WIrbTP0S",
        "colab_type": "code",
        "colab": {
          "base_uri": "https://localhost:8080/",
          "height": 50
        },
        "outputId": "3c79b32e-ca00-48e5-bad0-a05a0d07b776"
      },
      "source": [
        "solution(clothes)"
      ],
      "execution_count": null,
      "outputs": [
        {
          "output_type": "stream",
          "text": [
            "Counter({'headgear': 2, 'eyewear': 1})\n"
          ],
          "name": "stdout"
        },
        {
          "output_type": "execute_result",
          "data": {
            "text/plain": [
              "5"
            ]
          },
          "metadata": {
            "tags": []
          },
          "execution_count": 8
        }
      ]
    },
    {
      "cell_type": "code",
      "metadata": {
        "id": "y5H4xQneTToY",
        "colab_type": "code",
        "colab": {}
      },
      "source": [
        ""
      ],
      "execution_count": null,
      "outputs": []
    }
  ]
}