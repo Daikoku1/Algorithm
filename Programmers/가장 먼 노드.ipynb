{
 "cells": [
  {
   "cell_type": "code",
   "execution_count": 15,
   "metadata": {},
   "outputs": [],
   "source": [
    "# Max_time = 56.46 ms\n",
    "# Memory = 25.4 MB\n",
    "from collections import defaultdict, deque\n",
    "def solution(n, edge):\n",
    "    dic = defaultdict(list)\n",
    "    for x, y in edge: # 양방향 모두 키값으로 입력\n",
    "        dic[x].append(y)\n",
    "        dic[y].append(x)\n",
    "        \n",
    "    done = [0] * (n+1) # 이미 확인한 곳을 확인하기 위함\n",
    "    done_len = []\n",
    "    to_do = deque([[1,0]])  # 노드, 거리\n",
    "    \n",
    "    while to_do:\n",
    "        s, l = to_do.popleft()\n",
    "        if not done[s]:\n",
    "            done[s] += 1\n",
    "            done_len.append(l+1)\n",
    "            for t in dic[s]:\n",
    "                to_do.append([t, l+1])\n",
    "                \n",
    "    max_n = max(done_len)\n",
    "    answer = 0\n",
    "    for y in done_len:\n",
    "        if y == max_n:\n",
    "            answer += 1\n",
    "    return answer"
   ]
  },
  {
   "cell_type": "code",
   "execution_count": 16,
   "metadata": {},
   "outputs": [
    {
     "data": {
      "text/plain": [
       "3"
      ]
     },
     "execution_count": 16,
     "metadata": {},
     "output_type": "execute_result"
    }
   ],
   "source": [
    "n = 6\n",
    "edge = [[3, 6], [4, 3], [3, 2], [1, 3], [1, 2], [2, 4], [5, 2]]\t\n",
    "solution(n, edge)"
   ]
  },
  {
   "cell_type": "code",
   "execution_count": null,
   "metadata": {},
   "outputs": [],
   "source": []
  }
 ],
 "metadata": {
  "kernelspec": {
   "display_name": "Python 3",
   "language": "python",
   "name": "python3"
  },
  "language_info": {
   "codemirror_mode": {
    "name": "ipython",
    "version": 3
   },
   "file_extension": ".py",
   "mimetype": "text/x-python",
   "name": "python",
   "nbconvert_exporter": "python",
   "pygments_lexer": "ipython3",
   "version": "3.8.5"
  }
 },
 "nbformat": 4,
 "nbformat_minor": 4
}
