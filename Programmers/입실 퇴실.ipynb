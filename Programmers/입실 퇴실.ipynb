{
 "cells": [
  {
   "cell_type": "markdown",
   "id": "885632da",
   "metadata": {},
   "source": [
    "# 위클리 챌린지_7주차\n",
    "## 입실,퇴실"
   ]
  },
  {
   "cell_type": "code",
   "execution_count": 32,
   "id": "c551c08e",
   "metadata": {},
   "outputs": [],
   "source": [
    "# max_time = (96.43ms, 10.3MB)\n",
    "def solution(enter, leave):\n",
    "    ans = {idx : 0 for idx in range(1, len(enter)+1)}\n",
    "    pre_max = 0\n",
    "    for i, l in enumerate(leave):\n",
    "        pre_max = max(pre_max, enter.index(l))\n",
    "        if i:\n",
    "            for e in enter[enter.index(l)+1:pre_max+1]:\n",
    "                ans[l] += 1\n",
    "                ans[e] += 1\n",
    "    \n",
    "    return [v for i, v in ans.items()]"
   ]
  },
  {
   "cell_type": "code",
   "execution_count": 33,
   "id": "ba26693a",
   "metadata": {
    "scrolled": true
   },
   "outputs": [
    {
     "data": {
      "text/plain": [
       "[2, 2, 0, 2]"
      ]
     },
     "execution_count": 33,
     "metadata": {},
     "output_type": "execute_result"
    }
   ],
   "source": [
    "enter = [1,4,2,3]\n",
    "leave = [2,1,4,3]\n",
    "solution(enter, leave)\n",
    "# [2,2,0,2]"
   ]
  },
  {
   "cell_type": "code",
   "execution_count": null,
   "id": "f73a30d1",
   "metadata": {},
   "outputs": [],
   "source": [
    "# max_time = (85.38ms, 10.5MB)\n",
    "def solution(enter, leave):\n",
    "    ans = {idx : 0 for idx in range(1, len(enter)+1)}\n",
    "    pre_max = 0\n",
    "    for i, l in enumerate(leave):\n",
    "        now = enter.index(l)\n",
    "        if i:\n",
    "            for e in enter[now+1:pre_max+1]:\n",
    "                ans[l] += 1\n",
    "                ans[e] += 1\n",
    "        pre_max = max(pre_max, now)\n",
    "    \n",
    "    return [v for i, v in ans.items()]"
   ]
  }
 ],
 "metadata": {
  "kernelspec": {
   "display_name": "Python 3",
   "language": "python",
   "name": "python3"
  },
  "language_info": {
   "codemirror_mode": {
    "name": "ipython",
    "version": 3
   },
   "file_extension": ".py",
   "mimetype": "text/x-python",
   "name": "python",
   "nbconvert_exporter": "python",
   "pygments_lexer": "ipython3",
   "version": "3.8.8"
  }
 },
 "nbformat": 4,
 "nbformat_minor": 5
}
