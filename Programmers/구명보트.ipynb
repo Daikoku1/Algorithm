{
 "cells": [
  {
   "cell_type": "code",
   "execution_count": null,
   "metadata": {},
   "outputs": [],
   "source": [
    "# max_time = 8.51 ms\n",
    "# memory = 42 MB\n",
    "def solution(people, limit):\n",
    "    people.sort()\n",
    "    length = len(people)\n",
    "    \n",
    "    light = 0\n",
    "    heavy = length - 1\n",
    "    \n",
    "    count = 0\n",
    "    # 2point\n",
    "    # 가장 무거운 사람 + 가장 가벼운 사람 ==> 최대 2명탑승이므로\n",
    "    while heavy > light :\n",
    "        if people[heavy] + people[light] <= limit:\n",
    "            count += 1\n",
    "            light += 1\n",
    "            heavy -= 1\n",
    "        else:\n",
    "            heavy -= 1\n",
    "    \n",
    "    return length - count"
   ]
  }
 ],
 "metadata": {
  "kernelspec": {
   "display_name": "Python 3",
   "language": "python",
   "name": "python3"
  },
  "language_info": {
   "codemirror_mode": {
    "name": "ipython",
    "version": 3
   },
   "file_extension": ".py",
   "mimetype": "text/x-python",
   "name": "python",
   "nbconvert_exporter": "python",
   "pygments_lexer": "ipython3",
   "version": "3.8.5"
  }
 },
 "nbformat": 4,
 "nbformat_minor": 4
}
