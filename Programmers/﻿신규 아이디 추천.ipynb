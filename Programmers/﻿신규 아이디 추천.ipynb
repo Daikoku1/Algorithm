{
 "cells": [
  {
   "cell_type": "code",
   "execution_count": null,
   "metadata": {},
   "outputs": [],
   "source": [
    "# Max_time = 1.16 ms\n",
    "# Memory = 10.2 MB\n",
    "import re\n",
    "def solution(new_id):\n",
    "    new_id = new_id.lower()\n",
    "    new = ''\n",
    "    for char in new_id:\n",
    "        # 알파벳 소문자\n",
    "        if 97 <= ord(char) <= 122:\n",
    "            new += char\n",
    "        # 숫자\n",
    "        elif 48 <= ord(char) <= 57:\n",
    "            new += char\n",
    "        # '-' : 45,  '_' : 95 , '.' : 46\n",
    "        elif ord(char) in [45, 95, 46]:\n",
    "            new += char\n",
    "        else:\n",
    "            continue\n",
    "    \n",
    "    # 3단계\n",
    "    new_id = re.sub('\\.+', '.', new)\n",
    "    # 4단계\n",
    "    new_id = re.sub('\\.+$','', new_id)\n",
    "    new_id = re.sub('^\\.+','', new_id)\n",
    "    \n",
    "    # 5, 6단계\n",
    "    if not new_id:\n",
    "        new_id = 'a'\n",
    "    elif len(new_id) > 15:\n",
    "        new_id = re.sub('\\.+$','', new_id[:15])\n",
    "    \n",
    "    # 7단계\n",
    "    while len(new_id) < 3:\n",
    "        new_id = new_id + new_id[-1]\n",
    "                        \n",
    "    return new_id"
   ]
  },
  {
   "cell_type": "code",
   "execution_count": 8,
   "metadata": {},
   "outputs": [
    {
     "name": "stdout",
     "output_type": "stream",
     "text": [
      "...!@bat#*..y.a_-bcdefghijklm..\n"
     ]
    },
    {
     "data": {
      "text/plain": [
       "'...bat..y.a_-bcdefghijklm..'"
      ]
     },
     "execution_count": 8,
     "metadata": {},
     "output_type": "execute_result"
    }
   ],
   "source": [
    "import re\n",
    "new_id = \"...!@BaT#*..y.a_-bcdefghijklm..\".lower()\n",
    "print(new_id)\n",
    "new_id = re.sub('[^a-z0-9\\.\\-\\_]', '', new_id)\n",
    "new_id"
   ]
  },
  {
   "cell_type": "code",
   "execution_count": 9,
   "metadata": {},
   "outputs": [
    {
     "data": {
      "text/plain": [
       "'...bat..y.a_-bcdefghijklm'"
      ]
     },
     "execution_count": 9,
     "metadata": {},
     "output_type": "execute_result"
    }
   ],
   "source": [
    "new_id = re.sub('\\.+$','', new_id)\n",
    "new_id"
   ]
  },
  {
   "cell_type": "code",
   "execution_count": 12,
   "metadata": {},
   "outputs": [
    {
     "data": {
      "text/plain": [
       "'...qqq'"
      ]
     },
     "execution_count": 12,
     "metadata": {},
     "output_type": "execute_result"
    }
   ],
   "source": [
    "a = '...qqq..'\n",
    "re.sub('\\.+$','', a)"
   ]
  },
  {
   "cell_type": "code",
   "execution_count": 13,
   "metadata": {},
   "outputs": [
    {
     "data": {
      "text/plain": [
       "'qqq..'"
      ]
     },
     "execution_count": 13,
     "metadata": {},
     "output_type": "execute_result"
    }
   ],
   "source": [
    "a = '...qqq..'\n",
    "re.sub('^\\.+','', a)"
   ]
  },
  {
   "cell_type": "code",
   "execution_count": null,
   "metadata": {},
   "outputs": [],
   "source": []
  }
 ],
 "metadata": {
  "kernelspec": {
   "display_name": "Python 3",
   "language": "python",
   "name": "python3"
  },
  "language_info": {
   "codemirror_mode": {
    "name": "ipython",
    "version": 3
   },
   "file_extension": ".py",
   "mimetype": "text/x-python",
   "name": "python",
   "nbconvert_exporter": "python",
   "pygments_lexer": "ipython3",
   "version": "3.8.3"
  },
  "toc": {
   "base_numbering": 1,
   "nav_menu": {},
   "number_sections": true,
   "sideBar": true,
   "skip_h1_title": false,
   "title_cell": "Table of Contents",
   "title_sidebar": "Contents",
   "toc_cell": false,
   "toc_position": {},
   "toc_section_display": true,
   "toc_window_display": true
  }
 },
 "nbformat": 4,
 "nbformat_minor": 4
}
