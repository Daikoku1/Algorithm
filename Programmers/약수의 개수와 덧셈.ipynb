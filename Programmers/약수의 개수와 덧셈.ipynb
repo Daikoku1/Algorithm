{
 "cells": [
  {
   "cell_type": "markdown",
   "id": "bfa29f80",
   "metadata": {},
   "source": [
    "# 약수의 개수와 덧셈\n"
   ]
  },
  {
   "cell_type": "markdown",
   "id": "2c184ac1",
   "metadata": {},
   "source": [
    "- 풀이방안\n",
    "    - 모든 약수는 다른 숫와의 곱을 통해 원래 값을 갖는다.\n",
    "    - 따라서 약수의 개수가 홀수이려면 원래 값이 제곱수여야 한다.(제곱수는 같은 값을 곱해 원래 값이 되므로 약수가 1개만 나옴)"
   ]
  },
  {
   "cell_type": "code",
   "execution_count": 5,
   "id": "c28a87c3",
   "metadata": {},
   "outputs": [],
   "source": [
    "def solution(left, right):\n",
    "    res = (right * (right+1) //2) - (left*(left-1) //2)\n",
    "    print(res)\n",
    "    for i in range(2, 33):\n",
    "        num = i**2\n",
    "        if left<=num <= right:\n",
    "            res -= num * 2\n",
    "    return res"
   ]
  },
  {
   "cell_type": "code",
   "execution_count": 6,
   "id": "67bae4e8",
   "metadata": {},
   "outputs": [
    {
     "name": "stdout",
     "output_type": "stream",
     "text": [
      "75\n"
     ]
    },
    {
     "data": {
      "text/plain": [
       "43"
      ]
     },
     "execution_count": 6,
     "metadata": {},
     "output_type": "execute_result"
    }
   ],
   "source": [
    "left = 13\n",
    "right = 17\n",
    "solution(left, right)"
   ]
  },
  {
   "cell_type": "code",
   "execution_count": 8,
   "id": "95544f8d",
   "metadata": {},
   "outputs": [
    {
     "name": "stdout",
     "output_type": "stream",
     "text": [
      "102\n"
     ]
    },
    {
     "data": {
      "text/plain": [
       "52"
      ]
     },
     "execution_count": 8,
     "metadata": {},
     "output_type": "execute_result"
    }
   ],
   "source": [
    "left = 24\n",
    "right = 27\n",
    "solution(left, right)"
   ]
  },
  {
   "cell_type": "code",
   "execution_count": null,
   "id": "ac4baba7",
   "metadata": {},
   "outputs": [],
   "source": []
  }
 ],
 "metadata": {
  "kernelspec": {
   "display_name": "Python 3",
   "language": "python",
   "name": "python3"
  },
  "language_info": {
   "codemirror_mode": {
    "name": "ipython",
    "version": 3
   },
   "file_extension": ".py",
   "mimetype": "text/x-python",
   "name": "python",
   "nbconvert_exporter": "python",
   "pygments_lexer": "ipython3",
   "version": "3.8.8"
  }
 },
 "nbformat": 4,
 "nbformat_minor": 5
}
