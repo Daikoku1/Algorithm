{
 "cells": [
  {
   "cell_type": "markdown",
   "metadata": {},
   "source": [
    "Sol1\n",
    "=====\n",
    "- np.split사용"
   ]
  },
  {
   "cell_type": "code",
   "execution_count": 1,
   "metadata": {},
   "outputs": [],
   "source": [
    "# Max_time = 4076.13 ms\n",
    "# Memory = 31.1 MB\n",
    "import numpy as np\n",
    "def solution(arr):\n",
    "    li = [np.array(arr)]\n",
    "    n0, n1 = 0, 0 # 0, 1의 개수\n",
    "    while li:\n",
    "        array = li.pop()\n",
    "        sum_n = np.sum(array)\n",
    "        if sum_n == 0:\n",
    "            n0 += 1\n",
    "        elif sum_n == len(array)**2:\n",
    "            n1 += 1\n",
    "        else:\n",
    "            sub = np.split(array, 2, axis = 0) # 행을 기준으로 array를 2개로 등분\n",
    "            for i in sub:\n",
    "                li.extend(np.split(i, 2, axis = 1)) # 열을 기준으로 array를 2개로 등분\n",
    "    return [n0, n1]"
   ]
  },
  {
   "cell_type": "markdown",
   "metadata": {},
   "source": [
    "### np.split()"
   ]
  },
  {
   "cell_type": "code",
   "execution_count": 12,
   "metadata": {
    "scrolled": true
   },
   "outputs": [
    {
     "data": {
      "text/plain": [
       "array([[1, 2, 3],\n",
       "       [1, 2, 3],\n",
       "       [1, 2, 3],\n",
       "       [1, 2, 3]])"
      ]
     },
     "execution_count": 12,
     "metadata": {},
     "output_type": "execute_result"
    }
   ],
   "source": [
    "li = np.array([1,2,3,]*4).reshape(4,3)\n",
    "li"
   ]
  },
  {
   "cell_type": "code",
   "execution_count": 13,
   "metadata": {
    "scrolled": true
   },
   "outputs": [
    {
     "data": {
      "text/plain": [
       "[array([[1, 2, 3],\n",
       "        [1, 2, 3]]),\n",
       " array([[1, 2, 3],\n",
       "        [1, 2, 3]])]"
      ]
     },
     "execution_count": 13,
     "metadata": {},
     "output_type": "execute_result"
    }
   ],
   "source": [
    "np.split(li, 2, axis = 0)"
   ]
  },
  {
   "cell_type": "code",
   "execution_count": 14,
   "metadata": {},
   "outputs": [
    {
     "data": {
      "text/plain": [
       "[array([[1, 2, 3]]),\n",
       " array([[1, 2, 3]]),\n",
       " array([[1, 2, 3]]),\n",
       " array([[1, 2, 3]])]"
      ]
     },
     "execution_count": 14,
     "metadata": {},
     "output_type": "execute_result"
    }
   ],
   "source": [
    "np.split(li, 4, axis = 0)"
   ]
  },
  {
   "cell_type": "code",
   "execution_count": 15,
   "metadata": {},
   "outputs": [
    {
     "data": {
      "text/plain": [
       "[array([[1],\n",
       "        [1],\n",
       "        [1],\n",
       "        [1]]),\n",
       " array([[2],\n",
       "        [2],\n",
       "        [2],\n",
       "        [2]]),\n",
       " array([[3],\n",
       "        [3],\n",
       "        [3],\n",
       "        [3]])]"
      ]
     },
     "execution_count": 15,
     "metadata": {},
     "output_type": "execute_result"
    }
   ],
   "source": [
    "np.split(li, 3, axis = 1)"
   ]
  },
  {
   "cell_type": "markdown",
   "metadata": {},
   "source": [
    "Sol2\n",
    "===\n",
    "- 재귀함수 사용\n",
    "- 코드 속도 향상"
   ]
  },
  {
   "cell_type": "code",
   "execution_count": 18,
   "metadata": {},
   "outputs": [],
   "source": [
    "# Max_time = 1773.84 ms\n",
    "# Memory = 31 MB\n",
    "import numpy as np\n",
    "def solution(arr):\n",
    "    def check(arr):\n",
    "        sum_n = np.sum(arr)\n",
    "        l = len(arr)\n",
    "        if sum_n == 0:\n",
    "            return np.array([1, 0])\n",
    "        if sum_n == l**2:\n",
    "            return np.array([0, 1])\n",
    "        l //= 2\n",
    "        return check(arr[:l, :l]) + check(arr[l:, :l]) + check(arr[:l, l:]) + check(arr[l:, l:])\n",
    "\n",
    "    return check(np.array(arr)).tolist()\n"
   ]
  },
  {
   "cell_type": "markdown",
   "metadata": {},
   "source": [
    "Sol3\n",
    "====\n",
    "- 재귀함수는 빠르지 않음\n",
    "- 인덱싱이 속도를 빠르게 할 것으로 가정\n",
    "- 확인결과 1번 코드에 np.split을 인덱싱으로 바꾸면 속도가 매우 빠름"
   ]
  },
  {
   "cell_type": "code",
   "execution_count": null,
   "metadata": {},
   "outputs": [],
   "source": [
    "# Max_time = 1272.99 ms\n",
    "# Memory = 31.3 MB\n",
    "import numpy as np\n",
    "def solution(arr):\n",
    "    li = [np.array(arr)]\n",
    "    n0, n1 = 0, 0 # 0, 1의 개수\n",
    "    while li:\n",
    "        array = li.pop()\n",
    "        sum_n = np.sum(array)\n",
    "        l = len(array)\n",
    "        if sum_n == 0:\n",
    "            n0 += 1\n",
    "        elif sum_n == l**2:\n",
    "            n1 += 1\n",
    "        else:\n",
    "            l //= 2\n",
    "            li.extend([array[:l,:l], array[:l,l:], array[l:,:l], array[l:,l:]])\n",
    "\n",
    "    return [n0, n1]"
   ]
  }
 ],
 "metadata": {
  "kernelspec": {
   "display_name": "Python 3",
   "language": "python",
   "name": "python3"
  },
  "language_info": {
   "codemirror_mode": {
    "name": "ipython",
    "version": 3
   },
   "file_extension": ".py",
   "mimetype": "text/x-python",
   "name": "python",
   "nbconvert_exporter": "python",
   "pygments_lexer": "ipython3",
   "version": "3.8.5"
  }
 },
 "nbformat": 4,
 "nbformat_minor": 4
}
