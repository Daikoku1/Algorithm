{
 "cells": [
  {
   "cell_type": "code",
   "execution_count": null,
   "metadata": {
    "colab": {},
    "colab_type": "code",
    "id": "nna559KPS1r4"
   },
   "outputs": [],
   "source": [
    "# 예전 코드\n",
    "# max_time = 1.67 ms\n",
    "def solution(answers):\n",
    "    list_1 = [1,2,3,4,5] * 2000\n",
    "    list_2 = [2,1,2,3,2,4,2,5] * 1250\n",
    "    list_3 = [3,3,1,1,2,2,4,4,5,5] * 1000\n",
    "    \n",
    "    count_1 = 0\n",
    "    count_2 = 0\n",
    "    count_3 = 0\n",
    "    for idx, val in enumerate(answers):\n",
    "        if list_1[idx] == val:\n",
    "            count_1 += 1\n",
    "        if list_2[idx] == val:\n",
    "            count_2 += 1\n",
    "        if list_3[idx] == val:\n",
    "            count_3 += 1\n",
    "    max_val = max(count_1, count_2, count_3)\n",
    "    result = []\n",
    "    if max_val == count_1:\n",
    "        result.append(1)\n",
    "    if max_val == count_2:\n",
    "        result.append(2)\n",
    "    if max_val == count_3:\n",
    "        result.append(3)\n",
    "        \n",
    "    return result"
   ]
  },
  {
   "cell_type": "code",
   "execution_count": null,
   "metadata": {},
   "outputs": [],
   "source": [
    "# max_time = 2.29 ms\n",
    "def solution(answers):\n",
    "    list_1 = [1,2,3,4,5] # len() : 5\n",
    "    list_2 = [2,1,2,3,2,4,2,5] # len() : 8\n",
    "    list_3 = [3,3,1,1,2,2,4,4,5,5] # len() : 10\n",
    "\n",
    "    count = [0,0,0]\n",
    "    for idx, val in enumerate(answers):\n",
    "        if list_1[idx%5] == val:\n",
    "            count[0] += 1\n",
    "        if list_2[idx%8] == val:\n",
    "            count[1] += 1\n",
    "        if list_3[idx%10] == val:\n",
    "            count[2] += 1\n",
    "    max_val = max(count)\n",
    "    result = []\n",
    "    for i, v in enumerate(count):\n",
    "        if v == max_val:\n",
    "            result.append(i+1)\n",
    "            \n",
    "    return result"
   ]
  },
  {
   "cell_type": "code",
   "execution_count": null,
   "metadata": {
    "colab": {},
    "colab_type": "code",
    "id": "Jd3l8VFzTRBw"
   },
   "outputs": [],
   "source": [
    "# 최악이다.\n",
    "# max_time = 4.35 ms\n",
    "# 메모리 28 MB\n",
    "def solution(answers):\n",
    "    list_1 = np.array([1,2,3,4,5] * 2000)\n",
    "    list_2 = np.array([2,1,2,3,2,4,2,5] * 1250)\n",
    "    list_3 = np.array([3,3,1,1,2,2,4,4,5,5] * 1000)\n",
    "    answers = np.array(answers)\n",
    "    length = len(answers)\n",
    "    \n",
    "    count_1 = (answers == list_1[:l]).sum()\n",
    "    count_2 = (answers == list_2[:l]).sum()\n",
    "    count_3 = (answers == list_3[:l]).sum()\n",
    "    \n",
    "    max_val = max(count_1, count_2, count_3)\n",
    "    result = []\n",
    "    if max_val == count_1:\n",
    "        result.append(1)\n",
    "    if max_val == count_2:\n",
    "        result.append(2)\n",
    "    if max_val == count_3:\n",
    "        result.append(3)\n",
    "        \n",
    "    return result"
   ]
  }
 ],
 "metadata": {
  "colab": {
   "collapsed_sections": [],
   "name": "모의고사.ipynb",
   "provenance": []
  },
  "kernelspec": {
   "display_name": "Python 3",
   "language": "python",
   "name": "python3"
  },
  "language_info": {
   "codemirror_mode": {
    "name": "ipython",
    "version": 3
   },
   "file_extension": ".py",
   "mimetype": "text/x-python",
   "name": "python",
   "nbconvert_exporter": "python",
   "pygments_lexer": "ipython3",
   "version": "3.8.3"
  }
 },
 "nbformat": 4,
 "nbformat_minor": 1
}
