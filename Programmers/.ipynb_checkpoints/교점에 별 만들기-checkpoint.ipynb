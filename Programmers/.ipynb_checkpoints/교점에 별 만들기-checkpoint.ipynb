{
 "cells": [
  {
   "cell_type": "code",
   "execution_count": 14,
   "id": "42406635",
   "metadata": {},
   "outputs": [],
   "source": [
    "def solution(line):\n",
    "    ans = []\n",
    "    minx,maxx,miny,maxy=float('inf'),-float('inf'),float('inf'),-float('inf')\n",
    "    for i, (A, B, E) in enumerate(line):\n",
    "        for C, D, F in line[i+1:]:\n",
    "            mo = A*D-B*C\n",
    "            if mo==0: continue\n",
    "            x, y = (B*F-E*D)/mo,(E*C-A*F)/mo\n",
    "            if x-int(x) or y-int(y) : continue\n",
    "            x, y = int(x), int(y)\n",
    "            minx,maxx,miny,maxy = min(minx,x),max(maxx,x),min(miny,y),max(maxy,y)\n",
    "            ans.append((x,y))\n",
    "    res=[['.' for _ in range(minx, maxx+1)] for _ in range(miny, maxy+1)]\n",
    "    for x,y in ans : res[maxy-y][x-minx] = '*'\n",
    "    return [''.join(s) for s in res]"
   ]
  },
  {
   "cell_type": "code",
   "execution_count": 15,
   "id": "8d0d6017",
   "metadata": {},
   "outputs": [
    {
     "data": {
      "text/plain": [
       "['....*....',\n",
       " '.........',\n",
       " '.........',\n",
       " '*.......*',\n",
       " '.........',\n",
       " '.........',\n",
       " '.........',\n",
       " '.........',\n",
       " '*.......*']"
      ]
     },
     "execution_count": 15,
     "metadata": {},
     "output_type": "execute_result"
    }
   ],
   "source": [
    "line = [[2, -1, 4], [-2, -1, 4], [0, -1, 1], [5, -8, -12], [5, 8, 12]]\n",
    "solution(line)"
   ]
  }
 ],
 "metadata": {
  "kernelspec": {
   "display_name": "Python 3",
   "language": "python",
   "name": "python3"
  },
  "language_info": {
   "codemirror_mode": {
    "name": "ipython",
    "version": 3
   },
   "file_extension": ".py",
   "mimetype": "text/x-python",
   "name": "python",
   "nbconvert_exporter": "python",
   "pygments_lexer": "ipython3",
   "version": "3.8.8"
  }
 },
 "nbformat": 4,
 "nbformat_minor": 5
}
