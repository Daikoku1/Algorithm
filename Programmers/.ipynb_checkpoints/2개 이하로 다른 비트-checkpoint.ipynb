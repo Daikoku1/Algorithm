{
 "cells": [
  {
   "cell_type": "markdown",
   "id": "a092b22a",
   "metadata": {},
   "source": [
    "# 2개 이하로 다른 비트"
   ]
  },
  {
   "cell_type": "markdown",
   "id": "67357f85",
   "metadata": {},
   "source": [
    "## 풀이 방법\n",
    "- '1111' 과 같이 중간에 0이 존재하는 경우\n",
    "    - 10111 의 꼴로 변환\n",
    "- '1011' 과 같이 중간에 0이 존재하는 경우\n",
    "    - '1101'과 같은 형태로 변환\n",
    "    - 가장 작은 단위의 0을 1로 변환하고 나머지 값중 가장 큰 1을 0으로 바꿔 숫자를 최소화"
   ]
  },
  {
   "cell_type": "code",
   "execution_count": 1,
   "id": "a31f3346",
   "metadata": {},
   "outputs": [],
   "source": [
    "def solution(numbers):\n",
    "    ans = []\n",
    "    for number in numbers:\n",
    "        x = bin(number)[2:]\n",
    "        if x.count('0') == 0:\n",
    "            if len(x) >= 2 : \n",
    "                ans.append(int('1' + '0' + x[1:], 2))\n",
    "            else:\n",
    "                ans.append(int('1' + '0'*len(x), 2))\n",
    "        else:\n",
    "            if x[-1] == '0': \n",
    "                ans.append(int(x[:-1] + '1', 2))\n",
    "            elif x[-2] == '0':\n",
    "                ans.append(int(x[:-2] + '10', 2))\n",
    "            else:\n",
    "                for idx in range(1, len(x)+1):\n",
    "                    if x[-idx] == '0': break\n",
    "                x = x[:-idx] + '10' + x[-idx+2:]\n",
    "                ans.append(int(x, 2))\n",
    "    return ans"
   ]
  },
  {
   "cell_type": "code",
   "execution_count": 2,
   "id": "347cef47",
   "metadata": {},
   "outputs": [
    {
     "data": {
      "text/plain": [
       "[3, 11]"
      ]
     },
     "execution_count": 2,
     "metadata": {},
     "output_type": "execute_result"
    }
   ],
   "source": [
    "numbers = [2,7]\n",
    "solution(numbers)"
   ]
  },
  {
   "cell_type": "code",
   "execution_count": 3,
   "id": "96ff140e",
   "metadata": {},
   "outputs": [
    {
     "data": {
      "text/plain": [
       "[5, 11]"
      ]
     },
     "execution_count": 3,
     "metadata": {},
     "output_type": "execute_result"
    }
   ],
   "source": [
    "numbers = [3,7]\n",
    "solution(numbers)"
   ]
  },
  {
   "cell_type": "code",
   "execution_count": 4,
   "id": "4149fb94",
   "metadata": {},
   "outputs": [
    {
     "data": {
      "text/plain": [
       "[2, 11]"
      ]
     },
     "execution_count": 4,
     "metadata": {},
     "output_type": "execute_result"
    }
   ],
   "source": [
    "numbers = [1,7]\n",
    "solution(numbers)"
   ]
  },
  {
   "cell_type": "code",
   "execution_count": 5,
   "id": "e2afc335",
   "metadata": {},
   "outputs": [
    {
     "data": {
      "text/plain": [
       "[1002,\n",
       " 338,\n",
       " 1,\n",
       " 2,\n",
       " 334,\n",
       " 674,\n",
       " 347,\n",
       " 222,\n",
       " 899,\n",
       " 998,\n",
       " 122,\n",
       " 1019,\n",
       " 666,\n",
       " 781,\n",
       " 893,\n",
       " 422,\n",
       " 223,\n",
       " 257,\n",
       " 513,\n",
       " 129,\n",
       " 101]"
      ]
     },
     "execution_count": 5,
     "metadata": {},
     "output_type": "execute_result"
    }
   ],
   "source": [
    "numbers = [1001,337,0,1,333,673,343,221,898,997,121,1015,665,779,891,421,222,256,512,128,100]\n",
    "\n",
    "# [1002, 338, 1, 2, 334, 674, 347, 222, 899, 998, 122, 1019, 666, 781, 893, 422, 223, 257, 513, 129, 101]\n",
    "solution(numbers)"
   ]
  },
  {
   "cell_type": "code",
   "execution_count": null,
   "id": "f1eda4f9",
   "metadata": {},
   "outputs": [],
   "source": []
  },
  {
   "cell_type": "code",
   "execution_count": null,
   "id": "4ebd0c1c",
   "metadata": {},
   "outputs": [],
   "source": []
  }
 ],
 "metadata": {
  "kernelspec": {
   "display_name": "Python 3",
   "language": "python",
   "name": "python3"
  },
  "language_info": {
   "codemirror_mode": {
    "name": "ipython",
    "version": 3
   },
   "file_extension": ".py",
   "mimetype": "text/x-python",
   "name": "python",
   "nbconvert_exporter": "python",
   "pygments_lexer": "ipython3",
   "version": "3.8.8"
  }
 },
 "nbformat": 4,
 "nbformat_minor": 5
}
