{
 "cells": [
  {
   "cell_type": "markdown",
   "metadata": {},
   "source": [
    "# 복서 정렬하기"
   ]
  },
  {
   "cell_type": "code",
   "execution_count": 11,
   "metadata": {},
   "outputs": [],
   "source": [
    "def solution(weights, head2head):\n",
    "    res = []\n",
    "    total = len(weights)\n",
    "    for idx, [weight, fights] in enumerate(zip(weights, head2head), 1):\n",
    "        h_w, l_w, l = 0, 0, 0\n",
    "        for jdx, x in enumerate(fights):\n",
    "            if x == 'N': continue\n",
    "            elif x == 'W':\n",
    "                if weights[jdx] > weight: h_w += 1\n",
    "                else: l_w += 1\n",
    "            else: l += 1\n",
    "        if h_w + l_w + l:\n",
    "            res.append([(h_w+l_w)/(h_w+l_w+l), h_w, weight, idx])\n",
    "        else:\n",
    "            res.append([0, h_w, weight, idx])\n",
    "    print(res)\n",
    "    res.sort(key = lambda x : [-x[0], -x[1], x[2], x[3]])\n",
    "    print(res)\n",
    "    return [i for P, H, W, i in res]"
   ]
  },
  {
   "cell_type": "code",
   "execution_count": 12,
   "metadata": {},
   "outputs": [
    {
     "name": "stdout",
     "output_type": "stream",
     "text": [
      "[[0.3333333333333333, 1, 50, 1], [0.3333333333333333, 0, 82, 2], [0.6666666666666666, 2, 75, 3], [0.6666666666666666, 0, 120, 4]]\n",
      "[[0.6666666666666666, 2, 75, 3], [0.6666666666666666, 0, 120, 4], [0.3333333333333333, 1, 50, 1], [0.3333333333333333, 0, 82, 2]]\n"
     ]
    },
    {
     "data": {
      "text/plain": [
       "[3, 4, 1, 2]"
      ]
     },
     "execution_count": 12,
     "metadata": {},
     "output_type": "execute_result"
    }
   ],
   "source": [
    "weights = [50,82,75,120]\n",
    "head2head = [\"NLWL\",\"WNLL\",\"LWNW\",\"WWLN\"]\n",
    "solution(weights, head2head)"
   ]
  },
  {
   "cell_type": "code",
   "execution_count": 14,
   "metadata": {},
   "outputs": [
    {
     "name": "stdout",
     "output_type": "stream",
     "text": [
      "[[0.5, 0, 145, 1], [0.5, 1, 92, 2], [0.5, 1, 86, 3]]\n",
      "[[0.5, 1, 86, 3], [0.5, 1, 92, 2], [0.5, 0, 145, 1]]\n"
     ]
    },
    {
     "data": {
      "text/plain": [
       "[3, 2, 1]"
      ]
     },
     "execution_count": 14,
     "metadata": {},
     "output_type": "execute_result"
    }
   ],
   "source": [
    "weights = [145, 92, 86]\n",
    "head2head = [\"NLW\", \"WNL\", \"LWN\"]\n",
    "solution(weights, head2head)"
   ]
  },
  {
   "cell_type": "code",
   "execution_count": null,
   "metadata": {},
   "outputs": [],
   "source": []
  }
 ],
 "metadata": {
  "kernelspec": {
   "display_name": "Python 3",
   "language": "python",
   "name": "python3"
  },
  "language_info": {
   "codemirror_mode": {
    "name": "ipython",
    "version": 3
   },
   "file_extension": ".py",
   "mimetype": "text/x-python",
   "name": "python",
   "nbconvert_exporter": "python",
   "pygments_lexer": "ipython3",
   "version": "3.8.3"
  },
  "toc": {
   "base_numbering": 1,
   "nav_menu": {},
   "number_sections": true,
   "sideBar": true,
   "skip_h1_title": false,
   "title_cell": "Table of Contents",
   "title_sidebar": "Contents",
   "toc_cell": false,
   "toc_position": {},
   "toc_section_display": true,
   "toc_window_display": true
  }
 },
 "nbformat": 4,
 "nbformat_minor": 4
}
