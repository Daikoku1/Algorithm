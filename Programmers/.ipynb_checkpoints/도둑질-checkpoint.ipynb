{
 "cells": [
  {
   "cell_type": "markdown",
   "id": "4269b924",
   "metadata": {},
   "source": [
    "# 코드\n",
    "- 21.10 풀이 \n",
    "- 프로그래머스 - 스티커 모으기2 와 문제 동일"
   ]
  },
  {
   "cell_type": "code",
   "execution_count": 1,
   "id": "04a0e20f",
   "metadata": {},
   "outputs": [],
   "source": [
    "def solution(money):\n",
    "    if len(money) < 4 : return max(money)\n",
    "    \n",
    "    # 0번째 집을 털었을 때\n",
    "    dp = [0] * (len(money) - 1)\n",
    "    dp[0] = money[0]\n",
    "    dp[1] = money[0]\n",
    "    for i in range(2, len(money)-1):\n",
    "         dp[i] = max(dp[i-2] + money[i], dp[i-1])\n",
    "    \n",
    "    # 0번째 집을 안털었을 때\n",
    "    dpp = [0] * len(money) \n",
    "    dpp[0] = 0\n",
    "    dpp[1] = money[1]\n",
    "    for i in range(2, len(money)):\n",
    "        dpp[i] = max(dpp[i-2] + money[i], dpp[i-1])\n",
    "    \n",
    "    return max(dp[-1], dpp[-1])"
   ]
  },
  {
   "cell_type": "code",
   "execution_count": 2,
   "id": "719146d2",
   "metadata": {},
   "outputs": [
    {
     "data": {
      "text/plain": [
       "110"
      ]
     },
     "execution_count": 2,
     "metadata": {},
     "output_type": "execute_result"
    }
   ],
   "source": [
    "money = [10, 2, 2, 100, 2]\n",
    "solution(money)"
   ]
  },
  {
   "cell_type": "code",
   "execution_count": null,
   "id": "60d0c8a6",
   "metadata": {},
   "outputs": [],
   "source": []
  }
 ],
 "metadata": {
  "kernelspec": {
   "display_name": "Python 3",
   "language": "python",
   "name": "python3"
  },
  "language_info": {
   "codemirror_mode": {
    "name": "ipython",
    "version": 3
   },
   "file_extension": ".py",
   "mimetype": "text/x-python",
   "name": "python",
   "nbconvert_exporter": "python",
   "pygments_lexer": "ipython3",
   "version": "3.8.8"
  }
 },
 "nbformat": 4,
 "nbformat_minor": 5
}
