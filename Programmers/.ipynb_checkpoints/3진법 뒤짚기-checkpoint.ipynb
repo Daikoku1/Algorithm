{
 "cells": [
  {
   "cell_type": "code",
   "execution_count": 1,
   "metadata": {},
   "outputs": [],
   "source": [
    "# Max_time = 0.03 ms\n",
    "# Momory = 10.3 MB\n",
    "def make_base(n):\n",
    "    q, r = divmod(n, 3)\n",
    "    r = str(r)\n",
    "    \n",
    "    if q == 0:\n",
    "        return r\n",
    "    else:\n",
    "        return make_base(q) + r\n",
    "def solution(n):\n",
    "    return int(make_base(n)[::-1], 3)"
   ]
  },
  {
   "cell_type": "code",
   "execution_count": null,
   "metadata": {},
   "outputs": [],
   "source": []
  }
 ],
 "metadata": {
  "kernelspec": {
   "display_name": "Python 3",
   "language": "python",
   "name": "python3"
  },
  "language_info": {
   "codemirror_mode": {
    "name": "ipython",
    "version": 3
   },
   "file_extension": ".py",
   "mimetype": "text/x-python",
   "name": "python",
   "nbconvert_exporter": "python",
   "pygments_lexer": "ipython3",
   "version": "3.8.5"
  }
 },
 "nbformat": 4,
 "nbformat_minor": 4
}
