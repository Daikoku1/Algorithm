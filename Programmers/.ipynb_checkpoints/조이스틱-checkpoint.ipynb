{
 "cells": [
  {
   "cell_type": "code",
   "execution_count": null,
   "metadata": {},
   "outputs": [],
   "source": [
    "# 예전코드\n",
    "# max_time =  0.05 ms\n",
    "# memory = 10.8 MB\n",
    "def solution(name):\n",
    "    name = list(name)\n",
    "    base = ['A']*len(name)\n",
    "    length = len(name)\n",
    "    cnt = 0\n",
    "    idx=0\n",
    "    while True:\n",
    "        rightidx = 1\n",
    "        leftidx = 1\n",
    "        if name[idx] != 'A':\n",
    "            # abc순 돌리기 vs azyx순 돌리기\n",
    "            cnt += min(26 - (ord(name[idx]) - ord('A')), ord(name[idx]) - ord('A'))\n",
    "            name[idx] = 'A'\n",
    "        if name == base:\n",
    "            break\n",
    "        else:\n",
    "            # 순방향, 역방향 중 가까운 쪽으로 이동\n",
    "            for i in range(1,length):\n",
    "                if name[idx+i] == 'A':\n",
    "                    rightidx += 1\n",
    "                else:\n",
    "                    break\n",
    "                if name[idx-i] == 'A':\n",
    "                    leftidx += 1\n",
    "                else:\n",
    "                    break\n",
    "            if rightidx > leftidx:\n",
    "                cnt += leftidx\n",
    "                idx -= leftidx\n",
    "            else:\n",
    "                cnt += rightidx\n",
    "                idx += rightidx\n",
    "    return cnt"
   ]
  },
  {
   "cell_type": "code",
   "execution_count": null,
   "metadata": {},
   "outputs": [],
   "source": []
  }
 ],
 "metadata": {
  "kernelspec": {
   "display_name": "Python 3",
   "language": "python",
   "name": "python3"
  },
  "language_info": {
   "codemirror_mode": {
    "name": "ipython",
    "version": 3
   },
   "file_extension": ".py",
   "mimetype": "text/x-python",
   "name": "python",
   "nbconvert_exporter": "python",
   "pygments_lexer": "ipython3",
   "version": "3.8.5"
  }
 },
 "nbformat": 4,
 "nbformat_minor": 4
}
