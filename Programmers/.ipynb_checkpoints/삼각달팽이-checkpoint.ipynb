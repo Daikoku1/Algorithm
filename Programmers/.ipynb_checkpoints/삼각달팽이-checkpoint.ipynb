{
 "cells": [
  {
   "cell_type": "code",
   "execution_count": 33,
   "metadata": {},
   "outputs": [],
   "source": [
    "# Max_time = 1899.52 ms\n",
    "# Memory = 58.6 MB\n",
    "def solution(n):\n",
    "    answer = [[0] * i for i in range(1, n+1)]\n",
    "    way = [(1,0),(0,1),(-1,-1)]\n",
    "    idx = 0 # 방향 인덱스\n",
    "    num = 1 # 순차 입력값\n",
    "    now_x, now_y = -1 , 0 # 초기 인덱스 \n",
    "    while n:\n",
    "        d = way[idx%3]\n",
    "        for _ in range(n):\n",
    "            now_x, now_y = now_x + d[0], now_y + d[1]\n",
    "            answer[now_x][now_y] = num\n",
    "            num += 1\n",
    "        n -= 1\n",
    "        idx += 1\n",
    "    return sum(answer, [])"
   ]
  },
  {
   "cell_type": "code",
   "execution_count": 9,
   "metadata": {},
   "outputs": [],
   "source": [
    "# Max_time = 1478.46 ms\n",
    "# Memory = 57.8 MB\n",
    "def solution(n):\n",
    "    answer = [[0] * i for i in range(1, n+1)]\n",
    "    way = [(1,0),(0,1),(-1,-1)]\n",
    "    idx = 0 # 방향 인덱스\n",
    "    num = 1 # 순차 입력값\n",
    "    now_x, now_y = -1 , 0 # 초기 인덱스 \n",
    "    while n:\n",
    "        dx, dy = way[idx%3][0], way[idx%3][1]\n",
    "        for _ in range(n):\n",
    "            now_x, now_y = now_x + dx, now_y + dy\n",
    "            answer[now_x][now_y] = num\n",
    "            num += 1\n",
    "        n -= 1\n",
    "        idx += 1\n",
    "    return answer\n",
    "#     return sum(answer, [])"
   ]
  },
  {
   "cell_type": "code",
   "execution_count": 10,
   "metadata": {},
   "outputs": [
    {
     "data": {
      "text/plain": [
       "[[1], [2, 9], [3, 10, 8], [4, 5, 6, 7]]"
      ]
     },
     "execution_count": 10,
     "metadata": {},
     "output_type": "execute_result"
    }
   ],
   "source": [
    "solution(4)"
   ]
  },
  {
   "cell_type": "code",
   "execution_count": 34,
   "metadata": {},
   "outputs": [
    {
     "data": {
      "text/plain": [
       "[1, 2, 9, 3, 10, 8, 4, 5, 6, 7]"
      ]
     },
     "execution_count": 34,
     "metadata": {},
     "output_type": "execute_result"
    }
   ],
   "source": [
    "b = solution(4)\n",
    "b"
   ]
  },
  {
   "cell_type": "code",
   "execution_count": 4,
   "metadata": {},
   "outputs": [],
   "source": [
    "from pprint import pprint"
   ]
  },
  {
   "cell_type": "code",
   "execution_count": 8,
   "metadata": {},
   "outputs": [
    {
     "data": {
      "text/plain": [
       "[[0], [0, 0], [0, 0, 0], [0, 0, 0, 0]]"
      ]
     },
     "execution_count": 8,
     "metadata": {},
     "output_type": "execute_result"
    }
   ],
   "source": [
    "n = 4\n",
    "answer = [[0] * i for i in range(1, n+1)]\n",
    "answer"
   ]
  },
  {
   "cell_type": "code",
   "execution_count": null,
   "metadata": {},
   "outputs": [],
   "source": []
  }
 ],
 "metadata": {
  "kernelspec": {
   "display_name": "Python 3",
   "language": "python",
   "name": "python3"
  },
  "language_info": {
   "codemirror_mode": {
    "name": "ipython",
    "version": 3
   },
   "file_extension": ".py",
   "mimetype": "text/x-python",
   "name": "python",
   "nbconvert_exporter": "python",
   "pygments_lexer": "ipython3",
   "version": "3.8.5"
  }
 },
 "nbformat": 4,
 "nbformat_minor": 4
}
