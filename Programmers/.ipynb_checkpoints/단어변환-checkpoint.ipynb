{
 "cells": [
  {
   "cell_type": "code",
   "execution_count": null,
   "metadata": {
    "colab": {},
    "colab_type": "code",
    "id": "r-QfFges4x3H"
   },
   "outputs": [],
   "source": [
    "# 예전 코드\n",
    "# Max_time = 2.56 ms\n",
    "# Memory = 10.8 MB\n",
    "from collections import defaultdict\n",
    "def solution(begin, target, words):\n",
    "    length = len(begin)\n",
    "    char_dict = defaultdict(list)\n",
    "    words = [begin] + words\n",
    "    for i in range(len(words)):\n",
    "        for j in range(i+1, len(words)):\n",
    "            cnt = 0\n",
    "            for n in range(length):\n",
    "                if words[i][n] == words[j][n]:\n",
    "                    cnt += 1\n",
    "            if cnt == length -1:\n",
    "                char_dict[words[i]] += [words[j]]\n",
    "                \n",
    "    to_do = [[words[0], 0]]\n",
    "    done = []\n",
    "    while to_do:\n",
    "        char, count = to_do.pop(0)\n",
    "        if char == target:\n",
    "            return count\n",
    "        if char_dict[char]:\n",
    "            to_do += [[x, count +1] for x in char_dict[char]]\n",
    "    return 0"
   ]
  },
  {
   "cell_type": "code",
   "execution_count": null,
   "metadata": {
    "colab": {
     "base_uri": "https://localhost:8080/",
     "height": 510
    },
    "colab_type": "code",
    "id": "suSHeMpc40Qo",
    "outputId": "ac70cfd5-f94f-468c-a9c9-ea0694b10289",
    "scrolled": true
   },
   "outputs": [
    {
     "name": "stdout",
     "output_type": "stream",
     "text": [
      "defaultdict(<class 'list'>, {'hit': ['hot'], 'hot': ['dot', 'lot'], 'dot': ['dog', 'lot'], 'dog': ['log', 'cog'], 'lot': ['log'], 'log': ['cog']})\n",
      "[]\n",
      "hit 0\n",
      "-----------------\n",
      "[]\n",
      "hot 1\n",
      "-----------------\n",
      "[['lot', 2]]\n",
      "dot 2\n",
      "-----------------\n",
      "[['dog', 3], ['lot', 3]]\n",
      "lot 2\n",
      "-----------------\n",
      "[['lot', 3], ['log', 3]]\n",
      "dog 3\n",
      "-----------------\n",
      "[['log', 3], ['log', 4], ['cog', 4]]\n",
      "lot 3\n",
      "-----------------\n",
      "[['log', 4], ['cog', 4], ['log', 4]]\n",
      "log 3\n",
      "-----------------\n",
      "[['cog', 4], ['log', 4], ['cog', 4]]\n",
      "log 4\n",
      "-----------------\n",
      "[['log', 4], ['cog', 4], ['cog', 5]]\n",
      "cog 4\n",
      "-----------------\n"
     ]
    },
    {
     "data": {
      "text/plain": [
       "4"
      ]
     },
     "execution_count": 8,
     "metadata": {
      "tags": []
     },
     "output_type": "execute_result"
    }
   ],
   "source": [
    "begin = 'hit'\n",
    "target = 'cog'\n",
    "words = ['hot', 'dot', 'dog', 'lot', 'log', 'cog']\n",
    "solution(begin, target, words)"
   ]
  },
  {
   "cell_type": "code",
   "execution_count": 5,
   "metadata": {},
   "outputs": [],
   "source": [
    "# Max_time = 0.75 ms\n",
    "# Memory = 10.3 MB\n",
    "from collections import deque\n",
    "def solution(begin, target, words):\n",
    "    to_do = deque([begin])\n",
    "    cnt = 0\n",
    "    while True:\n",
    "        # 층을 나누기 위해처음 개수만큼만 for문 사용\n",
    "        for _ in range(len(to_do)):\n",
    "            w = to_do.popleft()\n",
    "            if w == target:\n",
    "                return cnt\n",
    "            # pop으로 words의 크기를 줄이기 때문에 거꾸로 돌림\n",
    "            for idx in range(len(words)-1, -1, -1):\n",
    "                if sum([x!=y for x, y in zip(w, words[idx])]) == 1:\n",
    "                    to_do.append(words.pop(idx))\n",
    "\n",
    "        if not to_do:\n",
    "            return 0\n",
    "        cnt += 1"
   ]
  },
  {
   "cell_type": "code",
   "execution_count": 6,
   "metadata": {},
   "outputs": [
    {
     "data": {
      "text/plain": [
       "4"
      ]
     },
     "execution_count": 6,
     "metadata": {},
     "output_type": "execute_result"
    }
   ],
   "source": [
    "begin = 'hit'\n",
    "target = 'cog'\n",
    "words = ['hot', 'dot', 'dog', 'lot', 'log', 'cog']\n",
    "solution(begin, target, words)"
   ]
  },
  {
   "cell_type": "code",
   "execution_count": null,
   "metadata": {},
   "outputs": [],
   "source": []
  }
 ],
 "metadata": {
  "colab": {
   "authorship_tag": "ABX9TyMEDyXwGQ5Y9gXhSDcbJoGs",
   "include_colab_link": true,
   "name": "단어변환.ipynb",
   "provenance": []
  },
  "kernelspec": {
   "display_name": "Python 3",
   "language": "python",
   "name": "python3"
  },
  "language_info": {
   "codemirror_mode": {
    "name": "ipython",
    "version": 3
   },
   "file_extension": ".py",
   "mimetype": "text/x-python",
   "name": "python",
   "nbconvert_exporter": "python",
   "pygments_lexer": "ipython3",
   "version": "3.8.5"
  }
 },
 "nbformat": 4,
 "nbformat_minor": 1
}
