{
 "cells": [
  {
   "cell_type": "markdown",
   "id": "aab1b2de",
   "metadata": {},
   "source": [
    "## 코드1\n",
    "### 효율성테스트\n",
    "- 테스트 1 〉\t통과 (18.79ms, 11.5MB)\n",
    "- 테스트 2 〉\t실패 (시간 초과)\n",
    "- 테스트 3 〉\t통과 (8.99ms, 10.8MB)\n",
    "- 테스트 4 〉\t실패 (시간 초과)\n",
    "- 테스트 5 〉\t실패 (시간 초과)\n",
    "- 테스트 6 〉\t실패 (시간 초과)"
   ]
  },
  {
   "cell_type": "code",
   "execution_count": 16,
   "id": "66ebd544",
   "metadata": {},
   "outputs": [],
   "source": [
    "import heapq\n",
    "def solution(n, cores):\n",
    "    if len(cores) >= n: return n\n",
    "    n -= len(cores)\n",
    "    \n",
    "    h = [[c, i] for i, c in enumerate(cores, 1)]\n",
    "    heapq.heapify(h)\n",
    "    \n",
    "    t = 0\n",
    "    while True:\n",
    "        t, idx = heapq.heappop(h)\n",
    "        n -= 1\n",
    "        if n : heapq.heappush(h, [t + cores[idx-1], idx])\n",
    "        else: return idx"
   ]
  },
  {
   "cell_type": "code",
   "execution_count": 17,
   "id": "20bb7514",
   "metadata": {},
   "outputs": [
    {
     "data": {
      "text/plain": [
       "2"
      ]
     },
     "execution_count": 17,
     "metadata": {},
     "output_type": "execute_result"
    }
   ],
   "source": [
    "n = 6\n",
    "cores = [1,2,3]\n",
    "solution(n, cores)\n",
    "# 2"
   ]
  },
  {
   "cell_type": "markdown",
   "id": "917ad325",
   "metadata": {},
   "source": [
    "## 코드2\n",
    "- 이진분류로 풀어보자."
   ]
  },
  {
   "cell_type": "code",
   "execution_count": 2,
   "id": "a91b65a9",
   "metadata": {},
   "outputs": [],
   "source": [
    "# max_time = 13.26 ms, 10.5MB\n",
    "def solution(n, cores):\n",
    "    if n <= len(cores) : return n + 1\n",
    "    \n",
    "    n -= len(cores)\n",
    "    left, right = 0, max(cores) * (n)\n",
    "    t = 0\n",
    "    while left < right:\n",
    "        mid = (left + right) // 2\n",
    "        \n",
    "        now = 0            \n",
    "        for core in cores:\n",
    "            now += mid // core\n",
    "        if now >= n: right = mid\n",
    "        else: left = mid + 1\n",
    "\n",
    "    for core in cores:\n",
    "        n -= (right-1) // core\n",
    "    \n",
    "    for idx, val in enumerate(cores, 1):\n",
    "        if left % val == 0 :\n",
    "            n -= 1\n",
    "            if n == 0: return idx"
   ]
  },
  {
   "cell_type": "code",
   "execution_count": 3,
   "id": "8e7cce4a",
   "metadata": {
    "scrolled": true
   },
   "outputs": [
    {
     "data": {
      "text/plain": [
       "2"
      ]
     },
     "execution_count": 3,
     "metadata": {},
     "output_type": "execute_result"
    }
   ],
   "source": [
    "n = 6\n",
    "cores = [1,2,3]\n",
    "solution(n, cores)\n",
    "# 2"
   ]
  },
  {
   "cell_type": "code",
   "execution_count": 5,
   "id": "9c0c42cb",
   "metadata": {},
   "outputs": [
    {
     "data": {
      "text/plain": [
       "4"
      ]
     },
     "execution_count": 5,
     "metadata": {},
     "output_type": "execute_result"
    }
   ],
   "source": [
    "n = 19\n",
    "cores = [2,4,8,16]\n",
    "solution(n, cores)"
   ]
  },
  {
   "cell_type": "code",
   "execution_count": 6,
   "id": "154e7b65",
   "metadata": {
    "scrolled": true
   },
   "outputs": [
    {
     "data": {
      "text/plain": [
       "3"
      ]
     },
     "execution_count": 6,
     "metadata": {},
     "output_type": "execute_result"
    }
   ],
   "source": [
    "n = 19\n",
    "cores = [2,4,8,15]\n",
    "solution(n, cores)"
   ]
  },
  {
   "cell_type": "code",
   "execution_count": null,
   "id": "a2ade82c",
   "metadata": {},
   "outputs": [],
   "source": []
  },
  {
   "cell_type": "code",
   "execution_count": null,
   "id": "08ee2a47",
   "metadata": {},
   "outputs": [],
   "source": []
  }
 ],
 "metadata": {
  "kernelspec": {
   "display_name": "Python 3",
   "language": "python",
   "name": "python3"
  },
  "language_info": {
   "codemirror_mode": {
    "name": "ipython",
    "version": 3
   },
   "file_extension": ".py",
   "mimetype": "text/x-python",
   "name": "python",
   "nbconvert_exporter": "python",
   "pygments_lexer": "ipython3",
   "version": "3.8.8"
  }
 },
 "nbformat": 4,
 "nbformat_minor": 5
}
