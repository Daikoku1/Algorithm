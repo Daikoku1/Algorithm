{
 "cells": [
  {
   "cell_type": "markdown",
   "id": "ea0a9e26",
   "metadata": {},
   "source": [
    "# 다단계 칫솔 판매"
   ]
  },
  {
   "cell_type": "code",
   "execution_count": 12,
   "id": "9701faee",
   "metadata": {},
   "outputs": [],
   "source": [
    "def solution(enroll, referral, seller, amount):\n",
    "    ans = {x : 0 for x in enroll}\n",
    "    top = {}\n",
    "    for i, v in enumerate(referral):\n",
    "        top[enroll[i]] = v\n",
    "    print(ans)\n",
    "    print(top)\n",
    "    for s, money in zip(seller, amount):\n",
    "        money *= 100\n",
    "        t_m = money // 10\n",
    "        ans[s] += money - t_m\n",
    "        while t_m:\n",
    "            print(s, money)\n",
    "            s, money = top[s], t_m\n",
    "            if s != '-':\n",
    "                t_m = money // 10\n",
    "                ans[s] += money - t_m\n",
    "            else:break\n",
    "    \n",
    "    return [m for s,m in ans.items()]"
   ]
  },
  {
   "cell_type": "code",
   "execution_count": 13,
   "id": "73582846",
   "metadata": {},
   "outputs": [
    {
     "name": "stdout",
     "output_type": "stream",
     "text": [
      "{'john': 0, 'mary': 0, 'edward': 0, 'sam': 0, 'emily': 0, 'jaimie': 0, 'tod': 0, 'young': 0}\n",
      "{'john': '-', 'mary': '-', 'edward': 'mary', 'sam': 'edward', 'emily': 'mary', 'jaimie': 'mary', 'tod': 'jaimie', 'young': 'edward'}\n",
      "young 1200\n",
      "edward 120\n",
      "mary 12\n",
      "john 400\n",
      "tod 200\n",
      "jaimie 20\n",
      "emily 500\n",
      "mary 50\n",
      "mary 1000\n"
     ]
    },
    {
     "data": {
      "text/plain": [
       "[360, 958, 108, 0, 450, 18, 180, 1080]"
      ]
     },
     "execution_count": 13,
     "metadata": {},
     "output_type": "execute_result"
    }
   ],
   "source": [
    "enroll = [\"john\", \"mary\", \"edward\", \"sam\", \"emily\", \"jaimie\", \"tod\", \"young\"]\n",
    "referral = [\"-\", \"-\", \"mary\", \"edward\", \"mary\", \"mary\", \"jaimie\", \"edward\"]\n",
    "seller = [\"young\", \"john\", \"tod\", \"emily\", \"mary\"]\n",
    "amount = [12, 4, 2, 5, 10]\n",
    "\n",
    "solution(enroll, referral, seller, amount)\n",
    "#[360, 958, 108, 0, 450, 18, 180, 1080]"
   ]
  },
  {
   "cell_type": "code",
   "execution_count": null,
   "id": "1e6b8291",
   "metadata": {},
   "outputs": [],
   "source": []
  },
  {
   "cell_type": "code",
   "execution_count": null,
   "id": "4c81b44a",
   "metadata": {},
   "outputs": [],
   "source": []
  }
 ],
 "metadata": {
  "kernelspec": {
   "display_name": "Python 3",
   "language": "python",
   "name": "python3"
  },
  "language_info": {
   "codemirror_mode": {
    "name": "ipython",
    "version": 3
   },
   "file_extension": ".py",
   "mimetype": "text/x-python",
   "name": "python",
   "nbconvert_exporter": "python",
   "pygments_lexer": "ipython3",
   "version": "3.8.8"
  }
 },
 "nbformat": 4,
 "nbformat_minor": 5
}
