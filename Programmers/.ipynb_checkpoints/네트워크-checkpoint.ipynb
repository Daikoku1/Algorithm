{
 "cells": [
  {
   "cell_type": "code",
   "execution_count": null,
   "metadata": {
    "colab": {},
    "colab_type": "code",
    "id": "PXioOzcSW7mZ"
   },
   "outputs": [],
   "source": [
    "# 실패 코드\n",
    "# 실패의 원인 파악 불가능......\n",
    "import numpy as np\n",
    "def solution(n, computers):\n",
    "    start = np.zeros(n)\n",
    "    start[0] = 1\n",
    "\n",
    "    cnt = 1\n",
    "    last = np.zeros(n)\n",
    "    data_in = True\n",
    "\n",
    "    while True:\n",
    "        while data_in:\n",
    "            data_in = False\n",
    "            for i in range(n):\n",
    "                if np.any(start == computers[i]):\n",
    "                    data_in = True\n",
    "                    start = np.where(start + computers[i] > 0, 1, 0)\n",
    "                    \n",
    "            last += start\n",
    "        if np.all(last):\n",
    "            return cnt\n",
    "        else:\n",
    "            data_in = True\n",
    "            cnt +=1\n",
    "            start = np.zeros(n)\n",
    "            for i in range(n):\n",
    "                if not last[i]:\n",
    "                    start[i] = 1\n",
    "                    break"
   ]
  },
  {
   "cell_type": "code",
   "execution_count": null,
   "metadata": {
    "colab": {},
    "colab_type": "code",
    "id": "z2aZrsSuvyCG"
   },
   "outputs": [],
   "source": [
    "# DFS\n",
    "# Max_time = 1.52 ms\n",
    "# Memory = 10.3 MB\n",
    "from collections import defaultdict\n",
    "def solution(n, computers):\n",
    "    # 연결된 네트워크를 dic형태로 치환\n",
    "    a_dict = defaultdict(list)\n",
    "    for i in range(n):\n",
    "        for j in range(n):\n",
    "            if computers[i][j] == 1:\n",
    "                a_dict[i].append(j)\n",
    "    to_do = [[x,0] for x in range(n-1, -1, -1)]\n",
    "    done = []\n",
    "\n",
    "    cnt = 0\n",
    "    while to_do:\n",
    "        num, depth = to_do.pop()\n",
    "        if not num in done:\n",
    "            if depth == 0:\n",
    "                cnt += 1\n",
    "            done.append(num)\n",
    "            # 연결된 네트워크가 있을 경우, 연결\n",
    "            if a_dict[num]:\n",
    "                for i in a_dict[num]:\n",
    "                    to_do.append([i, depth + 1])\n",
    "\n",
    "    return cnt"
   ]
  },
  {
   "cell_type": "code",
   "execution_count": null,
   "metadata": {
    "colab": {},
    "colab_type": "code",
    "id": "CPJsvppx_FSW"
   },
   "outputs": [],
   "source": [
    "# 넘파이를 이용한 코드\n",
    "# Max_time = 3.62 ms\n",
    "# Memory = 28.9 MB\n",
    "import numpy as np\n",
    "def solution(n, computers):\n",
    "    start = np.zeros(n)\n",
    "    start[0] = 1\n",
    "\n",
    "    cnt = 1\n",
    "    # 이미 처리한 네트워크 = 1, 처리 X 인 네트워크 = 0\n",
    "    total = np.zeros(n)\n",
    "\n",
    "    while True:\n",
    "        # start와 동일한 위치가 1로 표시된 네트워크의 경우에는 해당 네트워크가 연결되어 있다는 의미\n",
    "        # start와 연결된 네트워크가 존재하므로 모든 네트워크가 연결되었다고 생각할 수 있음\n",
    "        for i in range(n):\n",
    "            if len(np.where(start+computers[i]>1)[0]):\n",
    "                start = np.where(start + computers[i] > 0, 1, 0)\n",
    "\n",
    "        for j in range(n-1, -1, -1):\n",
    "            if len(np.where(start+computers[j]>1)[0]):\n",
    "                start = np.where(start + computers[j] > 0, 1, 0)\n",
    "        \n",
    "        total += start\n",
    "        # total이 모두 1로 찬 경우\n",
    "        if np.all(total):\n",
    "            return cnt\n",
    "        else:\n",
    "            cnt +=1\n",
    "            # 새로 시작하는 네트워크 연결\n",
    "            start = np.zeros(n)\n",
    "            s_idx = np.argmin(total)\n",
    "            start[s_idx] = 1"
   ]
  }
 ],
 "metadata": {
  "colab": {
   "authorship_tag": "ABX9TyN5HV6B7h6tdftbkBvjXi/n",
   "include_colab_link": true,
   "name": "네트워크.ipynb",
   "provenance": []
  },
  "kernelspec": {
   "display_name": "Python 3",
   "language": "python",
   "name": "python3"
  },
  "language_info": {
   "codemirror_mode": {
    "name": "ipython",
    "version": 3
   },
   "file_extension": ".py",
   "mimetype": "text/x-python",
   "name": "python",
   "nbconvert_exporter": "python",
   "pygments_lexer": "ipython3",
   "version": "3.8.5"
  }
 },
 "nbformat": 4,
 "nbformat_minor": 1
}
