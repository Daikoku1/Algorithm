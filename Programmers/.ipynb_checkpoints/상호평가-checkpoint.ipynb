{
 "cells": [
  {
   "cell_type": "code",
   "execution_count": 24,
   "id": "e42fe6f6",
   "metadata": {},
   "outputs": [],
   "source": [
    "# Max_time = 0.05ms, 10.3MB\n",
    "def grade(n):\n",
    "    if n >= 90: return 'A'\n",
    "    elif n >= 80 : return 'B'\n",
    "    elif n >= 70 : return 'C'\n",
    "    elif n >= 50 : return 'D'\n",
    "    else : return 'F'\n",
    "    \n",
    "def solution(scores):\n",
    "    ans = ''\n",
    "    for i in range(len(scores)):\n",
    "        sub = sorted([[scores[j][i], j] for j in range(len(scores))])\n",
    "        if sub[0][1] == i and sub[0][0] < sub[1][0]:\n",
    "            ans += grade(sum([x for x,y in sub if y != i])/(len(sub)-1))\n",
    "        elif sub[-1][1] == i and sub[-1][0] > sub[-2][0]:\n",
    "            ans += grade(sum([x for x,y in sub if y != i])/(len(sub)-1))\n",
    "        else:\n",
    "            ans += grade(sum([x for x, i in sub])/len(sub))\n",
    "    return ans"
   ]
  },
  {
   "cell_type": "code",
   "execution_count": 25,
   "id": "59f329ef",
   "metadata": {},
   "outputs": [
    {
     "data": {
      "text/plain": [
       "'FBABD'"
      ]
     },
     "execution_count": 25,
     "metadata": {},
     "output_type": "execute_result"
    }
   ],
   "source": [
    "scores = [[100,90,98,88,65],[50,45,99,85,77],[47,88,95,80,67],[61,57,100,80,65],[24,90,94,75,65]]\n",
    "solution(scores)\n",
    "# \"FBABD\""
   ]
  },
  {
   "cell_type": "code",
   "execution_count": 26,
   "id": "a235854e",
   "metadata": {},
   "outputs": [
    {
     "data": {
      "text/plain": [
       "'DA'"
      ]
     },
     "execution_count": 26,
     "metadata": {},
     "output_type": "execute_result"
    }
   ],
   "source": [
    "scores = [[50,90],[50,87]]\n",
    "solution(scores)\n",
    "#\"DA\""
   ]
  },
  {
   "cell_type": "code",
   "execution_count": 27,
   "id": "03b867b9",
   "metadata": {},
   "outputs": [
    {
     "data": {
      "text/plain": [
       "'CFD'"
      ]
     },
     "execution_count": 27,
     "metadata": {},
     "output_type": "execute_result"
    }
   ],
   "source": [
    "scores = [[70,49,90],[68,50,38],[73,31,100]]\n",
    "solution(scores)\n",
    "# \"CFD\""
   ]
  },
  {
   "cell_type": "code",
   "execution_count": 63,
   "id": "da3b0da6",
   "metadata": {},
   "outputs": [],
   "source": [
    "# Max_time = 0.04ms, 10.3MB\n",
    "def grade(n):\n",
    "    if n >= 90: return 'A'\n",
    "    elif n >= 80 : return 'B'\n",
    "    elif n >= 70 : return 'C'\n",
    "    elif n >= 50 : return 'D'\n",
    "    else : return 'F'\n",
    "    \n",
    "def solution(scores):\n",
    "    ans = ''\n",
    "    for t, score in enumerate(zip(*scores)):\n",
    "        sub = sorted([[val, idx] for idx, val in enumerate(score)])\n",
    "        if sub[0][1] == t and sub[0][0] < sub[1][0]:\n",
    "            ans += grade((sum(score) - sub[0][0]) / (len(score) - 1))\n",
    "        elif sub[-1][1] == t and sub[-1][0] > sub[-2][0]:\n",
    "            ans += grade((sum(score) - sub[-1][0]) / (len(score) - 1))\n",
    "        else:\n",
    "            ans += grade(sum(score)/len(score))\n",
    "    return ans"
   ]
  },
  {
   "cell_type": "code",
   "execution_count": 64,
   "id": "1973ff77",
   "metadata": {},
   "outputs": [
    {
     "data": {
      "text/plain": [
       "'FBABD'"
      ]
     },
     "execution_count": 64,
     "metadata": {},
     "output_type": "execute_result"
    }
   ],
   "source": [
    "scores = [[100,90,98,88,65],[50,45,99,85,77],[47,88,95,80,67],[61,57,100,80,65],[24,90,94,75,65]]\n",
    "solution(scores)\n",
    "# \"FBABD\""
   ]
  },
  {
   "cell_type": "code",
   "execution_count": 65,
   "id": "8c6b5bb9",
   "metadata": {},
   "outputs": [
    {
     "data": {
      "text/plain": [
       "'DA'"
      ]
     },
     "execution_count": 65,
     "metadata": {},
     "output_type": "execute_result"
    }
   ],
   "source": [
    "scores = [[50,90],[50,87]]\n",
    "solution(scores)\n",
    "#\"DA\""
   ]
  },
  {
   "cell_type": "code",
   "execution_count": 66,
   "id": "85f9ff42",
   "metadata": {},
   "outputs": [
    {
     "data": {
      "text/plain": [
       "'CFD'"
      ]
     },
     "execution_count": 66,
     "metadata": {},
     "output_type": "execute_result"
    }
   ],
   "source": [
    "scores = [[70,49,90],[68,50,38],[73,31,100]]\n",
    "solution(scores)\n",
    "# \"CFD\""
   ]
  },
  {
   "cell_type": "code",
   "execution_count": 67,
   "id": "ac078211",
   "metadata": {},
   "outputs": [
    {
     "name": "stdout",
     "output_type": "stream",
     "text": [
      "(70, 68, 73)\n",
      "(49, 50, 31)\n",
      "(90, 38, 100)\n"
     ]
    }
   ],
   "source": [
    "for a in zip(*scores):\n",
    "    print(a)"
   ]
  },
  {
   "cell_type": "code",
   "execution_count": null,
   "id": "428a3cfd",
   "metadata": {},
   "outputs": [],
   "source": []
  }
 ],
 "metadata": {
  "kernelspec": {
   "display_name": "Python 3",
   "language": "python",
   "name": "python3"
  },
  "language_info": {
   "codemirror_mode": {
    "name": "ipython",
    "version": 3
   },
   "file_extension": ".py",
   "mimetype": "text/x-python",
   "name": "python",
   "nbconvert_exporter": "python",
   "pygments_lexer": "ipython3",
   "version": "3.8.8"
  }
 },
 "nbformat": 4,
 "nbformat_minor": 5
}
