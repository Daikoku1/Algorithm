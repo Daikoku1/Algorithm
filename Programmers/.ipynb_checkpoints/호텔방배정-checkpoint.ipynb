{
 "cells": [
  {
   "cell_type": "markdown",
   "metadata": {
    "colab_type": "text",
    "id": "view-in-github"
   },
   "source": [
    "<a href=\"https://colab.research.google.com/github/Daikoku1/Algorithm_Programmers/blob/master/%ED%98%B8%ED%85%94%EB%B0%A9%EB%B0%B0%EC%A0%95.ipynb\" target=\"_parent\"><img src=\"https://colab.research.google.com/assets/colab-badge.svg\" alt=\"Open In Colab\"/></a>"
   ]
  },
  {
   "cell_type": "code",
   "execution_count": 8,
   "metadata": {
    "colab": {},
    "colab_type": "code",
    "id": "7r89p58ctRaU"
   },
   "outputs": [],
   "source": [
    "# 효율성 테스트 0점\n",
    "import bisect\n",
    "def solution(k, room_number):\n",
    "    room_arr = [x+1 for x in range(k)]\n",
    "    answer = []\n",
    "    print(room_arr)\n",
    "    for idx in range(len(room_number)):\n",
    "        room_idx = bisect.bisect_left(room_arr, room_number[idx])\n",
    "        answer += [room_arr[room_idx]]\n",
    "        room_arr.pop(room_idx)\n",
    "        print(room_arr)\n",
    "        print('--------------')\n",
    "    return answer"
   ]
  },
  {
   "cell_type": "code",
   "execution_count": 9,
   "metadata": {
    "colab": {
     "base_uri": "https://localhost:8080/",
     "height": 267
    },
    "colab_type": "code",
    "id": "fJ4cQSWTtYqp",
    "outputId": "73fe4ff8-a7f0-4a1f-d0ed-a7631f3ec912"
   },
   "outputs": [
    {
     "name": "stdout",
     "output_type": "stream",
     "text": [
      "[1, 2, 3, 4, 5, 6, 7, 8, 9, 10]\n",
      "[2, 3, 4, 5, 6, 7, 8, 9, 10]\n",
      "--------------\n",
      "[2, 4, 5, 6, 7, 8, 9, 10]\n",
      "--------------\n",
      "[2, 5, 6, 7, 8, 9, 10]\n",
      "--------------\n",
      "[5, 6, 7, 8, 9, 10]\n",
      "--------------\n",
      "[6, 7, 8, 9, 10]\n",
      "--------------\n",
      "[7, 8, 9, 10]\n",
      "--------------\n"
     ]
    },
    {
     "data": {
      "text/plain": [
       "[1, 3, 4, 2, 5, 6]"
      ]
     },
     "execution_count": 9,
     "metadata": {
      "tags": []
     },
     "output_type": "execute_result"
    }
   ],
   "source": [
    "k = 10\n",
    "room_number = [1,3,4,1,3,1]\n",
    "solution(k, room_number)"
   ]
  },
  {
   "cell_type": "code",
   "execution_count": 3,
   "metadata": {
    "colab": {},
    "colab_type": "code",
    "id": "XJFADcpQtgkQ"
   },
   "outputs": [],
   "source": [
    "# 효율성 테스트 0점\n",
    "from collections import defaultdict\n",
    "def solution(k, room_number):\n",
    "    dic = defaultdict(int)\n",
    "    result = []\n",
    "    for i in range(len(room_number)):\n",
    "        k = room_number[i]\n",
    "        while dic[k] != 0:\n",
    "            k += 1\n",
    "        result += [k]\n",
    "        dic[k] = 1\n",
    "    return result"
   ]
  },
  {
   "cell_type": "code",
   "execution_count": 4,
   "metadata": {
    "colab": {
     "base_uri": "https://localhost:8080/",
     "height": 34
    },
    "colab_type": "code",
    "id": "A1FfB6Uyvqyb",
    "outputId": "946d57f8-9772-4c5c-fede-44306f5bbe2a"
   },
   "outputs": [
    {
     "data": {
      "text/plain": [
       "[1, 3, 4, 2, 5, 6]"
      ]
     },
     "execution_count": 4,
     "metadata": {
      "tags": []
     },
     "output_type": "execute_result"
    }
   ],
   "source": [
    "k = 10\n",
    "room_number = [1,3,4,1,3,1]\n",
    "solution(k, room_number)"
   ]
  },
  {
   "cell_type": "code",
   "execution_count": 5,
   "metadata": {
    "colab": {},
    "colab_type": "code",
    "id": "A5cvYjw7vrt8"
   },
   "outputs": [],
   "source": [
    "# 효율성 테스트 0점\n",
    "def solution(k, room_number):\n",
    "    result = [0] * k\n",
    "    answer = []\n",
    "    for idx in range(len(room_number)):\n",
    "        k = room_number[idx]\n",
    "        while True:\n",
    "            if result[k]:\n",
    "                result[k] += 1\n",
    "                k += 1\n",
    "            else:\n",
    "                break\n",
    "        answer += [k]\n",
    "        result[k] = 1\n",
    "    return answer"
   ]
  },
  {
   "cell_type": "code",
   "execution_count": 6,
   "metadata": {
    "colab": {
     "base_uri": "https://localhost:8080/",
     "height": 34
    },
    "colab_type": "code",
    "id": "9n5uqvSWy55A",
    "outputId": "464b2281-a184-4839-dd3f-656df0b7dac6"
   },
   "outputs": [
    {
     "data": {
      "text/plain": [
       "[1, 3, 4, 2, 5, 6]"
      ]
     },
     "execution_count": 6,
     "metadata": {
      "tags": []
     },
     "output_type": "execute_result"
    }
   ],
   "source": [
    "k = 10\n",
    "room_number = [1,3,4,1,3,1]\n",
    "solution(k, room_number)"
   ]
  },
  {
   "cell_type": "code",
   "execution_count": 13,
   "metadata": {
    "colab": {},
    "colab_type": "code",
    "id": "ozRATXoVcIsP"
   },
   "outputs": [],
   "source": [
    "from collections import defaultdict\n",
    "def solution(k, room_number):\n",
    "    answer = []\n",
    "    room = defaultdict(int)\n",
    "    for num in room_number:\n",
    "        number = room[num]\n",
    "        if number :\n",
    "            temp = [num]\n",
    "            while True:\n",
    "                index = number\n",
    "                number = room[number]\n",
    "                if not number:\n",
    "                    answer.append(index)\n",
    "                    room[index] = index + 1\n",
    "                    for i in temp:\n",
    "                        room[i] = index + 1\n",
    "                    break\n",
    "                temp.append(number)\n",
    "        else:\n",
    "            answer.append(num)\n",
    "            room[num] = num + 1\n",
    "    return answer"
   ]
  },
  {
   "cell_type": "code",
   "execution_count": 15,
   "metadata": {
    "colab": {
     "base_uri": "https://localhost:8080/",
     "height": 34
    },
    "colab_type": "code",
    "id": "mMAyU8snc-oW",
    "outputId": "41e2dd30-94db-4d30-bf91-1d66af13fb75"
   },
   "outputs": [
    {
     "data": {
      "text/plain": [
       "[1, 3, 4, 2, 5, 6]"
      ]
     },
     "execution_count": 15,
     "metadata": {
      "tags": []
     },
     "output_type": "execute_result"
    }
   ],
   "source": [
    "k = 10\n",
    "room_number = [1,3,4,1,3,1]\n",
    "solution(k, room_number)"
   ]
  }
 ],
 "metadata": {
  "colab": {
   "authorship_tag": "ABX9TyMb6vAeIAN+lVUn0xQRRjQU",
   "include_colab_link": true,
   "name": "호텔방배정.ipynb",
   "provenance": []
  },
  "kernelspec": {
   "display_name": "Python 3",
   "language": "python",
   "name": "python3"
  },
  "language_info": {
   "codemirror_mode": {
    "name": "ipython",
    "version": 3
   },
   "file_extension": ".py",
   "mimetype": "text/x-python",
   "name": "python",
   "nbconvert_exporter": "python",
   "pygments_lexer": "ipython3",
   "version": "3.8.3"
  },
  "toc": {
   "base_numbering": 1,
   "nav_menu": {},
   "number_sections": true,
   "sideBar": true,
   "skip_h1_title": false,
   "title_cell": "Table of Contents",
   "title_sidebar": "Contents",
   "toc_cell": false,
   "toc_position": {},
   "toc_section_display": true,
   "toc_window_display": false
  }
 },
 "nbformat": 4,
 "nbformat_minor": 1
}
