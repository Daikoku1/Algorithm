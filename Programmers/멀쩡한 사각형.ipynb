{
 "cells": [
  {
   "cell_type": "code",
   "execution_count": null,
   "metadata": {},
   "outputs": [],
   "source": [
    "(4722.77ms, 10.1MB)\n",
    "import math\n",
    "def solution(w,h):\n",
    "    answer = 0\n",
    "    if w < h:\n",
    "        for i in range(1,w+1):\n",
    "            answer += (math.ceil(h*i/w) - math.floor(h*(i-1)/w))\n",
    "    elif w == h:\n",
    "        answer = w\n",
    "    else :\n",
    "        for i in range(1,h+1):\n",
    "            answer += (math.ceil(w*i/h) - math.floor(w*(i-1)/h))\n",
    "            \n",
    "    return w*h - answer"
   ]
  },
  {
   "cell_type": "code",
   "execution_count": null,
   "metadata": {},
   "outputs": [],
   "source": [
    "for h in range(1, 100_000_001):\n",
    "    for i in range(1, h+1):\n",
    "        for w in range(1, 100_000_001):\n",
    "            if math.ceil(w*i/h) != math.ceil(w/h*i):\n",
    "                print(w,i,h)\n",
    "                break"
   ]
  },
  {
   "cell_type": "code",
   "execution_count": null,
   "metadata": {},
   "outputs": [],
   "source": []
  },
  {
   "cell_type": "code",
   "execution_count": null,
   "metadata": {
    "scrolled": true
   },
   "outputs": [],
   "source": [
    "w, h = 8, 12\n",
    "solution(w,h)"
   ]
  },
  {
   "cell_type": "code",
   "execution_count": 6,
   "metadata": {},
   "outputs": [],
   "source": [
    "import math\n",
    "def solution(w,h):\n",
    "    answer = 0\n",
    "    if w < h:\n",
    "        for i in range(1,w+1):\n",
    "            answer += math.ceil(h*i/w)\n",
    "    else:\n",
    "        for i in range(1, h+1):\n",
    "            answer += math.ceil(w*i/h)\n",
    "\n",
    "    return 2*(w*h - answer)"
   ]
  },
  {
   "cell_type": "code",
   "execution_count": 7,
   "metadata": {},
   "outputs": [
    {
     "name": "stdout",
     "output_type": "stream",
     "text": [
      "21\n",
      "96\n"
     ]
    },
    {
     "data": {
      "text/plain": [
       "54"
      ]
     },
     "execution_count": 7,
     "metadata": {},
     "output_type": "execute_result"
    }
   ],
   "source": [
    "w, h = 8, 12\n",
    "solution(w,h)"
   ]
  },
  {
   "cell_type": "code",
   "execution_count": 3,
   "metadata": {},
   "outputs": [
    {
     "data": {
      "text/plain": [
       "2"
      ]
     },
     "execution_count": 3,
     "metadata": {},
     "output_type": "execute_result"
    }
   ],
   "source": [
    "import math\n",
    "math.ceil(1.1)"
   ]
  },
  {
   "cell_type": "code",
   "execution_count": null,
   "metadata": {},
   "outputs": [],
   "source": [
    "import math\n",
    "math.floor(1.1)"
   ]
  },
  {
   "cell_type": "code",
   "execution_count": null,
   "metadata": {},
   "outputs": [],
   "source": []
  }
 ],
 "metadata": {
  "kernelspec": {
   "display_name": "Python 3",
   "language": "python",
   "name": "python3"
  },
  "language_info": {
   "codemirror_mode": {
    "name": "ipython",
    "version": 3
   },
   "file_extension": ".py",
   "mimetype": "text/x-python",
   "name": "python",
   "nbconvert_exporter": "python",
   "pygments_lexer": "ipython3",
   "version": "3.8.5"
  },
  "toc": {
   "base_numbering": 1,
   "nav_menu": {},
   "number_sections": true,
   "sideBar": true,
   "skip_h1_title": false,
   "title_cell": "Table of Contents",
   "title_sidebar": "Contents",
   "toc_cell": false,
   "toc_position": {},
   "toc_section_display": true,
   "toc_window_display": true
  }
 },
 "nbformat": 4,
 "nbformat_minor": 4
}
