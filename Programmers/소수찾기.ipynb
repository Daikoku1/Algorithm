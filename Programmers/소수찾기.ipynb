{
 "cells": [
  {
   "cell_type": "code",
   "execution_count": null,
   "metadata": {},
   "outputs": [],
   "source": [
    "# 예전 코드\n",
    "# max_time = 3344.73 ms\n",
    "from itertools import permutations\n",
    "def solution(numbers):\n",
    "    maximum = 10000000\n",
    "    prime_lst = [False, False] + [True] * maximum\n",
    "    for idx, num in enumerate(prime_lst):\n",
    "        if num:\n",
    "            k = idx*2\n",
    "            while k <= maximum:\n",
    "                prime_lst[k] = False\n",
    "                k += idx\n",
    "    \n",
    "    result = []\n",
    "    for i in range(1, len(numbers)+1):\n",
    "        for j in list(permutations(numbers, i)):\n",
    "            result.append(int(''.join(j)))\n",
    "\n",
    "    count = 0\n",
    "    for t in set(result):\n",
    "        if prime_lst[t]:\n",
    "            count += 1\n",
    "    \n",
    "    return count"
   ]
  },
  {
   "cell_type": "code",
   "execution_count": null,
   "metadata": {},
   "outputs": [],
   "source": [
    "# max_time = 6.12 ms\n",
    "from itertools import permutations\n",
    "import math\n",
    "def prime(n):\n",
    "    if n < 2:\n",
    "        return False\n",
    "    for i in range(2, int(math.sqrt(n)) + 1):\n",
    "        if not (n % i): # 나누어 떨어지면, 소수가 아님\n",
    "            return False\n",
    "    return True\n",
    "\n",
    "def solution(numbers):\n",
    "    result = []\n",
    "    for i in range(1, len(numbers)+1): # 1~n개 뽑는 순열\n",
    "        for j in list(permutations(numbers, i)):\n",
    "            result.append(int(''.join(j)))\n",
    "\n",
    "    count = 0\n",
    "    for t in set(result): # 중복값 제거\n",
    "        if prime(t):\n",
    "            count += 1\n",
    "    \n",
    "    return count"
   ]
  }
 ],
 "metadata": {
  "kernelspec": {
   "display_name": "Python 3",
   "language": "python",
   "name": "python3"
  },
  "language_info": {
   "codemirror_mode": {
    "name": "ipython",
    "version": 3
   },
   "file_extension": ".py",
   "mimetype": "text/x-python",
   "name": "python",
   "nbconvert_exporter": "python",
   "pygments_lexer": "ipython3",
   "version": "3.8.5"
  }
 },
 "nbformat": 4,
 "nbformat_minor": 4
}
