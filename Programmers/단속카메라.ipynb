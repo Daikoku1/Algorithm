{
 "cells": [
  {
   "cell_type": "code",
   "execution_count": null,
   "metadata": {},
   "outputs": [],
   "source": [
    "# 옛날 코드\n",
    "# max_time = 3.03 ms\n",
    "# memory = 17.2 MB\n",
    "def solution(routes):\n",
    "    sort_list = sorted(routes, key = lambda x : (x[0]))\n",
    "    \n",
    "    cnt = 1\n",
    "    first_num = sort_list[0][0]\n",
    "    last_num = sort_list[0][1]\n",
    "    for start, end in sort_list:\n",
    "        # 0번째 요소에 대해 정렬했으므로, 첫번째 조건 불필요\n",
    "        if (start >= first_num) & (start <= last_num):\n",
    "            # 공통범위 설정\n",
    "            first_num = max(first_num, start)\n",
    "            last_num = min(last_num, end)\n",
    "        else:\n",
    "            cnt += 1\n",
    "            first_num = start\n",
    "            last_num = end        \n",
    "    return cnt"
   ]
  },
  {
   "cell_type": "code",
   "execution_count": null,
   "metadata": {},
   "outputs": [],
   "source": [
    "# max_time = 2.22 ms\n",
    "# memory = 10.8MB\n",
    "def solution(routes):\n",
    "    sort_list = sorted(routes, key = lambda x : (x[0]))\n",
    "    \n",
    "    cnt = 1\n",
    "    first_num = sort_list[0][0]\n",
    "    last_num = sort_list[0][1]\n",
    "    for start, end in sort_list:\n",
    "        # 중복된 조건만 삭제했는데 효율성 UP!\n",
    "        if start <= last_num:\n",
    "            first_num = max(first_num, start)\n",
    "            last_num = min(last_num, end)\n",
    "        else:\n",
    "            cnt += 1\n",
    "            first_num = start\n",
    "            last_num = end        \n",
    "    return cnt"
   ]
  }
 ],
 "metadata": {
  "kernelspec": {
   "display_name": "Python 3",
   "language": "python",
   "name": "python3"
  },
  "language_info": {
   "codemirror_mode": {
    "name": "ipython",
    "version": 3
   },
   "file_extension": ".py",
   "mimetype": "text/x-python",
   "name": "python",
   "nbconvert_exporter": "python",
   "pygments_lexer": "ipython3",
   "version": "3.8.5"
  }
 },
 "nbformat": 4,
 "nbformat_minor": 4
}
