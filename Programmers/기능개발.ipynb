{
  "nbformat": 4,
  "nbformat_minor": 0,
  "metadata": {
    "colab": {
      "name": "기능개발.ipynb",
      "provenance": [],
      "authorship_tag": "ABX9TyPy98s6QBdnVT5jMF/Q8M1h",
      "include_colab_link": true
    },
    "kernelspec": {
      "name": "python3",
      "display_name": "Python 3"
    }
  },
  "cells": [
    {
      "cell_type": "markdown",
      "metadata": {
        "id": "view-in-github",
        "colab_type": "text"
      },
      "source": [
        "<a href=\"https://colab.research.google.com/github/Daikoku1/Algorithm_Programmers/blob/master/%EA%B8%B0%EB%8A%A5%EA%B0%9C%EB%B0%9C.ipynb\" target=\"_parent\"><img src=\"https://colab.research.google.com/assets/colab-badge.svg\" alt=\"Open In Colab\"/></a>"
      ]
    },
    {
      "cell_type": "code",
      "metadata": {
        "id": "YWlKme9j79cM",
        "colab_type": "code",
        "colab": {}
      },
      "source": [
        "# 예전 코드\n",
        "# max_time = 0.47 ms\n",
        "import numpy as np\n",
        "def solution(progresses, speeds):\n",
        "    score = np.zeros(len(progresses)) + 100 - np.array(progresses)\n",
        "    date = np.ceil(score / np.array(speeds))\n",
        "    \n",
        "    start = date[0]\n",
        "    count = 0\n",
        "    i = 0\n",
        "    \n",
        "    result = []\n",
        "    while i != len(progresses):\n",
        "        if date[i] <= start:\n",
        "            count += 1\n",
        "        else:\n",
        "            result.append(count)\n",
        "            start = date[i]\n",
        "            count = 1  \n",
        "        i += 1\n",
        "    result.append(count)\n",
        "\n",
        "    return result"
      ],
      "execution_count": null,
      "outputs": []
    },
    {
      "cell_type": "code",
      "metadata": {
        "id": "puVhfGd_887d",
        "colab_type": "code",
        "colab": {}
      },
      "source": [
        "# heapq를 이용한 코드\n",
        "# max_time = 0.12 ms\n",
        "import heapq\n",
        "def solution(progresses, speeds):\n",
        "    h = []\n",
        "    for idx, val in enumerate(progresses):\n",
        "        q, r = divmod((100 - val), speeds[idx])\n",
        "        if r:\n",
        "            heapq.heappush(h, [-(q+1), idx])\n",
        "        else:\n",
        "            heapq.heappush(h, [-q, idx])\n",
        "\n",
        "    result = []\n",
        "    min_idx = idx + 1  # len()과 같음\n",
        "    while h:\n",
        "        v, i = heapq.heappop(h)\n",
        "        if i < min_idx:\n",
        "            result = [min_idx - i] + result # 남은 녀석 중 가장 큰 녀석이므로 이후의 결과값을 무시하고 모두 같이 배포함\n",
        "            min_idx = i\n",
        "    return result"
      ],
      "execution_count": null,
      "outputs": []
    }
  ]
}