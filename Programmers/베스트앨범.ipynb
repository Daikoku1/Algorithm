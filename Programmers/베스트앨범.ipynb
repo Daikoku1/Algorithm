{
  "nbformat": 4,
  "nbformat_minor": 0,
  "metadata": {
    "colab": {
      "name": "베스트앨범.ipynb",
      "provenance": [],
      "collapsed_sections": [],
      "authorship_tag": "ABX9TyOT313/PBDlrb7qidfhaBsI",
      "include_colab_link": true
    },
    "kernelspec": {
      "name": "python3",
      "display_name": "Python 3"
    }
  },
  "cells": [
    {
      "cell_type": "markdown",
      "metadata": {
        "id": "view-in-github",
        "colab_type": "text"
      },
      "source": [
        "<a href=\"https://colab.research.google.com/github/Daikoku1/Algorithm_Programmers/blob/master/%EB%B2%A0%EC%8A%A4%ED%8A%B8%EC%95%A8%EB%B2%94.ipynb\" target=\"_parent\"><img src=\"https://colab.research.google.com/assets/colab-badge.svg\" alt=\"Open In Colab\"/></a>"
      ]
    },
    {
      "cell_type": "code",
      "metadata": {
        "id": "cPDq45WjxRyI",
        "colab_type": "code",
        "colab": {}
      },
      "source": [
        "genres = [classic, pop, classic, classic, pop]\n",
        "plays = [500, 600, 150, 800, 2500]\n",
        "# # return = [4, 1, 3, 0]\n",
        "# 속한 노래가 많이 재생된 장르를 먼저 수록합니다.\n",
        "# 장르 내에서 많이 재생된 노래를 먼저 수록합니다.\n",
        "# 장르 내에서 재생 횟수가 같은 노래 중에서는 고유 번호가 낮은 노래를 먼저 수록합니다.\n",
        "\n",
        "\n",
        "# genres[i]는 고유번호가 i인 노래의 장르입니다.\n",
        "# plays[i]는 고유번호가 i인 노래가 재생된 횟수입니다.\n",
        "# genres와 plays의 길이는 같으며, 이는 1 이상 10,000 이하입니다.\n",
        "# 장르 종류는 100개 미만입니다.\n",
        "# 장르에 속한 곡이 하나라면, 하나의 곡만 선택합니다.\n",
        "# 모든 장르는 재생된 횟수가 다릅니다."
      ],
      "execution_count": null,
      "outputs": []
    },
    {
      "cell_type": "code",
      "metadata": {
        "id": "7HGSqAGgxTIk",
        "colab_type": "code",
        "colab": {}
      },
      "source": [
        "# max_time = 0.14 ms\n",
        "from collections import defaultdict\n",
        "import operator\n",
        "def solution(genres, plays):\n",
        "    play_genre = defaultdict(int)\n",
        "    best_play = defaultdict(list)\n",
        "\n",
        "    for idx in range(len(plays)):\n",
        "        play_genre[genres[idx]] += plays[idx]\n",
        "        best_play[genres[idx]] += [[plays[idx], idx]]\n",
        "    # print(play_genre)\n",
        "    # print(best_play)\n",
        "    answer = []\n",
        "    for item in sorted(play_genre.items(), key = operator.itemgetter(1), reverse = True):\n",
        "        genre = item[0]\n",
        "        values = sorted(best_play[genre], key = lambda x : (x[0], -x[1]), reverse = True)\n",
        "        # print('-------')\n",
        "        # print(values)\n",
        "        answer += [values[0][1]]\n",
        "        if len(values) > 1:\n",
        "            answer += [values[1][1]]\n",
        "\n",
        "    return answer"
      ],
      "execution_count": null,
      "outputs": []
    },
    {
      "cell_type": "code",
      "metadata": {
        "id": "W-tbHfxi0fb6",
        "colab_type": "code",
        "colab": {}
      },
      "source": [
        "genres = ['classic', 'pop', 'classic', 'classic', 'pop']\n",
        "plays = [500, 600, 150, 800, 2500]\n",
        "# # return = [4, 1, 3, 0]\n",
        "# solution(genres, plays)"
      ],
      "execution_count": 9,
      "outputs": []
    },
    {
      "cell_type": "code",
      "metadata": {
        "id": "ug1vb814T0fz",
        "colab_type": "code",
        "colab": {}
      },
      "source": [
        "# max_time = 0.09 ms\n",
        "from collections import defaultdict\n",
        "import heapq\n",
        "import operator\n",
        "def solution(genres, plays):\n",
        "    play_genre = defaultdict(int)\n",
        "    best_play = defaultdict(list)\n",
        "\n",
        "    for idx, val in enumerate(genres):\n",
        "        p = plays[idx]\n",
        "        play_genre[val] += p\n",
        "        heapq.heappush(best_play[val], [-p, idx])\n",
        "\n",
        "    answer = []\n",
        "    for item in sorted(play_genre.items(), key = operator.itemgetter(1), reverse = True):\n",
        "        genre = item[0]\n",
        "        answer += [heapq.heappop(best_play[genre])[1]]\n",
        "        if best_play[genre]:\n",
        "            answer += [heapq.heappop(best_play[genre])[1]]\n",
        "\n",
        "    return answer"
      ],
      "execution_count": 38,
      "outputs": []
    },
    {
      "cell_type": "code",
      "metadata": {
        "id": "1R7zHw8z9D97",
        "colab_type": "code",
        "colab": {
          "base_uri": "https://localhost:8080/",
          "height": 33
        },
        "outputId": "9ee00b3f-01f7-449e-961d-3b92b6145080"
      },
      "source": [
        "solution(genres, plays)"
      ],
      "execution_count": 39,
      "outputs": [
        {
          "output_type": "execute_result",
          "data": {
            "text/plain": [
              "[4, 1, 3, 0]"
            ]
          },
          "metadata": {
            "tags": []
          },
          "execution_count": 39
        }
      ]
    },
    {
      "cell_type": "code",
      "metadata": {
        "id": "IkUScFQY9Hm8",
        "colab_type": "code",
        "colab": {}
      },
      "source": [
        ""
      ],
      "execution_count": null,
      "outputs": []
    }
  ]
}