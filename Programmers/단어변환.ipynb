{
  "nbformat": 4,
  "nbformat_minor": 0,
  "metadata": {
    "colab": {
      "name": "단어변환.ipynb",
      "provenance": [],
      "authorship_tag": "ABX9TyMEDyXwGQ5Y9gXhSDcbJoGs",
      "include_colab_link": true
    },
    "kernelspec": {
      "name": "python3",
      "display_name": "Python 3"
    }
  },
  "cells": [
    {
      "cell_type": "markdown",
      "metadata": {
        "id": "view-in-github",
        "colab_type": "text"
      },
      "source": [
        "<a href=\"https://colab.research.google.com/github/Daikoku1/Algorithm_Programmers/blob/master/%EB%8B%A8%EC%96%B4%EB%B3%80%ED%99%98.ipynb\" target=\"_parent\"><img src=\"https://colab.research.google.com/assets/colab-badge.svg\" alt=\"Open In Colab\"/></a>"
      ]
    },
    {
      "cell_type": "code",
      "metadata": {
        "id": "r-QfFges4x3H",
        "colab_type": "code",
        "colab": {}
      },
      "source": [
        "from collections import defaultdict\n",
        "def solution(begin, target, words):\n",
        "    length = len(begin)\n",
        "    char_dict = defaultdict(list)\n",
        "    words = [begin] + words\n",
        "    for i in range(len(words)):\n",
        "        for j in range(i+1, len(words)):\n",
        "            cnt = 0\n",
        "            for n in range(length):\n",
        "                if words[i][n] == words[j][n]:\n",
        "                    cnt += 1\n",
        "            if cnt == length -1:\n",
        "                char_dict[words[i]] += [words[j]]\n",
        "    print(char_dict)\n",
        "    to_do = [[words[0], 0]]\n",
        "    done = []\n",
        "    while to_do:\n",
        "        char, count = to_do.pop(0)\n",
        "        print(to_do)\n",
        "        print(char, count)\n",
        "        print('-----------------')\n",
        "        if char == target:\n",
        "            return count\n",
        "        if char_dict[char]:\n",
        "            to_do += [[x, count +1] for x in char_dict[char]]\n",
        "    return 0"
      ],
      "execution_count": null,
      "outputs": []
    },
    {
      "cell_type": "code",
      "metadata": {
        "id": "suSHeMpc40Qo",
        "colab_type": "code",
        "colab": {
          "base_uri": "https://localhost:8080/",
          "height": 510
        },
        "outputId": "ac70cfd5-f94f-468c-a9c9-ea0694b10289"
      },
      "source": [
        "begin = 'hit'\n",
        "target = 'cog'\n",
        "words = ['hot', 'dot', 'dog', 'lot', 'log', 'cog']\n",
        "solution(begin, target, words)"
      ],
      "execution_count": null,
      "outputs": [
        {
          "output_type": "stream",
          "text": [
            "defaultdict(<class 'list'>, {'hit': ['hot'], 'hot': ['dot', 'lot'], 'dot': ['dog', 'lot'], 'dog': ['log', 'cog'], 'lot': ['log'], 'log': ['cog']})\n",
            "[]\n",
            "hit 0\n",
            "-----------------\n",
            "[]\n",
            "hot 1\n",
            "-----------------\n",
            "[['lot', 2]]\n",
            "dot 2\n",
            "-----------------\n",
            "[['dog', 3], ['lot', 3]]\n",
            "lot 2\n",
            "-----------------\n",
            "[['lot', 3], ['log', 3]]\n",
            "dog 3\n",
            "-----------------\n",
            "[['log', 3], ['log', 4], ['cog', 4]]\n",
            "lot 3\n",
            "-----------------\n",
            "[['log', 4], ['cog', 4], ['log', 4]]\n",
            "log 3\n",
            "-----------------\n",
            "[['cog', 4], ['log', 4], ['cog', 4]]\n",
            "log 4\n",
            "-----------------\n",
            "[['log', 4], ['cog', 4], ['cog', 5]]\n",
            "cog 4\n",
            "-----------------\n"
          ],
          "name": "stdout"
        },
        {
          "output_type": "execute_result",
          "data": {
            "text/plain": [
              "4"
            ]
          },
          "metadata": {
            "tags": []
          },
          "execution_count": 8
        }
      ]
    }
  ]
}