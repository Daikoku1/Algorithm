{
  "nbformat": 4,
  "nbformat_minor": 0,
  "metadata": {
    "colab": {
      "name": "이중우선순위큐.ipynb",
      "provenance": [],
      "authorship_tag": "ABX9TyP7Alxftx1FUU5F2vu1yAnW",
      "include_colab_link": true
    },
    "kernelspec": {
      "name": "python3",
      "display_name": "Python 3"
    }
  },
  "cells": [
    {
      "cell_type": "markdown",
      "metadata": {
        "id": "view-in-github",
        "colab_type": "text"
      },
      "source": [
        "<a href=\"https://colab.research.google.com/github/Daikoku1/Algorithm_Programmers/blob/master/%EC%9D%B4%EC%A4%91%EC%9A%B0%EC%84%A0%EC%88%9C%EC%9C%84%ED%81%90.ipynb\" target=\"_parent\"><img src=\"https://colab.research.google.com/assets/colab-badge.svg\" alt=\"Open In Colab\"/></a>"
      ]
    },
    {
      "cell_type": "code",
      "metadata": {
        "id": "NUELhYZF759_",
        "colab_type": "code",
        "colab": {}
      },
      "source": [
        "# 예전 코드\n",
        "# max_time = 0.09 ms\n",
        "import heapq\n",
        "def solution(operations):\n",
        "    heap = []\n",
        "\n",
        "    for oper in operations:\n",
        "        order, num = oper.split(' ')\n",
        "        num = int(num)\n",
        "\n",
        "        if order == 'I':\n",
        "            heapq.heappush(heap, num)\n",
        "        elif heap:\n",
        "            if num < 0:\n",
        "                heapq.heappop(heap)\n",
        "            else:\n",
        "                heap.remove(max(heap))\n",
        "\n",
        "    if heap:\n",
        "        return [max(heap), heap[0]]\n",
        "    else:\n",
        "        return [0, 0]"
      ],
      "execution_count": null,
      "outputs": []
    },
    {
      "cell_type": "code",
      "metadata": {
        "id": "Per0GQfY_P0f",
        "colab_type": "code",
        "colab": {}
      },
      "source": [
        "# max_time = 0.07 ms\n",
        "from bisect import insort # dq에 숫자를 입력할 때 정렬하기 위함\n",
        "from collections import deque\n",
        "def solution(operations):\n",
        "    dq = []\n",
        "    for oper in operations:\n",
        "        order, num = oper.split(' ')\n",
        "        num = int(num)\n",
        "\n",
        "        if order == 'I':\n",
        "            insort(dq, num)\n",
        "        elif dq:\n",
        "            if num < 0:\n",
        "                dq.popleft()\n",
        "            else:\n",
        "                dq.pop()\n",
        "\n",
        "    if dq:\n",
        "        return [dq[-1], dq[0]]\n",
        "    else:\n",
        "        return [0, 0]"
      ],
      "execution_count": null,
      "outputs": []
    }
  ]
}