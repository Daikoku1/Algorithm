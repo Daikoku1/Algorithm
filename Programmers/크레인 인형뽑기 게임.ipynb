{
 "cells": [
  {
   "cell_type": "code",
   "execution_count": null,
   "metadata": {},
   "outputs": [],
   "source": [
    "# Time = 1.83 ms\n",
    "# Memory = 10.2 MB\n",
    "def solution(board, moves):\n",
    "    result = []\n",
    "    length = len(board)\n",
    "    count = 0\n",
    "    for i in moves:\n",
    "        for j in range(length):\n",
    "            if board[j][i-1] != 0:\n",
    "                result.append(board[j][i-1])\n",
    "                board[j][i-1] = 0\n",
    "                break\n",
    "        if len(result) >= 2:\n",
    "            if result[-1] == result[-2]:\n",
    "                result.pop()\n",
    "                result.pop()\n",
    "                count += 2\n",
    "    return count"
   ]
  }
 ],
 "metadata": {
  "kernelspec": {
   "display_name": "Python 3",
   "language": "python",
   "name": "python3"
  },
  "language_info": {
   "codemirror_mode": {
    "name": "ipython",
    "version": 3
   },
   "file_extension": ".py",
   "mimetype": "text/x-python",
   "name": "python",
   "nbconvert_exporter": "python",
   "pygments_lexer": "ipython3",
   "version": "3.8.3"
  },
  "toc": {
   "base_numbering": 1,
   "nav_menu": {},
   "number_sections": true,
   "sideBar": true,
   "skip_h1_title": false,
   "title_cell": "Table of Contents",
   "title_sidebar": "Contents",
   "toc_cell": false,
   "toc_position": {},
   "toc_section_display": true,
   "toc_window_display": true
  }
 },
 "nbformat": 4,
 "nbformat_minor": 4
}
