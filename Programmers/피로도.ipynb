{
 "cells": [
  {
   "cell_type": "markdown",
   "metadata": {},
   "source": [
    "- 테스트 1 〉\t통과 (0.02ms, 10.2MB)\n",
    "- 테스트 2 〉\t통과 (0.02ms, 10.2MB)\n",
    "- 테스트 3 〉\t통과 (0.06ms, 10.2MB)\n",
    "- 테스트 4 〉\t통과 (0.12ms, 10.3MB)\n",
    "- 테스트 5 〉\t통과 (0.52ms, 10.3MB)\n",
    "- 테스트 6 〉\t통과 (3.84ms, 10.5MB)\n",
    "- 테스트 7 〉\t통과 (36.58ms, 14.9MB)\n",
    "- 테스트 8 〉\t통과 (35.49ms, 14.8MB)\n",
    "- 테스트 9 〉\t통과 (0.06ms, 10.2MB)\n",
    "- 테스트 10 〉\t통과 (3.43ms, 10.5MB)\n",
    "- 테스트 11 〉\t통과 (0.01ms, 10.2MB)\n",
    "- 테스트 12 〉\t통과 (32.84ms, 14.9MB)\n",
    "- 테스트 13 〉\t통과 (31.66ms, 14.9MB)\n",
    "- 테스트 14 〉\t통과 (29.66ms, 14.9MB)\n",
    "- 테스트 15 〉\t통과 (29.14ms, 14.9MB)\n",
    "- 테스트 16 〉\t통과 (3.00ms, 10.5MB)\n",
    "- 테스트 17 〉\t통과 (33.16ms, 14.8MB)"
   ]
  },
  {
   "cell_type": "code",
   "execution_count": 30,
   "metadata": {},
   "outputs": [],
   "source": [
    "from itertools import permutations\n",
    "def solution(k, dungeons):\n",
    "    max_cnt = 0\n",
    "    for li in list(permutations(dungeons)):\n",
    "        temp_k, temp_cnt = k, 0\n",
    "        for x, y in li:\n",
    "            if temp_k >= x : \n",
    "                temp_cnt += 1\n",
    "                temp_k -= y\n",
    "        max_cnt = max(max_cnt, temp_cnt)\n",
    "    return max_cnt"
   ]
  },
  {
   "cell_type": "code",
   "execution_count": 31,
   "metadata": {},
   "outputs": [
    {
     "data": {
      "text/plain": [
       "3"
      ]
     },
     "execution_count": 31,
     "metadata": {},
     "output_type": "execute_result"
    }
   ],
   "source": [
    "k = 80\n",
    "dungeons = [[80,20],[50,40],[30,10]]\n",
    "solution(k, dungeons)\n",
    "# result = 3"
   ]
  },
  {
   "cell_type": "code",
   "execution_count": null,
   "metadata": {},
   "outputs": [],
   "source": []
  }
 ],
 "metadata": {
  "interpreter": {
   "hash": "9652531e86fbc99dfe7fc5092eb81081a97fad237de3d1fd3b3a0d1c69c61538"
  },
  "kernelspec": {
   "display_name": "Python 3.9.7 64-bit ('ox': conda)",
   "name": "python3"
  },
  "language_info": {
   "codemirror_mode": {
    "name": "ipython",
    "version": 3
   },
   "file_extension": ".py",
   "mimetype": "text/x-python",
   "name": "python",
   "nbconvert_exporter": "python",
   "pygments_lexer": "ipython3",
   "version": "3.9.7"
  },
  "orig_nbformat": 4
 },
 "nbformat": 4,
 "nbformat_minor": 2
}
