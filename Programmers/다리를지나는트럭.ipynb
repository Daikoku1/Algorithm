{
  "nbformat": 4,
  "nbformat_minor": 0,
  "metadata": {
    "colab": {
      "name": "다리를지나는트럭.ipynb",
      "provenance": [],
      "collapsed_sections": [],
      "authorship_tag": "ABX9TyNq9BqJZu28lIYOX//BFpOP",
      "include_colab_link": true
    },
    "kernelspec": {
      "name": "python3",
      "display_name": "Python 3"
    }
  },
  "cells": [
    {
      "cell_type": "markdown",
      "metadata": {
        "id": "view-in-github",
        "colab_type": "text"
      },
      "source": [
        "<a href=\"https://colab.research.google.com/github/Daikoku1/Algorithm_Programmers/blob/master/%EB%8B%A4%EB%A6%AC%EB%A5%BC%EC%A7%80%EB%82%98%EB%8A%94%ED%8A%B8%EB%9F%AD.ipynb\" target=\"_parent\"><img src=\"https://colab.research.google.com/assets/colab-badge.svg\" alt=\"Open In Colab\"/></a>"
      ]
    },
    {
      "cell_type": "code",
      "metadata": {
        "id": "PHLZfGJ-X-fM",
        "colab_type": "code",
        "colab": {}
      },
      "source": [
        "# 예전 코드\n",
        "# max_time = 96.48 ms\n",
        "def solution(bridge_length, weight, truck_weights):\n",
        "    time = 0\n",
        "    tot_w = []\n",
        "    doing = []\n",
        "    while truck_weights:\n",
        "        time += 1\n",
        "        if len(doing) > 0:\n",
        "            if time - doing[0] == bridge_length:\n",
        "                print(time, doing[0])\n",
        "                doing.pop(0)\n",
        "                tot_w.pop(0)\n",
        "        \n",
        "        if sum(tot_w) + truck_weights[0] <= weight:\n",
        "            tot_w.append(truck_weights.pop(0))\n",
        "            doing.append(time)\n",
        "    \n",
        "    return time + bridge_length"
      ],
      "execution_count": null,
      "outputs": []
    },
    {
      "cell_type": "code",
      "metadata": {
        "id": "fSmROw7kYsYl",
        "colab_type": "code",
        "colab": {}
      },
      "source": [
        "# deque를 사용하여 큐 구현\n",
        "# max_time = 81.34 ms\n",
        "from collections import deque\n",
        "def solution(bridge_length, weight, truck_weights):\n",
        "    time = 0\n",
        "    tot_w = deque() # 리스트를 deque로\n",
        "    doing = deque() # 리스트를 deque로\n",
        "    while truck_weights:\n",
        "        time += 1\n",
        "        if doing:\n",
        "            if time - doing[0] == bridge_length:\n",
        "                print(time, doing[0])\n",
        "                doing.popleft() # pop(0)를 popleft로\n",
        "                tot_w.popleft() # pop(0)를 popleft로\n",
        "        \n",
        "        if sum(tot_w) + truck_weights[0] <= weight:\n",
        "            tot_w.append(truck_weights.pop(0))\n",
        "            doing.append(time)\n",
        "    \n",
        "    return time + bridge_length"
      ],
      "execution_count": null,
      "outputs": []
    },
    {
      "cell_type": "code",
      "metadata": {
        "id": "GKGBlPE7akMb",
        "colab_type": "code",
        "colab": {}
      },
      "source": [
        ""
      ],
      "execution_count": null,
      "outputs": []
    }
  ]
}