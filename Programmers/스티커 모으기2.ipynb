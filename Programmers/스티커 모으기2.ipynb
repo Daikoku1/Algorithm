{
 "cells": [
  {
   "cell_type": "markdown",
   "id": "24cf5ef2",
   "metadata": {},
   "source": [
    "# 스티커 모으기2"
   ]
  },
  {
   "cell_type": "markdown",
   "id": "ab32fdce",
   "metadata": {},
   "source": [
    "### 효율성\n",
    "- 테스트 1 〉\t통과 (58.20ms, 14.4MB)\n",
    "- 테스트 2 〉\t통과 (64.85ms, 14.4MB)\n",
    "- 테스트 3 〉\t통과 (58.48ms, 14.4MB)\n",
    "- 테스트 4 〉\t통과 (64.07ms, 14.1MB)"
   ]
  },
  {
   "cell_type": "code",
   "execution_count": null,
   "id": "2f50e80f",
   "metadata": {},
   "outputs": [],
   "source": [
    "def solution(sticker):\n",
    "    if len(sticker) <= 3: return max(sticker)\n",
    "    # 0번째 스티커 안뗀 경우\n",
    "    dp = [0 for _ in range(len(sticker))]\n",
    "    dp[0] = 0\n",
    "    dp[1] = sticker[1]\n",
    "    for idx in range(2, len(sticker)):\n",
    "        dp[idx] = max(dp[idx-1], dp[idx-2] + sticker[idx])\n",
    "    max1 = dp[-1]\n",
    "    \n",
    "    # 0번째 스티커 뗀 경우\n",
    "    dp = [0 for _ in range(len(sticker)-1)]\n",
    "    dp[0] = sticker[0]\n",
    "    dp[1] = sticker[0]\n",
    "    for idx in range(2, len(sticker)-1):\n",
    "        dp[idx] = max(dp[idx-1], dp[idx-2] + sticker[idx])\n",
    "    max2 = dp[-1]\n",
    "    \n",
    "    return max(max1, max2)"
   ]
  }
 ],
 "metadata": {
  "kernelspec": {
   "display_name": "Python 3",
   "language": "python",
   "name": "python3"
  },
  "language_info": {
   "codemirror_mode": {
    "name": "ipython",
    "version": 3
   },
   "file_extension": ".py",
   "mimetype": "text/x-python",
   "name": "python",
   "nbconvert_exporter": "python",
   "pygments_lexer": "ipython3",
   "version": "3.8.8"
  }
 },
 "nbformat": 4,
 "nbformat_minor": 5
}
