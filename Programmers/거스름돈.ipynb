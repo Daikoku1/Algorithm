{
 "cells": [
  {
   "cell_type": "code",
   "execution_count": 41,
   "metadata": {},
   "outputs": [],
   "source": [
    "# 정확도 100 / 효율성 0\n",
    "# 역시 3중 for문은 좀... 아니지?\n",
    "def solution(n, money):\n",
    "    dp = [[1] + [0]*(n) for _ in range(len(money))]\n",
    "    s = money[0]\n",
    "    for i in range(1, n+1):\n",
    "        if i % s == 0:\n",
    "            dp[0][i] = 1\n",
    "\n",
    "    for i, m in enumerate(money[1:], 1):\n",
    "        for j in range(1, n+1):\n",
    "            cnt = 0\n",
    "            for k in range((j // m) + 1):\n",
    "                cnt += dp[i-1][j - k*m]\n",
    "            dp[i][j] = cnt\n",
    "\n",
    "    return dp[-1][-1] % 1_000_000_007\n"
   ]
  },
  {
   "cell_type": "code",
   "execution_count": 42,
   "metadata": {},
   "outputs": [
    {
     "data": {
      "text/plain": [
       "4"
      ]
     },
     "execution_count": 42,
     "metadata": {},
     "output_type": "execute_result"
    }
   ],
   "source": [
    "n = 5\n",
    "money = [1,2,5]\n",
    "# return 4\n",
    "solution(n, money)"
   ]
  },
  {
   "cell_type": "code",
   "execution_count": 43,
   "metadata": {},
   "outputs": [],
   "source": [
    "# Max_time = 1356.46 ms\n",
    "# Memory = 186 MB\n",
    "def solution(n, money):\n",
    "    dp = [[0]*(n+1) for _ in range(len(money))]\n",
    "    dp[0][0] = 1\n",
    "    s = money[0]\n",
    "    for i in range(s, n+1, s):\n",
    "        dp[0][i] = 1\n",
    "\n",
    "    for i, m in enumerate(money[1:], 1):\n",
    "        for j in range(n+1):\n",
    "            if j >= m:\n",
    "                dp[i][j] = dp[i-1][j] + dp[i][j - m] % 1_000_000_007\n",
    "            else:\n",
    "                dp[i][j] = dp[i-1][j]\n",
    "    \n",
    "    return dp[-1][-1]"
   ]
  },
  {
   "cell_type": "code",
   "execution_count": 44,
   "metadata": {},
   "outputs": [
    {
     "data": {
      "text/plain": [
       "4"
      ]
     },
     "execution_count": 44,
     "metadata": {},
     "output_type": "execute_result"
    }
   ],
   "source": [
    "n = 5\n",
    "money = [1,2,5]\n",
    "# return 4\n",
    "solution(n, money)"
   ]
  }
 ],
 "metadata": {
  "kernelspec": {
   "display_name": "Python 3",
   "language": "python",
   "name": "python3"
  },
  "language_info": {
   "codemirror_mode": {
    "name": "ipython",
    "version": 3
   },
   "file_extension": ".py",
   "mimetype": "text/x-python",
   "name": "python",
   "nbconvert_exporter": "python",
   "pygments_lexer": "ipython3",
   "version": "3.8.5"
  }
 },
 "nbformat": 4,
 "nbformat_minor": 4
}
