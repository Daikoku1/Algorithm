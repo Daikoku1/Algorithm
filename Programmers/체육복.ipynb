{
 "cells": [
  {
   "cell_type": "markdown",
   "metadata": {},
   "source": [
    "## 문제\n",
    "점심시간에 도둑이 들어, 일부 학생이 체육복을 도난당했습니다. 다행히 여벌 체육복이 있는 학생이 이들에게 체육복을 빌려주려 합니다. 학생들의 번호는 체격 순으로 매겨져 있어, 바로 앞번호의 학생이나 바로 뒷번호의 학생에게만 체육복을 빌려줄 수 있습니다. 예를 들어, 4번 학생은 3번 학생이나 5번 학생에게만 체육복을 빌려줄 수 있습니다. 체육복이 없으면 수업을 들을 수 없기 때문에 체육복을 적절히 빌려 최대한 많은 학생이 체육수업을 들어야 합니다.\n",
    "\n",
    "전체 학생의 수 n, 체육복을 도난당한 학생들의 번호가 담긴 배열 lost, 여벌의 체육복을 가져온 학생들의 번호가 담긴 배열 reserve가 매개변수로 주어질 때, 체육수업을 들을 수 있는 학생의 최댓값을 return 하도록 solution 함수를 작성해주세요.\n",
    "\n",
    "### 제한사항\n",
    "- 전체 학생의 수는 2명 이상 30명 이하입니다.\n",
    "- 체육복을 도난당한 학생의 수는 1명 이상 n명 이하이고 중복되는 번호는 없습니다.\n",
    "- 여벌의 체육복을 가져온 학생의 수는 1명 이상 n명 이하이고 중복되는 번호는 없습니다.\n",
    "- 여벌 체육복이 있는 학생만 다른 학생에게 체육복을 빌려줄 수 있습니다.\n",
    "- 여벌 체육복을 가져온 학생이 체육복을 도난당했을 수 있습니다. 이때 이 학생은 체육복을 하나만 도난당했다고 가정하며, 남은 체육복이 하나이기에 다른 학생에게는 체육복을 빌려줄 수 없습니다."
   ]
  },
  {
   "cell_type": "code",
   "execution_count": null,
   "metadata": {},
   "outputs": [],
   "source": [
    "# 예전 코드\n",
    "# max_time = 0.05 ms\n",
    "# max_memory = 9.45 MB\n",
    "def solution(n, lost, reserve):\n",
    "    # 2개\n",
    "    a = set(reserve) - set(lost)\n",
    "    # 1개\n",
    "    b = set(lost) - set(reserve)\n",
    "    cnt = len(b)\n",
    "    \n",
    "    for i in a:\n",
    "        if i - 1 in b:\n",
    "            cnt -= 1\n",
    "            b = b - set([i-1])\n",
    "        elif i + 1 in b:\n",
    "            cnt -= 1\n",
    "            b = b - set([i+1]) \n",
    "        \n",
    "    return n - cnt"
   ]
  },
  {
   "cell_type": "code",
   "execution_count": 3,
   "metadata": {},
   "outputs": [
    {
     "data": {
      "text/plain": [
       "2"
      ]
     },
     "execution_count": 3,
     "metadata": {},
     "output_type": "execute_result"
    }
   ],
   "source": [
    "a = [0,1,2,0]\n",
    "a.count(0)"
   ]
  },
  {
   "cell_type": "code",
   "execution_count": 35,
   "metadata": {},
   "outputs": [],
   "source": [
    "# max_time = 0.02 ms\n",
    "# max_memory = 9.45 MB\n",
    "def solution(n, lost, reserve):\n",
    "    answer = [1] * n\n",
    "\n",
    "    for i in lost:\n",
    "        answer[i-1] -= 1\n",
    "    for j in reserve:\n",
    "        answer[j-1] += 1\n",
    "\n",
    "    for idx, k in enumerate(answer):\n",
    "        if k == 0:\n",
    "            if idx>0 and answer[idx-1] == 2:\n",
    "                answer[idx] = 1\n",
    "            elif idx < n-1 and answer[idx+1] == 2:\n",
    "                answer [idx] = 1\n",
    "                answer[idx +1] = 1\n",
    "    return n - answer.count(0)"
   ]
  },
  {
   "cell_type": "code",
   "execution_count": 32,
   "metadata": {},
   "outputs": [
    {
     "data": {
      "text/plain": [
       "5"
      ]
     },
     "execution_count": 32,
     "metadata": {},
     "output_type": "execute_result"
    }
   ],
   "source": [
    "# 5\t[2, 4]\t[1, 3, 5]\t5\n",
    "\n",
    "n = 5\n",
    "lost = [2,4]\n",
    "reserve = [1,3,5]\n",
    "solution(n, lost, reserve)"
   ]
  },
  {
   "cell_type": "code",
   "execution_count": 33,
   "metadata": {},
   "outputs": [
    {
     "data": {
      "text/plain": [
       "4"
      ]
     },
     "execution_count": 33,
     "metadata": {},
     "output_type": "execute_result"
    }
   ],
   "source": [
    "# 5\t[2, 4]\t[3]\t4\n",
    "n = 5\n",
    "lost = [2,4]\n",
    "reserve = [3]\n",
    "solution(n, lost, reserve)"
   ]
  },
  {
   "cell_type": "code",
   "execution_count": 34,
   "metadata": {},
   "outputs": [
    {
     "data": {
      "text/plain": [
       "2"
      ]
     },
     "execution_count": 34,
     "metadata": {},
     "output_type": "execute_result"
    }
   ],
   "source": [
    "# 3\t[3]\t[1]\t2\n",
    "n = 3\n",
    "lost = [3]\n",
    "reserve = [1]\n",
    "solution(n, lost, reserve)"
   ]
  }
 ],
 "metadata": {
  "kernelspec": {
   "display_name": "Python 3",
   "language": "python",
   "name": "python3"
  },
  "language_info": {
   "codemirror_mode": {
    "name": "ipython",
    "version": 3
   },
   "file_extension": ".py",
   "mimetype": "text/x-python",
   "name": "python",
   "nbconvert_exporter": "python",
   "pygments_lexer": "ipython3",
   "version": "3.8.3"
  }
 },
 "nbformat": 4,
 "nbformat_minor": 4
}
