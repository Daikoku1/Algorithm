{
 "cells": [
  {
   "cell_type": "code",
   "execution_count": null,
   "metadata": {},
   "outputs": [],
   "source": [
    "# 예전 코드\n",
    "# max_time = 606.47 ms\n",
    "# memory = 234 MB\n",
    "from itertools import product\n",
    "def solution(numbers, target):\n",
    "    num_list = [(x, -x) for x in numbers]\n",
    "\n",
    "    cnt = 0\n",
    "    for i in list(product(*num_list)):\n",
    "        if sum(i) == target:\n",
    "            cnt += 1\n",
    "\n",
    "    return cnt"
   ]
  },
  {
   "cell_type": "code",
   "execution_count": 19,
   "metadata": {},
   "outputs": [],
   "source": [
    "# ax_time = 16.48 ms\n",
    "# memory = 47.5 MB\n",
    "import numpy as np\n",
    "def solution(numbers, target):\n",
    "    answer = np.zeros([1])\n",
    "    for n in numbers:\n",
    "        answer = np.concatenate((answer + n, answer -n), axis = 0)\n",
    "    return np.count_nonzero(answer == target)"
   ]
  },
  {
   "cell_type": "code",
   "execution_count": 20,
   "metadata": {},
   "outputs": [
    {
     "data": {
      "text/plain": [
       "5"
      ]
     },
     "execution_count": 20,
     "metadata": {},
     "output_type": "execute_result"
    }
   ],
   "source": [
    "numbers = [1, 1, 1, 1, 1]\t\n",
    "target = 3\n",
    "solution(numbers, target)"
   ]
  },
  {
   "cell_type": "code",
   "execution_count": null,
   "metadata": {},
   "outputs": [],
   "source": []
  },
  {
   "cell_type": "markdown",
   "metadata": {},
   "source": [
    "# 코드\n",
    "- 21.11 풀이\n",
    "- 테스트 1 〉\t통과 (261.10ms, 35.1MB)\n",
    "- 테스트 2 〉\t통과 (277.26ms, 34.7MB)\n",
    "- 테스트 3 〉\t통과 (0.28ms, 10.2MB)\n",
    "- 테스트 4 〉\t통과 (0.97ms, 10.3MB)\n",
    "- 테스트 5 〉\t통과 (8.28ms, 10.9MB)\n",
    "- 테스트 6 〉\t통과 (0.52ms, 10.3MB)\n",
    "- 테스트 7 〉\t통과 (0.26ms, 10.2MB)\n",
    "- 테스트 8 〉\t통과 (1.94ms, 10.4MB)"
   ]
  },
  {
   "cell_type": "code",
   "execution_count": 5,
   "metadata": {},
   "outputs": [],
   "source": [
    "from collections import deque, Counter\n",
    "def solution(numbers, target):\n",
    "    to_do = deque([0])\n",
    "    idx = 0\n",
    "    while idx < len(numbers):\n",
    "        for _ in range(len(to_do)):\n",
    "            num = to_do.popleft()\n",
    "            to_do.append(num+numbers[idx])\n",
    "            to_do.append(num-numbers[idx])\n",
    "        idx += 1\n",
    "    return Counter(to_do)[target]"
   ]
  },
  {
   "cell_type": "code",
   "execution_count": 16,
   "metadata": {},
   "outputs": [
    {
     "data": {
      "text/plain": [
       "5"
      ]
     },
     "execution_count": 16,
     "metadata": {},
     "output_type": "execute_result"
    }
   ],
   "source": [
    "numbers = [1, 1, 1, 1, 1]\t\n",
    "target = 3\n",
    "solution(numbers, target)"
   ]
  },
  {
   "cell_type": "code",
   "execution_count": 15,
   "metadata": {},
   "outputs": [],
   "source": [
    "from itertools import product\n",
    "from collections import Counter\n",
    "def solution(numbers, target):\n",
    "    return Counter(map(sum, product(*[(x,-x) for x in numbers])))[target]"
   ]
  },
  {
   "cell_type": "code",
   "execution_count": 17,
   "metadata": {},
   "outputs": [
    {
     "data": {
      "text/plain": [
       "5"
      ]
     },
     "execution_count": 17,
     "metadata": {},
     "output_type": "execute_result"
    }
   ],
   "source": [
    "numbers = [1, 1, 1, 1, 1]\t\n",
    "target = 3\n",
    "solution(numbers, target)"
   ]
  }
 ],
 "metadata": {
  "kernelspec": {
   "display_name": "Python 3",
   "language": "python",
   "name": "python3"
  },
  "language_info": {
   "codemirror_mode": {
    "name": "ipython",
    "version": 3
   },
   "file_extension": ".py",
   "mimetype": "text/x-python",
   "name": "python",
   "nbconvert_exporter": "python",
   "pygments_lexer": "ipython3",
   "version": "3.9.7"
  }
 },
 "nbformat": 4,
 "nbformat_minor": 4
}
