{
 "cells": [
  {
   "cell_type": "code",
   "execution_count": null,
   "metadata": {},
   "outputs": [],
   "source": [
    "# 예전 코드\n",
    "# max_time = 606.47 ms\n",
    "# memory = 234 MB\n",
    "from itertools import product\n",
    "def solution(numbers, target):\n",
    "    num_list = [(x, -x) for x in numbers]\n",
    "\n",
    "    cnt = 0\n",
    "    for i in list(product(*num_list)):\n",
    "        if sum(i) == target:\n",
    "            cnt += 1\n",
    "\n",
    "    return cnt"
   ]
  },
  {
   "cell_type": "code",
   "execution_count": 19,
   "metadata": {},
   "outputs": [],
   "source": [
    "# ax_time = 16.48 ms\n",
    "# memory = 47.5 MB\n",
    "import numpy as np\n",
    "def solution(numbers, target):\n",
    "    answer = np.zeros([1])\n",
    "    for n in numbers:\n",
    "        answer = np.concatenate((answer + n, answer -n), axis = 0)\n",
    "    return np.count_nonzero(answer == target)"
   ]
  },
  {
   "cell_type": "code",
   "execution_count": 20,
   "metadata": {},
   "outputs": [
    {
     "data": {
      "text/plain": [
       "5"
      ]
     },
     "execution_count": 20,
     "metadata": {},
     "output_type": "execute_result"
    }
   ],
   "source": [
    "numbers = [1, 1, 1, 1, 1]\t\n",
    "target = 3\n",
    "solution(numbers, target)"
   ]
  }
 ],
 "metadata": {
  "kernelspec": {
   "display_name": "Python 3",
   "language": "python",
   "name": "python3"
  },
  "language_info": {
   "codemirror_mode": {
    "name": "ipython",
    "version": 3
   },
   "file_extension": ".py",
   "mimetype": "text/x-python",
   "name": "python",
   "nbconvert_exporter": "python",
   "pygments_lexer": "ipython3",
   "version": "3.8.5"
  }
 },
 "nbformat": 4,
 "nbformat_minor": 4
}
