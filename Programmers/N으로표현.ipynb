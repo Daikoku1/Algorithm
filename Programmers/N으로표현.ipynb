{
 "cells": [
  {
   "cell_type": "code",
   "execution_count": null,
   "metadata": {},
   "outputs": [],
   "source": [
    "# 예전 코드\n",
    "# Max_time = 6322.38 ms\n",
    "# Memory = 1.27 GB\n",
    "from collections import defaultdict\n",
    "def solution(N, number):\n",
    "    a_dict = defaultdict(list)\n",
    "    for i in range(1, 9):\n",
    "        a_dict[i].append(int(str(N)*i))\n",
    "        if i == 2:\n",
    "            a_dict[i].extend([2*N, 0, 1, N**2])\n",
    "        elif i > 2:\n",
    "            for j in range(1, i):\n",
    "                for x in a_dict[j]:\n",
    "                    for y in a_dict[i-j]:\n",
    "                        a_dict[i].extend([x+y, y-x, x-y, x*y])    \n",
    "                        if y != 0:\n",
    "                            a_dict[i].append(x//y)\n",
    "                        if x != 0:\n",
    "                            a_dict[i].append(y//x)\n",
    "        if number in a_dict[i]:\n",
    "            return i\n",
    "    return -1"
   ]
  }
 ],
 "metadata": {
  "kernelspec": {
   "display_name": "Python 3",
   "language": "python",
   "name": "python3"
  },
  "language_info": {
   "codemirror_mode": {
    "name": "ipython",
    "version": 3
   },
   "file_extension": ".py",
   "mimetype": "text/x-python",
   "name": "python",
   "nbconvert_exporter": "python",
   "pygments_lexer": "ipython3",
   "version": "3.8.5"
  }
 },
 "nbformat": 4,
 "nbformat_minor": 4
}
