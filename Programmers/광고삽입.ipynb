{
 "cells": [
  {
   "cell_type": "code",
   "execution_count": 19,
   "id": "80e320e1",
   "metadata": {},
   "outputs": [],
   "source": [
    "def change(time):\n",
    "    return int(time[:2])*3600 + int(time[3:5])*60 + int(time[6:])\n",
    "\n",
    "def solution(play_time, adv_time, logs):\n",
    "    if play_time == adv_time : return '00:00:00'\n",
    "    \n",
    "    play_time = change(play_time)\n",
    "    adv_time = change(adv_time)\n",
    "    \n",
    "    dp = [0] * (play_time +1)\n",
    "    for log in logs:\n",
    "        s, e = map(change, log.split('-'))\n",
    "        dp[s] += 1\n",
    "        dp[e] -= 1\n",
    "    \n",
    "    for i in range(1, play_time+1):\n",
    "        dp[i] += dp[i-1]\n",
    "    \n",
    "    for i in range(1, play_time+1):\n",
    "        dp[i] += dp[i-1]\n",
    "    \n",
    "    \n",
    "    max_time = 0\n",
    "    max_s = 0\n",
    "    for x in range(adv_time-1, play_time):\n",
    "        temp_time = dp[x] - dp[x - adv_time]\n",
    "\n",
    "        if temp_time > max_time:\n",
    "            max_time = temp_time\n",
    "            max_s = x - adv_time + 1\n",
    "    \n",
    "    hour = str(max_s // 3600).zfill(2)\n",
    "    minute = str(max_s % 3600 // 60).zfill(2)\n",
    "    second = str(max_s % 3600 % 60).zfill(2)\n",
    "    return hour+\":\"+minute+\":\"+second"
   ]
  },
  {
   "cell_type": "code",
   "execution_count": 20,
   "id": "2dc4b2e2",
   "metadata": {},
   "outputs": [
    {
     "data": {
      "text/plain": [
       "'01:30:59'"
      ]
     },
     "execution_count": 20,
     "metadata": {},
     "output_type": "execute_result"
    }
   ],
   "source": [
    "play_time = \"02:03:55\"\n",
    "adv_time = \"00:14:15\"\n",
    "logs = [\"01:20:15-01:45:14\", \"00:40:31-01:00:00\", \"00:25:50-00:48:29\", \"01:30:59-01:53:29\", \"01:37:44-02:02:30\"]\n",
    "solution(play_time, adv_time, logs)\n",
    "# \"01:30:59\""
   ]
  },
  {
   "cell_type": "code",
   "execution_count": 8,
   "id": "11653928",
   "metadata": {},
   "outputs": [
    {
     "data": {
      "text/plain": [
       "'02'"
      ]
     },
     "execution_count": 8,
     "metadata": {},
     "output_type": "execute_result"
    }
   ],
   "source": [
    "a = \"02:03:55\"\n",
    "a[:2]"
   ]
  },
  {
   "cell_type": "code",
   "execution_count": 9,
   "id": "8887a026",
   "metadata": {},
   "outputs": [
    {
     "data": {
      "text/plain": [
       "'03'"
      ]
     },
     "execution_count": 9,
     "metadata": {},
     "output_type": "execute_result"
    }
   ],
   "source": [
    "a[3:5]"
   ]
  },
  {
   "cell_type": "code",
   "execution_count": 10,
   "id": "4c012cb4",
   "metadata": {},
   "outputs": [
    {
     "data": {
      "text/plain": [
       "'55'"
      ]
     },
     "execution_count": 10,
     "metadata": {},
     "output_type": "execute_result"
    }
   ],
   "source": [
    "a[6:]"
   ]
  },
  {
   "cell_type": "code",
   "execution_count": 5,
   "id": "4e3d308e",
   "metadata": {},
   "outputs": [
    {
     "ename": "TypeError",
     "evalue": "'map' object is not subscriptable",
     "output_type": "error",
     "traceback": [
      "\u001b[1;31m---------------------------------------------------------------------------\u001b[0m",
      "\u001b[1;31mTypeError\u001b[0m                                 Traceback (most recent call last)",
      "\u001b[1;32m<ipython-input-5-6a1284577a36>\u001b[0m in \u001b[0;36m<module>\u001b[1;34m\u001b[0m\n\u001b[1;32m----> 1\u001b[1;33m \u001b[0ma\u001b[0m\u001b[1;33m[\u001b[0m\u001b[1;36m0\u001b[0m\u001b[1;33m]\u001b[0m\u001b[1;33m\u001b[0m\u001b[1;33m\u001b[0m\u001b[0m\n\u001b[0m",
      "\u001b[1;31mTypeError\u001b[0m: 'map' object is not subscriptable"
     ]
    }
   ],
   "source": [
    "a[0]"
   ]
  },
  {
   "cell_type": "code",
   "execution_count": null,
   "id": "6e2b435f",
   "metadata": {},
   "outputs": [],
   "source": []
  }
 ],
 "metadata": {
  "kernelspec": {
   "display_name": "Python 3",
   "language": "python",
   "name": "python3"
  },
  "language_info": {
   "codemirror_mode": {
    "name": "ipython",
    "version": 3
   },
   "file_extension": ".py",
   "mimetype": "text/x-python",
   "name": "python",
   "nbconvert_exporter": "python",
   "pygments_lexer": "ipython3",
   "version": "3.8.8"
  }
 },
 "nbformat": 4,
 "nbformat_minor": 5
}
