{
 "cells": [
  {
   "cell_type": "markdown",
   "metadata": {},
   "source": [
    "# 실패코드1\n",
    "- 아이디어 : 최소값을 제외하고는 한쪽 끝으로 보낼 수 있어야(한쪽의 모든 수보다 작은 경우) 된다.\n",
    "- 특정 인덱스(i)에 대해 i 가 한쪽의 최소값보다 큰 경우가 등장할 경우를 고려하지 않음"
   ]
  },
  {
   "cell_type": "code",
   "execution_count": 1,
   "metadata": {},
   "outputs": [],
   "source": [
    "import numpy as np\n",
    "def solution(a):\n",
    "    answer = np.zeros(len(a))\n",
    "    answer[0], answer[-1] = 1, 1\n",
    "    prev = a[0]\n",
    "    for i1, v1 in enumerate(a[1:]):\n",
    "        if v1 < prev:\n",
    "            answer[i1] = 1\n",
    "            prev = v1\n",
    "        else:\n",
    "            break\n",
    "    prev = a[-1]\n",
    "    for i2, v2 in enumerate(a[-2::-1]):\n",
    "        if v2 < prev:\n",
    "            answer[-2 -i2] = 1\n",
    "            prev = v2\n",
    "        else:\n",
    "            break\n",
    "            \n",
    "    return len(np.where(answer== 1)[0])"
   ]
  },
  {
   "cell_type": "markdown",
   "metadata": {},
   "source": [
    "# 실패코드2\n",
    "- 시간초과\n",
    "- min반복이 시간효율 최악"
   ]
  },
  {
   "cell_type": "code",
   "execution_count": 2,
   "metadata": {},
   "outputs": [],
   "source": [
    "import numpy as np\n",
    "def solution(a):\n",
    "    cnt = 2 # 양쪽 끝은 무조건 가능\n",
    "    for i, v in enumerate(a[1:-1], 1):\n",
    "        if v < min(a[:i]) and v < min(a[i+1:]):\n",
    "            cnt += 1\n",
    "    return cnt"
   ]
  },
  {
   "cell_type": "markdown",
   "metadata": {},
   "source": [
    "# Sol1\n",
    "- 위와 동일한 알고리즘을 O(n)으로 해결\n",
    "- 양쪽 끝에서 출발하므로 O(2n)"
   ]
  },
  {
   "cell_type": "code",
   "execution_count": 3,
   "metadata": {},
   "outputs": [],
   "source": [
    "# Max_time = 1015.65 ms\n",
    "# Memory = 82.1 MB\n",
    "import numpy as np\n",
    "def solution(a):\n",
    "    answer = np.zeros(len(a))\n",
    "    prev = 1_000_000_000\n",
    "    for i1, v1 in enumerate(a):\n",
    "        if v1 < prev:\n",
    "            prev = v1\n",
    "        else:\n",
    "            answer[i1] += 1\n",
    "            \n",
    "    prev = 1_000_000_000\n",
    "    for i2, v2 in enumerate(a[::-1]):\n",
    "        if v2 < prev:\n",
    "            prev = v2\n",
    "        else:\n",
    "            answer[-1-i2] += 1\n",
    "\n",
    "    return len(a) - len(np.where(answer == 2)[0])"
   ]
  },
  {
   "cell_type": "markdown",
   "metadata": {},
   "source": [
    "# Sol2\n",
    "- 아이디어\n",
    "    - 최소값이 있는 곳까지 진행을 하면, 해당 부분의 끝부분에서 최소값을 터트려야 함\n",
    "    - 따라서 반대 방향에서는 해당값이 최소값인 경우에만 살아남는 경우 발생\n",
    "    - 위와 같이 양쪽 방향을 끝까지 볼 필요 없이, 한번만 살펴보면 문제를 해결할 수 있음\n",
    "- 시간 복잡도 : O(n)"
   ]
  },
  {
   "cell_type": "code",
   "execution_count": 4,
   "metadata": {},
   "outputs": [],
   "source": [
    "# Max_time = 148.18 ms\n",
    "# Memory = 53.3 MB\n",
    "def solution(a):\n",
    "    answer = 1\n",
    "    min_n = min(a)\n",
    "    \n",
    "    now, i = a[0], 1\n",
    "    while now != min_n:\n",
    "        if now >= a[i]:\n",
    "            now = a[i]\n",
    "            answer += 1\n",
    "        i += 1\n",
    "        \n",
    "    a.reverse()\n",
    "    now, i = a[0], 1\n",
    "    while now != min_n:\n",
    "        if now >= a[i]:\n",
    "            now = a[i]\n",
    "            answer += 1\n",
    "        i += 1\n",
    "    \n",
    "    return answer"
   ]
  },
  {
   "cell_type": "code",
   "execution_count": 5,
   "metadata": {},
   "outputs": [],
   "source": [
    "# Max_time = 131.00 ms\n",
    "# Memory =  53.4 MB\n",
    "def solution(a):\n",
    "    answer = 1\n",
    "    min_n = min(a)\n",
    "    for _ in range(2):\n",
    "        now, i = a[0], 1\n",
    "        while now != min_n:\n",
    "            if now >= a[i]:\n",
    "                now = a[i]\n",
    "                answer += 1\n",
    "            i += 1\n",
    "        a.reverse()\n",
    "    return answer"
   ]
  }
 ],
 "metadata": {
  "kernelspec": {
   "display_name": "Python 3",
   "language": "python",
   "name": "python3"
  },
  "language_info": {
   "codemirror_mode": {
    "name": "ipython",
    "version": 3
   },
   "file_extension": ".py",
   "mimetype": "text/x-python",
   "name": "python",
   "nbconvert_exporter": "python",
   "pygments_lexer": "ipython3",
   "version": "3.8.5"
  }
 },
 "nbformat": 4,
 "nbformat_minor": 4
}
