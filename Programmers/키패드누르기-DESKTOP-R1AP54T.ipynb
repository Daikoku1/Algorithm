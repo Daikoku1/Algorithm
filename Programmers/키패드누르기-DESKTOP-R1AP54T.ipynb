{
 "cells": [
  {
   "cell_type": "code",
   "execution_count": 3,
   "metadata": {
    "colab": {},
    "colab_type": "code",
    "id": "1IHvnrdcH9-X"
   },
   "outputs": [],
   "source": [
    "a_list = [[1,0], [0,3], [1,3], [2,3], [0,2], [1,2], [2,2], [0,1], [1,1], [2,1]]"
   ]
  },
  {
   "cell_type": "code",
   "execution_count": 2,
   "metadata": {
    "colab": {},
    "colab_type": "code",
    "id": "cbxgeXHuIW21"
   },
   "outputs": [],
   "source": [
    "# 예전 코드\n",
    "# Time = 0.48 ms\n",
    "# Memory = 10.3 MB\n",
    "def solution(numbers, hand):\n",
    "    a_list = [[1,0], [0,3], [1,3], [2,3], [0,2], [1,2], [2,2], [0,1], [1,1], [2,1]]\n",
    "    right = [2,0]\n",
    "    left = [0,0]\n",
    "    \n",
    "    answer = ''\n",
    "    for number in numbers:\n",
    "        if number in [1,4,7]:\n",
    "            left = a_list[number]\n",
    "            answer += 'L'\n",
    "        elif number in [3,6,9]:\n",
    "            right = a_list[number]\n",
    "            answer += 'R'\n",
    "        else:\n",
    "            num_loc = a_list[number]\n",
    "            r_len = (right[0] - num_loc[0]) + (right[1] - num_loc[1])\n",
    "            l_len = (left[0] - num_loc[0]) + (left[1] - num_loc[1])\n",
    "            if l_len < r_len:\n",
    "                answer += 'L'\n",
    "                left = num_loc\n",
    "            elif l_len > r_len:\n",
    "                answer += 'R'\n",
    "                right = num_loc\n",
    "            else:\n",
    "                if hand == 'right':\n",
    "                    answer += 'R'\n",
    "                    right = num_loc\n",
    "                else:\n",
    "                    answer += 'L'\n",
    "                    left = num_loc\n",
    "    return answer"
   ]
  },
  {
   "cell_type": "code",
   "execution_count": 3,
   "metadata": {
    "colab": {
     "base_uri": "https://localhost:8080/",
     "height": 34
    },
    "colab_type": "code",
    "id": "zdGRUoGFLQSE",
    "outputId": "a9a503b8-8e96-4467-b69a-6e10a1e3b5c8"
   },
   "outputs": [
    {
     "data": {
      "text/plain": [
       "'LRLLLLLLLRR'"
      ]
     },
     "execution_count": 3,
     "metadata": {},
     "output_type": "execute_result"
    }
   ],
   "source": [
    "numbers = [1, 3, 4, 5, 8, 2, 1, 4, 5, 9, 5]\n",
    "hand = 'right'\n",
    "# \"LRLLLRLLRRL\"\n",
    "solution(numbers, hand) "
   ]
  },
  {
   "cell_type": "code",
   "execution_count": 15,
   "metadata": {},
   "outputs": [],
   "source": [
    "# Time = 0.61 ms\n",
    "# Memory = 10.2 MB\n",
    "def solution(numbers, hand):\n",
    "    li = [[1,0], [0,3], [1,3], [2,3], [0,2], [1,2], [2,2], [0,1], [1,1], [2,1]]\n",
    "    left, right = [0,0], [2,0]\n",
    "    \n",
    "    answer = ''\n",
    "    for n in numbers:\n",
    "        q, r = divmod(n,3)\n",
    "        if r == 0 and q != 0:\n",
    "            right = li[n]\n",
    "            answer += 'R'\n",
    "        elif r == 1:\n",
    "            left = li[n]\n",
    "            answer += 'L'\n",
    "        else:\n",
    "            left_l = abs(left[0] - li[n][0]) + abs(left[1] - li[n][1])\n",
    "            right_l = abs(right[0] - li[n][0]) + abs(right[1] - li[n][1])\n",
    "            if left_l < right_l:\n",
    "                left = li[n]\n",
    "                answer += 'L'\n",
    "            elif left_l > right_l:\n",
    "                right = li[n]\n",
    "                answer += 'R'\n",
    "            elif hand == 'right':\n",
    "                right = li[n]\n",
    "                answer += 'R'\n",
    "            else:\n",
    "                left = li[n]\n",
    "                answer += 'L'\n",
    "    return answer"
   ]
  },
  {
   "cell_type": "code",
   "execution_count": 16,
   "metadata": {},
   "outputs": [
    {
     "name": "stdout",
     "output_type": "stream",
     "text": [
      "---------------\n",
      "1\n",
      "[0, 0] [2, 0]\n",
      "---------------\n",
      "2\n",
      "[0, 3] [2, 0]\n",
      "1 4\n",
      "---------------\n",
      "3\n",
      "[1, 3] [2, 0]\n",
      "---------------\n",
      "4\n",
      "[1, 3] [2, 3]\n",
      "---------------\n",
      "5\n",
      "[0, 2] [2, 3]\n",
      "1 2\n",
      "---------------\n",
      "6\n",
      "[1, 2] [2, 3]\n",
      "---------------\n",
      "7\n",
      "[1, 2] [2, 2]\n",
      "---------------\n",
      "8\n",
      "[0, 1] [2, 2]\n",
      "1 2\n",
      "---------------\n",
      "9\n",
      "[1, 1] [2, 2]\n",
      "---------------\n",
      "0\n",
      "[1, 1] [2, 1]\n",
      "1 2\n"
     ]
    },
    {
     "data": {
      "text/plain": [
       "'LLRLLRLLRL'"
      ]
     },
     "execution_count": 16,
     "metadata": {},
     "output_type": "execute_result"
    }
   ],
   "source": [
    "numbers = [1, 2, 3, 4, 5, 6, 7, 8, 9, 0]\n",
    "hand = \"right\"\n",
    "solution(numbers, hand)"
   ]
  },
  {
   "cell_type": "code",
   "execution_count": null,
   "metadata": {},
   "outputs": [],
   "source": []
  }
 ],
 "metadata": {
  "colab": {
   "authorship_tag": "ABX9TyNOOYCJxIy3inbMDYfxEnht",
   "include_colab_link": true,
   "name": "키패드누르기.ipynb",
   "provenance": []
  },
  "kernelspec": {
   "display_name": "Python 3",
   "language": "python",
   "name": "python3"
  },
  "language_info": {
   "codemirror_mode": {
    "name": "ipython",
    "version": 3
   },
   "file_extension": ".py",
   "mimetype": "text/x-python",
   "name": "python",
   "nbconvert_exporter": "python",
   "pygments_lexer": "ipython3",
   "version": "3.8.3"
  },
  "toc": {
   "base_numbering": 1,
   "nav_menu": {},
   "number_sections": true,
   "sideBar": true,
   "skip_h1_title": false,
   "title_cell": "Table of Contents",
   "title_sidebar": "Contents",
   "toc_cell": false,
   "toc_position": {},
   "toc_section_display": true,
   "toc_window_display": false
  }
 },
 "nbformat": 4,
 "nbformat_minor": 1
}
