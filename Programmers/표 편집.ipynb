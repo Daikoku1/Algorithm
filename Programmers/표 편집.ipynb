{
 "cells": [
  {
   "cell_type": "markdown",
   "id": "bdc7ce6c",
   "metadata": {},
   "source": [
    "# 표 편집"
   ]
  },
  {
   "cell_type": "markdown",
   "id": "88dc8500",
   "metadata": {},
   "source": [
    "## 코드1\n",
    "- 효율성 테스트 X"
   ]
  },
  {
   "cell_type": "code",
   "execution_count": 25,
   "id": "44a7f5d2",
   "metadata": {},
   "outputs": [],
   "source": [
    "def solution(n, k, cmd):\n",
    "    del_list = []\n",
    "    ans = ['O'] * n\n",
    "    last_n = n-1\n",
    "    for cm in cmd:\n",
    "        if cm == 'C':\n",
    "            ans[k] = 'X'\n",
    "            del_list.append(k)\n",
    "            if k == last_n:\n",
    "                while True:\n",
    "                    k -= 1\n",
    "                    last_n -= 1\n",
    "                    if ans[k] == 'O': break\n",
    "            else:\n",
    "                while True:\n",
    "                    k += 1\n",
    "                    if ans[k] == 'O': break\n",
    "                    \n",
    "        elif cm == 'Z':\n",
    "            idx = del_list.pop()\n",
    "            ans[idx] = 'O'\n",
    "            last_n = max(last_n, idx)\n",
    "        else:\n",
    "            d, x = cm.split()\n",
    "            x = int(x)\n",
    "            if d == 'U':\n",
    "                while x:\n",
    "                    k -= 1\n",
    "                    if ans[k] == 'O': x -= 1\n",
    "            else:\n",
    "                while x:\n",
    "                    k += 1\n",
    "                    if ans[k] == 'O': x -= 1\n",
    "    return ''.join(ans)"
   ]
  },
  {
   "cell_type": "code",
   "execution_count": 26,
   "id": "41070768",
   "metadata": {},
   "outputs": [
    {
     "data": {
      "text/plain": [
       "'OOOOXOOO'"
      ]
     },
     "execution_count": 26,
     "metadata": {},
     "output_type": "execute_result"
    }
   ],
   "source": [
    "n = 8\n",
    "k = 2\n",
    "cmd = [\"D 2\",\"C\",\"U 3\",\"C\",\"D 4\",\"C\",\"U 2\",\"Z\",\"Z\"]\n",
    "solution(n, k, cmd)\n",
    "# \"OOOOXOOO\""
   ]
  },
  {
   "cell_type": "code",
   "execution_count": 27,
   "id": "5ca832a3",
   "metadata": {},
   "outputs": [
    {
     "data": {
      "text/plain": [
       "'OOXOXOOO'"
      ]
     },
     "execution_count": 27,
     "metadata": {},
     "output_type": "execute_result"
    }
   ],
   "source": [
    "n = 8\n",
    "k = 2\n",
    "cmd = [\"D 2\", \"C\", \"U 3\", \"C\", \"D 4\", \"C\", \"U 2\", \"Z\", \"Z\", \"U 1\", \"C\"]\n",
    "solution(n, k, cmd)\n",
    "# \t\"OOXOXOOO\""
   ]
  },
  {
   "cell_type": "markdown",
   "id": "713a046c",
   "metadata": {},
   "source": [
    "## 코드2\n",
    "- up 리스트, dwon 리스트 활용\n",
    "- 프로그래머스 '호텔방 배정'과 유사한 알고리즘"
   ]
  },
  {
   "cell_type": "code",
   "execution_count": 40,
   "id": "624a584b",
   "metadata": {},
   "outputs": [],
   "source": [
    "def solution(n, k, cmd):\n",
    "    file = [True for _ in range(n)]\n",
    "    up = [x for x in range(-1, n-1)]\n",
    "    down = [x for x in range(1,n)] + [-1]\n",
    "    del_list = []\n",
    "    for cm in cmd:\n",
    "        if cm == 'C':\n",
    "            file[k] = False\n",
    "            del_list.append(k)\n",
    "            # up, down 리스트 \n",
    "            if up[k] != -1 : down[up[k]] = down[k]\n",
    "            if down[k] != -1 :up[down[k]] = up[k]\n",
    "            \n",
    "            if down[k] != -1 : k = down[k]\n",
    "            else: k = up[k]\n",
    "                \n",
    "        elif cm == 'Z':\n",
    "            now = del_list.pop()\n",
    "            file[now] = True\n",
    "            \n",
    "            if down[now] != -1 : up[down[now]] = now\n",
    "            if up[now] != -1 : down[up[now]] = now       \n",
    "        else:\n",
    "            d, x = cm.split()\n",
    "            x = int(x)\n",
    "            if d == 'U':\n",
    "                for _ in range(x):\n",
    "                    k = up[k]\n",
    "            else:\n",
    "                for _ in range(x):\n",
    "                    k = down[k]\n",
    "    return ''.join(['O' if x else 'X' for x in file])"
   ]
  },
  {
   "cell_type": "code",
   "execution_count": 41,
   "id": "d2f562d2",
   "metadata": {},
   "outputs": [
    {
     "data": {
      "text/plain": [
       "'OOOOXOOO'"
      ]
     },
     "execution_count": 41,
     "metadata": {},
     "output_type": "execute_result"
    }
   ],
   "source": [
    "n = 8\n",
    "k = 2\n",
    "cmd = [\"D 2\",\"C\",\"U 3\",\"C\",\"D 4\",\"C\",\"U 2\",\"Z\",\"Z\"]\n",
    "solution(n, k, cmd)\n",
    "# \"OOOOXOOO\""
   ]
  },
  {
   "cell_type": "code",
   "execution_count": 42,
   "id": "a6ceff9c",
   "metadata": {},
   "outputs": [
    {
     "data": {
      "text/plain": [
       "'OOXOXOOO'"
      ]
     },
     "execution_count": 42,
     "metadata": {},
     "output_type": "execute_result"
    }
   ],
   "source": [
    "n = 8\n",
    "k = 2\n",
    "cmd = [\"D 2\", \"C\", \"U 3\", \"C\", \"D 4\", \"C\", \"U 2\", \"Z\", \"Z\", \"U 1\", \"C\"]\n",
    "solution(n, k, cmd)\n",
    "# \t\"OOXOXOOO\""
   ]
  },
  {
   "cell_type": "code",
   "execution_count": null,
   "id": "cd6ef468",
   "metadata": {},
   "outputs": [],
   "source": []
  },
  {
   "cell_type": "code",
   "execution_count": null,
   "id": "36f088ef",
   "metadata": {},
   "outputs": [],
   "source": []
  }
 ],
 "metadata": {
  "kernelspec": {
   "display_name": "Python 3",
   "language": "python",
   "name": "python3"
  },
  "language_info": {
   "codemirror_mode": {
    "name": "ipython",
    "version": 3
   },
   "file_extension": ".py",
   "mimetype": "text/x-python",
   "name": "python",
   "nbconvert_exporter": "python",
   "pygments_lexer": "ipython3",
   "version": "3.8.8"
  }
 },
 "nbformat": 4,
 "nbformat_minor": 5
}
