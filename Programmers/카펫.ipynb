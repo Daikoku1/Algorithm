{
 "cells": [
  {
   "cell_type": "code",
   "execution_count": null,
   "metadata": {},
   "outputs": [],
   "source": [
    "# 예전코드\n",
    "# max_time = 0.35 ms\n",
    "# max_memory = 10.7 MB\n",
    "def solution(brown, red):\n",
    "    # 2*x + 2*y - 4 = brown\n",
    "    # y = brown/2 + 2 - x\n",
    "    # brown = 2(x+y-2) = 2의 배수\n",
    "    # x = 세로, y = 가로\n",
    "    x = 1\n",
    "    y = int(brown/2 + 2 - x)\n",
    "    answer = []\n",
    "    while y>=x:\n",
    "        if x * y == brown + red:\n",
    "            return [y, x]\n",
    "        \n",
    "        x += 1\n",
    "        y = int(brown/2 + 2 - x)\n",
    "    \n",
    "    return answer"
   ]
  },
  {
   "cell_type": "code",
   "execution_count": null,
   "metadata": {},
   "outputs": [],
   "source": [
    "# max_time = 0.04 ms\n",
    "# max_memory = 10.7 MB\n",
    "import math\n",
    "def solution(brown, yellow):\n",
    "    # 근의 공식\n",
    "    num = math.sqrt((brown+4)**2 - 16*(brown + yellow))\n",
    "    return [((brown+4) + num) / 4, ((brown+4) - num) / 4]"
   ]
  }
 ],
 "metadata": {
  "kernelspec": {
   "display_name": "Python 3",
   "language": "python",
   "name": "python3"
  },
  "language_info": {
   "codemirror_mode": {
    "name": "ipython",
    "version": 3
   },
   "file_extension": ".py",
   "mimetype": "text/x-python",
   "name": "python",
   "nbconvert_exporter": "python",
   "pygments_lexer": "ipython3",
   "version": "3.8.3"
  }
 },
 "nbformat": 4,
 "nbformat_minor": 4
}
