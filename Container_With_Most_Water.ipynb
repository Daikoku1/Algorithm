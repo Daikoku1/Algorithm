{
  "nbformat": 4,
  "nbformat_minor": 0,
  "metadata": {
    "colab": {
      "name": "﻿Container With Most Water.ipynb",
      "provenance": [],
      "authorship_tag": "ABX9TyPr+9qp1msLuCfp9FWgIWr6",
      "include_colab_link": true
    },
    "kernelspec": {
      "name": "python3",
      "display_name": "Python 3"
    }
  },
  "cells": [
    {
      "cell_type": "markdown",
      "metadata": {
        "id": "view-in-github",
        "colab_type": "text"
      },
      "source": [
        "<a href=\"https://colab.research.google.com/github/Daikoku1/Algorithm_LeetCode/blob/master/Container_With_Most_Water.ipynb\" target=\"_parent\"><img src=\"https://colab.research.google.com/assets/colab-badge.svg\" alt=\"Open In Colab\"/></a>"
      ]
    },
    {
      "cell_type": "code",
      "metadata": {
        "id": "TWm6DxbFp-3I",
        "colab_type": "code",
        "colab": {}
      },
      "source": [
        "class Solution:\n",
        "    def maxArea(self, height: List[int]) -> int:\n",
        "        max_water = 0\n",
        "        start, last = 0, len(height) - 1\n",
        "        while start < last:\n",
        "            if height[start]<=height[last]:\n",
        "                max_water = max(max_water, height[start]*(last - start))\n",
        "                start += 1\n",
        "            else:\n",
        "                max_water = max(max_water, height[last]*(last-start))\n",
        "                last -= 1\n",
        "        return max_water"
      ],
      "execution_count": null,
      "outputs": []
    }
  ]
}