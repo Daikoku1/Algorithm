{
  "nbformat": 4,
  "nbformat_minor": 0,
  "metadata": {
    "colab": {
      "name": "H-index.ipynb",
      "provenance": [],
      "authorship_tag": "ABX9TyN1PPVlJq7EgEfJRS8BUtRQ",
      "include_colab_link": true
    },
    "kernelspec": {
      "name": "python3",
      "display_name": "Python 3"
    }
  },
  "cells": [
    {
      "cell_type": "markdown",
      "metadata": {
        "id": "view-in-github",
        "colab_type": "text"
      },
      "source": [
        "<a href=\"https://colab.research.google.com/github/Daikoku1/Algorithm_Programmers/blob/master/H_index.ipynb\" target=\"_parent\"><img src=\"https://colab.research.google.com/assets/colab-badge.svg\" alt=\"Open In Colab\"/></a>"
      ]
    },
    {
      "cell_type": "code",
      "metadata": {
        "id": "wH4utHN_6JsX",
        "colab_type": "code",
        "colab": {}
      },
      "source": [
        "# 완전탐색\n",
        "def solution(citations):\n",
        "    if not citations:\n",
        "        return 0\n",
        "    count = 0\n",
        "    for i in range(max(citations), -1, -1):\n",
        "        num = citations.count(i)\n",
        "        count += num\n",
        "        if (count >= i):\n",
        "            return i"
      ],
      "execution_count": null,
      "outputs": []
    },
    {
      "cell_type": "code",
      "metadata": {
        "id": "lpj-HFZ36QIx",
        "colab_type": "code",
        "colab": {}
      },
      "source": [
        "# 정렬을 사용한 코드\n",
        "def solution(citations):\n",
        "    citations.sort()\n",
        "    if not citations:\n",
        "        return 0\n",
        "    for idx, val in enumerate(citations[::-1]):\n",
        "        if val < idx + 1:\n",
        "            return idx\n",
        "    return idx + 1"
      ],
      "execution_count": null,
      "outputs": []
    }
  ]
}