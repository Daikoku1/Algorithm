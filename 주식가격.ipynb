{
  "nbformat": 4,
  "nbformat_minor": 0,
  "metadata": {
    "colab": {
      "name": "주식가격.ipynb",
      "provenance": [],
      "authorship_tag": "ABX9TyP1/EkU+a9T+1I+cOSeULbI",
      "include_colab_link": true
    },
    "kernelspec": {
      "name": "python3",
      "display_name": "Python 3"
    }
  },
  "cells": [
    {
      "cell_type": "markdown",
      "metadata": {
        "id": "view-in-github",
        "colab_type": "text"
      },
      "source": [
        "<a href=\"https://colab.research.google.com/github/Daikoku1/Algorithm_Programmers/blob/master/%EC%A3%BC%EC%8B%9D%EA%B0%80%EA%B2%A9.ipynb\" target=\"_parent\"><img src=\"https://colab.research.google.com/assets/colab-badge.svg\" alt=\"Open In Colab\"/></a>"
      ]
    },
    {
      "cell_type": "code",
      "metadata": {
        "id": "aHv2WRGC6f_y",
        "colab_type": "code",
        "colab": {}
      },
      "source": [
        "def solution(prices):\n",
        "    answer = []\n",
        "    length = len(prices)\n",
        "    for i, val in enumerate(prices):\n",
        "\n",
        "        for j in range(i+1, length):\n",
        "            time = length - 1 - i\n",
        "            if val > prices[j]:\n",
        "                time = j - i\n",
        "                break\n",
        "        answer.append(time)\n",
        "\n",
        "    answer.pop()\n",
        "    answer.append(0)\n",
        "    return answer"
      ],
      "execution_count": null,
      "outputs": []
    },
    {
      "cell_type": "code",
      "metadata": {
        "id": "Y4jflGVU7Qp0",
        "colab_type": "code",
        "colab": {}
      },
      "source": [
        "# prices = [1, 2, 3, 2, 3]\n",
        "# return = [4, 3, 1, 1, 0]"
      ],
      "execution_count": null,
      "outputs": []
    }
  ]
}