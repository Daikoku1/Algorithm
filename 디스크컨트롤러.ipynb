{
  "nbformat": 4,
  "nbformat_minor": 0,
  "metadata": {
    "colab": {
      "name": "디스크컨트롤러.ipynb",
      "provenance": [],
      "authorship_tag": "ABX9TyPdE7tNVKLRq9W3UaS6192b",
      "include_colab_link": true
    },
    "kernelspec": {
      "name": "python3",
      "display_name": "Python 3"
    }
  },
  "cells": [
    {
      "cell_type": "markdown",
      "metadata": {
        "id": "view-in-github",
        "colab_type": "text"
      },
      "source": [
        "<a href=\"https://colab.research.google.com/github/Daikoku1/Algorithm_Programmers/blob/master/%EB%94%94%EC%8A%A4%ED%81%AC%EC%BB%A8%ED%8A%B8%EB%A1%A4%EB%9F%AC.ipynb\" target=\"_parent\"><img src=\"https://colab.research.google.com/assets/colab-badge.svg\" alt=\"Open In Colab\"/></a>"
      ]
    },
    {
      "cell_type": "code",
      "metadata": {
        "id": "BY0jtl2jeGjJ",
        "colab_type": "code",
        "colab": {}
      },
      "source": [
        "# 예전 코드\n",
        "# max_time = 0.87 ms\n",
        "import heapq\n",
        "def solution(jobs):\n",
        "    length = len(jobs)\n",
        "    jobs = sorted(jobs, key = lambda x : (x[0], x[1]))\n",
        "\n",
        "    time = 0\n",
        "    answer = 0\n",
        "    heap = []\n",
        "    while jobs:\n",
        "        a = 0\n",
        "        idx_list = []\n",
        "        for i in range(len(jobs)):\n",
        "            if jobs[i][0] <= time:\n",
        "                heapq.heappush(heap, [jobs[i][1], jobs[i][0]])\n",
        "                idx_list.append(i)\n",
        "            else:\n",
        "                jobs = jobs[i:]\n",
        "                a = 1\n",
        "                break\n",
        "        if a == 0:\n",
        "            jobs = []\n",
        "        if heap:\n",
        "            num_e, num_s = heapq.heappop(heap)\n",
        "            time += num_e\n",
        "            answer += (time - num_s)\n",
        "        else:\n",
        "            num_s, num_e = jobs.pop(0)\n",
        "            time = num_s + num_e\n",
        "            answer += num_e\n",
        "\n",
        "    while heap:\n",
        "        num_e, num_s = heapq.heappop(heap)\n",
        "        time += num_e\n",
        "        answer += (time - num_s)\n",
        "\n",
        "    return answer // length\n"
      ],
      "execution_count": null,
      "outputs": []
    },
    {
      "cell_type": "code",
      "metadata": {
        "id": "W91DsosCfNQs",
        "colab_type": "code",
        "colab": {}
      },
      "source": [
        "# 코드 정리\n",
        "# max_time = 0.60 ms\n",
        "# 코드 정리만 했는데, 속도가 향상되었다.\n",
        "import heapq\n",
        "def solution(jobs):\n",
        "    length = len(jobs)\n",
        "    jobs.sort()\n",
        "\n",
        "    time = 0\n",
        "    answer = 0\n",
        "    heap = []\n",
        "    while jobs:\n",
        "        a = 0\n",
        "        for idx, val in enumerate(jobs):\n",
        "            if val[0] <= time:\n",
        "                heapq.heappush(heap, [val[1], val[0]])\n",
        "            else:\n",
        "                jobs = jobs[idx:]\n",
        "                a = 1\n",
        "                break\n",
        "        if a == 0:\n",
        "            jobs = []\n",
        "        if heap:\n",
        "            num_e, num_s = heapq.heappop(heap)\n",
        "            time += num_e\n",
        "            answer += (time - num_s)\n",
        "        else:\n",
        "            num_s, num_e = jobs.pop(0)\n",
        "            time = num_s + num_e\n",
        "            answer += num_e\n",
        "\n",
        "    while heap:\n",
        "        num_e, num_s = heapq.heappop(heap)\n",
        "        time += num_e\n",
        "        answer += (time - num_s)\n",
        "\n",
        "    return answer // length"
      ],
      "execution_count": 3,
      "outputs": []
    },
    {
      "cell_type": "code",
      "metadata": {
        "id": "KNGZYJlnjCvu",
        "colab_type": "code",
        "colab": {
          "base_uri": "https://localhost:8080/",
          "height": 33
        },
        "outputId": "5bb6f3c9-a4c4-46b5-ec39-239e25be97ab"
      },
      "source": [
        "jobs = [[0, 3], [1, 9], [2, 6]]\n",
        "solution(jobs)"
      ],
      "execution_count": 4,
      "outputs": [
        {
          "output_type": "execute_result",
          "data": {
            "text/plain": [
              "9"
            ]
          },
          "metadata": {
            "tags": []
          },
          "execution_count": 4
        }
      ]
    }
  ]
}