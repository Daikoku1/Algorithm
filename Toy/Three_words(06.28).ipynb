{
 "cells": [
  {
   "cell_type": "markdown",
   "metadata": {},
   "source": [
    "# 문제  \n",
    "문자열이 3개 이상 연속되면 True값을 반환합니다. 문자열은 화이트스페이스(스페이스바)로 구분됩니다. 단, 숫자열은 단어로 취급하지 않습니다."
   ]
  },
  {
   "cell_type": "markdown",
   "metadata": {},
   "source": [
    "## Example:\n",
    "checkio(\"Hello World hello\") == True  \n",
    "checkio(\"He is 123 man\") == False  \n",
    "checkio(\"1 2 3 4\") == False  \n",
    "checkio(\"bla bla bla bla\") == True  \n",
    "checkio(\"Hi\") == False"
   ]
  },
  {
   "cell_type": "markdown",
   "metadata": {},
   "source": [
    "# Daikoku's Answer"
   ]
  },
  {
   "cell_type": "code",
   "execution_count": 41,
   "metadata": {},
   "outputs": [],
   "source": [
    "def Three_word(word):\n",
    "    w_list = word.split()\n",
    "    num_list = [-1, len(w_list)+1]\n",
    "    \n",
    "    # 숫자열이 있는 항의 인덱스 찾기.\n",
    "    for idx, val in enumerate(w_list):\n",
    "        count = 0\n",
    "        for i in range(10):\n",
    "            if val.count('{}'.format(i)) != 0:\n",
    "                count += 1\n",
    "        if count != 0:\n",
    "            num_list.append(idx)\n",
    "    \n",
    "    # num_list 오름차순배열\n",
    "    num_list.sort()\n",
    "\n",
    "    # 숫자열이 하나도 없는 경우\n",
    "    if len(num_list) == 2:\n",
    "        if len(w_list) >= 3:\n",
    "            return True\n",
    "        else:\n",
    "            return False\n",
    "        \n",
    "    # 숫자열이 존재하는 경우\n",
    "    else:\n",
    "    \n",
    "    # 숫자열 사이의 거리 찾기 = 연속된 문자열 개수\n",
    "        l_count = 0\n",
    "        for num in range(1, len(num_list)):\n",
    "            length = num_list[num] - num_list[num-1]\n",
    "            if length > 3:\n",
    "                l_count += 1\n",
    "        if l_count != 0:\n",
    "            return True\n",
    "        else:\n",
    "            return False"
   ]
  },
  {
   "cell_type": "markdown",
   "metadata": {},
   "source": [
    "### 숫자열 찾는 코드 쉽게"
   ]
  },
  {
   "cell_type": "code",
   "execution_count": 48,
   "metadata": {},
   "outputs": [],
   "source": [
    "def Three_word2(word):\n",
    "    w_list = word.split()\n",
    "    new_w = ''\n",
    "    \n",
    "    for w in w_list:\n",
    "        try:\n",
    "            int(w)\n",
    "            new_w += 'i'\n",
    "        except:\n",
    "            new_w += 's'\n",
    "        count = 0\n",
    "\n",
    "    if 'sss' in new_w:\n",
    "        return True\n",
    "    else:\n",
    "        return False"
   ]
  },
  {
   "cell_type": "code",
   "execution_count": 51,
   "metadata": {},
   "outputs": [
    {
     "data": {
      "text/plain": [
       "True"
      ]
     },
     "execution_count": 51,
     "metadata": {},
     "output_type": "execute_result"
    }
   ],
   "source": [
    "Three_word('Hello World hello')"
   ]
  },
  {
   "cell_type": "code",
   "execution_count": 52,
   "metadata": {},
   "outputs": [
    {
     "data": {
      "text/plain": [
       "False"
      ]
     },
     "execution_count": 52,
     "metadata": {},
     "output_type": "execute_result"
    }
   ],
   "source": [
    "Three_word('He is 123 man')"
   ]
  },
  {
   "cell_type": "code",
   "execution_count": 44,
   "metadata": {},
   "outputs": [
    {
     "data": {
      "text/plain": [
       "False"
      ]
     },
     "execution_count": 44,
     "metadata": {},
     "output_type": "execute_result"
    }
   ],
   "source": [
    "Three_word('1 2 3 4')"
   ]
  },
  {
   "cell_type": "code",
   "execution_count": 45,
   "metadata": {},
   "outputs": [
    {
     "data": {
      "text/plain": [
       "True"
      ]
     },
     "execution_count": 45,
     "metadata": {},
     "output_type": "execute_result"
    }
   ],
   "source": [
    "Three_word('bla bla bla bla')"
   ]
  },
  {
   "cell_type": "code",
   "execution_count": 46,
   "metadata": {},
   "outputs": [
    {
     "data": {
      "text/plain": [
       "False"
      ]
     },
     "execution_count": 46,
     "metadata": {},
     "output_type": "execute_result"
    }
   ],
   "source": [
    "Three_word('Hi')"
   ]
  }
 ],
 "metadata": {
  "kernelspec": {
   "display_name": "Python 3",
   "language": "python",
   "name": "python3"
  },
  "language_info": {
   "codemirror_mode": {
    "name": "ipython",
    "version": 3
   },
   "file_extension": ".py",
   "mimetype": "text/x-python",
   "name": "python",
   "nbconvert_exporter": "python",
   "pygments_lexer": "ipython3",
   "version": "3.7.3"
  }
 },
 "nbformat": 4,
 "nbformat_minor": 2
}
