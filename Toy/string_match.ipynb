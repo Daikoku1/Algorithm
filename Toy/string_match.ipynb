{
 "cells": [
  {
   "cell_type": "code",
   "execution_count": 18,
   "metadata": {
    "scrolled": true
   },
   "outputs": [
    {
     "data": {
      "text/plain": [
       "''"
      ]
     },
     "execution_count": 18,
     "metadata": {},
     "output_type": "execute_result"
    }
   ],
   "source": [
    "\"\"\"\n",
    "Given 2 strings, a and b, return the number of the positions where they contain the same length 2 substring. \n",
    "So \"xxcaazz\" and \"xxbaaz\" yields 3, since the \"xx\", \"aa\", and \"az\" substrings appear in the same place in both strings.\n",
    "\n",
    "# try\n",
    "string_match('xxcaazz', 'xxbaaz') \n",
    "= 3\n",
    "string_match('abc', 'abc')\n",
    "= 2\n",
    "string_match('abc', 'axc')\n",
    "= 0\n",
    "\n",
    "\n",
    "# ref\n",
    "https://codingbat.com/prob/p182414\n",
    "\"\"\"\n",
    "\"\""
   ]
  },
  {
   "cell_type": "markdown",
   "metadata": {},
   "source": [
    "# Daikoku's Answer"
   ]
  },
  {
   "cell_type": "code",
   "execution_count": 15,
   "metadata": {},
   "outputs": [],
   "source": [
    "def string_match(a, b):\n",
    "    if len(a) <= len(b):\n",
    "        len_string = len(a)\n",
    "    else:\n",
    "        len_string = len(b)\n",
    "    \n",
    "    result = []\n",
    "    for x in range(1, len_string):\n",
    "        if a[x] == b[x]:\n",
    "            if a[x-1] == b[x-1]:\n",
    "                result.append(a[x-1] + a[x])\n",
    "    re_set = set(result)\n",
    "    return len(re_set)"
   ]
  },
  {
   "cell_type": "code",
   "execution_count": 20,
   "metadata": {},
   "outputs": [],
   "source": [
    "def string_match(a, b):\n",
    "    len_string = min(len(a), len(b))\n",
    "\n",
    "    result = []\n",
    "    for x in range(1, len_string):\n",
    "        if a[x] == b[x]:\n",
    "            if a[x-1] == b[x-1]:\n",
    "                result.append(a[x-1] + a[x])\n",
    "    re_set = set(result)\n",
    "    return len(re_set)"
   ]
  },
  {
   "cell_type": "code",
   "execution_count": 21,
   "metadata": {},
   "outputs": [
    {
     "data": {
      "text/plain": [
       "3"
      ]
     },
     "execution_count": 21,
     "metadata": {},
     "output_type": "execute_result"
    }
   ],
   "source": [
    "string_match('xxcaazz', 'xxbaaz')"
   ]
  },
  {
   "cell_type": "code",
   "execution_count": 22,
   "metadata": {},
   "outputs": [
    {
     "data": {
      "text/plain": [
       "2"
      ]
     },
     "execution_count": 22,
     "metadata": {},
     "output_type": "execute_result"
    }
   ],
   "source": [
    "string_match('abc', 'abc')"
   ]
  },
  {
   "cell_type": "code",
   "execution_count": 23,
   "metadata": {},
   "outputs": [
    {
     "data": {
      "text/plain": [
       "0"
      ]
     },
     "execution_count": 23,
     "metadata": {},
     "output_type": "execute_result"
    }
   ],
   "source": [
    "string_match('abc', 'axc')"
   ]
  },
  {
   "cell_type": "code",
   "execution_count": null,
   "metadata": {},
   "outputs": [],
   "source": []
  }
 ],
 "metadata": {
  "kernelspec": {
   "display_name": "Python 3",
   "language": "python",
   "name": "python3"
  },
  "language_info": {
   "codemirror_mode": {
    "name": "ipython",
    "version": 3
   },
   "file_extension": ".py",
   "mimetype": "text/x-python",
   "name": "python",
   "nbconvert_exporter": "python",
   "pygments_lexer": "ipython3",
   "version": "3.7.3"
  }
 },
 "nbformat": 4,
 "nbformat_minor": 2
}
