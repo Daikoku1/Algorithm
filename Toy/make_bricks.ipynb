{
 "cells": [
  {
   "cell_type": "code",
   "execution_count": null,
   "metadata": {},
   "outputs": [],
   "source": [
    "우리는 목표 인치 길이 의 벽돌 행을 만들고 싶습니다 . \n",
    "우리는 작은 벽돌 (각각 1 인치)과 큰 벽돌 (각각 5 인치)을 가지고 있습니다.\n",
    "주어진 벽돌에서 선택하여 목표를 만들 수 있다면 True를 반환합니다.\n",
    "이것은 보이는 것보다 조금 더 힘들며 반복없이 수행 할 수 있습니다.\n",
    "\n",
    "\n",
    "make_bricks (3, 1, 8) → 참 \n",
    "make_bricks (3, 1, 9) → 거짓 \n",
    "make_bricks (3, 2, 10) → 참"
   ]
  },
  {
   "cell_type": "code",
   "execution_count": 37,
   "metadata": {},
   "outputs": [
    {
     "name": "stdout",
     "output_type": "stream",
     "text": [
      "Overwriting C:\\myPyCode\\make_bricks.py\n"
     ]
    }
   ],
   "source": [
    "%%writefile C:\\myPyCode\\make_bricks.py\n",
    "\n",
    "def mb_1_5(small, big, goal):\n",
    "    if goal % 5 == 0:\n",
    "        if int(small/5) + big >= int(goal/5):\n",
    "            return True\n",
    "        else:\n",
    "            return False\n",
    "    else:\n",
    "        a = goal % 5\n",
    "        if small < a:\n",
    "            return False\n",
    "        elif int((small - a)/5) + big >= int((goal - a)/5):\n",
    "            return True\n",
    "        else:\n",
    "            return False\n",
    "    \n",
    "def mb_3_5(small, big, goal):\n",
    "    if goal % 5 == 0:\n",
    "        if 15 * (int(small)/5) + 5 * big >= goal:\n",
    "            return True\n",
    "        else:\n",
    "            return False\n",
    "    \n",
    "    if goal % 5 == 1:\n",
    "        # 3 * 2 = 6\n",
    "        if small < 2 or goal < 6:\n",
    "            return False\n",
    "        elif 15 *(int( (small-2) / 5 ) ) + 5* big >= goal -6:\n",
    "            return True\n",
    "        else:\n",
    "            return False\n",
    "                  \n",
    "    if goal % 5 == 2:\n",
    "          # 3 * 4 = 12\n",
    "        if small < 4 or goal < 12:\n",
    "              return False\n",
    "        elif 15 * (int( (small-4) / 5)) + 5 * big >= goal -12:\n",
    "            return True\n",
    "        else:\n",
    "            return False\n",
    "    \n",
    "    if goal % 5 == 3:\n",
    "          # 3 * 1 = 3\n",
    "        if small < 1 or goal < 3:\n",
    "              return False\n",
    "        elif 15 * (int( (small-1) / 5)) + 5 * big >= goal - 3:\n",
    "            return True\n",
    "        else:\n",
    "            return False\n",
    "    \n",
    "    if goal % 5 == 4:\n",
    "          # 3 * 3 = 9\n",
    "        if small < 3 or goal < 9:\n",
    "              return False\n",
    "        elif 15 * (int( (small-3) / 5)) + 5 * big >= goal -9:\n",
    "            return True\n",
    "        else:\n",
    "            return False"
   ]
  },
  {
   "cell_type": "markdown",
   "metadata": {},
   "source": [
    "# 기본함수"
   ]
  },
  {
   "cell_type": "code",
   "execution_count": 35,
   "metadata": {},
   "outputs": [],
   "source": [
    "def make_bricks_1_5(small, big, goal):\n",
    "    if goal % 5 == 0:\n",
    "        if int(small/5) + big >= int(goal/5):\n",
    "            return True\n",
    "        else:\n",
    "            return False\n",
    "    else:\n",
    "        a = goal % 5\n",
    "        if small < a:\n",
    "            return False\n",
    "        elif int((small - a)/5) + big >= int((goal - a)/5):\n",
    "            return True\n",
    "        else:\n",
    "            return False"
   ]
  },
  {
   "cell_type": "markdown",
   "metadata": {},
   "source": [
    "# 심화문제(3,5인치)"
   ]
  },
  {
   "cell_type": "markdown",
   "metadata": {},
   "source": [
    "#### for문으로 쉽게 만들기"
   ]
  },
  {
   "cell_type": "code",
   "execution_count": 4,
   "metadata": {},
   "outputs": [],
   "source": [
    "def make_bricks(small, big, goal):\n",
    "    result_list = []\n",
    "    for x in range(1, small + 1):\n",
    "        for y in range(1, big +1):\n",
    "            result_list.append(x*3 + y*5)\n",
    "    if result_list.count(goal):\n",
    "        return True\n",
    "    else:\n",
    "        return False"
   ]
  },
  {
   "cell_type": "markdown",
   "metadata": {},
   "source": [
    "#### 반복문 쓰지 않고 심화문제풀기"
   ]
  },
  {
   "cell_type": "code",
   "execution_count": 27,
   "metadata": {},
   "outputs": [],
   "source": [
    "def make_bricks(small, big, goal):\n",
    "    if goal % 5 == 0:\n",
    "        if 15 * (int(small)/5) + 5 * big >= goal:\n",
    "            return True\n",
    "        else:\n",
    "            return False\n",
    "    \n",
    "    if goal % 5 == 1:\n",
    "        # 3 * 2 = 6\n",
    "        if small < 2 or goal < 6:\n",
    "            return False\n",
    "        elif 15 *(int( (small-2) / 5 ) ) + 5* big >= goal -6:\n",
    "            return True\n",
    "        else:\n",
    "            return False\n",
    "                  \n",
    "    if goal % 5 == 2:\n",
    "          # 3 * 4 = 12\n",
    "        if small < 4 or goal < 12:\n",
    "              return False\n",
    "        elif 15 * (int( (small-4) / 5)) + 5 * big >= goal -12:\n",
    "            return True\n",
    "        else:\n",
    "            return False\n",
    "    \n",
    "    if goal % 5 == 3:\n",
    "          # 3 * 1 = 3\n",
    "        if small < 1 or goal < 3:\n",
    "              return False\n",
    "        elif 15 * (int( (small-1) / 5)) + 5 * big >= goal - 3:\n",
    "            return True\n",
    "        else:\n",
    "            return False\n",
    "    \n",
    "    if goal % 5 == 4:\n",
    "          # 3 * 3 = 9\n",
    "        if small < 3 or goal < 9:\n",
    "              return False\n",
    "        elif 15 * (int( (small-3) / 5)) + 5 * big >= goal -9:\n",
    "            return True\n",
    "        else:\n",
    "            return False"
   ]
  }
 ],
 "metadata": {
  "kernelspec": {
   "display_name": "Python 3",
   "language": "python",
   "name": "python3"
  },
  "language_info": {
   "codemirror_mode": {
    "name": "ipython",
    "version": 3
   },
   "file_extension": ".py",
   "mimetype": "text/x-python",
   "name": "python",
   "nbconvert_exporter": "python",
   "pygments_lexer": "ipython3",
   "version": "3.7.3"
  }
 },
 "nbformat": 4,
 "nbformat_minor": 2
}
