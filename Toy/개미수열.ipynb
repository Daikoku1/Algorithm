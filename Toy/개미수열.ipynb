{
 "cells": [
  {
   "cell_type": "code",
   "execution_count": null,
   "metadata": {},
   "outputs": [],
   "source": []
  },
  {
   "cell_type": "code",
   "execution_count": 9,
   "metadata": {},
   "outputs": [
    {
     "name": "stdout",
     "output_type": "stream",
     "text": [
      "[1, 1]\n"
     ]
    }
   ],
   "source": [
    "n_list = [1]\n",
    "result = []\n",
    "count = 0\n",
    "i = 0\n",
    "while i < len(n_list) -1:\n",
    "    if i == 0:\n",
    "        i += 1\n",
    "        count = 1\n",
    "\n",
    "    elif n_list[i] == n_list[i - 1]:\n",
    "        i += 1\n",
    "        count += 1\n",
    "\n",
    "    else:\n",
    "        result.append(n_list[i- 1])\n",
    "        result.append(count)\n",
    "        i += 1\n",
    "        count = 1\n",
    "\n",
    "if n_list[i] == n_list[i -1]:\n",
    "    count += 1\n",
    "    result.append(n_list[i])\n",
    "    result.append(count)\n",
    "else:\n",
    "    result.append(n_list[i-1])\n",
    "    result.append(count)\n",
    "    result.append(n_list[i])\n",
    "    result.append(1)\n",
    "n_list = result\n",
    "print(result)"
   ]
  },
  {
   "cell_type": "code",
   "execution_count": 3,
   "metadata": {
    "scrolled": true
   },
   "outputs": [
    {
     "name": "stdout",
     "output_type": "stream",
     "text": [
      "개미수열, 정수를 입력하세요5\n",
      "[1, 1]\n",
      "[1, 2]\n",
      "[1, 1, 2, 1]\n",
      "[1, 2, 2, 1, 1, 1]\n",
      "[1, 1, 2, 2, 1, 3]\n",
      "==================구분선===================\n",
      "[1, 1, 2, 2, 1, 3]\n"
     ]
    }
   ],
   "source": [
    "num = int(input('개미수열, 정수를 입력하세요'))\n",
    "n_list = [1]\n",
    "for a in range(num):\n",
    "    result = []\n",
    "    count = 0\n",
    "    i = 0\n",
    "    while i < len(n_list) -1:\n",
    "        if i == 0:\n",
    "            i += 1\n",
    "            count = 1\n",
    "\n",
    "        elif n_list[i] == n_list[i - 1]:\n",
    "            i += 1\n",
    "            count += 1\n",
    "\n",
    "        else:\n",
    "            result.append(n_list[i- 1])\n",
    "            result.append(count)\n",
    "            i += 1\n",
    "            count = 1\n",
    "\n",
    "    if n_list[i] == n_list[i -1]:\n",
    "        count += 1\n",
    "        result.append(n_list[i])\n",
    "        result.append(count)\n",
    "    else:\n",
    "        result.append(n_list[i-1])\n",
    "        result.append(count)\n",
    "        result.append(n_list[i])\n",
    "        result.append(1)\n",
    "    n_list = result\n",
    "    print(result)\n",
    "print('{0:=^40}'.format('구분선'))    \n",
    "print(result)"
   ]
  },
  {
   "cell_type": "code",
   "execution_count": 10,
   "metadata": {},
   "outputs": [
    {
     "name": "stdout",
     "output_type": "stream",
     "text": [
      "Overwriting C:\\myPyCode\\gami.py\n"
     ]
    }
   ],
   "source": [
    "%%writefile C:\\myPyCode\\gami.py\n",
    "    \n",
    "def gami_s(num):\n",
    "    n_list = [1]\n",
    "    for a in range(num):\n",
    "        result = []\n",
    "        count = 0\n",
    "        i = 0\n",
    "        while i < len(n_list) -1:\n",
    "            if i == 0:\n",
    "                i += 1\n",
    "                count = 1\n",
    "\n",
    "            elif n_list[i] == n_list[i - 1]:\n",
    "                i += 1\n",
    "                count += 1\n",
    "\n",
    "            else:\n",
    "                result.append(n_list[i- 1])\n",
    "                result.append(count)\n",
    "                i += 1\n",
    "                count = 1\n",
    "\n",
    "        if n_list[i] == n_list[i -1]:\n",
    "            count += 1\n",
    "            result.append(n_list[i])\n",
    "            result.append(count)\n",
    "        else:\n",
    "            result.append(n_list[i-1])\n",
    "            result.append(count)\n",
    "            result.append(n_list[i])\n",
    "            result.append(1)\n",
    "        n_list = result\n",
    "        print(result)\n",
    "        print('{0:=^40}'.format('구분선'))\n",
    "        \n",
    "def gami_f(num):\n",
    "    n_list = [1]\n",
    "    for a in range(num):\n",
    "        result = []\n",
    "        count = 0\n",
    "        i = 0\n",
    "        while i < len(n_list) -1:\n",
    "            if i == 0:\n",
    "                i += 1\n",
    "                count = 1\n",
    "\n",
    "            elif n_list[i] == n_list[i - 1]:\n",
    "                i += 1\n",
    "                count += 1\n",
    "\n",
    "            else:\n",
    "                result.append(n_list[i- 1])\n",
    "                result.append(count)\n",
    "                i += 1\n",
    "                count = 1\n",
    "\n",
    "        if n_list[i] == n_list[i -1]:\n",
    "            count += 1\n",
    "            result.append(n_list[i])\n",
    "            result.append(count)\n",
    "        else:\n",
    "            result.append(n_list[i-1])\n",
    "            result.append(count)\n",
    "            result.append(n_list[i])\n",
    "            result.append(1)\n",
    "        n_list = result\n",
    "    print(result)"
   ]
  },
  {
   "cell_type": "code",
   "execution_count": 11,
   "metadata": {},
   "outputs": [],
   "source": [
    "import gami"
   ]
  },
  {
   "cell_type": "code",
   "execution_count": 12,
   "metadata": {},
   "outputs": [
    {
     "name": "stdout",
     "output_type": "stream",
     "text": [
      "[1, 1, 2, 2, 1, 3]\n"
     ]
    }
   ],
   "source": [
    "gami.gami_f(5)"
   ]
  },
  {
   "cell_type": "code",
   "execution_count": 13,
   "metadata": {},
   "outputs": [
    {
     "name": "stdout",
     "output_type": "stream",
     "text": [
      "[1, 1]\n",
      "[1, 2]\n",
      "[1, 1, 2, 1]\n",
      "[1, 2, 2, 1, 1, 1]\n",
      "[1, 1, 2, 2, 1, 3]\n",
      "[1, 2, 2, 2, 1, 1, 3, 1]\n",
      "[1, 1, 2, 3, 1, 2, 3, 1, 1, 1]\n",
      "[1, 2, 2, 1, 3, 1, 1, 1, 2, 1, 3, 1, 1, 3]\n",
      "[1, 1, 2, 2, 1, 1, 3, 1, 1, 3, 2, 1, 1, 1, 3, 1, 1, 2, 3, 1]\n",
      "[1, 2, 2, 2, 1, 2, 3, 1, 1, 2, 3, 1, 2, 1, 1, 3, 3, 1, 1, 2, 2, 1, 3, 1, 1, 1]\n",
      "[1, 1, 2, 3, 1, 1, 2, 1, 3, 1, 1, 2, 2, 1, 3, 1, 1, 1, 2, 1, 1, 2, 3, 2, 1, 2, 2, 2, 1, 1, 3, 1, 1, 3]\n",
      "[1, 2, 2, 1, 3, 1, 1, 2, 2, 1, 1, 1, 3, 1, 1, 2, 2, 2, 1, 1, 3, 1, 1, 3, 2, 1, 1, 2, 2, 1, 3, 1, 2, 1, 1, 1, 2, 3, 1, 2, 3, 1, 1, 2, 3, 1]\n",
      "[1, 1, 2, 2, 1, 1, 3, 1, 1, 2, 2, 2, 1, 3, 3, 1, 1, 2, 2, 3, 1, 2, 3, 1, 1, 2, 3, 1, 2, 1, 1, 2, 2, 2, 1, 1, 3, 1, 1, 1, 2, 1, 1, 3, 2, 1, 3, 1, 1, 1, 2, 1, 3, 1, 1, 2, 2, 1, 3, 1, 1, 1]\n",
      "[1, 2, 2, 2, 1, 2, 3, 1, 1, 2, 2, 3, 1, 1, 3, 2, 1, 2, 2, 2, 3, 1, 1, 1, 2, 1, 3, 1, 1, 2, 2, 1, 3, 1, 1, 1, 2, 1, 1, 2, 2, 3, 1, 2, 3, 1, 1, 3, 2, 1, 1, 2, 3, 1, 2, 1, 1, 1, 3, 1, 1, 3, 2, 1, 1, 1, 3, 1, 1, 2, 2, 2, 1, 1, 3, 1, 1, 3]\n",
      "[1, 1, 2, 3, 1, 1, 2, 1, 3, 1, 1, 2, 2, 2, 3, 1, 1, 2, 3, 1, 2, 1, 1, 1, 2, 3, 3, 1, 1, 3, 2, 1, 1, 1, 3, 1, 1, 2, 2, 2, 1, 1, 3, 1, 1, 3, 2, 1, 1, 2, 2, 2, 3, 1, 1, 1, 2, 1, 3, 1, 1, 2, 3, 1, 2, 1, 1, 2, 2, 1, 3, 1, 1, 1, 2, 1, 1, 3, 3, 1, 1, 2, 3, 1, 2, 1, 1, 3, 3, 1, 1, 2, 2, 3, 1, 2, 3, 1, 1, 2, 3, 1]\n"
     ]
    }
   ],
   "source": [
    "gami.gami_s(15)"
   ]
  },
  {
   "cell_type": "code",
   "execution_count": 7,
   "metadata": {},
   "outputs": [
    {
     "name": "stdout",
     "output_type": "stream",
     "text": [
      "입력 해주세요:6\n",
      "11\n",
      "12\n",
      "1121\n",
      "122111\n",
      "112213\n",
      "112213\n"
     ]
    }
   ],
   "source": [
    "result = \"1\"\n",
    "output = \"\"\n",
    "num = int(input(\"입력 해주세요:\"))\n",
    "\n",
    "num -=1\n",
    "\n",
    "for i in range(num):\n",
    "    j = 0 # 현재 index\n",
    "    \n",
    "    while j < len(result):\n",
    "        now = result[j] # 현재 문자\n",
    "        count = 1\n",
    "        while j+1 < len(result) and now == result[j+1]:  # 같은 거 있는지 계속 봄.\n",
    "            count += 1 \n",
    "            j += 1\n",
    "        # 다른거면 탈출\n",
    "        output += now + str(count)\n",
    "        j += 1\n",
    "        \n",
    "    print (output)\n",
    "    \n",
    "    result = output\n",
    "    output = \"\"\n",
    "\n",
    "print(result)\n"
   ]
  },
  {
   "cell_type": "code",
   "execution_count": null,
   "metadata": {},
   "outputs": [],
   "source": []
  },
  {
   "cell_type": "code",
   "execution_count": null,
   "metadata": {},
   "outputs": [],
   "source": []
  }
 ],
 "metadata": {
  "kernelspec": {
   "display_name": "Python 3",
   "language": "python",
   "name": "python3"
  },
  "language_info": {
   "codemirror_mode": {
    "name": "ipython",
    "version": 3
   },
   "file_extension": ".py",
   "mimetype": "text/x-python",
   "name": "python",
   "nbconvert_exporter": "python",
   "pygments_lexer": "ipython3",
   "version": "3.7.3"
  }
 },
 "nbformat": 4,
 "nbformat_minor": 2
}
