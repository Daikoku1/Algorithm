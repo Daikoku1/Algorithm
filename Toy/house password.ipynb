{
 "cells": [
  {
   "cell_type": "code",
   "execution_count": 1,
   "metadata": {},
   "outputs": [
    {
     "data": {
      "text/plain": [
       "''"
      ]
     },
     "execution_count": 1,
     "metadata": {},
     "output_type": "execute_result"
    }
   ],
   "source": [
    "\"\"\"\n",
    "Stephan and Sophia forget about security and use simple passwords for everything. Help Nikola develop a password security check module. \n",
    "The password will be considered strong enough if its length is greater than or equal to 10 symbols, it has at least one digit, \n",
    "as well as containing one uppercase letter and one lowercase letter in it. The password contains only ASCII latin letters or digits.\n",
    "\n",
    "Input: A password as a string.\n",
    "\n",
    "Output: Is the password safe or not as a boolean or any data type that can be converted and processed as a boolean. In the results you will see the converted results.\n",
    "\n",
    "Example:\n",
    "\n",
    "checkio('A1213pokl') == False\n",
    "checkio('bAse730onE') == True\n",
    "checkio('asasasasasasasaas') == False\n",
    "checkio('QWERTYqwerty') == False\n",
    "checkio('123456123456') == False\n",
    "checkio('QwErTy911poqqqq') == True\n",
    "\n",
    "ref:\n",
    "https://py.checkio.org/en/mission/house-password/\n",
    "\"\"\"\n",
    "\"\""
   ]
  },
  {
   "cell_type": "markdown",
   "metadata": {},
   "source": [
    "# Daikoku's Answer"
   ]
  },
  {
   "cell_type": "code",
   "execution_count": 60,
   "metadata": {},
   "outputs": [],
   "source": [
    "def checkio(string):\n",
    "    # 특정 길이 이하의 암호 False 출력\n",
    "    if len(string) < 10:\n",
    "        return False\n",
    "    # 대문자 혹은 소문자로만 이루어진 암호 False 출력\n",
    "    # 부가적으로 암호가 숫자로만 이루어진 경우에도 False 출력\n",
    "    # 숫자로만 이루어진 경우 upper / lwoer 를 통해 문자열이 변화하지 않기 때문\n",
    "    elif string.upper() == string or string.lower() == string:\n",
    "        return False\n",
    "    # 집합의 교집합을 사용하여 숫자열을 추출함.\n",
    "    # 위에서 언급한 것처럼 숫자열은 upper / lwoer 를 통해 변화하지 않음.\n",
    "    else:\n",
    "        if len(set(string.upper()) & set(string.lower())) == 0:\n",
    "            return False\n",
    "        else:\n",
    "            return True"
   ]
  },
  {
   "cell_type": "code",
   "execution_count": 62,
   "metadata": {},
   "outputs": [
    {
     "data": {
      "text/plain": [
       "False"
      ]
     },
     "execution_count": 62,
     "metadata": {},
     "output_type": "execute_result"
    }
   ],
   "source": [
    "checkio('A1213pokl')"
   ]
  },
  {
   "cell_type": "code",
   "execution_count": 63,
   "metadata": {
    "scrolled": true
   },
   "outputs": [
    {
     "data": {
      "text/plain": [
       "True"
      ]
     },
     "execution_count": 63,
     "metadata": {},
     "output_type": "execute_result"
    }
   ],
   "source": [
    "checkio('bAse730onE')"
   ]
  },
  {
   "cell_type": "code",
   "execution_count": 64,
   "metadata": {},
   "outputs": [
    {
     "data": {
      "text/plain": [
       "False"
      ]
     },
     "execution_count": 64,
     "metadata": {},
     "output_type": "execute_result"
    }
   ],
   "source": [
    "checkio('asasasasasasasaas')"
   ]
  },
  {
   "cell_type": "code",
   "execution_count": 65,
   "metadata": {},
   "outputs": [
    {
     "data": {
      "text/plain": [
       "False"
      ]
     },
     "execution_count": 65,
     "metadata": {},
     "output_type": "execute_result"
    }
   ],
   "source": [
    "checkio('QWERTYqwerty')"
   ]
  },
  {
   "cell_type": "code",
   "execution_count": 67,
   "metadata": {},
   "outputs": [
    {
     "data": {
      "text/plain": [
       "False"
      ]
     },
     "execution_count": 67,
     "metadata": {},
     "output_type": "execute_result"
    }
   ],
   "source": [
    "checkio('123456123456')"
   ]
  },
  {
   "cell_type": "code",
   "execution_count": 68,
   "metadata": {},
   "outputs": [
    {
     "data": {
      "text/plain": [
       "True"
      ]
     },
     "execution_count": 68,
     "metadata": {},
     "output_type": "execute_result"
    }
   ],
   "source": [
    "checkio('QwErTy911poqqqq')"
   ]
  },
  {
   "cell_type": "code",
   "execution_count": null,
   "metadata": {},
   "outputs": [],
   "source": []
  },
  {
   "cell_type": "code",
   "execution_count": null,
   "metadata": {},
   "outputs": [],
   "source": []
  },
  {
   "cell_type": "code",
   "execution_count": null,
   "metadata": {},
   "outputs": [],
   "source": []
  }
 ],
 "metadata": {
  "kernelspec": {
   "display_name": "Python 3",
   "language": "python",
   "name": "python3"
  },
  "language_info": {
   "codemirror_mode": {
    "name": "ipython",
    "version": 3
   },
   "file_extension": ".py",
   "mimetype": "text/x-python",
   "name": "python",
   "nbconvert_exporter": "python",
   "pygments_lexer": "ipython3",
   "version": "3.7.3"
  }
 },
 "nbformat": 4,
 "nbformat_minor": 2
}
