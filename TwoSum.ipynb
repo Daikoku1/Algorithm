{
  "nbformat": 4,
  "nbformat_minor": 0,
  "metadata": {
    "colab": {
      "name": "TwoSum.ipynb",
      "provenance": [],
      "authorship_tag": "ABX9TyObwfOYcejVLPwwPBUQOchK",
      "include_colab_link": true
    },
    "kernelspec": {
      "name": "python3",
      "display_name": "Python 3"
    }
  },
  "cells": [
    {
      "cell_type": "markdown",
      "metadata": {
        "id": "view-in-github",
        "colab_type": "text"
      },
      "source": [
        "<a href=\"https://colab.research.google.com/github/Daikoku1/Algorithm_LeetCode/blob/master/TwoSum.ipynb\" target=\"_parent\"><img src=\"https://colab.research.google.com/assets/colab-badge.svg\" alt=\"Open In Colab\"/></a>"
      ]
    },
    {
      "cell_type": "code",
      "metadata": {
        "id": "r3PZ9ADIeQbR",
        "colab_type": "code",
        "colab": {}
      },
      "source": [
        "# 1708 ms\n",
        "# 15 MB\n",
        "def twoSum(nums, target):\n",
        "    for idx, num in enumerate(nums):\n",
        "        if target - num in nums:\n",
        "            idx2 = nums.index(target - num)\n",
        "            if idx != idx2:\n",
        "                return sorted([idx, idx2])"
      ],
      "execution_count": null,
      "outputs": []
    },
    {
      "cell_type": "code",
      "metadata": {
        "id": "pbyi7-bagKVP",
        "colab_type": "code",
        "colab": {
          "base_uri": "https://localhost:8080/",
          "height": 35
        },
        "outputId": "64bce4ed-25a0-45f8-e02e-4557bc1ce86e"
      },
      "source": [
        "nums = [3,2,4]\n",
        "target = 6\n",
        "twoSum(nums, target)"
      ],
      "execution_count": null,
      "outputs": [
        {
          "output_type": "execute_result",
          "data": {
            "text/plain": [
              "[1, 2]"
            ]
          },
          "metadata": {
            "tags": []
          },
          "execution_count": 17
        }
      ]
    },
    {
      "cell_type": "code",
      "metadata": {
        "id": "Ept_pt6OgOsI",
        "colab_type": "code",
        "colab": {}
      },
      "source": [
        "# 88 ms\n",
        "# 16 MB\n",
        "from collections import defaultdict\n",
        "def twoSum(nums, target):\n",
        "    target_dict = defaultdict(int)\n",
        "    for i in range(len(nums)):\n",
        "        if target_dict[nums[i]]:\n",
        "            return [target_dict[nums[i]] - 1, i]\n",
        "        target_dict[target - nums[i]] = i + 1"
      ],
      "execution_count": null,
      "outputs": []
    },
    {
      "cell_type": "code",
      "metadata": {
        "id": "YE3zpVQUhiHk",
        "colab_type": "code",
        "colab": {
          "base_uri": "https://localhost:8080/",
          "height": 35
        },
        "outputId": "e4f24684-8edd-4463-8b44-07eb3815dc6a"
      },
      "source": [
        "nums = [3,2,4]\n",
        "target = 6\n",
        "twoSum(nums, target)"
      ],
      "execution_count": null,
      "outputs": [
        {
          "output_type": "execute_result",
          "data": {
            "text/plain": [
              "[1, 2]"
            ]
          },
          "metadata": {
            "tags": []
          },
          "execution_count": 19
        }
      ]
    }
  ]
}