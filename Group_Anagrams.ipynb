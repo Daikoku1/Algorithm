{
  "nbformat": 4,
  "nbformat_minor": 0,
  "metadata": {
    "colab": {
      "name": "Group Anagrams.ipynb",
      "provenance": [],
      "authorship_tag": "ABX9TyNOlClu3c5ZsrSdtGAnd1IQ",
      "include_colab_link": true
    },
    "kernelspec": {
      "name": "python3",
      "display_name": "Python 3"
    }
  },
  "cells": [
    {
      "cell_type": "markdown",
      "metadata": {
        "id": "view-in-github",
        "colab_type": "text"
      },
      "source": [
        "<a href=\"https://colab.research.google.com/github/Daikoku1/Algorithm_LeetCode/blob/master/Group_Anagrams.ipynb\" target=\"_parent\"><img src=\"https://colab.research.google.com/assets/colab-badge.svg\" alt=\"Open In Colab\"/></a>"
      ]
    },
    {
      "cell_type": "code",
      "metadata": {
        "id": "__kKCbgWMGjL",
        "colab_type": "code",
        "colab": {}
      },
      "source": [
        "strs = [\"eat\", \"tea\", \"tan\", \"ate\", \"nat\", \"bat\"]"
      ],
      "execution_count": 1,
      "outputs": []
    },
    {
      "cell_type": "code",
      "metadata": {
        "id": "O2pqv_0WMIqL",
        "colab_type": "code",
        "colab": {}
      },
      "source": [
        "# 160 ms(23 %)\n",
        "from collections import Counter\n",
        "from collections import defaultdict\n",
        "import operator\n",
        "def groupAnagrams(strs):\n",
        "    dic = defaultdict(list)\n",
        "    for s in strs:\n",
        "        now = ''\n",
        "        for char, count in sorted(Counter(s).items(), key = operator.itemgetter(0)):\n",
        "            now += str(count) + char\n",
        "        dic[now] += [s]\n",
        "    return dic.values()"
      ],
      "execution_count": 28,
      "outputs": []
    },
    {
      "cell_type": "code",
      "metadata": {
        "id": "1KAW1Y3CMQi2",
        "colab_type": "code",
        "colab": {}
      },
      "source": [
        "# 132 ms(37.35%)\n",
        "def groupAnagrams(strs):\n",
        "    dic = defaultdict(list)\n",
        "\n",
        "    for s in strs:\n",
        "        dic[''.join(sorted(s))].append(s)\n",
        "    return dic.values()"
      ],
      "execution_count": 34,
      "outputs": []
    },
    {
      "cell_type": "code",
      "metadata": {
        "id": "3gFc0MhaMri9",
        "colab_type": "code",
        "colab": {
          "base_uri": "https://localhost:8080/",
          "height": 35
        },
        "outputId": "aebb8386-6067-4c36-9564-d6a0e492f3d0"
      },
      "source": [
        "s = 'eat'\n",
        "''.join(s)"
      ],
      "execution_count": 31,
      "outputs": [
        {
          "output_type": "execute_result",
          "data": {
            "application/vnd.google.colaboratory.intrinsic": {
              "type": "string"
            },
            "text/plain": [
              "'eat'"
            ]
          },
          "metadata": {
            "tags": []
          },
          "execution_count": 31
        }
      ]
    },
    {
      "cell_type": "code",
      "metadata": {
        "id": "Z8_9YRYdRBxB",
        "colab_type": "code",
        "colab": {
          "base_uri": "https://localhost:8080/",
          "height": 35
        },
        "outputId": "4afb651f-46a0-4c63-a7b4-8c889066325e"
      },
      "source": [
        "''.join(sorted(s))"
      ],
      "execution_count": 33,
      "outputs": [
        {
          "output_type": "execute_result",
          "data": {
            "application/vnd.google.colaboratory.intrinsic": {
              "type": "string"
            },
            "text/plain": [
              "'aet'"
            ]
          },
          "metadata": {
            "tags": []
          },
          "execution_count": 33
        }
      ]
    },
    {
      "cell_type": "code",
      "metadata": {
        "id": "IVaQ61NsRDJs",
        "colab_type": "code",
        "colab": {}
      },
      "source": [
        ""
      ],
      "execution_count": null,
      "outputs": []
    }
  ]
}