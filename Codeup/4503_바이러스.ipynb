{
 "cells": [
  {
   "cell_type": "code",
   "execution_count": null,
   "metadata": {},
   "outputs": [],
   "source": [
    "N = int(input())\n",
    "dic = {i : [] for i in range(1, N+1)}\n",
    "T = int(input())\n",
    "for _ in range(T):\n",
    "    c1,c2 = map(int, input().split())\n",
    "    dic[c1].append(c2)\n",
    "    dic[c2].append(c1)\n",
    "\n",
    "visited = [0] * (N+1)\n",
    "visited[1] = 1\n",
    "to_do = [1]\n",
    "ans = 0\n",
    "while to_do:\n",
    "    x = to_do.pop()\n",
    "    for nx in dic[x]:\n",
    "        if visited[nx] == 0:\n",
    "            to_do.append(nx)\n",
    "            visited[nx] = 1\n",
    "            ans += 1\n",
    "\n",
    "print(ans)"
   ]
  }
 ],
 "metadata": {
  "interpreter": {
   "hash": "9652531e86fbc99dfe7fc5092eb81081a97fad237de3d1fd3b3a0d1c69c61538"
  },
  "kernelspec": {
   "display_name": "Python 3.9.7 64-bit ('ox': conda)",
   "language": "python",
   "name": "python3"
  },
  "language_info": {
   "codemirror_mode": {
    "name": "ipython",
    "version": 3
   },
   "file_extension": ".py",
   "mimetype": "text/x-python",
   "name": "python",
   "nbconvert_exporter": "python",
   "pygments_lexer": "ipython3",
   "version": "3.9.7"
  },
  "orig_nbformat": 4
 },
 "nbformat": 4,
 "nbformat_minor": 2
}
