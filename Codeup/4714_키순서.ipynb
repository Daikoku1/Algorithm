{
 "cells": [
  {
   "cell_type": "code",
   "execution_count": null,
   "metadata": {},
   "outputs": [],
   "source": [
    "N = int(input())\n",
    "M = int(input())\n",
    "big = {i : set() for i in range(1, N+1)}\n",
    "short = {i : set() for i in range(1, N+1)}\n",
    "for _ in range(M):\n",
    "    x, y = map(int, input().split())\n",
    "    short[y].add(x)\n",
    "    big[x].add(y)\n",
    "\n",
    "for i in range(1, N + 1):\n",
    "    for x in short[i]:\n",
    "        big[x].update(big[i])\n",
    "    for y in big[i]:\n",
    "        short[y].update(short[i])\n",
    "\n",
    "answer = 0\n",
    "for j in range(1, N + 1):\n",
    "    if len(big[j]) + len(short[j]) == N - 1 : answer += 1\n",
    "\n",
    "print(answer)"
   ]
  }
 ],
 "metadata": {
  "interpreter": {
   "hash": "19c4bd4a8c3153e8f6fe1d4aa29847b7593bdeb075f08f949f70b00c677d2ba0"
  },
  "kernelspec": {
   "display_name": "Python 3.10.0 64-bit",
   "language": "python",
   "name": "python3"
  },
  "language_info": {
   "codemirror_mode": {
    "name": "ipython",
    "version": 3
   },
   "file_extension": ".py",
   "mimetype": "text/x-python",
   "name": "python",
   "nbconvert_exporter": "python",
   "pygments_lexer": "ipython3",
   "version": "3.10.0"
  },
  "orig_nbformat": 4
 },
 "nbformat": 4,
 "nbformat_minor": 2
}
