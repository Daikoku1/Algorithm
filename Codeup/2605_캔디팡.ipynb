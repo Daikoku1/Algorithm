{
 "cells": [
  {
   "cell_type": "code",
   "execution_count": 1,
   "metadata": {},
   "outputs": [
    {
     "name": "stdout",
     "output_type": "stream",
     "text": [
      "4\n"
     ]
    }
   ],
   "source": [
    "# 27724 KB, 16 ms\n",
    "arr = [input().split() for _ in range(7)]\n",
    "answer = 0\n",
    "for i in range(7):\n",
    "    for j in range(7):\n",
    "        if arr[i][j] != '0':\n",
    "            t, arr[i][j] = arr[i][j], 0\n",
    "            number = 1\n",
    "            to_do = [[i,j]]\n",
    "            while to_do:\n",
    "                x, y = to_do.pop()\n",
    "                if x > 0 and arr[x-1][y] == t: \n",
    "                    to_do.append([x-1,y])\n",
    "                    arr[x-1][y] = '0'\n",
    "                    number += 1\n",
    "                if x < 6 and arr[x+1][y] == t: \n",
    "                    to_do.append([x+1,y])\n",
    "                    arr[x+1][y] = '0'\n",
    "                    number += 1\n",
    "                if y > 0 and arr[x][y-1] == t: \n",
    "                    to_do.append([x,y-1])\n",
    "                    arr[x][y-1] = '0'\n",
    "                    number += 1\n",
    "                if y < 6 and arr[x][y+1] == t: \n",
    "                    to_do.append([x,y+1])\n",
    "                    arr[x][y+1] = '0'\n",
    "                    number += 1\n",
    "\n",
    "            if number >= 3: answer += 1\n",
    "\n",
    "print(answer)"
   ]
  }
 ],
 "metadata": {
  "interpreter": {
   "hash": "9652531e86fbc99dfe7fc5092eb81081a97fad237de3d1fd3b3a0d1c69c61538"
  },
  "kernelspec": {
   "display_name": "Python 3.9.7 64-bit ('ox': conda)",
   "language": "python",
   "name": "python3"
  },
  "language_info": {
   "codemirror_mode": {
    "name": "ipython",
    "version": 3
   },
   "file_extension": ".py",
   "mimetype": "text/x-python",
   "name": "python",
   "nbconvert_exporter": "python",
   "pygments_lexer": "ipython3",
   "version": "3.9.7"
  },
  "orig_nbformat": 4
 },
 "nbformat": 4,
 "nbformat_minor": 2
}
