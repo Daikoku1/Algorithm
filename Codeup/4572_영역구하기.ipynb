{
 "cells": [
  {
   "cell_type": "code",
   "execution_count": 4,
   "metadata": {},
   "outputs": [
    {
     "name": "stdout",
     "output_type": "stream",
     "text": [
      "[[1, 0, 0, 0, 0, 0, 1, 1], [1, 0, 0, 0, 0, 1, 1, 1], [1, 1, 1, 1, 0, 1, 1, 1], [1, 1, 1, 1, 0, 1, 1, 1], [1, 1, 1, 1, 1, 1, 1, 1]]\n",
      "-------\n",
      "0 0\n",
      "[[1, 0, 0, 0, 0, 0, 1, 1], [1, 0, 0, 0, 0, 1, 1, 1], [1, 1, 1, 1, 0, 1, 1, 1], [1, 1, 1, 1, 0, 1, 1, 1], [1, 1, 1, 1, 1, 1, 1, 1]]\n",
      "1\n",
      "29\n"
     ]
    }
   ],
   "source": [
    "# 27852 KB, 54 ms\n",
    "N, M, K = map(int, input().split())\n",
    "arr = [[1] * M for _ in range(N)]\n",
    "for _ in range(K):\n",
    "    y1,x1, y2,x2 = map(int, input().split())\n",
    "    for x in range(x1, x2):\n",
    "        for y in range(y1, y2):\n",
    "            arr[x][y] = 0\n",
    "ans = []\n",
    "for i in range(N):\n",
    "    for j in range(M):\n",
    "        if arr[i][j]:\n",
    "            area = 1\n",
    "            arr[i][j] = 0\n",
    "            to_do = [[i,j]]\n",
    "            while to_do:\n",
    "                nx, ny = to_do.pop()    \n",
    "                if nx > 0 and arr[nx-1][ny]:\n",
    "                    to_do.append([nx-1,ny])\n",
    "                    arr[nx-1][ny] = 0\n",
    "                    area += 1\n",
    "                if nx < N - 1 and arr[nx+1][ny]:\n",
    "                    to_do.append([nx+1,ny])\n",
    "                    arr[nx+1][ny] = 0\n",
    "                    area += 1\n",
    "                if ny > 0 and arr[nx][ny-1]:\n",
    "                    to_do.append([nx,ny-1])\n",
    "                    arr[nx][ny-1] = 0\n",
    "                    area += 1\n",
    "                if ny < M - 1 and arr[nx][ny+1]:\n",
    "                    to_do.append([nx,ny+1])\n",
    "                    arr[nx][ny+1] = 0\n",
    "                    area += 1\n",
    "            ans.append(area)\n",
    "\n",
    "print(len(ans))\n",
    "print(*sorted(ans))"
   ]
  }
 ],
 "metadata": {
  "interpreter": {
   "hash": "9652531e86fbc99dfe7fc5092eb81081a97fad237de3d1fd3b3a0d1c69c61538"
  },
  "kernelspec": {
   "display_name": "Python 3.9.7 64-bit ('ox': conda)",
   "language": "python",
   "name": "python3"
  },
  "language_info": {
   "codemirror_mode": {
    "name": "ipython",
    "version": 3
   },
   "file_extension": ".py",
   "mimetype": "text/x-python",
   "name": "python",
   "nbconvert_exporter": "python",
   "pygments_lexer": "ipython3",
   "version": "3.9.7"
  },
  "orig_nbformat": 4
 },
 "nbformat": 4,
 "nbformat_minor": 2
}
