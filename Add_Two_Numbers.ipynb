{
  "nbformat": 4,
  "nbformat_minor": 0,
  "metadata": {
    "colab": {
      "name": "Add Two Numbers.ipynb",
      "provenance": [],
      "authorship_tag": "ABX9TyMZkkSXn6LIFzgvXxEDtgm7",
      "include_colab_link": true
    },
    "kernelspec": {
      "name": "python3",
      "display_name": "Python 3"
    }
  },
  "cells": [
    {
      "cell_type": "markdown",
      "metadata": {
        "id": "view-in-github",
        "colab_type": "text"
      },
      "source": [
        "<a href=\"https://colab.research.google.com/github/Daikoku1/Algorithm_LeetCode/blob/master/Add_Two_Numbers.ipynb\" target=\"_parent\"><img src=\"https://colab.research.google.com/assets/colab-badge.svg\" alt=\"Open In Colab\"/></a>"
      ]
    },
    {
      "cell_type": "code",
      "metadata": {
        "id": "OgjwGnylqB-P",
        "colab_type": "code",
        "colab": {}
      },
      "source": [
        "# 성공 코드. 숫자 배열을 계속 바꾸네;\n",
        "# 속도가 느린거 같아요;\n",
        "\n",
        "# Definition for singly-linked list.\n",
        "# class ListNode:\n",
        "#     def __init__(self, val=0, next=None):\n",
        "#         self.val = val\n",
        "#         self.next = next\n",
        "class Solution:\n",
        "    def make_number(self, list_node):\n",
        "        answer = list_node.val\n",
        "        n = 1\n",
        "        while list_node.next:\n",
        "            list_node = list_node.next\n",
        "            answer += list_node.val * 10**n\n",
        "            n += 1\n",
        "        return answer\n",
        "    def addTwoNumbers(self, l1: ListNode, l2: ListNode) -> ListNode:\n",
        "        num1 = self.make_number(l1)\n",
        "        num2 = self.make_number(l2)\n",
        "        answer = str(num1 + num2)\n",
        "\n",
        "        l3 = ListNode()\n",
        "        now = l3\n",
        "        now.val = answer[-1]\n",
        "            \n",
        "        idx = len(answer) -1\n",
        "        while idx > 0:\n",
        "            idx -= 1\n",
        "            now.next = ListNode()\n",
        "            now = now.next\n",
        "            now.val = answer[idx]\n",
        "\n",
        "        return l3"
      ],
      "execution_count": 1,
      "outputs": []
    },
    {
      "cell_type": "code",
      "metadata": {
        "id": "gwm6PhNjp-dS",
        "colab_type": "code",
        "colab": {}
      },
      "source": [
        "# 고넘이 고넘일세....\n",
        "\n",
        "# Definition for singly-linked list.\n",
        "# class ListNode:\n",
        "#     def __init__(self, val=0, next=None):\n",
        "#         self.val = val\n",
        "#         self.next = next\n",
        "class Solution:\n",
        "    def addTwoNumbers(self, l1: ListNode, l2: ListNode) -> ListNode:\n",
        "        l3 = ListNode()\n",
        "        now = l3\n",
        "\n",
        "        sum_val = l1.val + l2.val\n",
        "        over, now.val = divmod(sum_val, 10)\n",
        "        \n",
        "        while l1.next and l2.next:\n",
        "            l1 = l1.next\n",
        "            l2 = l2.next\n",
        "\n",
        "            now.next = ListNode()\n",
        "            now = now.next\n",
        "            \n",
        "            sum_val = over + l1.val + l2.val\n",
        "            over, now.val = divmod(sum_val, 10)\n",
        "        \n",
        "        # l1 still exist\n",
        "        while l1.next:\n",
        "            l1 = l1.next\n",
        "\n",
        "            now.next = ListNode()\n",
        "            now = now.next\n",
        "            \n",
        "            sum_val = over + l1.val\n",
        "            over, now.val = divmod(sum_val, 10)\n",
        "            \n",
        "        # l2 exists\n",
        "        while l2.next:\n",
        "            l2 = l2.next\n",
        "\n",
        "            now.next = ListNode()\n",
        "            now = now.next\n",
        "            \n",
        "            sum_val = over + l2.val\n",
        "            over, now.val = divmod(sum_val, 10)\n",
        "        \n",
        "        if over > 0:\n",
        "            now.next = ListNode()\n",
        "            now = now.next\n",
        "\n",
        "            now.val = over\n",
        "            \n",
        "        return l3"
      ],
      "execution_count": null,
      "outputs": []
    }
  ]
}