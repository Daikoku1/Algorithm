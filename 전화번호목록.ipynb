{
  "nbformat": 4,
  "nbformat_minor": 0,
  "metadata": {
    "colab": {
      "name": "전화번호목록.ipynb",
      "provenance": [],
      "authorship_tag": "ABX9TyPzbbBE+Wb6QuYqi3abAvjr",
      "include_colab_link": true
    },
    "kernelspec": {
      "name": "python3",
      "display_name": "Python 3"
    }
  },
  "cells": [
    {
      "cell_type": "markdown",
      "metadata": {
        "id": "view-in-github",
        "colab_type": "text"
      },
      "source": [
        "<a href=\"https://colab.research.google.com/github/Daikoku1/Algorithm_Programmers/blob/master/%EC%A0%84%ED%99%94%EB%B2%88%ED%98%B8%EB%AA%A9%EB%A1%9D.ipynb\" target=\"_parent\"><img src=\"https://colab.research.google.com/assets/colab-badge.svg\" alt=\"Open In Colab\"/></a>"
      ]
    },
    {
      "cell_type": "code",
      "metadata": {
        "id": "YvMlRBBtHJEp",
        "colab_type": "code",
        "colab": {}
      },
      "source": [
        "# max_time = 14 ms\n",
        "import re\n",
        "def solution(phone_book):\n",
        "    for i in phone_book:\n",
        "        cnt = 0\n",
        "        for j in phone_book:\n",
        "            if re.match(i, j) != None:\n",
        "                cnt += 1\n",
        "        if cnt >= 2:\n",
        "            return False\n",
        "    return True"
      ],
      "execution_count": null,
      "outputs": []
    },
    {
      "cell_type": "code",
      "metadata": {
        "id": "vD4RxDKAHOGC",
        "colab_type": "code",
        "colab": {
          "base_uri": "https://localhost:8080/",
          "height": 33
        },
        "outputId": "44a3833d-02fe-4bee-c86b-77dcbf89dd53"
      },
      "source": [
        "# max_time = 1.90 ms\n",
        "def solution(phone_book):\n",
        "    phone_book.sort(key = lambda x : len(x))\n",
        "    total = len(phone_book)\n",
        "    for idx, val in enumerate(phone_book):\n",
        "        length = len(val)\n",
        "        for j in range(idx+1, total):\n",
        "            if val == phone_book[j][:length]:\n",
        "                return False\n",
        "    \n",
        "    return True"
      ],
      "execution_count": null,
      "outputs": [
        {
          "output_type": "execute_result",
          "data": {
            "text/plain": [
              "['12', '88', '123', '567', '1235']"
            ]
          },
          "metadata": {
            "tags": []
          },
          "execution_count": 1
        }
      ]
    },
    {
      "cell_type": "code",
      "metadata": {
        "id": "uQU88ZMAJsrT",
        "colab_type": "code",
        "colab": {}
      },
      "source": [
        "# max_time = 0.92 ms\n",
        "def solution(phone_book):\n",
        "    dic = {}\n",
        "    for phone_number in phone_book:\n",
        "        hash_map[phone_number] = 1\n",
        "    \n",
        "    for phone_number in phone_book:\n",
        "        temp = \"\"\n",
        "        for number in phone_number:\n",
        "            temp += number\n",
        "            if temp in hash_map and temp != phone_number:\n",
        "                return False\n",
        "    return True"
      ],
      "execution_count": null,
      "outputs": []
    }
  ]
}